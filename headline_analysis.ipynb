{
 "cells": [
  {
   "cell_type": "markdown",
   "id": "partial-analysis",
   "metadata": {},
   "source": [
    "## Basic analysis of headlines #1"
   ]
  },
  {
   "cell_type": "markdown",
   "id": "equal-toilet",
   "metadata": {},
   "source": [
    "In this task we are going to use the Paraphraser dataset to do basic text analysis operations on news headlines.\n",
    "The dataset is a large .json file.\n",
    "\n"
   ]
  },
  {
   "cell_type": "markdown",
   "id": "plastic-pittsburgh",
   "metadata": {},
   "source": [
    "### Getting the dataset"
   ]
  },
  {
   "cell_type": "code",
   "execution_count": 3,
   "id": "blocked-hungarian",
   "metadata": {},
   "outputs": [],
   "source": [
    "from os import remove\n",
    "from shutil import copyfileobj\n",
    "import zipfile\n",
    "import requests\n",
    "\n",
    "def download_file(url):\n",
    "    compressed_dataset = 'Headlines.zip'\n",
    "    with requests.get(url, stream=True) as r:\n",
    "        with open(compressed_dataset, 'wb') as f:\n",
    "            copyfileobj(r.raw, f)\n",
    "            \n",
    "    archive = zipfile.ZipFile(compressed_dataset)\n",
    "    for file in archive.namelist():\n",
    "        if file.endswith('.json'):\n",
    "            archive.extract(file)\n",
    "            archive.close() # close file\n",
    "            os.remove(compressed_dataset) \n",
    "    return file"
   ]
  },
  {
   "cell_type": "code",
   "execution_count": null,
   "id": "presidential-repository",
   "metadata": {},
   "outputs": [],
   "source": [
    "# download_file('http://paraphraser.ru/download/get?file_id=7')"
   ]
  },
  {
   "cell_type": "markdown",
   "id": "binary-newton",
   "metadata": {},
   "source": [
    "### Getting familiar with data"
   ]
  },
  {
   "cell_type": "code",
   "execution_count": 5,
   "id": "express-investor",
   "metadata": {},
   "outputs": [],
   "source": [
    "import json\n",
    "with open(\"ParaPhraserPlus/ParaPhraserPlus.json\") as data_set:\n",
    "    HEADLINE_SET = json.load(data_set)"
   ]
  },
  {
   "cell_type": "code",
   "execution_count": 6,
   "id": "thorough-emperor",
   "metadata": {},
   "outputs": [
    {
     "data": {
      "text/plain": [
       "dict_keys(['rubric', 'date', 'headlines'])"
      ]
     },
     "execution_count": 6,
     "metadata": {},
     "output_type": "execute_result"
    }
   ],
   "source": [
    "HEADLINE_SET['0'].keys()"
   ]
  },
  {
   "cell_type": "code",
   "execution_count": 7,
   "id": "charming-forty",
   "metadata": {},
   "outputs": [
    {
     "data": {
      "text/plain": [
       "('0',\n",
       " {'rubric': 'общество',\n",
       "  'date': '2019/01/02',\n",
       "  'headlines': ['Птичий праздник: Что такое \"куриное рождество\" и кто его отмечает',\n",
       "   'Куриное Рождество в 2019 году: что это за праздник и как стать его главным героем']})"
      ]
     },
     "execution_count": 7,
     "metadata": {},
     "output_type": "execute_result"
    }
   ],
   "source": [
    "list(HEADLINE_SET.items())[0]"
   ]
  },
  {
   "cell_type": "code",
   "execution_count": 8,
   "id": "capable-buffalo",
   "metadata": {},
   "outputs": [
    {
     "data": {
      "text/plain": [
       "['Птичий праздник: Что такое \"куриное рождество\" и кто его отмечает',\n",
       " 'Куриное Рождество в 2019 году: что это за праздник и как стать его главным героем']"
      ]
     },
     "execution_count": 8,
     "metadata": {},
     "output_type": "execute_result"
    }
   ],
   "source": [
    "list(HEADLINE_SET.items())[0][1]['headlines']"
   ]
  },
  {
   "cell_type": "code",
   "execution_count": 9,
   "id": "practical-malta",
   "metadata": {},
   "outputs": [
    {
     "data": {
      "text/plain": [
       "1725393"
      ]
     },
     "execution_count": 9,
     "metadata": {},
     "output_type": "execute_result"
    }
   ],
   "source": [
    "len(HEADLINE_SET)"
   ]
  },
  {
   "cell_type": "markdown",
   "id": "french-privacy",
   "metadata": {},
   "source": [
    "### Starting the stage of analysis"
   ]
  },
  {
   "cell_type": "code",
   "execution_count": 10,
   "id": "comprehensive-silence",
   "metadata": {},
   "outputs": [
    {
     "name": "stderr",
     "output_type": "stream",
     "text": [
      "[nltk_data] Downloading package stopwords to /home/aliak/nltk_data...\n",
      "[nltk_data]   Package stopwords is already up-to-date!\n",
      "[nltk_data] Downloading package averaged_perceptron_tagger to\n",
      "[nltk_data]     /home/aliak/nltk_data...\n",
      "[nltk_data]   Package averaged_perceptron_tagger is already up-to-\n",
      "[nltk_data]       date!\n"
     ]
    },
    {
     "data": {
      "text/plain": [
       "True"
      ]
     },
     "execution_count": 10,
     "metadata": {},
     "output_type": "execute_result"
    }
   ],
   "source": [
    "import json\n",
    "import nltk, razdel\n",
    "from nltk.corpus import stopwords\n",
    "from pymystem3 import Mystem\n",
    "import string\n",
    "import numpy as np\n",
    "import pandas as pd\n",
    "import matplotlib.pyplot as plt\n",
    "import seaborn as sns\n",
    "\n",
    "# Download nltk packages used in this example\n",
    "nltk.download('stopwords')\n",
    "nltk.download('averaged_perceptron_tagger')"
   ]
  },
  {
   "cell_type": "code",
   "execution_count": 11,
   "id": "reserved-liberia",
   "metadata": {},
   "outputs": [],
   "source": [
    "# Customize list of stopwords as needed. Here, we add common\n",
    "# punctuation and contraction artifacts.\n",
    "punctuations = list(string.punctuation)\n",
    "stop_words = stopwords.words('russian') + punctuations"
   ]
  },
  {
   "cell_type": "code",
   "execution_count": 170,
   "id": "instructional-guatemala",
   "metadata": {},
   "outputs": [],
   "source": [
    "#Create lemmatizer and stopwords list\n",
    "mystem = Mystem()\n",
    "#Preprocess function\n",
    "def preprocess_text(text):\n",
    "    tokens = mystem.lemmatize(text.lower())\n",
    "    tokens = [token for token in tokens if token not in stop_words\\\n",
    "              and token != \" \" \\\n",
    "              and token.strip() not in punctuations]\n",
    "    \n",
    "    text = \" \".join(tokens)\n",
    "    \n",
    "    return [word for word in text.split(' ')]"
   ]
  },
  {
   "cell_type": "code",
   "execution_count": 139,
   "id": "copyrighted-poster",
   "metadata": {},
   "outputs": [],
   "source": [
    "def _score_sentences(sentences, important_words):\n",
    "    N = 3  # Number of words to consider\n",
    "    CLUSTER_DIST = 3  # Distance between words to consider\n",
    "    scores = []\n",
    "    sentence_idx = -1\n",
    "\n",
    "    for s in [nltk.tokenize.word_tokenize(s) for s in sentences]:\n",
    "\n",
    "        sentence_idx += 1\n",
    "        word_idx = []\n",
    "\n",
    "        # For each word in the word list...\n",
    "        for w in important_words:\n",
    "            try:\n",
    "                # Compute an index for where any important words occur in the sentence.\n",
    "\n",
    "                word_idx.append(s.index(w[0]))\n",
    "            except ValueError: # w not in this particular sentence\n",
    "                pass\n",
    "\n",
    "        word_idx.sort()\n",
    "\n",
    "        # It is possible that some sentences may not contain any important words at all.\n",
    "        if len(word_idx)== 0: continue\n",
    "\n",
    "        # Using the word index, compute clusters by using a max distance threshold\n",
    "        # for any two consecutive words.\n",
    "\n",
    "        clusters = []\n",
    "        cluster = [word_idx[0]]\n",
    "        i = 1\n",
    "        while i < len(word_idx):\n",
    "            if word_idx[i] - word_idx[i - 1] < CLUSTER_DIST:\n",
    "                cluster.append(word_idx[i])\n",
    "            else:\n",
    "                clusters.append(cluster[:])\n",
    "                cluster = [word_idx[i]]\n",
    "            i += 1\n",
    "        clusters.append(cluster)\n",
    "\n",
    "        # Score each cluster. The max score for any given cluster is the score \n",
    "        # for the sentence.\n",
    "\n",
    "        max_cluster_score = 0\n",
    "        for c in clusters:\n",
    "            significant_words_in_cluster = len(c)\n",
    "            total_words_in_cluster = c[-1] - c[0] + 1\n",
    "            score = 1.0 * significant_words_in_cluster \\\n",
    "                * significant_words_in_cluster / total_words_in_cluster\n",
    "\n",
    "            if score > max_cluster_score:\n",
    "                max_cluster_score = score\n",
    "\n",
    "        scores.append((sentence_idx, score))\n",
    "\n",
    "    return scores"
   ]
  },
  {
   "cell_type": "code",
   "execution_count": 171,
   "id": "ready-investor",
   "metadata": {},
   "outputs": [],
   "source": [
    "%matplotlib inline\n",
    "import warnings\n",
    "from IPython.display import display\n",
    "warnings.filterwarnings(\"ignore\")\n",
    "\n",
    "def headline_stats_by_article(article_num):\n",
    "    sentences = []\n",
    "    tokens = []\n",
    "    \n",
    "    rubric = list(HEADLINE_SET.items())[article_num][1]['rubric']\n",
    "    headlines = list(HEADLINE_SET.items())[article_num][1]['headlines']\n",
    "    \n",
    "    sentences += [_.text for each_headline in headlines for _ in razdel.sentenize(each_headline)]\n",
    "    tokens += [token.text.lower() for sentence in sentences \n",
    "               for token in razdel.tokenize(sentence)]\n",
    "        \n",
    "    corpus = [word for word in tokens if word[0] not in stop_words]\n",
    "    # Basic stats\n",
    "    fdist = nltk.FreqDist(corpus)\n",
    "\n",
    "    num_words = sum([i for i in fdist.values()])\n",
    "    num_unique_words = len(fdist.items())\n",
    "\n",
    "    average_word_length = round(sum(len(word) for word in corpus) / len(corpus), 2)\n",
    "    max_word_length = np.max(np.array([len(word) for word in corpus]))\n",
    "    average_sentence_length = round(len(corpus) / len(sentences), 2)\n",
    "\n",
    "    # Hapaxes are words that appear only once\n",
    "    num_hapaxes = len(fdist.hapaxes())\n",
    "\n",
    "    top_10_words = fdist.most_common(10)\n",
    "    normalized_sentences = [s.lower() for s in sentences]\n",
    "    TOP_SENTENCES = 5  # Number of sentences to return for a \"top n\" summary\n",
    "    scored_sentences = _score_sentences(normalized_sentences, top_10_words)\n",
    "\n",
    "    # Summarization Approach 1:\n",
    "    # Filter out nonsignificant sentences by using the average score plus a\n",
    "    # fraction of the std dev as a filter\n",
    "\n",
    "    avg = np.mean([s[1] for s in scored_sentences])\n",
    "    std = np.std([s[1] for s in scored_sentences])\n",
    "    mean_scored = [(sent_idx, score) for (sent_idx, score) in scored_sentences\n",
    "                   if score > avg + 0.5 * std]\n",
    "\n",
    "    # Summarization Approach 2:\n",
    "    # Another approach would be to return only the top N ranked sentences\n",
    "\n",
    "    top_n_scored = sorted(scored_sentences, key=lambda s: s[1])[-TOP_SENTENCES:]\n",
    "    top_n_scored = sorted(top_n_scored, key=lambda s: s[0])\n",
    "\n",
    "        \n",
    "    print(\"---------------------Article {%d}-----------------------\" % article_num)\n",
    "    print(rubric)\n",
    "    print('\\tMaximum word length in headline:'.ljust(25), max_word_length)\n",
    "    print('\\tAverage length of a word (letterwise):'.ljust(25), average_word_length)\n",
    "    print('\\tAverage length headline length(wordwise):'.ljust(25), average_sentence_length)\n",
    "    print('\\tNum Sentences:'.ljust(25), len(sentences))\n",
    "    print('\\tNum Words:'.ljust(25), num_words)\n",
    "    print('\\tNum Unique Words:'.ljust(25), num_unique_words)\n",
    "    print('\\tNum Hapaxes:'.ljust(25), num_hapaxes)\n",
    "    print('\\tTop 10 Most Frequent Words (stop words):\\n\\t\\t', \\\n",
    "            '\\n\\t\\t'.join(['%s (%s)'\n",
    "            % (w[0], w[1]) for w in top_10_words]))\n",
    "    print(\"-------------------------------------------------------\")\n",
    "    print(\"-------HEADLINES(Picked/blue -- original/black)--------\")\n",
    "    top_n_summary=[sentences[idx] for (idx, score) in top_n_scored]\n",
    "    mean_scored_summary=[sentences[idx] for (idx, score) in mean_scored]\n",
    "    for sen in sentences:\n",
    "        if (sen) in set(mean_scored_summary and top_n_summary):\n",
    "            print(\"\\x1b[94m\"+sen+\"\\x1b[0m\"+\"\\t\")\n",
    "        else:\n",
    "            print(sen)\n",
    "    print(\"-------------------------------------------------------\")\n",
    "    for (idx, score) in mean_scored:\n",
    "        print(sentences[idx], score)\n",
    "    print(\"------------------------------------------------------\")\n",
    "    print(\"-------------------Lemmatized text--------------------\")\n",
    "    print(\"------------------------------------------------------\")\n",
    "    for sentence in sentences:\n",
    "        print(\"Original==>\\t\"+sentence)\n",
    "        print(\"Preprocessed==>\\t\"+\"\\x1b[35m\" +' '.join(preprocess_text((sentence))) +\"\\x1b[0m\")\n",
    "    print(\"-----------------------------------------------------\")\n",
    "    data = []\n",
    "\n",
    "    for word,freq in fdist.most_common(10):\n",
    "        data.append({'Word':word,'Frequency':freq})\n",
    "\n",
    "    df = pd.DataFrame(data)\n",
    "\n",
    "    # Create a bar graph with the most commonly used descriptors\n",
    "    df['Word']=df['Word'].str.capitalize()\n",
    "    \n",
    "    fig, axes = plt.subplots(nrows=1, ncols=2)\n",
    "    df.plot(kind='barh', x='Word',y='Frequency', ax=axes[0], figsize=(15,5),color='#cb101c')\n",
    "    df.plot(kind='line', x='Word',y='Frequency', ax=axes[1], figsize=(15,5))\n",
    "\n",
    "    \n",
    "    pos_tagged_tokens = [nltk.pos_tag(t) for t in tokens]\n",
    "\n",
    "    # Flatten the list since we're not using sentence structure\n",
    "    # and sentences are guaranteed to be separated by a special\n",
    "    # POS tuple such as ('.', '.')\n",
    "\n",
    "    pos_tagged_tokens = [token for sent in pos_tagged_tokens for token in sent]\n",
    "\n",
    "    all_entity_chunks = []\n",
    "    previous_pos = None\n",
    "    current_entity_chunk = []\n",
    "    for (token, pos) in pos_tagged_tokens:\n",
    "\n",
    "        if pos == previous_pos and pos.startswith('NN'):\n",
    "            current_entity_chunk.append(token)\n",
    "        elif pos.startswith('NN'):\n",
    "            if current_entity_chunk != []:\n",
    "\n",
    "                # Note that current_entity_chunk could be a duplicate when appended,\n",
    "                # so frequency analysis again becomes a consideration\n",
    "\n",
    "                all_entity_chunks.append((' '.join(current_entity_chunk), pos))\n",
    "            current_entity_chunk = [token]\n",
    "\n",
    "        previous_pos = pos\n",
    "\n",
    "    # Store the chunks as an index for the document\n",
    "    # and account for frequency while we're at it...\n",
    "\n",
    "#     article_headlines = {}\n",
    "#     for c in all_entity_chunks:\n",
    "#         article_headlines['entities'][c] = article_headlines['entities'].get(c, 0) + 1\n",
    "\n",
    "#     # For example, we could display just the title-cased entities\n",
    "\n",
    "#     proper_nouns = []\n",
    "#     for (entity, pos) in article_headlines['entities']:\n",
    "#         if entity.istitle():\n",
    "#             print('\\t%s (%s)' % (entity, article_headlines['entities'][(entity, pos)]))\n"
   ]
  },
  {
   "cell_type": "code",
   "execution_count": 172,
   "id": "occupational-belize",
   "metadata": {},
   "outputs": [
    {
     "name": "stdout",
     "output_type": "stream",
     "text": [
      "---------------------Article {25}-----------------------\n",
      "общество\n",
      "\tMaximum word length in headline: 16\n",
      "\tAverage length of a word (letterwise): 7.16\n",
      "\tAverage length headline length(wordwise): 5.55\n",
      "\tNum Sentences:           11\n",
      "\tNum Words:               61\n",
      "\tNum Unique Words:        21\n",
      "\tNum Hapaxes:             15\n",
      "\tTop 10 Most Frequent Words (stop words):\n",
      "\t\t whatsapp (11)\n",
      "\t\tна (11)\n",
      "\t\tнекоторых (9)\n",
      "\t\tработать (7)\n",
      "\t\tперестанет (5)\n",
      "\t\tтелефонах (3)\n",
      "\t\tмессенджер (1)\n",
      "\t\tнового (1)\n",
      "\t\tгода (1)\n",
      "\t\tнедоступен (1)\n",
      "-------------------------------------------------------\n",
      "-------HEADLINES(Picked/blue -- original/black)--------\n",
      "\u001b[94mМессенджер WhatsApp перестанет работать на некоторых телефонах\u001b[0m\t\n",
      "\u001b[94mWhatsApp с нового года недоступен на некоторых телефонах\u001b[0m\t\n",
      "\u001b[94mWhatsApp перестанет работать на некоторых смартфонах с января\u001b[0m\t\n",
      "WhatsApp прекращает работу на некоторых операционных системах\n",
      "WhatsApp перестал работать на некоторых смартфонах\n",
      "Эксперт прокомментировал прекращение работы WhatsApp на ряде устройств\n",
      "WhatsApp не будет работать на устаревших смартфонах\n",
      "На некоторых телефонах отключится WhatsApp\n",
      "WhatsApp с января перестанет работать на некоторых смартфонах\n",
      "\u001b[94mС января WhatsApp перестанет работать на некоторых смартфонах\u001b[0m\t\n",
      "\u001b[94mWhatsApp перестанет работать на некоторых гаджетах\u001b[0m\t\n",
      "-------------------------------------------------------\n",
      "Мессенджер WhatsApp перестанет работать на некоторых телефонах 7.0\n",
      "WhatsApp с нового года недоступен на некоторых телефонах 6.125\n",
      "WhatsApp перестанет работать на некоторых смартфонах с января 5.0\n",
      "С января WhatsApp перестанет работать на некоторых смартфонах 5.0\n",
      "WhatsApp перестанет работать на некоторых гаджетах 5.0\n",
      "------------------------------------------------------\n",
      "-------------------Lemmatized text--------------------\n",
      "------------------------------------------------------\n",
      "Original==>\tМессенджер WhatsApp перестанет работать на некоторых телефонах\n",
      "Preprocessed==>\t\u001b[35mмессенджер whatsapp переставать работать некоторый телефон \n",
      "\u001b[0m\n",
      "Original==>\tWhatsApp с нового года недоступен на некоторых телефонах\n",
      "Preprocessed==>\t\u001b[35mwhatsapp новый год недоступный некоторый телефон \n",
      "\u001b[0m\n",
      "Original==>\tWhatsApp перестанет работать на некоторых смартфонах с января\n",
      "Preprocessed==>\t\u001b[35mwhatsapp переставать работать некоторый смартфон январь \n",
      "\u001b[0m\n",
      "Original==>\tWhatsApp прекращает работу на некоторых операционных системах\n",
      "Preprocessed==>\t\u001b[35mwhatsapp прекращать работа некоторый операционный система \n",
      "\u001b[0m\n",
      "Original==>\tWhatsApp перестал работать на некоторых смартфонах\n",
      "Preprocessed==>\t\u001b[35mwhatsapp переставать работать некоторый смартфон \n",
      "\u001b[0m\n",
      "Original==>\tЭксперт прокомментировал прекращение работы WhatsApp на ряде устройств\n",
      "Preprocessed==>\t\u001b[35mэксперт прокомментировать прекращение работа whatsapp ряд устройство \n",
      "\u001b[0m\n",
      "Original==>\tWhatsApp не будет работать на устаревших смартфонах\n",
      "Preprocessed==>\t\u001b[35mwhatsapp работать устаревать смартфон \n",
      "\u001b[0m\n",
      "Original==>\tНа некоторых телефонах отключится WhatsApp\n",
      "Preprocessed==>\t\u001b[35mнекоторый телефон отключаться whatsapp \n",
      "\u001b[0m\n",
      "Original==>\tWhatsApp с января перестанет работать на некоторых смартфонах\n",
      "Preprocessed==>\t\u001b[35mwhatsapp январь переставать работать некоторый смартфон \n",
      "\u001b[0m\n",
      "Original==>\tС января WhatsApp перестанет работать на некоторых смартфонах\n",
      "Preprocessed==>\t\u001b[35mянварь whatsapp переставать работать некоторый смартфон \n",
      "\u001b[0m\n",
      "Original==>\tWhatsApp перестанет работать на некоторых гаджетах\n",
      "Preprocessed==>\t\u001b[35mwhatsapp переставать работать некоторый гаджет \n",
      "\u001b[0m\n",
      "-----------------------------------------------------\n"
     ]
    },
    {
     "data": {
      "image/png": "[encoded data removed]",
      "text/plain": [
       "<Figure size 1080x360 with 2 Axes>"
      ]
     },
     "metadata": {
      "needs_background": "light"
     },
     "output_type": "display_data"
    }
   ],
   "source": [
    "headline_stats_by_article(25) # article id being passed as parameter, data aggregation is also a possible option for later."
   ]
  },
  {
   "cell_type": "markdown",
   "id": "incorrect-harrison",
   "metadata": {},
   "source": [
    "#### Comment: \n",
    "From the resul.ts that we have obtained, we can see that the way we scored the sentences is good, but can be improved a bit.. for instance, the sentence with the highest score, has the word \"Messanger\", which is redundant, also it does not give any information like when this will happen and is it for all phones or only for old, etc. This happens because the score mechanism that we have used has no information about the entities that each word represnts, having information about the type/entities that a word represnts, can help to have a better scoring mechanism if we give entites like \"Date\" more importance, while giving words like \"Messanger\" less."
   ]
  },
  {
   "cell_type": "code",
   "execution_count": null,
   "id": "awful-ukraine",
   "metadata": {},
   "outputs": [],
   "source": [
    "from ipymarkup import show_span_box_markup, show_dep_markup"
   ]
  },
  {
   "cell_type": "markdown",
   "id": "difficult-partnership",
   "metadata": {},
   "source": [
    "### Bag Of Words for the headlines of each article"
   ]
  },
  {
   "cell_type": "code",
   "execution_count": null,
   "id": "prime-plain",
   "metadata": {},
   "outputs": [],
   "source": []
  },
  {
   "cell_type": "markdown",
   "id": "immediate-rocket",
   "metadata": {},
   "source": [
    "### n-grams model "
   ]
  },
  {
   "cell_type": "code",
   "execution_count": null,
   "id": "statistical-probe",
   "metadata": {},
   "outputs": [],
   "source": []
  },
  {
   "cell_type": "markdown",
   "id": "dress-attention",
   "metadata": {},
   "source": [
    "### LDA using TF-IDF"
   ]
  },
  {
   "cell_type": "code",
   "execution_count": null,
   "id": "casual-newman",
   "metadata": {},
   "outputs": [],
   "source": []
  },
  {
   "cell_type": "markdown",
   "id": "fiscal-producer",
   "metadata": {},
   "source": [
    "#### Intertopic Distance Plot can help you learn about how topics relate to each other, including potential higher-level structure between groups of topics."
   ]
  },
  {
   "cell_type": "code",
   "execution_count": null,
   "id": "shared-cattle",
   "metadata": {},
   "outputs": [],
   "source": []
  },
  {
   "cell_type": "code",
   "execution_count": null,
   "id": "limiting-basin",
   "metadata": {},
   "outputs": [],
   "source": []
  }
 ],
 "metadata": {
  "kernelspec": {
   "display_name": "Python 3",
   "language": "python",
   "name": "python3"
  },
  "language_info": {
   "codemirror_mode": {
    "name": "ipython",
    "version": 3
   },
   "file_extension": ".py",
   "mimetype": "text/x-python",
   "name": "python",
   "nbconvert_exporter": "python",
   "pygments_lexer": "ipython3",
   "version": "3.7.6"
  }
 },
 "nbformat": 4,
 "nbformat_minor": 5
}
