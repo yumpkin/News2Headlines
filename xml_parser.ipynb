{
 "cells": [
  {
   "cell_type": "code",
   "execution_count": 203,
   "metadata": {
    "id": "HV0Fr7JfUJru"
   },
   "outputs": [],
   "source": [
    "import pandas as pd\n",
    "from bs4 import BeautifulSoup\n",
    "from contextlib import redirect_stdout"
   ]
  },
  {
   "cell_type": "code",
   "execution_count": 235,
   "metadata": {
    "id": "V7mQ4KMQmQKC"
   },
   "outputs": [],
   "source": [
    "def xml_redirect_txt(file_name):\n",
    "  corpus = {}\n",
    "  with open('info_corpus.txt', 'w') as f:\n",
    "    with open(file_name) as fp:\n",
    "      soup = BeautifulSoup(fp, 'xml')\n",
    "    for idx, article in enumerate(soup.find_all('sentence'), 1):\n",
    "      for sentence in article.findChildren():\n",
    "        index = sentence.get('name')\n",
    "        if index == 'id' or index == 'author':\n",
    "          continue\n",
    "        # corpus['id'] = idx\n",
    "        corpus[index] =''.join(str(sentence.text).split())\n",
    "      with redirect_stdout(f):\n",
    "        print(corpus)"
   ]
  },
  {
   "cell_type": "code",
   "execution_count": 245,
   "metadata": {
    "id": "qS-ZhA38miBT"
   },
   "outputs": [],
   "source": [
    "import csv\n",
    "\n",
    "def xml_to_csv(file_name):\n",
    "  corpus = {}\n",
    "  with open('data_corpus.csv', 'w') as f:\n",
    "    with open(file_name) as fp:\n",
    "      soup = BeautifulSoup(fp, 'xml')\n",
    "    for idx, article in enumerate(soup.find_all('sentence'), 1):\n",
    "      for sentence in article.findChildren():\n",
    "        index = sentence.get('name')\n",
    "        data = ''.join(str(sentence.text).split())\n",
    "        if index == 'id' or index == 'author':\n",
    "          continue\n",
    "        if data is None or data == '':\n",
    "          continue\n",
    "        # corpus['id'] = idx\n",
    "        corpus[index] =''.join(str(sentence.text).split())\n",
    "      w = csv.DictWriter(f, corpus.keys())\n",
    "      w.writerow(corpus)"
   ]
  },
  {
   "cell_type": "code",
   "execution_count": 246,
   "metadata": {
    "id": "OeY1MjbujyNq"
   },
   "outputs": [],
   "source": [
    "xml_to_csv('corpus.xml')\n",
    "xml_redirect_txt('corpus.xml')"
   ]
  },
  {
   "cell_type": "code",
   "execution_count": 254,
   "metadata": {
    "id": "GAtQfwLBo97T"
   },
   "outputs": [],
   "source": [
    "df = pd.read_csv('data_corpus.csv', names=['headline', 'agency', 'url', 'date'])"
   ]
  },
  {
   "cell_type": "code",
   "execution_count": 255,
   "metadata": {
    "colab": {
     "base_uri": "https://localhost:8080/",
     "height": 332
    },
    "id": "rO-3BjNcp2w4",
    "outputId": "3515cede-44ed-45ce-d589-656ea7d3b39e"
   },
   "outputs": [
    {
     "data": {
      "text/html": [
       "\n",
       "  <div id=\"df-183994fa-63c0-4907-8a1c-7716efe26f0d\">\n",
       "    <div class=\"colab-df-container\">\n",
       "      <div>\n",
       "<style scoped>\n",
       "    .dataframe tbody tr th:only-of-type {\n",
       "        vertical-align: middle;\n",
       "    }\n",
       "\n",
       "    .dataframe tbody tr th {\n",
       "        vertical-align: top;\n",
       "    }\n",
       "\n",
       "    .dataframe thead th {\n",
       "        text-align: right;\n",
       "    }\n",
       "</style>\n",
       "<table border=\"1\" class=\"dataframe\">\n",
       "  <thead>\n",
       "    <tr style=\"text-align: right;\">\n",
       "      <th></th>\n",
       "      <th>headline</th>\n",
       "      <th>agency</th>\n",
       "      <th>url</th>\n",
       "      <th>date</th>\n",
       "    </tr>\n",
       "  </thead>\n",
       "  <tbody>\n",
       "    <tr>\n",
       "      <th>0</th>\n",
       "      <td>Избежать\"фискальногообрыва\":СенатСШАподдержалп...</td>\n",
       "      <td>РБК</td>\n",
       "      <td>http://top.rbc.ru/economics/01/01/2013/839229....</td>\n",
       "      <td>2013-01-01</td>\n",
       "    </tr>\n",
       "    <tr>\n",
       "      <th>1</th>\n",
       "      <td>\"Фискальныйобрыв\"вСШАвременнопредотвращен.</td>\n",
       "      <td>РБК</td>\n",
       "      <td>http://top.rbc.ru/economics/01/01/2013/839223....</td>\n",
       "      <td>2013-01-01</td>\n",
       "    </tr>\n",
       "    <tr>\n",
       "      <th>2</th>\n",
       "      <td>Чечняпопросиланационалистовсоставитькодекспове...</td>\n",
       "      <td>РБК</td>\n",
       "      <td>http://top.rbc.ru/society/01/01/2013/839242.shtml</td>\n",
       "      <td>2013-01-01</td>\n",
       "    </tr>\n",
       "    <tr>\n",
       "      <th>3</th>\n",
       "      <td>Северокорейскийлидервпервыеза19летпоздравилгра...</td>\n",
       "      <td>РБК</td>\n",
       "      <td>http://top.rbc.ru/society/01/01/2013/839227.shtml</td>\n",
       "      <td>2013-01-01</td>\n",
       "    </tr>\n",
       "    <tr>\n",
       "      <th>4</th>\n",
       "      <td>ВКот-Д`Ивуаредесяткичеловекпогибливдавкенаново...</td>\n",
       "      <td>РБК</td>\n",
       "      <td>http://top.rbc.ru/incidents/01/01/2013/839240....</td>\n",
       "      <td>2013-01-01</td>\n",
       "    </tr>\n",
       "    <tr>\n",
       "      <th>...</th>\n",
       "      <td>...</td>\n",
       "      <td>...</td>\n",
       "      <td>...</td>\n",
       "      <td>...</td>\n",
       "    </tr>\n",
       "    <tr>\n",
       "      <th>2586</th>\n",
       "      <td>Австрийскийстрелок-браконьернайденмертвым.</td>\n",
       "      <td>РБК</td>\n",
       "      <td>http://top.rbc.ru/incidents/18/09/2013/877528....</td>\n",
       "      <td>2013-09-18</td>\n",
       "    </tr>\n",
       "    <tr>\n",
       "      <th>2587</th>\n",
       "      <td>На\"Казань-Арене\"началасьподготовкакукладкефутб...</td>\n",
       "      <td>РБК</td>\n",
       "      <td>http://top.rbc.ru/photoreport/18/09/2013/87772...</td>\n",
       "      <td>2013-09-18</td>\n",
       "    </tr>\n",
       "    <tr>\n",
       "      <th>2588</th>\n",
       "      <td>ПрезидентуАбхазиидоложилиораскрытииубийстварос...</td>\n",
       "      <td>РБК</td>\n",
       "      <td>http://top.rbc.ru/politics/19/09/2013/877935.s...</td>\n",
       "      <td>2013-09-19</td>\n",
       "    </tr>\n",
       "    <tr>\n",
       "      <th>2589</th>\n",
       "      <td>Официальныйкурсдоллараупална65коп.</td>\n",
       "      <td>РБК</td>\n",
       "      <td>http://top.rbc.ru/economics/19/09/2013/877864....</td>\n",
       "      <td>2013-09-19</td>\n",
       "    </tr>\n",
       "    <tr>\n",
       "      <th>2590</th>\n",
       "      <td>ВСШАсудпризналкнопкуLikeформойсвободыслова.</td>\n",
       "      <td>РБК</td>\n",
       "      <td>http://top.rbc.ru/society/19/09/2013/877782.</td>\n",
       "      <td>2013-09-19</td>\n",
       "    </tr>\n",
       "  </tbody>\n",
       "</table>\n",
       "<p>2591 rows × 4 columns</p>\n",
       "</div>\n",
       "      <button class=\"colab-df-convert\" onclick=\"convertToInteractive('df-183994fa-63c0-4907-8a1c-7716efe26f0d')\"\n",
       "              title=\"Convert this dataframe to an interactive table.\"\n",
       "              style=\"display:none;\">\n",
       "        \n",
       "  <svg xmlns=\"http://www.w3.org/2000/svg\" height=\"24px\"viewBox=\"0 0 24 24\"\n",
       "       width=\"24px\">\n",
       "    <path d=\"M0 0h24v24H0V0z\" fill=\"none\"/>\n",
       "    <path d=\"M18.56 5.44l.94 2.06.94-2.06 2.06-.94-2.06-.94-.94-2.06-.94 2.06-2.06.94zm-11 1L8.5 8.5l.94-2.06 2.06-.94-2.06-.94L8.5 2.5l-.94 2.06-2.06.94zm10 10l.94 2.06.94-2.06 2.06-.94-2.06-.94-.94-2.06-.94 2.06-2.06.94z\"/><path d=\"M17.41 7.96l-1.37-1.37c-.4-.4-.92-.59-1.43-.59-.52 0-1.04.2-1.43.59L10.3 9.45l-7.72 7.72c-.78.78-.78 2.05 0 2.83L4 21.41c.39.39.9.59 1.41.59.51 0 1.02-.2 1.41-.59l7.78-7.78 2.81-2.81c.8-.78.8-2.07 0-2.86zM5.41 20L4 18.59l7.72-7.72 1.47 1.35L5.41 20z\"/>\n",
       "  </svg>\n",
       "      </button>\n",
       "      \n",
       "  <style>\n",
       "    .colab-df-container {\n",
       "      display:flex;\n",
       "      flex-wrap:wrap;\n",
       "      gap: 12px;\n",
       "    }\n",
       "\n",
       "    .colab-df-convert {\n",
       "      background-color: #E8F0FE;\n",
       "      border: none;\n",
       "      border-radius: 50%;\n",
       "      cursor: pointer;\n",
       "      display: none;\n",
       "      fill: #1967D2;\n",
       "      height: 32px;\n",
       "      padding: 0 0 0 0;\n",
       "      width: 32px;\n",
       "    }\n",
       "\n",
       "    .colab-df-convert:hover {\n",
       "      background-color: #E2EBFA;\n",
       "      box-shadow: 0px 1px 2px rgba(60, 64, 67, 0.3), 0px 1px 3px 1px rgba(60, 64, 67, 0.15);\n",
       "      fill: #174EA6;\n",
       "    }\n",
       "\n",
       "    [theme=dark] .colab-df-convert {\n",
       "      background-color: #3B4455;\n",
       "      fill: #D2E3FC;\n",
       "    }\n",
       "\n",
       "    [theme=dark] .colab-df-convert:hover {\n",
       "      background-color: #434B5C;\n",
       "      box-shadow: 0px 1px 3px 1px rgba(0, 0, 0, 0.15);\n",
       "      filter: drop-shadow(0px 1px 2px rgba(0, 0, 0, 0.3));\n",
       "      fill: #FFFFFF;\n",
       "    }\n",
       "  </style>\n",
       "\n",
       "      <script>\n",
       "        const buttonEl =\n",
       "          document.querySelector('#df-183994fa-63c0-4907-8a1c-7716efe26f0d button.colab-df-convert');\n",
       "        buttonEl.style.display =\n",
       "          google.colab.kernel.accessAllowed ? 'block' : 'none';\n",
       "\n",
       "        async function convertToInteractive(key) {\n",
       "          const element = document.querySelector('#df-183994fa-63c0-4907-8a1c-7716efe26f0d');\n",
       "          const dataTable =\n",
       "            await google.colab.kernel.invokeFunction('convertToInteractive',\n",
       "                                                     [key], {});\n",
       "          if (!dataTable) return;\n",
       "\n",
       "          const docLinkHtml = 'Like what you see? Visit the ' +\n",
       "            '<a target=\"_blank\" href=https://colab.research.google.com/notebooks/data_table.ipynb>data table notebook</a>'\n",
       "            + ' to learn more about interactive tables.';\n",
       "          element.innerHTML = '';\n",
       "          dataTable['output_type'] = 'display_data';\n",
       "          await google.colab.output.renderOutput(dataTable, element);\n",
       "          const docLink = document.createElement('div');\n",
       "          docLink.innerHTML = docLinkHtml;\n",
       "          element.appendChild(docLink);\n",
       "        }\n",
       "      </script>\n",
       "    </div>\n",
       "  </div>\n",
       "  "
      ],
      "text/plain": [
       "                                               headline  ...        date\n",
       "0     Избежать\"фискальногообрыва\":СенатСШАподдержалп...  ...  2013-01-01\n",
       "1            \"Фискальныйобрыв\"вСШАвременнопредотвращен.  ...  2013-01-01\n",
       "2     Чечняпопросиланационалистовсоставитькодекспове...  ...  2013-01-01\n",
       "3     Северокорейскийлидервпервыеза19летпоздравилгра...  ...  2013-01-01\n",
       "4     ВКот-Д`Ивуаредесяткичеловекпогибливдавкенаново...  ...  2013-01-01\n",
       "...                                                 ...  ...         ...\n",
       "2586         Австрийскийстрелок-браконьернайденмертвым.  ...  2013-09-18\n",
       "2587  На\"Казань-Арене\"началасьподготовкакукладкефутб...  ...  2013-09-18\n",
       "2588  ПрезидентуАбхазиидоложилиораскрытииубийстварос...  ...  2013-09-19\n",
       "2589                 Официальныйкурсдоллараупална65коп.  ...  2013-09-19\n",
       "2590        ВСШАсудпризналкнопкуLikeформойсвободыслова.  ...  2013-09-19\n",
       "\n",
       "[2591 rows x 4 columns]"
      ]
     },
     "execution_count": 255,
     "metadata": {},
     "output_type": "execute_result"
    }
   ],
   "source": [
    "df"
   ]
  },
  {
   "cell_type": "code",
   "execution_count": null,
   "metadata": {
    "id": "gTvpRO3hq1Zd"
   },
   "outputs": [],
   "source": []
  },
  {
   "cell_type": "code",
   "execution_count": null,
   "metadata": {
    "id": "XAG-KEW9q1bD"
   },
   "outputs": [],
   "source": []
  },
  {
   "cell_type": "code",
   "execution_count": null,
   "metadata": {
    "id": "Q_n_utckq1d1"
   },
   "outputs": [],
   "source": []
  }
 ],
 "metadata": {
  "colab": {
   "collapsed_sections": [],
   "name": "second_session.ipynb",
   "provenance": []
  },
  "kernelspec": {
   "display_name": "Python 3 (ipykernel)",
   "language": "python",
   "name": "python3"
  },
  "language_info": {
   "codemirror_mode": {
    "name": "ipython",
    "version": 3
   },
   "file_extension": ".py",
   "mimetype": "text/x-python",
   "name": "python",
   "nbconvert_exporter": "python",
   "pygments_lexer": "ipython3",
   "version": "3.7.6"
  }
 },
 "nbformat": 4,
 "nbformat_minor": 4
}
