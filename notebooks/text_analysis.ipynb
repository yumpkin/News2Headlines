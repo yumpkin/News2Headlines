{
 "cells": [
  {
   "cell_type": "markdown",
   "id": "narrative-quarter",
   "metadata": {},
   "source": [
    "### Dataset perprocessing"
   ]
  },
  {
   "cell_type": "code",
   "execution_count": 5,
   "id": "verified-wagon",
   "metadata": {},
   "outputs": [
    {
     "name": "stderr",
     "output_type": "stream",
     "text": [
      "[nltk_data] Downloading package stopwords to /home/aliak/nltk_data...\n",
      "[nltk_data]   Package stopwords is already up-to-date!\n",
      "[nltk_data] Downloading package averaged_perceptron_tagger to\n",
      "[nltk_data]     /home/aliak/nltk_data...\n",
      "[nltk_data]   Package averaged_perceptron_tagger is already up-to-\n",
      "[nltk_data]       date!\n"
     ]
    },
    {
     "data": {
      "text/plain": [
       "True"
      ]
     },
     "execution_count": 5,
     "metadata": {},
     "output_type": "execute_result"
    }
   ],
   "source": [
    "import nltk, razdel\n",
    "from nltk.tokens import stopwords\n",
    "from pymystem3 import Mystem\n",
    "import string, regex as re\n",
    "import numpy as np\n",
    "import pandas as pd\n",
    "import matplotlib.pyplot as plt\n",
    "\n",
    "# Download nltk packages used in this example\n",
    "nltk.download('stopwords')\n",
    "nltk.download('averaged_perceptron_tagger')"
   ]
  },
  {
   "cell_type": "code",
   "execution_count": 36,
   "id": "permanent-chair",
   "metadata": {},
   "outputs": [],
   "source": [
    "# Customize list of stopwords as needed. Here, we append common\n",
    "# punctuation and contraction artifacts.\n",
    "with open('../aux/stopwords-ru.txt', 'r') as f:\n",
    "    ru_stop_words_extensive = f.read().splitlines()\n",
    "    \n",
    "punctuations = list(string.punctuation) + [\"—\", \"«\", \"»\"]\n",
    "stop_words = list(set(ru_stop_words_extensive + stopwords.words('russian'))) + punctuations"
   ]
  },
  {
   "cell_type": "code",
   "execution_count": 117,
   "id": "constant-rental",
   "metadata": {},
   "outputs": [],
   "source": [
    "df = pd.read_json(\"../dataset/shuffled_hashed_rbc_dataset.json\")\n",
    "df = df.transpose()\n",
    "df.reset_index()"
   ]
  },
  {
   "cell_type": "code",
   "execution_count": 234,
   "id": "intimate-danish",
   "metadata": {},
   "outputs": [],
   "source": [
    "def get_article_sentences(article_text):\n",
    "    sentences = list()\n",
    "    for sentence in razdel.sentenize(article_text):\n",
    "        sentences.append(sentence.text)\n",
    "    return sentences"
   ]
  },
  {
   "cell_type": "code",
   "execution_count": 235,
   "id": "terminal-vanilla",
   "metadata": {},
   "outputs": [],
   "source": [
    "def get_article_tokens(article_text):\n",
    "    tokens = list()\n",
    "    article_sentences = get_article_sentences(article_text)\n",
    "    for sentence in article_sentences:\n",
    "        for token in razdel.tokenize(sentence):\n",
    "            if token.text not in stop_words:\n",
    "                tokens.append(token.text.lower())\n",
    "    return tokens"
   ]
  },
  {
   "cell_type": "code",
   "execution_count": 236,
   "id": "empirical-canada",
   "metadata": {},
   "outputs": [],
   "source": [
    "def get_article_lemmas(article_text):\n",
    "    mystem = Mystem()\n",
    "    lemmas = set()\n",
    "    \n",
    "    article_sentences = get_article_sentences(article_text)\n",
    "    for sentence in article_sentences:\n",
    "        lemmas.add(mystem.lemmatize(sentence.lower()))\n",
    "        \n",
    "    lemmas = [lemma for lemma in lemmas if lemma not in stop_words\\\n",
    "          and lemma != \" \" \\\n",
    "          and lemma.strip() not in punctuations]\n",
    "    return lemmas"
   ]
  },
  {
   "cell_type": "markdown",
   "id": "american-rating",
   "metadata": {},
   "source": [
    "### Preproccessing"
   ]
  },
  {
   "cell_type": "code",
   "execution_count": 207,
   "id": "electronic-medicaid",
   "metadata": {},
   "outputs": [],
   "source": [
    "mystem = Mystem()\n",
    "#Preprocess function\n",
    "def informative_preprocess_annotation(sentence):\n",
    "    lemmas = mystem.lemmatize(sentence.lower())\n",
    "    sentence_info = mystem.analyze(sentence)\n",
    "    analysis_info = list(filter(lambda x: 'analysis' in x, sentence_info))\n",
    "    \n",
    "    lemmas = [lemma for lemma in lemmas if lemma not in stop_words\\\n",
    "              and lemma != \" \" \\\n",
    "              and lemma.strip() not in punctuations]\n",
    "\n",
    "    sentence = \" \".join(lemmas)\n",
    "    processed_sentence = [word for word in sentence.split(' ')]\n",
    "\n",
    "    return (processed_sentence, analysis_info)"
   ]
  },
  {
   "cell_type": "markdown",
   "id": "accompanied-gardening",
   "metadata": {},
   "source": [
    "### Article statistics"
   ]
  },
  {
   "cell_type": "code",
   "execution_count": null,
   "id": "figured-pressure",
   "metadata": {},
   "outputs": [],
   "source": [
    "def text_stats(text):\n",
    "    sentences = get_article_sentences(text)\n",
    "    tokens = get_article_tokens(text)\n",
    "    fdist = nltk.FreqDist(tokens)\n",
    "    return sentences, tokens, fdist"
   ]
  },
  {
   "cell_type": "markdown",
   "id": "veterinary-bolivia",
   "metadata": {},
   "source": [
    "### Analyzing article statistics"
   ]
  },
  {
   "cell_type": "code",
   "execution_count": 232,
   "id": "composite-calendar",
   "metadata": {},
   "outputs": [],
   "source": [
    "%matplotlib inline\n",
    "import warnings\n",
    "warnings.filterwarnings(\"ignore\")\n",
    "\n",
    "def text_stats_analysis(article):\n",
    "    \n",
    "    article_text = article['article_text']\n",
    "    article_annotation = article['article_overview']\n",
    "    sentences, tokens, fdist =  text_stats(article_text)\n",
    "    \n",
    "    num_words = sum([i for i in fdist.values()])\n",
    "    num_unique_words = len(fdist.items())\n",
    "\n",
    "    average_word_length = round(sum(len(word) for word in tokens) / len(tokens), 2)\n",
    "    max_word_length = np.max(np.array([len(word) for word in tokens]))\n",
    "    average_sentence_length = round(len(tokens) / len(sentences), 2)\n",
    "\n",
    "    # Hapaxes are words that appear only once\n",
    "    num_hapaxes = len(fdist.hapaxes())\n",
    "    top_n_words = fdist.most_common(10)\n",
    "        \n",
    "    print('\\tMaximum word length in article text:'.ljust(25), max_word_length)\n",
    "    print('\\tAverage length of a word (letterwise):'.ljust(25), average_word_length)\n",
    "    print('\\tAverage length text length(wordwise):'.ljust(25), average_sentence_length)\n",
    "    print('\\tNum Sentences:'.ljust(25), len(sentences))\n",
    "    print('\\tNum Words:'.ljust(25), num_words)\n",
    "    print('\\tNum Unique Words:'.ljust(25), num_unique_words)\n",
    "    print('\\tNum Hapaxes:'.ljust(25), num_hapaxes)\n",
    "    print('\\tTop 10 Most Frequent Words (stop words):\\n\\t\\t', \\\n",
    "            '\\n\\t\\t'.join(['%s (%s)'\n",
    "            % (w[0], w[1]) for w in top_n_words]))\n",
    "    print(\"-----------------------------------------------------------------\")\n",
    "    data = []\n",
    "\n",
    "    for word,freq in fdist.most_common(10):\n",
    "        data.append({'Word':word,'Frequency':freq})\n",
    "\n",
    "    df = pd.DataFrame(data)\n",
    "\n",
    "    # Create a bar graph with the most commonly used descriptors\n",
    "    df['Word']=df['Word'].str.capitalize()\n",
    "    \n",
    "    fig, axes = plt.subplots(nrows=1, ncols=2)\n",
    "    df.plot(kind='barh', x='Word',y='Frequency', ax=axes[0], figsize=(15,5),color='#cb101c')\n",
    "    df.plot(kind='line', x='Word',y='Frequency', ax=axes[1], figsize=(15,5))"
   ]
  },
  {
   "cell_type": "markdown",
   "id": "minor-vegetable",
   "metadata": {},
   "source": [
    "### Extractive generation of article annotation:\n",
    "At the start of each news article in the RBC dataset, there is the headline at first, then an annotation(overview) on the article itself, we use extractive techniques to construct an alternative annotation, then we compare it with the original one."
   ]
  },
  {
   "cell_type": "code",
   "execution_count": 219,
   "id": "supreme-cookie",
   "metadata": {},
   "outputs": [],
   "source": [
    "def _score_sentences(sentences, important_words):\n",
    "    N = 3\n",
    "    CLUSTER_DIST = 3\n",
    "    scores = []\n",
    "    sentence_idx = -1\n",
    "\n",
    "    for s in [nltk.tokenize.word_tokenize(s) for s in sentences]:\n",
    "\n",
    "        sentence_idx += 1\n",
    "        word_idx = []\n",
    "        \n",
    "        for w in important_words:\n",
    "            try:\n",
    "                word_idx.append(s.index(w[0]))\n",
    "            except ValueError:\n",
    "                pass\n",
    "\n",
    "        word_idx.sort()\n",
    "\n",
    "        if len(word_idx)== 0: continue\n",
    "        clusters = []\n",
    "        cluster = [word_idx[0]]\n",
    "        i = 1\n",
    "        while i < len(word_idx):\n",
    "            if word_idx[i] - word_idx[i - 1] < CLUSTER_DIST:\n",
    "                cluster.append(word_idx[i])\n",
    "            else:\n",
    "                clusters.append(cluster[:])\n",
    "                cluster = [word_idx[i]]\n",
    "            i += 1\n",
    "        clusters.append(cluster)\n",
    "\n",
    "        max_cluster_score = 0\n",
    "        for c in clusters:\n",
    "            significant_words_in_cluster = len(c)\n",
    "            total_words_in_cluster = c[-1] - c[0] + 1\n",
    "            score = 1.0 * significant_words_in_cluster \\\n",
    "                * significant_words_in_cluster / total_words_in_cluster\n",
    "\n",
    "            if score > max_cluster_score:\n",
    "                max_cluster_score = score\n",
    "\n",
    "        scores.append((sentence_idx, score))\n",
    "\n",
    "    return scores"
   ]
  },
  {
   "cell_type": "code",
   "execution_count": 220,
   "id": "empirical-wholesale",
   "metadata": {},
   "outputs": [],
   "source": [
    "def pick_top_annotations_by_score(article, NUM_OF_TOP_WORDS):\n",
    "    \n",
    "    sentences = get_article_sentences(article_text)\n",
    "    tokens = get_article_tokens(article_text)\n",
    "    article_annotation = article['article_overview']\n",
    "    top_n_words = fdist.most_common(NUM_OF_TOP_WORDS)\n",
    "    normalized_sentences = [s.lower() for s in sentences]\n",
    "    NUM_TOP_SCORED_annotationS = 5  # Number of sentences to return for a \"top n\" summary\n",
    "    scored_sentences = _score_sentences(normalized_sentences, top_n_words)\n",
    "\n",
    "    # Extractive Approach 1:\n",
    "    # Filter out nonsignificant sentences by using the average score plus a\n",
    "    # fraction of the std dev as a filter\n",
    "\n",
    "    avg = np.mean([s[1] for s in scored_sentences])\n",
    "    std = np.std([s[1] for s in scored_sentences])\n",
    "    mean_scored = [(sent_idx, score) for (sent_idx, score) in scored_sentences\n",
    "                   if score > avg + 0.5 * std]\n",
    "\n",
    "    # Extractive Approach 2:\n",
    "    # Another approach would be to return only the top N ranked sentences\n",
    "\n",
    "    top_n_scored = sorted(scored_sentences, key=lambda s: s[1])[-NUM_TOP_SCORED_annotationS:]\n",
    "    top_n_scored = sorted(top_n_scored, key=lambda s: s[0])\n",
    "    \n",
    "    print(\"\\n\"*3)\n",
    "    print(\"------------Original Annotation-----------------------------------\")\n",
    "    print(article_annotation)\n",
    "    print(\"-\"*60)\n",
    "    print(\"-------Annotations(Picked/blue -- original/black)--------\")\n",
    "    top_n_summary=[sentences[idx] for (idx, score) in top_n_scored]\n",
    "    mean_scored_summary=[sentences[idx] for (idx, score) in mean_scored]\n",
    "    for sen in sentences:\n",
    "        # If both approaches of extraction lead to the same sentence then we accept it \n",
    "        if (sen) in set(mean_scored_summary and top_n_summary):\n",
    "            print(\"\\x1b[94m\"+sen+\"\\x1b[0m\"+\"\\t\")\n",
    "        else:\n",
    "            # We print the original sentence\n",
    "            print(sen)\n",
    "    print(\"-------------------------------------------------------\")\n",
    "    for (idx, score) in mean_scored:\n",
    "        print(sentences[idx], score)\n",
    "    print(\"------------------------------------------------------\")\n",
    "    print(\"-------------------Lemmatized text--------------------\")\n",
    "    print(\"------------------------------------------------------\")\n",
    "    for top_sentence in top_n_summary:\n",
    "        lemmatized_sentence, analysis_info = informative_preprocess_annotation(top_sentence)\n",
    "        print(\"Original =>\\t\"+top_sentence)\n",
    "        print(\"Preprocessed =>\\t\"+\"\\x1b[35m\" +' '.join(lemmatized_sentence) +\"\\x1b[0m\")\n",
    "#         for i in analysis_info:\n",
    "#             print(\"word-info:\", i['analysis'], i['text'])\n",
    "#         print(\"=================================================\")\n",
    "    print(\"-----------------------------------------------------\")"
   ]
  },
  {
   "cell_type": "code",
   "execution_count": 231,
   "id": "welsh-shakespeare",
   "metadata": {},
   "outputs": [
    {
     "name": "stdout",
     "output_type": "stream",
     "text": [
      "\tMaximum word length in article text: 16\n",
      "\tAverage length of a word (letterwise): 7.24\n",
      "\tAverage length text length(wordwise): 19.25\n",
      "\tNum Sentences:           12\n",
      "\tNum Words:               231\n",
      "\tNum Unique Words:        167\n",
      "\tNum Hapaxes:             130\n",
      "\tTop 10 Most Frequent Words (stop words):\n",
      "\t\t рнпк (6)\n",
      "\t\treuters (5)\n",
      "\t\tтанкеров (5)\n",
      "\t\tроссии (4)\n",
      "\t\tроссийских (4)\n",
      "\t\tморских (4)\n",
      "\t\tстрахования (4)\n",
      "\t\tp (4)\n",
      "\t\ti (4)\n",
      "\t\tстала (3)\n",
      "-----------------------------------------------------------------\n",
      "\n",
      "\n",
      "\n",
      "\n",
      "------------Original Annotation-----------------------------------\n",
      "РНПК стала ключевым перестраховщиком российских танкеров, сообщил Reuters. Ранее ЕС запретил страхование и перестрахование морских перевозок российской нефти в третьи страны и, как пишет FT, согласовал этот запрет с Британией\n",
      "------------------------------------------------------------\n",
      "-------Annotations(Picked/blue -- original/black)--------\n",
      "Reuters назвал нового главного перестраховщика танкеров из России Reuters узнал, что РНПК стала главным перестраховщиком танкеров из России РНПК стала ключевым перестраховщиком российских танкеров, сообщил Reuters.\n",
      "Ранее ЕС запретил страхование и перестрахование морских перевозок российской нефти в третьи страны и, как пишет FT, согласовал этот запрет с Британией Российская национальная перестраховочная компания (РНПК) стала основным перестраховщиком для российских судов, в том числе для танкеров «Совкомфлота», после введения западных санкций, сообщили источники Reuters.\n",
      "Они предположили, что гарантий, предоставляемых РНПК российским страховщикам, будет достаточно, чтобы обеспечивать работу российских танкеров без привлечения западных компаний, которые не готовы работать с Россией.\n",
      "«Увеличение гарантированного капитала РНПК (до 750 млрд руб., о чем в марте объявил ЦБ.\n",
      "\u001b[94m— РБК) расширит возможности российских страховщиков в сфере перестрахования рисков внутри России и управления новыми санкционными рисками», — сказал источник агентства. www.adv.rbc.ru При этом другой собеседник Reuters предположил, что средства РНПК могут быть быстро исчерпаны, поскольку сфера деятельности компании не ограничивается сектором морских перевозок. www.adv.rbc.ru 3 июня Евросоюз утвердил шестой пакет санкций против России.\u001b[0m\t\n",
      "Помимо частичного нефтяного эмбарго в него вошел запрет на страхование и перестрахование морских перевозок российской нефти и нефтепродуктов в третьи страны.\n",
      "Как сообщила Financial Times, Евросоюз договорился об этом запрете и с Великобританией.\n",
      "Возможность его введения также рассматривают страны «Большой семерки», однако подобные меры не вступят в силу в ближайшие полгода, пишет издание.\n",
      "\u001b[94mПри этом Великобритания является ведущим игроком как в области взаимного страхования (P&I), так и в сфере страхования самих судов (H&M).\u001b[0m\t\n",
      "\u001b[94mВ Лондоне базируется Международная группа клубов взаимного страхования судовладельцев (International Group of P&I Clubs, или IG P&I), и семь из 13 связанных с ней клубов также расположены в британской столице.\u001b[0m\t\n",
      "\u001b[94mПо данным IG P&I, ее участники обеспечивают покрытие 90% мирового тоннажа морских судов.\u001b[0m\t\n",
      "\u001b[94mТакже в Лондоне находится Lloyd's of London — рынок страхования и перестрахования.\u001b[0m\t\n",
      "-------------------------------------------------------\n",
      "При этом Великобритания является ведущим игроком как в области взаимного страхования (P&I), так и в сфере страхования самих судов (H&M). 1.3333333333333333\n",
      "------------------------------------------------------\n",
      "-------------------Lemmatized text--------------------\n",
      "------------------------------------------------------\n",
      "Original =>\t— РБК) расширит возможности российских страховщиков в сфере перестрахования рисков внутри России и управления новыми санкционными рисками», — сказал источник агентства. www.adv.rbc.ru При этом другой собеседник Reuters предположил, что средства РНПК могут быть быстро исчерпаны, поскольку сфера деятельности компании не ограничивается сектором морских перевозок. www.adv.rbc.ru 3 июня Евросоюз утвердил шестой пакет санкций против России.\n",
      "Preprocessed =>\t\u001b[35mрбк расширять возможность российский страховщик сфера перестрахование риск внутри управление санкционный риск », —  источник агентство www adv rbc ru собеседник reuters предполагать средство рнпк быстро исчерпывать поскольку сфера деятельность компания ограничиваться сектор морской перевозка www adv rbc ru 3 июнь евросоюз утверждать пакет санкция \n",
      "\u001b[0m\n",
      "Original =>\tПри этом Великобритания является ведущим игроком как в области взаимного страхования (P&I), так и в сфере страхования самих судов (H&M).\n",
      "Preprocessed =>\t\u001b[35mвеликобритания являться ведущий игрок область взаимный страхование p i ),  сфера страхование суд h m \n",
      "\u001b[0m\n",
      "Original =>\tВ Лондоне базируется Международная группа клубов взаимного страхования судовладельцев (International Group of P&I Clubs, или IG P&I), и семь из 13 связанных с ней клубов также расположены в британской столице.\n",
      "Preprocessed =>\t\u001b[35mлондон базироваться международный группа клуб взаимный страхование судовладелец international group of p i clubs ig p i ),  13 связывать клуб располагать британский столица \n",
      "\u001b[0m\n",
      "Original =>\tПо данным IG P&I, ее участники обеспечивают покрытие 90% мирового тоннажа морских судов.\n",
      "Preprocessed =>\t\u001b[35mданные ig p i участник обеспечивать покрытие 90 мировой тоннаж морской суд \n",
      "\u001b[0m\n",
      "Original =>\tТакже в Лондоне находится Lloyd's of London — рынок страхования и перестрахования.\n",
      "Preprocessed =>\t\u001b[35mлондон находиться lloyd s of london рынок страхование перестрахование \n",
      "\u001b[0m\n",
      "-----------------------------------------------------\n"
     ]
    },
    {
     "data": {
      "image/png": "[encoded data removed]",
      "text/plain": [
       "<Figure size 1080x360 with 2 Axes>"
      ]
     },
     "metadata": {
      "needs_background": "light"
     },
     "output_type": "display_data"
    }
   ],
   "source": [
    "for index, article in df.iterrows():\n",
    "    text_stats_analysis(article)\n",
    "    pick_top_annotations_by_score(article, 5)\n",
    "    break"
   ]
  },
  {
   "cell_type": "code",
   "execution_count": 1,
   "id": "color-grace",
   "metadata": {},
   "outputs": [],
   "source": [
    "import pandas as pd"
   ]
  },
  {
   "cell_type": "code",
   "execution_count": 3,
   "id": "swedish-stock",
   "metadata": {},
   "outputs": [],
   "source": [
    "df_bart = pd.read_csv('../outputs/mbart/mbart_gen_summary_ref_summary_full_text.csv')\n",
    "df_t5 = pd.read_csv('../outputs/t5/predictions_headline_article_text.csv')"
   ]
  },
  {
   "cell_type": "code",
   "execution_count": 7,
   "id": "superior-semiconductor",
   "metadata": {},
   "outputs": [
    {
     "data": {
      "text/html": [
       "<div>\n",
       "<style scoped>\n",
       "    .dataframe tbody tr th:only-of-type {\n",
       "        vertical-align: middle;\n",
       "    }\n",
       "\n",
       "    .dataframe tbody tr th {\n",
       "        vertical-align: top;\n",
       "    }\n",
       "\n",
       "    .dataframe thead th {\n",
       "        text-align: right;\n",
       "    }\n",
       "</style>\n",
       "<table border=\"1\" class=\"dataframe\">\n",
       "  <thead>\n",
       "    <tr style=\"text-align: right;\">\n",
       "      <th></th>\n",
       "      <th>Unnamed: 0</th>\n",
       "      <th>gen_summary</th>\n",
       "      <th>ref_summary</th>\n",
       "      <th>full_text</th>\n",
       "    </tr>\n",
       "  </thead>\n",
       "  <tbody>\n",
       "    <tr>\n",
       "      <th>0</th>\n",
       "      <td>0</td>\n",
       "      <td>В Запорожскую область отправлено 11 вагонов с ...</td>\n",
       "      <td>Песков заявил об отсутствии соглашений по укра...</td>\n",
       "      <td>Об отправке 11 вагонов с зерном для продажи ...</td>\n",
       "    </tr>\n",
       "    <tr>\n",
       "      <th>1</th>\n",
       "      <td>1</td>\n",
       "      <td>Владимир Зеленский «не хотел слышать» предупре...</td>\n",
       "      <td>В Киеве попросили уточнить слова Байдена об от...</td>\n",
       "      <td>Западные страны не стали вводить превентивны...</td>\n",
       "    </tr>\n",
       "    <tr>\n",
       "      <th>2</th>\n",
       "      <td>2</td>\n",
       "      <td>В случае дефолта «Роснано» для всех госкомпани...</td>\n",
       "      <td>Владелец бондов «Роснано» назвал возможный деф...</td>\n",
       "      <td>По мнению гендиректора «Арикапитала», если г...</td>\n",
       "    </tr>\n",
       "  </tbody>\n",
       "</table>\n",
       "</div>"
      ],
      "text/plain": [
       "   Unnamed: 0                                        gen_summary  \\\n",
       "0           0  В Запорожскую область отправлено 11 вагонов с ...   \n",
       "1           1  Владимир Зеленский «не хотел слышать» предупре...   \n",
       "2           2  В случае дефолта «Роснано» для всех госкомпани...   \n",
       "\n",
       "                                         ref_summary  \\\n",
       "0  Песков заявил об отсутствии соглашений по укра...   \n",
       "1  В Киеве попросили уточнить слова Байдена об от...   \n",
       "2  Владелец бондов «Роснано» назвал возможный деф...   \n",
       "\n",
       "                                           full_text  \n",
       "0    Об отправке 11 вагонов с зерном для продажи ...  \n",
       "1    Западные страны не стали вводить превентивны...  \n",
       "2    По мнению гендиректора «Арикапитала», если г...  "
      ]
     },
     "execution_count": 7,
     "metadata": {},
     "output_type": "execute_result"
    }
   ],
   "source": [
    "df_bart.head(3)"
   ]
  },
  {
   "cell_type": "code",
   "execution_count": 8,
   "id": "still-listening",
   "metadata": {},
   "outputs": [
    {
     "data": {
      "text/html": [
       "<div>\n",
       "<style scoped>\n",
       "    .dataframe tbody tr th:only-of-type {\n",
       "        vertical-align: middle;\n",
       "    }\n",
       "\n",
       "    .dataframe tbody tr th {\n",
       "        vertical-align: top;\n",
       "    }\n",
       "\n",
       "    .dataframe thead th {\n",
       "        text-align: right;\n",
       "    }\n",
       "</style>\n",
       "<table border=\"1\" class=\"dataframe\">\n",
       "  <thead>\n",
       "    <tr style=\"text-align: right;\">\n",
       "      <th></th>\n",
       "      <th>Unnamed: 0</th>\n",
       "      <th>gen_summary</th>\n",
       "      <th>ref_summary</th>\n",
       "      <th>Full_Text</th>\n",
       "    </tr>\n",
       "  </thead>\n",
       "  <tbody>\n",
       "    <tr>\n",
       "      <th>0</th>\n",
       "      <td>0</td>\n",
       "      <td>Умер бывший сотрудник спецподразделения «Альфа...</td>\n",
       "      <td>Умер убивший афганского диктатора Амина спецна...</td>\n",
       "      <td>Амин получил смертельное ранение осколком гран...</td>\n",
       "    </tr>\n",
       "    <tr>\n",
       "      <th>1</th>\n",
       "      <td>1</td>\n",
       "      <td>Власти увеличат объем финансирования на развит...</td>\n",
       "      <td>На город Спутник потратят более 15,5 млрд руб.</td>\n",
       "      <td>Правительство потратит более 15,5 млрд руб. на...</td>\n",
       "    </tr>\n",
       "    <tr>\n",
       "      <th>2</th>\n",
       "      <td>2</td>\n",
       "      <td>Турция начала укладывать газопровод в акватори...</td>\n",
       "      <td>Эрдоган объявил о начале укладки газопровода п...</td>\n",
       "      <td>Месторождение Сакарья, из которого будут поста...</td>\n",
       "    </tr>\n",
       "  </tbody>\n",
       "</table>\n",
       "</div>"
      ],
      "text/plain": [
       "   Unnamed: 0                                        gen_summary  \\\n",
       "0           0  Умер бывший сотрудник спецподразделения «Альфа...   \n",
       "1           1  Власти увеличат объем финансирования на развит...   \n",
       "2           2  Турция начала укладывать газопровод в акватори...   \n",
       "\n",
       "                                         ref_summary  \\\n",
       "0  Умер убивший афганского диктатора Амина спецна...   \n",
       "1     На город Спутник потратят более 15,5 млрд руб.   \n",
       "2  Эрдоган объявил о начале укладки газопровода п...   \n",
       "\n",
       "                                           Full_Text  \n",
       "0  Амин получил смертельное ранение осколком гран...  \n",
       "1  Правительство потратит более 15,5 млрд руб. на...  \n",
       "2  Месторождение Сакарья, из которого будут поста...  "
      ]
     },
     "execution_count": 8,
     "metadata": {},
     "output_type": "execute_result"
    }
   ],
   "source": [
    "df_t5.head(3)"
   ]
  },
  {
   "cell_type": "code",
   "execution_count": 26,
   "id": "roman-massage",
   "metadata": {},
   "outputs": [],
   "source": [
    "r = []\n",
    "for i in range(len(df_t5.index)):\n",
    "    for j in range(len(df_bart.index)):\n",
    "        if df_t5['ref_summary'][i] == df_bart['ref_summary'][j]:\n",
    "            r.append([\"T5 Hypothesis:\" + df_t5['gen_summary'][i], \"mBART Hypothesis:\" + df_bart['gen_summary'][j],  \"Source:\" + df_bart['ref_summary'][j]])"
   ]
  },
  {
   "cell_type": "code",
   "execution_count": 33,
   "id": "great-banner",
   "metadata": {},
   "outputs": [
    {
     "data": {
      "text/plain": [
       "['T5 Hypothesis:MasterCard обнулила комиссии за переводы с карты на карту по номеру телефона',\n",
       " 'mBART Hypothesis:Вслед за Mastercard Visa пошла на отказ от комиссий за переводы с карты на карту по',\n",
       " 'Source:Visa отменит комиссию за переводы с карты на карту по номеру телефона']"
      ]
     },
     "execution_count": 33,
     "metadata": {},
     "output_type": "execute_result"
    }
   ],
   "source": [
    "r[74]"
   ]
  }
 ],
 "metadata": {
  "kernelspec": {
   "display_name": "Python 3 (ipykernel)",
   "language": "python",
   "name": "python3"
  },
  "language_info": {
   "codemirror_mode": {
    "name": "ipython",
    "version": 3
   },
   "file_extension": ".py",
   "mimetype": "text/x-python",
   "name": "python",
   "nbconvert_exporter": "python",
   "pygments_lexer": "ipython3",
   "version": "3.7.6"
  }
 },
 "nbformat": 4,
 "nbformat_minor": 5
}
