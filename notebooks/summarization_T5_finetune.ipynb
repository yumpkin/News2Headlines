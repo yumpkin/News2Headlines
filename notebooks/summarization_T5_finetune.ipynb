{
 "cells": [
  {
   "cell_type": "markdown",
   "metadata": {
    "id": "IttWpyRvyWT4",
    "papermill": {
     "duration": 0.010611,
     "end_time": "2021-06-23T07:44:59.689478",
     "exception": false,
     "start_time": "2021-06-23T07:44:59.678867",
     "status": "completed"
    },
    "tags": []
   },
   "source": [
    "# Fine Tuning T5 Transformer for Summary Generation"
   ]
  },
  {
   "cell_type": "markdown",
   "metadata": {
    "id": "dHsjQaPtyWUa",
    "papermill": {
     "duration": 0.008977,
     "end_time": "2021-06-23T07:44:59.708023",
     "exception": false,
     "start_time": "2021-06-23T07:44:59.699046",
     "status": "completed"
    },
    "tags": []
   },
   "source": [
    "\n",
    "\n",
    "#### Contents\n",
    "\n",
    "1. [Preparing Environment and Importing Libraries](#section01)\n",
    "2. [Preparing the Dataset for data processing: Class](#section02)\n",
    "3. [Fine Tuning the Model: Function](#section03)\n",
    "4. [Validating the Model Performance: Function](#section04)\n",
    "5. [Main Function](#section05)\n",
    "    * [Creation of Dataset and Dataloader](#section503)\n",
    "    * [Neural Network and Optimizer](#section504)\n",
    "    * [Validation and generation of Summary](#section506)\n",
    "6. [Examples of the Summary Generated from the model](#section06)\n",
    "\n",
    "\n",
    "#### Technical Details\n",
    "\n",
    "\n",
    "- **Data**:\n",
    "\t- We are using the News Summary dataset \"shuffled_ria_dataset.json\"\n",
    "\t- This dataset is the collection created from RBC news agency daily articles.\n",
    "\t- There are`1601` rows of data. Where each row has the following data-point:\n",
    "\t\t- **headline** : The headline of the article\n",
    "\t\t- **overview**: An annotation(caption) before the article itself\n",
    "\t\t- **body** : The actual full-text of the article\n",
    "\t\t- **category**: The category of the article\n",
    "\t\t- **tags**: The main tags related to the article\n",
    "\n",
    "\n",
    "- **Language Model Used**: \n",
    "    - This notebook we will use transformers model ***T5***. [Research Paper](https://arxiv.org/abs/1910.10683)    \n",
    "    - **Text-2-Text** - All NLP tasks are converted to a **text-to-text** problem. Tasks such as translation, classification, summarization and question answering, all of them are treated as a text-to-text conversion problem, rather than seen as separate unique problem statements.\n",
    "   - [Documentation for python](https://huggingface.co/transformers/model_doc/t5.html)\n",
    "\n",
    "![**Each NLP problem as a “text-to-text” problem** - input: text, output: text](https://miro.medium.com/max/947/1*voAo0zBPTCVrwcut1oHtEg.png) \n",
    "\t \n",
    "\n",
    "- **Objective**:\n",
    "\t- The objective is to fine tune ***T5*** to be able to generate summary, that is close to or better than the actual summary while ensuring the important information from the article is not lost."
   ]
  },
  {
   "cell_type": "markdown",
   "metadata": {
    "id": "ZjrXXohpyWUs",
    "papermill": {
     "duration": 0.009305,
     "end_time": "2021-06-23T07:44:59.726450",
     "exception": false,
     "start_time": "2021-06-23T07:44:59.717145",
     "status": "completed"
    },
    "tags": []
   },
   "source": [
    "<a id='section01'></a>\n",
    "### Preparing Environment and Importing Libraries\n",
    "\n",
    "Installation of necessary libraries and importing them\n",
    "We will be installing:\n",
    "* transformers\n",
    "* sentencepiece\n",
    "\n",
    "Libraries imported are:\n",
    "* Pandas\n",
    "* Pytorch\n",
    "* Pytorch Utils for Dataset and Dataloader\n",
    "* Transformers\n",
    "* T5 Model and Tokenizer (From Transformers)"
   ]
  },
  {
   "cell_type": "code",
   "execution_count": null,
   "metadata": {
    "colab": {
     "base_uri": "https://localhost:8080/"
    },
    "execution": {
     "iopub.execute_input": "2021-06-23T07:44:59.749932Z",
     "iopub.status.busy": "2021-06-23T07:44:59.749211Z",
     "iopub.status.idle": "2021-06-23T07:45:06.630340Z",
     "shell.execute_reply": "2021-06-23T07:45:06.629356Z"
    },
    "id": "WD_vnyLXZQzD",
    "outputId": "5765069a-11a5-491d-bd7c-0afb8114673d",
    "papermill": {
     "duration": 6.894951,
     "end_time": "2021-06-23T07:45:06.630455",
     "exception": false,
     "start_time": "2021-06-23T07:44:59.735504",
     "status": "completed"
    },
    "tags": []
   },
   "outputs": [
    {
     "name": "stdout",
     "output_type": "stream",
     "text": [
      "Looking in indexes: https://pypi.org/simple, https://us-python.pkg.dev/colab-wheels/public/simple/\n",
      "Requirement already satisfied: sentencepiece in /usr/local/lib/python3.7/dist-packages (0.1.96)\n"
     ]
    }
   ],
   "source": [
    "!pip install transformers -q\n",
    "!pip install sentencepiece\n",
    "\n",
    "# Code for TPU packages install\n",
    "# !curl -q https://raw.githubusercontent.com/pytorch/xla/master/contrib/scripts/env-setup.py -o pytorch-xla-env-setup.py\n",
    "# !python pytorch-xla-env-setup.py --apt-packages libomp5 libopenblas-dev"
   ]
  },
  {
   "cell_type": "code",
   "execution_count": null,
   "metadata": {
    "execution": {
     "iopub.execute_input": "2021-06-23T07:45:06.655746Z",
     "iopub.status.busy": "2021-06-23T07:45:06.655099Z",
     "iopub.status.idle": "2021-06-23T07:45:13.643334Z",
     "shell.execute_reply": "2021-06-23T07:45:13.642338Z"
    },
    "id": "pzM1_ykHaFur",
    "papermill": {
     "duration": 7.00268,
     "end_time": "2021-06-23T07:45:13.643448",
     "exception": false,
     "start_time": "2021-06-23T07:45:06.640768",
     "status": "completed"
    },
    "tags": []
   },
   "outputs": [],
   "source": [
    "import nltk\n",
    "from nltk.tokenize import sent_tokenize, word_tokenize\n",
    "from nltk.translate import bleu\n",
    "nltk.download('stopwords')\n",
    "nltk.download('punkt')\n",
    "nltk.download('wordnet')\n",
    "nltk.download('averaged_perceptron_tagger')\n",
    "\n",
    "import string\n",
    "import numpy as np\n",
    "import pandas as pd\n",
    "import re\n",
    "import torch\n",
    "import torch.nn.functional as F\n",
    "from torch.utils.data import Dataset, DataLoader, RandomSampler, SequentialSampler\n",
    "from nltk.translate.bleu_score import sentence_bleu, corpus_bleu\n",
    "from nltk.translate.bleu_score import SmoothingFunction\n",
    "from rouge_score import rouge_scorer\n",
    "\n",
    "\n",
    "# Importing the T5 modules from huggingface/transformers\n",
    "from transformers import T5Tokenizer, T5ForConditionalGeneration"
   ]
  },
  {
   "cell_type": "code",
   "execution_count": null,
   "metadata": {
    "colab": {
     "base_uri": "https://localhost:8080/"
    },
    "execution": {
     "iopub.execute_input": "2021-06-23T07:45:13.672170Z",
     "iopub.status.busy": "2021-06-23T07:45:13.671477Z",
     "iopub.status.idle": "2021-06-23T07:45:14.336059Z",
     "shell.execute_reply": "2021-06-23T07:45:14.335565Z"
    },
    "id": "KvPxXdKJguYB",
    "outputId": "333d4abc-f2a7-4a1a-a303-27eca5ffc1d9",
    "papermill": {
     "duration": 0.682599,
     "end_time": "2021-06-23T07:45:14.336153",
     "exception": false,
     "start_time": "2021-06-23T07:45:13.653554",
     "status": "completed"
    },
    "tags": []
   },
   "outputs": [
    {
     "name": "stdout",
     "output_type": "stream",
     "text": [
      "Tue Jun 14 14:10:21 2022       \n",
      "+-----------------------------------------------------------------------------+\n",
      "| NVIDIA-SMI 460.32.03    Driver Version: 460.32.03    CUDA Version: 11.2     |\n",
      "|-------------------------------+----------------------+----------------------+\n",
      "| GPU  Name        Persistence-M| Bus-Id        Disp.A | Volatile Uncorr. ECC |\n",
      "| Fan  Temp  Perf  Pwr:Usage/Cap|         Memory-Usage | GPU-Util  Compute M. |\n",
      "|                               |                      |               MIG M. |\n",
      "|===============================+======================+======================|\n",
      "|   0  Tesla T4            Off  | 00000000:00:04.0 Off |                    0 |\n",
      "| N/A   39C    P8     9W /  70W |      0MiB / 15109MiB |      0%      Default |\n",
      "|                               |                      |                  N/A |\n",
      "+-------------------------------+----------------------+----------------------+\n",
      "                                                                               \n",
      "+-----------------------------------------------------------------------------+\n",
      "| Processes:                                                                  |\n",
      "|  GPU   GI   CI        PID   Type   Process name                  GPU Memory |\n",
      "|        ID   ID                                                   Usage      |\n",
      "|=============================================================================|\n",
      "|  No running processes found                                                 |\n",
      "+-----------------------------------------------------------------------------+\n"
     ]
    }
   ],
   "source": [
    "# Checking out the GPU we have access to. This is output is from the google colab version. \n",
    "!nvidia-smi"
   ]
  },
  {
   "cell_type": "code",
   "execution_count": null,
   "metadata": {
    "execution": {
     "iopub.execute_input": "2021-06-23T07:45:14.407828Z",
     "iopub.status.busy": "2021-06-23T07:45:14.406992Z",
     "iopub.status.idle": "2021-06-23T07:45:14.409435Z",
     "shell.execute_reply": "2021-06-23T07:45:14.409935Z"
    },
    "id": "NLxxwd1scQNv",
    "papermill": {
     "duration": 0.062875,
     "end_time": "2021-06-23T07:45:14.410049",
     "exception": false,
     "start_time": "2021-06-23T07:45:14.347174",
     "status": "completed"
    },
    "tags": []
   },
   "outputs": [],
   "source": [
    "# # Setting up the device for GPU usage\n",
    "from torch import cuda\n",
    "device = 'cuda' if cuda.is_available() else 'cpu'\n",
    "\n",
    "# Preparing for TPU usage\n",
    "# import torch_xla\n",
    "# import torch_xla.core.xla_model as xm\n",
    "# device = xm.xla_device()"
   ]
  },
  {
   "cell_type": "markdown",
   "metadata": {
    "id": "e3a5AATeyWU5",
    "papermill": {
     "duration": 0.010122,
     "end_time": "2021-06-23T07:45:14.430791",
     "exception": false,
     "start_time": "2021-06-23T07:45:14.420669",
     "status": "completed"
    },
    "tags": []
   },
   "source": [
    "<a id='section02'></a>\n",
    "### Preparing the Dataset for data processing: Class\n",
    "\n",
    "We will start with creation of Dataset ***Prepare_Dataset*** class - This defines how the text is pre-processed before sending it to the neural network. This dataset will be used the the Dataloader method that will feed  the data in batches to the neural network for suitable training and processing. \n",
    "The Dataloader and Dataset will be used inside the `main()`. Which in-turns takes a pair of dataframe columns `(target, source_refrence)`\n",
    "Dataset and Dataloader are constructs of the PyTorch library for defining and controlling the data pre-processing and its passage to neural network. For further reading into Dataset and Dataloader [docs at PyTorch](https://pytorch.org/docs/stable/data.html)\n",
    "\n",
    "#### *CustomDataset* Dataset Class\n",
    "- This class is defined to accept the Dataframe as input and generate tokenized output that is used by the **T5** model for training. \n",
    "- We are using the **T5** tokenizer to tokenize the data in the `text` and `article_text` column of the dataframe. \n",
    "- The tokenizer uses the ` batch_encode_plus` method to perform tokenization and generate the necessary outputs, namely: `source_id`, `source_mask` from the actual text and `target_id` and `target_mask` from the summary text.\n",
    "- To read further into the tokenizer, [refer to this document](https://huggingface.co/transformers/model_doc/t5.html#t5tokenizer)\n",
    "- The *Prepare_Dataset* class is used to create 2 datasets, for training and for validation.\n",
    "- *Training Dataset* is used to fine tune the model: **80% of the original data**\n",
    "- *Validation Dataset* is used to evaluate the performance of the model. The model has not seen this data during training. \n",
    "\n",
    "#### Dataloader: Called inside the `main()`\n",
    "- Dataloader is used to for creating training and validation dataloader that load data to the neural network in a defined manner. This is needed because all the data from the dataset cannot be loaded to the memory at once, hence the amount of data loaded to the memory and then passed to the neural network needs to be controlled.\n",
    "- This control is achieved using the parameters such as `batch_size` and `max_len`.\n",
    "- Training and Validation dataloaders are used in the training and validation part of the flow respectively"
   ]
  },
  {
   "cell_type": "code",
   "execution_count": null,
   "metadata": {
    "execution": {
     "iopub.execute_input": "2021-06-23T07:45:14.463875Z",
     "iopub.status.busy": "2021-06-23T07:45:14.458543Z",
     "iopub.status.idle": "2021-06-23T07:45:14.482815Z",
     "shell.execute_reply": "2021-06-23T07:45:14.483298Z"
    },
    "id": "932p8NhxeNw4",
    "papermill": {
     "duration": 0.042384,
     "end_time": "2021-06-23T07:45:14.483417",
     "exception": false,
     "start_time": "2021-06-23T07:45:14.441033",
     "status": "completed"
    },
    "tags": []
   },
   "outputs": [],
   "source": [
    "# Creating a custom dataset for reading the dataframe and loading it into the dataloader to pass it to the neural network at a later stage for finetuning the model and to prepare it for predictions\n",
    "\n",
    "class Prepare_Dataset(Dataset):\n",
    "\n",
    "    def __init__(self, dataframe, tokenizer, source_len, summ_len):\n",
    "        self.tokenizer = tokenizer\n",
    "        self.data = dataframe\n",
    "        self.source_len = source_len\n",
    "        self.summ_len = summ_len\n",
    "        self.summarization_target = self.data.iloc[:,0] # Assuming that the first column should always be the inteded task target\n",
    "        self.article_text = self.data.article_text\n",
    "\n",
    "    def __len__(self):\n",
    "        return len(self.summarization_target)\n",
    "\n",
    "    def __getitem__(self, index):\n",
    "        article_text = str(self.article_text[index])\n",
    "        article_text = ' '.join(article_text.split())\n",
    "\n",
    "        summarization_target = str(self.summarization_target[index])\n",
    "        summarization_target = ' '.join(summarization_target.split())\n",
    "\n",
    "        source = self.tokenizer.batch_encode_plus([article_text], max_length= self.source_len, pad_to_max_length=True,return_tensors='pt')\n",
    "        target = self.tokenizer.batch_encode_plus([summarization_target], max_length= self.summ_len, pad_to_max_length=True,return_tensors='pt')\n",
    "\n",
    "        source_ids = source['input_ids'].squeeze()\n",
    "        source_mask = source['attention_mask'].squeeze()\n",
    "        target_ids = target['input_ids'].squeeze()\n",
    "        target_mask = target['attention_mask'].squeeze()\n",
    "\n",
    "        return {\n",
    "            'source_ids': source_ids.to(dtype=torch.long), \n",
    "            'source_mask': source_mask.to(dtype=torch.long), \n",
    "            'target_ids': target_ids.to(dtype=torch.long),\n",
    "            'target_ids_y': target_ids.to(dtype=torch.long)\n",
    "        }"
   ]
  },
  {
   "cell_type": "markdown",
   "metadata": {
    "id": "GAF8Se6AyWU_",
    "papermill": {
     "duration": 0.016238,
     "end_time": "2021-06-23T07:45:14.516020",
     "exception": false,
     "start_time": "2021-06-23T07:45:14.499782",
     "status": "completed"
    },
    "tags": []
   },
   "source": [
    "<a id='section03'></a>\n",
    "### Fine Tuning the Model: Function\n",
    "\n",
    "Training function that trains the model on the training dataset created above, specified number of times (EPOCHs), An epoch defines how many times the complete data will be passed through the network. \n",
    "\n",
    "This function is called in the `main(,)`\n",
    "\n",
    "Following events happen in this function to fine tune the neural network:\n",
    "- The epoch, tokenizer, model, device details, testing_ dataloader and optimizer are passed to the `train ()` when its called from the `main(,)`\n",
    "- The dataloader passes data to the model based on the batch size.\n",
    "- `language_model_labels` are calculated from the `target_ids` also, `source_id` and `attention_mask` are extracted.\n",
    "- The model outputs first element gives the loss for the forward pass. \n",
    "- Loss value is used to optimize the weights of the neurons in the network."
   ]
  },
  {
   "cell_type": "code",
   "execution_count": null,
   "metadata": {
    "execution": {
     "iopub.execute_input": "2021-06-23T07:45:14.565643Z",
     "iopub.status.busy": "2021-06-23T07:45:14.564824Z",
     "iopub.status.idle": "2021-06-23T07:45:14.570883Z",
     "shell.execute_reply": "2021-06-23T07:45:14.571875Z"
    },
    "id": "SaPAR7TWmxoM",
    "papermill": {
     "duration": 0.035901,
     "end_time": "2021-06-23T07:45:14.572022",
     "exception": false,
     "start_time": "2021-06-23T07:45:14.536121",
     "status": "completed"
    },
    "tags": []
   },
   "outputs": [],
   "source": [
    "# Creating the training function. This will be called in the main function. It is run depending on the epoch value.\n",
    "# The model is put into train mode and then we wnumerate over the training loader and passed to the defined network \n",
    "\n",
    "def train(epoch, tokenizer, model, device, loader, optimizer):\n",
    "    model.train()\n",
    "    for _,data in enumerate(loader, 0):\n",
    "        y = data['target_ids'].to(device, dtype = torch.long)\n",
    "        y_ids = y[:, :-1].contiguous()\n",
    "        lm_labels = y[:, 1:].clone().detach()\n",
    "        lm_labels[y[:, 1:] == tokenizer.pad_token_id] = -100\n",
    "        ids = data['source_ids'].to(device, dtype = torch.long)\n",
    "        mask = data['source_mask'].to(device, dtype = torch.long)\n",
    "\n",
    "        outputs = model(input_ids = ids, attention_mask = mask, decoder_input_ids=y_ids, labels=lm_labels)\n",
    "        loss = outputs[0]\n",
    "        \n",
    "        if _%500==0:\n",
    "            print(f'Epoch: {epoch}, Loss:  {loss.item()}')\n",
    "        \n",
    "        optimizer.zero_grad()\n",
    "        loss.backward()\n",
    "        optimizer.step()\n",
    "        # xm.optimizer_step(optimizer)\n",
    "        # xm.mark_step()"
   ]
  },
  {
   "cell_type": "markdown",
   "metadata": {
    "id": "jZe6cd3EyWVB",
    "papermill": {
     "duration": 0.017949,
     "end_time": "2021-06-23T07:45:14.608608",
     "exception": false,
     "start_time": "2021-06-23T07:45:14.590659",
     "status": "completed"
    },
    "tags": []
   },
   "source": [
    "<a id='section04'></a>\n",
    "### Validating the Model Performance: Function\n",
    "\n",
    "During the validation stage we pass the unseen data(Testing Dataset), trained model, tokenizer and device details to the function to perform the validation run. This step generates new summary for dataset that it has not seen during the training session. \n",
    "\n",
    "This function is called in the `main()`\n",
    "\n",
    "This unseen data is the 20% of `rbc_dataset.json` which was seperated during the Dataset creation stage. \n",
    "During the validation stage the weights of the model are not updated. We use the generate method for generating new text for the summary. \n",
    "\n",
    "It depends on the `Beam-Search coding` method developed for sequence generation for models with LM head. \n",
    "\n",
    "The generated text and originally summary are decoded from tokens to text and returned to the `main()`"
   ]
  },
  {
   "cell_type": "code",
   "execution_count": null,
   "metadata": {
    "execution": {
     "iopub.execute_input": "2021-06-23T07:45:14.656668Z",
     "iopub.status.busy": "2021-06-23T07:45:14.654658Z",
     "iopub.status.idle": "2021-06-23T07:45:14.667136Z",
     "shell.execute_reply": "2021-06-23T07:45:14.668084Z"
    },
    "id": "j9TNdHlQ0CLz",
    "papermill": {
     "duration": 0.04136,
     "end_time": "2021-06-23T07:45:14.668249",
     "exception": false,
     "start_time": "2021-06-23T07:45:14.626889",
     "status": "completed"
    },
    "tags": []
   },
   "outputs": [],
   "source": [
    "def validate(epoch, tokenizer, model, device, loader):\n",
    "    model.eval()\n",
    "    predictions = []\n",
    "    actual_summaries = []\n",
    "    actual_text = []\n",
    "    with torch.no_grad():\n",
    "        for _, data in enumerate(loader, 0):\n",
    "            y = data['target_ids'].to(device, dtype = torch.long)\n",
    "            ids = data['source_ids'].to(device, dtype = torch.long)\n",
    "            mask = data['source_mask'].to(device, dtype = torch.long)\n",
    "\n",
    "            generated_ids = model.generate(\n",
    "                input_ids = ids,\n",
    "                attention_mask = mask, \n",
    "                max_length=150, \n",
    "                num_beams=2,\n",
    "                repetition_penalty=2.5, \n",
    "                length_penalty=1.0, \n",
    "                early_stopping=True\n",
    "                )\n",
    "            preds = [tokenizer.decode(g, skip_special_tokens=True, clean_up_tokenization_spaces=True) for g in generated_ids]\n",
    "            target = [tokenizer.decode(t, skip_special_tokens=True, clean_up_tokenization_spaces=True)for t in y]\n",
    "            source_article = [tokenizer.decode(a, skip_special_tokens=True, clean_up_tokenization_spaces=True)for a in ids]\n",
    "            if _%100==0:\n",
    "                print(f'Completed {_}')\n",
    "\n",
    "            predictions.extend(preds)\n",
    "            actual_summaries.extend(target)\n",
    "            actual_text.extend(source_article)\n",
    "    return predictions, actual_summaries, actual_text"
   ]
  },
  {
   "cell_type": "markdown",
   "metadata": {
    "id": "tuJR6ftTyWVE",
    "papermill": {
     "duration": 0.018158,
     "end_time": "2021-06-23T07:45:14.714009",
     "exception": false,
     "start_time": "2021-06-23T07:45:14.695851",
     "status": "completed"
    },
    "tags": []
   },
   "source": [
    "<a id='section05'></a>\n",
    "### Main Function\n",
    "\n",
    "The `main()` as the name suggests is the central location to execute all the functions/flows created above in the notebook. The following steps are executed in the `main()`:\n",
    "\n",
    "\n",
    "<a id='section502'></a>\n",
    "#### Importing and Pre-Processing the domain data\n",
    "\n",
    "We will be working with the data and preparing it for fine tuning purposes. \n",
    "*Assuming that the `_rbc_dataset.json`  is already downloaded in `dataset` folder*\n",
    "\n",
    "* The file is imported as a dataframe and give it the headers as per the documentation.\n",
    "* Cleaning the file to remove the unwanted columns.\n",
    "* A new string is added to the main article column `summarize: ` prior to the actual article. This is done because **T5** had similar formatting for the summarization dataset. \n",
    "* The final Dataframe will be something like this:\n",
    "\n",
    "|Generated Summary|Original Summary|Full Text of the article|\n",
    "|--|--|--|\n",
    "|summary-1|refrence summary-1| article 1|\n",
    "|summary-2|refrence summary-2| article 2|\n",
    "|summary-3|refrence summary-3| article 3|\n",
    "\n",
    "\n",
    "<a id='section503'></a>\n",
    "#### Creation of Dataset and Dataloader\n",
    "\n",
    "* The updated dataframe is divided into 80-20 ratio for test and validation. \n",
    "* Both the data-frames are passed to the `Prepare Dataset` class for tokenization of the new articles and their summaries.\n",
    "* The tokenization is done using the length parameters passed to the class.\n",
    "* Train and Validation parameters are defined and passed to the `pytorch Dataloader contstruct` to create `train` and `validation` data loaders.\n",
    "* These dataloaders will be passed to `train()` and `validate()` respectively for training and validation action.\n",
    "* The shape of datasets is printed in the console.\n",
    "\n",
    "\n",
    "<a id='section504'></a>\n",
    "#### Neural Network and Optimizer\n",
    "\n",
    "* In this stage we define the model and optimizer that will be used for training and to update the weights of the network. \n",
    "* We are using the `t5-base` transformer model for our project. You can read about the `T5 model` and its features above. \n",
    "* We use the `T5ForConditionalGeneration.from_pretrained(\"t5-base\")` commad to define our model. The `T5ForConditionalGeneration` adds a Language Model head to our `T5 model`. The Language Model head allows us to generate text based on the training of `T5 model`.\n",
    "* The `Adam` optimizer has been used in this project. \n",
    "* There is also a scope for doing more with Optimizer such a decay, momentum to dynamically update the Learning rate and other parameters.\n",
    "\n",
    "\n",
    "<a id='section505'></a>\n",
    "#### Training Model\n",
    "\n",
    "* We call the `train()` with all the necessary parameters.\n",
    "* Loss at every 500th step is printed on the console.\n",
    "\n",
    "\n",
    "<a id='section506'></a>\n",
    "#### Validation and generation of Summary\n",
    "\n",
    "* After the training is completed, the validation step is initiated.\n",
    "* As defined in the validation function, the model weights are not updated. We use the fine tuned model to generate new summaries based on the article text.\n",
    "* An output is printed on the console giving a count of how many steps are complete after every 100th step. \n",
    "* The original summary and generated summary are converted into a list and returned to the main function. \n",
    "* Both the lists are used to create the final dataframe with 2 columns **Generated Summary** and **Actual Summary**\n",
    "* The dataframe is saved as a csv file in the local drive.\n",
    "* A qualitative analysis can be done with the Dataframe. "
   ]
  },
  {
   "cell_type": "code",
   "execution_count": null,
   "metadata": {
    "id": "34YhBo3m4Fku"
   },
   "outputs": [],
   "source": [
    "# Importing and Pre-Processing the domain data\n",
    "# Selecting the needed columns only.\n",
    "def select_pair(column_one, column_two, dataset):\n",
    "    df = pd.read_json(dataset)\n",
    "    df = df.transpose()\n",
    "    df = df[[column_one, column_two]]\n",
    "    return df"
   ]
  },
  {
   "cell_type": "code",
   "execution_count": null,
   "metadata": {
    "execution": {
     "iopub.execute_input": "2021-06-23T07:45:14.759815Z",
     "iopub.status.busy": "2021-06-23T07:45:14.758953Z",
     "iopub.status.idle": "2021-06-23T08:35:31.211371Z",
     "shell.execute_reply": "2021-06-23T08:35:31.211817Z"
    },
    "id": "ZtNs9ytpCow2",
    "papermill": {
     "duration": 3016.48112,
     "end_time": "2021-06-23T08:35:31.211982",
     "exception": false,
     "start_time": "2021-06-23T07:45:14.730862",
     "status": "completed"
    },
    "tags": []
   },
   "outputs": [],
   "source": [
    "def main(target_source_pair):\n",
    "\n",
    "    TRAIN_BATCH_SIZE = 2    # input batch size for training (default: 64)\n",
    "    VALID_BATCH_SIZE = 2    # input batch size for testing (default: 1000)\n",
    "    TRAIN_EPOCHS = 2        # number of epochs to train (default: 10)\n",
    "    VAL_EPOCHS = 1 \n",
    "    LEARNING_RATE = 1e-4    # learning rate (default: 0.01)\n",
    "    SEED = 666               # random seed (default: 42)\n",
    "    MAX_LEN = 512\n",
    "    SUMMARY_LEN = 150 \n",
    "\n",
    "    # Set random seeds and deterministic pytorch for reproducibility\n",
    "    torch.manual_seed(SEED) # pytorch random seed\n",
    "    np.random.seed(SEED) # numpy random seed\n",
    "    torch.backends.cudnn.deterministic = True\n",
    "\n",
    "    # tokenzier for encoding the text\n",
    "    MODEL_NAME = 'cointegrated/rut5-base-absum'\n",
    "\n",
    "    rut5_tokenizer = T5Tokenizer.from_pretrained(MODEL_NAME)\n",
    "    model = T5ForConditionalGeneration.from_pretrained(MODEL_NAME)\n",
    "    model = model.to(device)\n",
    "\n",
    "\n",
    "    # Creation of Dataset and Dataloader\n",
    "    # Defining the train size. So 80% of the data will be used for training and the rest will be used for validation. \n",
    "    train_size = 0.8\n",
    "    df = target_source_pair\n",
    "    train_dataset=df.sample(frac=train_size, random_state = SEED).reset_index(drop=True)\n",
    "    val_dataset=df.drop(train_dataset.index).reset_index(drop=True)\n",
    "\n",
    "    print(\"FULL Dataset: {}\".format(df.shape))\n",
    "    print(\"TRAIN Dataset: {}\".format(train_dataset.shape))\n",
    "    print(\"TEST Dataset: {}\".format(val_dataset.shape))\n",
    "\n",
    "\n",
    "    # Creating the Training and Validation dataset for further creation of Dataloader\n",
    "    training_set = Prepare_Dataset(train_dataset, rut5_tokenizer, MAX_LEN, SUMMARY_LEN)\n",
    "    val_set = Prepare_Dataset(val_dataset, rut5_tokenizer, MAX_LEN, SUMMARY_LEN)\n",
    "\n",
    "    # Defining the parameters for creation of dataloaders\n",
    "    train_params = {\n",
    "        'batch_size': TRAIN_BATCH_SIZE,\n",
    "        'shuffle': True,\n",
    "        'num_workers': 0\n",
    "        }\n",
    "\n",
    "    val_params = {\n",
    "        'batch_size': VALID_BATCH_SIZE,\n",
    "        'shuffle': False,\n",
    "        'num_workers': 0\n",
    "        }\n",
    "\n",
    "    # Creation of Dataloaders for testing and validation. This will be used down for training and validation stage for the model.\n",
    "    training_loader = DataLoader(training_set, **train_params)\n",
    "    val_loader = DataLoader(val_set, **val_params)\n",
    "\n",
    "\n",
    "    # Defining the optimizer that will be used to tune the weights of the network in the training session. \n",
    "    optimizer = torch.optim.Adam(params =  model.parameters(), lr=LEARNING_RATE)\n",
    "\n",
    "    # Training loop\n",
    "    print('Initiating Fine-Tuning for the model on our dataset')\n",
    "\n",
    "    for epoch in range(TRAIN_EPOCHS):\n",
    "        train(epoch, rut5_tokenizer, model, device, training_loader, optimizer)\n",
    "\n",
    "\n",
    "    # Validation loop and saving the resulting file with predictions and acutals in a dataframe.\n",
    "    # Saving the dataframe as predictions.csv\n",
    "    print('Now generating summaries on our fine tuned model for the validation dataset and saving it in a dataframe')\n",
    "    for epoch in range(VAL_EPOCHS):\n",
    "        predictions, actual_summaries, actual_text = validate(epoch, rut5_tokenizer, model, device, val_loader)\n",
    "        final_df = pd.DataFrame({'gen_summary':predictions,'ref_summary':actual_summaries, 'Full_Text':actual_text})\n",
    "        final_df.to_csv(\"../outputs/predictions_{}.csv\".format('_'.join(list(df.columns))))\n",
    "        print('Output Files generated for review')"
   ]
  },
  {
   "cell_type": "code",
   "execution_count": null,
   "metadata": {
    "colab": {
     "base_uri": "https://localhost:8080/"
    },
    "id": "qPbaTlgEU7fN",
    "outputId": "160510b5-a416-4a58-b025-1361021726d7"
   },
   "outputs": [
    {
     "name": "stderr",
     "output_type": "stream",
     "text": [
      "Truncation was not explicitly activated but `max_length` is provided a specific value, please use `truncation=True` to explicitly truncate examples to max length. Defaulting to 'longest_first' truncation strategy. If you encode pairs of sequences (GLUE-style) with the tokenizer you can select this strategy more precisely by providing a specific strategy to `truncation`.\n"
     ]
    },
    {
     "name": "stdout",
     "output_type": "stream",
     "text": [
      "FULL Dataset: (1606, 2)\n",
      "TRAIN Dataset: (1285, 2)\n",
      "TEST Dataset: (321, 2)\n",
      "Initiating Fine-Tuning for the model on our dataset\n"
     ]
    },
    {
     "name": "stderr",
     "output_type": "stream",
     "text": [
      "/usr/local/lib/python3.7/dist-packages/transformers/tokenization_utils_base.py:2291: FutureWarning: The `pad_to_max_length` argument is deprecated and will be removed in a future version, use `padding=True` or `padding='longest'` to pad to the longest sequence in the batch, or use `padding='max_length'` to pad to a max length. In this case, you can give a specific length with `max_length` (e.g. `max_length=45`) or leave max_length to None to pad to the maximal input size of the model (e.g. 512 for Bert).\n",
      "  FutureWarning,\n"
     ]
    },
    {
     "name": "stdout",
     "output_type": "stream",
     "text": [
      "Epoch: 0, Loss:  2.8298823833465576\n",
      "Epoch: 0, Loss:  0.027702325955033302\n",
      "Epoch: 1, Loss:  0.020109940320253372\n",
      "Epoch: 1, Loss:  0.029635680839419365\n",
      "Now generating summaries on our fine tuned model for the validation dataset and saving it in a dataframe\n",
      "Completed 0\n",
      "Completed 100\n",
      "Output Files generated for review\n"
     ]
    }
   ],
   "source": [
    "summarization_target = 'article_overview'\n",
    "source_text = 'article_text'\n",
    "dataset = \"../dataset/enumerated_shuffled_rbc_dataset.json\"\n",
    "target_source_pair = select_pair(summarization_target, source_text, dataset)\n",
    "if __name__ == '__main__':\n",
    "    main(target_source_pair)"
   ]
  },
  {
   "cell_type": "code",
   "execution_count": 40,
   "metadata": {
    "colab": {
     "base_uri": "https://localhost:8080/"
    },
    "id": "qo2rUClY00_1",
    "outputId": "c4a24f2b-1a8e-48d5-f276-621e83099597"
   },
   "outputs": [
    {
     "name": "stderr",
     "output_type": "stream",
     "text": [
      "/usr/local/lib/python3.7/dist-packages/pandas/core/frame.py:4913: SettingWithCopyWarning: \n",
      "A value is trying to be set on a copy of a slice from a DataFrame\n",
      "\n",
      "See the caveats in the documentation: https://pandas.pydata.org/pandas-docs/stable/user_guide/indexing.html#returning-a-view-versus-a-copy\n",
      "  errors=errors,\n"
     ]
    }
   ],
   "source": [
    "df_summary = pd.read_csv('predictions_article_overview_article_text.csv', index_col=0)\n",
    "unique_overview_summaries = df_summary[~df_summary.gen_summary.isin(df_summary.ref_summary)]\n",
    "unique_overview_summaries.drop(unique_overview_summaries.columns[unique_overview_summaries.columns.str.contains('unnamed',case = False)],axis = 1, inplace = True)\n",
    "unique_overview_summaries.to_csv('unique_predictions_article_overview_article_text.csv')"
   ]
  },
  {
   "cell_type": "code",
   "execution_count": 41,
   "metadata": {
    "colab": {
     "base_uri": "https://localhost:8080/",
     "height": 206
    },
    "id": "kpdWcsJ809qE",
    "outputId": "695c26e5-eb13-40c5-9573-38a031cfa3f9"
   },
   "outputs": [
    {
     "data": {
      "text/html": [
       "\n",
       "  <div id=\"df-63bf0f92-51a7-4600-b2be-1e5a697056ad\">\n",
       "    <div class=\"colab-df-container\">\n",
       "      <div>\n",
       "<style scoped>\n",
       "    .dataframe tbody tr th:only-of-type {\n",
       "        vertical-align: middle;\n",
       "    }\n",
       "\n",
       "    .dataframe tbody tr th {\n",
       "        vertical-align: top;\n",
       "    }\n",
       "\n",
       "    .dataframe thead th {\n",
       "        text-align: right;\n",
       "    }\n",
       "</style>\n",
       "<table border=\"1\" class=\"dataframe\">\n",
       "  <thead>\n",
       "    <tr style=\"text-align: right;\">\n",
       "      <th></th>\n",
       "      <th>gen_summary</th>\n",
       "      <th>ref_summary</th>\n",
       "      <th>full_text</th>\n",
       "    </tr>\n",
       "  </thead>\n",
       "  <tbody>\n",
       "    <tr>\n",
       "      <th>0</th>\n",
       "      <td>Brent отыграла падение и торгуется в районе $7...</td>\n",
       "      <td>Стоимость российской экспортной нефти Urals в ...</td>\n",
       "      <td>Цена на нефть Urals упала ниже $70 Стоимость р...</td>\n",
       "    </tr>\n",
       "    <tr>\n",
       "      <th>3</th>\n",
       "      <td>С конца мая, после того как министр науки и вы...</td>\n",
       "      <td>Ректоры ведущих российских вузов по просьбе РБ...</td>\n",
       "      <td>Ректоры назвали плюсы и минусы Болонской систе...</td>\n",
       "    </tr>\n",
       "    <tr>\n",
       "      <th>6</th>\n",
       "      <td>Вероятность введения таких санкций, как и веро...</td>\n",
       "      <td>Ограничение на конвертируемость рубля — экзоти...</td>\n",
       "      <td>Аналитики оценили последствия возможных санкци...</td>\n",
       "    </tr>\n",
       "    <tr>\n",
       "      <th>11</th>\n",
       "      <td>В первом квартале 2022 года сборы страховщиков...</td>\n",
       "      <td>Страховщики отмечают значительное снижение сбо...</td>\n",
       "      <td>Сборы по инвестиционному страхованию жизни упа...</td>\n",
       "    </tr>\n",
       "    <tr>\n",
       "      <th>14</th>\n",
       "      <td>Глава МИД Великобритании Трасс осудила пригово...</td>\n",
       "      <td>Глава МИД Великобритании Трасс осудила пригово...</td>\n",
       "      <td>Лондон назвал фиктивным правосудием приговор б...</td>\n",
       "    </tr>\n",
       "  </tbody>\n",
       "</table>\n",
       "</div>\n",
       "      <button class=\"colab-df-convert\" onclick=\"convertToInteractive('df-63bf0f92-51a7-4600-b2be-1e5a697056ad')\"\n",
       "              title=\"Convert this dataframe to an interactive table.\"\n",
       "              style=\"display:none;\">\n",
       "        \n",
       "  <svg xmlns=\"http://www.w3.org/2000/svg\" height=\"24px\"viewBox=\"0 0 24 24\"\n",
       "       width=\"24px\">\n",
       "    <path d=\"M0 0h24v24H0V0z\" fill=\"none\"/>\n",
       "    <path d=\"M18.56 5.44l.94 2.06.94-2.06 2.06-.94-2.06-.94-.94-2.06-.94 2.06-2.06.94zm-11 1L8.5 8.5l.94-2.06 2.06-.94-2.06-.94L8.5 2.5l-.94 2.06-2.06.94zm10 10l.94 2.06.94-2.06 2.06-.94-2.06-.94-.94-2.06-.94 2.06-2.06.94z\"/><path d=\"M17.41 7.96l-1.37-1.37c-.4-.4-.92-.59-1.43-.59-.52 0-1.04.2-1.43.59L10.3 9.45l-7.72 7.72c-.78.78-.78 2.05 0 2.83L4 21.41c.39.39.9.59 1.41.59.51 0 1.02-.2 1.41-.59l7.78-7.78 2.81-2.81c.8-.78.8-2.07 0-2.86zM5.41 20L4 18.59l7.72-7.72 1.47 1.35L5.41 20z\"/>\n",
       "  </svg>\n",
       "      </button>\n",
       "      \n",
       "  <style>\n",
       "    .colab-df-container {\n",
       "      display:flex;\n",
       "      flex-wrap:wrap;\n",
       "      gap: 12px;\n",
       "    }\n",
       "\n",
       "    .colab-df-convert {\n",
       "      background-color: #E8F0FE;\n",
       "      border: none;\n",
       "      border-radius: 50%;\n",
       "      cursor: pointer;\n",
       "      display: none;\n",
       "      fill: #1967D2;\n",
       "      height: 32px;\n",
       "      padding: 0 0 0 0;\n",
       "      width: 32px;\n",
       "    }\n",
       "\n",
       "    .colab-df-convert:hover {\n",
       "      background-color: #E2EBFA;\n",
       "      box-shadow: 0px 1px 2px rgba(60, 64, 67, 0.3), 0px 1px 3px 1px rgba(60, 64, 67, 0.15);\n",
       "      fill: #174EA6;\n",
       "    }\n",
       "\n",
       "    [theme=dark] .colab-df-convert {\n",
       "      background-color: #3B4455;\n",
       "      fill: #D2E3FC;\n",
       "    }\n",
       "\n",
       "    [theme=dark] .colab-df-convert:hover {\n",
       "      background-color: #434B5C;\n",
       "      box-shadow: 0px 1px 3px 1px rgba(0, 0, 0, 0.15);\n",
       "      filter: drop-shadow(0px 1px 2px rgba(0, 0, 0, 0.3));\n",
       "      fill: #FFFFFF;\n",
       "    }\n",
       "  </style>\n",
       "\n",
       "      <script>\n",
       "        const buttonEl =\n",
       "          document.querySelector('#df-63bf0f92-51a7-4600-b2be-1e5a697056ad button.colab-df-convert');\n",
       "        buttonEl.style.display =\n",
       "          google.colab.kernel.accessAllowed ? 'block' : 'none';\n",
       "\n",
       "        async function convertToInteractive(key) {\n",
       "          const element = document.querySelector('#df-63bf0f92-51a7-4600-b2be-1e5a697056ad');\n",
       "          const dataTable =\n",
       "            await google.colab.kernel.invokeFunction('convertToInteractive',\n",
       "                                                     [key], {});\n",
       "          if (!dataTable) return;\n",
       "\n",
       "          const docLinkHtml = 'Like what you see? Visit the ' +\n",
       "            '<a target=\"_blank\" href=https://colab.research.google.com/notebooks/data_table.ipynb>data table notebook</a>'\n",
       "            + ' to learn more about interactive tables.';\n",
       "          element.innerHTML = '';\n",
       "          dataTable['output_type'] = 'display_data';\n",
       "          await google.colab.output.renderOutput(dataTable, element);\n",
       "          const docLink = document.createElement('div');\n",
       "          docLink.innerHTML = docLinkHtml;\n",
       "          element.appendChild(docLink);\n",
       "        }\n",
       "      </script>\n",
       "    </div>\n",
       "  </div>\n",
       "  "
      ],
      "text/plain": [
       "                                          gen_summary  \\\n",
       "0   Brent отыграла падение и торгуется в районе $7...   \n",
       "3   С конца мая, после того как министр науки и вы...   \n",
       "6   Вероятность введения таких санкций, как и веро...   \n",
       "11  В первом квартале 2022 года сборы страховщиков...   \n",
       "14  Глава МИД Великобритании Трасс осудила пригово...   \n",
       "\n",
       "                                          ref_summary  \\\n",
       "0   Стоимость российской экспортной нефти Urals в ...   \n",
       "3   Ректоры ведущих российских вузов по просьбе РБ...   \n",
       "6   Ограничение на конвертируемость рубля — экзоти...   \n",
       "11  Страховщики отмечают значительное снижение сбо...   \n",
       "14  Глава МИД Великобритании Трасс осудила пригово...   \n",
       "\n",
       "                                            full_text  \n",
       "0   Цена на нефть Urals упала ниже $70 Стоимость р...  \n",
       "3   Ректоры назвали плюсы и минусы Болонской систе...  \n",
       "6   Аналитики оценили последствия возможных санкци...  \n",
       "11  Сборы по инвестиционному страхованию жизни упа...  \n",
       "14  Лондон назвал фиктивным правосудием приговор б...  "
      ]
     },
     "execution_count": 41,
     "metadata": {},
     "output_type": "execute_result"
    }
   ],
   "source": [
    "unique_overview_summaries.head()"
   ]
  },
  {
   "cell_type": "code",
   "execution_count": null,
   "metadata": {
    "colab": {
     "base_uri": "https://localhost:8080/"
    },
    "id": "i9jruvsgzyDM",
    "outputId": "19cfd762-c060-4f34-dcba-319ec674ff24"
   },
   "outputs": [
    {
     "name": "stderr",
     "output_type": "stream",
     "text": [
      "Truncation was not explicitly activated but `max_length` is provided a specific value, please use `truncation=True` to explicitly truncate examples to max length. Defaulting to 'longest_first' truncation strategy. If you encode pairs of sequences (GLUE-style) with the tokenizer you can select this strategy more precisely by providing a specific strategy to `truncation`.\n"
     ]
    },
    {
     "name": "stdout",
     "output_type": "stream",
     "text": [
      "FULL Dataset: (1606, 2)\n",
      "TRAIN Dataset: (1285, 2)\n",
      "TEST Dataset: (321, 2)\n",
      "Initiating Fine-Tuning for the model on our dataset\n"
     ]
    },
    {
     "name": "stderr",
     "output_type": "stream",
     "text": [
      "/usr/local/lib/python3.7/dist-packages/transformers/tokenization_utils_base.py:2291: FutureWarning: The `pad_to_max_length` argument is deprecated and will be removed in a future version, use `padding=True` or `padding='longest'` to pad to the longest sequence in the batch, or use `padding='max_length'` to pad to a max length. In this case, you can give a specific length with `max_length` (e.g. `max_length=45`) or leave max_length to None to pad to the maximal input size of the model (e.g. 512 for Bert).\n",
      "  FutureWarning,\n"
     ]
    },
    {
     "name": "stdout",
     "output_type": "stream",
     "text": [
      "Epoch: 0, Loss:  3.030496120452881\n",
      "Epoch: 0, Loss:  0.15729039907455444\n",
      "Epoch: 1, Loss:  0.0027713566087186337\n",
      "Epoch: 1, Loss:  0.01170279085636139\n",
      "Now generating summaries on our fine tuned model for the validation dataset and saving it in a dataframe\n",
      "Completed 0\n",
      "Completed 100\n",
      "Output Files generated for review\n"
     ]
    }
   ],
   "source": [
    "summarization_target = 'headline'\n",
    "source_text = 'article_text'\n",
    "dataset = \"../dataset/enumerated_shuffled_rbc_dataset.json\"\n",
    "target_source_pair = select_pair(summarization_target, source_text, dataset)\n",
    "if __name__ == '__main__':\n",
    "    main(target_source_pair)"
   ]
  },
  {
   "cell_type": "code",
   "execution_count": 2,
   "metadata": {
    "id": "dWYwBDJU5Dza"
   },
   "outputs": [],
   "source": [
    "import pandas as pd\n",
    "df_summary = pd.read_csv('../outputs/predictions_headline_article_text.csv', index_col=0)"
   ]
  },
  {
   "cell_type": "code",
   "execution_count": null,
   "metadata": {
    "colab": {
     "base_uri": "https://localhost:8080/",
     "height": 293
    },
    "id": "eOQS_qL35Hkr",
    "outputId": "5d091ee6-cd8b-4886-e34d-36c8117ba875"
   },
   "outputs": [],
   "source": [
    "unique_headline_summaries = df_summary[~df_summary.gen_summary.isin(df_summary.ref_summary)]\n",
    "unique_headline_summaries.drop(unique_headline_summaries.columns[unique_headline_summaries.columns.str.contains('unnamed',case = False)],axis = 1, inplace = True)\n",
    "unique_headline_summaries.to_csv('../outputs/unique_predictions_headline_article_text.csv')\n",
    "unique_headline_summaries.head()"
   ]
  },
  {
   "cell_type": "code",
   "execution_count": 4,
   "metadata": {
    "id": "VAX_XpIshNVf"
   },
   "outputs": [],
   "source": [
    "unique_headline_summaries = pd.read_csv('../outputs/unique_predictions_headline_article_text.csv', index_col=0)\n",
    "dataset_size = unique_headline_summaries.size"
   ]
  },
  {
   "cell_type": "code",
   "execution_count": 5,
   "metadata": {
    "id": "9pFtp-n8hNYn"
   },
   "outputs": [],
   "source": [
    "data = unique_headline_summaries.values.tolist()"
   ]
  },
  {
   "cell_type": "code",
   "execution_count": 7,
   "metadata": {
    "colab": {
     "base_uri": "https://localhost:8080/"
    },
    "id": "1Gj8MNdikxpN",
    "outputId": "88f93f73-f1ac-4b06-f58d-09d9630d30cf"
   },
   "outputs": [
    {
     "data": {
      "text/plain": [
       "['На Meta приобрела товарный знак одноименного американского банка за $60 млн',\n",
       " 'Meta приобрела товарный знак одноименного американского банка за $60 млн',\n",
       " 'Meta приобрела товарный знак одноименного американского банка за $60 млн Meta Цукерберга купила в США товарный знак одноименного банка за $60 млн Компания Facebook сменила название на Meta в конце октября. Теперь она купила товарный знак у одноименного банка. Представитель Meta говорит, что переговоры с банком велись еще до того, как было объявлено о смене названия Meta Platforms FB $333,99 -0,15% Купить Американская компания Meta Platforms (владеет социальной сетью Facebook) приобрела товарный знак одноименного американского банка (MetaBank) за $60 млн. Об этом сообщает Reuters со ссылкой на представителей компаний. Представитель Meta Financial Group (материнская компания MetaBank) сообщил, что сделку от лица Meta Platforms оформила компания Beige Key из штата Делавэр. Кто является владельцем Beige Key, не раскрывается. «Beige Key является аффилированной с нами компанией, и мы действительно приобрели активы под этой торговой маркой», — сказал представитель Meta Platforms. Представитель MetaBank подтвердил Reuters участие Meta Platforms в сделке. По словам представителей Meta Platforms, переговоры с банком компания вела еще до того, как было объявлено о смене названия Facebook. www.adv.rbc.ru О том, что Facebook Inc., владеющая одноименной социальной сетью, а также сервисами Instagram и WhatsApp, поменяет название на Meta, основатель компании Марк Цукерберг сообщил в конце октября в рамках презентации нового продукта — Metaverse (метавселенной). Смена названия нужна, чтобы пользователи воспринимали Facebook именно как разработчика метавселенной, пояснил он. Под метавселенной понимается собрание цифровых миров. Речь идет о продукте, в котором будут использоваться технологии виртуальной (VR) и дополненной (AR) реальности. По прогнозу Цукерберга, его разработка займет 5–10 лет.']"
      ]
     },
     "execution_count": 7,
     "metadata": {},
     "output_type": "execute_result"
    }
   ],
   "source": [
    "data[0] #example"
   ]
  },
  {
   "cell_type": "markdown",
   "metadata": {},
   "source": [
    "<a id='section06'></a>\n",
    "### Evaluation with ROUGE and BLEU metrics\n",
    "\n",
    "* ROUGE is a proxy metric for abstractive summarization.\n",
    "* In practice one of the most common metrics used to measure the performance of a summarization model is called the ROUGE score (Recall-Oriented Understudy for Gisting Evaluation) \n",
    "* The algorithm to compute ROUGE score considers consecutive tokens i.e. n-grams.\n",
    "* The n-grams from one text (e.g. the human-written summary) are compared to the n-grams of the other text (e.g. the machine-written summary).\n",
    "* A large overlap of n-grams results in a high ROUGE score and a low overlap — in a low ROUGE score. \n",
    "* For text summarization we want to look at ROUGE longest common subsequence (ROUGE L) as this will give us the longest overlap.\n",
    "* For the ROGUE we know it uses both recall and precision, and also the F1 score which is the harmonic mean of these.\n",
    "* For BLEU, well it also use precision twinned with recall but uses geometric mean and brevity penalty.\n",
    "* The difference between the ROUGE-n precision and BLEU is that BLEU introduces a brevity penalty term, and also compute the n-gram match for several size of n-grams (unlike the ROUGE-n, where there is only one chosen n-gram size). A good answer (https://stackoverflow.com/a/39190391/12178630)"
   ]
  },
  {
   "cell_type": "code",
   "execution_count": 24,
   "metadata": {
    "colab": {
     "base_uri": "https://localhost:8080/"
    },
    "id": "dpbTL6oLhNLV",
    "outputId": "5880c54b-fc54-4141-c65b-e681d6bd24ab"
   },
   "outputs": [
    {
     "name": "stdout",
     "output_type": "stream",
     "text": [
      "Looking in indexes: https://pypi.org/simple, https://us-python.pkg.dev/colab-wheels/public/simple/\n",
      "Collecting rouge_score\n",
      "  Downloading rouge_score-0.0.4-py2.py3-none-any.whl (22 kB)\n",
      "Requirement already satisfied: six>=1.14.0 in /usr/local/lib/python3.7/dist-packages (from rouge_score) (1.15.0)\n",
      "Requirement already satisfied: nltk in /usr/local/lib/python3.7/dist-packages (from rouge_score) (3.7)\n",
      "Requirement already satisfied: absl-py in /usr/local/lib/python3.7/dist-packages (from rouge_score) (1.1.0)\n",
      "Requirement already satisfied: numpy in /usr/local/lib/python3.7/dist-packages (from rouge_score) (1.21.6)\n",
      "Requirement already satisfied: joblib in /usr/local/lib/python3.7/dist-packages (from nltk->rouge_score) (1.1.0)\n",
      "Requirement already satisfied: regex>=2021.8.3 in /usr/local/lib/python3.7/dist-packages (from nltk->rouge_score) (2022.6.2)\n",
      "Requirement already satisfied: tqdm in /usr/local/lib/python3.7/dist-packages (from nltk->rouge_score) (4.64.0)\n",
      "Requirement already satisfied: click in /usr/local/lib/python3.7/dist-packages (from nltk->rouge_score) (7.1.2)\n",
      "Installing collected packages: rouge-score\n",
      "Successfully installed rouge-score-0.0.4\n"
     ]
    }
   ],
   "source": [
    "!pip install rouge_score"
   ]
  },
  {
   "cell_type": "code",
   "execution_count": 25,
   "metadata": {
    "id": "gQpsA2jlhNNq"
   },
   "outputs": [],
   "source": [
    "def calculate_Rouge_Score(summary, reference):\n",
    "    #Rouge N: N-gram scoring\n",
    "    #Rouge L: sentence-level: Compute longest common subsequence (LCS) between two pieces of text. Newlines are ignored.\n",
    "    #RougeLsum: summary-level: Newlines in the text are interpreted as sentence boundaries, and the LCS is computed between each pair of reference and candidate sentences, and something called union-LCS is computed.\n",
    "    scorer = rouge_scorer.RougeScorer(['rouge1', 'rouge2', 'rougeLsum', 'rougeL'], use_stemmer=True)\n",
    "    scores = scorer.score(summary,reference)\n",
    "    return scores"
   ]
  },
  {
   "cell_type": "code",
   "execution_count": 26,
   "metadata": {
    "id": "GhUZHM85hNQh"
   },
   "outputs": [],
   "source": [
    "def getTokens(test):\n",
    "    test = test.translate(str.maketrans('','',string.punctuation))\n",
    "    test_list = word_tokenize(test)\n",
    "    return test_list\n"
   ]
  },
  {
   "cell_type": "code",
   "execution_count": 27,
   "metadata": {
    "id": "SAGQw-EuhNS1"
   },
   "outputs": [],
   "source": [
    "def calculate_Bleu_Score(summary, reference):\n",
    "    summary_tokens = getTokens(summary)\n",
    "    reference_tokens = getTokens(reference)\n",
    "    reference_tokens = [reference_tokens]\n",
    "    smoothie = SmoothingFunction().method1\n",
    "    weights_unigram = (1, 0, 0, 0)\n",
    "    weights_bigram = (0, 1, 0, 0)\n",
    "    weights_trigram = (0, 0, 1, 0)\n",
    "    weights_fourgram = (0, 0, 0, 1)\n",
    "    bleu_score_unigram = sentence_bleu(reference_tokens,summary_tokens,smoothing_function=smoothie, weights = weights_unigram) #BLEU-1,2,3,4\n",
    "    bleu_score_bigram = sentence_bleu(reference_tokens,summary_tokens,smoothing_function=smoothie, weights = weights_bigram)\n",
    "    bleu_score_trigram = sentence_bleu(reference_tokens,summary_tokens,smoothing_function=smoothie, weights = weights_trigram)\n",
    "    bleu_score_fourgram = sentence_bleu(reference_tokens,summary_tokens,smoothing_function=smoothie, weights = weights_fourgram)\n",
    "    return bleu_score_unigram, bleu_score_bigram, bleu_score_trigram, bleu_score_fourgram"
   ]
  },
  {
   "cell_type": "code",
   "execution_count": 46,
   "metadata": {
    "id": "dptvCm6GkiHD"
   },
   "outputs": [],
   "source": [
    "num_examples = 100\n",
    "count = 0\n",
    "retention_percentage = 60"
   ]
  },
  {
   "cell_type": "code",
   "execution_count": 49,
   "metadata": {
    "id": "iqgBpEQJkiJC"
   },
   "outputs": [],
   "source": [
    "bleu_scores = np.zeros((1,4), dtype=float) #Blue -1,2,3,4\n",
    "rouge1_scores = np.zeros((1,3), dtype=float) #Rouge F-measures for rouge 1, rouge 2, rouge L, rouge Lsum\n",
    "rouge2_scores = np.zeros((1,3), dtype=float)\n",
    "rougeL_scores = np.zeros((1,3), dtype=float)\n",
    "rougeLsum_scores = np.zeros((1,3), dtype=float)"
   ]
  },
  {
   "cell_type": "code",
   "execution_count": null,
   "metadata": {
    "id": "_3U10KOHkiLo"
   },
   "outputs": [],
   "source": [
    "for example in data:\n",
    "    #Generating Summary\n",
    "    if count == num_examples:\n",
    "        break\n",
    "\n",
    "    summary = example[0]\n",
    "    reference = example[1]\n",
    "    text = example[2]\n",
    "    #Calculating Bleu Scores\n",
    "    bleu = np.asarray(calculate_Bleu_Score(summary, reference), dtype=np.float32)\n",
    "    bleu_scores = np.sum((bleu_scores, bleu), axis = 0) \n",
    "    #Calculating Rouge Scores\n",
    "    rouge_scores_list = calculate_Rouge_Score(summary, reference)\n",
    "    rouge1 = np.asarray(rouge_scores_list['rouge1'], dtype = np.float32)\n",
    "    rouge1_scores = np.sum((rouge1_scores, rouge1), axis=0)\n",
    "    rouge2 = np.asarray(rouge_scores_list['rouge2'], dtype = np.float32)\n",
    "    rouge2_scores = np.sum((rouge2_scores, rouge2), axis=0)\n",
    "    rougeL = np.asarray(rouge_scores_list['rougeL'], dtype = np.float32)\n",
    "    rougeL_scores = np.sum((rougeL_scores, rougeL), axis=0)\n",
    "    rougeLsum = np.asarray(rouge_scores_list['rougeLsum'], dtype = np.float32)\n",
    "    rougeLsum_scores = np.sum((rougeLsum_scores, rougeLsum), axis=0)\n",
    "    count+=1\n",
    "    # print(\"Example Number {} done\".format(count))\n",
    "    \n",
    "bleu_scores /= num_examples\n",
    "rouge1_scores/=num_examples\n",
    "rouge2_scores/=num_examples\n",
    "rougeL_scores/=num_examples\n",
    "rougeLsum_scores/=num_examples\n",
    "    "
   ]
  },
  {
   "cell_type": "code",
   "execution_count": 61,
   "metadata": {
    "colab": {
     "base_uri": "https://localhost:8080/"
    },
    "id": "E22u55zEltAs",
    "outputId": "da536c23-dfd7-4194-8aa8-d17ce3f32d2c"
   },
   "outputs": [
    {
     "name": "stdout",
     "output_type": "stream",
     "text": [
      "Final Blue Scores [[0.55628111 0.54258672 0.52328861 0.49508963]]\n",
      "Final ROUGE1 Scores [[0.1975 0.2125 0.2005]]\n",
      "Final ROUGE2 Scores [[0.04166667 0.04666667 0.04333333]]\n",
      "Final ROUGEL Scores [[0.1975 0.2125 0.2005]]\n",
      "Final ROUGELsum Scores [[0.1975 0.2125 0.2005]]\n"
     ]
    }
   ],
   "source": [
    "print(\"Final Blue Scores\", bleu_scores)\n",
    "print(\"Final ROUGE1 Scores\", rouge1_scores)\n",
    "print(\"Final ROUGE2 Scores\", rouge2_scores)\n",
    "print(\"Final ROUGEL Scores\", rougeL_scores)\n",
    "print(\"Final ROUGELsum Scores\", rougeLsum_scores)"
   ]
  },
  {
   "cell_type": "code",
   "execution_count": 62,
   "metadata": {
    "id": "LuT-95Gcl2MU"
   },
   "outputs": [],
   "source": [
    "import matplotlib.pyplot as plt"
   ]
  },
  {
   "cell_type": "code",
   "execution_count": 63,
   "metadata": {
    "id": "29j0epD4l2Pu"
   },
   "outputs": [],
   "source": [
    "rouge_eval = []\n",
    "rouge_eval.append(rouge1_scores[0].tolist())\n",
    "rouge_eval.append(rouge2_scores[0].tolist())\n",
    "rouge_eval.append(rougeL_scores[0].tolist())\n",
    "rouge_eval.append(rougeLsum_scores[0].tolist())\n",
    "\n",
    "rouge_eval = (np.array(rouge_eval))"
   ]
  },
  {
   "cell_type": "code",
   "execution_count": 64,
   "metadata": {
    "id": "5KP2rBvul2Sd"
   },
   "outputs": [],
   "source": [
    "column_headers = [[\"Bleu Scores\"],[\"Precision\", \"Recall\", \"F-Measure\"]]\n",
    "row_headers = [[\"BLEU-1\", \"BLEU-2\", \"BLEU-3\", \"BLEU-4\"],[\"ROUGE-1\", \"ROUGE-2\", \"ROUGE-L\", \"ROUGE-Lsum\"]]\n",
    "cell_text_bleu = bleu_scores.T\n",
    "cell_text_rouge = rouge_eval"
   ]
  },
  {
   "cell_type": "code",
   "execution_count": 77,
   "metadata": {
    "colab": {
     "base_uri": "https://localhost:8080/",
     "height": 153
    },
    "id": "2J_dtGZMl66A",
    "outputId": "1c6a33b1-cece-4b01-a1a4-31083717182d"
   },
   "outputs": [
    {
     "data": {
      "image/png": "[encoded data removed]",
      "text/plain": [
       "<Figure size 720x144 with 1 Axes>"
      ]
     },
     "metadata": {
      "needs_background": "light"
     },
     "output_type": "display_data"
    }
   ],
   "source": [
    "rcolors = plt.cm.BuPu(np.full(len(row_headers[0]), 0.1))\n",
    "ccolors = plt.cm.BuPu(np.full(len(column_headers[0]), 0.1))\n",
    "plt.rcParams[\"figure.figsize\"] = [10.00, 2.00]\n",
    "plt.rcParams[\"figure.autolayout\"] = True\n",
    "fig, axs = plt.subplots(1, 1)\n",
    "axs.axis('tight')\n",
    "axs.axis('off')\n",
    "table = plt.table(cellText=cell_text_bleu,\n",
    "                    rowLabels=row_headers[0],\n",
    "                    rowColours=rcolors,\n",
    "                    colColours = ccolors,\n",
    "                    colLabels=column_headers[0],\n",
    "                    loc='center')\n",
    "plt.title('BLEU SCORE EVALUATION')\n",
    "plt.show()"
   ]
  },
  {
   "cell_type": "code",
   "execution_count": 78,
   "metadata": {
    "colab": {
     "base_uri": "https://localhost:8080/",
     "height": 153
    },
    "id": "xEzfdLaVl680",
    "outputId": "6142f0b6-de82-40fc-cf10-927a313ea4b2"
   },
   "outputs": [
    {
     "data": {
      "image/png": "[encoded data removed]",
      "text/plain": [
       "<Figure size 1080x144 with 1 Axes>"
      ]
     },
     "metadata": {
      "needs_background": "light"
     },
     "output_type": "display_data"
    }
   ],
   "source": [
    "import numpy as np\n",
    "from matplotlib import pyplot as plt\n",
    "rcolors = plt.cm.BuPu(np.full(len(row_headers[1]), 0.1))\n",
    "ccolors = plt.cm.BuPu(np.full(len(column_headers[1]), 0.1))\n",
    "plt.rcParams[\"figure.figsize\"] = [15.00, 2.0]\n",
    "plt.rcParams[\"figure.autolayout\"] = True\n",
    "fig, axs = plt.subplots(1, 1)\n",
    "data = cell_text_rouge\n",
    "columns = column_headers[1]\n",
    "rows = row_headers[1]\n",
    "axs.axis('tight')\n",
    "axs.axis('off')\n",
    "the_table = axs.table(cellText=data, \n",
    "                      colLabels=columns,\n",
    "                      rowLabels=rows,\n",
    "                      rowColours = rcolors,\n",
    "                      colColours = ccolors,\n",
    "                      loc='center')\n",
    "plt.title('ROUGE SCORE EVALUATION')\n",
    "plt.show()"
   ]
  }
 ],
 "metadata": {
  "accelerator": "GPU",
  "colab": {
   "collapsed_sections": [],
   "name": "summarization_T5_finetune.ipynb",
   "provenance": []
  },
  "gpuClass": "standard",
  "kernelspec": {
   "display_name": "Python 3 (ipykernel)",
   "language": "python",
   "name": "python3"
  },
  "language_info": {
   "codemirror_mode": {
    "name": "ipython",
    "version": 3
   },
   "file_extension": ".py",
   "mimetype": "text/x-python",
   "name": "python",
   "nbconvert_exporter": "python",
   "pygments_lexer": "ipython3",
   "version": "3.7.6"
  },
  "papermill": {
   "duration": 3035.58791,
   "end_time": "2021-06-23T08:35:31.542200",
   "environment_variables": {},
   "exception": null,
   "input_path": "__notebook__.ipynb",
   "output_path": "__notebook__.ipynb",
   "parameters": {},
   "start_time": "2021-06-23T07:44:55.954290",
   "version": "2.1.0"
  }
 },
 "nbformat": 4,
 "nbformat_minor": 4
}
