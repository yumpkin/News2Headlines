{
  "cells": [
    {
      "cell_type": "markdown",
      "metadata": {
        "id": "IttWpyRvyWT4",
        "papermill": {
          "duration": 0.010611,
          "end_time": "2021-06-23T07:44:59.689478",
          "exception": false,
          "start_time": "2021-06-23T07:44:59.678867",
          "status": "completed"
        },
        "tags": []
      },
      "source": [
        "# Fine Tuning T5 Transformer for Summary Generation"
      ]
    },
    {
      "cell_type": "markdown",
      "metadata": {
        "id": "dHsjQaPtyWUa",
        "papermill": {
          "duration": 0.008977,
          "end_time": "2021-06-23T07:44:59.708023",
          "exception": false,
          "start_time": "2021-06-23T07:44:59.699046",
          "status": "completed"
        },
        "tags": []
      },
      "source": [
        "\n",
        "\n",
        "#### Contents\n",
        "\n",
        "1. [Preparing Environment and Importing Libraries](#section01)\n",
        "2. [Preparing the Dataset for data processing: Class](#section02)\n",
        "3. [Fine Tuning the Model: Function](#section03)\n",
        "4. [Validating the Model Performance: Function](#section04)\n",
        "5. [Main Function](#section05)\n",
        "    * [Creation of Dataset and Dataloader](#section503)\n",
        "    * [Neural Network and Optimizer](#section504)\n",
        "    * [Validation and generation of Summary](#section506)\n",
        "6. [Examples of the Summary Generated from the model](#section06)\n",
        "\n",
        "\n",
        "#### Technical Details\n",
        "\n",
        "\n",
        "- **Data**:\n",
        "\t- We are using the News Summary dataset \"shuffled_ria_dataset.json\"\n",
        "\t- This dataset is the collection created from RBC news agency daily articles.\n",
        "\t- There are`1601` rows of data. Where each row has the following data-point:\n",
        "\t\t- **headline** : The headline of the article\n",
        "\t\t- **overview**: An annotation(caption) before the article itself\n",
        "\t\t- **body** : The actual full-text of the article\n",
        "\t\t- **category**: The category of the article\n",
        "\t\t- **tags**: The main tags related to the article\n",
        "\n",
        "\n",
        "- **Language Model Used**: \n",
        "    - This notebook we will use transformers model ***T5***. [Research Paper](https://arxiv.org/abs/1910.10683)    \n",
        "    - **Text-2-Text** - All NLP tasks are converted to a **text-to-text** problem. Tasks such as translation, classification, summarization and question answering, all of them are treated as a text-to-text problems.\n",
        "\t\n",
        "   - [Documentation for python](https://huggingface.co/transformers/model_doc/t5.html)\n",
        "\n",
        "![**Each NLP problem as a “text-to-text” problem** - input: text, output: text](https://miro.medium.com/max/947/1*voAo0zBPTCVrwcut1oHtEg.png) \n",
        "\t \n",
        "\n",
        "- **Objective**:\n",
        "\t- The objective is to fine tune ***T5*** to be able to generate summary, that is close to or better than the actual summary while ensuring the important information from the article is not lost."
      ]
    },
    {
      "cell_type": "markdown",
      "metadata": {
        "id": "ZjrXXohpyWUs",
        "papermill": {
          "duration": 0.009305,
          "end_time": "2021-06-23T07:44:59.726450",
          "exception": false,
          "start_time": "2021-06-23T07:44:59.717145",
          "status": "completed"
        },
        "tags": []
      },
      "source": [
        "<a id='section01'></a>\n",
        "### Preparing Environment and Importing Libraries\n",
        "\n",
        "Installation of necessary libraries and importing them\n",
        "We will be installing:\n",
        "* transformers\n",
        "* sentencepiece\n",
        "\n",
        "Libraries imported are:\n",
        "* Pandas\n",
        "* Pytorch\n",
        "* Pytorch Utils for Dataset and Dataloader\n",
        "* Transformers\n",
        "* T5 Model and Tokenizer (From Transformers)"
      ]
    },
    {
      "cell_type": "code",
      "execution_count": 47,
      "metadata": {
        "colab": {
          "base_uri": "https://localhost:8080/"
        },
        "execution": {
          "iopub.execute_input": "2021-06-23T07:44:59.749932Z",
          "iopub.status.busy": "2021-06-23T07:44:59.749211Z",
          "iopub.status.idle": "2021-06-23T07:45:06.630340Z",
          "shell.execute_reply": "2021-06-23T07:45:06.629356Z"
        },
        "id": "WD_vnyLXZQzD",
        "outputId": "311f2631-45ff-47f4-b808-1990e0eae6c3",
        "papermill": {
          "duration": 6.894951,
          "end_time": "2021-06-23T07:45:06.630455",
          "exception": false,
          "start_time": "2021-06-23T07:44:59.735504",
          "status": "completed"
        },
        "tags": []
      },
      "outputs": [
        {
          "output_type": "stream",
          "name": "stdout",
          "text": [
            "\u001b[K     |████████████████████████████████| 4.2 MB 8.5 MB/s \n",
            "\u001b[K     |████████████████████████████████| 86 kB 5.7 MB/s \n",
            "\u001b[K     |████████████████████████████████| 596 kB 59.1 MB/s \n",
            "\u001b[K     |████████████████████████████████| 6.6 MB 50.0 MB/s \n",
            "\u001b[?25hLooking in indexes: https://pypi.org/simple, https://us-python.pkg.dev/colab-wheels/public/simple/\n",
            "Collecting sentencepiece\n",
            "  Downloading sentencepiece-0.1.96-cp37-cp37m-manylinux_2_17_x86_64.manylinux2014_x86_64.whl (1.2 MB)\n",
            "\u001b[K     |████████████████████████████████| 1.2 MB 8.0 MB/s \n",
            "\u001b[?25hInstalling collected packages: sentencepiece\n",
            "Successfully installed sentencepiece-0.1.96\n"
          ]
        }
      ],
      "source": [
        "!pip install transformers -q\n",
        "!pip install sentencepiece\n",
        "\n",
        "# Code for TPU packages install\n",
        "# !curl -q https://raw.githubusercontent.com/pytorch/xla/master/contrib/scripts/env-setup.py -o pytorch-xla-env-setup.py\n",
        "# !python pytorch-xla-env-setup.py --apt-packages libomp5 libopenblas-dev"
      ]
    },
    {
      "cell_type": "code",
      "execution_count": 48,
      "metadata": {
        "colab": {
          "base_uri": "https://localhost:8080/"
        },
        "id": "eqht18PlRevz",
        "outputId": "1edb5ab8-17d1-45a1-a2e5-b97ee105cce7"
      },
      "outputs": [
        {
          "output_type": "stream",
          "name": "stdout",
          "text": [
            "Looking in indexes: https://pypi.org/simple, https://us-python.pkg.dev/colab-wheels/public/simple/\n",
            "Requirement already satisfied: rouge_score in /usr/local/lib/python3.7/dist-packages (0.0.4)\n",
            "Requirement already satisfied: six>=1.14.0 in /usr/local/lib/python3.7/dist-packages (from rouge_score) (1.15.0)\n",
            "Requirement already satisfied: nltk in /usr/local/lib/python3.7/dist-packages (from rouge_score) (3.7)\n",
            "Requirement already satisfied: numpy in /usr/local/lib/python3.7/dist-packages (from rouge_score) (1.21.6)\n",
            "Requirement already satisfied: absl-py in /usr/local/lib/python3.7/dist-packages (from rouge_score) (1.1.0)\n",
            "Requirement already satisfied: click in /usr/local/lib/python3.7/dist-packages (from nltk->rouge_score) (7.1.2)\n",
            "Requirement already satisfied: regex>=2021.8.3 in /usr/local/lib/python3.7/dist-packages (from nltk->rouge_score) (2022.6.2)\n",
            "Requirement already satisfied: joblib in /usr/local/lib/python3.7/dist-packages (from nltk->rouge_score) (1.1.0)\n",
            "Requirement already satisfied: tqdm in /usr/local/lib/python3.7/dist-packages (from nltk->rouge_score) (4.64.0)\n"
          ]
        }
      ],
      "source": [
        "! pip install rouge_score"
      ]
    },
    {
      "cell_type": "code",
      "execution_count": 49,
      "metadata": {
        "execution": {
          "iopub.execute_input": "2021-06-23T07:45:06.655746Z",
          "iopub.status.busy": "2021-06-23T07:45:06.655099Z",
          "iopub.status.idle": "2021-06-23T07:45:13.643334Z",
          "shell.execute_reply": "2021-06-23T07:45:13.642338Z"
        },
        "id": "pzM1_ykHaFur",
        "papermill": {
          "duration": 7.00268,
          "end_time": "2021-06-23T07:45:13.643448",
          "exception": false,
          "start_time": "2021-06-23T07:45:06.640768",
          "status": "completed"
        },
        "tags": [],
        "colab": {
          "base_uri": "https://localhost:8080/"
        },
        "outputId": "b5196567-1ad3-453f-d150-cab46ef1106a"
      },
      "outputs": [
        {
          "output_type": "stream",
          "name": "stderr",
          "text": [
            "[nltk_data] Downloading package stopwords to /root/nltk_data...\n",
            "[nltk_data]   Package stopwords is already up-to-date!\n",
            "[nltk_data] Downloading package punkt to /root/nltk_data...\n",
            "[nltk_data]   Package punkt is already up-to-date!\n",
            "[nltk_data] Downloading package wordnet to /root/nltk_data...\n",
            "[nltk_data]   Package wordnet is already up-to-date!\n",
            "[nltk_data] Downloading package averaged_perceptron_tagger to\n",
            "[nltk_data]     /root/nltk_data...\n",
            "[nltk_data]   Package averaged_perceptron_tagger is already up-to-\n",
            "[nltk_data]       date!\n"
          ]
        }
      ],
      "source": [
        "import nltk\n",
        "from nltk.tokenize import sent_tokenize, word_tokenize\n",
        "from nltk.translate import bleu\n",
        "nltk.download('stopwords')\n",
        "nltk.download('punkt')\n",
        "nltk.download('wordnet')\n",
        "nltk.download('averaged_perceptron_tagger')\n",
        "\n",
        "import string\n",
        "import numpy as np\n",
        "import pandas as pd\n",
        "import re\n",
        "import torch\n",
        "import torch.nn.functional as F\n",
        "from torch.utils.data import Dataset, DataLoader, RandomSampler, SequentialSampler\n",
        "from nltk.translate.bleu_score import sentence_bleu, corpus_bleu\n",
        "from nltk.translate.bleu_score import SmoothingFunction\n",
        "from rouge_score import rouge_scorer\n",
        "\n",
        "\n",
        "# Importing the T5 modules from huggingface/transformers\n",
        "from transformers import T5Tokenizer, T5ForConditionalGeneration"
      ]
    },
    {
      "cell_type": "code",
      "execution_count": 50,
      "metadata": {
        "colab": {
          "base_uri": "https://localhost:8080/"
        },
        "execution": {
          "iopub.execute_input": "2021-06-23T07:45:13.672170Z",
          "iopub.status.busy": "2021-06-23T07:45:13.671477Z",
          "iopub.status.idle": "2021-06-23T07:45:14.336059Z",
          "shell.execute_reply": "2021-06-23T07:45:14.335565Z"
        },
        "id": "KvPxXdKJguYB",
        "outputId": "85b86782-0e95-4517-f4f2-2900f3a5f7d4",
        "papermill": {
          "duration": 0.682599,
          "end_time": "2021-06-23T07:45:14.336153",
          "exception": false,
          "start_time": "2021-06-23T07:45:13.653554",
          "status": "completed"
        },
        "tags": []
      },
      "outputs": [
        {
          "output_type": "stream",
          "name": "stdout",
          "text": [
            "Thu Jun 16 12:14:11 2022       \n",
            "+-----------------------------------------------------------------------------+\n",
            "| NVIDIA-SMI 460.32.03    Driver Version: 460.32.03    CUDA Version: 11.2     |\n",
            "|-------------------------------+----------------------+----------------------+\n",
            "| GPU  Name        Persistence-M| Bus-Id        Disp.A | Volatile Uncorr. ECC |\n",
            "| Fan  Temp  Perf  Pwr:Usage/Cap|         Memory-Usage | GPU-Util  Compute M. |\n",
            "|                               |                      |               MIG M. |\n",
            "|===============================+======================+======================|\n",
            "|   0  Tesla T4            Off  | 00000000:00:04.0 Off |                    0 |\n",
            "| N/A   38C    P8     9W /  70W |      0MiB / 15109MiB |      0%      Default |\n",
            "|                               |                      |                  N/A |\n",
            "+-------------------------------+----------------------+----------------------+\n",
            "                                                                               \n",
            "+-----------------------------------------------------------------------------+\n",
            "| Processes:                                                                  |\n",
            "|  GPU   GI   CI        PID   Type   Process name                  GPU Memory |\n",
            "|        ID   ID                                                   Usage      |\n",
            "|=============================================================================|\n",
            "|  No running processes found                                                 |\n",
            "+-----------------------------------------------------------------------------+\n"
          ]
        }
      ],
      "source": [
        "# Checking out the GPU we have access to. This is output is from the google colab version. \n",
        "!nvidia-smi"
      ]
    },
    {
      "cell_type": "code",
      "execution_count": 51,
      "metadata": {
        "execution": {
          "iopub.execute_input": "2021-06-23T07:45:14.407828Z",
          "iopub.status.busy": "2021-06-23T07:45:14.406992Z",
          "iopub.status.idle": "2021-06-23T07:45:14.409435Z",
          "shell.execute_reply": "2021-06-23T07:45:14.409935Z"
        },
        "id": "NLxxwd1scQNv",
        "papermill": {
          "duration": 0.062875,
          "end_time": "2021-06-23T07:45:14.410049",
          "exception": false,
          "start_time": "2021-06-23T07:45:14.347174",
          "status": "completed"
        },
        "tags": []
      },
      "outputs": [],
      "source": [
        "# # Setting up the device for GPU usage\n",
        "from torch import cuda\n",
        "device = 'cuda' if cuda.is_available() else 'cpu'\n",
        "\n",
        "# Preparing for TPU usage\n",
        "# import torch_xla\n",
        "# import torch_xla.core.xla_model as xm\n",
        "# device = xm.xla_device()"
      ]
    },
    {
      "cell_type": "markdown",
      "metadata": {
        "id": "OGpk8rHxRev1"
      },
      "source": [
        "#### Useful insights"
      ]
    },
    {
      "cell_type": "code",
      "execution_count": 58,
      "metadata": {
        "id": "nlWbvJ-DRev2"
      },
      "outputs": [],
      "source": [
        "dataset = \"./dataset/enumerated_shuffled_rbc.json\"\n",
        "df = pd.read_json(dataset)"
      ]
    },
    {
      "cell_type": "code",
      "execution_count": 59,
      "metadata": {
        "id": "LY6MUu2jRev2"
      },
      "outputs": [],
      "source": [
        "df = df.transpose()"
      ]
    },
    {
      "cell_type": "code",
      "execution_count": 60,
      "metadata": {
        "id": "00E1G2-eRev3"
      },
      "outputs": [],
      "source": [
        "df['articles_length'] = df['article_text'].apply(lambda x : len(x.split()))\n",
        "df['headline_length'] = df['headline'].apply(lambda x : len(x.split()))"
      ]
    },
    {
      "cell_type": "code",
      "execution_count": 62,
      "metadata": {
        "colab": {
          "base_uri": "https://localhost:8080/",
          "height": 334
        },
        "id": "VrnTqrG2Rev3",
        "outputId": "7d772500-a418-418e-84a8-301b136e32cb"
      },
      "outputs": [
        {
          "output_type": "display_data",
          "data": {
            "text/plain": [
              "<Figure size 360x360 with 1 Axes>"
            ],
            "image/png": "[encoded data removed]"
          },
          "metadata": {
            "needs_background": "light"
          }
        }
      ],
      "source": [
        "import seaborn as sns\n",
        "import matplotlib.pyplot as plt\n",
        "category_sizes = df.groupby('category').size()\n",
        "plt.figure(figsize=(5,5))\n",
        "sns.barplot(x=category_sizes.index, y= category_sizes)\n",
        "plt.show()"
      ]
    },
    {
      "cell_type": "code",
      "execution_count": 63,
      "metadata": {
        "colab": {
          "base_uri": "https://localhost:8080/",
          "height": 269
        },
        "id": "cZsuuZNERev3",
        "outputId": "943b6c28-1770-44ed-f60c-4e99bbfe18ac"
      },
      "outputs": [
        {
          "output_type": "execute_result",
          "data": {
            "text/plain": [
              "           articles_length  headline_length\n",
              "category                                   \n",
              "business        586.275148         8.778107\n",
              "economics       557.509579         8.969349\n",
              "finance         612.622419         8.920354\n",
              "politics        474.364341         9.116279\n",
              "society         387.802260         9.000000\n",
              "tech            536.077253         8.579399"
            ],
            "text/html": [
              "\n",
              "  <div id=\"df-78c1f900-7bd6-42c0-b171-7d9e3c4f04a8\">\n",
              "    <div class=\"colab-df-container\">\n",
              "      <div>\n",
              "<style scoped>\n",
              "    .dataframe tbody tr th:only-of-type {\n",
              "        vertical-align: middle;\n",
              "    }\n",
              "\n",
              "    .dataframe tbody tr th {\n",
              "        vertical-align: top;\n",
              "    }\n",
              "\n",
              "    .dataframe thead th {\n",
              "        text-align: right;\n",
              "    }\n",
              "</style>\n",
              "<table border=\"1\" class=\"dataframe\">\n",
              "  <thead>\n",
              "    <tr style=\"text-align: right;\">\n",
              "      <th></th>\n",
              "      <th>articles_length</th>\n",
              "      <th>headline_length</th>\n",
              "    </tr>\n",
              "    <tr>\n",
              "      <th>category</th>\n",
              "      <th></th>\n",
              "      <th></th>\n",
              "    </tr>\n",
              "  </thead>\n",
              "  <tbody>\n",
              "    <tr>\n",
              "      <th>business</th>\n",
              "      <td>586.275148</td>\n",
              "      <td>8.778107</td>\n",
              "    </tr>\n",
              "    <tr>\n",
              "      <th>economics</th>\n",
              "      <td>557.509579</td>\n",
              "      <td>8.969349</td>\n",
              "    </tr>\n",
              "    <tr>\n",
              "      <th>finance</th>\n",
              "      <td>612.622419</td>\n",
              "      <td>8.920354</td>\n",
              "    </tr>\n",
              "    <tr>\n",
              "      <th>politics</th>\n",
              "      <td>474.364341</td>\n",
              "      <td>9.116279</td>\n",
              "    </tr>\n",
              "    <tr>\n",
              "      <th>society</th>\n",
              "      <td>387.802260</td>\n",
              "      <td>9.000000</td>\n",
              "    </tr>\n",
              "    <tr>\n",
              "      <th>tech</th>\n",
              "      <td>536.077253</td>\n",
              "      <td>8.579399</td>\n",
              "    </tr>\n",
              "  </tbody>\n",
              "</table>\n",
              "</div>\n",
              "      <button class=\"colab-df-convert\" onclick=\"convertToInteractive('df-78c1f900-7bd6-42c0-b171-7d9e3c4f04a8')\"\n",
              "              title=\"Convert this dataframe to an interactive table.\"\n",
              "              style=\"display:none;\">\n",
              "        \n",
              "  <svg xmlns=\"http://www.w3.org/2000/svg\" height=\"24px\"viewBox=\"0 0 24 24\"\n",
              "       width=\"24px\">\n",
              "    <path d=\"M0 0h24v24H0V0z\" fill=\"none\"/>\n",
              "    <path d=\"M18.56 5.44l.94 2.06.94-2.06 2.06-.94-2.06-.94-.94-2.06-.94 2.06-2.06.94zm-11 1L8.5 8.5l.94-2.06 2.06-.94-2.06-.94L8.5 2.5l-.94 2.06-2.06.94zm10 10l.94 2.06.94-2.06 2.06-.94-2.06-.94-.94-2.06-.94 2.06-2.06.94z\"/><path d=\"M17.41 7.96l-1.37-1.37c-.4-.4-.92-.59-1.43-.59-.52 0-1.04.2-1.43.59L10.3 9.45l-7.72 7.72c-.78.78-.78 2.05 0 2.83L4 21.41c.39.39.9.59 1.41.59.51 0 1.02-.2 1.41-.59l7.78-7.78 2.81-2.81c.8-.78.8-2.07 0-2.86zM5.41 20L4 18.59l7.72-7.72 1.47 1.35L5.41 20z\"/>\n",
              "  </svg>\n",
              "      </button>\n",
              "      \n",
              "  <style>\n",
              "    .colab-df-container {\n",
              "      display:flex;\n",
              "      flex-wrap:wrap;\n",
              "      gap: 12px;\n",
              "    }\n",
              "\n",
              "    .colab-df-convert {\n",
              "      background-color: #E8F0FE;\n",
              "      border: none;\n",
              "      border-radius: 50%;\n",
              "      cursor: pointer;\n",
              "      display: none;\n",
              "      fill: #1967D2;\n",
              "      height: 32px;\n",
              "      padding: 0 0 0 0;\n",
              "      width: 32px;\n",
              "    }\n",
              "\n",
              "    .colab-df-convert:hover {\n",
              "      background-color: #E2EBFA;\n",
              "      box-shadow: 0px 1px 2px rgba(60, 64, 67, 0.3), 0px 1px 3px 1px rgba(60, 64, 67, 0.15);\n",
              "      fill: #174EA6;\n",
              "    }\n",
              "\n",
              "    [theme=dark] .colab-df-convert {\n",
              "      background-color: #3B4455;\n",
              "      fill: #D2E3FC;\n",
              "    }\n",
              "\n",
              "    [theme=dark] .colab-df-convert:hover {\n",
              "      background-color: #434B5C;\n",
              "      box-shadow: 0px 1px 3px 1px rgba(0, 0, 0, 0.15);\n",
              "      filter: drop-shadow(0px 1px 2px rgba(0, 0, 0, 0.3));\n",
              "      fill: #FFFFFF;\n",
              "    }\n",
              "  </style>\n",
              "\n",
              "      <script>\n",
              "        const buttonEl =\n",
              "          document.querySelector('#df-78c1f900-7bd6-42c0-b171-7d9e3c4f04a8 button.colab-df-convert');\n",
              "        buttonEl.style.display =\n",
              "          google.colab.kernel.accessAllowed ? 'block' : 'none';\n",
              "\n",
              "        async function convertToInteractive(key) {\n",
              "          const element = document.querySelector('#df-78c1f900-7bd6-42c0-b171-7d9e3c4f04a8');\n",
              "          const dataTable =\n",
              "            await google.colab.kernel.invokeFunction('convertToInteractive',\n",
              "                                                     [key], {});\n",
              "          if (!dataTable) return;\n",
              "\n",
              "          const docLinkHtml = 'Like what you see? Visit the ' +\n",
              "            '<a target=\"_blank\" href=https://colab.research.google.com/notebooks/data_table.ipynb>data table notebook</a>'\n",
              "            + ' to learn more about interactive tables.';\n",
              "          element.innerHTML = '';\n",
              "          dataTable['output_type'] = 'display_data';\n",
              "          await google.colab.output.renderOutput(dataTable, element);\n",
              "          const docLink = document.createElement('div');\n",
              "          docLink.innerHTML = docLinkHtml;\n",
              "          element.appendChild(docLink);\n",
              "        }\n",
              "      </script>\n",
              "    </div>\n",
              "  </div>\n",
              "  "
            ]
          },
          "metadata": {},
          "execution_count": 63
        }
      ],
      "source": [
        "category_length = df.groupby('category',0).agg( {'articles_length':'mean', 'headline_length':'mean'} )\n",
        "category_length"
      ]
    },
    {
      "cell_type": "code",
      "execution_count": 64,
      "metadata": {
        "colab": {
          "base_uri": "https://localhost:8080/",
          "height": 143
        },
        "id": "4PvQ5QNNRev4",
        "outputId": "c56bc07d-8a2d-415c-c6ce-f6fc5e6d4b25"
      },
      "outputs": [
        {
          "output_type": "execute_result",
          "data": {
            "text/plain": [
              "                      value\n",
              "variable                   \n",
              "articles_length  525.775167\n",
              "headline_length    8.893915"
            ],
            "text/html": [
              "\n",
              "  <div id=\"df-25509e63-6a8f-4bb4-a6ef-ea0a5d4e4898\">\n",
              "    <div class=\"colab-df-container\">\n",
              "      <div>\n",
              "<style scoped>\n",
              "    .dataframe tbody tr th:only-of-type {\n",
              "        vertical-align: middle;\n",
              "    }\n",
              "\n",
              "    .dataframe tbody tr th {\n",
              "        vertical-align: top;\n",
              "    }\n",
              "\n",
              "    .dataframe thead th {\n",
              "        text-align: right;\n",
              "    }\n",
              "</style>\n",
              "<table border=\"1\" class=\"dataframe\">\n",
              "  <thead>\n",
              "    <tr style=\"text-align: right;\">\n",
              "      <th></th>\n",
              "      <th>value</th>\n",
              "    </tr>\n",
              "    <tr>\n",
              "      <th>variable</th>\n",
              "      <th></th>\n",
              "    </tr>\n",
              "  </thead>\n",
              "  <tbody>\n",
              "    <tr>\n",
              "      <th>articles_length</th>\n",
              "      <td>525.775167</td>\n",
              "    </tr>\n",
              "    <tr>\n",
              "      <th>headline_length</th>\n",
              "      <td>8.893915</td>\n",
              "    </tr>\n",
              "  </tbody>\n",
              "</table>\n",
              "</div>\n",
              "      <button class=\"colab-df-convert\" onclick=\"convertToInteractive('df-25509e63-6a8f-4bb4-a6ef-ea0a5d4e4898')\"\n",
              "              title=\"Convert this dataframe to an interactive table.\"\n",
              "              style=\"display:none;\">\n",
              "        \n",
              "  <svg xmlns=\"http://www.w3.org/2000/svg\" height=\"24px\"viewBox=\"0 0 24 24\"\n",
              "       width=\"24px\">\n",
              "    <path d=\"M0 0h24v24H0V0z\" fill=\"none\"/>\n",
              "    <path d=\"M18.56 5.44l.94 2.06.94-2.06 2.06-.94-2.06-.94-.94-2.06-.94 2.06-2.06.94zm-11 1L8.5 8.5l.94-2.06 2.06-.94-2.06-.94L8.5 2.5l-.94 2.06-2.06.94zm10 10l.94 2.06.94-2.06 2.06-.94-2.06-.94-.94-2.06-.94 2.06-2.06.94z\"/><path d=\"M17.41 7.96l-1.37-1.37c-.4-.4-.92-.59-1.43-.59-.52 0-1.04.2-1.43.59L10.3 9.45l-7.72 7.72c-.78.78-.78 2.05 0 2.83L4 21.41c.39.39.9.59 1.41.59.51 0 1.02-.2 1.41-.59l7.78-7.78 2.81-2.81c.8-.78.8-2.07 0-2.86zM5.41 20L4 18.59l7.72-7.72 1.47 1.35L5.41 20z\"/>\n",
              "  </svg>\n",
              "      </button>\n",
              "      \n",
              "  <style>\n",
              "    .colab-df-container {\n",
              "      display:flex;\n",
              "      flex-wrap:wrap;\n",
              "      gap: 12px;\n",
              "    }\n",
              "\n",
              "    .colab-df-convert {\n",
              "      background-color: #E8F0FE;\n",
              "      border: none;\n",
              "      border-radius: 50%;\n",
              "      cursor: pointer;\n",
              "      display: none;\n",
              "      fill: #1967D2;\n",
              "      height: 32px;\n",
              "      padding: 0 0 0 0;\n",
              "      width: 32px;\n",
              "    }\n",
              "\n",
              "    .colab-df-convert:hover {\n",
              "      background-color: #E2EBFA;\n",
              "      box-shadow: 0px 1px 2px rgba(60, 64, 67, 0.3), 0px 1px 3px 1px rgba(60, 64, 67, 0.15);\n",
              "      fill: #174EA6;\n",
              "    }\n",
              "\n",
              "    [theme=dark] .colab-df-convert {\n",
              "      background-color: #3B4455;\n",
              "      fill: #D2E3FC;\n",
              "    }\n",
              "\n",
              "    [theme=dark] .colab-df-convert:hover {\n",
              "      background-color: #434B5C;\n",
              "      box-shadow: 0px 1px 3px 1px rgba(0, 0, 0, 0.15);\n",
              "      filter: drop-shadow(0px 1px 2px rgba(0, 0, 0, 0.3));\n",
              "      fill: #FFFFFF;\n",
              "    }\n",
              "  </style>\n",
              "\n",
              "      <script>\n",
              "        const buttonEl =\n",
              "          document.querySelector('#df-25509e63-6a8f-4bb4-a6ef-ea0a5d4e4898 button.colab-df-convert');\n",
              "        buttonEl.style.display =\n",
              "          google.colab.kernel.accessAllowed ? 'block' : 'none';\n",
              "\n",
              "        async function convertToInteractive(key) {\n",
              "          const element = document.querySelector('#df-25509e63-6a8f-4bb4-a6ef-ea0a5d4e4898');\n",
              "          const dataTable =\n",
              "            await google.colab.kernel.invokeFunction('convertToInteractive',\n",
              "                                                     [key], {});\n",
              "          if (!dataTable) return;\n",
              "\n",
              "          const docLinkHtml = 'Like what you see? Visit the ' +\n",
              "            '<a target=\"_blank\" href=https://colab.research.google.com/notebooks/data_table.ipynb>data table notebook</a>'\n",
              "            + ' to learn more about interactive tables.';\n",
              "          element.innerHTML = '';\n",
              "          dataTable['output_type'] = 'display_data';\n",
              "          await google.colab.output.renderOutput(dataTable, element);\n",
              "          const docLink = document.createElement('div');\n",
              "          docLink.innerHTML = docLinkHtml;\n",
              "          element.appendChild(docLink);\n",
              "        }\n",
              "      </script>\n",
              "    </div>\n",
              "  </div>\n",
              "  "
            ]
          },
          "metadata": {},
          "execution_count": 64
        }
      ],
      "source": [
        "pd.melt(category_length,ignore_index=False).groupby('variable').mean()"
      ]
    },
    {
      "cell_type": "markdown",
      "metadata": {
        "id": "e3a5AATeyWU5",
        "papermill": {
          "duration": 0.010122,
          "end_time": "2021-06-23T07:45:14.430791",
          "exception": false,
          "start_time": "2021-06-23T07:45:14.420669",
          "status": "completed"
        },
        "tags": []
      },
      "source": [
        "<a id='section02'></a>\n",
        "### Preparing the Dataset for data processing: Class\n",
        "\n",
        "We will start with creation of Dataset ***Prepare_Dataset*** class - This defines how the text is pre-processed before sending it to the neural network. This dataset will be used the the Dataloader method that will feed  the data in batches to the neural network for suitable training and processing. \n",
        "The Dataloader and Dataset will be used inside the `main()`. Which in-turns takes a pair of dataframe columns `(target, source_refrence)`\n",
        "Dataset and Dataloader are constructs of the PyTorch library for defining and controlling the data pre-processing and its passage to neural network. For further reading into Dataset and Dataloader [docs at PyTorch](https://pytorch.org/docs/stable/data.html)\n",
        "\n",
        "#### *CustomDataset* Dataset Class\n",
        "- This class is defined to accept the Dataframe as input and generate tokenized output that is used by the **T5** model for training. \n",
        "- We are using the **T5** tokenizer to tokenize the data in the `text` and `article_text` column of the dataframe. \n",
        "- The tokenizer uses the ` batch_encode_plus` method to perform tokenization and generate the necessary outputs, namely: `source_id`, `source_mask` from the actual text and `target_id` and `target_mask` from the summary text.\n",
        "- To read further into the tokenizer, [refer to this document](https://huggingface.co/transformers/model_doc/t5.html#t5tokenizer)\n",
        "- The *Prepare_Dataset* class is used to create 2 datasets, for training and for validation.\n",
        "- *Training Dataset* is used to fine tune the model: **80% of the original data**\n",
        "- *Validation Dataset* is used to evaluate the performance of the model. The model has not seen this data during training. \n",
        "\n",
        "#### Dataloader: Called inside the `main()`\n",
        "- Dataloader is used to for creating training and validation dataloader that load data to the neural network in a defined manner. This is needed because all the data from the dataset cannot be loaded to the memory at once, hence the amount of data loaded to the memory and then passed to the neural network needs to be controlled.\n",
        "- This control is achieved using the parameters such as `batch_size` and `max_len`.\n",
        "- Training and Validation dataloaders are used in the training and validation part of the flow respectively"
      ]
    },
    {
      "cell_type": "code",
      "execution_count": 65,
      "metadata": {
        "execution": {
          "iopub.execute_input": "2021-06-23T07:45:14.463875Z",
          "iopub.status.busy": "2021-06-23T07:45:14.458543Z",
          "iopub.status.idle": "2021-06-23T07:45:14.482815Z",
          "shell.execute_reply": "2021-06-23T07:45:14.483298Z"
        },
        "id": "932p8NhxeNw4",
        "papermill": {
          "duration": 0.042384,
          "end_time": "2021-06-23T07:45:14.483417",
          "exception": false,
          "start_time": "2021-06-23T07:45:14.441033",
          "status": "completed"
        },
        "tags": []
      },
      "outputs": [],
      "source": [
        "# Creating a custom dataset for reading the dataframe and loading it into the dataloader to pass it to the neural network at a later stage for finetuning the model and to prepare it for predictions\n",
        "\n",
        "class Prepare_Dataset(Dataset):\n",
        "\n",
        "    def __init__(self, dataframe, tokenizer, source_len, summ_len):\n",
        "        self.tokenizer = tokenizer\n",
        "        self.data = dataframe\n",
        "        self.source_len = source_len\n",
        "        self.summ_len = summ_len\n",
        "        self.summarization_target = self.data.iloc[:,0] # Assuming that the first column should always be the inteded task target\n",
        "        self.article_text = self.data.article_text\n",
        "\n",
        "    def __len__(self):\n",
        "        return len(self.summarization_target)\n",
        "\n",
        "    def __getitem__(self, index):\n",
        "        article_text = str(self.article_text[index])\n",
        "        article_text = ' '.join(article_text.split())\n",
        "\n",
        "        summarization_target = str(self.summarization_target[index])\n",
        "        summarization_target = ' '.join(summarization_target.split())\n",
        "\n",
        "        source = self.tokenizer.batch_encode_plus([article_text], max_length= self.source_len, pad_to_max_length=True,return_tensors='pt')\n",
        "        target = self.tokenizer.batch_encode_plus([summarization_target], max_length= self.summ_len, pad_to_max_length=True,return_tensors='pt')\n",
        "\n",
        "        source_ids = source['input_ids'].squeeze()\n",
        "        source_mask = source['attention_mask'].squeeze()\n",
        "        target_ids = target['input_ids'].squeeze()\n",
        "        target_mask = target['attention_mask'].squeeze()\n",
        "\n",
        "        return {\n",
        "            'source_ids': source_ids.to(dtype=torch.long), \n",
        "            'source_mask': source_mask.to(dtype=torch.long), \n",
        "            'target_ids': target_ids.to(dtype=torch.long),\n",
        "            'target_ids_y': target_ids.to(dtype=torch.long)\n",
        "        }"
      ]
    },
    {
      "cell_type": "markdown",
      "metadata": {
        "id": "GAF8Se6AyWU_",
        "papermill": {
          "duration": 0.016238,
          "end_time": "2021-06-23T07:45:14.516020",
          "exception": false,
          "start_time": "2021-06-23T07:45:14.499782",
          "status": "completed"
        },
        "tags": []
      },
      "source": [
        "<a id='section03'></a>\n",
        "### Fine Tuning the Model: Function\n",
        "\n",
        "Training function that trains the model on the training dataset created above, specified number of times (EPOCHs), An epoch defines how many times the complete data will be passed through the network. \n",
        "\n",
        "This function is called in the `main(,)`\n",
        "\n",
        "Following events happen in this function to fine tune the neural network:\n",
        "- The epoch, tokenizer, model, device details, testing_ dataloader and optimizer are passed to the `train ()` when its called from the `main(,)`\n",
        "- The dataloader passes data to the model based on the batch size.\n",
        "- `language_model_labels` are calculated from the `target_ids` also, `source_id` and `attention_mask` are extracted.\n",
        "- The model outputs first element gives the loss for the forward pass. \n",
        "- Loss value is used to optimize the weights of the neurons in the network."
      ]
    },
    {
      "cell_type": "code",
      "execution_count": 66,
      "metadata": {
        "execution": {
          "iopub.execute_input": "2021-06-23T07:45:14.565643Z",
          "iopub.status.busy": "2021-06-23T07:45:14.564824Z",
          "iopub.status.idle": "2021-06-23T07:45:14.570883Z",
          "shell.execute_reply": "2021-06-23T07:45:14.571875Z"
        },
        "id": "SaPAR7TWmxoM",
        "papermill": {
          "duration": 0.035901,
          "end_time": "2021-06-23T07:45:14.572022",
          "exception": false,
          "start_time": "2021-06-23T07:45:14.536121",
          "status": "completed"
        },
        "tags": []
      },
      "outputs": [],
      "source": [
        "# Creating the training function. This will be called in the main function. It is run depending on the epoch value.\n",
        "# The model is put into train mode and then we wnumerate over the training loader and passed to the defined network \n",
        "\n",
        "def train(epoch, tokenizer, model, device, loader, optimizer):\n",
        "    model.train()\n",
        "    for _,data in enumerate(loader, 0):\n",
        "        y = data['target_ids'].to(device, dtype = torch.long)\n",
        "        y_ids = y[:, :-1].contiguous()\n",
        "        lm_labels = y[:, 1:].clone().detach()\n",
        "        lm_labels[y[:, 1:] == tokenizer.pad_token_id] = -100\n",
        "        ids = data['source_ids'].to(device, dtype = torch.long)\n",
        "        mask = data['source_mask'].to(device, dtype = torch.long)\n",
        "\n",
        "        outputs = model(input_ids = ids, attention_mask = mask, decoder_input_ids=y_ids, labels=lm_labels)\n",
        "        loss = outputs[0]\n",
        "        \n",
        "        if _%500==0:\n",
        "            print(f'Epoch: {epoch}, Loss:  {loss.item()}')\n",
        "        \n",
        "        optimizer.zero_grad()\n",
        "        loss.backward()\n",
        "        optimizer.step()\n",
        "        # xm.optimizer_step(optimizer)\n",
        "        # xm.mark_step()"
      ]
    },
    {
      "cell_type": "markdown",
      "metadata": {
        "id": "jZe6cd3EyWVB",
        "papermill": {
          "duration": 0.017949,
          "end_time": "2021-06-23T07:45:14.608608",
          "exception": false,
          "start_time": "2021-06-23T07:45:14.590659",
          "status": "completed"
        },
        "tags": []
      },
      "source": [
        "<a id='section04'></a>\n",
        "### Validating the Model Performance: Function\n",
        "\n",
        "During the validation stage we pass the unseen data(Testing Dataset), trained model, tokenizer and device details to the function to perform the validation run. This step generates new summary for dataset that it has not seen during the training session. \n",
        "\n",
        "This function is called in the `main()`\n",
        "\n",
        "This unseen data is the 20% of `rbc_dataset.json` which was seperated during the Dataset creation stage. \n",
        "During the validation stage the weights of the model are not updated. We use the generate method for generating new text for the summary. \n",
        "\n",
        "It depends on the `Beam-Search coding` method developed for sequence generation for models with LM head. \n",
        "\n",
        "The generated text and originally summary are decoded from tokens to text and returned to the `main()`"
      ]
    },
    {
      "cell_type": "code",
      "execution_count": 67,
      "metadata": {
        "execution": {
          "iopub.execute_input": "2021-06-23T07:45:14.656668Z",
          "iopub.status.busy": "2021-06-23T07:45:14.654658Z",
          "iopub.status.idle": "2021-06-23T07:45:14.667136Z",
          "shell.execute_reply": "2021-06-23T07:45:14.668084Z"
        },
        "id": "j9TNdHlQ0CLz",
        "papermill": {
          "duration": 0.04136,
          "end_time": "2021-06-23T07:45:14.668249",
          "exception": false,
          "start_time": "2021-06-23T07:45:14.626889",
          "status": "completed"
        },
        "tags": []
      },
      "outputs": [],
      "source": [
        "def validate(epoch, tokenizer, model, device, loader):\n",
        "    model.eval()\n",
        "    predictions = []\n",
        "    actual_summaries = []\n",
        "    actual_text = []\n",
        "    with torch.no_grad():\n",
        "        for _, data in enumerate(loader, 0):\n",
        "            y = data['target_ids'].to(device, dtype = torch.long)\n",
        "            ids = data['source_ids'].to(device, dtype = torch.long)\n",
        "            mask = data['source_mask'].to(device, dtype = torch.long)\n",
        "\n",
        "            generated_ids = model.generate(\n",
        "                input_ids = ids,\n",
        "                attention_mask = mask, \n",
        "                max_length=150, \n",
        "                num_beams=2,\n",
        "                repetition_penalty=2.5, \n",
        "                length_penalty=1.0, \n",
        "                early_stopping=True\n",
        "                )\n",
        "            preds = [tokenizer.decode(g, skip_special_tokens=True, clean_up_tokenization_spaces=True) for g in generated_ids]\n",
        "            target = [tokenizer.decode(t, skip_special_tokens=True, clean_up_tokenization_spaces=True)for t in y]\n",
        "            source_article = [tokenizer.decode(a, skip_special_tokens=True, clean_up_tokenization_spaces=True)for a in ids]\n",
        "            if _%100==0:\n",
        "                print(f'Completed {_}')\n",
        "\n",
        "            predictions.extend(preds)\n",
        "            actual_summaries.extend(target)\n",
        "            actual_text.extend(source_article)\n",
        "    return predictions, actual_summaries, actual_text"
      ]
    },
    {
      "cell_type": "markdown",
      "metadata": {
        "id": "tuJR6ftTyWVE",
        "papermill": {
          "duration": 0.018158,
          "end_time": "2021-06-23T07:45:14.714009",
          "exception": false,
          "start_time": "2021-06-23T07:45:14.695851",
          "status": "completed"
        },
        "tags": []
      },
      "source": [
        "<a id='section05'></a>\n",
        "### Main Function\n",
        "\n",
        "The `main()` as the name suggests is the central location to execute all the functions/flows created above in the notebook. The following steps are executed in the `main()`:\n",
        "\n",
        "\n",
        "<a id='section502'></a>\n",
        "#### Importing and Pre-Processing the domain data\n",
        "\n",
        "We will be working with the data and preparing it for fine tuning purposes. \n",
        "*Assuming that the `_rbc_dataset.json`  is already downloaded in `dataset` folder*\n",
        "\n",
        "* The file is imported as a dataframe and give it the headers as per the documentation.\n",
        "* Cleaning the file to remove the unwanted columns.\n",
        "* A new string is added to the main article column `summarize: ` prior to the actual article. This is done because **T5** had similar formatting for the summarization dataset. \n",
        "* The final Dataframe will be something like this:\n",
        "\n",
        "|Generated Summary|Original Summary|Full Text of the article|\n",
        "|--|--|--|\n",
        "|summary-1|refrence summary-1| article 1|\n",
        "|summary-2|refrence summary-2| article 2|\n",
        "|summary-3|refrence summary-3| article 3|\n",
        "\n",
        "\n",
        "<a id='section503'></a>\n",
        "#### Creation of Dataset and Dataloader\n",
        "\n",
        "* The updated dataframe is divided into 80-20 ratio for test and validation. \n",
        "* Both the data-frames are passed to the `Prepare Dataset` class for tokenization of the new articles and their summaries.\n",
        "* The tokenization is done using the length parameters passed to the class.\n",
        "* Train and Validation parameters are defined and passed to the `pytorch Dataloader contstruct` to create `train` and `validation` data loaders.\n",
        "* These dataloaders will be passed to `train()` and `validate()` respectively for training and validation action.\n",
        "* The shape of datasets is printed in the console.\n",
        "\n",
        "\n",
        "<a id='section504'></a>\n",
        "#### Neural Network and Optimizer\n",
        "\n",
        "* In this stage we define the model and optimizer that will be used for training and to update the weights of the network. \n",
        "* We are using the `t5-base` transformer model for our project. You can read about the `T5 model` and its features above. \n",
        "* We use the `T5ForConditionalGeneration.from_pretrained(\"t5-base\")` commad to define our model. The `T5ForConditionalGeneration` adds a Language Model head to our `T5 model`. The Language Model head allows us to generate text based on the training of `T5 model`.\n",
        "* The `Adam` optimizer has been used in this project. \n",
        "* There is also a scope for doing more with Optimizer such a decay, momentum to dynamically update the Learning rate and other parameters.\n",
        "\n",
        "\n",
        "<a id='section505'></a>\n",
        "#### Training Model\n",
        "\n",
        "* We call the `train()` with all the necessary parameters.\n",
        "* Loss at every 500th step is printed on the console.\n",
        "\n",
        "\n",
        "<a id='section506'></a>\n",
        "#### Validation and generation of Summary\n",
        "\n",
        "* After the training is completed, the validation step is initiated.\n",
        "* As defined in the validation function, the model weights are not updated. We use the fine tuned model to generate new summaries based on the article text.\n",
        "* An output is printed on the console giving a count of how many steps are complete after every 100th step. \n",
        "* The original summary and generated summary are converted into a list and returned to the main function. \n",
        "* Both the lists are used to create the final dataframe with 2 columns **Generated Summary** and **Actual Summary**\n",
        "* The dataframe is saved as a csv file in the local drive.\n",
        "* A qualitative analysis can be done with the Dataframe. "
      ]
    },
    {
      "cell_type": "code",
      "execution_count": 68,
      "metadata": {
        "id": "34YhBo3m4Fku"
      },
      "outputs": [],
      "source": [
        "# Importing and Pre-Processing the domain data\n",
        "# Selecting the needed columns only.\n",
        "def select_pair(column_one, column_two, dataset):\n",
        "    df = pd.read_json(dataset)\n",
        "    df = df.transpose()\n",
        "    df = df[[column_one, column_two]]\n",
        "    return df"
      ]
    },
    {
      "cell_type": "code",
      "execution_count": 69,
      "metadata": {
        "execution": {
          "iopub.execute_input": "2021-06-23T07:45:14.759815Z",
          "iopub.status.busy": "2021-06-23T07:45:14.758953Z",
          "iopub.status.idle": "2021-06-23T08:35:31.211371Z",
          "shell.execute_reply": "2021-06-23T08:35:31.211817Z"
        },
        "id": "ZtNs9ytpCow2",
        "papermill": {
          "duration": 3016.48112,
          "end_time": "2021-06-23T08:35:31.211982",
          "exception": false,
          "start_time": "2021-06-23T07:45:14.730862",
          "status": "completed"
        },
        "tags": []
      },
      "outputs": [],
      "source": [
        "def main(target_source_pair):\n",
        "\n",
        "    TRAIN_BATCH_SIZE = 2    # input batch size for training (default: 64)\n",
        "    VALID_BATCH_SIZE = 2    # input batch size for testing (default: 1000)\n",
        "    TRAIN_EPOCHS = 2        # number of epochs to train (default: 10)\n",
        "    VAL_EPOCHS = 1 \n",
        "    LEARNING_RATE = 1e-4    # learning rate (default: 0.01)\n",
        "    SEED = 777               # random seed (default: 42)\n",
        "    MAX_LEN = 512\n",
        "    SUMMARY_LEN = 150 \n",
        "\n",
        "    # Set random seeds and deterministic pytorch for reproducibility\n",
        "    torch.manual_seed(SEED) # pytorch random seed\n",
        "    np.random.seed(SEED) # numpy random seed\n",
        "    torch.backends.cudnn.deterministic = True\n",
        "\n",
        "    # tokenzier for encoding the text\n",
        "    MODEL_NAME = 'cointegrated/rut5-base-absum'\n",
        "\n",
        "    rut5_tokenizer = T5Tokenizer.from_pretrained(MODEL_NAME)\n",
        "    model = T5ForConditionalGeneration.from_pretrained(MODEL_NAME)\n",
        "    model = model.to(device)\n",
        "\n",
        "\n",
        "    train_size = 0.8\n",
        "    df = target_source_pair\n",
        "    train_dataset=df.sample(frac=train_size, random_state = SEED).reset_index(drop=True)\n",
        "    val_dataset=df.drop(train_dataset.index).reset_index(drop=True)\n",
        "\n",
        "    print(\"FULL Dataset: {}\".format(df.shape))\n",
        "    print(\"TRAIN Dataset: {}\".format(train_dataset.shape))\n",
        "    print(\"TEST Dataset: {}\".format(val_dataset.shape))\n",
        "\n",
        "\n",
        "    training_set = Prepare_Dataset(train_dataset, rut5_tokenizer, MAX_LEN, SUMMARY_LEN)\n",
        "    val_set = Prepare_Dataset(val_dataset, rut5_tokenizer, MAX_LEN, SUMMARY_LEN)\n",
        "\n",
        "    # Defining the parameters for creation of dataloaders\n",
        "    train_params = {\n",
        "        'batch_size': TRAIN_BATCH_SIZE,\n",
        "        'shuffle': True,\n",
        "        'num_workers': 0\n",
        "        }\n",
        "\n",
        "    val_params = {\n",
        "        'batch_size': VALID_BATCH_SIZE,\n",
        "        'shuffle': False,\n",
        "        'num_workers': 0\n",
        "        }\n",
        "\n",
        "    # Creation of Dataloaders for testing and validation. This will be used down for training and validation stage for the model.\n",
        "    training_loader = DataLoader(training_set, **train_params)\n",
        "    val_loader = DataLoader(val_set, **val_params)\n",
        "\n",
        "\n",
        "    # Defining the optimizer that will be used to tune the weights of the network in the training session. \n",
        "    optimizer = torch.optim.Adam(params =  model.parameters(), lr=LEARNING_RATE)\n",
        "\n",
        "    # Training loop\n",
        "    print('Initiating Fine-Tuning for the model on our dataset')\n",
        "\n",
        "    for epoch in range(TRAIN_EPOCHS):\n",
        "        train(epoch, rut5_tokenizer, model, device, training_loader, optimizer)\n",
        "\n",
        "\n",
        "    # Validation loop and saving the resulting file with predictions and acutals in a dataframe.\n",
        "    # Saving the dataframe as predictions.csv\n",
        "    print('Now generating summaries on our fine tuned model for the validation dataset and saving it in a dataframe')\n",
        "    for epoch in range(VAL_EPOCHS):\n",
        "        predictions, actual_summaries, actual_text = validate(epoch, rut5_tokenizer, model, device, val_loader)\n",
        "        final_df = pd.DataFrame({'gen_summary':predictions,'ref_summary':actual_summaries, 'Full_Text':actual_text})\n",
        "        final_df.to_csv(\"./outputs/predictions_{}.csv\".format('_'.join(list(df.columns))))\n",
        "        print('Output Files generated for review')"
      ]
    },
    {
      "cell_type": "code",
      "execution_count": 71,
      "metadata": {
        "colab": {
          "base_uri": "https://localhost:8080/"
        },
        "id": "qPbaTlgEU7fN",
        "outputId": "0d8685b7-d404-4f4a-f0f6-03bced34bf20"
      },
      "outputs": [
        {
          "output_type": "stream",
          "name": "stderr",
          "text": [
            "Truncation was not explicitly activated but `max_length` is provided a specific value, please use `truncation=True` to explicitly truncate examples to max length. Defaulting to 'longest_first' truncation strategy. If you encode pairs of sequences (GLUE-style) with the tokenizer you can select this strategy more precisely by providing a specific strategy to `truncation`.\n"
          ]
        },
        {
          "output_type": "stream",
          "name": "stdout",
          "text": [
            "FULL Dataset: (1606, 2)\n",
            "TRAIN Dataset: (1285, 2)\n",
            "TEST Dataset: (321, 2)\n",
            "Initiating Fine-Tuning for the model on our dataset\n"
          ]
        },
        {
          "output_type": "stream",
          "name": "stderr",
          "text": [
            "/usr/local/lib/python3.7/dist-packages/transformers/tokenization_utils_base.py:2291: FutureWarning: The `pad_to_max_length` argument is deprecated and will be removed in a future version, use `padding=True` or `padding='longest'` to pad to the longest sequence in the batch, or use `padding='max_length'` to pad to a max length. In this case, you can give a specific length with `max_length` (e.g. `max_length=45`) or leave max_length to None to pad to the maximal input size of the model (e.g. 512 for Bert).\n",
            "  FutureWarning,\n"
          ]
        },
        {
          "output_type": "stream",
          "name": "stdout",
          "text": [
            "Epoch: 0, Loss:  4.781628608703613\n",
            "Epoch: 0, Loss:  1.3164842128753662\n",
            "Epoch: 1, Loss:  2.29260516166687\n",
            "Epoch: 1, Loss:  0.8891348838806152\n",
            "Now generating summaries on our fine tuned model for the validation dataset and saving it in a dataframe\n",
            "Completed 0\n",
            "Completed 100\n",
            "Output Files generated for review\n"
          ]
        }
      ],
      "source": [
        "summarization_target = 'headline'\n",
        "source_text = 'article_text'\n",
        "target_source_pair = select_pair(summarization_target, source_text, dataset)\n",
        "if __name__ == '__main__':\n",
        "    main(target_source_pair)"
      ]
    },
    {
      "cell_type": "code",
      "execution_count": 150,
      "metadata": {
        "id": "qo2rUClY00_1"
      },
      "outputs": [],
      "source": [
        "df_summary = pd.read_csv('./outputs/predictions_headline_article_text.csv', index_col=0)\n",
        "no_duplicates = df_summary[~df_summary.gen_summary.isin(df_summary.ref_summary)]"
      ]
    },
    {
      "cell_type": "code",
      "source": [
        "len(df_summary.index), len(no_duplicates.index)"
      ],
      "metadata": {
        "colab": {
          "base_uri": "https://localhost:8080/"
        },
        "id": "Bkye6pz1bLXt",
        "outputId": "9f4c2b7a-e92d-43ac-8992-9c915878721a"
      },
      "execution_count": 77,
      "outputs": [
        {
          "output_type": "execute_result",
          "data": {
            "text/plain": [
              "(321, 317)"
            ]
          },
          "metadata": {},
          "execution_count": 77
        }
      ]
    },
    {
      "cell_type": "markdown",
      "source": [
        "##### Only four articles got a summarization that is identical to the original headline"
      ],
      "metadata": {
        "id": "Brwhydeugavk"
      }
    },
    {
      "cell_type": "markdown",
      "metadata": {
        "id": "viPFH4DjRev9"
      },
      "source": [
        "<a id='section06'></a>\n",
        "### Evaluation with ROUGE and BLEU metrics\n",
        "\n",
        "* ROUGE is a proxy metric for abstractive summarization.\n",
        "* In practice one of the most common metrics used to measure the performance of a summarization model is called the ROUGE score (Recall-Oriented Understudy for Gisting Evaluation) \n",
        "* The algorithm to compute ROUGE score considers consecutive tokens i.e. n-grams.\n",
        "* The n-grams from one text (e.g. the human-written summary) are compared to the n-grams of the other text (e.g. the machine-written summary).\n",
        "* A large overlap of n-grams results in a high ROUGE score and a low overlap — in a low ROUGE score. \n",
        "* For text summarization we want to look at ROUGE longest common subsequence (ROUGE L) as this will give us the longest overlap.\n",
        "* For the ROGUE we know it uses both recall and precision, and also the F1 score which is the harmonic mean of these.\n",
        "* For BLEU, well it also use precision twinned with recall but uses geometric mean and brevity penalty.\n",
        "* The difference between the ROUGE-n precision and BLEU is that BLEU introduces a brevity penalty term, and also compute the n-gram match for several size of n-grams (unlike the ROUGE-n, where there is only one chosen n-gram size). A good answer (https://stackoverflow.com/a/39190391/12178630)"
      ]
    },
    {
      "cell_type": "code",
      "execution_count": 195,
      "metadata": {
        "colab": {
          "base_uri": "https://localhost:8080/"
        },
        "id": "dpbTL6oLhNLV",
        "outputId": "5dc780ee-ac84-49bd-a1a9-03aec000cd7f"
      },
      "outputs": [
        {
          "output_type": "stream",
          "name": "stdout",
          "text": [
            "Looking in indexes: https://pypi.org/simple, https://us-python.pkg.dev/colab-wheels/public/simple/\n",
            "Requirement already satisfied: rouge_score in /usr/local/lib/python3.7/dist-packages (0.0.4)\n",
            "Requirement already satisfied: absl-py in /usr/local/lib/python3.7/dist-packages (from rouge_score) (1.1.0)\n",
            "Requirement already satisfied: numpy in /usr/local/lib/python3.7/dist-packages (from rouge_score) (1.21.6)\n",
            "Requirement already satisfied: nltk in /usr/local/lib/python3.7/dist-packages (from rouge_score) (3.7)\n",
            "Requirement already satisfied: six>=1.14.0 in /usr/local/lib/python3.7/dist-packages (from rouge_score) (1.15.0)\n",
            "Requirement already satisfied: tqdm in /usr/local/lib/python3.7/dist-packages (from nltk->rouge_score) (4.64.0)\n",
            "Requirement already satisfied: click in /usr/local/lib/python3.7/dist-packages (from nltk->rouge_score) (7.1.2)\n",
            "Requirement already satisfied: regex>=2021.8.3 in /usr/local/lib/python3.7/dist-packages (from nltk->rouge_score) (2022.6.2)\n",
            "Requirement already satisfied: joblib in /usr/local/lib/python3.7/dist-packages (from nltk->rouge_score) (1.1.0)\n"
          ]
        }
      ],
      "source": [
        "!pip install rouge_score"
      ]
    },
    {
      "cell_type": "code",
      "source": [
        "from eval import calculate_Bleu_Score, calculate_Rouge_Score, evalute_sample_from_dataset"
      ],
      "metadata": {
        "id": "jyGYcgO1SeFX"
      },
      "execution_count": 222,
      "outputs": []
    },
    {
      "cell_type": "code",
      "source": [
        "summary_datafile = './outputs/predictions_headline_article_text.csv'"
      ],
      "metadata": {
        "id": "Nn4i_YntmKuu"
      },
      "execution_count": 224,
      "outputs": []
    },
    {
      "cell_type": "code",
      "source": [
        "bleu_scores, rouge1_scores, rouge2_scores, rougeL_scores, rougeLsum_scores = evalute_sample_from_dataset(summary_datafile, 300)"
      ],
      "metadata": {
        "colab": {
          "base_uri": "https://localhost:8080/"
        },
        "id": "rg-cCrTyi5qW",
        "outputId": "e2227447-1914-4abb-e7a0-27f3aef89af0"
      },
      "execution_count": 229,
      "outputs": [
        {
          "output_type": "stream",
          "name": "stderr",
          "text": [
            "/usr/local/lib/python3.7/dist-packages/numpy/core/fromnumeric.py:86: VisibleDeprecationWarning: Creating an ndarray from ragged nested sequences (which is a list-or-tuple of lists-or-tuples-or ndarrays with different lengths or shapes) is deprecated. If you meant to do this, you must specify 'dtype=object' when creating the ndarray.\n",
            "  return ufunc.reduce(obj, axis, dtype, out, **passkwargs)\n"
          ]
        },
        {
          "output_type": "stream",
          "name": "stdout",
          "text": [
            "Final Blue Scores [[0.32640934 0.18925453 0.12733808]]\n",
            "Final ROUGE1 Scores [[0.17722222 0.16638889 0.16538095]]\n",
            "Final ROUGE2 Scores [[0.04111111 0.04444444 0.04144444]]\n",
            "Final ROUGEL Scores [[0.17722222 0.16638889 0.16538095]]\n",
            "Final ROUGELsum Scores [[0.17722222 0.16638889 0.16538095]]\n"
          ]
        }
      ]
    },
    {
      "cell_type": "code",
      "execution_count": 230,
      "metadata": {
        "id": "LuT-95Gcl2MU"
      },
      "outputs": [],
      "source": [
        "import matplotlib.pyplot as plt"
      ]
    },
    {
      "cell_type": "code",
      "execution_count": 231,
      "metadata": {
        "id": "29j0epD4l2Pu"
      },
      "outputs": [],
      "source": [
        "rouge_eval = []\n",
        "rouge_eval.append(rouge1_scores[0].tolist())\n",
        "rouge_eval.append(rouge2_scores[0].tolist())\n",
        "rouge_eval.append(rougeL_scores[0].tolist())\n",
        "rouge_eval.append(rougeLsum_scores[0].tolist())\n",
        "\n",
        "rouge_eval = (np.array(rouge_eval))"
      ]
    },
    {
      "cell_type": "code",
      "execution_count": 232,
      "metadata": {
        "id": "5KP2rBvul2Sd"
      },
      "outputs": [],
      "source": [
        "column_headers = [[\"Bleu Scores\"],[\"Precision\", \"Recall\", \"F-Measure\"]]\n",
        "row_headers = [[\"BLEU-1\", \"BLEU-2\", \"BLEU-3\"],[\"ROUGE-1\", \"ROUGE-2\", \"ROUGE-L\", \"ROUGE-Lsum\"]]\n",
        "cell_text_bleu = bleu_scores.T\n",
        "cell_text_rouge = rouge_eval"
      ]
    },
    {
      "cell_type": "code",
      "execution_count": 233,
      "metadata": {
        "colab": {
          "base_uri": "https://localhost:8080/",
          "height": 585
        },
        "id": "2J_dtGZMl66A",
        "outputId": "ae03be65-e476-4cce-f2fa-0f9b4e7aec16"
      },
      "outputs": [
        {
          "output_type": "display_data",
          "data": {
            "text/plain": [
              "<Figure size 504x576 with 1 Axes>"
            ],
            "image/png": "[encoded data removed]"
          },
          "metadata": {
            "needs_background": "light"
          }
        }
      ],
      "source": [
        "rcolors = plt.cm.BuPu(np.full(len(row_headers[0]), 0.1))\n",
        "ccolors = plt.cm.BuPu(np.full(len(column_headers[0]), 0.1))\n",
        "plt.rcParams[\"figure.figsize\"] = [7.00, 8.00]\n",
        "plt.rcParams[\"figure.autolayout\"] = True\n",
        "fig, axs = plt.subplots(1, 1)\n",
        "axs.axis('tight')\n",
        "axs.axis('off')\n",
        "table = plt.table(cellText=cell_text_bleu,\n",
        "                    rowLabels=row_headers[0],\n",
        "                    rowColours=rcolors,\n",
        "                    colColours = ccolors,\n",
        "                    colLabels=column_headers[0],\n",
        "                    loc='center')\n",
        "plt.title('BLEU SCORE EVALUATION')\n",
        "plt.show()"
      ]
    },
    {
      "cell_type": "code",
      "execution_count": 234,
      "metadata": {
        "colab": {
          "base_uri": "https://localhost:8080/",
          "height": 729
        },
        "id": "xEzfdLaVl680",
        "outputId": "d8469c0c-321d-49dd-8a13-2b1928f3a267"
      },
      "outputs": [
        {
          "output_type": "display_data",
          "data": {
            "text/plain": [
              "<Figure size 504x720 with 1 Axes>"
            ],
            "image/png": "[encoded data removed]"
          },
          "metadata": {
            "needs_background": "light"
          }
        }
      ],
      "source": [
        "import numpy as np\n",
        "from matplotlib import pyplot as plt\n",
        "rcolors = plt.cm.BuPu(np.full(len(row_headers[1]), 0.1))\n",
        "ccolors = plt.cm.BuPu(np.full(len(column_headers[1]), 0.1))\n",
        "plt.rcParams[\"figure.figsize\"] = [7.00, 10.0]\n",
        "plt.rcParams[\"figure.autolayout\"] = True\n",
        "fig, axs = plt.subplots(1, 1)\n",
        "data = cell_text_rouge\n",
        "columns = column_headers[1]\n",
        "rows = row_headers[1]\n",
        "axs.axis('tight')\n",
        "axs.axis('off')\n",
        "the_table = axs.table(cellText=data, \n",
        "                      colLabels=columns,\n",
        "                      rowLabels=rows,\n",
        "                      rowColours = rcolors,\n",
        "                      colColours = ccolors,\n",
        "                      loc='center')\n",
        "plt.title('ROUGE SCORE EVALUATION')\n",
        "plt.show()"
      ]
    }
  ],
  "metadata": {
    "accelerator": "GPU",
    "colab": {
      "collapsed_sections": [],
      "name": "summarization_T5_finetune.ipynb",
      "provenance": []
    },
    "gpuClass": "standard",
    "kernelspec": {
      "display_name": "Python 3 (ipykernel)",
      "language": "python",
      "name": "python3"
    },
    "language_info": {
      "codemirror_mode": {
        "name": "ipython",
        "version": 3
      },
      "file_extension": ".py",
      "mimetype": "text/x-python",
      "name": "python",
      "nbconvert_exporter": "python",
      "pygments_lexer": "ipython3",
      "version": "3.7.6"
    },
    "papermill": {
      "duration": 3035.58791,
      "end_time": "2021-06-23T08:35:31.542200",
      "environment_variables": {},
      "exception": null,
      "input_path": "__notebook__.ipynb",
      "output_path": "__notebook__.ipynb",
      "parameters": {},
      "start_time": "2021-06-23T07:44:55.954290",
      "version": "2.1.0"
    }
  },
  "nbformat": 4,
  "nbformat_minor": 0
}