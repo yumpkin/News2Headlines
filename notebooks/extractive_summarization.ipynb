{
 "cells": [
  {
   "cell_type": "markdown",
   "metadata": {
    "id": "GQFFcy1uGq0I"
   },
   "source": [
    "**There are two major types of text summarization**:\n",
    "  -\tExtractive: summaries consist of text from the original document.   Extractive summaries are relatively easy to achieve. The whole concept is to find the relevant parts of the input text. \n",
    "  \n",
    "  -\tAbstractive: summaries can contain novel sequences of text not necessarily taken from the original text. Abstractive summaries are harder to achieve, even generating a very simple text is quite a challenge.\n",
    "\n",
    "\n",
    "* This notebook is dedicated for covering different techniques of Extractive summarization."
   ]
  },
  {
   "cell_type": "code",
   "execution_count": 1,
   "metadata": {
    "execution": {
     "iopub.execute_input": "2022-05-16T20:47:08.201632Z",
     "iopub.status.busy": "2022-05-16T20:47:08.201091Z",
     "iopub.status.idle": "2022-05-16T20:47:08.206837Z",
     "shell.execute_reply": "2022-05-16T20:47:08.206132Z",
     "shell.execute_reply.started": "2022-05-16T20:47:08.201594Z"
    },
    "id": "mL8yjyrfyYMJ"
   },
   "outputs": [],
   "source": [
    "import pandas as pd\n",
    "import numpy as np\n",
    "import textwrap\n",
    "import nltk\n",
    "import re\n",
    "import string\n",
    "import heapq\n",
    "from nltk.corpus import stopwords\n",
    "from nltk import word_tokenize\n",
    "from nltk.stem import WordNetLemmatizer, PorterStemmer\n",
    "#from google.colab import data_table\n",
    "\n",
    "import networkx as nx\n",
    "from nltk.cluster.util import cosine_distance\n",
    "\n",
    "#data_table.enable_dataframe_formatter()\n",
    "\n",
    "# import pandas as pd\n",
    "# import io\n",
    "# import numpy as np\n",
    "# import textwrap\n",
    "# import nltk\n",
    "# from nltk.corpus import stopwords\n",
    "# from nltk import word_tokenize\n",
    "# from nltk.stem import WordNetLemmatizer, PorterStemmer\n",
    "# from google.colab import data_table\n",
    "# data_table.enable_dataframe_formatter()"
   ]
  },
  {
   "cell_type": "code",
   "execution_count": 47,
   "metadata": {
    "execution": {
     "iopub.execute_input": "2022-05-16T20:47:08.231967Z",
     "iopub.status.busy": "2022-05-16T20:47:08.231456Z",
     "iopub.status.idle": "2022-05-16T20:47:08.235033Z",
     "shell.execute_reply": "2022-05-16T20:47:08.234090Z",
     "shell.execute_reply.started": "2022-05-16T20:47:08.231941Z"
    },
    "id": "h1EPiAuRI3lp"
   },
   "outputs": [],
   "source": [
    "# from google.colab import drive\n",
    "# drive.mount('drive')"
   ]
  },
  {
   "cell_type": "code",
   "execution_count": 48,
   "metadata": {
    "colab": {
     "base_uri": "https://localhost:8080/",
     "height": 337
    },
    "execution": {
     "iopub.execute_input": "2022-05-16T20:47:08.247682Z",
     "iopub.status.busy": "2022-05-16T20:47:08.247382Z",
     "iopub.status.idle": "2022-05-16T20:47:09.808972Z",
     "shell.execute_reply": "2022-05-16T20:47:09.808256Z",
     "shell.execute_reply.started": "2022-05-16T20:47:08.247655Z"
    },
    "id": "aT4SyeQVJh1H",
    "outputId": "84ef08b7-1b9c-4bd0-ebee-9b5a38829105"
   },
   "outputs": [
    {
     "data": {
      "text/html": [
       "\n",
       "  <div id=\"df-aa908f52-d86e-4dd6-9f7a-3fb500c09e2b\">\n",
       "    <div class=\"colab-df-container\">\n",
       "      <div>\n",
       "<style scoped>\n",
       "    .dataframe tbody tr th:only-of-type {\n",
       "        vertical-align: middle;\n",
       "    }\n",
       "\n",
       "    .dataframe tbody tr th {\n",
       "        vertical-align: top;\n",
       "    }\n",
       "\n",
       "    .dataframe thead th {\n",
       "        text-align: right;\n",
       "    }\n",
       "</style>\n",
       "<table border=\"1\" class=\"dataframe\">\n",
       "  <thead>\n",
       "    <tr style=\"text-align: right;\">\n",
       "      <th></th>\n",
       "      <th>headline</th>\n",
       "      <th>article_overview</th>\n",
       "      <th>article_text</th>\n",
       "      <th>category</th>\n",
       "      <th>tags</th>\n",
       "    </tr>\n",
       "  </thead>\n",
       "  <tbody>\n",
       "    <tr>\n",
       "      <th>58eda1b1ed4eb0bc52000abe8b87feb9</th>\n",
       "      <td>Песков заявил об отсутствии соглашений по укра...</td>\n",
       "      <td>Об отправке 11 вагонов с зерном для продажи со...</td>\n",
       "      <td>Песков заявил об отсутствии соглашений по укр...</td>\n",
       "      <td>politics</td>\n",
       "      <td>[Украина, зерно, поставки, переговоры]</td>\n",
       "    </tr>\n",
       "    <tr>\n",
       "      <th>db08ad6636ec7437ee065ea4feaab6b1</th>\n",
       "      <td>В Киеве попросили уточнить слова Байдена об от...</td>\n",
       "      <td>Западные страны не стали вводить превентивные ...</td>\n",
       "      <td>В Киеве попросили уточнить слова Байдена об о...</td>\n",
       "      <td>politics</td>\n",
       "      <td>[Украина, Джо Байден, санкции, Владимир Зеленс...</td>\n",
       "    </tr>\n",
       "    <tr>\n",
       "      <th>87b425dcafb5f6f99e4d812b01bc7c3e</th>\n",
       "      <td>Владелец бондов «Роснано» назвал возможный деф...</td>\n",
       "      <td>По мнению гендиректора «Арикапитала», если гос...</td>\n",
       "      <td>Владелец бондов «Роснано» назвал возможный де...</td>\n",
       "      <td>economics</td>\n",
       "      <td>[«Роснано», дефолт, облигации, рублевые облига...</td>\n",
       "    </tr>\n",
       "    <tr>\n",
       "      <th>1483b6780bf81a8e8c7851d21bbf4071</th>\n",
       "      <td>«Тинькофф» описал схему выхода на новые рынки ...</td>\n",
       "      <td>Группа Олега Тинькова планирует выходить на за...</td>\n",
       "      <td>«Тинькофф» описал схему выхода на новые рынки...</td>\n",
       "      <td>finance</td>\n",
       "      <td>[«Тинькофф банк», сделки M&amp;A]</td>\n",
       "    </tr>\n",
       "    <tr>\n",
       "      <th>a464c501c68db643b23b04209e980f03</th>\n",
       "      <td>Верховный суд даст разъяснение, что считать пр...</td>\n",
       "      <td>Слишком длительные допросы и оскорбления могут...</td>\n",
       "      <td>Верховный суд даст разъяснение, что считать п...</td>\n",
       "      <td>society</td>\n",
       "      <td>[суд, допросы, Верховный суд]</td>\n",
       "    </tr>\n",
       "  </tbody>\n",
       "</table>\n",
       "</div>\n",
       "      <button class=\"colab-df-convert\" onclick=\"convertToInteractive('df-aa908f52-d86e-4dd6-9f7a-3fb500c09e2b')\"\n",
       "              title=\"Convert this dataframe to an interactive table.\"\n",
       "              style=\"display:none;\">\n",
       "        \n",
       "  <svg xmlns=\"http://www.w3.org/2000/svg\" height=\"24px\"viewBox=\"0 0 24 24\"\n",
       "       width=\"24px\">\n",
       "    <path d=\"M0 0h24v24H0V0z\" fill=\"none\"/>\n",
       "    <path d=\"M18.56 5.44l.94 2.06.94-2.06 2.06-.94-2.06-.94-.94-2.06-.94 2.06-2.06.94zm-11 1L8.5 8.5l.94-2.06 2.06-.94-2.06-.94L8.5 2.5l-.94 2.06-2.06.94zm10 10l.94 2.06.94-2.06 2.06-.94-2.06-.94-.94-2.06-.94 2.06-2.06.94z\"/><path d=\"M17.41 7.96l-1.37-1.37c-.4-.4-.92-.59-1.43-.59-.52 0-1.04.2-1.43.59L10.3 9.45l-7.72 7.72c-.78.78-.78 2.05 0 2.83L4 21.41c.39.39.9.59 1.41.59.51 0 1.02-.2 1.41-.59l7.78-7.78 2.81-2.81c.8-.78.8-2.07 0-2.86zM5.41 20L4 18.59l7.72-7.72 1.47 1.35L5.41 20z\"/>\n",
       "  </svg>\n",
       "      </button>\n",
       "      \n",
       "  <style>\n",
       "    .colab-df-container {\n",
       "      display:flex;\n",
       "      flex-wrap:wrap;\n",
       "      gap: 12px;\n",
       "    }\n",
       "\n",
       "    .colab-df-convert {\n",
       "      background-color: #E8F0FE;\n",
       "      border: none;\n",
       "      border-radius: 50%;\n",
       "      cursor: pointer;\n",
       "      display: none;\n",
       "      fill: #1967D2;\n",
       "      height: 32px;\n",
       "      padding: 0 0 0 0;\n",
       "      width: 32px;\n",
       "    }\n",
       "\n",
       "    .colab-df-convert:hover {\n",
       "      background-color: #E2EBFA;\n",
       "      box-shadow: 0px 1px 2px rgba(60, 64, 67, 0.3), 0px 1px 3px 1px rgba(60, 64, 67, 0.15);\n",
       "      fill: #174EA6;\n",
       "    }\n",
       "\n",
       "    [theme=dark] .colab-df-convert {\n",
       "      background-color: #3B4455;\n",
       "      fill: #D2E3FC;\n",
       "    }\n",
       "\n",
       "    [theme=dark] .colab-df-convert:hover {\n",
       "      background-color: #434B5C;\n",
       "      box-shadow: 0px 1px 3px 1px rgba(0, 0, 0, 0.15);\n",
       "      filter: drop-shadow(0px 1px 2px rgba(0, 0, 0, 0.3));\n",
       "      fill: #FFFFFF;\n",
       "    }\n",
       "  </style>\n",
       "\n",
       "      <script>\n",
       "        const buttonEl =\n",
       "          document.querySelector('#df-aa908f52-d86e-4dd6-9f7a-3fb500c09e2b button.colab-df-convert');\n",
       "        buttonEl.style.display =\n",
       "          google.colab.kernel.accessAllowed ? 'block' : 'none';\n",
       "\n",
       "        async function convertToInteractive(key) {\n",
       "          const element = document.querySelector('#df-aa908f52-d86e-4dd6-9f7a-3fb500c09e2b');\n",
       "          const dataTable =\n",
       "            await google.colab.kernel.invokeFunction('convertToInteractive',\n",
       "                                                     [key], {});\n",
       "          if (!dataTable) return;\n",
       "\n",
       "          const docLinkHtml = 'Like what you see? Visit the ' +\n",
       "            '<a target=\"_blank\" href=https://colab.research.google.com/notebooks/data_table.ipynb>data table notebook</a>'\n",
       "            + ' to learn more about interactive tables.';\n",
       "          element.innerHTML = '';\n",
       "          dataTable['output_type'] = 'display_data';\n",
       "          await google.colab.output.renderOutput(dataTable, element);\n",
       "          const docLink = document.createElement('div');\n",
       "          docLink.innerHTML = docLinkHtml;\n",
       "          element.appendChild(docLink);\n",
       "        }\n",
       "      </script>\n",
       "    </div>\n",
       "  </div>\n",
       "  "
      ],
      "text/plain": [
       "                                                                           headline  \\\n",
       "58eda1b1ed4eb0bc52000abe8b87feb9  Песков заявил об отсутствии соглашений по укра...   \n",
       "db08ad6636ec7437ee065ea4feaab6b1  В Киеве попросили уточнить слова Байдена об от...   \n",
       "87b425dcafb5f6f99e4d812b01bc7c3e  Владелец бондов «Роснано» назвал возможный деф...   \n",
       "1483b6780bf81a8e8c7851d21bbf4071  «Тинькофф» описал схему выхода на новые рынки ...   \n",
       "a464c501c68db643b23b04209e980f03  Верховный суд даст разъяснение, что считать пр...   \n",
       "\n",
       "                                                                   article_overview  \\\n",
       "58eda1b1ed4eb0bc52000abe8b87feb9  Об отправке 11 вагонов с зерном для продажи со...   \n",
       "db08ad6636ec7437ee065ea4feaab6b1  Западные страны не стали вводить превентивные ...   \n",
       "87b425dcafb5f6f99e4d812b01bc7c3e  По мнению гендиректора «Арикапитала», если гос...   \n",
       "1483b6780bf81a8e8c7851d21bbf4071  Группа Олега Тинькова планирует выходить на за...   \n",
       "a464c501c68db643b23b04209e980f03  Слишком длительные допросы и оскорбления могут...   \n",
       "\n",
       "                                                                       article_text  \\\n",
       "58eda1b1ed4eb0bc52000abe8b87feb9   Песков заявил об отсутствии соглашений по укр...   \n",
       "db08ad6636ec7437ee065ea4feaab6b1   В Киеве попросили уточнить слова Байдена об о...   \n",
       "87b425dcafb5f6f99e4d812b01bc7c3e   Владелец бондов «Роснано» назвал возможный де...   \n",
       "1483b6780bf81a8e8c7851d21bbf4071   «Тинькофф» описал схему выхода на новые рынки...   \n",
       "a464c501c68db643b23b04209e980f03   Верховный суд даст разъяснение, что считать п...   \n",
       "\n",
       "                                   category  \\\n",
       "58eda1b1ed4eb0bc52000abe8b87feb9   politics   \n",
       "db08ad6636ec7437ee065ea4feaab6b1   politics   \n",
       "87b425dcafb5f6f99e4d812b01bc7c3e  economics   \n",
       "1483b6780bf81a8e8c7851d21bbf4071    finance   \n",
       "a464c501c68db643b23b04209e980f03    society   \n",
       "\n",
       "                                                                               tags  \n",
       "58eda1b1ed4eb0bc52000abe8b87feb9             [Украина, зерно, поставки, переговоры]  \n",
       "db08ad6636ec7437ee065ea4feaab6b1  [Украина, Джо Байден, санкции, Владимир Зеленс...  \n",
       "87b425dcafb5f6f99e4d812b01bc7c3e  [«Роснано», дефолт, облигации, рублевые облига...  \n",
       "1483b6780bf81a8e8c7851d21bbf4071                      [«Тинькофф банк», сделки M&A]  \n",
       "a464c501c68db643b23b04209e980f03                      [суд, допросы, Верховный суд]  "
      ]
     },
     "execution_count": 48,
     "metadata": {},
     "output_type": "execute_result"
    }
   ],
   "source": [
    "df = pd.read_json(\"shuffled_hashed_rbc_dataset.json\")\n",
    "df = df.transpose()\n",
    "df.head()\n",
    "# df = df[['article_overview','article_text']]\n",
    "# df.head()"
   ]
  },
  {
   "cell_type": "markdown",
   "metadata": {
    "id": "-OZ84eC-Kn5g"
   },
   "source": [
    "4. After that, we will download the needed files from NLTK."
   ]
  },
  {
   "cell_type": "code",
   "execution_count": 49,
   "metadata": {
    "colab": {
     "base_uri": "https://localhost:8080/"
    },
    "execution": {
     "iopub.execute_input": "2022-05-16T20:47:09.812256Z",
     "iopub.status.busy": "2022-05-16T20:47:09.811653Z",
     "iopub.status.idle": "2022-05-16T20:47:10.110456Z",
     "shell.execute_reply": "2022-05-16T20:47:10.109776Z",
     "shell.execute_reply.started": "2022-05-16T20:47:09.812223Z"
    },
    "id": "pvE5h5sWKyEV",
    "outputId": "e398d9f2-61ac-4cb6-921f-006546cf17d7"
   },
   "outputs": [
    {
     "name": "stderr",
     "output_type": "stream",
     "text": [
      "[nltk_data] Downloading package punkt to /root/nltk_data...\n",
      "[nltk_data]   Package punkt is already up-to-date!\n",
      "[nltk_data] Downloading package stopwords to /root/nltk_data...\n",
      "[nltk_data]   Package stopwords is already up-to-date!\n"
     ]
    },
    {
     "data": {
      "text/plain": [
       "True"
      ]
     },
     "execution_count": 49,
     "metadata": {},
     "output_type": "execute_result"
    }
   ],
   "source": [
    "nltk.download('punkt')\n",
    "nltk.download('stopwords')"
   ]
  },
  {
   "cell_type": "markdown",
   "metadata": {
    "id": "gKVNHcIzLzOi"
   },
   "source": [
    "# **Data Exploration**:"
   ]
  },
  {
   "cell_type": "code",
   "execution_count": 50,
   "metadata": {
    "colab": {
     "base_uri": "https://localhost:8080/",
     "height": 240
    },
    "execution": {
     "iopub.execute_input": "2022-05-16T20:47:10.112777Z",
     "iopub.status.busy": "2022-05-16T20:47:10.111710Z",
     "iopub.status.idle": "2022-05-16T20:47:10.131104Z",
     "shell.execute_reply": "2022-05-16T20:47:10.130405Z",
     "shell.execute_reply.started": "2022-05-16T20:47:10.112737Z"
    },
    "id": "Wo5u3pPhNH5u",
    "outputId": "ef96f216-404f-49d9-de06-cf0ec56eea20"
   },
   "outputs": [
    {
     "data": {
      "text/html": [
       "\n",
       "  <div id=\"df-142555bc-42b1-4878-ba1d-269e746d1faf\">\n",
       "    <div class=\"colab-df-container\">\n",
       "      <div>\n",
       "<style scoped>\n",
       "    .dataframe tbody tr th:only-of-type {\n",
       "        vertical-align: middle;\n",
       "    }\n",
       "\n",
       "    .dataframe tbody tr th {\n",
       "        vertical-align: top;\n",
       "    }\n",
       "\n",
       "    .dataframe thead th {\n",
       "        text-align: right;\n",
       "    }\n",
       "</style>\n",
       "<table border=\"1\" class=\"dataframe\">\n",
       "  <thead>\n",
       "    <tr style=\"text-align: right;\">\n",
       "      <th></th>\n",
       "      <th>headline</th>\n",
       "      <th>article_overview</th>\n",
       "      <th>article_text</th>\n",
       "      <th>category</th>\n",
       "      <th>tags</th>\n",
       "    </tr>\n",
       "  </thead>\n",
       "  <tbody>\n",
       "    <tr>\n",
       "      <th>58eda1b1ed4eb0bc52000abe8b87feb9</th>\n",
       "      <td>Песков заявил об отсутствии соглашений по укра...</td>\n",
       "      <td>Об отправке 11 вагонов с зерном для продажи со...</td>\n",
       "      <td>Песков заявил об отсутствии соглашений по укр...</td>\n",
       "      <td>politics</td>\n",
       "      <td>[Украина, зерно, поставки, переговоры]</td>\n",
       "    </tr>\n",
       "    <tr>\n",
       "      <th>db08ad6636ec7437ee065ea4feaab6b1</th>\n",
       "      <td>В Киеве попросили уточнить слова Байдена об от...</td>\n",
       "      <td>Западные страны не стали вводить превентивные ...</td>\n",
       "      <td>В Киеве попросили уточнить слова Байдена об о...</td>\n",
       "      <td>politics</td>\n",
       "      <td>[Украина, Джо Байден, санкции, Владимир Зеленс...</td>\n",
       "    </tr>\n",
       "    <tr>\n",
       "      <th>87b425dcafb5f6f99e4d812b01bc7c3e</th>\n",
       "      <td>Владелец бондов «Роснано» назвал возможный деф...</td>\n",
       "      <td>По мнению гендиректора «Арикапитала», если гос...</td>\n",
       "      <td>Владелец бондов «Роснано» назвал возможный де...</td>\n",
       "      <td>economics</td>\n",
       "      <td>[«Роснано», дефолт, облигации, рублевые облига...</td>\n",
       "    </tr>\n",
       "  </tbody>\n",
       "</table>\n",
       "</div>\n",
       "      <button class=\"colab-df-convert\" onclick=\"convertToInteractive('df-142555bc-42b1-4878-ba1d-269e746d1faf')\"\n",
       "              title=\"Convert this dataframe to an interactive table.\"\n",
       "              style=\"display:none;\">\n",
       "        \n",
       "  <svg xmlns=\"http://www.w3.org/2000/svg\" height=\"24px\"viewBox=\"0 0 24 24\"\n",
       "       width=\"24px\">\n",
       "    <path d=\"M0 0h24v24H0V0z\" fill=\"none\"/>\n",
       "    <path d=\"M18.56 5.44l.94 2.06.94-2.06 2.06-.94-2.06-.94-.94-2.06-.94 2.06-2.06.94zm-11 1L8.5 8.5l.94-2.06 2.06-.94-2.06-.94L8.5 2.5l-.94 2.06-2.06.94zm10 10l.94 2.06.94-2.06 2.06-.94-2.06-.94-.94-2.06-.94 2.06-2.06.94z\"/><path d=\"M17.41 7.96l-1.37-1.37c-.4-.4-.92-.59-1.43-.59-.52 0-1.04.2-1.43.59L10.3 9.45l-7.72 7.72c-.78.78-.78 2.05 0 2.83L4 21.41c.39.39.9.59 1.41.59.51 0 1.02-.2 1.41-.59l7.78-7.78 2.81-2.81c.8-.78.8-2.07 0-2.86zM5.41 20L4 18.59l7.72-7.72 1.47 1.35L5.41 20z\"/>\n",
       "  </svg>\n",
       "      </button>\n",
       "      \n",
       "  <style>\n",
       "    .colab-df-container {\n",
       "      display:flex;\n",
       "      flex-wrap:wrap;\n",
       "      gap: 12px;\n",
       "    }\n",
       "\n",
       "    .colab-df-convert {\n",
       "      background-color: #E8F0FE;\n",
       "      border: none;\n",
       "      border-radius: 50%;\n",
       "      cursor: pointer;\n",
       "      display: none;\n",
       "      fill: #1967D2;\n",
       "      height: 32px;\n",
       "      padding: 0 0 0 0;\n",
       "      width: 32px;\n",
       "    }\n",
       "\n",
       "    .colab-df-convert:hover {\n",
       "      background-color: #E2EBFA;\n",
       "      box-shadow: 0px 1px 2px rgba(60, 64, 67, 0.3), 0px 1px 3px 1px rgba(60, 64, 67, 0.15);\n",
       "      fill: #174EA6;\n",
       "    }\n",
       "\n",
       "    [theme=dark] .colab-df-convert {\n",
       "      background-color: #3B4455;\n",
       "      fill: #D2E3FC;\n",
       "    }\n",
       "\n",
       "    [theme=dark] .colab-df-convert:hover {\n",
       "      background-color: #434B5C;\n",
       "      box-shadow: 0px 1px 3px 1px rgba(0, 0, 0, 0.15);\n",
       "      filter: drop-shadow(0px 1px 2px rgba(0, 0, 0, 0.3));\n",
       "      fill: #FFFFFF;\n",
       "    }\n",
       "  </style>\n",
       "\n",
       "      <script>\n",
       "        const buttonEl =\n",
       "          document.querySelector('#df-142555bc-42b1-4878-ba1d-269e746d1faf button.colab-df-convert');\n",
       "        buttonEl.style.display =\n",
       "          google.colab.kernel.accessAllowed ? 'block' : 'none';\n",
       "\n",
       "        async function convertToInteractive(key) {\n",
       "          const element = document.querySelector('#df-142555bc-42b1-4878-ba1d-269e746d1faf');\n",
       "          const dataTable =\n",
       "            await google.colab.kernel.invokeFunction('convertToInteractive',\n",
       "                                                     [key], {});\n",
       "          if (!dataTable) return;\n",
       "\n",
       "          const docLinkHtml = 'Like what you see? Visit the ' +\n",
       "            '<a target=\"_blank\" href=https://colab.research.google.com/notebooks/data_table.ipynb>data table notebook</a>'\n",
       "            + ' to learn more about interactive tables.';\n",
       "          element.innerHTML = '';\n",
       "          dataTable['output_type'] = 'display_data';\n",
       "          await google.colab.output.renderOutput(dataTable, element);\n",
       "          const docLink = document.createElement('div');\n",
       "          docLink.innerHTML = docLinkHtml;\n",
       "          element.appendChild(docLink);\n",
       "        }\n",
       "      </script>\n",
       "    </div>\n",
       "  </div>\n",
       "  "
      ],
      "text/plain": [
       "                                                                           headline  \\\n",
       "58eda1b1ed4eb0bc52000abe8b87feb9  Песков заявил об отсутствии соглашений по укра...   \n",
       "db08ad6636ec7437ee065ea4feaab6b1  В Киеве попросили уточнить слова Байдена об от...   \n",
       "87b425dcafb5f6f99e4d812b01bc7c3e  Владелец бондов «Роснано» назвал возможный деф...   \n",
       "\n",
       "                                                                   article_overview  \\\n",
       "58eda1b1ed4eb0bc52000abe8b87feb9  Об отправке 11 вагонов с зерном для продажи со...   \n",
       "db08ad6636ec7437ee065ea4feaab6b1  Западные страны не стали вводить превентивные ...   \n",
       "87b425dcafb5f6f99e4d812b01bc7c3e  По мнению гендиректора «Арикапитала», если гос...   \n",
       "\n",
       "                                                                       article_text  \\\n",
       "58eda1b1ed4eb0bc52000abe8b87feb9   Песков заявил об отсутствии соглашений по укр...   \n",
       "db08ad6636ec7437ee065ea4feaab6b1   В Киеве попросили уточнить слова Байдена об о...   \n",
       "87b425dcafb5f6f99e4d812b01bc7c3e   Владелец бондов «Роснано» назвал возможный де...   \n",
       "\n",
       "                                   category  \\\n",
       "58eda1b1ed4eb0bc52000abe8b87feb9   politics   \n",
       "db08ad6636ec7437ee065ea4feaab6b1   politics   \n",
       "87b425dcafb5f6f99e4d812b01bc7c3e  economics   \n",
       "\n",
       "                                                                               tags  \n",
       "58eda1b1ed4eb0bc52000abe8b87feb9             [Украина, зерно, поставки, переговоры]  \n",
       "db08ad6636ec7437ee065ea4feaab6b1  [Украина, Джо Байден, санкции, Владимир Зеленс...  \n",
       "87b425dcafb5f6f99e4d812b01bc7c3e  [«Роснано», дефолт, облигации, рублевые облига...  "
      ]
     },
     "execution_count": 50,
     "metadata": {},
     "output_type": "execute_result"
    }
   ],
   "source": [
    "df.head(3)"
   ]
  },
  {
   "cell_type": "markdown",
   "metadata": {
    "id": "zY3ktvqgNe1w"
   },
   "source": [
    "In addition, It has been found that we have five entries with no articles. This might be due to some interraption in the internet connection while performing the webscraping."
   ]
  },
  {
   "cell_type": "markdown",
   "metadata": {
    "id": "ujbP4r45P43P"
   },
   "source": [
    "## **Supporting Functions**\n",
    "\n",
    "This section consists of some supporting functions that will be used frequently in this notebook."
   ]
  },
  {
   "cell_type": "code",
   "execution_count": 2,
   "metadata": {
    "execution": {
     "iopub.execute_input": "2022-05-16T20:47:10.180995Z",
     "iopub.status.busy": "2022-05-16T20:47:10.180628Z",
     "iopub.status.idle": "2022-05-16T20:47:10.190550Z",
     "shell.execute_reply": "2022-05-16T20:47:10.189670Z",
     "shell.execute_reply.started": "2022-05-16T20:47:10.180957Z"
    },
    "id": "9RmB1vcdQKk-"
   },
   "outputs": [],
   "source": [
    "def wrap(x):\n",
    "    return textwrap.fill(x, replace_whitespace = False, fix_sentence_endings= True)"
   ]
  },
  {
   "cell_type": "code",
   "execution_count": 3,
   "metadata": {
    "execution": {
     "iopub.execute_input": "2022-05-16T20:47:10.193210Z",
     "iopub.status.busy": "2022-05-16T20:47:10.191499Z",
     "iopub.status.idle": "2022-05-16T20:47:10.202198Z",
     "shell.execute_reply": "2022-05-16T20:47:10.201442Z",
     "shell.execute_reply.started": "2022-05-16T20:47:10.193180Z"
    },
    "id": "h-_J0YduvCxH"
   },
   "outputs": [],
   "source": [
    "def hilight_summary(original_sentences,summary_sentences,sentences_format = 0):\n",
    "\n",
    "    # original_article_overview = article['article_overview'].iloc[0]\n",
    "    # original_sentences = article['article_text'].iloc[0]\n",
    "\n",
    "    if(sentences_format == 0):\n",
    "        # original_article_overview = \" \".join([sentence for sentence in nltk.sent_tokenize(original_article_overview)])\n",
    "        original_sentences = [sentence for sentence in nltk.sent_tokenize(original_sentences)]\n",
    "        summary_sentences = [sentence for sentence in nltk.sent_tokenize(summary_sentences)]\n",
    "\n",
    "    text = ''\n",
    "    print(\"===============Summary=============================\")\n",
    "    for sentence in original_sentences:\n",
    "        if sentence in summary_sentences:\n",
    "            text += ' ' + sentence.replace(sentence, \"\\x1b[94m\"+sentence+\"\\x1b[0m\")\n",
    "        else:\n",
    "            text += ' ' + sentence\n",
    "\n",
    "    print(\"\\n\".join(textwrap.wrap(text, width=150)))"
   ]
  },
  {
   "cell_type": "markdown",
   "metadata": {
    "id": "rWqiW5vZvNHa"
   },
   "source": [
    "The below code utilizes a method that was developed in the __supporting functions__ to highlight the extracted summary out of the original text."
   ]
  },
  {
   "cell_type": "code",
   "execution_count": 53,
   "metadata": {
    "colab": {
     "base_uri": "https://localhost:8080/",
     "height": 175
    },
    "execution": {
     "iopub.execute_input": "2022-05-16T20:47:10.133221Z",
     "iopub.status.busy": "2022-05-16T20:47:10.132917Z",
     "iopub.status.idle": "2022-05-16T20:47:10.161758Z",
     "shell.execute_reply": "2022-05-16T20:47:10.161099Z",
     "shell.execute_reply.started": "2022-05-16T20:47:10.133185Z"
    },
    "id": "FVxq7VghNnuk",
    "outputId": "70485e8d-a2e1-401f-e924-37a9bfc79f12"
   },
   "outputs": [
    {
     "data": {
      "text/html": [
       "\n",
       "  <div id=\"df-866d9ff7-607d-4362-9c90-64e11e045b39\">\n",
       "    <div class=\"colab-df-container\">\n",
       "      <div>\n",
       "<style scoped>\n",
       "    .dataframe tbody tr th:only-of-type {\n",
       "        vertical-align: middle;\n",
       "    }\n",
       "\n",
       "    .dataframe tbody tr th {\n",
       "        vertical-align: top;\n",
       "    }\n",
       "\n",
       "    .dataframe thead th {\n",
       "        text-align: right;\n",
       "    }\n",
       "</style>\n",
       "<table border=\"1\" class=\"dataframe\">\n",
       "  <thead>\n",
       "    <tr style=\"text-align: right;\">\n",
       "      <th></th>\n",
       "      <th>headline</th>\n",
       "      <th>article_overview</th>\n",
       "      <th>article_text</th>\n",
       "      <th>category</th>\n",
       "      <th>tags</th>\n",
       "    </tr>\n",
       "  </thead>\n",
       "  <tbody>\n",
       "    <tr>\n",
       "      <th>count</th>\n",
       "      <td>1606</td>\n",
       "      <td>1606</td>\n",
       "      <td>1606</td>\n",
       "      <td>1606</td>\n",
       "      <td>1606</td>\n",
       "    </tr>\n",
       "    <tr>\n",
       "      <th>unique</th>\n",
       "      <td>1565</td>\n",
       "      <td>1569</td>\n",
       "      <td>1606</td>\n",
       "      <td>6</td>\n",
       "      <td>1542</td>\n",
       "    </tr>\n",
       "    <tr>\n",
       "      <th>top</th>\n",
       "      <td>Вучич объяснил отказ от санкций против России ...</td>\n",
       "      <td>Несмотря на «резкую» просьбу Шольца присоедини...</td>\n",
       "      <td>Песков заявил об отсутствии соглашений по укр...</td>\n",
       "      <td>finance</td>\n",
       "      <td>[Банки, Ипотека]</td>\n",
       "    </tr>\n",
       "    <tr>\n",
       "      <th>freq</th>\n",
       "      <td>3</td>\n",
       "      <td>3</td>\n",
       "      <td>1</td>\n",
       "      <td>339</td>\n",
       "      <td>5</td>\n",
       "    </tr>\n",
       "  </tbody>\n",
       "</table>\n",
       "</div>\n",
       "      <button class=\"colab-df-convert\" onclick=\"convertToInteractive('df-866d9ff7-607d-4362-9c90-64e11e045b39')\"\n",
       "              title=\"Convert this dataframe to an interactive table.\"\n",
       "              style=\"display:none;\">\n",
       "        \n",
       "  <svg xmlns=\"http://www.w3.org/2000/svg\" height=\"24px\"viewBox=\"0 0 24 24\"\n",
       "       width=\"24px\">\n",
       "    <path d=\"M0 0h24v24H0V0z\" fill=\"none\"/>\n",
       "    <path d=\"M18.56 5.44l.94 2.06.94-2.06 2.06-.94-2.06-.94-.94-2.06-.94 2.06-2.06.94zm-11 1L8.5 8.5l.94-2.06 2.06-.94-2.06-.94L8.5 2.5l-.94 2.06-2.06.94zm10 10l.94 2.06.94-2.06 2.06-.94-2.06-.94-.94-2.06-.94 2.06-2.06.94z\"/><path d=\"M17.41 7.96l-1.37-1.37c-.4-.4-.92-.59-1.43-.59-.52 0-1.04.2-1.43.59L10.3 9.45l-7.72 7.72c-.78.78-.78 2.05 0 2.83L4 21.41c.39.39.9.59 1.41.59.51 0 1.02-.2 1.41-.59l7.78-7.78 2.81-2.81c.8-.78.8-2.07 0-2.86zM5.41 20L4 18.59l7.72-7.72 1.47 1.35L5.41 20z\"/>\n",
       "  </svg>\n",
       "      </button>\n",
       "      \n",
       "  <style>\n",
       "    .colab-df-container {\n",
       "      display:flex;\n",
       "      flex-wrap:wrap;\n",
       "      gap: 12px;\n",
       "    }\n",
       "\n",
       "    .colab-df-convert {\n",
       "      background-color: #E8F0FE;\n",
       "      border: none;\n",
       "      border-radius: 50%;\n",
       "      cursor: pointer;\n",
       "      display: none;\n",
       "      fill: #1967D2;\n",
       "      height: 32px;\n",
       "      padding: 0 0 0 0;\n",
       "      width: 32px;\n",
       "    }\n",
       "\n",
       "    .colab-df-convert:hover {\n",
       "      background-color: #E2EBFA;\n",
       "      box-shadow: 0px 1px 2px rgba(60, 64, 67, 0.3), 0px 1px 3px 1px rgba(60, 64, 67, 0.15);\n",
       "      fill: #174EA6;\n",
       "    }\n",
       "\n",
       "    [theme=dark] .colab-df-convert {\n",
       "      background-color: #3B4455;\n",
       "      fill: #D2E3FC;\n",
       "    }\n",
       "\n",
       "    [theme=dark] .colab-df-convert:hover {\n",
       "      background-color: #434B5C;\n",
       "      box-shadow: 0px 1px 3px 1px rgba(0, 0, 0, 0.15);\n",
       "      filter: drop-shadow(0px 1px 2px rgba(0, 0, 0, 0.3));\n",
       "      fill: #FFFFFF;\n",
       "    }\n",
       "  </style>\n",
       "\n",
       "      <script>\n",
       "        const buttonEl =\n",
       "          document.querySelector('#df-866d9ff7-607d-4362-9c90-64e11e045b39 button.colab-df-convert');\n",
       "        buttonEl.style.display =\n",
       "          google.colab.kernel.accessAllowed ? 'block' : 'none';\n",
       "\n",
       "        async function convertToInteractive(key) {\n",
       "          const element = document.querySelector('#df-866d9ff7-607d-4362-9c90-64e11e045b39');\n",
       "          const dataTable =\n",
       "            await google.colab.kernel.invokeFunction('convertToInteractive',\n",
       "                                                     [key], {});\n",
       "          if (!dataTable) return;\n",
       "\n",
       "          const docLinkHtml = 'Like what you see? Visit the ' +\n",
       "            '<a target=\"_blank\" href=https://colab.research.google.com/notebooks/data_table.ipynb>data table notebook</a>'\n",
       "            + ' to learn more about interactive tables.';\n",
       "          element.innerHTML = '';\n",
       "          dataTable['output_type'] = 'display_data';\n",
       "          await google.colab.output.renderOutput(dataTable, element);\n",
       "          const docLink = document.createElement('div');\n",
       "          docLink.innerHTML = docLinkHtml;\n",
       "          element.appendChild(docLink);\n",
       "        }\n",
       "      </script>\n",
       "    </div>\n",
       "  </div>\n",
       "  "
      ],
      "text/plain": [
       "                                                 headline  \\\n",
       "count                                                1606   \n",
       "unique                                               1565   \n",
       "top     Вучич объяснил отказ от санкций против России ...   \n",
       "freq                                                    3   \n",
       "\n",
       "                                         article_overview  \\\n",
       "count                                                1606   \n",
       "unique                                               1569   \n",
       "top     Несмотря на «резкую» просьбу Шольца присоедини...   \n",
       "freq                                                    3   \n",
       "\n",
       "                                             article_text category  \\\n",
       "count                                                1606     1606   \n",
       "unique                                               1606        6   \n",
       "top      Песков заявил об отсутствии соглашений по укр...  finance   \n",
       "freq                                                    1      339   \n",
       "\n",
       "                    tags  \n",
       "count               1606  \n",
       "unique              1542  \n",
       "top     [Банки, Ипотека]  \n",
       "freq                   5  "
      ]
     },
     "execution_count": 53,
     "metadata": {},
     "output_type": "execute_result"
    }
   ],
   "source": [
    "df.describe()"
   ]
  },
  {
   "cell_type": "markdown",
   "metadata": {
    "id": "qZRw1gjOOK8n"
   },
   "source": [
    "To smoothen the process, it has been decided to remove these NA values."
   ]
  },
  {
   "cell_type": "markdown",
   "metadata": {
    "id": "3bv7gfbaOiZq"
   },
   "source": [
    "In addition, it has been decided to perform some data cleanup before starting any summarization process, particularly cleaning up the new lines."
   ]
  },
  {
   "cell_type": "markdown",
   "metadata": {
    "id": "YQ9uCHD0G0D2"
   },
   "source": [
    "# **Summarization Methods**:\n",
    "\n",
    "1.   TF-IDF for Text Summarization\n",
    "2.   Luhn algorithm\n",
    "3.   Cosine similarity\n",
    "4.   SUMY ( A.   TextRankSummarizer , B.   LSA Summarizer )\n",
    "5.   Pysummarization\n",
    "6.   BERT\n",
    "\n",
    "\n",
    "Other summarization techniques, that are more advanced, will be presented in a separate notebook."
   ]
  },
  {
   "cell_type": "markdown",
   "metadata": {
    "id": "Xp_EtQFnRNH2"
   },
   "source": [
    "## **1. TF-IDF for Text Summarization**\n",
    "\n",
    "With this approach, we will performing the follwing:\n",
    "1. Split the text into sentences.\n",
    "2. Score each sentence.\n",
    "3. Rank each sentence by scores.\n",
    "4. Summary = top scoring sentences.\n",
    "\n",
    "\n",
    "For demonstration purposes, we wil start with explaining the approach step by step. After that, we will build a function to apply the summarization on all the articles."
   ]
  },
  {
   "cell_type": "markdown",
   "metadata": {
    "id": "e1Pk9gRArrHm"
   },
   "source": [
    "#### **A. Perform Summarization on One Data Sample:**"
   ]
  },
  {
   "cell_type": "markdown",
   "metadata": {
    "id": "jlWW1A4HkxIS"
   },
   "source": [
    "To begin with, let us use one article for summarization"
   ]
  },
  {
   "cell_type": "code",
   "execution_count": 54,
   "metadata": {
    "execution": {
     "iopub.execute_input": "2022-05-16T20:47:10.203793Z",
     "iopub.status.busy": "2022-05-16T20:47:10.203350Z",
     "iopub.status.idle": "2022-05-16T20:47:10.211825Z",
     "shell.execute_reply": "2022-05-16T20:47:10.211081Z",
     "shell.execute_reply.started": "2022-05-16T20:47:10.203757Z"
    },
    "id": "TwvuxhjwWXFl"
   },
   "outputs": [],
   "source": [
    "from sklearn.feature_extraction.text import TfidfVectorizer\n",
    "\n",
    "for headline in df.headline:\n",
    "    title_of_doc = headline\n",
    "    doc = df[df.headline == headline]['article_text']"
   ]
  },
  {
   "cell_type": "markdown",
   "metadata": {
    "id": "bIL2OedvWWVd"
   },
   "source": [
    "Now, we will tokenize the text into sentences"
   ]
  },
  {
   "cell_type": "code",
   "execution_count": 55,
   "metadata": {
    "execution": {
     "iopub.execute_input": "2022-05-16T20:47:10.216506Z",
     "iopub.status.busy": "2022-05-16T20:47:10.215994Z",
     "iopub.status.idle": "2022-05-16T20:47:10.232452Z",
     "shell.execute_reply": "2022-05-16T20:47:10.231892Z",
     "shell.execute_reply.started": "2022-05-16T20:47:10.216473Z"
    },
    "id": "ic5_Ilk4k0vl"
   },
   "outputs": [],
   "source": [
    "sents = nltk.sent_tokenize(doc.iloc[0])"
   ]
  },
  {
   "cell_type": "markdown",
   "metadata": {
    "id": "1U0_ZuaslXq1"
   },
   "source": [
    "After that, we will create TF-IDF vectorizer object.\n",
    "\n",
    "Note that we are using russian stopwords and L1 normlization. This is to insure that we will not be bias toward longer sentences with higher score \"simply due to the fact that they contain more words\"."
   ]
  },
  {
   "cell_type": "code",
   "execution_count": 56,
   "metadata": {
    "execution": {
     "iopub.execute_input": "2022-05-16T20:47:10.234280Z",
     "iopub.status.busy": "2022-05-16T20:47:10.233797Z",
     "iopub.status.idle": "2022-05-16T20:47:10.240672Z",
     "shell.execute_reply": "2022-05-16T20:47:10.239952Z",
     "shell.execute_reply.started": "2022-05-16T20:47:10.234244Z"
    },
    "id": "q8XbVxQRqd5f"
   },
   "outputs": [],
   "source": [
    "featurizer = TfidfVectorizer(stop_words= stopwords.words('russian'), norm= 'l1')"
   ]
  },
  {
   "cell_type": "markdown",
   "metadata": {
    "id": "8Kkgoad4qjPa"
   },
   "source": [
    "\n",
    "Next, we call fit transform which give us back our TF-IDF matrix."
   ]
  },
  {
   "cell_type": "code",
   "execution_count": 57,
   "metadata": {
    "execution": {
     "iopub.execute_input": "2022-05-16T20:47:10.242829Z",
     "iopub.status.busy": "2022-05-16T20:47:10.242312Z",
     "iopub.status.idle": "2022-05-16T20:47:10.255066Z",
     "shell.execute_reply": "2022-05-16T20:47:10.254183Z",
     "shell.execute_reply.started": "2022-05-16T20:47:10.242756Z"
    },
    "id": "_uYIzO3wqsqf"
   },
   "outputs": [],
   "source": [
    "X = featurizer.fit_transform(sents)"
   ]
  },
  {
   "cell_type": "markdown",
   "metadata": {
    "id": "5DtU61Alq8w1"
   },
   "source": [
    "The following code will show the summary along with the model score. As can be seen, it takes a single row from the TF-IDF matrix. Only non-zero values are considered once you have those values a mean function is applied."
   ]
  },
  {
   "cell_type": "code",
   "execution_count": 58,
   "metadata": {
    "execution": {
     "iopub.execute_input": "2022-05-16T20:47:10.256155Z",
     "iopub.status.busy": "2022-05-16T20:47:10.255973Z",
     "iopub.status.idle": "2022-05-16T20:47:10.261045Z",
     "shell.execute_reply": "2022-05-16T20:47:10.260227Z",
     "shell.execute_reply.started": "2022-05-16T20:47:10.256132Z"
    },
    "id": "RC7_bpcVq2Sm"
   },
   "outputs": [],
   "source": [
    "def get_sentence_score(tfidf_row):\n",
    "    # return the average of the non-zero values\n",
    "    # of the tf-idf vector representation of a sentence\n",
    "    x = tfidf_row[tfidf_row != 0]\n",
    "    return x.mean()"
   ]
  },
  {
   "cell_type": "code",
   "execution_count": 59,
   "metadata": {
    "colab": {
     "base_uri": "https://localhost:8080/"
    },
    "execution": {
     "iopub.execute_input": "2022-05-16T20:47:10.262684Z",
     "iopub.status.busy": "2022-05-16T20:47:10.262253Z",
     "iopub.status.idle": "2022-05-16T20:47:10.278648Z",
     "shell.execute_reply": "2022-05-16T20:47:10.277768Z",
     "shell.execute_reply.started": "2022-05-16T20:47:10.262645Z"
    },
    "id": "S_XGlXO2qs3n",
    "outputId": "d57c909f-407b-4a62-9fe7-9237123b8674"
   },
   "outputs": [
    {
     "name": "stdout",
     "output_type": "stream",
     "text": [
      "1.00: за 1 куб.\n",
      "0.50: Копия есть у РБК.\n",
      "0.25: стройматериалы налоги щебень Строительство\n",
      "0.25: м щебня, что на 0,5% меньше, чем годом ранее.\n",
      "0.25: м щебня обошелся покупателям почти в 1,5 тыс.\n"
     ]
    }
   ],
   "source": [
    "#compute scores for each sentence\n",
    "scores = np.zeros(len(sents))\n",
    "for i in range(len(sents)):\n",
    "    score = get_sentence_score(X[i,:])\n",
    "    scores[i] = score\n",
    "\n",
    "#sort the scores\n",
    "sort_idx = np.argsort(-scores)\n",
    "\n",
    "#print summary\n",
    "for i in sort_idx[:5]:\n",
    "    print(wrap(\"%.2f: %s\" % (scores[i], sents[i])))"
   ]
  },
  {
   "cell_type": "markdown",
   "metadata": {
    "id": "xCzKb6oisBYG"
   },
   "source": [
    "#### **B. Building a function to Perform Summarization on all data samples::**"
   ]
  },
  {
   "cell_type": "markdown",
   "metadata": {
    "id": "vB78RIi9sQmf"
   },
   "source": [
    "- We prepared a function to summarize using tf_idf\n",
    "\n",
    "- The first step is to tokenize the text into sentences\n",
    "\n",
    "- Next we call fit transform which give us back our TF-IDF matrix (X)\n",
    "\n",
    "- Finally preparing the summarization that include some extra steps such as scoring and sorting. then printing the highest scored 5 sentences"
   ]
  },
  {
   "cell_type": "code",
   "execution_count": 60,
   "metadata": {
    "execution": {
     "iopub.execute_input": "2022-05-16T20:47:10.280340Z",
     "iopub.status.busy": "2022-05-16T20:47:10.279933Z",
     "iopub.status.idle": "2022-05-16T20:47:10.289729Z",
     "shell.execute_reply": "2022-05-16T20:47:10.288976Z",
     "shell.execute_reply.started": "2022-05-16T20:47:10.280306Z"
    },
    "id": "pIZvGvUPsh6P"
   },
   "outputs": [],
   "source": [
    "'''\n",
    "creating the TF-IDF vectorizer object again in case we deicde to go for \n",
    "this approach directly in stead of the step by step approach. (note that we are\n",
    "using russian stopwords and l1 normlization this insure that we will not be \n",
    "bias toward longer sentences which in this case would have a higher score. \n",
    "simply due to the fact that they contain more words.)\n",
    "'''\n",
    "featurizer = TfidfVectorizer(stop_words= stopwords.words('russian'), norm= 'l1')\n",
    "\n",
    "\n",
    "#definning the scoring function again as we need it inside the summarize_TF_IDF funciton\n",
    "#The function is intended to score a sentence given it's TF-IDF representation. \n",
    "def get_sentence_score(tfidf_row):\n",
    "    # return the average of the non-zero values\n",
    "    # of the tf-idf vector representation of a sentence\n",
    "    x = tfidf_row[tfidf_row != 0]\n",
    "    return x.mean()\n",
    "\n",
    "\n",
    "\n",
    "def summarize_TF_IDF(text):\n",
    "    # extract sentences\n",
    "    sents = nltk.sent_tokenize(text)\n",
    "    \n",
    "    #perform tf-idf\n",
    "    X = featurizer.fit_transform(sents)\n",
    "    \n",
    "    #compute scores for each sentence\n",
    "    scores = np.zeros(len(sents))\n",
    "    for i in range(len(sents)):\n",
    "        score = get_sentence_score(X[i,:])\n",
    "        scores[i] = score\n",
    "    \n",
    "    #sort the scores\n",
    "    sort_idx = np.argsort(-scores)\n",
    "    \n",
    "    #return summary\n",
    "    summary_text = str('')\n",
    "    for i in sort_idx[:5]:\n",
    "        # summary_text = summary_text + (\"%.2f: %s \" % (scores[i], sents[i]))\n",
    "        summary_text = summary_text + (\"%s \" % (sents[i]))\n",
    "    \n",
    "    summary_text = re.sub(r'\\n', ' ', summary_text)\n",
    "    return(summary_text)"
   ]
  },
  {
   "cell_type": "markdown",
   "metadata": {
    "id": "SlJ-mB6OspSE"
   },
   "source": [
    "Now, we will apply the summarization to all the documents."
   ]
  },
  {
   "cell_type": "code",
   "execution_count": null,
   "metadata": {
    "colab": {
     "base_uri": "https://localhost:8080/"
    },
    "execution": {
     "iopub.execute_input": "2022-05-16T20:47:10.293449Z",
     "iopub.status.busy": "2022-05-16T20:47:10.291365Z",
     "iopub.status.idle": "2022-05-16T20:47:11.595677Z",
     "shell.execute_reply": "2022-05-16T20:47:11.594962Z",
     "shell.execute_reply.started": "2022-05-16T20:47:10.293409Z"
    },
    "id": "xfx9bJj1stli",
    "outputId": "76540d3d-e371-4bcb-9775-163c877d0fef"
   },
   "outputs": [],
   "source": [
    "tf_idf_summaries = []\n",
    "for article in df['article_text']:\n",
    "    tf_idf_summaries.append(summarize_TF_IDF(article))\n",
    "\n",
    "df['TF_IDF_Summary'] = tf_idf_summaries"
   ]
  },
  {
   "cell_type": "code",
   "execution_count": 62,
   "metadata": {
    "colab": {
     "base_uri": "https://localhost:8080/"
    },
    "execution": {
     "iopub.execute_input": "2022-05-16T20:47:11.598099Z",
     "iopub.status.busy": "2022-05-16T20:47:11.597571Z",
     "iopub.status.idle": "2022-05-16T20:47:11.608364Z",
     "shell.execute_reply": "2022-05-16T20:47:11.607380Z",
     "shell.execute_reply.started": "2022-05-16T20:47:11.598052Z"
    },
    "id": "6EqXVrPfszpz",
    "outputId": "2d676cbc-8572-4d55-8bda-e8ced40a0435"
   },
   "outputs": [
    {
     "name": "stdout",
     "output_type": "stream",
     "text": [
      "Губернатор попросил не считать щебень полезным ископаемым\n",
      "========= summary ==========\n",
      "за 1 куб. Копия есть у РБК. стройматериалы налоги щебень Строительство\n",
      "м щебня, что на 0,5% меньше, чем годом ранее. м щебня обошелся\n",
      "покупателям почти в 1,5 тыс.\n"
     ]
    }
   ],
   "source": [
    "for headline in df.headline:\n",
    "    title_of_doc = headline\n",
    "    doc = df[df.headline == headline]\n",
    "\n",
    "print(wrap(doc['headline'].iloc[0]))\n",
    "print(\"========= summary ==========\")\n",
    "print(wrap(doc['TF_IDF_Summary'].iloc[0]))"
   ]
  },
  {
   "cell_type": "code",
   "execution_count": 63,
   "metadata": {
    "colab": {
     "base_uri": "https://localhost:8080/",
     "height": 0
    },
    "id": "tiMcEuHZT9Xm",
    "outputId": "d664cf65-06db-465a-ae40-549c118ab54f"
   },
   "outputs": [
    {
     "data": {
      "text/html": [
       "\n",
       "  <div id=\"df-896deedb-0802-4388-917c-124a5f988170\">\n",
       "    <div class=\"colab-df-container\">\n",
       "      <div>\n",
       "<style scoped>\n",
       "    .dataframe tbody tr th:only-of-type {\n",
       "        vertical-align: middle;\n",
       "    }\n",
       "\n",
       "    .dataframe tbody tr th {\n",
       "        vertical-align: top;\n",
       "    }\n",
       "\n",
       "    .dataframe thead th {\n",
       "        text-align: right;\n",
       "    }\n",
       "</style>\n",
       "<table border=\"1\" class=\"dataframe\">\n",
       "  <thead>\n",
       "    <tr style=\"text-align: right;\">\n",
       "      <th></th>\n",
       "      <th>headline</th>\n",
       "      <th>article_text</th>\n",
       "      <th>TF_IDF_Summary</th>\n",
       "    </tr>\n",
       "  </thead>\n",
       "  <tbody>\n",
       "    <tr>\n",
       "      <th>58eda1b1ed4eb0bc52000abe8b87feb9</th>\n",
       "      <td>Песков заявил об отсутствии соглашений по укра...</td>\n",
       "      <td>Песков заявил об отсутствии соглашений по укр...</td>\n",
       "      <td>«Нет, пока точных никаких соглашений не достиг...</td>\n",
       "    </tr>\n",
       "    <tr>\n",
       "      <th>db08ad6636ec7437ee065ea4feaab6b1</th>\n",
       "      <td>В Киеве попросили уточнить слова Байдена об от...</td>\n",
       "      <td>В Киеве попросили уточнить слова Байдена об о...</td>\n",
       "      <td>Сомнений не было. «Я знал, и у нас были данные...</td>\n",
       "    </tr>\n",
       "    <tr>\n",
       "      <th>87b425dcafb5f6f99e4d812b01bc7c3e</th>\n",
       "      <td>Владелец бондов «Роснано» назвал возможный деф...</td>\n",
       "      <td>Владелец бондов «Роснано» назвал возможный де...</td>\n",
       "      <td>Она сообщила, что ведет переговоры о предостав...</td>\n",
       "    </tr>\n",
       "    <tr>\n",
       "      <th>1483b6780bf81a8e8c7851d21bbf4071</th>\n",
       "      <td>«Тинькофф» описал схему выхода на новые рынки ...</td>\n",
       "      <td>«Тинькофф» описал схему выхода на новые рынки...</td>\n",
       "      <td>Такого не будет», — сказал Хьюз. Это многолетн...</td>\n",
       "    </tr>\n",
       "    <tr>\n",
       "      <th>a464c501c68db643b23b04209e980f03</th>\n",
       "      <td>Верховный суд даст разъяснение, что считать пр...</td>\n",
       "      <td>Верховный суд даст разъяснение, что считать п...</td>\n",
       "      <td>301 УК. Об этом говорится в проекте постановле...</td>\n",
       "    </tr>\n",
       "    <tr>\n",
       "      <th>...</th>\n",
       "      <td>...</td>\n",
       "      <td>...</td>\n",
       "      <td>...</td>\n",
       "    </tr>\n",
       "    <tr>\n",
       "      <th>46414c82750c5d83547c93dbee7d581c</th>\n",
       "      <td>Чистая прибыль Сбербанка приблизилась к ₽1 трлн</td>\n",
       "      <td>Чистая прибыль Сбербанка приблизилась к ₽1 тр...</td>\n",
       "      <td>сотрудников. в апреле—июне. человек, до 281,7 ...</td>\n",
       "    </tr>\n",
       "    <tr>\n",
       "      <th>ccbb0b255ae458fe5eb523c334e8538e</th>\n",
       "      <td>Глава Центробанка Европы призвала регулировать...</td>\n",
       "      <td>Глава Центробанка Европы призвала регулироват...</td>\n",
       "      <td>При этом ведомство поддержало запрет на исполь...</td>\n",
       "    </tr>\n",
       "    <tr>\n",
       "      <th>2e6f9b06d46d2cdb1135ec5ca848feb7</th>\n",
       "      <td>Экс-премьер Франции Фийон вошел в совет директ...</td>\n",
       "      <td>Экс-премьер Франции Фийон вошел в совет дирек...</td>\n",
       "      <td>«Он не только управленец высочайшего уровня. В...</td>\n",
       "    </tr>\n",
       "    <tr>\n",
       "      <th>61d074a47c8a7d38d9ba48ca1c54b7d5</th>\n",
       "      <td>Marriott решила приостановить деятельность в Р...</td>\n",
       "      <td>Marriott решила приостановить деятельность в ...</td>\n",
       "      <td>РБК направил запрос в «Сафмар». Marriott прису...</td>\n",
       "    </tr>\n",
       "    <tr>\n",
       "      <th>f10a52de5fe7df15e6791597c1aecc9d</th>\n",
       "      <td>Губернатор попросил не считать щебень полезным...</td>\n",
       "      <td>Губернатор попросил не считать щебень полезны...</td>\n",
       "      <td>за 1 куб. Копия есть у РБК. стройматериалы нал...</td>\n",
       "    </tr>\n",
       "  </tbody>\n",
       "</table>\n",
       "<p>1606 rows × 3 columns</p>\n",
       "</div>\n",
       "      <button class=\"colab-df-convert\" onclick=\"convertToInteractive('df-896deedb-0802-4388-917c-124a5f988170')\"\n",
       "              title=\"Convert this dataframe to an interactive table.\"\n",
       "              style=\"display:none;\">\n",
       "        \n",
       "  <svg xmlns=\"http://www.w3.org/2000/svg\" height=\"24px\"viewBox=\"0 0 24 24\"\n",
       "       width=\"24px\">\n",
       "    <path d=\"M0 0h24v24H0V0z\" fill=\"none\"/>\n",
       "    <path d=\"M18.56 5.44l.94 2.06.94-2.06 2.06-.94-2.06-.94-.94-2.06-.94 2.06-2.06.94zm-11 1L8.5 8.5l.94-2.06 2.06-.94-2.06-.94L8.5 2.5l-.94 2.06-2.06.94zm10 10l.94 2.06.94-2.06 2.06-.94-2.06-.94-.94-2.06-.94 2.06-2.06.94z\"/><path d=\"M17.41 7.96l-1.37-1.37c-.4-.4-.92-.59-1.43-.59-.52 0-1.04.2-1.43.59L10.3 9.45l-7.72 7.72c-.78.78-.78 2.05 0 2.83L4 21.41c.39.39.9.59 1.41.59.51 0 1.02-.2 1.41-.59l7.78-7.78 2.81-2.81c.8-.78.8-2.07 0-2.86zM5.41 20L4 18.59l7.72-7.72 1.47 1.35L5.41 20z\"/>\n",
       "  </svg>\n",
       "      </button>\n",
       "      \n",
       "  <style>\n",
       "    .colab-df-container {\n",
       "      display:flex;\n",
       "      flex-wrap:wrap;\n",
       "      gap: 12px;\n",
       "    }\n",
       "\n",
       "    .colab-df-convert {\n",
       "      background-color: #E8F0FE;\n",
       "      border: none;\n",
       "      border-radius: 50%;\n",
       "      cursor: pointer;\n",
       "      display: none;\n",
       "      fill: #1967D2;\n",
       "      height: 32px;\n",
       "      padding: 0 0 0 0;\n",
       "      width: 32px;\n",
       "    }\n",
       "\n",
       "    .colab-df-convert:hover {\n",
       "      background-color: #E2EBFA;\n",
       "      box-shadow: 0px 1px 2px rgba(60, 64, 67, 0.3), 0px 1px 3px 1px rgba(60, 64, 67, 0.15);\n",
       "      fill: #174EA6;\n",
       "    }\n",
       "\n",
       "    [theme=dark] .colab-df-convert {\n",
       "      background-color: #3B4455;\n",
       "      fill: #D2E3FC;\n",
       "    }\n",
       "\n",
       "    [theme=dark] .colab-df-convert:hover {\n",
       "      background-color: #434B5C;\n",
       "      box-shadow: 0px 1px 3px 1px rgba(0, 0, 0, 0.15);\n",
       "      filter: drop-shadow(0px 1px 2px rgba(0, 0, 0, 0.3));\n",
       "      fill: #FFFFFF;\n",
       "    }\n",
       "  </style>\n",
       "\n",
       "      <script>\n",
       "        const buttonEl =\n",
       "          document.querySelector('#df-896deedb-0802-4388-917c-124a5f988170 button.colab-df-convert');\n",
       "        buttonEl.style.display =\n",
       "          google.colab.kernel.accessAllowed ? 'block' : 'none';\n",
       "\n",
       "        async function convertToInteractive(key) {\n",
       "          const element = document.querySelector('#df-896deedb-0802-4388-917c-124a5f988170');\n",
       "          const dataTable =\n",
       "            await google.colab.kernel.invokeFunction('convertToInteractive',\n",
       "                                                     [key], {});\n",
       "          if (!dataTable) return;\n",
       "\n",
       "          const docLinkHtml = 'Like what you see? Visit the ' +\n",
       "            '<a target=\"_blank\" href=https://colab.research.google.com/notebooks/data_table.ipynb>data table notebook</a>'\n",
       "            + ' to learn more about interactive tables.';\n",
       "          element.innerHTML = '';\n",
       "          dataTable['output_type'] = 'display_data';\n",
       "          await google.colab.output.renderOutput(dataTable, element);\n",
       "          const docLink = document.createElement('div');\n",
       "          docLink.innerHTML = docLinkHtml;\n",
       "          element.appendChild(docLink);\n",
       "        }\n",
       "      </script>\n",
       "    </div>\n",
       "  </div>\n",
       "  "
      ],
      "text/plain": [
       "                                                                           headline  \\\n",
       "58eda1b1ed4eb0bc52000abe8b87feb9  Песков заявил об отсутствии соглашений по укра...   \n",
       "db08ad6636ec7437ee065ea4feaab6b1  В Киеве попросили уточнить слова Байдена об от...   \n",
       "87b425dcafb5f6f99e4d812b01bc7c3e  Владелец бондов «Роснано» назвал возможный деф...   \n",
       "1483b6780bf81a8e8c7851d21bbf4071  «Тинькофф» описал схему выхода на новые рынки ...   \n",
       "a464c501c68db643b23b04209e980f03  Верховный суд даст разъяснение, что считать пр...   \n",
       "...                                                                             ...   \n",
       "46414c82750c5d83547c93dbee7d581c    Чистая прибыль Сбербанка приблизилась к ₽1 трлн   \n",
       "ccbb0b255ae458fe5eb523c334e8538e  Глава Центробанка Европы призвала регулировать...   \n",
       "2e6f9b06d46d2cdb1135ec5ca848feb7  Экс-премьер Франции Фийон вошел в совет директ...   \n",
       "61d074a47c8a7d38d9ba48ca1c54b7d5  Marriott решила приостановить деятельность в Р...   \n",
       "f10a52de5fe7df15e6791597c1aecc9d  Губернатор попросил не считать щебень полезным...   \n",
       "\n",
       "                                                                       article_text  \\\n",
       "58eda1b1ed4eb0bc52000abe8b87feb9   Песков заявил об отсутствии соглашений по укр...   \n",
       "db08ad6636ec7437ee065ea4feaab6b1   В Киеве попросили уточнить слова Байдена об о...   \n",
       "87b425dcafb5f6f99e4d812b01bc7c3e   Владелец бондов «Роснано» назвал возможный де...   \n",
       "1483b6780bf81a8e8c7851d21bbf4071   «Тинькофф» описал схему выхода на новые рынки...   \n",
       "a464c501c68db643b23b04209e980f03   Верховный суд даст разъяснение, что считать п...   \n",
       "...                                                                             ...   \n",
       "46414c82750c5d83547c93dbee7d581c   Чистая прибыль Сбербанка приблизилась к ₽1 тр...   \n",
       "ccbb0b255ae458fe5eb523c334e8538e   Глава Центробанка Европы призвала регулироват...   \n",
       "2e6f9b06d46d2cdb1135ec5ca848feb7   Экс-премьер Франции Фийон вошел в совет дирек...   \n",
       "61d074a47c8a7d38d9ba48ca1c54b7d5   Marriott решила приостановить деятельность в ...   \n",
       "f10a52de5fe7df15e6791597c1aecc9d   Губернатор попросил не считать щебень полезны...   \n",
       "\n",
       "                                                                     TF_IDF_Summary  \n",
       "58eda1b1ed4eb0bc52000abe8b87feb9  «Нет, пока точных никаких соглашений не достиг...  \n",
       "db08ad6636ec7437ee065ea4feaab6b1  Сомнений не было. «Я знал, и у нас были данные...  \n",
       "87b425dcafb5f6f99e4d812b01bc7c3e  Она сообщила, что ведет переговоры о предостав...  \n",
       "1483b6780bf81a8e8c7851d21bbf4071  Такого не будет», — сказал Хьюз. Это многолетн...  \n",
       "a464c501c68db643b23b04209e980f03  301 УК. Об этом говорится в проекте постановле...  \n",
       "...                                                                             ...  \n",
       "46414c82750c5d83547c93dbee7d581c  сотрудников. в апреле—июне. человек, до 281,7 ...  \n",
       "ccbb0b255ae458fe5eb523c334e8538e  При этом ведомство поддержало запрет на исполь...  \n",
       "2e6f9b06d46d2cdb1135ec5ca848feb7  «Он не только управленец высочайшего уровня. В...  \n",
       "61d074a47c8a7d38d9ba48ca1c54b7d5  РБК направил запрос в «Сафмар». Marriott прису...  \n",
       "f10a52de5fe7df15e6791597c1aecc9d  за 1 куб. Копия есть у РБК. стройматериалы нал...  \n",
       "\n",
       "[1606 rows x 3 columns]"
      ]
     },
     "execution_count": 63,
     "metadata": {},
     "output_type": "execute_result"
    }
   ],
   "source": [
    "df[['headline', 'article_text', 'TF_IDF_Summary']]"
   ]
  },
  {
   "cell_type": "markdown",
   "metadata": {
    "id": "9Mm7Jq_yv6wl"
   },
   "source": [
    "## **2. Luhn Algorithm**\n",
    "\n",
    "This is one of the earliest approaches of text summarization. Luhn proposed that the significance of each word in a document signifies how important it is. The idea is that any sentence with maximum occurances of the highest frequency words(Stopwords) and least occurances are not important to the meaning of document than others. Although it is not considered very accurate approach.\n",
    "\n",
    "The Detailes of the algorithim can be found in the source link below.\n",
    "\n",
    "source:\n",
    "https://iq.opengenus.org/luhns-heuristic-method-for-text-summarization/\n",
    "\n",
    "\n",
    "Resources:\n",
    "- https://courses.ischool.berkeley.edu/i256/f06/papers/luhn58.pdf\n",
    "- https://www.cs.cmu.edu/~nasmith/LS2/das-martins.07.pdf\n"
   ]
  },
  {
   "cell_type": "markdown",
   "metadata": {
    "id": "nzO2U0d0zM9m"
   },
   "source": [
    "#### **A. Perform Summarization on One Data Sample:**"
   ]
  },
  {
   "cell_type": "code",
   "execution_count": 64,
   "metadata": {
    "colab": {
     "base_uri": "https://localhost:8080/",
     "height": 127
    },
    "execution": {
     "iopub.execute_input": "2022-05-16T20:47:11.624646Z",
     "iopub.status.busy": "2022-05-16T20:47:11.624091Z",
     "iopub.status.idle": "2022-05-16T20:47:11.630618Z",
     "shell.execute_reply": "2022-05-16T20:47:11.629793Z",
     "shell.execute_reply.started": "2022-05-16T20:47:11.624610Z"
    },
    "id": "fh-2IhmbjwHE",
    "outputId": "3e416d3a-a836-435a-8e0e-fe455c8731d0"
   },
   "outputs": [
    {
     "data": {
      "application/vnd.google.colaboratory.intrinsic+json": {
       "type": "string"
      },
      "text/plain": [
       "' Губернатор попросил не считать щебень полезным ископаемым Иначе налоги для его производителей вырастут в 15 раз Глава Карелии Артур Парфенчиков предложил вице-премьеру Андрею Белоусову изменить Налоговый кодекс, чтобы снизить нагрузку на производителей щебня. Им налоговики все чаще доначисляют НДПИ, что грозит ростом цен на стройматериалы Цены на необходимый в строительстве щебень могут вырасти, поскольку от производителей все чаще требуют заплатить налог на добычу полезных ископаемых (НДПИ), говорится в датированном 1 декабря письме главы Республики Карелия Артура Парфенчикова вице-премьеру Андрею Белоусову. Копия есть у РБК. Письмо поступило в аппарат правительства и будет рассмотрено в установленном порядке, подтвердили в пресс-службе правительства. РБК направил запрос представителям Белоусова, Парфенчикова и Федеральной налоговой службы. Ранее базой начисления НДПИ был строительный камень, из которого затем производится щебень, но в последнее время налоговики все чаще требуют пересчета налога, настаивая, что он должен начисляться на щебень. По предварительной оценке, доначисление НДПИ на щебень увеличит налог в 3–15 раз, указывает Парфенчиков. Это произойдет, поскольку щебень дороже строительного камня. Ставка НДПИ на добычу неметаллического сырья, используемого в основном в строительстве, к которому стали относить щебень, составляет 5,5%. Парфенчиков просит Белоусова дать поручение «соответствующим федеральным исполнительным органам государственной власти» проработать вопрос об изменении налогового законодательства и уточнить порядок налогообложения при добыче полезных ископаемых. Глава Карелии предлагает внести изменения с начала календарного года и не взыскивать налог за три предшествующих года. www.adv.rbc.ru Как налоговая изменила подход к щебню Объектом НДПИ в соответствии с Налоговым кодексом признают полезное ископаемое, добытое из недр в России, напоминает Артур Парфенчиков, отмечая, что порядок начисления НДПИ на строительный камень действовал 20 лет. Теперь же налоговые органы Карелии настаивают, что «первой продукцией добычи является не строительный камень, а щебень». Цены производителей на щебень в октябре 2021 года составляли, по информации Росстата, 586 руб. за 1 куб. м (без учета налогов), что на 4% больше, чем в тот же месяц прошлого года. Средние цены, по которым строительные организации покупают щебень, выросли сильнее: по последним доступным данным за сентябрь, 1 куб. м щебня обошелся покупателям почти в 1,5 тыс. руб., на 10% больше, чем в сентябре 2020 года. Расценки на строительный камень Росстат не публикует. По словам вице-президента Национальной нерудной компании Сергея Глебова, щебень дороже строительного камня в пять-шесть раз. Для чего нужен щебень Чтобы получить щебень, производители дробят горные породы, например гранит или габбро-диабаз. Щебень используется для производства бетона и железобетона — он повышает прочность этих материалов. Также его используют для устройства дорожных покрытий и производства асфальтовых смесей. За девять месяцев 2021 года в стране было произведено, по подсчетам Росстата, почти 145 млн куб. м щебня, что на 0,5% меньше, чем годом ранее. Своеобразными пилотными регионами, в которых с 2019 года налоговые инспекции стали через суд требовать доначисления НДПИ на щебень, стали Челябинская и Свердловская области, указывает Глебов. По его словам, суды встают на сторону налоговиков, признавая щебень полезным ископаемым, а по мнению производителей, это все-таки предмет переработки камня. В 2021 году уральская практика распространилась на всю страну, продолжает Глебов. Соответствующие уведомления от налоговиков стали приходить уже по всей России. Гендиректор российского офиса LafargeHolcim Максим Гончаров заявил, что его компания также получила от налоговиков требования о пересчете НДПИ. Начисление НДПИ на щебень приведет к росту цен на него минимум на 10%, оценивает Гончаров. По мнению Глебова, материал может подорожать на 15–20% при доначислении налога за несколько предыдущих лет с учетом штрафов и пеней. Рост налога грозит увеличением долгов по зарплате, сокращением персонала, увеличением цен, снижением конкурентоспособности продукции и, соответственно, увеличением стоимости строительства дорог и домов, следует из письма главы Карелии. Возросшие налоги могут привести к банкротству предприятий и дефициту щебня, считает Гончаров. Примеры заявлений о банкротстве уже есть: из-за невыплаты пересчитанного НДПИ межрайонная инспекция ФНС России по Челябинской области подала заявление о банкротстве Биянковского щебеночного завода, который входит в Национальную нерудную компанию. В декабре стороны заключили мировое соглашение: завод обязался выплатить 127,7 млн руб., из которых сам налог составляет 79,7 млн руб., а остальная сумма складывается из пеней и штрафов. стройматериалы налоги щебень Строительство '"
      ]
     },
     "execution_count": 64,
     "metadata": {},
     "output_type": "execute_result"
    }
   ],
   "source": [
    "original_text = doc['article_text'].iloc[0]\n",
    "original_text"
   ]
  },
  {
   "cell_type": "markdown",
   "metadata": {
    "id": "ZYxFNH_Lj5C0"
   },
   "source": [
    "Unlike some algorithims, this algorithim needs stop words treatment"
   ]
  },
  {
   "cell_type": "code",
   "execution_count": 65,
   "metadata": {
    "colab": {
     "base_uri": "https://localhost:8080/"
    },
    "execution": {
     "iopub.execute_input": "2022-05-16T20:47:11.633029Z",
     "iopub.status.busy": "2022-05-16T20:47:11.632350Z",
     "iopub.status.idle": "2022-05-16T20:47:11.640601Z",
     "shell.execute_reply": "2022-05-16T20:47:11.639620Z",
     "shell.execute_reply.started": "2022-05-16T20:47:11.632992Z"
    },
    "id": "GzzltMCNXmxi",
    "outputId": "ec00c63e-7a66-443e-ed96-3b36a609f59e"
   },
   "outputs": [
    {
     "name": "stdout",
     "output_type": "stream",
     "text": [
      "['и', 'в', 'во', 'не', 'что', 'он', 'на', 'я', 'с', 'со', 'как', 'а', 'то', 'все', 'она', 'так', 'его', 'но', 'да', 'ты', 'к', 'у', 'же', 'вы', 'за', 'бы', 'по', 'только', 'ее', 'мне', 'было', 'вот', 'от', 'меня', 'еще', 'нет', 'о', 'из', 'ему', 'теперь', 'когда', 'даже', 'ну', 'вдруг', 'ли', 'если', 'уже', 'или', 'ни', 'быть', 'был', 'него', 'до', 'вас', 'нибудь', 'опять', 'уж', 'вам', 'ведь', 'там', 'потом', 'себя', 'ничего', 'ей', 'может', 'они', 'тут', 'где', 'есть', 'надо', 'ней', 'для', 'мы', 'тебя', 'их', 'чем', 'была', 'сам', 'чтоб', 'без', 'будто', 'чего', 'раз', 'тоже', 'себе', 'под', 'будет', 'ж', 'тогда', 'кто', 'этот', 'того', 'потому', 'этого', 'какой', 'совсем', 'ним', 'здесь', 'этом', 'один', 'почти', 'мой', 'тем', 'чтобы', 'нее', 'сейчас', 'были', 'куда', 'зачем', 'всех', 'никогда', 'можно', 'при', 'наконец', 'два', 'об', 'другой', 'хоть', 'после', 'над', 'больше', 'тот', 'через', 'эти', 'нас', 'про', 'всего', 'них', 'какая', 'много', 'разве', 'три', 'эту', 'моя', 'впрочем', 'хорошо', 'свою', 'этой', 'перед', 'иногда', 'лучше', 'чуть', 'том', 'нельзя', 'такой', 'им', 'более', 'всегда', 'конечно', 'всю', 'между']\n"
     ]
    }
   ],
   "source": [
    "stopwords = nltk.corpus.stopwords.words('russian')\n",
    "print(stopwords)"
   ]
  },
  {
   "cell_type": "markdown",
   "metadata": {
    "id": "r-zaGp2ikFww"
   },
   "source": [
    "Now, we will define a function that does the required preprocessing for Luhn algorithim"
   ]
  },
  {
   "cell_type": "code",
   "execution_count": 66,
   "metadata": {
    "execution": {
     "iopub.execute_input": "2022-05-16T20:47:11.642884Z",
     "iopub.status.busy": "2022-05-16T20:47:11.642151Z",
     "iopub.status.idle": "2022-05-16T20:47:11.650083Z",
     "shell.execute_reply": "2022-05-16T20:47:11.649222Z",
     "shell.execute_reply.started": "2022-05-16T20:47:11.642847Z"
    },
    "id": "sSqDTmYuYPh6"
   },
   "outputs": [],
   "source": [
    "def preprocess(text):\n",
    "  formatted_text = text.lower()\n",
    "  tokens = []\n",
    "  for token in nltk.word_tokenize(formatted_text):\n",
    "    tokens.append(token)\n",
    "  tokens = [word for word in tokens if word not in stopwords and word not in string.punctuation]\n",
    "  formatted_text = ' '.join(element for element in tokens)\n",
    "\n",
    "  return formatted_text"
   ]
  },
  {
   "cell_type": "code",
   "execution_count": 67,
   "metadata": {
    "colab": {
     "base_uri": "https://localhost:8080/",
     "height": 127
    },
    "execution": {
     "iopub.execute_input": "2022-05-16T20:47:11.653911Z",
     "iopub.status.busy": "2022-05-16T20:47:11.652934Z",
     "iopub.status.idle": "2022-05-16T20:47:11.664374Z",
     "shell.execute_reply": "2022-05-16T20:47:11.663476Z",
     "shell.execute_reply.started": "2022-05-16T20:47:11.653865Z"
    },
    "id": "bLymuwrnYPY4",
    "outputId": "9ea76f57-d526-4599-ec2c-f3211fb0573d"
   },
   "outputs": [
    {
     "data": {
      "application/vnd.google.colaboratory.intrinsic+json": {
       "type": "string"
      },
      "text/plain": [
       "'губернатор попросил считать щебень полезным ископаемым иначе налоги производителей вырастут 15 глава карелии артур парфенчиков предложил вице-премьеру андрею белоусову изменить налоговый кодекс снизить нагрузку производителей щебня налоговики чаще доначисляют ндпи грозит ростом цен стройматериалы цены необходимый строительстве щебень могут вырасти поскольку производителей чаще требуют заплатить налог добычу полезных ископаемых ндпи говорится датированном 1 декабря письме главы республики карелия артура парфенчикова вице-премьеру андрею белоусову копия рбк письмо поступило аппарат правительства рассмотрено установленном порядке подтвердили пресс-службе правительства рбк направил запрос представителям белоусова парфенчикова федеральной налоговой службы ранее базой начисления ндпи строительный камень которого затем производится щебень последнее время налоговики чаще требуют пересчета налога настаивая должен начисляться щебень предварительной оценке доначисление ндпи щебень увеличит налог 3–15 указывает парфенчиков это произойдет поскольку щебень дороже строительного камня ставка ндпи добычу неметаллического сырья используемого основном строительстве которому стали относить щебень составляет 5,5 парфенчиков просит белоусова дать поручение « соответствующим федеральным исполнительным органам государственной власти » проработать вопрос изменении налогового законодательства уточнить порядок налогообложения добыче полезных ископаемых глава карелии предлагает внести изменения начала календарного года взыскивать налог предшествующих года www.adv.rbc.ru налоговая изменила подход щебню объектом ндпи соответствии налоговым кодексом признают полезное ископаемое добытое недр россии напоминает артур парфенчиков отмечая порядок начисления ндпи строительный камень действовал 20 лет налоговые органы карелии настаивают « первой продукцией добычи является строительный камень щебень » цены производителей щебень октябре 2021 года составляли информации росстата 586 руб 1 куб м учета налогов 4 месяц прошлого года средние цены которым строительные организации покупают щебень выросли сильнее последним доступным данным сентябрь 1 куб м щебня обошелся покупателям 1,5 тыс руб. 10 сентябре 2020 года расценки строительный камень росстат публикует словам вице-президента национальной нерудной компании сергея глебова щебень дороже строительного камня пять-шесть нужен щебень получить щебень производители дробят горные породы например гранит габбро-диабаз щебень используется производства бетона железобетона — повышает прочность этих материалов также используют устройства дорожных покрытий производства асфальтовых смесей девять месяцев 2021 года стране произведено подсчетам росстата 145 млн куб м щебня 0,5 меньше годом ранее своеобразными пилотными регионами которых 2019 года налоговые инспекции стали суд требовать доначисления ндпи щебень стали челябинская свердловская области указывает глебов словам суды встают сторону налоговиков признавая щебень полезным ископаемым мнению производителей это все-таки предмет переработки камня 2021 году уральская практика распространилась страну продолжает глебов соответствующие уведомления налоговиков стали приходить всей россии гендиректор российского офиса lafargeholcim максим гончаров заявил компания также получила налоговиков требования пересчете ндпи начисление ндпи щебень приведет росту цен минимум 10 оценивает гончаров мнению глебова материал подорожать 15–20 доначислении налога несколько предыдущих лет учетом штрафов пеней рост налога грозит увеличением долгов зарплате сокращением персонала увеличением цен снижением конкурентоспособности продукции соответственно увеличением стоимости строительства дорог домов следует письма главы карелии возросшие налоги могут привести банкротству предприятий дефициту щебня считает гончаров примеры заявлений банкротстве из-за невыплаты пересчитанного ндпи межрайонная инспекция фнс россии челябинской области подала заявление банкротстве биянковского щебеночного завода который входит национальную нерудную компанию декабре стороны заключили мировое соглашение завод обязался выплатить 127,7 млн руб. которых налог составляет 79,7 млн руб. остальная сумма складывается пеней штрафов стройматериалы налоги щебень строительство'"
      ]
     },
     "execution_count": 67,
     "metadata": {},
     "output_type": "execute_result"
    }
   ],
   "source": [
    "formatted_text = preprocess(original_text)\n",
    "formatted_text"
   ]
  },
  {
   "cell_type": "markdown",
   "metadata": {
    "id": "bYG_01dCacj6"
   },
   "source": [
    "Below function will be used to calculate sentences score"
   ]
  },
  {
   "cell_type": "code",
   "execution_count": 68,
   "metadata": {
    "execution": {
     "iopub.execute_input": "2022-05-16T20:47:11.666286Z",
     "iopub.status.busy": "2022-05-16T20:47:11.666072Z",
     "iopub.status.idle": "2022-05-16T20:47:11.676377Z",
     "shell.execute_reply": "2022-05-16T20:47:11.675579Z",
     "shell.execute_reply.started": "2022-05-16T20:47:11.666254Z"
    },
    "id": "hUSirUJdYPQK"
   },
   "outputs": [],
   "source": [
    "def calculate_sentences_score(sentences, important_words, distance):\n",
    "  scores = []\n",
    "  sentence_index = 0\n",
    "\n",
    "  for sentence in [nltk.word_tokenize(sentence) for sentence in sentences]:\n",
    "    #print('------------')\n",
    "    #print(sentence)\n",
    "\n",
    "    word_index = []\n",
    "    for word in important_words:\n",
    "      #print(word)\n",
    "      try:\n",
    "        word_index.append(sentence.index(word))\n",
    "      except ValueError:\n",
    "        pass\n",
    "\n",
    "    word_index.sort()\n",
    "    #print(word_index)\n",
    "\n",
    "    if len(word_index) == 0:\n",
    "      continue\n",
    "\n",
    "    # [0, 1, 5]\n",
    "    groups_list = []\n",
    "    group = [word_index[0]]\n",
    "    i = 1 # 3\n",
    "    while i < len(word_index): # 3\n",
    "      # first execution: 1 - 0 = 1\n",
    "      # second execution: 2 - 1 = 1\n",
    "      if word_index[i] - word_index[i - 1] < distance:\n",
    "        group.append(word_index[i])\n",
    "        #print('group', group)\n",
    "      else:\n",
    "        groups_list.append(group[:])\n",
    "        group = [word_index[i]]\n",
    "        #print('group', group)\n",
    "      i += 1\n",
    "    groups_list.append(group)\n",
    "    #print('all groups', groups_list)\n",
    "\n",
    "    max_group_score = 0\n",
    "    for g in groups_list:\n",
    "      #print(g)\n",
    "      important_words_in_group = len(g)\n",
    "      total_words_in_group = g[-1] - g[0] + 1\n",
    "      score = 1.0 * important_words_in_group**2 / total_words_in_group\n",
    "      #print('group score', score)\n",
    "\n",
    "      if score > max_group_score:\n",
    "        max_group_score = score\n",
    "\n",
    "    scores.append((max_group_score, sentence_index))\n",
    "    sentence_index += 1\n",
    "\n",
    "  #print('final scores', scores)\n",
    "  return scores"
   ]
  },
  {
   "cell_type": "markdown",
   "metadata": {
    "id": "UyzcugCmbGh7"
   },
   "source": [
    "In addition, we have developped a function that summarizes the text based on the scores"
   ]
  },
  {
   "cell_type": "code",
   "execution_count": 69,
   "metadata": {
    "execution": {
     "iopub.execute_input": "2022-05-16T20:47:11.678663Z",
     "iopub.status.busy": "2022-05-16T20:47:11.677916Z",
     "iopub.status.idle": "2022-05-16T20:47:11.688287Z",
     "shell.execute_reply": "2022-05-16T20:47:11.687444Z",
     "shell.execute_reply.started": "2022-05-16T20:47:11.678607Z"
    },
    "id": "6jLRGM5yap1U"
   },
   "outputs": [],
   "source": [
    "def summarize_Luhn(text, top_n_words, distance, number_of_sentences, percentage = 0):\n",
    "    original_sentences = [sentence for sentence in nltk.sent_tokenize(text)]\n",
    "    #print(original_sentences)\n",
    "    formatted_sentences = [preprocess(original_sentence) for original_sentence in original_sentences]\n",
    "    #print(formatted_sentences)\n",
    "    words = [word for sentence in formatted_sentences for word in nltk.word_tokenize(sentence)]\n",
    "    #print(words)\n",
    "    frequency = nltk.FreqDist(words)\n",
    "    #print(frequency)\n",
    "    #return frequency\n",
    "    top_n_words = [word[0] for word in frequency.most_common(top_n_words)]\n",
    "    #print(top_n_words)\n",
    "    sentences_score = calculate_sentences_score(formatted_sentences, top_n_words, distance)\n",
    "    #print(sentences_score)\n",
    "    if percentage > 0:\n",
    "        best_sentences = heapq.nlargest(int(len(formatted_sentences) * percentage), sentences_score)\n",
    "    else:  \n",
    "        best_sentences = heapq.nlargest(number_of_sentences, sentences_score)\n",
    "    #print(best_sentences)\n",
    "    best_sentences = [original_sentences[i] for (score, i) in best_sentences]\n",
    "    #print(best_sentences)\n",
    "    return original_sentences, best_sentences, sentences_score"
   ]
  },
  {
   "cell_type": "markdown",
   "metadata": {
    "id": "It0HYeEonhec"
   },
   "source": [
    "After defining the needed functions, it is the time for applying the summerization. "
   ]
  },
  {
   "cell_type": "code",
   "execution_count": 70,
   "metadata": {
    "execution": {
     "iopub.execute_input": "2022-05-16T20:47:11.691907Z",
     "iopub.status.busy": "2022-05-16T20:47:11.691332Z",
     "iopub.status.idle": "2022-05-16T20:47:11.707984Z",
     "shell.execute_reply": "2022-05-16T20:47:11.707256Z",
     "shell.execute_reply.started": "2022-05-16T20:47:11.691869Z"
    },
    "id": "O0zOAkGDapr4"
   },
   "outputs": [],
   "source": [
    "original_sentences, best_sentences, sentences_score = summarize_Luhn(original_text, 5, 2, 4)"
   ]
  },
  {
   "cell_type": "code",
   "execution_count": 71,
   "metadata": {
    "colab": {
     "base_uri": "https://localhost:8080/"
    },
    "execution": {
     "iopub.execute_input": "2022-05-16T20:47:11.709442Z",
     "iopub.status.busy": "2022-05-16T20:47:11.709095Z",
     "iopub.status.idle": "2022-05-16T20:47:11.718341Z",
     "shell.execute_reply": "2022-05-16T20:47:11.717479Z",
     "shell.execute_reply.started": "2022-05-16T20:47:11.709403Z"
    },
    "id": "79ueo-yFapi3",
    "outputId": "d9c0feb1-ce6e-4b19-f43c-37b467ad0c71"
   },
   "outputs": [
    {
     "data": {
      "text/plain": [
       "[' Губернатор попросил не считать щебень полезным ископаемым Иначе налоги для его производителей вырастут в 15 раз Глава Карелии Артур Парфенчиков предложил вице-премьеру Андрею Белоусову изменить Налоговый кодекс, чтобы снизить нагрузку на производителей щебня.',\n",
       " 'Им налоговики все чаще доначисляют НДПИ, что грозит ростом цен на стройматериалы Цены на необходимый в строительстве щебень могут вырасти, поскольку от производителей все чаще требуют заплатить налог на добычу полезных ископаемых (НДПИ), говорится в датированном 1 декабря письме главы Республики Карелия Артура Парфенчикова вице-премьеру Андрею Белоусову.',\n",
       " 'Копия есть у РБК.',\n",
       " 'Письмо поступило в аппарат правительства и будет рассмотрено в установленном порядке, подтвердили в пресс-службе правительства.',\n",
       " 'РБК направил запрос представителям Белоусова, Парфенчикова и Федеральной налоговой службы.',\n",
       " 'Ранее базой начисления НДПИ был строительный камень, из которого затем производится щебень, но в последнее время налоговики все чаще требуют пересчета налога, настаивая, что он должен начисляться на щебень.',\n",
       " 'По предварительной оценке, доначисление НДПИ на щебень увеличит налог в 3–15 раз, указывает Парфенчиков.',\n",
       " 'Это произойдет, поскольку щебень дороже строительного камня.',\n",
       " 'Ставка НДПИ на добычу неметаллического сырья, используемого в основном в строительстве, к которому стали относить щебень, составляет 5,5%.',\n",
       " 'Парфенчиков просит Белоусова дать поручение «соответствующим федеральным исполнительным органам государственной власти» проработать вопрос об изменении налогового законодательства и уточнить порядок налогообложения при добыче полезных ископаемых.',\n",
       " 'Глава Карелии предлагает внести изменения с начала календарного года и не взыскивать налог за три предшествующих года.',\n",
       " 'www.adv.rbc.ru Как налоговая изменила подход к щебню Объектом НДПИ в соответствии с Налоговым кодексом признают полезное ископаемое, добытое из недр в России, напоминает Артур Парфенчиков, отмечая, что порядок начисления НДПИ на строительный камень действовал 20 лет.',\n",
       " 'Теперь же налоговые органы Карелии настаивают, что «первой продукцией добычи является не строительный камень, а щебень».',\n",
       " 'Цены производителей на щебень в октябре 2021 года составляли, по информации Росстата, 586 руб.',\n",
       " 'за 1 куб.',\n",
       " 'м (без учета налогов), что на 4% больше, чем в тот же месяц прошлого года.',\n",
       " 'Средние цены, по которым строительные организации покупают щебень, выросли сильнее: по последним доступным данным за сентябрь, 1 куб.',\n",
       " 'м щебня обошелся покупателям почти в 1,5 тыс.',\n",
       " 'руб., на 10% больше, чем в сентябре 2020 года.',\n",
       " 'Расценки на строительный камень Росстат не публикует.',\n",
       " 'По словам вице-президента Национальной нерудной компании Сергея Глебова, щебень дороже строительного камня в пять-шесть раз.',\n",
       " 'Для чего нужен щебень Чтобы получить щебень, производители дробят горные породы, например гранит или габбро-диабаз.',\n",
       " 'Щебень используется для производства бетона и железобетона — он повышает прочность этих материалов.',\n",
       " 'Также его используют для устройства дорожных покрытий и производства асфальтовых смесей.',\n",
       " 'За девять месяцев 2021 года в стране было произведено, по подсчетам Росстата, почти 145 млн куб.',\n",
       " 'м щебня, что на 0,5% меньше, чем годом ранее.',\n",
       " 'Своеобразными пилотными регионами, в которых с 2019 года налоговые инспекции стали через суд требовать доначисления НДПИ на щебень, стали Челябинская и Свердловская области, указывает Глебов.',\n",
       " 'По его словам, суды встают на сторону налоговиков, признавая щебень полезным ископаемым, а по мнению производителей, это все-таки предмет переработки камня.',\n",
       " 'В 2021 году уральская практика распространилась на всю страну, продолжает Глебов.',\n",
       " 'Соответствующие уведомления от налоговиков стали приходить уже по всей России.',\n",
       " 'Гендиректор российского офиса LafargeHolcim Максим Гончаров заявил, что его компания также получила от налоговиков требования о пересчете НДПИ.',\n",
       " 'Начисление НДПИ на щебень приведет к росту цен на него минимум на 10%, оценивает Гончаров.',\n",
       " 'По мнению Глебова, материал может подорожать на 15–20% при доначислении налога за несколько предыдущих лет с учетом штрафов и пеней.',\n",
       " 'Рост налога грозит увеличением долгов по зарплате, сокращением персонала, увеличением цен, снижением конкурентоспособности продукции и, соответственно, увеличением стоимости строительства дорог и домов, следует из письма главы Карелии.',\n",
       " 'Возросшие налоги могут привести к банкротству предприятий и дефициту щебня, считает Гончаров.',\n",
       " 'Примеры заявлений о банкротстве уже есть: из-за невыплаты пересчитанного НДПИ межрайонная инспекция ФНС России по Челябинской области подала заявление о банкротстве Биянковского щебеночного завода, который входит в Национальную нерудную компанию.',\n",
       " 'В декабре стороны заключили мировое соглашение: завод обязался выплатить 127,7 млн руб., из которых сам налог составляет 79,7 млн руб., а остальная сумма складывается из пеней и штрафов.',\n",
       " 'стройматериалы налоги щебень Строительство']"
      ]
     },
     "execution_count": 71,
     "metadata": {},
     "output_type": "execute_result"
    }
   ],
   "source": [
    "original_doc_sentences = original_sentences\n",
    "original_sentences"
   ]
  },
  {
   "cell_type": "code",
   "execution_count": 72,
   "metadata": {
    "colab": {
     "base_uri": "https://localhost:8080/"
    },
    "execution": {
     "iopub.execute_input": "2022-05-16T20:47:11.720134Z",
     "iopub.status.busy": "2022-05-16T20:47:11.719713Z",
     "iopub.status.idle": "2022-05-16T20:47:11.727437Z",
     "shell.execute_reply": "2022-05-16T20:47:11.726692Z",
     "shell.execute_reply.started": "2022-05-16T20:47:11.720094Z"
    },
    "id": "dy-T2RksapZZ",
    "outputId": "b7fc8563-90d3-4302-f9c0-5a11819b4aa7"
   },
   "outputs": [
    {
     "data": {
      "text/plain": [
       "['По словам вице-президента Национальной нерудной компании Сергея Глебова, щебень дороже строительного камня в пять-шесть раз.',\n",
       " 'м щебня обошелся покупателям почти в 1,5 тыс.',\n",
       " 'Парфенчиков просит Белоусова дать поручение «соответствующим федеральным исполнительным органам государственной власти» проработать вопрос об изменении налогового законодательства и уточнить порядок налогообложения при добыче полезных ископаемых.',\n",
       " 'Письмо поступило в аппарат правительства и будет рассмотрено в установленном порядке, подтвердили в пресс-службе правительства.']"
      ]
     },
     "execution_count": 72,
     "metadata": {},
     "output_type": "execute_result"
    }
   ],
   "source": [
    "best_sentences"
   ]
  },
  {
   "cell_type": "code",
   "execution_count": 87,
   "metadata": {
    "colab": {
     "base_uri": "https://localhost:8080/"
    },
    "execution": {
     "iopub.execute_input": "2022-05-16T20:47:11.742119Z",
     "iopub.status.busy": "2022-05-16T20:47:11.741698Z",
     "iopub.status.idle": "2022-05-16T20:47:11.751344Z",
     "shell.execute_reply": "2022-05-16T20:47:11.750587Z",
     "shell.execute_reply.started": "2022-05-16T20:47:11.742081Z"
    },
    "id": "E0ks9qYsn8CW",
    "outputId": "09d46ccb-afd2-41ad-956f-7b186c123540"
   },
   "outputs": [
    {
     "name": "stdout",
     "output_type": "stream",
     "text": [
      "===============Summary=============================\n",
      "  Губернатор попросил не считать щебень полезным ископаемым Иначе налоги для его производителей вырастут в 15 раз Глава Карелии Артур Парфенчиков\n",
      "предложил вице-премьеру Андрею Белоусову изменить Налоговый кодекс, чтобы снизить нагрузку на производителей щебня. Им налоговики все чаще доначисляют\n",
      "НДПИ, что грозит ростом цен на стройматериалы Цены на необходимый в строительстве щебень могут вырасти, поскольку от производителей все чаще требуют\n",
      "заплатить налог на добычу полезных ископаемых (НДПИ), говорится в датированном 1 декабря письме главы Республики Карелия Артура Парфенчикова вице-\n",
      "премьеру Андрею Белоусову. Копия есть у РБК. \u001b[94mПисьмо поступило в аппарат правительства и будет рассмотрено в установленном порядке, подтвердили в\n",
      "пресс-службе правительства.\u001b[0m РБК направил запрос представителям Белоусова, Парфенчикова и Федеральной налоговой службы. Ранее базой начисления НДПИ\n",
      "был строительный камень, из которого затем производится щебень, но в последнее время налоговики все чаще требуют пересчета налога, настаивая, что он\n",
      "должен начисляться на щебень. По предварительной оценке, доначисление НДПИ на щебень увеличит налог в 3–15 раз, указывает Парфенчиков. Это произойдет,\n",
      "поскольку щебень дороже строительного камня. Ставка НДПИ на добычу неметаллического сырья, используемого в основном в строительстве, к которому стали\n",
      "относить щебень, составляет 5,5%. \u001b[94mПарфенчиков просит Белоусова дать поручение «соответствующим федеральным исполнительным органам государственной\n",
      "власти» проработать вопрос об изменении налогового законодательства и уточнить порядок налогообложения при добыче полезных ископаемых.\u001b[0m Глава\n",
      "Карелии предлагает внести изменения с начала календарного года и не взыскивать налог за три предшествующих года. www.adv.rbc.ru Как налоговая изменила\n",
      "подход к щебню Объектом НДПИ в соответствии с Налоговым кодексом признают полезное ископаемое, добытое из недр в России, напоминает Артур Парфенчиков,\n",
      "отмечая, что порядок начисления НДПИ на строительный камень действовал 20 лет. Теперь же налоговые органы Карелии настаивают, что «первой продукцией\n",
      "добычи является не строительный камень, а щебень». Цены производителей на щебень в октябре 2021 года составляли, по информации Росстата, 586 руб. за 1\n",
      "куб. м (без учета налогов), что на 4% больше, чем в тот же месяц прошлого года. Средние цены, по которым строительные организации покупают щебень,\n",
      "выросли сильнее: по последним доступным данным за сентябрь, 1 куб. \u001b[94mм щебня обошелся покупателям почти в 1,5 тыс.\u001b[0m руб., на 10% больше, чем в\n",
      "сентябре 2020 года. Расценки на строительный камень Росстат не публикует. \u001b[94mПо словам вице-президента Национальной нерудной компании Сергея\n",
      "Глебова, щебень дороже строительного камня в пять-шесть раз.\u001b[0m Для чего нужен щебень Чтобы получить щебень, производители дробят горные породы,\n",
      "например гранит или габбро-диабаз. Щебень используется для производства бетона и железобетона — он повышает прочность этих материалов. Также его\n",
      "используют для устройства дорожных покрытий и производства асфальтовых смесей. За девять месяцев 2021 года в стране было произведено, по подсчетам\n",
      "Росстата, почти 145 млн куб. м щебня, что на 0,5% меньше, чем годом ранее. Своеобразными пилотными регионами, в которых с 2019 года налоговые\n",
      "инспекции стали через суд требовать доначисления НДПИ на щебень, стали Челябинская и Свердловская области, указывает Глебов. По его словам, суды\n",
      "встают на сторону налоговиков, признавая щебень полезным ископаемым, а по мнению производителей, это все-таки предмет переработки камня. В 2021 году\n",
      "уральская практика распространилась на всю страну, продолжает Глебов. Соответствующие уведомления от налоговиков стали приходить уже по всей России.\n",
      "Гендиректор российского офиса LafargeHolcim Максим Гончаров заявил, что его компания также получила от налоговиков требования о пересчете НДПИ.\n",
      "Начисление НДПИ на щебень приведет к росту цен на него минимум на 10%, оценивает Гончаров. По мнению Глебова, материал может подорожать на 15–20% при\n",
      "доначислении налога за несколько предыдущих лет с учетом штрафов и пеней. Рост налога грозит увеличением долгов по зарплате, сокращением персонала,\n",
      "увеличением цен, снижением конкурентоспособности продукции и, соответственно, увеличением стоимости строительства дорог и домов, следует из письма\n",
      "главы Карелии. Возросшие налоги могут привести к банкротству предприятий и дефициту щебня, считает Гончаров. Примеры заявлений о банкротстве уже есть:\n",
      "из-за невыплаты пересчитанного НДПИ межрайонная инспекция ФНС России по Челябинской области подала заявление о банкротстве Биянковского щебеночного\n",
      "завода, который входит в Национальную нерудную компанию. В декабре стороны заключили мировое соглашение: завод обязался выплатить 127,7 млн руб., из\n",
      "которых сам налог составляет 79,7 млн руб., а остальная сумма складывается из пеней и штрафов. стройматериалы налоги щебень Строительство\n"
     ]
    }
   ],
   "source": [
    "hilight_summary(original_sentences,best_sentences,sentences_format=1)"
   ]
  },
  {
   "cell_type": "markdown",
   "metadata": {
    "id": "U7OE4liwpA-n"
   },
   "source": [
    "Now, we will apply the summarization to all the articles and store the summary in seperate column"
   ]
  },
  {
   "cell_type": "code",
   "execution_count": 88,
   "metadata": {
    "execution": {
     "iopub.execute_input": "2022-05-16T20:47:11.753254Z",
     "iopub.status.busy": "2022-05-16T20:47:11.752831Z",
     "iopub.status.idle": "2022-05-16T20:47:13.961494Z",
     "shell.execute_reply": "2022-05-16T20:47:13.960781Z",
     "shell.execute_reply.started": "2022-05-16T20:47:11.753217Z"
    },
    "id": "CvbdtiAuqP9p"
   },
   "outputs": [],
   "source": [
    "Luhn_Summaries = []\n",
    "for article in df['article_text']:\n",
    "    original_sentences, best_sentences, sentences_score = summarize_Luhn(article, 5, 2, 4)\n",
    "    summary_text = str('')\n",
    "    for i in best_sentences:\n",
    "        summary_text = summary_text + (\"%s \" % (i))\n",
    "    Luhn_Summaries.append(summary_text)\n",
    "\n",
    "df['Luhn_Summary'] = Luhn_Summaries"
   ]
  },
  {
   "cell_type": "markdown",
   "metadata": {
    "id": "vCF73Rm-syux"
   },
   "source": [
    "Drawing a randome article to see the summary"
   ]
  },
  {
   "cell_type": "code",
   "execution_count": 89,
   "metadata": {
    "colab": {
     "base_uri": "https://localhost:8080/"
    },
    "execution": {
     "iopub.execute_input": "2022-05-16T20:47:13.963042Z",
     "iopub.status.busy": "2022-05-16T20:47:13.962770Z",
     "iopub.status.idle": "2022-05-16T20:47:13.974387Z",
     "shell.execute_reply": "2022-05-16T20:47:13.973600Z",
     "shell.execute_reply.started": "2022-05-16T20:47:13.963005Z"
    },
    "id": "bBTZb8fCsIkS",
    "outputId": "d16e56c9-4acb-4837-8e26-57846ede35c2"
   },
   "outputs": [
    {
     "name": "stdout",
     "output_type": "stream",
     "text": [
      "===============Summary=============================\n",
      "  Ректор МГУ призвал оставить бакалавриат и магистратуру в отдельных сферах Это необходимо сделать в интересах иностранных студентов, считает ректор.\n",
      "По его мнению, в стране стоит расширить число программ специалитета в особо значимых для общества и государства областях В России необходимо оставить\n",
      "двухуровневую систему образования, которая сочетает в себе бакалавриат и магистратуру, для некоторых сфер. Об этом заявил академик РАН, ректор\n",
      "Московского государственного университета имени М. В. Ломоносова Виктор Садовничий на заседании расширенного совета Российского союза ректоров,\n",
      "передает «Интерфакс». По его словам, сделать это необходимо с учетом подготовки иностранных специалистов. При этом в новой системе образования должно\n",
      "быть предусмотрено обучение по программам интегрированной магистратуры в наукоемких отраслях. Интегрированная магистратура подразумевает подготовку\n",
      "специалистов, которые отучились по тому же направлению в бакалавриате в этом же вузе. Неинтегрированными считаются магистры, получившие степень\n",
      "бакалавра по другой специальности и/или в другом учебном заведении. \u001b[94mОбразовательные программы для интегрированной и неинтегрированной\n",
      "магистратуры, как правило, различаются.\u001b[0m www.adv.rbc.ru Ректор предложил расширить распространение программ специалитета в высокотехнологичных\n",
      "отраслях и других сферах, особенно значимых как для общества, так и для государства. www.adv.rbc.ru Ранее Садовничий говорил, что Болонская система,\n",
      "которая подразумевает разделение на бакалавриат и магистратуру, снизила качество образования в России, так как была ей несвойственна. Болонский\n",
      "процесс предусматривает создание единого европейского пространства высшего образования. Россия присоединилась к нему 19 сентября 2003 года.\n",
      "\u001b[94mПервые программы по подготовке бакалавров стали появляться в России еще в 1990-х годах, но повсеместным такое разделение стало с 2011 года.\u001b[0m В\n",
      "конце мая глава Минобрнауки Валерий Фальков заявил, что власти планируют отказаться от Болонской системы, так как «будущее за нашей собственной\n",
      "уникальной системой образования». \u001b[94mОн призвал относиться к Болонской системе «как к прожитому этапу» и сообщил, что власти заложат в основу новой\n",
      "системы национальные интересы и максимальные возможности для студентов.\u001b[0m \u001b[94mПри этом ведомство исключило возврат к советской системе\n",
      "образования.\u001b[0m Замминистра науки и высшего образования Дмитрий Афанасьев тогда отмечал, что решение о переходе на одноступенчатую систему будут\n",
      "принимать отдельно для каждой области, учитывая потребности иностранных студентов. Позднее Фальков заявил, что университетам могут дать выбор —\n",
      "оставить магистратуру и бакалавриат или отказаться от них в пользу специалитета. Сохранить двухступенчатую систему, по его словам, необходимо по\n",
      "следующим причинам: Российские выпускники школ «симпатизируют этим форматам образования». Многие россияне получили степень бакалавра, однако без\n",
      "степени магистра они не смогут продвигаться дальше, поскольку к должностям есть квалификационные требования. Это понятный формат образования для\n",
      "иностранных студентов, которые могут приезжать учиться в Россию, а затем возвращаться к себе, чтобы продолжить обучение. Вместе с тем министр призвал\n",
      "«навести порядок» в магистратуре и запретить абитуриентам поступать на несмежные направления. Сейчас человек может поступить в магистратуру на любое\n",
      "направление, вне зависимости от того, какое образование он получил в бакалавриате, если успешно сдаст вступительные экзамены.\n"
     ]
    }
   ],
   "source": [
    "sample_article2 = df.sample()\n",
    "hilight_summary(sample_article2['article_text'].iloc[0],sample_article2['Luhn_Summary'].iloc[0])"
   ]
  },
  {
   "cell_type": "markdown",
   "metadata": {
    "id": "Z3YPdJJr5tR8"
   },
   "source": [
    "## **3. Cosine similarity**\n",
    "Cosine similarity is one of the metric to measure the text-similarity between two documents irrespective of their size in Natural language Processing. A word is represented into a vector form. The text documents are represented in n-dimensional vector space.\n",
    "\n",
    "Mathematically, Cosine similarity metric measures the cosine of the angle between two n-dimensional vectors projected in a multi-dimensional space. The Cosine similarity of two documents will range from 0 to 1. If the Cosine similarity score is 1, it means two vectors have the same orientation. The value closer to 0 indicates that the two documents have less similarity.\n",
    "\n",
    "Resources:\n",
    "- https://en.wikipedia.org/wiki/Cosine_similarity \n",
    "- https://studymachinelearning.com/cosine-similarity-text-similarity-metric/\n"
   ]
  },
  {
   "cell_type": "code",
   "execution_count": 90,
   "metadata": {
    "execution": {
     "iopub.execute_input": "2022-05-16T20:47:13.976469Z",
     "iopub.status.busy": "2022-05-16T20:47:13.975856Z",
     "iopub.status.idle": "2022-05-16T20:47:13.980932Z",
     "shell.execute_reply": "2022-05-16T20:47:13.980119Z",
     "shell.execute_reply.started": "2022-05-16T20:47:13.976429Z"
    },
    "id": "93EmQAGy67ru"
   },
   "outputs": [],
   "source": [
    "original_sentences = original_doc_sentences"
   ]
  },
  {
   "cell_type": "markdown",
   "metadata": {
    "id": "noBC93uXtPKF"
   },
   "source": [
    "We will continue using the same stopwords and preprocessing function we define earlier for Lhun. Also, we will keep using the same original text used previously.\n",
    "\n",
    "Now, we will define a function to calculate sentence similarity using cosine similarity."
   ]
  },
  {
   "cell_type": "code",
   "execution_count": 126,
   "metadata": {
    "execution": {
     "iopub.execute_input": "2022-05-16T20:47:13.983036Z",
     "iopub.status.busy": "2022-05-16T20:47:13.982489Z",
     "iopub.status.idle": "2022-05-16T20:47:13.991344Z",
     "shell.execute_reply": "2022-05-16T20:47:13.990626Z",
     "shell.execute_reply.started": "2022-05-16T20:47:13.983001Z"
    },
    "id": "OaWy_N-LWwrO"
   },
   "outputs": [],
   "source": [
    "def calculate_sentence_similarity(sentence1, sentence2):\n",
    "    words1 = [word for word in nltk.word_tokenize(sentence1)]\n",
    "    words2 = [word for word in nltk.word_tokenize(sentence2)]\n",
    "    #print(words1)\n",
    "    #print(words2)\n",
    "\n",
    "    all_words = list(set(words1 + words2))\n",
    "    #print(all_words)\n",
    "\n",
    "    vector1 = [0] * len(all_words)\n",
    "    vector2 = [0] * len(all_words)\n",
    "    #print(vector1)\n",
    "    #print(vector2)\n",
    "\n",
    "    for word in words1: # Bag of words\n",
    "    #print(word)\n",
    "        vector1[all_words.index(word)] += 1\n",
    "    for word in words2:\n",
    "        vector2[all_words.index(word)] += 1\n",
    "\n",
    "    #print(vector1)\n",
    "    #print(vector2)\n",
    "\n",
    "    return 1 - cosine_distance(vector1, vector2)"
   ]
  },
  {
   "cell_type": "markdown",
   "metadata": {
    "id": "BFnm7NeluvFc"
   },
   "source": [
    "We are using the same original sentences and showing the similarity score for first and fourth setences"
   ]
  },
  {
   "cell_type": "code",
   "execution_count": 127,
   "metadata": {
    "colab": {
     "base_uri": "https://localhost:8080/"
    },
    "execution": {
     "iopub.execute_input": "2022-05-16T20:47:13.993250Z",
     "iopub.status.busy": "2022-05-16T20:47:13.992719Z",
     "iopub.status.idle": "2022-05-16T20:47:14.004812Z",
     "shell.execute_reply": "2022-05-16T20:47:14.004053Z",
     "shell.execute_reply.started": "2022-05-16T20:47:13.993212Z"
    },
    "id": "5tuAyHahWwiq",
    "outputId": "68a28a53-88c0-47d2-cee6-2c7b364712c4"
   },
   "outputs": [
    {
     "data": {
      "text/plain": [
       "0.1643989873053573"
      ]
     },
     "execution_count": 127,
     "metadata": {},
     "output_type": "execute_result"
    }
   ],
   "source": [
    "calculate_sentence_similarity(original_sentences[0], original_sentences[3])"
   ]
  },
  {
   "cell_type": "markdown",
   "metadata": {
    "id": "e4GBcIsJZc6G"
   },
   "source": [
    "Below is a function that creates the similarity matrix:\n",
    "- The higher the value, the greater the similarity between the sentences\n",
    "- The more words in common, the greater the similarity"
   ]
  },
  {
   "cell_type": "code",
   "execution_count": 128,
   "metadata": {
    "execution": {
     "iopub.execute_input": "2022-05-16T20:47:14.006591Z",
     "iopub.status.busy": "2022-05-16T20:47:14.006135Z",
     "iopub.status.idle": "2022-05-16T20:47:14.013748Z",
     "shell.execute_reply": "2022-05-16T20:47:14.012977Z",
     "shell.execute_reply.started": "2022-05-16T20:47:14.006556Z"
    },
    "id": "OWICGkmmWwZy"
   },
   "outputs": [],
   "source": [
    "def calculate_similarity_matrix(sentences):\n",
    "    similarity_matrix = np.zeros((len(sentences), len(sentences)))\n",
    "    #print(similarity_matrix)\n",
    "    for i in range(len(sentences)):\n",
    "        for j in range(len(sentences)):\n",
    "            if i == j:\n",
    "                continue\n",
    "            similarity_matrix[i][j] = calculate_sentence_similarity(sentences[i], sentences[j])\n",
    "    return similarity_matrix"
   ]
  },
  {
   "cell_type": "code",
   "execution_count": 129,
   "metadata": {
    "colab": {
     "base_uri": "https://localhost:8080/"
    },
    "execution": {
     "iopub.execute_input": "2022-05-16T20:47:14.017097Z",
     "iopub.status.busy": "2022-05-16T20:47:14.016152Z",
     "iopub.status.idle": "2022-05-16T20:47:14.099390Z",
     "shell.execute_reply": "2022-05-16T20:47:14.098588Z",
     "shell.execute_reply.started": "2022-05-16T20:47:14.017067Z"
    },
    "id": "KMhNfz5IWwQI",
    "outputId": "1fef44df-86a7-49b7-a9d6-1162d4079103"
   },
   "outputs": [
    {
     "data": {
      "text/plain": [
       "array([[0.        , 0.28862169, 0.07352146, ..., 0.08108108, 0.07798129,\n",
       "        0.16439899],\n",
       "       [0.28862169, 0.        , 0.05234239, ..., 0.15393157, 0.14804664,\n",
       "        0.11704115],\n",
       "       [0.07352146, 0.05234239, 0.        , ..., 0.14704292, 0.07071068,\n",
       "        0.        ],\n",
       "       ...,\n",
       "       [0.08108108, 0.15393157, 0.14704292, ..., 0.        , 0.10397505,\n",
       "        0.        ],\n",
       "       [0.07798129, 0.14804664, 0.07071068, ..., 0.10397505, 0.        ,\n",
       "        0.        ],\n",
       "       [0.16439899, 0.11704115, 0.        , ..., 0.        , 0.        ,\n",
       "        0.        ]])"
      ]
     },
     "execution_count": 129,
     "metadata": {},
     "output_type": "execute_result"
    }
   ],
   "source": [
    "calculate_similarity_matrix(original_sentences)"
   ]
  },
  {
   "cell_type": "markdown",
   "metadata": {
    "id": "8mh_VT5d8KP9"
   },
   "source": [
    "Since we sow what is the similarity matrix, we can use the same function to evaluate and get the best summary."
   ]
  },
  {
   "cell_type": "code",
   "execution_count": 130,
   "metadata": {
    "execution": {
     "iopub.execute_input": "2022-05-16T20:47:14.101499Z",
     "iopub.status.busy": "2022-05-16T20:47:14.100960Z",
     "iopub.status.idle": "2022-05-16T20:47:14.109978Z",
     "shell.execute_reply": "2022-05-16T20:47:14.109192Z",
     "shell.execute_reply.started": "2022-05-16T20:47:14.101454Z"
    },
    "id": "2Sg0okou8j5v"
   },
   "outputs": [],
   "source": [
    "def summarize_cosine(text, number_of_sentences, percentage = 0):\n",
    "    original_sentences = [sentence for sentence in nltk.sent_tokenize(text)]\n",
    "    formatted_sentences = [preprocess(original_sentence) for original_sentence in original_sentences]\n",
    "    similarity_matrix = calculate_similarity_matrix(formatted_sentences)\n",
    "\n",
    "    similarity_graph = nx.from_numpy_array(similarity_matrix)\n",
    "\n",
    "\n",
    "    scores = nx.pagerank_numpy(similarity_graph)\n",
    "    ordered_scores = sorted(((scores[i], score) for i, score in enumerate(original_sentences)), reverse=True)\n",
    "\n",
    "    if percentage > 0:\n",
    "        number_of_sentences = int(len(formatted_sentences) * percentage)\n",
    "        number_of_sentences = min(number_of_sentences, len(ordered_scores))\n",
    "    best_sentences = []\n",
    "\n",
    "    for sentence in range(number_of_sentences):\n",
    "        best_sentences.append(ordered_scores[sentence][1])\n",
    "  \n",
    "    return original_sentences, best_sentences, ordered_scores"
   ]
  },
  {
   "cell_type": "markdown",
   "metadata": {
    "id": "WWSmN9rfA2Um"
   },
   "source": [
    "After developing all needed functions for evaluation and summarization, we need to perform the summary on the selected article. We selected the top four highly ranked sentences to for the summary."
   ]
  },
  {
   "cell_type": "code",
   "execution_count": 131,
   "metadata": {
    "colab": {
     "base_uri": "https://localhost:8080/"
    },
    "execution": {
     "iopub.execute_input": "2022-05-16T20:47:14.111639Z",
     "iopub.status.busy": "2022-05-16T20:47:14.111332Z",
     "iopub.status.idle": "2022-05-16T20:47:14.178216Z",
     "shell.execute_reply": "2022-05-16T20:47:14.177482Z",
     "shell.execute_reply.started": "2022-05-16T20:47:14.111588Z"
    },
    "id": "M8YrMKdkaERj",
    "outputId": "b3b1ccf0-a339-4aca-c996-0e6ac3e9dc36"
   },
   "outputs": [
    {
     "name": "stderr",
     "output_type": "stream",
     "text": [
      "/usr/local/lib/python3.7/dist-packages/ipykernel_launcher.py:9: DeprecationWarning: networkx.pagerank_numpy is deprecated and will be removed in NetworkX 3.0, use networkx.pagerank instead.\n",
      "  if __name__ == '__main__':\n"
     ]
    }
   ],
   "source": [
    "original_sentences, best_sentences_cosine, scores = summarize_cosine(original_text, 4)"
   ]
  },
  {
   "cell_type": "markdown",
   "metadata": {
    "id": "444PRWPpBVKT"
   },
   "source": [
    "Now, let us take a look into the highly ranked sentences."
   ]
  },
  {
   "cell_type": "code",
   "execution_count": 132,
   "metadata": {
    "colab": {
     "base_uri": "https://localhost:8080/"
    },
    "execution": {
     "iopub.execute_input": "2022-05-16T20:47:14.180093Z",
     "iopub.status.busy": "2022-05-16T20:47:14.179597Z",
     "iopub.status.idle": "2022-05-16T20:47:14.185218Z",
     "shell.execute_reply": "2022-05-16T20:47:14.184544Z",
     "shell.execute_reply.started": "2022-05-16T20:47:14.180053Z"
    },
    "id": "OHy1zYqNZ7Fu",
    "outputId": "f6dcd386-9df1-4ea1-bc8d-49d5a39c8a4a"
   },
   "outputs": [
    {
     "data": {
      "text/plain": [
       "['Ранее базой начисления НДПИ был строительный камень, из которого затем производится щебень, но в последнее время налоговики все чаще требуют пересчета налога, настаивая, что он должен начисляться на щебень.',\n",
       " 'Цены производителей на щебень в октябре 2021 года составляли, по информации Росстата, 586 руб.',\n",
       " 'Им налоговики все чаще доначисляют НДПИ, что грозит ростом цен на стройматериалы Цены на необходимый в строительстве щебень могут вырасти, поскольку от производителей все чаще требуют заплатить налог на добычу полезных ископаемых (НДПИ), говорится в датированном 1 декабря письме главы Республики Карелия Артура Парфенчикова вице-премьеру Андрею Белоусову.',\n",
       " 'По предварительной оценке, доначисление НДПИ на щебень увеличит налог в 3–15 раз, указывает Парфенчиков.']"
      ]
     },
     "execution_count": 132,
     "metadata": {},
     "output_type": "execute_result"
    }
   ],
   "source": [
    "best_sentences_cosine"
   ]
  },
  {
   "cell_type": "markdown",
   "metadata": {
    "id": "30CV0s79BhhO"
   },
   "source": [
    "Below are all the sentences along with their scours"
   ]
  },
  {
   "cell_type": "markdown",
   "metadata": {
    "id": "tTWhdPtxBv38"
   },
   "source": [
    "It is the time to visualize the summary highlighted on the original context"
   ]
  },
  {
   "cell_type": "code",
   "execution_count": 133,
   "metadata": {
    "colab": {
     "base_uri": "https://localhost:8080/"
    },
    "execution": {
     "iopub.execute_input": "2022-05-16T20:47:14.197122Z",
     "iopub.status.busy": "2022-05-16T20:47:14.196682Z",
     "iopub.status.idle": "2022-05-16T20:47:14.206872Z",
     "shell.execute_reply": "2022-05-16T20:47:14.206153Z",
     "shell.execute_reply.started": "2022-05-16T20:47:14.197083Z"
    },
    "id": "r4RO4cObP4fH",
    "outputId": "82a7ac6f-4186-437b-edc7-c73b734cdb99"
   },
   "outputs": [
    {
     "name": "stdout",
     "output_type": "stream",
     "text": [
      "===============Summary=============================\n",
      "  Губернатор попросил не считать щебень полезным ископаемым Иначе налоги для его производителей вырастут в 15 раз Глава Карелии Артур Парфенчиков\n",
      "предложил вице-премьеру Андрею Белоусову изменить Налоговый кодекс, чтобы снизить нагрузку на производителей щебня. \u001b[94mИм налоговики все чаще\n",
      "доначисляют НДПИ, что грозит ростом цен на стройматериалы Цены на необходимый в строительстве щебень могут вырасти, поскольку от производителей все\n",
      "чаще требуют заплатить налог на добычу полезных ископаемых (НДПИ), говорится в датированном 1 декабря письме главы Республики Карелия Артура\n",
      "Парфенчикова вице-премьеру Андрею Белоусову.\u001b[0m Копия есть у РБК. Письмо поступило в аппарат правительства и будет рассмотрено в установленном\n",
      "порядке, подтвердили в пресс-службе правительства. РБК направил запрос представителям Белоусова, Парфенчикова и Федеральной налоговой службы.\n",
      "\u001b[94mРанее базой начисления НДПИ был строительный камень, из которого затем производится щебень, но в последнее время налоговики все чаще требуют\n",
      "пересчета налога, настаивая, что он должен начисляться на щебень.\u001b[0m \u001b[94mПо предварительной оценке, доначисление НДПИ на щебень увеличит налог в\n",
      "3–15 раз, указывает Парфенчиков.\u001b[0m Это произойдет, поскольку щебень дороже строительного камня. Ставка НДПИ на добычу неметаллического сырья,\n",
      "используемого в основном в строительстве, к которому стали относить щебень, составляет 5,5%. Парфенчиков просит Белоусова дать поручение\n",
      "«соответствующим федеральным исполнительным органам государственной власти» проработать вопрос об изменении налогового законодательства и уточнить\n",
      "порядок налогообложения при добыче полезных ископаемых. Глава Карелии предлагает внести изменения с начала календарного года и не взыскивать налог за\n",
      "три предшествующих года. www.adv.rbc.ru Как налоговая изменила подход к щебню Объектом НДПИ в соответствии с Налоговым кодексом признают полезное\n",
      "ископаемое, добытое из недр в России, напоминает Артур Парфенчиков, отмечая, что порядок начисления НДПИ на строительный камень действовал 20 лет.\n",
      "Теперь же налоговые органы Карелии настаивают, что «первой продукцией добычи является не строительный камень, а щебень». \u001b[94mЦены производителей на\n",
      "щебень в октябре 2021 года составляли, по информации Росстата, 586 руб.\u001b[0m за 1 куб. м (без учета налогов), что на 4% больше, чем в тот же месяц\n",
      "прошлого года. Средние цены, по которым строительные организации покупают щебень, выросли сильнее: по последним доступным данным за сентябрь, 1 куб. м\n",
      "щебня обошелся покупателям почти в 1,5 тыс. руб., на 10% больше, чем в сентябре 2020 года. Расценки на строительный камень Росстат не публикует. По\n",
      "словам вице-президента Национальной нерудной компании Сергея Глебова, щебень дороже строительного камня в пять-шесть раз. Для чего нужен щебень Чтобы\n",
      "получить щебень, производители дробят горные породы, например гранит или габбро-диабаз. Щебень используется для производства бетона и железобетона —\n",
      "он повышает прочность этих материалов. Также его используют для устройства дорожных покрытий и производства асфальтовых смесей. За девять месяцев 2021\n",
      "года в стране было произведено, по подсчетам Росстата, почти 145 млн куб. м щебня, что на 0,5% меньше, чем годом ранее. Своеобразными пилотными\n",
      "регионами, в которых с 2019 года налоговые инспекции стали через суд требовать доначисления НДПИ на щебень, стали Челябинская и Свердловская области,\n",
      "указывает Глебов. По его словам, суды встают на сторону налоговиков, признавая щебень полезным ископаемым, а по мнению производителей, это все-таки\n",
      "предмет переработки камня. В 2021 году уральская практика распространилась на всю страну, продолжает Глебов. Соответствующие уведомления от\n",
      "налоговиков стали приходить уже по всей России. Гендиректор российского офиса LafargeHolcim Максим Гончаров заявил, что его компания также получила от\n",
      "налоговиков требования о пересчете НДПИ. Начисление НДПИ на щебень приведет к росту цен на него минимум на 10%, оценивает Гончаров. По мнению Глебова,\n",
      "материал может подорожать на 15–20% при доначислении налога за несколько предыдущих лет с учетом штрафов и пеней. Рост налога грозит увеличением\n",
      "долгов по зарплате, сокращением персонала, увеличением цен, снижением конкурентоспособности продукции и, соответственно, увеличением стоимости\n",
      "строительства дорог и домов, следует из письма главы Карелии. Возросшие налоги могут привести к банкротству предприятий и дефициту щебня, считает\n",
      "Гончаров. Примеры заявлений о банкротстве уже есть: из-за невыплаты пересчитанного НДПИ межрайонная инспекция ФНС России по Челябинской области подала\n",
      "заявление о банкротстве Биянковского щебеночного завода, который входит в Национальную нерудную компанию. В декабре стороны заключили мировое\n",
      "соглашение: завод обязался выплатить 127,7 млн руб., из которых сам налог составляет 79,7 млн руб., а остальная сумма складывается из пеней и штрафов.\n",
      "стройматериалы налоги щебень Строительство\n"
     ]
    }
   ],
   "source": [
    "hilight_summary(original_sentences,best_sentences_cosine,sentences_format=1)"
   ]
  },
  {
   "cell_type": "markdown",
   "metadata": {
    "id": "lduUlMrK-YpZ"
   },
   "source": [
    "## **4. Sumy**\n",
    "\n",
    "__Sumy__ is a library to extract summaries from HTML pages or plain texts. By utilizing __Sumy__, we will be performing two summarization techniques:\n",
    "* TextRankSummarizer\n",
    "* LSA Summarizer\n",
    "\n",
    "\n",
    "For more information about Sumy, you could visit the official library's documentation page.\n",
    "- library's pypi page: https://pypi.org/project/sumy/\n",
    "\n"
   ]
  },
  {
   "cell_type": "markdown",
   "metadata": {
    "id": "MiURj-Y2qGw5"
   },
   "source": [
    "### **A. Sumy Installation** "
   ]
  },
  {
   "cell_type": "code",
   "execution_count": null,
   "metadata": {
    "colab": {
     "base_uri": "https://localhost:8080/"
    },
    "execution": {
     "iopub.execute_input": "2022-05-16T20:47:36.986151Z",
     "iopub.status.busy": "2022-05-16T20:47:36.985829Z",
     "iopub.status.idle": "2022-05-16T20:47:51.030761Z",
     "shell.execute_reply": "2022-05-16T20:47:51.029819Z",
     "shell.execute_reply.started": "2022-05-16T20:47:36.986114Z"
    },
    "id": "h9q5RzkB-NQh",
    "outputId": "e6355a97-4d12-42e7-e340-c848dc29a07d"
   },
   "outputs": [],
   "source": [
    "!pip install sumy"
   ]
  },
  {
   "cell_type": "code",
   "execution_count": 135,
   "metadata": {
    "execution": {
     "iopub.execute_input": "2022-05-16T20:47:51.033278Z",
     "iopub.status.busy": "2022-05-16T20:47:51.032671Z",
     "iopub.status.idle": "2022-05-16T20:47:51.058021Z",
     "shell.execute_reply": "2022-05-16T20:47:51.057058Z",
     "shell.execute_reply.started": "2022-05-16T20:47:51.033223Z"
    },
    "id": "Hgv0nhrtYrwj"
   },
   "outputs": [],
   "source": [
    "from sumy.summarizers.text_rank import TextRankSummarizer\n",
    "from sumy.summarizers.lsa import LsaSummarizer\n",
    "from sumy.parsers.plaintext import PlaintextParser\n",
    "from sumy.nlp.tokenizers import Tokenizer"
   ]
  },
  {
   "cell_type": "markdown",
   "metadata": {
    "id": "G1abJKnC-eCL"
   },
   "source": [
    "### **B. TextRankSummarizer**\n",
    "Text Rank is a kind of graph-based ranking algorithm used for recommendation purposes. TextRank is used in various applications where text sentences are involved. It worked on the ranking of text sentences and recursively computed based on information available in the entire text.\n",
    "\n",
    "TextRank builds the graph related to the text. In a graph, each sentence is considered as vertex and each vertex is linked to the other vertex. These vertices cast a vote for another vertex. The importance of each vertex is defined by the higher number of votes. This importance is Here goal is to rank the sentences and this rank.\n",
    "\n",
    "<br/>\n",
    "\n",
    "Resources:\n",
    "- https://medium.com/@ondenyi.eric/extractive-text-summarization-techniques-with-sumy-3d3b127a0a32\n",
    "- https://machinelearninggeek.com/text-summarization-using-python/\n",
    "\n",
    "##### **B.1 Perform Summarization on One Data Sample:**\n",
    "Apply textranksummarizer to our test paragraph"
   ]
  },
  {
   "cell_type": "code",
   "execution_count": 136,
   "metadata": {
    "execution": {
     "iopub.execute_input": "2022-05-16T20:47:51.059857Z",
     "iopub.status.busy": "2022-05-16T20:47:51.059548Z",
     "iopub.status.idle": "2022-05-16T20:47:51.066280Z",
     "shell.execute_reply": "2022-05-16T20:47:51.065267Z",
     "shell.execute_reply.started": "2022-05-16T20:47:51.059815Z"
    },
    "id": "ktjzal-mYrnn"
   },
   "outputs": [],
   "source": [
    "def text_rank_summarizer(text, number_of_sentences):\n",
    "    summarizer = TextRankSummarizer()\n",
    "    parser = PlaintextParser.from_string(\n",
    "      text,\n",
    "      Tokenizer(\"russian\"))\n",
    "    summary = summarizer(parser.document, sentences_count= number_of_sentences)\n",
    "\n",
    "    summary_text = ''\n",
    "    for s in summary:\n",
    "        summary_text = summary_text +' '+ str(s)\n",
    "  \n",
    "    return summary_text.strip()"
   ]
  },
  {
   "cell_type": "code",
   "execution_count": 137,
   "metadata": {
    "colab": {
     "base_uri": "https://localhost:8080/"
    },
    "execution": {
     "iopub.execute_input": "2022-05-16T20:47:51.068731Z",
     "iopub.status.busy": "2022-05-16T20:47:51.068267Z",
     "iopub.status.idle": "2022-05-16T20:47:51.280354Z",
     "shell.execute_reply": "2022-05-16T20:47:51.279631Z",
     "shell.execute_reply.started": "2022-05-16T20:47:51.068689Z"
    },
    "id": "QOOOBA6bAdSX",
    "outputId": "b8f1f84e-ccda-4a67-a251-86d37b41aee3"
   },
   "outputs": [
    {
     "name": "stdout",
     "output_type": "stream",
     "text": [
      "===============Summary=============================\n",
      "  Губернатор попросил не считать щебень полезным ископаемым Иначе налоги для его производителей вырастут в 15 раз Глава Карелии Артур Парфенчиков\n",
      "предложил вице-премьеру Андрею Белоусову изменить Налоговый кодекс, чтобы снизить нагрузку на производителей щебня. \u001b[94mИм налоговики все чаще\n",
      "доначисляют НДПИ, что грозит ростом цен на стройматериалы Цены на необходимый в строительстве щебень могут вырасти, поскольку от производителей все\n",
      "чаще требуют заплатить налог на добычу полезных ископаемых (НДПИ), говорится в датированном 1 декабря письме главы Республики Карелия Артура\n",
      "Парфенчикова вице-премьеру Андрею Белоусову.\u001b[0m Копия есть у РБК. Письмо поступило в аппарат правительства и будет рассмотрено в установленном\n",
      "порядке, подтвердили в пресс-службе правительства. РБК направил запрос представителям Белоусова, Парфенчикова и Федеральной налоговой службы.\n",
      "\u001b[94mРанее базой начисления НДПИ был строительный камень, из которого затем производится щебень, но в последнее время налоговики все чаще требуют\n",
      "пересчета налога, настаивая, что он должен начисляться на щебень.\u001b[0m По предварительной оценке, доначисление НДПИ на щебень увеличит налог в 3–15\n",
      "раз, указывает Парфенчиков. Это произойдет, поскольку щебень дороже строительного камня. Ставка НДПИ на добычу неметаллического сырья, используемого в\n",
      "основном в строительстве, к которому стали относить щебень, составляет 5,5%. Парфенчиков просит Белоусова дать поручение «соответствующим федеральным\n",
      "исполнительным органам государственной власти» проработать вопрос об изменении налогового законодательства и уточнить порядок налогообложения при\n",
      "добыче полезных ископаемых. Глава Карелии предлагает внести изменения с начала календарного года и не взыскивать налог за три предшествующих года.\n",
      "\u001b[94mwww.adv.rbc.ru Как налоговая изменила подход к щебню Объектом НДПИ в соответствии с Налоговым кодексом признают полезное ископаемое, добытое из\n",
      "недр в России, напоминает Артур Парфенчиков, отмечая, что порядок начисления НДПИ на строительный камень действовал 20 лет.\u001b[0m Теперь же налоговые\n",
      "органы Карелии настаивают, что «первой продукцией добычи является не строительный камень, а щебень». \u001b[94mЦены производителей на щебень в октябре 2021\n",
      "года составляли, по информации Росстата, 586 руб.\u001b[0m \u001b[94mза 1 куб.\u001b[0m \u001b[94mм (без учета налогов), что на 4% больше, чем в тот же месяц прошлого\n",
      "года.\u001b[0m \u001b[94mСредние цены, по которым строительные организации покупают щебень, выросли сильнее: по последним доступным данным за сентябрь, 1\n",
      "куб.\u001b[0m \u001b[94mм щебня обошелся покупателям почти в 1,5 тыс.\u001b[0m \u001b[94mруб., на 10% больше, чем в сентябре 2020 года.\u001b[0m Расценки на строительный\n",
      "камень Росстат не публикует. По словам вице-президента Национальной нерудной компании Сергея Глебова, щебень дороже строительного камня в пять-шесть\n",
      "раз. Для чего нужен щебень Чтобы получить щебень, производители дробят горные породы, например гранит или габбро-диабаз. Щебень используется для\n",
      "производства бетона и железобетона — он повышает прочность этих материалов. Также его используют для устройства дорожных покрытий и производства\n",
      "асфальтовых смесей. За девять месяцев 2021 года в стране было произведено, по подсчетам Росстата, почти 145 млн куб. м щебня, что на 0,5% меньше, чем\n",
      "годом ранее. Своеобразными пилотными регионами, в которых с 2019 года налоговые инспекции стали через суд требовать доначисления НДПИ на щебень, стали\n",
      "Челябинская и Свердловская области, указывает Глебов. По его словам, суды встают на сторону налоговиков, признавая щебень полезным ископаемым, а по\n",
      "мнению производителей, это все-таки предмет переработки камня. В 2021 году уральская практика распространилась на всю страну, продолжает Глебов.\n",
      "Соответствующие уведомления от налоговиков стали приходить уже по всей России. Гендиректор российского офиса LafargeHolcim Максим Гончаров заявил, что\n",
      "его компания также получила от налоговиков требования о пересчете НДПИ. Начисление НДПИ на щебень приведет к росту цен на него минимум на 10%,\n",
      "оценивает Гончаров. По мнению Глебова, материал может подорожать на 15–20% при доначислении налога за несколько предыдущих лет с учетом штрафов и\n",
      "пеней. Рост налога грозит увеличением долгов по зарплате, сокращением персонала, увеличением цен, снижением конкурентоспособности продукции и,\n",
      "соответственно, увеличением стоимости строительства дорог и домов, следует из письма главы Карелии. Возросшие налоги могут привести к банкротству\n",
      "предприятий и дефициту щебня, считает Гончаров. Примеры заявлений о банкротстве уже есть: из-за невыплаты пересчитанного НДПИ межрайонная инспекция\n",
      "ФНС России по Челябинской области подала заявление о банкротстве Биянковского щебеночного завода, который входит в Национальную нерудную компанию. В\n",
      "декабре стороны заключили мировое соглашение: завод обязался выплатить 127,7 млн руб., из которых сам налог составляет 79,7 млн руб., а остальная\n",
      "сумма складывается из пеней и штрафов. стройматериалы налоги щебень Строительство\n"
     ]
    }
   ],
   "source": [
    "hilight_summary(doc['article_text'].iloc[0],text_rank_summarizer(doc['article_text'].iloc[0],5))"
   ]
  },
  {
   "cell_type": "markdown",
   "metadata": {
    "id": "xy7hV5hmB3Gu"
   },
   "source": [
    "Apply the textranksummarizer to all article"
   ]
  },
  {
   "cell_type": "code",
   "execution_count": 138,
   "metadata": {
    "execution": {
     "iopub.execute_input": "2022-05-16T20:47:51.282217Z",
     "iopub.status.busy": "2022-05-16T20:47:51.281777Z",
     "iopub.status.idle": "2022-05-16T20:47:53.588734Z",
     "shell.execute_reply": "2022-05-16T20:47:53.587952Z",
     "shell.execute_reply.started": "2022-05-16T20:47:51.282171Z"
    },
    "id": "80tDeMIZAF4P"
   },
   "outputs": [],
   "source": [
    "text_rank_summaries = []\n",
    "for article in df['article_text']:\n",
    "    summary_text = text_rank_summarizer(article,5)\n",
    "    text_rank_summaries.append(summary_text)\n",
    "\n",
    "df['Sumy_Text_Rank_Summarizer_Summary'] = text_rank_summaries"
   ]
  },
  {
   "cell_type": "code",
   "execution_count": 139,
   "metadata": {
    "colab": {
     "base_uri": "https://localhost:8080/"
    },
    "execution": {
     "iopub.execute_input": "2022-05-16T20:47:53.590223Z",
     "iopub.status.busy": "2022-05-16T20:47:53.589993Z",
     "iopub.status.idle": "2022-05-16T20:47:53.599710Z",
     "shell.execute_reply": "2022-05-16T20:47:53.598956Z",
     "shell.execute_reply.started": "2022-05-16T20:47:53.590191Z"
    },
    "id": "4GoyO7c4Dr41",
    "outputId": "93b00fd3-ecd2-4a37-d181-9dd428f642f9"
   },
   "outputs": [
    {
     "name": "stdout",
     "output_type": "stream",
     "text": [
      "===============Summary=============================\n",
      "  Reuters узнал о «редкой встрече» между Россией и Германией из-за Украины Reuters: переговорщики от России и ФРГ встретятся лично, чтобы обсудить\n",
      "Украину, в январе Встреча должна состояться в январе, в ней будут участвовать замглавы администрации президента Дмитрий Козак и советник канцлера\n",
      "Германии Йенс Плетнер. \u001b[94mАгентство поясняет, что очные встречи чиновников такого уровня проходят редко Заместитель главы администрации президента\n",
      "России Дмитрий Козак и советник канцлера ФРГ по внешнеполитическим вопросам Йенс Плетнер решили провести очную встречу по Украине в январе, сообщает\n",
      "Reuters со ссылкой на источник в правительстве ФРГ.\u001b[0m По его данным, об этом они договорились во время продолжительного телефонного разговора,\n",
      "который состоялся в четверг. \u001b[94mReuters называет такую встречу «редкой», поясняя, что телефонные звонки по украинскому вопросу между главами\n",
      "государств проводились в последнее время часто, а вот очные встречи между высокопоставленными чиновниками проходят редко.\u001b[0m \u001b[94mБерлин больше, чем\n",
      "Вашингтон, сомневается в намерении России напасть на Украину и стремится к снижению напряженности, сообщили Reuters два источника в правительстве\n",
      "ФРГ.\u001b[0m «Целью немецкой стороны остается скорейшее восстановление «нормандского формата», — уточнил один из собеседников агентства. www.adv.rbc.ru\n",
      "Reuters отметил, что новый канцлер Германии Олаф Шольц после вступления в должность подчеркивал необходимость диалога с Россией по вопросу присутствия\n",
      "ее военных у западных границ. В то же время он поддерживал идею введения санкций против России, если она вторгнется на территорию Украины. В середине\n",
      "декабря Шольц заявил, что Германия намерена вернуться к «нормандскому формату» и перезапустить его. Этот вопрос он обсуждал с президентом Франции\n",
      "Эмманюэлем Макроном и президентом Украины Владимиром Зеленским. В Кремле сообщали о готовности к переговорам в «нормандском формате», но подчеркивали,\n",
      "что для этого нужно подготовить документ, «отражающий совместное понимание». В октябре Дмитрий Козак провел переговоры с заместителем госсекретаря США\n",
      "Викторией Нуланд, которая приехала в Москву. \u001b[94mВо время встречи Нуланд подтвердила, что урегулирование на востоке Украины возможно только при\n",
      "согласовании особого статуса Донбасса в составе государства, отмечал замглавы администрации президента.\u001b[0m По его словам, он и Нуланд согласились,\n",
      "что основой для разрешения конфликта являются минские договоренности. Пресс-секретарь президента России Дмитрий Песков, комментируя тогда еще\n",
      "готовящуюся встречу Козака и Нуланд, заявил о возрождении «первых, робких контактов» на двусторонней основе. «Много разногласий, но тем не менее такие\n",
      "контакты только приветствуются», — пояснил он. Германия Дмитрий Козак Украина\n"
     ]
    }
   ],
   "source": [
    "sumdem = df.sample()\n",
    "# sumdem['Sumy_Text_Rank_Summarizer_Summary'].iloc[0]\n",
    "hilight_summary(sumdem['article_text'].iloc[0],sumdem['Sumy_Text_Rank_Summarizer_Summary'].iloc[0])"
   ]
  },
  {
   "cell_type": "markdown",
   "metadata": {
    "id": "mMR3pQU3GwKM"
   },
   "source": [
    "### **C. LSA Summarizer**\n",
    "Latent Semantic Analysis is based on Singular value decomposition(SVD). It reduces the data into lower-dimensional space. It performs spatial decomposition and captures information in a singular vector and the magnitude of so singular vector will represent the importance.\n"
   ]
  },
  {
   "cell_type": "markdown",
   "metadata": {
    "id": "UxOo7QW6Fwyk"
   },
   "source": [
    "##### **C.1 Perform Summarization on One Data Sample:**\n",
    "Apply textranksummarizer to our test paragraph"
   ]
  },
  {
   "cell_type": "code",
   "execution_count": 140,
   "metadata": {
    "execution": {
     "iopub.execute_input": "2022-05-16T20:47:53.601632Z",
     "iopub.status.busy": "2022-05-16T20:47:53.601137Z",
     "iopub.status.idle": "2022-05-16T20:47:53.609370Z",
     "shell.execute_reply": "2022-05-16T20:47:53.608667Z",
     "shell.execute_reply.started": "2022-05-16T20:47:53.601597Z"
    },
    "id": "hBG6OIHyHVb8"
   },
   "outputs": [],
   "source": [
    "def LSA_summarizer(text, number_of_sentences):\n",
    "    summarizer = LsaSummarizer()\n",
    "    parser = PlaintextParser.from_string(\n",
    "      text,\n",
    "      Tokenizer(\"russian\"))\n",
    "    summary = summarizer(parser.document, sentences_count= number_of_sentences)\n",
    "\n",
    "    summary_text = ''\n",
    "    for s in summary:\n",
    "        summary_text = summary_text + ' '+ str(s)\n",
    "\n",
    "    return summary_text.strip()"
   ]
  },
  {
   "cell_type": "code",
   "execution_count": 141,
   "metadata": {
    "colab": {
     "base_uri": "https://localhost:8080/"
    },
    "execution": {
     "iopub.execute_input": "2022-05-16T20:47:53.610942Z",
     "iopub.status.busy": "2022-05-16T20:47:53.610661Z",
     "iopub.status.idle": "2022-05-16T20:47:53.640113Z",
     "shell.execute_reply": "2022-05-16T20:47:53.639423Z",
     "shell.execute_reply.started": "2022-05-16T20:47:53.610908Z"
    },
    "id": "As3D4m6tHhpW",
    "outputId": "f452baf3-4c40-467a-8872-b958c9833140"
   },
   "outputs": [
    {
     "name": "stdout",
     "output_type": "stream",
     "text": [
      "===============Summary=============================\n",
      "  Губернатор попросил не считать щебень полезным ископаемым Иначе налоги для его производителей вырастут в 15 раз Глава Карелии Артур Парфенчиков\n",
      "предложил вице-премьеру Андрею Белоусову изменить Налоговый кодекс, чтобы снизить нагрузку на производителей щебня. Им налоговики все чаще доначисляют\n",
      "НДПИ, что грозит ростом цен на стройматериалы Цены на необходимый в строительстве щебень могут вырасти, поскольку от производителей все чаще требуют\n",
      "заплатить налог на добычу полезных ископаемых (НДПИ), говорится в датированном 1 декабря письме главы Республики Карелия Артура Парфенчикова вице-\n",
      "премьеру Андрею Белоусову. Копия есть у РБК. Письмо поступило в аппарат правительства и будет рассмотрено в установленном порядке, подтвердили в\n",
      "пресс-службе правительства. РБК направил запрос представителям Белоусова, Парфенчикова и Федеральной налоговой службы. Ранее базой начисления НДПИ был\n",
      "строительный камень, из которого затем производится щебень, но в последнее время налоговики все чаще требуют пересчета налога, настаивая, что он\n",
      "должен начисляться на щебень. По предварительной оценке, доначисление НДПИ на щебень увеличит налог в 3–15 раз, указывает Парфенчиков. Это произойдет,\n",
      "поскольку щебень дороже строительного камня. Ставка НДПИ на добычу неметаллического сырья, используемого в основном в строительстве, к которому стали\n",
      "относить щебень, составляет 5,5%. \u001b[94mПарфенчиков просит Белоусова дать поручение «соответствующим федеральным исполнительным органам государственной\n",
      "власти» проработать вопрос об изменении налогового законодательства и уточнить порядок налогообложения при добыче полезных ископаемых.\u001b[0m Глава\n",
      "Карелии предлагает внести изменения с начала календарного года и не взыскивать налог за три предшествующих года. www.adv.rbc.ru Как налоговая изменила\n",
      "подход к щебню Объектом НДПИ в соответствии с Налоговым кодексом признают полезное ископаемое, добытое из недр в России, напоминает Артур Парфенчиков,\n",
      "отмечая, что порядок начисления НДПИ на строительный камень действовал 20 лет. \u001b[94mТеперь же налоговые органы Карелии настаивают, что «первой\n",
      "продукцией добычи является не строительный камень, а щебень».\u001b[0m Цены производителей на щебень в октябре 2021 года составляли, по информации\n",
      "Росстата, 586 руб. за 1 куб. м (без учета налогов), что на 4% больше, чем в тот же месяц прошлого года. Средние цены, по которым строительные\n",
      "организации покупают щебень, выросли сильнее: по последним доступным данным за сентябрь, 1 куб. м щебня обошелся покупателям почти в 1,5 тыс. руб., на\n",
      "10% больше, чем в сентябре 2020 года. Расценки на строительный камень Росстат не публикует. По словам вице-президента Национальной нерудной компании\n",
      "Сергея Глебова, щебень дороже строительного камня в пять-шесть раз. Для чего нужен щебень Чтобы получить щебень, производители дробят горные породы,\n",
      "например гранит или габбро-диабаз. Щебень используется для производства бетона и железобетона — он повышает прочность этих материалов. Также его\n",
      "используют для устройства дорожных покрытий и производства асфальтовых смесей. \u001b[94mЗа девять месяцев 2021 года в стране было произведено, по\n",
      "подсчетам Росстата, почти 145 млн куб.\u001b[0m \u001b[94mм щебня, что на 0,5% меньше, чем годом ранее.\u001b[0m Своеобразными пилотными регионами, в которых с 2019\n",
      "года налоговые инспекции стали через суд требовать доначисления НДПИ на щебень, стали Челябинская и Свердловская области, указывает Глебов. По его\n",
      "словам, суды встают на сторону налоговиков, признавая щебень полезным ископаемым, а по мнению производителей, это все-таки предмет переработки камня.\n",
      "В 2021 году уральская практика распространилась на всю страну, продолжает Глебов. Соответствующие уведомления от налоговиков стали приходить уже по\n",
      "всей России. \u001b[94mГендиректор российского офиса LafargeHolcim Максим Гончаров заявил, что его компания также получила от налоговиков требования о\n",
      "пересчете НДПИ.\u001b[0m Начисление НДПИ на щебень приведет к росту цен на него минимум на 10%, оценивает Гончаров. \u001b[94mПо мнению Глебова, материал может\n",
      "подорожать на 15–20% при доначислении налога за несколько предыдущих лет с учетом штрафов и пеней.\u001b[0m Рост налога грозит увеличением долгов по\n",
      "зарплате, сокращением персонала, увеличением цен, снижением конкурентоспособности продукции и, соответственно, увеличением стоимости строительства\n",
      "дорог и домов, следует из письма главы Карелии. Возросшие налоги могут привести к банкротству предприятий и дефициту щебня, считает Гончаров. Примеры\n",
      "заявлений о банкротстве уже есть: из-за невыплаты пересчитанного НДПИ межрайонная инспекция ФНС России по Челябинской области подала заявление о\n",
      "банкротстве Биянковского щебеночного завода, который входит в Национальную нерудную компанию. В декабре стороны заключили мировое соглашение: завод\n",
      "обязался выплатить 127,7 млн руб., из которых сам налог составляет 79,7 млн руб., а остальная сумма складывается из пеней и штрафов. стройматериалы\n",
      "налоги щебень Строительство\n"
     ]
    }
   ],
   "source": [
    "hilight_summary(doc['article_text'].iloc[0],LSA_summarizer(doc['article_text'].iloc[0],5))"
   ]
  },
  {
   "cell_type": "markdown",
   "metadata": {
    "id": "IqxyI4PsF289"
   },
   "source": [
    "##### **B.2 Building a function to Perform Summarization on all data samples:**"
   ]
  },
  {
   "cell_type": "markdown",
   "metadata": {
    "id": "dTS1fPZOHv1V"
   },
   "source": [
    "Apply the LSA Summarizer to all article"
   ]
  },
  {
   "cell_type": "code",
   "execution_count": 142,
   "metadata": {
    "execution": {
     "iopub.execute_input": "2022-05-16T20:47:53.641643Z",
     "iopub.status.busy": "2022-05-16T20:47:53.641188Z",
     "iopub.status.idle": "2022-05-16T20:47:56.069283Z",
     "shell.execute_reply": "2022-05-16T20:47:56.068467Z",
     "shell.execute_reply.started": "2022-05-16T20:47:53.641600Z"
    },
    "id": "WYweugu2Hv1W"
   },
   "outputs": [],
   "source": [
    "lsa_summaries = []\n",
    "for article in df['article_text']:\n",
    "    summary_text = LSA_summarizer(article,5)\n",
    "    lsa_summaries.append(summary_text)\n",
    "\n",
    "df['LSA_Summarizer_Summary'] = lsa_summaries"
   ]
  },
  {
   "cell_type": "code",
   "execution_count": 143,
   "metadata": {
    "colab": {
     "base_uri": "https://localhost:8080/"
    },
    "execution": {
     "iopub.execute_input": "2022-05-16T20:47:56.070794Z",
     "iopub.status.busy": "2022-05-16T20:47:56.070387Z",
     "iopub.status.idle": "2022-05-16T20:47:56.083281Z",
     "shell.execute_reply": "2022-05-16T20:47:56.082407Z",
     "shell.execute_reply.started": "2022-05-16T20:47:56.070758Z"
    },
    "id": "VoycuHfnHv1X",
    "outputId": "38bb4262-4989-47d3-c1b6-3cb331c0e28d"
   },
   "outputs": [
    {
     "name": "stdout",
     "output_type": "stream",
     "text": [
      "===============Summary=============================\n",
      "  Лавров заявил о согласовании автокоридора между Арменией и Азербайджаном Согласование маршрута приведет к разблокировке автомобильного сообщения в\n",
      "регионе, которое было прервано 30 лет назад, во время первой войны в Нагорном Карабахе Завершается согласование автомобильного транспортного коридора\n",
      "между Арменией и Азербайджаном, сообщил министр иностранных дел России Сергей Лавров, который находится с визитом в Ереване. «Как известно,\n",
      "железнодорожный маршрут согласован, сейчас завершается согласование автомобильного маршрута и согласование режима [функционирования транспортного\n",
      "коридора], который будет установлен», — отметил глава российского МИДа (цитата по ТАСС). \u001b[94mПо словам Лаврова, режим проезда будет упрощенным, но с\n",
      "опорой «на признание суверенитета армянской территории».\u001b[0m Он подчеркнул, что речь идет о создании инфраструктуры «на долгие годы», так что в этом\n",
      "вопросе «лучше все десять раз взвесить, прежде чем рубить с плеча». \u001b[94mМинистр отметил, что, по его ощущению, именно этой позиции в процессе\n",
      "согласования придерживаются армянская и азербайджанская стороны.\u001b[0m www.adv.rbc.ru Согласованием маршрутов занимается трехсторонняя рабочая группа\n",
      "под сопредседательством вице-премьеров России, Азербайджана и Армении. Она была создана в январе прошлого года. Разблокирование коммуникаций позволит\n",
      "Азербайджану впервые за 30 лет наладить автомобильное сообщение с Нахичеванью (регион и одноименный город находятся между Нагорным Карабахом и\n",
      "Арменией), а Армения через его территорию получит железнодорожный выход на Россию и Иран. www.adv.rbc.ru Лавров также подтвердил, что Москва готова\n",
      "содействовать заключению мирного договора между Ереваном и Баку и помочь решать гуманитарные проблемы, которые сохраняются в Нагорном Карабахе,\n",
      "сообщает агентство «Новости-Армения». Российский министр напомнил, что «другого пути, кроме полной нормализации отношений, не существует». История\n",
      "нагорнокарабахского конфликта Историческая область Нагорный Карабах, население большинства районов которой составляют преимущественно армяне,\n",
      "провозгласила независимость от Азербайджана в 1991 году под именем Нагорно-Карабахской республики (еще в 1987–1988 годах представители Карабаха\n",
      "обращались к советскому руководству с просьбой о передаче из состава Азербайджанской ССР в состав Армянской ССР, но не получили положительного\n",
      "ответа). С 1992 по 1994 год Азербайджан пытался взять самопровозглашенную республику под свой контроль, это были полномасштабные военные действия,\n",
      "Баку и Ереван применяли тяжелую технику и авиацию. Армянские формирования взяли под контроль в том числе несколько районов Азербайджана, которые до\n",
      "начала конфликта не входили в Нагорно-Карабахскую автономию: Кельбаджарский, Лачинский, Кубатлинский, Джебраильский и Зангеланский районы целиком,\n",
      "Агдамский и Физулинский — частично. Под контролем Баку осталось около 15% Нагорного Карабаха. В 1994 году страны договорились о прекращении огня, а\n",
      "конфликт был заморожен. Последнее масштабное обострение в зоне соприкосновения произошло в апреле 2016 года, сообщалось о более чем 30 погибших с\n",
      "обеих сторон, ранения получили десятки человек. Стороны снова договорились о прекращении огня. \u001b[94mАзербайджан не признает самопровозглашенную\n",
      "Нагорно-Карабахскую республику и отказывается от включения в переговоры об урегулировании конфликта ее представителей.\u001b[0m \u001b[94mВ то время, когда\n",
      "Лавров проводил встречу с министром иностранных дел Армении Араратом Мирзояном, у здания армянского МИДа проходил митинг оппозиции, которая обвиняет\n",
      "власти страны в намерении «сдать» Нагорный Карабах и требует отставки премьер-министра Никола Пашиняна.\u001b[0m \u001b[94mНа митинге лидеры оппозиции заявили,\n",
      "что хотят донести до российской стороны свой взгляд на проблему: по их мнению, договоренности с нынешней администрацией Армении насчет будущего\n",
      "Карабаха не имеют силы, поскольку власти «не представляют интересов народа».\u001b[0m\n"
     ]
    }
   ],
   "source": [
    "sumdem = df.sample()\n",
    "# sumdem['Sumy_Text_Rank_Summarizer_Summary'].iloc[0]\n",
    "hilight_summary(sumdem['article_text'].iloc[0],sumdem['LSA_Summarizer_Summary'].iloc[0])"
   ]
  },
  {
   "cell_type": "markdown",
   "metadata": {
    "id": "-hUqz_uGf97N"
   },
   "source": [
    "## **5. Pysummarization**\n",
    "\n",
    "__pysummarization__ is Python library for the automatic summarization, document abstraction, and text filtering.\n",
    "\n",
    "- https://pypi.org/project/pysummarization/"
   ]
  },
  {
   "cell_type": "markdown",
   "metadata": {
    "id": "gVPxUYuyGibe"
   },
   "source": [
    "### **A. Pysummarization Installation**\n"
   ]
  },
  {
   "cell_type": "code",
   "execution_count": null,
   "metadata": {
    "colab": {
     "base_uri": "https://localhost:8080/"
    },
    "execution": {
     "iopub.execute_input": "2022-05-16T20:47:56.084902Z",
     "iopub.status.busy": "2022-05-16T20:47:56.084535Z",
     "iopub.status.idle": "2022-05-16T20:48:09.081607Z",
     "shell.execute_reply": "2022-05-16T20:48:09.080705Z",
     "shell.execute_reply.started": "2022-05-16T20:47:56.084867Z"
    },
    "id": "5qDz0BPFf-jl",
    "outputId": "1e777b8b-dc4a-44bd-e147-21c650f8817a"
   },
   "outputs": [],
   "source": [
    "!pip install pysummarization"
   ]
  },
  {
   "cell_type": "code",
   "execution_count": 118,
   "metadata": {
    "execution": {
     "iopub.execute_input": "2022-05-16T20:48:09.084383Z",
     "iopub.status.busy": "2022-05-16T20:48:09.084074Z",
     "iopub.status.idle": "2022-05-16T20:48:09.096682Z",
     "shell.execute_reply": "2022-05-16T20:48:09.095920Z",
     "shell.execute_reply.started": "2022-05-16T20:48:09.084343Z"
    },
    "id": "TAw0hjsof_et"
   },
   "outputs": [],
   "source": [
    "from pysummarization.nlpbase.auto_abstractor import AutoAbstractor\n",
    "from pysummarization.tokenizabledoc.simple_tokenizer import SimpleTokenizer\n",
    "from pysummarization.abstractabledoc.top_n_rank_abstractor import TopNRankAbstractor"
   ]
  },
  {
   "cell_type": "markdown",
   "metadata": {
    "id": "y9UPIA2AGtfp"
   },
   "source": [
    "### **B. Perform Summarization on One Data Sample:**\n",
    "Apply textranksummarizer to our test paragraph"
   ]
  },
  {
   "cell_type": "code",
   "execution_count": 112,
   "metadata": {
    "execution": {
     "iopub.execute_input": "2022-05-16T20:48:09.099008Z",
     "iopub.status.busy": "2022-05-16T20:48:09.098354Z",
     "iopub.status.idle": "2022-05-16T20:48:09.106037Z",
     "shell.execute_reply": "2022-05-16T20:48:09.105227Z",
     "shell.execute_reply.started": "2022-05-16T20:48:09.098968Z"
    },
    "id": "7smivL7wf_Zl"
   },
   "outputs": [],
   "source": [
    "auto_abstractor = AutoAbstractor()\n",
    "auto_abstractor.tokenizable_doc = SimpleTokenizer()\n",
    "auto_abstractor.delimiter_list = [\".\", \"\\n\"]\n",
    "abstractable_doc = TopNRankAbstractor()"
   ]
  },
  {
   "cell_type": "code",
   "execution_count": 113,
   "metadata": {
    "execution": {
     "iopub.execute_input": "2022-05-16T20:48:09.107870Z",
     "iopub.status.busy": "2022-05-16T20:48:09.107399Z",
     "iopub.status.idle": "2022-05-16T20:48:09.116666Z",
     "shell.execute_reply": "2022-05-16T20:48:09.115907Z",
     "shell.execute_reply.started": "2022-05-16T20:48:09.107830Z"
    },
    "id": "EMflK7tmf_T0"
   },
   "outputs": [],
   "source": [
    "summary = auto_abstractor.summarize(doc['article_text'].iloc[0], abstractable_doc)"
   ]
  },
  {
   "cell_type": "code",
   "execution_count": null,
   "metadata": {
    "colab": {
     "base_uri": "https://localhost:8080/"
    },
    "execution": {
     "iopub.execute_input": "2022-05-16T20:48:09.119871Z",
     "iopub.status.busy": "2022-05-16T20:48:09.119361Z",
     "iopub.status.idle": "2022-05-16T20:48:09.129325Z",
     "shell.execute_reply": "2022-05-16T20:48:09.128587Z",
     "shell.execute_reply.started": "2022-05-16T20:48:09.119839Z"
    },
    "id": "iw0WfjWkf_Nt",
    "outputId": "7e79b498-28e6-4bc9-8f31-713ed9dcefbc"
   },
   "outputs": [],
   "source": [
    "summary"
   ]
  },
  {
   "cell_type": "markdown",
   "metadata": {
    "id": "5kikK-1iK5zO"
   },
   "source": [
    "applying it to our document "
   ]
  },
  {
   "cell_type": "code",
   "execution_count": 115,
   "metadata": {
    "execution": {
     "iopub.execute_input": "2022-05-16T20:48:09.131207Z",
     "iopub.status.busy": "2022-05-16T20:48:09.130598Z",
     "iopub.status.idle": "2022-05-16T20:48:09.136048Z",
     "shell.execute_reply": "2022-05-16T20:48:09.135112Z",
     "shell.execute_reply.started": "2022-05-16T20:48:09.131169Z"
    },
    "id": "JlOcoaMSf_Ht"
   },
   "outputs": [],
   "source": [
    "best_sentences = ''\n",
    "for sentence in summary['summarize_result']:\n",
    "    best_sentences = best_sentences  + sentence"
   ]
  },
  {
   "cell_type": "code",
   "execution_count": 116,
   "metadata": {
    "colab": {
     "base_uri": "https://localhost:8080/"
    },
    "execution": {
     "iopub.execute_input": "2022-05-16T20:48:09.138382Z",
     "iopub.status.busy": "2022-05-16T20:48:09.137519Z",
     "iopub.status.idle": "2022-05-16T20:48:09.149308Z",
     "shell.execute_reply": "2022-05-16T20:48:09.148347Z",
     "shell.execute_reply.started": "2022-05-16T20:48:09.138346Z"
    },
    "id": "euxRiw9bJika",
    "outputId": "108133c3-33c2-42bb-a6a5-9e0159ca1d21"
   },
   "outputs": [
    {
     "name": "stdout",
     "output_type": "stream",
     "text": [
      "===============Summary=============================\n",
      " \u001b[94m Губернатор попросил не считать щебень полезным ископаемым Иначе налоги для его производителей вырастут в 15 раз Глава Карелии Артур Парфенчиков\n",
      "предложил вице-премьеру Андрею Белоусову изменить Налоговый кодекс, чтобы снизить нагрузку на производителей щебня.\u001b[0m \u001b[94mИм налоговики все чаще\n",
      "доначисляют НДПИ, что грозит ростом цен на стройматериалы Цены на необходимый в строительстве щебень могут вырасти, поскольку от производителей все\n",
      "чаще требуют заплатить налог на добычу полезных ископаемых (НДПИ), говорится в датированном 1 декабря письме главы Республики Карелия Артура\n",
      "Парфенчикова вице-премьеру Андрею Белоусову.\u001b[0m \u001b[94mКопия есть у РБК.\u001b[0m \u001b[94mПисьмо поступило в аппарат правительства и будет рассмотрено в\n",
      "установленном порядке, подтвердили в пресс-службе правительства.\u001b[0m \u001b[94mРБК направил запрос представителям Белоусова, Парфенчикова и Федеральной\n",
      "налоговой службы.\u001b[0m \u001b[94mРанее базой начисления НДПИ был строительный камень, из которого затем производится щебень, но в последнее время налоговики\n",
      "все чаще требуют пересчета налога, настаивая, что он должен начисляться на щебень.\u001b[0m \u001b[94mПо предварительной оценке, доначисление НДПИ на щебень\n",
      "увеличит налог в 3–15 раз, указывает Парфенчиков.\u001b[0m Это произойдет, поскольку щебень дороже строительного камня. Ставка НДПИ на добычу\n",
      "неметаллического сырья, используемого в основном в строительстве, к которому стали относить щебень, составляет 5,5%. Парфенчиков просит Белоусова дать\n",
      "поручение «соответствующим федеральным исполнительным органам государственной власти» проработать вопрос об изменении налогового законодательства и\n",
      "уточнить порядок налогообложения при добыче полезных ископаемых. Глава Карелии предлагает внести изменения с начала календарного года и не взыскивать\n",
      "налог за три предшествующих года. www.adv.rbc.ru Как налоговая изменила подход к щебню Объектом НДПИ в соответствии с Налоговым кодексом признают\n",
      "полезное ископаемое, добытое из недр в России, напоминает Артур Парфенчиков, отмечая, что порядок начисления НДПИ на строительный камень действовал 20\n",
      "лет. \u001b[94mТеперь же налоговые органы Карелии настаивают, что «первой продукцией добычи является не строительный камень, а щебень».\u001b[0m \u001b[94mЦены\n",
      "производителей на щебень в октябре 2021 года составляли, по информации Росстата, 586 руб.\u001b[0m за 1 куб. м (без учета налогов), что на 4% больше, чем в\n",
      "тот же месяц прошлого года. Средние цены, по которым строительные организации покупают щебень, выросли сильнее: по последним доступным данным за\n",
      "сентябрь, 1 куб. м щебня обошелся покупателям почти в 1,5 тыс. руб., на 10% больше, чем в сентябре 2020 года. Расценки на строительный камень Росстат\n",
      "не публикует. По словам вице-президента Национальной нерудной компании Сергея Глебова, щебень дороже строительного камня в пять-шесть раз. Для чего\n",
      "нужен щебень Чтобы получить щебень, производители дробят горные породы, например гранит или габбро-диабаз. Щебень используется для производства бетона\n",
      "и железобетона — он повышает прочность этих материалов. Также его используют для устройства дорожных покрытий и производства асфальтовых смесей. За\n",
      "девять месяцев 2021 года в стране было произведено, по подсчетам Росстата, почти 145 млн куб. м щебня, что на 0,5% меньше, чем годом ранее.\n",
      "Своеобразными пилотными регионами, в которых с 2019 года налоговые инспекции стали через суд требовать доначисления НДПИ на щебень, стали Челябинская\n",
      "и Свердловская области, указывает Глебов. По его словам, суды встают на сторону налоговиков, признавая щебень полезным ископаемым, а по мнению\n",
      "производителей, это все-таки предмет переработки камня. В 2021 году уральская практика распространилась на всю страну, продолжает Глебов.\n",
      "Соответствующие уведомления от налоговиков стали приходить уже по всей России. Гендиректор российского офиса LafargeHolcim Максим Гончаров заявил, что\n",
      "его компания также получила от налоговиков требования о пересчете НДПИ. Начисление НДПИ на щебень приведет к росту цен на него минимум на 10%,\n",
      "оценивает Гончаров. По мнению Глебова, материал может подорожать на 15–20% при доначислении налога за несколько предыдущих лет с учетом штрафов и\n",
      "пеней. Рост налога грозит увеличением долгов по зарплате, сокращением персонала, увеличением цен, снижением конкурентоспособности продукции и,\n",
      "соответственно, увеличением стоимости строительства дорог и домов, следует из письма главы Карелии. Возросшие налоги могут привести к банкротству\n",
      "предприятий и дефициту щебня, считает Гончаров. Примеры заявлений о банкротстве уже есть: из-за невыплаты пересчитанного НДПИ межрайонная инспекция\n",
      "ФНС России по Челябинской области подала заявление о банкротстве Биянковского щебеночного завода, который входит в Национальную нерудную компанию. В\n",
      "декабре стороны заключили мировое соглашение: завод обязался выплатить 127,7 млн руб., из которых сам налог составляет 79,7 млн руб., а остальная\n",
      "сумма складывается из пеней и штрафов. стройматериалы налоги щебень Строительство\n"
     ]
    }
   ],
   "source": [
    "hilight_summary(doc['article_text'].iloc[0],best_sentences)"
   ]
  },
  {
   "cell_type": "markdown",
   "metadata": {
    "id": "5PTC_KJcHJqK"
   },
   "source": [
    "### **C. Building a function to Perform Summarization on all data samples:**"
   ]
  },
  {
   "cell_type": "code",
   "execution_count": 101,
   "metadata": {
    "execution": {
     "iopub.execute_input": "2022-05-16T20:48:09.151651Z",
     "iopub.status.busy": "2022-05-16T20:48:09.150787Z",
     "iopub.status.idle": "2022-05-16T20:48:09.494661Z",
     "shell.execute_reply": "2022-05-16T20:48:09.493997Z",
     "shell.execute_reply.started": "2022-05-16T20:48:09.151612Z"
    },
    "id": "hcgQn9C8LG16"
   },
   "outputs": [],
   "source": [
    "pysummarization_list = []\n",
    "for article in df['article_text']:\n",
    "    summary = auto_abstractor.summarize(article, abstractable_doc)\n",
    "    best_sentences = ''\n",
    "    for sentence in summary['summarize_result']:\n",
    "        best_sentences = best_sentences  + sentence\n",
    "\n",
    "    pysummarization_list.append(best_sentences.strip())\n",
    "\n",
    "df['pysummarization_summary'] = pysummarization_list"
   ]
  },
  {
   "cell_type": "code",
   "execution_count": 102,
   "metadata": {
    "colab": {
     "base_uri": "https://localhost:8080/"
    },
    "execution": {
     "iopub.execute_input": "2022-05-16T20:48:09.496672Z",
     "iopub.status.busy": "2022-05-16T20:48:09.496280Z",
     "iopub.status.idle": "2022-05-16T20:48:09.510517Z",
     "shell.execute_reply": "2022-05-16T20:48:09.509879Z",
     "shell.execute_reply.started": "2022-05-16T20:48:09.496637Z"
    },
    "id": "RU8B2Nr5LyZl",
    "outputId": "8ce170df-3afb-4a80-c624-42fa244c5249"
   },
   "outputs": [
    {
     "name": "stdout",
     "output_type": "stream",
     "text": [
      "===============Summary=============================\n",
      "  Bloomberg узнал о закрытии «Ренессанс Капитала» в Лондоне и Нью-Йорке Инвестбанк Михаила Прохорова закроет отделения в Великобритании и США,\n",
      "сообщили источники Bloomberg. \u001b[94mПрохорову до сих пор удалось избежать попадания под санкции ЕС и США.\u001b[0m \u001b[94mВ компании РБК заявили, что речь\n",
      "идет о реструктуризации Российский инвестиционный банк «Ренессанс Капитал» (RenCap) закроет офис и исследовательский отдел в Нью-Йорке, сообщает\n",
      "Bloomberg со ссылкой на источники.\u001b[0m \u001b[94mПо словам собеседников агентства, которые просили не называть их имен, инвестбанк также может закрыть свой\n",
      "офис в Лондоне.\u001b[0m \u001b[94m«Речь идет о реструктуризации наших компаний Renaissance Capital Limited и RenCap Securities Inc в Лондоне и Нью-Йорке.\u001b[0m\n",
      "\u001b[94mЭто именно реструктуризация, не закрытие», — сообщил РБК представитель «Ренессанс Капитала».\u001b[0m www.adv.rbc.ru «Ренессанс Капитал» — один из\n",
      "старейших инвестиционных банков России, сейчас он на 100% принадлежит группе ОНЭКСИМ Михаила Прохорова и специализируется на рынках развивающихся\n",
      "стран. www.adv.rbc.ru Банк, как сообщал в декабре 2021 года «Коммерсантъ» со ссылкой на источники, был выставлен на продажу. По данным издания,\n",
      "обсуждалась его продажа вместе со страховой компанией «Согласие» (также принадлежит Михаилу Прохорову), однако окончательные параметры потенциальной\n",
      "сделки были неизвестны. В ОНЭКСИМе тогда говорили, что «информация о продаже не соответствует действительности». \u001b[94mНью-Йоркский офис «Ренессанс\n",
      "Капитала» был открыт в 1996 году, следует из данных на сайте компании.\u001b[0m Лицензию на проведение международных торговых операций в Лондоне инвестбанк\n",
      "получил в 1998 году. \u001b[94mСейчас у банка, помимо отделений в Москве, Лондоне и Нью-Йорке, есть зарубежные филиалы в Нигерии, Кении и ЮАР, в Каире и на\n",
      "Кипре.\u001b[0m Компания также занимается сделками на фондовых рынках ближневосточных стран — ОАЭ, Саудовской Аравии, Кувейта, Марокко, Омана и Туниса.\n",
      "\u001b[94m«Ренессанс Капитал» в последние годы активно диверсифицировал свой зарубежный бизнес, превратившись в специалиста по пограничным рынкам с большим\n",
      "присутствием в Африке, отмечает Bloomberg.\u001b[0m Компания оказывает целый спектр финансовых услуг на рынках долгового и акционерного капитала —\n",
      "выступает провайдером по размещению ценных бумаг на рынке, оказывает брокерские услуги, а также специализируется на сделках по слиянию и поглощениям\n",
      "компаний. С конца февраля западные страны начали вводить санкции против России. Персональные ограничительные меры затронули крупных российских\n",
      "бизнесменов, топ-менеджеров, чиновников и политиков. О санкциях в отношении миллиардера Михаила Прохорова не сообщалось. Он занимает 11-е место в\n",
      "рейтинге богатейших бизнесменов по версии Forbes, который оценил его состояние в $10,3 млрд.\n"
     ]
    }
   ],
   "source": [
    "sumdem = df.sample()\n",
    "# sumdem['Sumy_Text_Rank_Summarizer_Summary'].iloc[0]\n",
    "hilight_summary(sumdem['article_text'].iloc[0],sumdem['pysummarization_summary'].iloc[0])"
   ]
  },
  {
   "cell_type": "code",
   "execution_count": 103,
   "metadata": {
    "colab": {
     "base_uri": "https://localhost:8080/"
    },
    "id": "hFxthA7f7XFx",
    "outputId": "76f69d5b-597f-46d6-af53-cb000920e8b7"
   },
   "outputs": [
    {
     "name": "stdout",
     "output_type": "stream",
     "text": [
      "TFIDF\n",
      "===============Summary=============================\n",
      "  ЦБ предложил банкам возвращать украденные мошенниками деньги за 30 дней В каких случаях они должны будут это делать ЦБ готовит изменения в закон для\n",
      "улучшения ситуации с возвратом украденных у граждан средств. Поправки, в частности, ограничивают срок такого возврата для банков 30 днями. В 2021 году\n",
      "банки вернули меньше 7% похищенных денег Банк России планирует установить для кредитных организаций обязательный срок возврата украденных денежных\n",
      "средств. При установлении факта денежного перевода без согласия клиента банк должен будет вернуть ему деньги в течение 30 дней после получения\n",
      "соответствующего заявления, следует из поправок в 161-ФЗ «О национальной платежной системе», с которыми ознакомился РБК. \u001b[94mПодлинность документа\n",
      "подтвердил источник на платежном рынке.\u001b[0m Планы по введению обязательного срока для возврата подтвердил представитель ЦБ. «Действующим законом не\n",
      "предусмотрены сроки, в течение которых банки должны возмещать клиентам похищенные злоумышленниками средства. Банк России предлагает установить сроки\n",
      "такого возмещения. Это необходимо для соблюдения баланса интересов кредитных организаций и их клиентов», — сказал представитель ЦБ. Он добавил, что\n",
      "обсуждение этих мер с рынком продолжается, поэтому говорить о конкретных сроках пока преждевременно. Сейчас Банк России совместно с участниками рынка\n",
      "и экспертами разрабатывает механизм возврата гражданам средств, похищенных мошенниками, что потребует внесения изменений в отдельные статьи 161-ФЗ\n",
      "(ст. 8 и 9). «Изначально ЦБ предлагал установить срок возврата 2–3 дня, но банки были против, так как за это время невозможно проверить, действительно\n",
      "ли перевод мошеннический или клиент пытается обмануть банк. Сейчас время возврата зависит от суммы украденных средств. При больших объемах [срок]\n",
      "может достигать нескольких недель», — сказал РБК вице-президент Ассоциации банков России Алексей Войлуков. www.adv.rbc.ru www.adv.rbc.ru В каком\n",
      "случае банки должны будут вернуть деньги за 30 дней Банк отправителя должен вернуть полную сумму украденных средств в течение 30 дней после получения\n",
      "соответствующего заявления от клиента — физического лица в следующих случаях. Если банк не направил клиенту уведомление о совершении перевода и если\n",
      "он был совершен без согласия клиента. Если клиент потерял карту или ею воспользовались без его согласия, то банк должен вернуть средства при условии,\n",
      "что клиент уведомил об этих фактах. Если же клиент не предупредил банк о потере контроля над средством платежа, то он может не возмещать средства.\n",
      "Свежая версия разрабатываемых изменений в 161-ФЗ не содержит предложений определить обязательную для возврата сумму денежных средств. \u001b[94mОб этом\n",
      "механизме ранее писал РБК.\u001b[0m Предполагалось ввести упрощенный порядок возврата денежных средств физлицам — жертвам мошенников. Точную методологию\n",
      "расчета этой суммы ЦБ не раскрывал, отмечая лишь, что она могла бы быть подсчитана, «исходя из целевого возврата денежных средств гражданам в среднем\n",
      "в 80–90% всех случаев социальной инженерии». Еще одно пропавшее предложение — наделить банки правом блокировать на пять рабочих дней все расходные\n",
      "операции по счету получателя средств, информация о котором содержится в базе данных ЦБ о случаях и попытках осуществления переводов денежных средств\n",
      "без согласия клиента. «Основными предпосылками для внесения изменений в закон являются: наблюдаемая картина по доле возврата денежных средств\n",
      "клиентам, необходимость существенной модернизации механизма противодействия хищению денежных средств и возврата списанных со счетов клиентов денежных\n",
      "средств», — отмечал ранее директор департамента информационной безопасности ЦБ Вадим Уваров. По данным ЦБ, за 2021 год мошенники украли у банковских\n",
      "клиентов путем денежных переводов 13,5 млрд руб. При этом кредитные организации вернули всего лишь 920,5 млн руб., или 6,8%. Уровень возврата падает\n",
      "второй год подряд на фоне роста объема хищений. В 2020 году банки вернули клиентам 11,3%, или 1,1 млрд руб. В 2019-м — 14,6%, или 935,9 млн руб. До\n",
      "2019 года регулятор не раскрывал годовые данные по возвращенным денежным средствам. Поможет ли эта мера Предлагаемые поправки приведут к более\n",
      "оперативному выявлению операций, совершенных без согласия клиентов, и блокировке «счетов-дропов» (используемые мошенниками счета подставных лиц),\n",
      "считает представитель ВТБ. По его словам, в ВТБ средний срок ответа банка по возврату средств составляет три-четыре календарных дня. Сейчас 161-ФЗ\n",
      "устанавливает только срок рассмотрения заявки на возврат, обязательного срока возврата нет, говорит управляющий партнер санкт-петербургского офиса\n",
      "коллегии адвокатов Pen & Paper Алексей Добрынин. Срок рассмотрения претензии клиента составляет не более 30 дней для внутрироссийских операций и не\n",
      "более 60 дней для трансграничных переводов. «На практике, если операция признана мошеннической или клиент банка сам обратился с аналогичным\n",
      "заявлением, вернуть деньги, как правило, невозможно», — говорит юрист. Он объясняет это тем, что средства, поступившие на счет получателя денег, в\n",
      "основной своей массе сразу же обналичиваются. Добрынин считает, что улучшить ситуацию с возвратом украденных средств могла бы блокировка счета на пять\n",
      "дней, которой нет в последних изменениях в закон. По мнению представителя ВТБ, в первую очередь надо работать с причинами хищений средств, а не с их\n",
      "последствиями. «Банковское сообщество должно усилить меры борьбы с «дропперами» (лица, на карты которых переводятся украденные средства для их вывода.\n",
      "\u001b[94m— РБК), в том числе приостанавливая подозрительные операции.\u001b[0m Снизить мошенническую активность позволят контроль за движением средств и\n",
      "наделение банков полномочиями по их заморозке», — перечисляет он. Магазин исследований Аналитика по теме \"Банки\"\n",
      "=========================\n",
      "Luhn\n",
      "===============Summary=============================\n",
      "  ЦБ предложил банкам возвращать украденные мошенниками деньги за 30 дней В каких случаях они должны будут это делать ЦБ готовит изменения в закон для\n",
      "улучшения ситуации с возвратом украденных у граждан средств. Поправки, в частности, ограничивают срок такого возврата для банков 30 днями. В 2021 году\n",
      "банки вернули меньше 7% похищенных денег Банк России планирует установить для кредитных организаций обязательный срок возврата украденных денежных\n",
      "средств. При установлении факта денежного перевода без согласия клиента банк должен будет вернуть ему деньги в течение 30 дней после получения\n",
      "соответствующего заявления, следует из поправок в 161-ФЗ «О национальной платежной системе», с которыми ознакомился РБК. Подлинность документа\n",
      "подтвердил источник на платежном рынке. Планы по введению обязательного срока для возврата подтвердил представитель ЦБ. «Действующим законом не\n",
      "предусмотрены сроки, в течение которых банки должны возмещать клиентам похищенные злоумышленниками средства. Банк России предлагает установить сроки\n",
      "такого возмещения. Это необходимо для соблюдения баланса интересов кредитных организаций и их клиентов», — сказал представитель ЦБ. Он добавил, что\n",
      "обсуждение этих мер с рынком продолжается, поэтому говорить о конкретных сроках пока преждевременно. Сейчас Банк России совместно с участниками рынка\n",
      "и экспертами разрабатывает механизм возврата гражданам средств, похищенных мошенниками, что потребует внесения изменений в отдельные статьи 161-ФЗ\n",
      "(ст. 8 и 9). «Изначально ЦБ предлагал установить срок возврата 2–3 дня, но банки были против, так как за это время невозможно проверить, действительно\n",
      "ли перевод мошеннический или клиент пытается обмануть банк. Сейчас время возврата зависит от суммы украденных средств. При больших объемах [срок]\n",
      "может достигать нескольких недель», — сказал РБК вице-президент Ассоциации банков России Алексей Войлуков. www.adv.rbc.ru www.adv.rbc.ru В каком\n",
      "случае банки должны будут вернуть деньги за 30 дней Банк отправителя должен вернуть полную сумму украденных средств в течение 30 дней после получения\n",
      "соответствующего заявления от клиента — физического лица в следующих случаях. Если банк не направил клиенту уведомление о совершении перевода и если\n",
      "он был совершен без согласия клиента. Если клиент потерял карту или ею воспользовались без его согласия, то банк должен вернуть средства при условии,\n",
      "что клиент уведомил об этих фактах. Если же клиент не предупредил банк о потере контроля над средством платежа, то он может не возмещать средства.\n",
      "Свежая версия разрабатываемых изменений в 161-ФЗ не содержит предложений определить обязательную для возврата сумму денежных средств. Об этом\n",
      "механизме ранее писал РБК. Предполагалось ввести упрощенный порядок возврата денежных средств физлицам — жертвам мошенников. Точную методологию\n",
      "расчета этой суммы ЦБ не раскрывал, отмечая лишь, что она могла бы быть подсчитана, «исходя из целевого возврата денежных средств гражданам в среднем\n",
      "в 80–90% всех случаев социальной инженерии». Еще одно пропавшее предложение — наделить банки правом блокировать на пять рабочих дней все расходные\n",
      "операции по счету получателя средств, информация о котором содержится в базе данных ЦБ о случаях и попытках осуществления переводов денежных средств\n",
      "без согласия клиента. «Основными предпосылками для внесения изменений в закон являются: наблюдаемая картина по доле возврата денежных средств\n",
      "клиентам, необходимость существенной модернизации механизма противодействия хищению денежных средств и возврата списанных со счетов клиентов денежных\n",
      "средств», — отмечал ранее директор департамента информационной безопасности ЦБ Вадим Уваров. По данным ЦБ, за 2021 год мошенники украли у банковских\n",
      "клиентов путем денежных переводов 13,5 млрд руб. \u001b[94mПри этом кредитные организации вернули всего лишь 920,5 млн руб., или 6,8%.\u001b[0m \u001b[94mУровень\n",
      "возврата падает второй год подряд на фоне роста объема хищений.\u001b[0m \u001b[94mВ 2020 году банки вернули клиентам 11,3%, или 1,1 млрд руб.\u001b[0m \u001b[94mВ 2019-м\n",
      "— 14,6%, или 935,9 млн руб.\u001b[0m До 2019 года регулятор не раскрывал годовые данные по возвращенным денежным средствам. Поможет ли эта мера\n",
      "Предлагаемые поправки приведут к более оперативному выявлению операций, совершенных без согласия клиентов, и блокировке «счетов-дропов» (используемые\n",
      "мошенниками счета подставных лиц), считает представитель ВТБ. По его словам, в ВТБ средний срок ответа банка по возврату средств составляет три-четыре\n",
      "календарных дня. Сейчас 161-ФЗ устанавливает только срок рассмотрения заявки на возврат, обязательного срока возврата нет, говорит управляющий партнер\n",
      "санкт-петербургского офиса коллегии адвокатов Pen & Paper Алексей Добрынин. Срок рассмотрения претензии клиента составляет не более 30 дней для\n",
      "внутрироссийских операций и не более 60 дней для трансграничных переводов. «На практике, если операция признана мошеннической или клиент банка сам\n",
      "обратился с аналогичным заявлением, вернуть деньги, как правило, невозможно», — говорит юрист. Он объясняет это тем, что средства, поступившие на счет\n",
      "получателя денег, в основной своей массе сразу же обналичиваются. Добрынин считает, что улучшить ситуацию с возвратом украденных средств могла бы\n",
      "блокировка счета на пять дней, которой нет в последних изменениях в закон. По мнению представителя ВТБ, в первую очередь надо работать с причинами\n",
      "хищений средств, а не с их последствиями. «Банковское сообщество должно усилить меры борьбы с «дропперами» (лица, на карты которых переводятся\n",
      "украденные средства для их вывода. — РБК), в том числе приостанавливая подозрительные операции. Снизить мошенническую активность позволят контроль за\n",
      "движением средств и наделение банков полномочиями по их заморозке», — перечисляет он. Магазин исследований Аналитика по теме \"Банки\"\n",
      "pysummarization_summary\n",
      "===============Summary=============================\n",
      "  ЦБ предложил банкам возвращать украденные мошенниками деньги за 30 дней В каких случаях они должны будут это делать ЦБ готовит изменения в закон для\n",
      "улучшения ситуации с возвратом украденных у граждан средств. \u001b[94mПоправки, в частности, ограничивают срок такого возврата для банков 30 днями.\u001b[0m\n",
      "\u001b[94mВ 2021 году банки вернули меньше 7% похищенных денег Банк России планирует установить для кредитных организаций обязательный срок возврата\n",
      "украденных денежных средств.\u001b[0m \u001b[94mПри установлении факта денежного перевода без согласия клиента банк должен будет вернуть ему деньги в течение 30\n",
      "дней после получения соответствующего заявления, следует из поправок в 161-ФЗ «О национальной платежной системе», с которыми ознакомился РБК.\u001b[0m\n",
      "\u001b[94mПодлинность документа подтвердил источник на платежном рынке.\u001b[0m \u001b[94mПланы по введению обязательного срока для возврата подтвердил\n",
      "представитель ЦБ.\u001b[0m «Действующим законом не предусмотрены сроки, в течение которых банки должны возмещать клиентам похищенные злоумышленниками\n",
      "средства. \u001b[94mБанк России предлагает установить сроки такого возмещения.\u001b[0m Это необходимо для соблюдения баланса интересов кредитных организаций и\n",
      "их клиентов», — сказал представитель ЦБ. Он добавил, что обсуждение этих мер с рынком продолжается, поэтому говорить о конкретных сроках пока\n",
      "преждевременно. Сейчас Банк России совместно с участниками рынка и экспертами разрабатывает механизм возврата гражданам средств, похищенных\n",
      "мошенниками, что потребует внесения изменений в отдельные статьи 161-ФЗ (ст. 8 и 9). «Изначально ЦБ предлагал установить срок возврата 2–3 дня, но\n",
      "банки были против, так как за это время невозможно проверить, действительно ли перевод мошеннический или клиент пытается обмануть банк. Сейчас время\n",
      "возврата зависит от суммы украденных средств. При больших объемах [срок] может достигать нескольких недель», — сказал РБК вице-президент Ассоциации\n",
      "банков России Алексей Войлуков. www.adv.rbc.ru www.adv.rbc.ru В каком случае банки должны будут вернуть деньги за 30 дней Банк отправителя должен\n",
      "вернуть полную сумму украденных средств в течение 30 дней после получения соответствующего заявления от клиента — физического лица в следующих\n",
      "случаях. Если банк не направил клиенту уведомление о совершении перевода и если он был совершен без согласия клиента. Если клиент потерял карту или ею\n",
      "воспользовались без его согласия, то банк должен вернуть средства при условии, что клиент уведомил об этих фактах. Если же клиент не предупредил банк\n",
      "о потере контроля над средством платежа, то он может не возмещать средства. Свежая версия разрабатываемых изменений в 161-ФЗ не содержит предложений\n",
      "определить обязательную для возврата сумму денежных средств. Об этом механизме ранее писал РБК. Предполагалось ввести упрощенный порядок возврата\n",
      "денежных средств физлицам — жертвам мошенников. Точную методологию расчета этой суммы ЦБ не раскрывал, отмечая лишь, что она могла бы быть подсчитана,\n",
      "«исходя из целевого возврата денежных средств гражданам в среднем в 80–90% всех случаев социальной инженерии». Еще одно пропавшее предложение —\n",
      "наделить банки правом блокировать на пять рабочих дней все расходные операции по счету получателя средств, информация о котором содержится в базе\n",
      "данных ЦБ о случаях и попытках осуществления переводов денежных средств без согласия клиента. «Основными предпосылками для внесения изменений в закон\n",
      "являются: наблюдаемая картина по доле возврата денежных средств клиентам, необходимость существенной модернизации механизма противодействия хищению\n",
      "денежных средств и возврата списанных со счетов клиентов денежных средств», — отмечал ранее директор департамента информационной безопасности ЦБ Вадим\n",
      "Уваров. По данным ЦБ, за 2021 год мошенники украли у банковских клиентов путем денежных переводов 13,5 млрд руб. При этом кредитные организации\n",
      "вернули всего лишь 920,5 млн руб., или 6,8%. Уровень возврата падает второй год подряд на фоне роста объема хищений. \u001b[94mВ 2020 году банки вернули\n",
      "клиентам 11,3%, или 1,1 млрд руб.\u001b[0m В 2019-м — 14,6%, или 935,9 млн руб. До 2019 года регулятор не раскрывал годовые данные по возвращенным денежным\n",
      "средствам. Поможет ли эта мера Предлагаемые поправки приведут к более оперативному выявлению операций, совершенных без согласия клиентов, и блокировке\n",
      "«счетов-дропов» (используемые мошенниками счета подставных лиц), считает представитель ВТБ. По его словам, в ВТБ средний срок ответа банка по возврату\n",
      "средств составляет три-четыре календарных дня. \u001b[94mСейчас 161-ФЗ устанавливает только срок рассмотрения заявки на возврат, обязательного срока\n",
      "возврата нет, говорит управляющий партнер санкт-петербургского офиса коллегии адвокатов Pen & Paper Алексей Добрынин.\u001b[0m Срок рассмотрения претензии\n",
      "клиента составляет не более 30 дней для внутрироссийских операций и не более 60 дней для трансграничных переводов. «На практике, если операция\n",
      "признана мошеннической или клиент банка сам обратился с аналогичным заявлением, вернуть деньги, как правило, невозможно», — говорит юрист. Он\n",
      "объясняет это тем, что средства, поступившие на счет получателя денег, в основной своей массе сразу же обналичиваются. Добрынин считает, что улучшить\n",
      "ситуацию с возвратом украденных средств могла бы блокировка счета на пять дней, которой нет в последних изменениях в закон. По мнению представителя\n",
      "ВТБ, в первую очередь надо работать с причинами хищений средств, а не с их последствиями. «Банковское сообщество должно усилить меры борьбы с\n",
      "«дропперами» (лица, на карты которых переводятся украденные средства для их вывода. — РБК), в том числе приостанавливая подозрительные операции.\n",
      "Снизить мошенническую активность позволят контроль за движением средств и наделение банков полномочиями по их заморозке», — перечисляет он. Магазин\n",
      "исследований Аналитика по теме \"Банки\"\n",
      "=========================\n"
     ]
    }
   ],
   "source": [
    "sample_article3 = df.sample()\n",
    "print(\"TFIDF\")\n",
    "hilight_summary(sample_article3['article_text'].iloc[0],sample_article3['TF_IDF_Summary'].iloc[0])\n",
    "print(\"=========================\")\n",
    "print(\"Luhn\")\n",
    "hilight_summary(sample_article3['article_text'].iloc[0],sample_article3['Luhn_Summary'].iloc[0])\n",
    "print(\"pysummarization_summary\")\n",
    "hilight_summary(sample_article3['article_text'].iloc[0],sample_article3['pysummarization_summary'].iloc[0])\n",
    "print(\"=========================\")\n"
   ]
  },
  {
   "cell_type": "markdown",
   "metadata": {
    "id": "A-jEX6gwa5o8"
   },
   "source": [
    "## **6- Bidirectional Encoder Representations from Transformers (BERT)**\n",
    "As defined in the Wikipedia, __BERT__ is a transformer-based machine learning technique for natural language processing (NLP) pre-training developed by Google.\n",
    "Although, __BERT__ is not considered as part of the classical language models for text summarization. However, we will include a lighter implementation of it as a transition between this notebook and the advanced ones.\n",
    "\n",
    "- https://pypi.org/project/bert-extractive-summarizer/"
   ]
  },
  {
   "cell_type": "markdown",
   "metadata": {
    "id": "gGLKnSE5K5Xe"
   },
   "source": [
    "### **A. BERT Installation**"
   ]
  },
  {
   "cell_type": "code",
   "execution_count": null,
   "metadata": {
    "colab": {
     "base_uri": "https://localhost:8080/"
    },
    "execution": {
     "iopub.execute_input": "2022-05-16T20:48:09.511675Z",
     "iopub.status.busy": "2022-05-16T20:48:09.511451Z",
     "iopub.status.idle": "2022-05-16T20:48:25.453893Z",
     "shell.execute_reply": "2022-05-16T20:48:25.453023Z",
     "shell.execute_reply.started": "2022-05-16T20:48:09.511650Z"
    },
    "id": "CO27HZPA4E7k",
    "outputId": "bb67e2e7-54ed-417e-a4d5-502b0763fe9b"
   },
   "outputs": [],
   "source": [
    "!pip install bert-extractive-summarizer"
   ]
  },
  {
   "cell_type": "code",
   "execution_count": null,
   "metadata": {
    "colab": {
     "base_uri": "https://localhost:8080/"
    },
    "execution": {
     "iopub.execute_input": "2022-05-16T20:48:25.458019Z",
     "iopub.status.busy": "2022-05-16T20:48:25.457739Z",
     "iopub.status.idle": "2022-05-16T20:49:12.844310Z",
     "shell.execute_reply": "2022-05-16T20:49:12.843390Z",
     "shell.execute_reply.started": "2022-05-16T20:48:25.457985Z"
    },
    "id": "ddbWSH3K4Q5B",
    "outputId": "a092d740-4e30-4be3-8746-3ad1c32eae8a"
   },
   "outputs": [],
   "source": [
    "!pip install git+https://github.com/huggingface/transformers"
   ]
  },
  {
   "cell_type": "code",
   "execution_count": null,
   "metadata": {
    "colab": {
     "base_uri": "https://localhost:8080/"
    },
    "execution": {
     "iopub.execute_input": "2022-05-16T20:49:12.849100Z",
     "iopub.status.busy": "2022-05-16T20:49:12.848808Z",
     "iopub.status.idle": "2022-05-16T20:49:22.149480Z",
     "shell.execute_reply": "2022-05-16T20:49:22.148593Z",
     "shell.execute_reply.started": "2022-05-16T20:49:12.849060Z"
    },
    "id": "5y934kfzOXuB",
    "outputId": "89d8eb0a-4c40-44a5-f31e-fa0c07ec1107"
   },
   "outputs": [],
   "source": [
    "!pip install sacremoses"
   ]
  },
  {
   "cell_type": "markdown",
   "metadata": {
    "id": "E2Vzq5BWNo7a"
   },
   "source": [
    "### **B. Summarization on One Data Sample:**"
   ]
  },
  {
   "cell_type": "code",
   "execution_count": 121,
   "metadata": {
    "execution": {
     "iopub.execute_input": "2022-05-16T20:49:22.152337Z",
     "iopub.status.busy": "2022-05-16T20:49:22.152059Z",
     "iopub.status.idle": "2022-05-16T20:49:32.174651Z",
     "shell.execute_reply": "2022-05-16T20:49:32.173904Z",
     "shell.execute_reply.started": "2022-05-16T20:49:22.152299Z"
    },
    "id": "DfX7Qai54c1H"
   },
   "outputs": [],
   "source": [
    "from transformers import BigBirdTokenizer\n",
    "from summarizer import Summarizer"
   ]
  },
  {
   "cell_type": "code",
   "execution_count": null,
   "metadata": {
    "colab": {
     "base_uri": "https://localhost:8080/"
    },
    "execution": {
     "iopub.execute_input": "2022-05-16T20:49:32.176616Z",
     "iopub.status.busy": "2022-05-16T20:49:32.176328Z",
     "iopub.status.idle": "2022-05-16T20:51:56.198164Z",
     "shell.execute_reply": "2022-05-16T20:51:56.197310Z",
     "shell.execute_reply.started": "2022-05-16T20:49:32.176577Z"
    },
    "id": "D8edaH2w46fW",
    "outputId": "db763e87-c290-472c-e232-211091ee3371"
   },
   "outputs": [],
   "source": [
    "summarizer = Summarizer()"
   ]
  },
  {
   "cell_type": "code",
   "execution_count": 123,
   "metadata": {
    "execution": {
     "iopub.execute_input": "2022-05-16T20:51:56.201416Z",
     "iopub.status.busy": "2022-05-16T20:51:56.200865Z",
     "iopub.status.idle": "2022-05-16T20:51:57.326415Z",
     "shell.execute_reply": "2022-05-16T20:51:57.324982Z",
     "shell.execute_reply.started": "2022-05-16T20:51:56.201359Z"
    },
    "id": "MFv2B71sOuGn"
   },
   "outputs": [],
   "source": [
    "summary = summarizer(doc['article_text'].iloc[0])"
   ]
  },
  {
   "cell_type": "code",
   "execution_count": 124,
   "metadata": {
    "colab": {
     "base_uri": "https://localhost:8080/"
    },
    "execution": {
     "iopub.execute_input": "2022-05-16T20:51:57.328629Z",
     "iopub.status.busy": "2022-05-16T20:51:57.328305Z",
     "iopub.status.idle": "2022-05-16T20:51:57.348174Z",
     "shell.execute_reply": "2022-05-16T20:51:57.347422Z",
     "shell.execute_reply.started": "2022-05-16T20:51:57.328586Z"
    },
    "id": "5Bos0vBfeTRf",
    "outputId": "f396720c-5447-4675-cd15-983e433e9c1b"
   },
   "outputs": [
    {
     "name": "stdout",
     "output_type": "stream",
     "text": [
      "===============Summary=============================\n",
      "  Губернатор попросил не считать щебень полезным ископаемым Иначе налоги для его производителей вырастут в 15 раз Глава Карелии Артур Парфенчиков\n",
      "предложил вице-премьеру Андрею Белоусову изменить Налоговый кодекс, чтобы снизить нагрузку на производителей щебня. Им налоговики все чаще доначисляют\n",
      "НДПИ, что грозит ростом цен на стройматериалы Цены на необходимый в строительстве щебень могут вырасти, поскольку от производителей все чаще требуют\n",
      "заплатить налог на добычу полезных ископаемых (НДПИ), говорится в датированном 1 декабря письме главы Республики Карелия Артура Парфенчикова вице-\n",
      "премьеру Андрею Белоусову. Копия есть у РБК. Письмо поступило в аппарат правительства и будет рассмотрено в установленном порядке, подтвердили в\n",
      "пресс-службе правительства. РБК направил запрос представителям Белоусова, Парфенчикова и Федеральной налоговой службы. \u001b[94mРанее базой начисления\n",
      "НДПИ был строительный камень, из которого затем производится щебень, но в последнее время налоговики все чаще требуют пересчета налога, настаивая, что\n",
      "он должен начисляться на щебень.\u001b[0m По предварительной оценке, доначисление НДПИ на щебень увеличит налог в 3–15 раз, указывает Парфенчиков. \u001b[94mЭто\n",
      "произойдет, поскольку щебень дороже строительного камня.\u001b[0m Ставка НДПИ на добычу неметаллического сырья, используемого в основном в строительстве, к\n",
      "которому стали относить щебень, составляет 5,5%. Парфенчиков просит Белоусова дать поручение «соответствующим федеральным исполнительным органам\n",
      "государственной власти» проработать вопрос об изменении налогового законодательства и уточнить порядок налогообложения при добыче полезных ископаемых.\n",
      "Глава Карелии предлагает внести изменения с начала календарного года и не взыскивать налог за три предшествующих года. www.adv.rbc.ru Как налоговая\n",
      "изменила подход к щебню Объектом НДПИ в соответствии с Налоговым кодексом признают полезное ископаемое, добытое из недр в России, напоминает Артур\n",
      "Парфенчиков, отмечая, что порядок начисления НДПИ на строительный камень действовал 20 лет. Теперь же налоговые органы Карелии настаивают, что «первой\n",
      "продукцией добычи является не строительный камень, а щебень». Цены производителей на щебень в октябре 2021 года составляли, по информации Росстата,\n",
      "586 руб. за 1 куб. м (без учета налогов), что на 4% больше, чем в тот же месяц прошлого года. Средние цены, по которым строительные организации\n",
      "покупают щебень, выросли сильнее: по последним доступным данным за сентябрь, 1 куб. м щебня обошелся покупателям почти в 1,5 тыс. руб., на 10% больше,\n",
      "чем в сентябре 2020 года. Расценки на строительный камень Росстат не публикует. По словам вице-президента Национальной нерудной компании Сергея\n",
      "Глебова, щебень дороже строительного камня в пять-шесть раз. Для чего нужен щебень Чтобы получить щебень, производители дробят горные породы, например\n",
      "гранит или габбро-диабаз. Щебень используется для производства бетона и железобетона — он повышает прочность этих материалов. Также его используют для\n",
      "устройства дорожных покрытий и производства асфальтовых смесей. За девять месяцев 2021 года в стране было произведено, по подсчетам Росстата, почти\n",
      "145 млн куб. \u001b[94mм щебня, что на 0,5% меньше, чем годом ранее.\u001b[0m Своеобразными пилотными регионами, в которых с 2019 года налоговые инспекции стали\n",
      "через суд требовать доначисления НДПИ на щебень, стали Челябинская и Свердловская области, указывает Глебов. По его словам, суды встают на сторону\n",
      "налоговиков, признавая щебень полезным ископаемым, а по мнению производителей, это все-таки предмет переработки камня. В 2021 году уральская практика\n",
      "распространилась на всю страну, продолжает Глебов. Соответствующие уведомления от налоговиков стали приходить уже по всей России. \u001b[94mГендиректор\n",
      "российского офиса LafargeHolcim Максим Гончаров заявил, что его компания также получила от налоговиков требования о пересчете НДПИ.\u001b[0m Начисление\n",
      "НДПИ на щебень приведет к росту цен на него минимум на 10%, оценивает Гончаров. \u001b[94mПо мнению Глебова, материал может подорожать на 15–20% при\n",
      "доначислении налога за несколько предыдущих лет с учетом штрафов и пеней.\u001b[0m Рост налога грозит увеличением долгов по зарплате, сокращением\n",
      "персонала, увеличением цен, снижением конкурентоспособности продукции и, соответственно, увеличением стоимости строительства дорог и домов, следует из\n",
      "письма главы Карелии. \u001b[94mВозросшие налоги могут привести к банкротству предприятий и дефициту щебня, считает Гончаров.\u001b[0m Примеры заявлений о\n",
      "банкротстве уже есть: из-за невыплаты пересчитанного НДПИ межрайонная инспекция ФНС России по Челябинской области подала заявление о банкротстве\n",
      "Биянковского щебеночного завода, который входит в Национальную нерудную компанию. В декабре стороны заключили мировое соглашение: завод обязался\n",
      "выплатить 127,7 млн руб., из которых сам налог составляет 79,7 млн руб., а остальная сумма складывается из пеней и штрафов. \u001b[94mстройматериалы налоги\n",
      "щебень Строительство\u001b[0m\n"
     ]
    }
   ],
   "source": [
    "hilight_summary(doc['article_text'].iloc[0],summary)"
   ]
  },
  {
   "cell_type": "code",
   "execution_count": 5,
   "metadata": {
    "id": "PSNgLgtWVlZx"
   },
   "outputs": [],
   "source": [
    "df = pd.read_pickle('../outputs/pickles/extractive_summarization.pkl')"
   ]
  },
  {
   "cell_type": "code",
   "execution_count": 31,
   "metadata": {},
   "outputs": [
    {
     "name": "stdout",
     "output_type": "stream",
     "text": [
      "==================================================\n",
      "\n",
      "\n",
      "TFIDF\n",
      "===============Summary=============================\n",
      "  Путин отменил требование к экспортерам продавать 50% валютной выручки Теперь долю обязательной продажи валютной выручки будет устанавливать\n",
      "правительственная комиссия Доллар/Рубль USD/RUB ₽59,350 -0,08% Купить Евро/Рубль EUR/RUB ₽63,300 -0,46% Купить Президент Владимир Путин отменил\n",
      "требование об обязательной продаже 50% экспортной выручки в иностранной валюте. \u001b[94mУказ опубликован на портале правовой информации.\u001b[0m Само\n",
      "требование для экспортеров по продаже выручки осталось, но ее размер теперь будет определять правкомиссия по контролю за осуществлением иностранных\n",
      "инвестиций. \u001b[94mСрок установит совет директоров ЦБ.\u001b[0m www.adv.rbc.ru С 28 февраля экспортеров обязали продавать 80% валютной выручки в рамках всех\n",
      "внешнеторговых договоров в течение трех рабочих дней со дня ее поступления. \u001b[94mМера должна была в том числе поддержать рубль.\u001b[0m Она начала\n",
      "действовать вскоре после введения западных санкций и заморозки золотовалютных резервов за рубежом, последовавших в ответ на российскую военную\n",
      "спецоперацию на Украине. www.adv.rbc.ru В апреле срок продажи выручки для экспортеров несырьевого неэнергетического сектора увеличили с трех до 60\n",
      "рабочих дней. \u001b[94mРегулятор также разрешил им продавать валюту на счета своих уполномоченных банков.\u001b[0m Затем время, за которое экспортеры должны\n",
      "продать часть своей валютной выручки, выросло до 120 рабочих дней. \u001b[94mВ конце мая также была снижена с 80 до 50% доля обязательной продажи валютной\n",
      "выручки экспортерами.\u001b[0m Свое решение Минфин объяснил стабилизацией курса рубля и «достижением достаточного уровня ликвидности в иностранной валюте\n",
      "на внутреннем валютном рынке».\n",
      "==================================================\n",
      "\n",
      "\n",
      "==================================================\n",
      "Luhn\n",
      "===============Summary=============================\n",
      " \u001b[94m Путин отменил требование к экспортерам продавать 50% валютной выручки Теперь долю обязательной продажи валютной выручки будет устанавливать\n",
      "правительственная комиссия Доллар/Рубль USD/RUB ₽59,350 -0,08% Купить Евро/Рубль EUR/RUB ₽63,300 -0,46% Купить Президент Владимир Путин отменил\n",
      "требование об обязательной продаже 50% экспортной выручки в иностранной валюте.\u001b[0m Указ опубликован на портале правовой информации. \u001b[94mСамо\n",
      "требование для экспортеров по продаже выручки осталось, но ее размер теперь будет определять правкомиссия по контролю за осуществлением иностранных\n",
      "инвестиций.\u001b[0m Срок установит совет директоров ЦБ. www.adv.rbc.ru С 28 февраля экспортеров обязали продавать 80% валютной выручки в рамках всех\n",
      "внешнеторговых договоров в течение трех рабочих дней со дня ее поступления. \u001b[94mМера должна была в том числе поддержать рубль.\u001b[0m \u001b[94mОна начала\n",
      "действовать вскоре после введения западных санкций и заморозки золотовалютных резервов за рубежом, последовавших в ответ на российскую военную\n",
      "спецоперацию на Украине.\u001b[0m www.adv.rbc.ru В апреле срок продажи выручки для экспортеров несырьевого неэнергетического сектора увеличили с трех до 60\n",
      "рабочих дней. Регулятор также разрешил им продавать валюту на счета своих уполномоченных банков. Затем время, за которое экспортеры должны продать\n",
      "часть своей валютной выручки, выросло до 120 рабочих дней. В конце мая также была снижена с 80 до 50% доля обязательной продажи валютной выручки\n",
      "экспортерами. Свое решение Минфин объяснил стабилизацией курса рубля и «достижением достаточного уровня ликвидности в иностранной валюте на внутреннем\n",
      "валютном рынке».\n",
      "\n",
      "\n",
      "==================================================\n",
      "pysummarization_summary\n",
      "===============Summary=============================\n",
      "  Путин отменил требование к экспортерам продавать 50% валютной выручки Теперь долю обязательной продажи валютной выручки будет устанавливать\n",
      "правительственная комиссия Доллар/Рубль USD/RUB ₽59,350 -0,08% Купить Евро/Рубль EUR/RUB ₽63,300 -0,46% Купить Президент Владимир Путин отменил\n",
      "требование об обязательной продаже 50% экспортной выручки в иностранной валюте. \u001b[94mУказ опубликован на портале правовой информации.\u001b[0m \u001b[94mСамо\n",
      "требование для экспортеров по продаже выручки осталось, но ее размер теперь будет определять правкомиссия по контролю за осуществлением иностранных\n",
      "инвестиций.\u001b[0m \u001b[94mСрок установит совет директоров ЦБ.\u001b[0m www.adv.rbc.ru С 28 февраля экспортеров обязали продавать 80% валютной выручки в рамках\n",
      "всех внешнеторговых договоров в течение трех рабочих дней со дня ее поступления. \u001b[94mМера должна была в том числе поддержать рубль.\u001b[0m \u001b[94mОна\n",
      "начала действовать вскоре после введения западных санкций и заморозки золотовалютных резервов за рубежом, последовавших в ответ на российскую военную\n",
      "спецоперацию на Украине.\u001b[0m www.adv.rbc.ru В апреле срок продажи выручки для экспортеров несырьевого неэнергетического сектора увеличили с трех до 60\n",
      "рабочих дней. Регулятор также разрешил им продавать валюту на счета своих уполномоченных банков. Затем время, за которое экспортеры должны продать\n",
      "часть своей валютной выручки, выросло до 120 рабочих дней. \u001b[94mВ конце мая также была снижена с 80 до 50% доля обязательной продажи валютной выручки\n",
      "экспортерами.\u001b[0m \u001b[94mСвое решение Минфин объяснил стабилизацией курса рубля и «достижением достаточного уровня ликвидности в иностранной валюте на\n",
      "внутреннем валютном рынке».\u001b[0m\n",
      "==================================================\n"
     ]
    }
   ],
   "source": [
    "print(\"=\"*50)\n",
    "print('\\n')\n",
    "print(\"TFIDF\")\n",
    "hilight_summary(sample_article3['body'].iloc[0],sample_article3['TF_IDF_Summary'].iloc[0])\n",
    "print(\"=\"*50)\n",
    "print('\\n')\n",
    "print(\"=\"*50)\n",
    "print(\"Luhn\")\n",
    "hilight_summary(sample_article3['body'].iloc[0],sample_article3['Luhn_Summary'].iloc[0])\n",
    "print('\\n')\n",
    "print(\"=\"*50)\n",
    "print(\"pysummarization_summary\")\n",
    "hilight_summary(sample_article3['body'].iloc[0],sample_article3['pysummarization_summary'].iloc[0])\n",
    "print(\"=\"*50)"
   ]
  },
  {
   "cell_type": "code",
   "execution_count": 14,
   "metadata": {},
   "outputs": [],
   "source": [
    "sample_article3 = df.sample()"
   ]
  },
  {
   "cell_type": "code",
   "execution_count": 35,
   "metadata": {},
   "outputs": [
    {
     "name": "stdout",
     "output_type": "stream",
     "text": [
      "['Срок установит совет директоров ЦБ. Указ опубликован на портале правовой информации. Мера должна была в том числе поддержать рубль. Регулятор также разрешил им продавать валюту на счета своих уполномоченных банков. В конце мая также была снижена с 80 до 50% доля обязательной продажи валютной выручки экспортерами. ']\n"
     ]
    }
   ],
   "source": [
    "print(list(sample_article3['TF_IDF_Summary']))"
   ]
  },
  {
   "cell_type": "code",
   "execution_count": 37,
   "metadata": {},
   "outputs": [
    {
     "name": "stdout",
     "output_type": "stream",
     "text": [
      "[' Путин отменил требование к экспортерам продавать 50% валютной выручки Теперь долю обязательной продажи валютной выручки будет устанавливать правительственная комиссия Доллар/Рубль USD/RUB ₽59,350 -0,08% Купить Евро/Рубль EUR/RUB ₽63,300 -0,46% Купить Президент Владимир Путин отменил требование об обязательной продаже 50% экспортной выручки в иностранной валюте. Она начала действовать вскоре после введения западных санкций и заморозки золотовалютных резервов за рубежом, последовавших в ответ на российскую военную спецоперацию на Украине. Мера должна была в том числе поддержать рубль. Само требование для экспортеров по продаже выручки осталось, но ее размер теперь будет определять правкомиссия по контролю за осуществлением иностранных инвестиций. ']\n"
     ]
    }
   ],
   "source": [
    "print(list(sample_article3['Luhn_Summary']))"
   ]
  },
  {
   "cell_type": "code",
   "execution_count": 38,
   "metadata": {},
   "outputs": [
    {
     "name": "stdout",
     "output_type": "stream",
     "text": [
      "['Путин отменил требование к экспортерам продавать 50% валютной выручки Теперь долю обязательной продажи валютной выручки будет устанавливать правительственная комиссия Доллар/Рубль USD/RUB ₽59,350 -0,08% Купить Евро/Рубль EUR/RUB ₽63,300 -0,46% Купить Президент Владимир Путин отменил требование об обязательной продаже 50% экспортной выручки в иностранной валюте.\\n Указ опубликован на портале правовой информации.\\n Само требование для экспортеров по продаже выручки осталось, но ее размер теперь будет определять правкомиссия по контролю за осуществлением иностранных инвестиций.\\n Срок установит совет директоров ЦБ.\\nru С 28 февраля экспортеров обязали продавать 80% валютной выручки в рамках всех внешнеторговых договоров в течение трех рабочих дней со дня ее поступления.\\n Мера должна была в том числе поддержать рубль.\\n Она начала действовать вскоре после введения западных санкций и заморозки золотовалютных резервов за рубежом, последовавших в ответ на российскую военную спецоперацию на Украине.\\nru В апреле срок продажи выручки для экспортеров несырьевого неэнергетического сектора увеличили с трех до 60 рабочих дней.\\n В конце мая также была снижена с 80 до 50% доля обязательной продажи валютной выручки экспортерами.\\n Свое решение Минфин объяснил стабилизацией курса рубля и «достижением достаточного уровня ликвидности в иностранной валюте на внутреннем валютном рынке».']\n"
     ]
    }
   ],
   "source": [
    "print(list(sample_article3['pysummarization_summary']))"
   ]
  },
  {
   "cell_type": "code",
   "execution_count": 41,
   "metadata": {},
   "outputs": [
    {
     "name": "stdout",
     "output_type": "stream",
     "text": [
      "['www.adv.rbc.ru В апреле срок продажи выручки для экспортеров несырьевого неэнергетического сектора увеличили с трех до 60 рабочих дней. Регулятор также разрешил им продавать валюту на счета своих уполномоченных банков. Затем время, за которое экспортеры должны продать часть своей валютной выручки, выросло до 120 рабочих дней. В конце мая также была снижена с 80 до 50% доля обязательной продажи валютной выручки экспортерами. Свое решение Минфин объяснил стабилизацией курса рубля и «достижением достаточного уровня ликвидности в иностранной валюте на внутреннем валютном рынке».']\n"
     ]
    }
   ],
   "source": [
    "print(list(sample_article3['LSA_Summarizer_Summary']))"
   ]
  },
  {
   "cell_type": "code",
   "execution_count": null,
   "metadata": {},
   "outputs": [],
   "source": [
    "print(list(sample_article3['LSA_Summarizer_Summary']))"
   ]
  },
  {
   "cell_type": "code",
   "execution_count": 39,
   "metadata": {},
   "outputs": [
    {
     "data": {
      "text/html": [
       "<div>\n",
       "<style scoped>\n",
       "    .dataframe tbody tr th:only-of-type {\n",
       "        vertical-align: middle;\n",
       "    }\n",
       "\n",
       "    .dataframe tbody tr th {\n",
       "        vertical-align: top;\n",
       "    }\n",
       "\n",
       "    .dataframe thead th {\n",
       "        text-align: right;\n",
       "    }\n",
       "</style>\n",
       "<table border=\"1\" class=\"dataframe\">\n",
       "  <thead>\n",
       "    <tr style=\"text-align: right;\">\n",
       "      <th></th>\n",
       "      <th>overview</th>\n",
       "      <th>headline</th>\n",
       "      <th>body</th>\n",
       "      <th>category</th>\n",
       "      <th>tags</th>\n",
       "      <th>TF_IDF_Summary</th>\n",
       "      <th>Luhn_Summary</th>\n",
       "      <th>Sumy_Text_Rank_Summarizer_Summary</th>\n",
       "      <th>LSA_Summarizer_Summary</th>\n",
       "      <th>pysummarization_summary</th>\n",
       "    </tr>\n",
       "  </thead>\n",
       "  <tbody>\n",
       "    <tr>\n",
       "      <th>8a05a4288503baf97b9590149da0f22a</th>\n",
       "      <td>Теперь долю обязательной продажи валютной выру...</td>\n",
       "      <td>Путин отменил требование к экспортерам продава...</td>\n",
       "      <td>Путин отменил требование к экспортерам продав...</td>\n",
       "      <td>economics</td>\n",
       "      <td>[Владимир Путин, валютная выручка, экспортеры]</td>\n",
       "      <td>Срок установит совет директоров ЦБ. Указ опубл...</td>\n",
       "      <td>Путин отменил требование к экспортерам продав...</td>\n",
       "      <td>Путин отменил требование к экспортерам продава...</td>\n",
       "      <td>www.adv.rbc.ru В апреле срок продажи выручки д...</td>\n",
       "      <td>Путин отменил требование к экспортерам продава...</td>\n",
       "    </tr>\n",
       "  </tbody>\n",
       "</table>\n",
       "</div>"
      ],
      "text/plain": [
       "                                                                           overview  \\\n",
       "8a05a4288503baf97b9590149da0f22a  Теперь долю обязательной продажи валютной выру...   \n",
       "\n",
       "                                                                           headline  \\\n",
       "8a05a4288503baf97b9590149da0f22a  Путин отменил требование к экспортерам продава...   \n",
       "\n",
       "                                                                               body  \\\n",
       "8a05a4288503baf97b9590149da0f22a   Путин отменил требование к экспортерам продав...   \n",
       "\n",
       "                                   category  \\\n",
       "8a05a4288503baf97b9590149da0f22a  economics   \n",
       "\n",
       "                                                                            tags  \\\n",
       "8a05a4288503baf97b9590149da0f22a  [Владимир Путин, валютная выручка, экспортеры]   \n",
       "\n",
       "                                                                     TF_IDF_Summary  \\\n",
       "8a05a4288503baf97b9590149da0f22a  Срок установит совет директоров ЦБ. Указ опубл...   \n",
       "\n",
       "                                                                       Luhn_Summary  \\\n",
       "8a05a4288503baf97b9590149da0f22a   Путин отменил требование к экспортерам продав...   \n",
       "\n",
       "                                                  Sumy_Text_Rank_Summarizer_Summary  \\\n",
       "8a05a4288503baf97b9590149da0f22a  Путин отменил требование к экспортерам продава...   \n",
       "\n",
       "                                                             LSA_Summarizer_Summary  \\\n",
       "8a05a4288503baf97b9590149da0f22a  www.adv.rbc.ru В апреле срок продажи выручки д...   \n",
       "\n",
       "                                                            pysummarization_summary  \n",
       "8a05a4288503baf97b9590149da0f22a  Путин отменил требование к экспортерам продава...  "
      ]
     },
     "execution_count": 39,
     "metadata": {},
     "output_type": "execute_result"
    }
   ],
   "source": [
    "sample_article3"
   ]
  },
  {
   "cell_type": "code",
   "execution_count": null,
   "metadata": {},
   "outputs": [],
   "source": []
  }
 ],
 "metadata": {
  "accelerator": "GPU",
  "colab": {
   "collapsed_sections": [
    "e1Pk9gRArrHm",
    "xCzKb6oisBYG",
    "MiURj-Y2qGw5",
    "G1abJKnC-eCL",
    "mMR3pQU3GwKM",
    "gVPxUYuyGibe",
    "y9UPIA2AGtfp",
    "5PTC_KJcHJqK",
    "gGLKnSE5K5Xe",
    "E2Vzq5BWNo7a"
   ],
   "name": "extractive_summarization.ipynb",
   "provenance": []
  },
  "gpuClass": "standard",
  "kernelspec": {
   "display_name": "Python 3 (ipykernel)",
   "language": "python",
   "name": "python3"
  },
  "language_info": {
   "codemirror_mode": {
    "name": "ipython",
    "version": 3
   },
   "file_extension": ".py",
   "mimetype": "text/x-python",
   "name": "python",
   "nbconvert_exporter": "python",
   "pygments_lexer": "ipython3",
   "version": "3.7.6"
  }
 },
 "nbformat": 4,
 "nbformat_minor": 4
}
