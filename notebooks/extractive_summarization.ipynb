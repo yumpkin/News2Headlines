{
 "cells": [
  {
   "cell_type": "markdown",
   "metadata": {
    "id": "GQFFcy1uGq0I"
   },
   "source": [
    "# **Introduction to Text Summarization**:\n",
    "**There are two major types of text summarization**:\n",
    "  -\tExtractive: summaries consist of text from the original document.   Extractive summaries are relatively easy to achieve. The whole concept is to find the relevant parts of the input text. \n",
    "  \n",
    "  -\tAbstractive: summaries can contain novel sequences of text not necessarily taken from the original text. Abstractive summaries are harder to achieve, even generating a very simple text is quite a challenge.\n",
    "\n",
    "\n",
    "* This notebook is dedicated for covering different techniques of Extractive summarization."
   ]
  },
  {
   "cell_type": "code",
   "execution_count": 7,
   "metadata": {
    "execution": {
     "iopub.execute_input": "2022-05-16T20:47:08.201632Z",
     "iopub.status.busy": "2022-05-16T20:47:08.201091Z",
     "iopub.status.idle": "2022-05-16T20:47:08.206837Z",
     "shell.execute_reply": "2022-05-16T20:47:08.206132Z",
     "shell.execute_reply.started": "2022-05-16T20:47:08.201594Z"
    },
    "id": "mL8yjyrfyYMJ"
   },
   "outputs": [],
   "source": [
    "import pandas as pd\n",
    "from IPython.core.display import HTML\n",
    "import numpy as np\n",
    "import textwrap\n",
    "import nltk\n",
    "import re\n",
    "import string\n",
    "import heapq\n",
    "from nltk.corpus import stopwords\n",
    "from nltk import word_tokenize\n",
    "from nltk.stem import WordNetLemmatizer, PorterStemmer\n",
    "#from google.colab import data_table\n",
    "\n",
    "import networkx as nx\n",
    "from nltk.cluster.util import cosine_distance\n",
    "\n",
    "#data_table.enable_dataframe_formatter()\n",
    "\n",
    "# import pandas as pd\n",
    "# import io\n",
    "# import numpy as np\n",
    "# import textwrap\n",
    "# import nltk\n",
    "# from nltk.corpus import stopwords\n",
    "# from nltk import word_tokenize\n",
    "# from nltk.stem import WordNetLemmatizer, PorterStemmer\n",
    "# from google.colab import data_table\n",
    "# data_table.enable_dataframe_formatter()"
   ]
  },
  {
   "cell_type": "code",
   "execution_count": 8,
   "metadata": {
    "execution": {
     "iopub.execute_input": "2022-05-16T20:47:08.231967Z",
     "iopub.status.busy": "2022-05-16T20:47:08.231456Z",
     "iopub.status.idle": "2022-05-16T20:47:08.235033Z",
     "shell.execute_reply": "2022-05-16T20:47:08.234090Z",
     "shell.execute_reply.started": "2022-05-16T20:47:08.231941Z"
    },
    "id": "h1EPiAuRI3lp"
   },
   "outputs": [],
   "source": [
    "# from google.colab import drive\n",
    "# drive.mount('drive')"
   ]
  },
  {
   "cell_type": "code",
   "execution_count": 9,
   "metadata": {
    "colab": {
     "base_uri": "https://localhost:8080/",
     "height": 337
    },
    "execution": {
     "iopub.execute_input": "2022-05-16T20:47:08.247682Z",
     "iopub.status.busy": "2022-05-16T20:47:08.247382Z",
     "iopub.status.idle": "2022-05-16T20:47:09.808972Z",
     "shell.execute_reply": "2022-05-16T20:47:09.808256Z",
     "shell.execute_reply.started": "2022-05-16T20:47:08.247655Z"
    },
    "id": "aT4SyeQVJh1H",
    "outputId": "9b277cf8-1a9f-46da-d65a-9c9f9667ab8e"
   },
   "outputs": [
    {
     "data": {
      "text/html": [
       "\n",
       "  <div id=\"df-c8a99761-2914-4cc4-b9a8-514a962651a2\">\n",
       "    <div class=\"colab-df-container\">\n",
       "      <div>\n",
       "<style scoped>\n",
       "    .dataframe tbody tr th:only-of-type {\n",
       "        vertical-align: middle;\n",
       "    }\n",
       "\n",
       "    .dataframe tbody tr th {\n",
       "        vertical-align: top;\n",
       "    }\n",
       "\n",
       "    .dataframe thead th {\n",
       "        text-align: right;\n",
       "    }\n",
       "</style>\n",
       "<table border=\"1\" class=\"dataframe\">\n",
       "  <thead>\n",
       "    <tr style=\"text-align: right;\">\n",
       "      <th></th>\n",
       "      <th>overview</th>\n",
       "      <th>headline</th>\n",
       "      <th>body</th>\n",
       "      <th>category</th>\n",
       "      <th>tags</th>\n",
       "    </tr>\n",
       "  </thead>\n",
       "  <tbody>\n",
       "    <tr>\n",
       "      <th>78d8b9491b72c4e0d0add8f77fa5cc90</th>\n",
       "      <td>РНПК стала ключевым перестраховщиком российски...</td>\n",
       "      <td>Reuters назвал нового главного перестраховщика...</td>\n",
       "      <td>Reuters назвал нового главного перестраховщик...</td>\n",
       "      <td>economics</td>\n",
       "      <td>[страхование, страховщики, суда, нефть, эмбарг...</td>\n",
       "    </tr>\n",
       "    <tr>\n",
       "      <th>16449d4a36b1db5e87183cb407a54552</th>\n",
       "      <td>Минстрой разработал план по увеличению использ...</td>\n",
       "      <td>Власти предложили строить дома и школы по техн...</td>\n",
       "      <td>Власти предложили строить дома и школы по тех...</td>\n",
       "      <td>business</td>\n",
       "      <td>[Строительство, Минстрой, сталь, металлургия, ...</td>\n",
       "    </tr>\n",
       "    <tr>\n",
       "      <th>695434577d5c1ff776910676cef4b6f7</th>\n",
       "      <td>По его мнению, необходимость наличия такого ор...</td>\n",
       "      <td>Рогозин заявил о необходимости противоспутнико...</td>\n",
       "      <td>Рогозин заявил о необходимости противоспутник...</td>\n",
       "      <td>tech</td>\n",
       "      <td>[Роскосмос, Дмитрий Рогозин, спутник]</td>\n",
       "    </tr>\n",
       "    <tr>\n",
       "      <th>703096d803b367ec3bebc96f271273a1</th>\n",
       "      <td>Речь идет о перестроении исторического блока, ...</td>\n",
       "      <td>Число уроков истории в школах не увеличат из-з...</td>\n",
       "      <td>Число уроков истории в школах не увеличат из-...</td>\n",
       "      <td>politics</td>\n",
       "      <td>[Минпросвещения, история, школы]</td>\n",
       "    </tr>\n",
       "    <tr>\n",
       "      <th>21295f8f3febaebc9ea5e3c4077f9de8</th>\n",
       "      <td>Суд присяжных присудил Деппу $10 млн в качеств...</td>\n",
       "      <td>Суд признал Хёрд виновной в клевете и обязал в...</td>\n",
       "      <td>Суд признал Хёрд виновной в клевете и обязал ...</td>\n",
       "      <td>society</td>\n",
       "      <td>[Джонни Депп, суд, приговор, клевета]</td>\n",
       "    </tr>\n",
       "  </tbody>\n",
       "</table>\n",
       "</div>\n",
       "      <button class=\"colab-df-convert\" onclick=\"convertToInteractive('df-c8a99761-2914-4cc4-b9a8-514a962651a2')\"\n",
       "              title=\"Convert this dataframe to an interactive table.\"\n",
       "              style=\"display:none;\">\n",
       "        \n",
       "  <svg xmlns=\"http://www.w3.org/2000/svg\" height=\"24px\"viewBox=\"0 0 24 24\"\n",
       "       width=\"24px\">\n",
       "    <path d=\"M0 0h24v24H0V0z\" fill=\"none\"/>\n",
       "    <path d=\"M18.56 5.44l.94 2.06.94-2.06 2.06-.94-2.06-.94-.94-2.06-.94 2.06-2.06.94zm-11 1L8.5 8.5l.94-2.06 2.06-.94-2.06-.94L8.5 2.5l-.94 2.06-2.06.94zm10 10l.94 2.06.94-2.06 2.06-.94-2.06-.94-.94-2.06-.94 2.06-2.06.94z\"/><path d=\"M17.41 7.96l-1.37-1.37c-.4-.4-.92-.59-1.43-.59-.52 0-1.04.2-1.43.59L10.3 9.45l-7.72 7.72c-.78.78-.78 2.05 0 2.83L4 21.41c.39.39.9.59 1.41.59.51 0 1.02-.2 1.41-.59l7.78-7.78 2.81-2.81c.8-.78.8-2.07 0-2.86zM5.41 20L4 18.59l7.72-7.72 1.47 1.35L5.41 20z\"/>\n",
       "  </svg>\n",
       "      </button>\n",
       "      \n",
       "  <style>\n",
       "    .colab-df-container {\n",
       "      display:flex;\n",
       "      flex-wrap:wrap;\n",
       "      gap: 12px;\n",
       "    }\n",
       "\n",
       "    .colab-df-convert {\n",
       "      background-color: #E8F0FE;\n",
       "      border: none;\n",
       "      border-radius: 50%;\n",
       "      cursor: pointer;\n",
       "      display: none;\n",
       "      fill: #1967D2;\n",
       "      height: 32px;\n",
       "      padding: 0 0 0 0;\n",
       "      width: 32px;\n",
       "    }\n",
       "\n",
       "    .colab-df-convert:hover {\n",
       "      background-color: #E2EBFA;\n",
       "      box-shadow: 0px 1px 2px rgba(60, 64, 67, 0.3), 0px 1px 3px 1px rgba(60, 64, 67, 0.15);\n",
       "      fill: #174EA6;\n",
       "    }\n",
       "\n",
       "    [theme=dark] .colab-df-convert {\n",
       "      background-color: #3B4455;\n",
       "      fill: #D2E3FC;\n",
       "    }\n",
       "\n",
       "    [theme=dark] .colab-df-convert:hover {\n",
       "      background-color: #434B5C;\n",
       "      box-shadow: 0px 1px 3px 1px rgba(0, 0, 0, 0.15);\n",
       "      filter: drop-shadow(0px 1px 2px rgba(0, 0, 0, 0.3));\n",
       "      fill: #FFFFFF;\n",
       "    }\n",
       "  </style>\n",
       "\n",
       "      <script>\n",
       "        const buttonEl =\n",
       "          document.querySelector('#df-c8a99761-2914-4cc4-b9a8-514a962651a2 button.colab-df-convert');\n",
       "        buttonEl.style.display =\n",
       "          google.colab.kernel.accessAllowed ? 'block' : 'none';\n",
       "\n",
       "        async function convertToInteractive(key) {\n",
       "          const element = document.querySelector('#df-c8a99761-2914-4cc4-b9a8-514a962651a2');\n",
       "          const dataTable =\n",
       "            await google.colab.kernel.invokeFunction('convertToInteractive',\n",
       "                                                     [key], {});\n",
       "          if (!dataTable) return;\n",
       "\n",
       "          const docLinkHtml = 'Like what you see? Visit the ' +\n",
       "            '<a target=\"_blank\" href=https://colab.research.google.com/notebooks/data_table.ipynb>data table notebook</a>'\n",
       "            + ' to learn more about interactive tables.';\n",
       "          element.innerHTML = '';\n",
       "          dataTable['output_type'] = 'display_data';\n",
       "          await google.colab.output.renderOutput(dataTable, element);\n",
       "          const docLink = document.createElement('div');\n",
       "          docLink.innerHTML = docLinkHtml;\n",
       "          element.appendChild(docLink);\n",
       "        }\n",
       "      </script>\n",
       "    </div>\n",
       "  </div>\n",
       "  "
      ],
      "text/plain": [
       "                                                                           overview  \\\n",
       "78d8b9491b72c4e0d0add8f77fa5cc90  РНПК стала ключевым перестраховщиком российски...   \n",
       "16449d4a36b1db5e87183cb407a54552  Минстрой разработал план по увеличению использ...   \n",
       "695434577d5c1ff776910676cef4b6f7  По его мнению, необходимость наличия такого ор...   \n",
       "703096d803b367ec3bebc96f271273a1  Речь идет о перестроении исторического блока, ...   \n",
       "21295f8f3febaebc9ea5e3c4077f9de8  Суд присяжных присудил Деппу $10 млн в качеств...   \n",
       "\n",
       "                                                                           headline  \\\n",
       "78d8b9491b72c4e0d0add8f77fa5cc90  Reuters назвал нового главного перестраховщика...   \n",
       "16449d4a36b1db5e87183cb407a54552  Власти предложили строить дома и школы по техн...   \n",
       "695434577d5c1ff776910676cef4b6f7  Рогозин заявил о необходимости противоспутнико...   \n",
       "703096d803b367ec3bebc96f271273a1  Число уроков истории в школах не увеличат из-з...   \n",
       "21295f8f3febaebc9ea5e3c4077f9de8  Суд признал Хёрд виновной в клевете и обязал в...   \n",
       "\n",
       "                                                                               body  \\\n",
       "78d8b9491b72c4e0d0add8f77fa5cc90   Reuters назвал нового главного перестраховщик...   \n",
       "16449d4a36b1db5e87183cb407a54552   Власти предложили строить дома и школы по тех...   \n",
       "695434577d5c1ff776910676cef4b6f7   Рогозин заявил о необходимости противоспутник...   \n",
       "703096d803b367ec3bebc96f271273a1   Число уроков истории в школах не увеличат из-...   \n",
       "21295f8f3febaebc9ea5e3c4077f9de8   Суд признал Хёрд виновной в клевете и обязал ...   \n",
       "\n",
       "                                   category  \\\n",
       "78d8b9491b72c4e0d0add8f77fa5cc90  economics   \n",
       "16449d4a36b1db5e87183cb407a54552   business   \n",
       "695434577d5c1ff776910676cef4b6f7       tech   \n",
       "703096d803b367ec3bebc96f271273a1   politics   \n",
       "21295f8f3febaebc9ea5e3c4077f9de8    society   \n",
       "\n",
       "                                                                               tags  \n",
       "78d8b9491b72c4e0d0add8f77fa5cc90  [страхование, страховщики, суда, нефть, эмбарг...  \n",
       "16449d4a36b1db5e87183cb407a54552  [Строительство, Минстрой, сталь, металлургия, ...  \n",
       "695434577d5c1ff776910676cef4b6f7              [Роскосмос, Дмитрий Рогозин, спутник]  \n",
       "703096d803b367ec3bebc96f271273a1                   [Минпросвещения, история, школы]  \n",
       "21295f8f3febaebc9ea5e3c4077f9de8              [Джонни Депп, суд, приговор, клевета]  "
      ]
     },
     "execution_count": 9,
     "metadata": {},
     "output_type": "execute_result"
    }
   ],
   "source": [
    "df = pd.read_json(\"shuffled_hashed_rbc_dataset.json\")\n",
    "df = df.transpose()\n",
    "df.head()\n",
    "# df = df[['article_overview','article_text']]\n",
    "# df.head()"
   ]
  },
  {
   "cell_type": "markdown",
   "metadata": {
    "id": "-OZ84eC-Kn5g"
   },
   "source": [
    "4. After that, we will download the needed files from NLTK."
   ]
  },
  {
   "cell_type": "code",
   "execution_count": 10,
   "metadata": {
    "colab": {
     "base_uri": "https://localhost:8080/"
    },
    "execution": {
     "iopub.execute_input": "2022-05-16T20:47:09.812256Z",
     "iopub.status.busy": "2022-05-16T20:47:09.811653Z",
     "iopub.status.idle": "2022-05-16T20:47:10.110456Z",
     "shell.execute_reply": "2022-05-16T20:47:10.109776Z",
     "shell.execute_reply.started": "2022-05-16T20:47:09.812223Z"
    },
    "id": "pvE5h5sWKyEV",
    "outputId": "ddb531cb-e310-421a-d929-d673db928969"
   },
   "outputs": [
    {
     "name": "stdout",
     "output_type": "stream",
     "text": [
      "[nltk_data] Downloading package punkt to /root/nltk_data...\n",
      "[nltk_data]   Unzipping tokenizers/punkt.zip.\n",
      "[nltk_data] Downloading package stopwords to /root/nltk_data...\n",
      "[nltk_data]   Unzipping corpora/stopwords.zip.\n"
     ]
    },
    {
     "data": {
      "text/plain": [
       "True"
      ]
     },
     "execution_count": 10,
     "metadata": {},
     "output_type": "execute_result"
    }
   ],
   "source": [
    "nltk.download('punkt')\n",
    "nltk.download('stopwords')"
   ]
  },
  {
   "cell_type": "markdown",
   "metadata": {
    "id": "gKVNHcIzLzOi"
   },
   "source": [
    "# **Data Exploration**:"
   ]
  },
  {
   "cell_type": "code",
   "execution_count": 11,
   "metadata": {
    "colab": {
     "base_uri": "https://localhost:8080/",
     "height": 240
    },
    "execution": {
     "iopub.execute_input": "2022-05-16T20:47:10.112777Z",
     "iopub.status.busy": "2022-05-16T20:47:10.111710Z",
     "iopub.status.idle": "2022-05-16T20:47:10.131104Z",
     "shell.execute_reply": "2022-05-16T20:47:10.130405Z",
     "shell.execute_reply.started": "2022-05-16T20:47:10.112737Z"
    },
    "id": "Wo5u3pPhNH5u",
    "outputId": "512e2dab-2e04-49cc-be1d-26c34a04fd6e"
   },
   "outputs": [
    {
     "data": {
      "text/html": [
       "\n",
       "  <div id=\"df-1e81af56-c1e6-44d0-8300-e4519cf3d176\">\n",
       "    <div class=\"colab-df-container\">\n",
       "      <div>\n",
       "<style scoped>\n",
       "    .dataframe tbody tr th:only-of-type {\n",
       "        vertical-align: middle;\n",
       "    }\n",
       "\n",
       "    .dataframe tbody tr th {\n",
       "        vertical-align: top;\n",
       "    }\n",
       "\n",
       "    .dataframe thead th {\n",
       "        text-align: right;\n",
       "    }\n",
       "</style>\n",
       "<table border=\"1\" class=\"dataframe\">\n",
       "  <thead>\n",
       "    <tr style=\"text-align: right;\">\n",
       "      <th></th>\n",
       "      <th>overview</th>\n",
       "      <th>headline</th>\n",
       "      <th>body</th>\n",
       "      <th>category</th>\n",
       "      <th>tags</th>\n",
       "    </tr>\n",
       "  </thead>\n",
       "  <tbody>\n",
       "    <tr>\n",
       "      <th>78d8b9491b72c4e0d0add8f77fa5cc90</th>\n",
       "      <td>РНПК стала ключевым перестраховщиком российски...</td>\n",
       "      <td>Reuters назвал нового главного перестраховщика...</td>\n",
       "      <td>Reuters назвал нового главного перестраховщик...</td>\n",
       "      <td>economics</td>\n",
       "      <td>[страхование, страховщики, суда, нефть, эмбарг...</td>\n",
       "    </tr>\n",
       "    <tr>\n",
       "      <th>16449d4a36b1db5e87183cb407a54552</th>\n",
       "      <td>Минстрой разработал план по увеличению использ...</td>\n",
       "      <td>Власти предложили строить дома и школы по техн...</td>\n",
       "      <td>Власти предложили строить дома и школы по тех...</td>\n",
       "      <td>business</td>\n",
       "      <td>[Строительство, Минстрой, сталь, металлургия, ...</td>\n",
       "    </tr>\n",
       "    <tr>\n",
       "      <th>695434577d5c1ff776910676cef4b6f7</th>\n",
       "      <td>По его мнению, необходимость наличия такого ор...</td>\n",
       "      <td>Рогозин заявил о необходимости противоспутнико...</td>\n",
       "      <td>Рогозин заявил о необходимости противоспутник...</td>\n",
       "      <td>tech</td>\n",
       "      <td>[Роскосмос, Дмитрий Рогозин, спутник]</td>\n",
       "    </tr>\n",
       "  </tbody>\n",
       "</table>\n",
       "</div>\n",
       "      <button class=\"colab-df-convert\" onclick=\"convertToInteractive('df-1e81af56-c1e6-44d0-8300-e4519cf3d176')\"\n",
       "              title=\"Convert this dataframe to an interactive table.\"\n",
       "              style=\"display:none;\">\n",
       "        \n",
       "  <svg xmlns=\"http://www.w3.org/2000/svg\" height=\"24px\"viewBox=\"0 0 24 24\"\n",
       "       width=\"24px\">\n",
       "    <path d=\"M0 0h24v24H0V0z\" fill=\"none\"/>\n",
       "    <path d=\"M18.56 5.44l.94 2.06.94-2.06 2.06-.94-2.06-.94-.94-2.06-.94 2.06-2.06.94zm-11 1L8.5 8.5l.94-2.06 2.06-.94-2.06-.94L8.5 2.5l-.94 2.06-2.06.94zm10 10l.94 2.06.94-2.06 2.06-.94-2.06-.94-.94-2.06-.94 2.06-2.06.94z\"/><path d=\"M17.41 7.96l-1.37-1.37c-.4-.4-.92-.59-1.43-.59-.52 0-1.04.2-1.43.59L10.3 9.45l-7.72 7.72c-.78.78-.78 2.05 0 2.83L4 21.41c.39.39.9.59 1.41.59.51 0 1.02-.2 1.41-.59l7.78-7.78 2.81-2.81c.8-.78.8-2.07 0-2.86zM5.41 20L4 18.59l7.72-7.72 1.47 1.35L5.41 20z\"/>\n",
       "  </svg>\n",
       "      </button>\n",
       "      \n",
       "  <style>\n",
       "    .colab-df-container {\n",
       "      display:flex;\n",
       "      flex-wrap:wrap;\n",
       "      gap: 12px;\n",
       "    }\n",
       "\n",
       "    .colab-df-convert {\n",
       "      background-color: #E8F0FE;\n",
       "      border: none;\n",
       "      border-radius: 50%;\n",
       "      cursor: pointer;\n",
       "      display: none;\n",
       "      fill: #1967D2;\n",
       "      height: 32px;\n",
       "      padding: 0 0 0 0;\n",
       "      width: 32px;\n",
       "    }\n",
       "\n",
       "    .colab-df-convert:hover {\n",
       "      background-color: #E2EBFA;\n",
       "      box-shadow: 0px 1px 2px rgba(60, 64, 67, 0.3), 0px 1px 3px 1px rgba(60, 64, 67, 0.15);\n",
       "      fill: #174EA6;\n",
       "    }\n",
       "\n",
       "    [theme=dark] .colab-df-convert {\n",
       "      background-color: #3B4455;\n",
       "      fill: #D2E3FC;\n",
       "    }\n",
       "\n",
       "    [theme=dark] .colab-df-convert:hover {\n",
       "      background-color: #434B5C;\n",
       "      box-shadow: 0px 1px 3px 1px rgba(0, 0, 0, 0.15);\n",
       "      filter: drop-shadow(0px 1px 2px rgba(0, 0, 0, 0.3));\n",
       "      fill: #FFFFFF;\n",
       "    }\n",
       "  </style>\n",
       "\n",
       "      <script>\n",
       "        const buttonEl =\n",
       "          document.querySelector('#df-1e81af56-c1e6-44d0-8300-e4519cf3d176 button.colab-df-convert');\n",
       "        buttonEl.style.display =\n",
       "          google.colab.kernel.accessAllowed ? 'block' : 'none';\n",
       "\n",
       "        async function convertToInteractive(key) {\n",
       "          const element = document.querySelector('#df-1e81af56-c1e6-44d0-8300-e4519cf3d176');\n",
       "          const dataTable =\n",
       "            await google.colab.kernel.invokeFunction('convertToInteractive',\n",
       "                                                     [key], {});\n",
       "          if (!dataTable) return;\n",
       "\n",
       "          const docLinkHtml = 'Like what you see? Visit the ' +\n",
       "            '<a target=\"_blank\" href=https://colab.research.google.com/notebooks/data_table.ipynb>data table notebook</a>'\n",
       "            + ' to learn more about interactive tables.';\n",
       "          element.innerHTML = '';\n",
       "          dataTable['output_type'] = 'display_data';\n",
       "          await google.colab.output.renderOutput(dataTable, element);\n",
       "          const docLink = document.createElement('div');\n",
       "          docLink.innerHTML = docLinkHtml;\n",
       "          element.appendChild(docLink);\n",
       "        }\n",
       "      </script>\n",
       "    </div>\n",
       "  </div>\n",
       "  "
      ],
      "text/plain": [
       "                                                                           overview  \\\n",
       "78d8b9491b72c4e0d0add8f77fa5cc90  РНПК стала ключевым перестраховщиком российски...   \n",
       "16449d4a36b1db5e87183cb407a54552  Минстрой разработал план по увеличению использ...   \n",
       "695434577d5c1ff776910676cef4b6f7  По его мнению, необходимость наличия такого ор...   \n",
       "\n",
       "                                                                           headline  \\\n",
       "78d8b9491b72c4e0d0add8f77fa5cc90  Reuters назвал нового главного перестраховщика...   \n",
       "16449d4a36b1db5e87183cb407a54552  Власти предложили строить дома и школы по техн...   \n",
       "695434577d5c1ff776910676cef4b6f7  Рогозин заявил о необходимости противоспутнико...   \n",
       "\n",
       "                                                                               body  \\\n",
       "78d8b9491b72c4e0d0add8f77fa5cc90   Reuters назвал нового главного перестраховщик...   \n",
       "16449d4a36b1db5e87183cb407a54552   Власти предложили строить дома и школы по тех...   \n",
       "695434577d5c1ff776910676cef4b6f7   Рогозин заявил о необходимости противоспутник...   \n",
       "\n",
       "                                   category  \\\n",
       "78d8b9491b72c4e0d0add8f77fa5cc90  economics   \n",
       "16449d4a36b1db5e87183cb407a54552   business   \n",
       "695434577d5c1ff776910676cef4b6f7       tech   \n",
       "\n",
       "                                                                               tags  \n",
       "78d8b9491b72c4e0d0add8f77fa5cc90  [страхование, страховщики, суда, нефть, эмбарг...  \n",
       "16449d4a36b1db5e87183cb407a54552  [Строительство, Минстрой, сталь, металлургия, ...  \n",
       "695434577d5c1ff776910676cef4b6f7              [Роскосмос, Дмитрий Рогозин, спутник]  "
      ]
     },
     "execution_count": 11,
     "metadata": {},
     "output_type": "execute_result"
    }
   ],
   "source": [
    "df.head(3)"
   ]
  },
  {
   "cell_type": "markdown",
   "metadata": {
    "id": "zY3ktvqgNe1w"
   },
   "source": [
    "In addition, It has been found that we have five entries with no articles. This might be due to some interraption in the internet connection while performing the webscraping."
   ]
  },
  {
   "cell_type": "markdown",
   "metadata": {
    "id": "ujbP4r45P43P"
   },
   "source": [
    "## **Supporting Functions**\n",
    "\n",
    "This section consists of some supporting functions that will be used frequently in this notebook."
   ]
  },
  {
   "cell_type": "code",
   "execution_count": 20,
   "metadata": {
    "execution": {
     "iopub.execute_input": "2022-05-16T20:47:10.180995Z",
     "iopub.status.busy": "2022-05-16T20:47:10.180628Z",
     "iopub.status.idle": "2022-05-16T20:47:10.190550Z",
     "shell.execute_reply": "2022-05-16T20:47:10.189670Z",
     "shell.execute_reply.started": "2022-05-16T20:47:10.180957Z"
    },
    "id": "9RmB1vcdQKk-"
   },
   "outputs": [],
   "source": [
    "def wrap(x):\n",
    "    return textwrap.fill(x, replace_whitespace = False, fix_sentence_endings= True)"
   ]
  },
  {
   "cell_type": "code",
   "execution_count": 21,
   "metadata": {
    "id": "N5jtA81-dtww"
   },
   "outputs": [],
   "source": [
    "def hilight_summary(article,summary_sentences,sentences_format = 0):\n",
    "\n",
    "    original_article_overview = article['article_overview'].iloc[0]\n",
    "    original_sentences = article['article_text'].iloc[0]\n",
    "\n",
    "    if(sentences_format == 0):\n",
    "        original_article_overview = \" \".join([sentence for sentence in nltk.sent_tokenize(original_article_overview)])\n",
    "        original_sentences = [sentence for sentence in nltk.sent_tokenize(original_sentences)]\n",
    "        summary_sentences = [sentence for sentence in nltk.sent_tokenize(summary_sentences)]\n",
    "\n",
    "    text = ''\n",
    "    display(HTML(original_article_overview.replace(original_article_overview, f'<h4>{original_article_overview}</h4>')))\n",
    "    display(HTML(f'<h2>Summary</h2>'))\n",
    "    for sentence in original_sentences:\n",
    "        if sentence in summary_sentences:\n",
    "            text += ' ' + sentence.replace(sentence, f\"<mark>{sentence}</mark>\")\n",
    "        else:\n",
    "            text += ' ' + sentence\n",
    "\n",
    "    display(HTML(f\"\"\" {text} \"\"\"))"
   ]
  },
  {
   "cell_type": "code",
   "execution_count": 22,
   "metadata": {
    "execution": {
     "iopub.execute_input": "2022-05-16T20:47:10.193210Z",
     "iopub.status.busy": "2022-05-16T20:47:10.191499Z",
     "iopub.status.idle": "2022-05-16T20:47:10.202198Z",
     "shell.execute_reply": "2022-05-16T20:47:10.201442Z",
     "shell.execute_reply.started": "2022-05-16T20:47:10.193180Z"
    },
    "id": "h-_J0YduvCxH"
   },
   "outputs": [],
   "source": [
    "def hilight_summary(original_sentences,summary_sentences,sentences_format = 0):\n",
    "\n",
    "    # original_article_overview = article['article_overview'].iloc[0]\n",
    "    # original_sentences = article['article_text'].iloc[0]\n",
    "\n",
    "    if(sentences_format == 0):\n",
    "        # original_article_overview = \" \".join([sentence for sentence in nltk.sent_tokenize(original_article_overview)])\n",
    "        original_sentences = [sentence for sentence in nltk.sent_tokenize(original_sentences)]\n",
    "        summary_sentences = [sentence for sentence in nltk.sent_tokenize(summary_sentences)]\n",
    "\n",
    "    text = ''\n",
    "    # display(HTML(original_article_overview.replace(original_article_overview, f'<h4>{original_article_overview}</h4>')))\n",
    "    display(HTML(f'<h2>Summary</h2>'))\n",
    "    for sentence in original_sentences:\n",
    "        if sentence in summary_sentences:\n",
    "            text += ' ' + sentence.replace(sentence, f\"<mark>{sentence}</mark>\")\n",
    "        else:\n",
    "            text += ' ' + sentence\n",
    "\n",
    "    display(HTML(f\"\"\" {text} \"\"\"))"
   ]
  },
  {
   "cell_type": "markdown",
   "metadata": {
    "id": "rWqiW5vZvNHa"
   },
   "source": [
    "The below code utilizes a method that was developed in the __supporting functions__ to highlight the extracted summary out of the original text."
   ]
  },
  {
   "cell_type": "code",
   "execution_count": 26,
   "metadata": {
    "colab": {
     "base_uri": "https://localhost:8080/",
     "height": 175
    },
    "execution": {
     "iopub.execute_input": "2022-05-16T20:47:10.133221Z",
     "iopub.status.busy": "2022-05-16T20:47:10.132917Z",
     "iopub.status.idle": "2022-05-16T20:47:10.161758Z",
     "shell.execute_reply": "2022-05-16T20:47:10.161099Z",
     "shell.execute_reply.started": "2022-05-16T20:47:10.133185Z"
    },
    "id": "FVxq7VghNnuk",
    "outputId": "91531dc1-19bf-4160-9ec1-47c488dfdd53"
   },
   "outputs": [
    {
     "data": {
      "text/html": [
       "\n",
       "  <div id=\"df-b9f2df37-03b8-4bce-a7bd-bd68e720c59a\">\n",
       "    <div class=\"colab-df-container\">\n",
       "      <div>\n",
       "<style scoped>\n",
       "    .dataframe tbody tr th:only-of-type {\n",
       "        vertical-align: middle;\n",
       "    }\n",
       "\n",
       "    .dataframe tbody tr th {\n",
       "        vertical-align: top;\n",
       "    }\n",
       "\n",
       "    .dataframe thead th {\n",
       "        text-align: right;\n",
       "    }\n",
       "</style>\n",
       "<table border=\"1\" class=\"dataframe\">\n",
       "  <thead>\n",
       "    <tr style=\"text-align: right;\">\n",
       "      <th></th>\n",
       "      <th>overview</th>\n",
       "      <th>headline</th>\n",
       "      <th>body</th>\n",
       "      <th>category</th>\n",
       "      <th>tags</th>\n",
       "    </tr>\n",
       "  </thead>\n",
       "  <tbody>\n",
       "    <tr>\n",
       "      <th>count</th>\n",
       "      <td>1534</td>\n",
       "      <td>1534</td>\n",
       "      <td>1534</td>\n",
       "      <td>1534</td>\n",
       "      <td>1534</td>\n",
       "    </tr>\n",
       "    <tr>\n",
       "      <th>unique</th>\n",
       "      <td>1520</td>\n",
       "      <td>1518</td>\n",
       "      <td>1534</td>\n",
       "      <td>6</td>\n",
       "      <td>1494</td>\n",
       "    </tr>\n",
       "    <tr>\n",
       "      <th>top</th>\n",
       "      <td>Несмотря на «резкую» просьбу Шольца присоедини...</td>\n",
       "      <td>В 15 регионах сообщили о погибших в ходе военн...</td>\n",
       "      <td>Reuters назвал нового главного перестраховщик...</td>\n",
       "      <td>finance</td>\n",
       "      <td>[Банки, Ипотека]</td>\n",
       "    </tr>\n",
       "    <tr>\n",
       "      <th>freq</th>\n",
       "      <td>2</td>\n",
       "      <td>2</td>\n",
       "      <td>1</td>\n",
       "      <td>333</td>\n",
       "      <td>5</td>\n",
       "    </tr>\n",
       "  </tbody>\n",
       "</table>\n",
       "</div>\n",
       "      <button class=\"colab-df-convert\" onclick=\"convertToInteractive('df-b9f2df37-03b8-4bce-a7bd-bd68e720c59a')\"\n",
       "              title=\"Convert this dataframe to an interactive table.\"\n",
       "              style=\"display:none;\">\n",
       "        \n",
       "  <svg xmlns=\"http://www.w3.org/2000/svg\" height=\"24px\"viewBox=\"0 0 24 24\"\n",
       "       width=\"24px\">\n",
       "    <path d=\"M0 0h24v24H0V0z\" fill=\"none\"/>\n",
       "    <path d=\"M18.56 5.44l.94 2.06.94-2.06 2.06-.94-2.06-.94-.94-2.06-.94 2.06-2.06.94zm-11 1L8.5 8.5l.94-2.06 2.06-.94-2.06-.94L8.5 2.5l-.94 2.06-2.06.94zm10 10l.94 2.06.94-2.06 2.06-.94-2.06-.94-.94-2.06-.94 2.06-2.06.94z\"/><path d=\"M17.41 7.96l-1.37-1.37c-.4-.4-.92-.59-1.43-.59-.52 0-1.04.2-1.43.59L10.3 9.45l-7.72 7.72c-.78.78-.78 2.05 0 2.83L4 21.41c.39.39.9.59 1.41.59.51 0 1.02-.2 1.41-.59l7.78-7.78 2.81-2.81c.8-.78.8-2.07 0-2.86zM5.41 20L4 18.59l7.72-7.72 1.47 1.35L5.41 20z\"/>\n",
       "  </svg>\n",
       "      </button>\n",
       "      \n",
       "  <style>\n",
       "    .colab-df-container {\n",
       "      display:flex;\n",
       "      flex-wrap:wrap;\n",
       "      gap: 12px;\n",
       "    }\n",
       "\n",
       "    .colab-df-convert {\n",
       "      background-color: #E8F0FE;\n",
       "      border: none;\n",
       "      border-radius: 50%;\n",
       "      cursor: pointer;\n",
       "      display: none;\n",
       "      fill: #1967D2;\n",
       "      height: 32px;\n",
       "      padding: 0 0 0 0;\n",
       "      width: 32px;\n",
       "    }\n",
       "\n",
       "    .colab-df-convert:hover {\n",
       "      background-color: #E2EBFA;\n",
       "      box-shadow: 0px 1px 2px rgba(60, 64, 67, 0.3), 0px 1px 3px 1px rgba(60, 64, 67, 0.15);\n",
       "      fill: #174EA6;\n",
       "    }\n",
       "\n",
       "    [theme=dark] .colab-df-convert {\n",
       "      background-color: #3B4455;\n",
       "      fill: #D2E3FC;\n",
       "    }\n",
       "\n",
       "    [theme=dark] .colab-df-convert:hover {\n",
       "      background-color: #434B5C;\n",
       "      box-shadow: 0px 1px 3px 1px rgba(0, 0, 0, 0.15);\n",
       "      filter: drop-shadow(0px 1px 2px rgba(0, 0, 0, 0.3));\n",
       "      fill: #FFFFFF;\n",
       "    }\n",
       "  </style>\n",
       "\n",
       "      <script>\n",
       "        const buttonEl =\n",
       "          document.querySelector('#df-b9f2df37-03b8-4bce-a7bd-bd68e720c59a button.colab-df-convert');\n",
       "        buttonEl.style.display =\n",
       "          google.colab.kernel.accessAllowed ? 'block' : 'none';\n",
       "\n",
       "        async function convertToInteractive(key) {\n",
       "          const element = document.querySelector('#df-b9f2df37-03b8-4bce-a7bd-bd68e720c59a');\n",
       "          const dataTable =\n",
       "            await google.colab.kernel.invokeFunction('convertToInteractive',\n",
       "                                                     [key], {});\n",
       "          if (!dataTable) return;\n",
       "\n",
       "          const docLinkHtml = 'Like what you see? Visit the ' +\n",
       "            '<a target=\"_blank\" href=https://colab.research.google.com/notebooks/data_table.ipynb>data table notebook</a>'\n",
       "            + ' to learn more about interactive tables.';\n",
       "          element.innerHTML = '';\n",
       "          dataTable['output_type'] = 'display_data';\n",
       "          await google.colab.output.renderOutput(dataTable, element);\n",
       "          const docLink = document.createElement('div');\n",
       "          docLink.innerHTML = docLinkHtml;\n",
       "          element.appendChild(docLink);\n",
       "        }\n",
       "      </script>\n",
       "    </div>\n",
       "  </div>\n",
       "  "
      ],
      "text/plain": [
       "                                                 overview  \\\n",
       "count                                                1534   \n",
       "unique                                               1520   \n",
       "top     Несмотря на «резкую» просьбу Шольца присоедини...   \n",
       "freq                                                    2   \n",
       "\n",
       "                                                 headline  \\\n",
       "count                                                1534   \n",
       "unique                                               1518   \n",
       "top     В 15 регионах сообщили о погибших в ходе военн...   \n",
       "freq                                                    2   \n",
       "\n",
       "                                                     body category  \\\n",
       "count                                                1534     1534   \n",
       "unique                                               1534        6   \n",
       "top      Reuters назвал нового главного перестраховщик...  finance   \n",
       "freq                                                    1      333   \n",
       "\n",
       "                    tags  \n",
       "count               1534  \n",
       "unique              1494  \n",
       "top     [Банки, Ипотека]  \n",
       "freq                   5  "
      ]
     },
     "execution_count": 26,
     "metadata": {},
     "output_type": "execute_result"
    }
   ],
   "source": [
    "df.describe()"
   ]
  },
  {
   "cell_type": "markdown",
   "metadata": {
    "id": "qZRw1gjOOK8n"
   },
   "source": [
    "To smoothen the process, it has been decided to remove these NA values."
   ]
  },
  {
   "cell_type": "markdown",
   "metadata": {
    "id": "3bv7gfbaOiZq"
   },
   "source": [
    "In addition, it has been decided to perform some data cleanup before starting any summarization process, particularly cleaning up the new lines."
   ]
  },
  {
   "cell_type": "markdown",
   "metadata": {
    "id": "YQ9uCHD0G0D2"
   },
   "source": [
    "# **Summarization Methods**:\n",
    "In the following sections, couple of library-based summarization techniques (standard tradetional) will be presented along with their summarization performance. These summarization methodologies are:\n",
    "\n",
    "\n",
    "1.   TF-IDF for Text Summarization\n",
    "2.   Luhn algorithm\n",
    "3.   Cosine similarity\n",
    "4.   SUMY ( A.   TextRankSummarizer , B.   LSA Summarizer )\n",
    "5.   Pysummarization\n",
    "6.   BERT\n",
    "\n",
    "\n",
    "Other summarization techniques, that are more advanced, will be presented in a separate notebook."
   ]
  },
  {
   "cell_type": "markdown",
   "metadata": {
    "id": "Xp_EtQFnRNH2"
   },
   "source": [
    "## **1. TF-IDF for Text Summarization**\n",
    "\n",
    "With this approach, we will performing the follwing:\n",
    "1. Split the text into sentences.\n",
    "2. Score each sentence.\n",
    "3. Rank each sentence by scores.\n",
    "4. Summary = top scoring sentences.\n",
    "\n",
    "\n",
    "For demonstration purposes, we wil start with explaining the approach step by step. After that, we will build a function to apply the summarization on all the articles."
   ]
  },
  {
   "cell_type": "markdown",
   "metadata": {
    "id": "e1Pk9gRArrHm"
   },
   "source": [
    "#### **A. Perform Summarization on One Data Sample:**"
   ]
  },
  {
   "cell_type": "markdown",
   "metadata": {
    "id": "jlWW1A4HkxIS"
   },
   "source": [
    "To begin with, let us use one article for summarization"
   ]
  },
  {
   "cell_type": "code",
   "execution_count": 14,
   "metadata": {
    "execution": {
     "iopub.execute_input": "2022-05-16T20:47:10.203793Z",
     "iopub.status.busy": "2022-05-16T20:47:10.203350Z",
     "iopub.status.idle": "2022-05-16T20:47:10.211825Z",
     "shell.execute_reply": "2022-05-16T20:47:10.211081Z",
     "shell.execute_reply.started": "2022-05-16T20:47:10.203757Z"
    },
    "id": "TwvuxhjwWXFl"
   },
   "outputs": [],
   "source": [
    "from sklearn.feature_extraction.text import TfidfVectorizer\n",
    "\n",
    "for headline in df.headline:\n",
    "    title_of_doc = headline\n",
    "    doc = df[df.headline == headline]['article_text']"
   ]
  },
  {
   "cell_type": "markdown",
   "metadata": {
    "id": "bIL2OedvWWVd"
   },
   "source": [
    "Now, we will tokenize the text into sentences"
   ]
  },
  {
   "cell_type": "code",
   "execution_count": 28,
   "metadata": {
    "execution": {
     "iopub.execute_input": "2022-05-16T20:47:10.216506Z",
     "iopub.status.busy": "2022-05-16T20:47:10.215994Z",
     "iopub.status.idle": "2022-05-16T20:47:10.232452Z",
     "shell.execute_reply": "2022-05-16T20:47:10.231892Z",
     "shell.execute_reply.started": "2022-05-16T20:47:10.216473Z"
    },
    "id": "ic5_Ilk4k0vl"
   },
   "outputs": [],
   "source": [
    "sents = nltk.sent_tokenize(doc.iloc[0])"
   ]
  },
  {
   "cell_type": "markdown",
   "metadata": {
    "id": "1U0_ZuaslXq1"
   },
   "source": [
    "After that, we will create TF-IDF vectorizer object.\n",
    "\n",
    "Note that we are using russian stopwords and L1 normlization. This is to insure that we will not be bias toward longer sentences with higher score \"simply due to the fact that they contain more words\"."
   ]
  },
  {
   "cell_type": "code",
   "execution_count": 16,
   "metadata": {
    "execution": {
     "iopub.execute_input": "2022-05-16T20:47:10.234280Z",
     "iopub.status.busy": "2022-05-16T20:47:10.233797Z",
     "iopub.status.idle": "2022-05-16T20:47:10.240672Z",
     "shell.execute_reply": "2022-05-16T20:47:10.239952Z",
     "shell.execute_reply.started": "2022-05-16T20:47:10.234244Z"
    },
    "id": "q8XbVxQRqd5f"
   },
   "outputs": [],
   "source": [
    "featurizer = TfidfVectorizer(stop_words= stopwords.words('russian'), norm= 'l1')"
   ]
  },
  {
   "cell_type": "markdown",
   "metadata": {
    "id": "8Kkgoad4qjPa"
   },
   "source": [
    "\n",
    "Next, we call fit transform which give us back our TF-IDF matrix."
   ]
  },
  {
   "cell_type": "code",
   "execution_count": 17,
   "metadata": {
    "execution": {
     "iopub.execute_input": "2022-05-16T20:47:10.242829Z",
     "iopub.status.busy": "2022-05-16T20:47:10.242312Z",
     "iopub.status.idle": "2022-05-16T20:47:10.255066Z",
     "shell.execute_reply": "2022-05-16T20:47:10.254183Z",
     "shell.execute_reply.started": "2022-05-16T20:47:10.242756Z"
    },
    "id": "_uYIzO3wqsqf"
   },
   "outputs": [],
   "source": [
    "X = featurizer.fit_transform(sents)"
   ]
  },
  {
   "cell_type": "markdown",
   "metadata": {
    "id": "5DtU61Alq8w1"
   },
   "source": [
    "The following code will show the summary along with the model score. As can be seen, it takes a single row from the TF-IDF matrix. Only non-zero values are considered once you have those values a mean function is applied."
   ]
  },
  {
   "cell_type": "code",
   "execution_count": 18,
   "metadata": {
    "execution": {
     "iopub.execute_input": "2022-05-16T20:47:10.256155Z",
     "iopub.status.busy": "2022-05-16T20:47:10.255973Z",
     "iopub.status.idle": "2022-05-16T20:47:10.261045Z",
     "shell.execute_reply": "2022-05-16T20:47:10.260227Z",
     "shell.execute_reply.started": "2022-05-16T20:47:10.256132Z"
    },
    "id": "RC7_bpcVq2Sm"
   },
   "outputs": [],
   "source": [
    "def get_sentence_score(tfidf_row):\n",
    "    # return the average of the non-zero values\n",
    "    # of the tf-idf vector representation of a sentence\n",
    "    x = tfidf_row[tfidf_row != 0]\n",
    "    return x.mean()"
   ]
  },
  {
   "cell_type": "code",
   "execution_count": 24,
   "metadata": {
    "colab": {
     "base_uri": "https://localhost:8080/"
    },
    "execution": {
     "iopub.execute_input": "2022-05-16T20:47:10.262684Z",
     "iopub.status.busy": "2022-05-16T20:47:10.262253Z",
     "iopub.status.idle": "2022-05-16T20:47:10.278648Z",
     "shell.execute_reply": "2022-05-16T20:47:10.277768Z",
     "shell.execute_reply.started": "2022-05-16T20:47:10.262645Z"
    },
    "id": "S_XGlXO2qs3n",
    "outputId": "ac6d3796-c801-41f4-a407-d019f9a04b73"
   },
   "outputs": [
    {
     "name": "stdout",
     "output_type": "stream",
     "text": [
      "0.25: Позднее «Донбасс» сменил курс.\n",
      "0.17: В Кремле сочли инцидент в Азовском море провокацией.\n",
      "0.17: НАТО Россия вооруженный конфликт провокации Минобороны\n",
      "0.12: Он также обвинил Россию в стягивании войск к границам Украины.\n",
      "0.11: Корабль был взят на сопровождение российским кораблем береговой\n",
      "охраны.\n"
     ]
    }
   ],
   "source": [
    "#compute scores for each sentence\n",
    "scores = np.zeros(len(sents))\n",
    "for i in range(len(sents)):\n",
    "    score = get_sentence_score(X[i,:])\n",
    "    scores[i] = score\n",
    "\n",
    "#sort the scores\n",
    "sort_idx = np.argsort(-scores)\n",
    "\n",
    "#print summary\n",
    "for i in sort_idx[:5]:\n",
    "    print(wrap(\"%.2f: %s\" % (scores[i], sents[i])))"
   ]
  },
  {
   "cell_type": "markdown",
   "metadata": {
    "id": "xCzKb6oisBYG"
   },
   "source": [
    "#### **B. Building a function to Perform Summarization on all data samples::**"
   ]
  },
  {
   "cell_type": "markdown",
   "metadata": {
    "id": "vB78RIi9sQmf"
   },
   "source": [
    "- We prepared a function to summarize using tf_idf\n",
    "\n",
    "- The first step is to tokenize the text into sentences\n",
    "\n",
    "- Next we call fit transform which give us back our TF-IDF matrix (X)\n",
    "\n",
    "- Finally preparing the summarization that include some extra steps such as scoring and sorting. then printing the highest scored 5 sentences"
   ]
  },
  {
   "cell_type": "code",
   "execution_count": 25,
   "metadata": {
    "execution": {
     "iopub.execute_input": "2022-05-16T20:47:10.280340Z",
     "iopub.status.busy": "2022-05-16T20:47:10.279933Z",
     "iopub.status.idle": "2022-05-16T20:47:10.289729Z",
     "shell.execute_reply": "2022-05-16T20:47:10.288976Z",
     "shell.execute_reply.started": "2022-05-16T20:47:10.280306Z"
    },
    "id": "pIZvGvUPsh6P"
   },
   "outputs": [],
   "source": [
    "'''\n",
    "creating the TF-IDF vectorizer object again in case we deicde to go for \n",
    "this approach directly in stead of the step by step approach. (note that we are\n",
    "using russian stopwords and l1 normlization this insure that we will not be \n",
    "bias toward longer sentences which in this case would have a higher score. \n",
    "simply due to the fact that they contain more words.)\n",
    "'''\n",
    "featurizer = TfidfVectorizer(stop_words= stopwords.words('russian'), norm= 'l1')\n",
    "\n",
    "\n",
    "#definning the scoring function again as we need it inside the summarize_TF_IDF funciton\n",
    "#The function is intended to score a sentence given it's TF-IDF representation. \n",
    "def get_sentence_score(tfidf_row):\n",
    "    # return the average of the non-zero values\n",
    "    # of the tf-idf vector representation of a sentence\n",
    "    x = tfidf_row[tfidf_row != 0]\n",
    "    return x.mean()\n",
    "\n",
    "\n",
    "\n",
    "def summarize_TF_IDF(text):\n",
    "    # extract sentences\n",
    "    sents = nltk.sent_tokenize(text)\n",
    "    \n",
    "    #perform tf-idf\n",
    "    X = featurizer.fit_transform(sents)\n",
    "    \n",
    "    #compute scores for each sentence\n",
    "    scores = np.zeros(len(sents))\n",
    "    for i in range(len(sents)):\n",
    "        score = get_sentence_score(X[i,:])\n",
    "        scores[i] = score\n",
    "    \n",
    "    #sort the scores\n",
    "    sort_idx = np.argsort(-scores)\n",
    "    \n",
    "    #return summary\n",
    "    summary_text = str('')\n",
    "    for i in sort_idx[:5]:\n",
    "        # summary_text = summary_text + (\"%.2f: %s \" % (scores[i], sents[i]))\n",
    "        summary_text = summary_text + (\"%s \" % (sents[i]))\n",
    "    \n",
    "    summary_text = re.sub(r'\\n', ' ', summary_text)\n",
    "    return(summary_text)"
   ]
  },
  {
   "cell_type": "markdown",
   "metadata": {
    "id": "SlJ-mB6OspSE"
   },
   "source": [
    "Now, we will apply the summarization to all the documents."
   ]
  },
  {
   "cell_type": "code",
   "execution_count": null,
   "metadata": {
    "colab": {
     "base_uri": "https://localhost:8080/"
    },
    "execution": {
     "iopub.execute_input": "2022-05-16T20:47:10.293449Z",
     "iopub.status.busy": "2022-05-16T20:47:10.291365Z",
     "iopub.status.idle": "2022-05-16T20:47:11.595677Z",
     "shell.execute_reply": "2022-05-16T20:47:11.594962Z",
     "shell.execute_reply.started": "2022-05-16T20:47:10.293409Z"
    },
    "id": "xfx9bJj1stli",
    "outputId": "b08b4b6a-c1e0-43bb-a921-b61a7a4a7d83"
   },
   "outputs": [],
   "source": [
    "tf_idf_summaries = []\n",
    "for article in df['article_text']:\n",
    "    tf_idf_summaries.append(summarize_TF_IDF(article))\n",
    "\n",
    "df['TF_IDF_Summary'] = tf_idf_summaries"
   ]
  },
  {
   "cell_type": "code",
   "execution_count": 30,
   "metadata": {
    "colab": {
     "base_uri": "https://localhost:8080/"
    },
    "execution": {
     "iopub.execute_input": "2022-05-16T20:47:11.598099Z",
     "iopub.status.busy": "2022-05-16T20:47:11.597571Z",
     "iopub.status.idle": "2022-05-16T20:47:11.608364Z",
     "shell.execute_reply": "2022-05-16T20:47:11.607380Z",
     "shell.execute_reply.started": "2022-05-16T20:47:11.598052Z"
    },
    "id": "6EqXVrPfszpz",
    "outputId": "a08d2a27-4c49-4695-d186-ab281affc719"
   },
   "outputs": [
    {
     "name": "stdout",
     "output_type": "stream",
     "text": [
      "Минобороны заявило о риске вооруженного конфликта с НАТО из-за\n",
      "провокаций\n",
      "========= summary ==========\n",
      "Позднее «Донбасс» сменил курс. В Кремле сочли инцидент в Азовском море\n",
      "провокацией. НАТО Россия вооруженный конфликт провокации Минобороны Он\n",
      "также обвинил Россию в стягивании войск к границам Украины. Корабль\n",
      "был взят на сопровождение российским кораблем береговой охраны.\n"
     ]
    }
   ],
   "source": [
    "for headline in df.headline:\n",
    "    title_of_doc = headline\n",
    "    doc = df[df.headline == headline]\n",
    "\n",
    "print(wrap(doc['headline'].iloc[0]))\n",
    "print(\"========= summary ==========\")\n",
    "print(wrap(doc['TF_IDF_Summary'].iloc[0]))"
   ]
  },
  {
   "cell_type": "code",
   "execution_count": 31,
   "metadata": {
    "colab": {
     "base_uri": "https://localhost:8080/",
     "height": 424
    },
    "id": "tiMcEuHZT9Xm",
    "outputId": "00b73971-4574-4ab9-989b-dea3b057f774"
   },
   "outputs": [
    {
     "data": {
      "text/html": [
       "\n",
       "  <div id=\"df-33261c27-98f8-4a29-981b-2c7049b543f4\">\n",
       "    <div class=\"colab-df-container\">\n",
       "      <div>\n",
       "<style scoped>\n",
       "    .dataframe tbody tr th:only-of-type {\n",
       "        vertical-align: middle;\n",
       "    }\n",
       "\n",
       "    .dataframe tbody tr th {\n",
       "        vertical-align: top;\n",
       "    }\n",
       "\n",
       "    .dataframe thead th {\n",
       "        text-align: right;\n",
       "    }\n",
       "</style>\n",
       "<table border=\"1\" class=\"dataframe\">\n",
       "  <thead>\n",
       "    <tr style=\"text-align: right;\">\n",
       "      <th></th>\n",
       "      <th>headline</th>\n",
       "      <th>body</th>\n",
       "      <th>TF_IDF_Summary</th>\n",
       "    </tr>\n",
       "  </thead>\n",
       "  <tbody>\n",
       "    <tr>\n",
       "      <th>78d8b9491b72c4e0d0add8f77fa5cc90</th>\n",
       "      <td>Reuters назвал нового главного перестраховщика...</td>\n",
       "      <td>Reuters назвал нового главного перестраховщик...</td>\n",
       "      <td>Также в Лондоне находится Lloyd's of London — ...</td>\n",
       "    </tr>\n",
       "    <tr>\n",
       "      <th>16449d4a36b1db5e87183cb407a54552</th>\n",
       "      <td>Власти предложили строить дома и школы по техн...</td>\n",
       "      <td>Власти предложили строить дома и школы по тех...</td>\n",
       "      <td>м жилья. РБК направил запрос в МЧС. м, ежегодн...</td>\n",
       "    </tr>\n",
       "    <tr>\n",
       "      <th>695434577d5c1ff776910676cef4b6f7</th>\n",
       "      <td>Рогозин заявил о необходимости противоспутнико...</td>\n",
       "      <td>Рогозин заявил о необходимости противоспутник...</td>\n",
       "      <td>Роскосмос Дмитрий Рогозин спутник «Роскосмос» ...</td>\n",
       "    </tr>\n",
       "    <tr>\n",
       "      <th>703096d803b367ec3bebc96f271273a1</th>\n",
       "      <td>Число уроков истории в школах не увеличат из-з...</td>\n",
       "      <td>Число уроков истории в школах не увеличат из-...</td>\n",
       "      <td>«Сегодня основные этапы, основные события нове...</td>\n",
       "    </tr>\n",
       "    <tr>\n",
       "      <th>21295f8f3febaebc9ea5e3c4077f9de8</th>\n",
       "      <td>Суд признал Хёрд виновной в клевете и обязал в...</td>\n",
       "      <td>Суд признал Хёрд виновной в клевете и обязал ...</td>\n",
       "      <td>Тот, в свою очередь, назвал эти заявления клев...</td>\n",
       "    </tr>\n",
       "    <tr>\n",
       "      <th>...</th>\n",
       "      <td>...</td>\n",
       "      <td>...</td>\n",
       "      <td>...</td>\n",
       "    </tr>\n",
       "    <tr>\n",
       "      <th>ec312179c358e03f9c8ac193a8c95367</th>\n",
       "      <td>Маск предложил разблокировать Трампа в Twitter</td>\n",
       "      <td>Маск предложил разблокировать Трампа в Twitte...</td>\n",
       "      <td>После этого Twitter станет частной компанией. ...</td>\n",
       "    </tr>\n",
       "    <tr>\n",
       "      <th>a69ecfe9c2a889291bf00c7d8b3b78a5</th>\n",
       "      <td>Новак сообщил, что половина из 54 покупателей ...</td>\n",
       "      <td>Новак сообщил, что половина из 54 покупателей...</td>\n",
       "      <td>«Это механизм во времени растянутый. Новое тре...</td>\n",
       "    </tr>\n",
       "    <tr>\n",
       "      <th>4bdd54e239712b87b8f5c1eb694ca109</th>\n",
       "      <td>Азербайджан и Казахстан допустили сотрудничест...</td>\n",
       "      <td>Азербайджан и Казахстан допустили сотрудничес...</td>\n",
       "      <td>В 2018 году был запущен третий азербайджанский...</td>\n",
       "    </tr>\n",
       "    <tr>\n",
       "      <th>dc7e8f603555f6de0ff564944d1a6dfe</th>\n",
       "      <td>Попавший под санкции Нисанов вышел из совета д...</td>\n",
       "      <td>Попавший под санкции Нисанов вышел из совета ...</td>\n",
       "      <td>64% акций спорткомплекса, принадлежавших столи...</td>\n",
       "    </tr>\n",
       "    <tr>\n",
       "      <th>e5975725a1f1d997c927fe72b40329f5</th>\n",
       "      <td>Минобороны заявило о риске вооруженного конфли...</td>\n",
       "      <td>Минобороны заявило о риске вооруженного конфл...</td>\n",
       "      <td>Позднее «Донбасс» сменил курс. В Кремле сочли ...</td>\n",
       "    </tr>\n",
       "  </tbody>\n",
       "</table>\n",
       "<p>1534 rows × 3 columns</p>\n",
       "</div>\n",
       "      <button class=\"colab-df-convert\" onclick=\"convertToInteractive('df-33261c27-98f8-4a29-981b-2c7049b543f4')\"\n",
       "              title=\"Convert this dataframe to an interactive table.\"\n",
       "              style=\"display:none;\">\n",
       "        \n",
       "  <svg xmlns=\"http://www.w3.org/2000/svg\" height=\"24px\"viewBox=\"0 0 24 24\"\n",
       "       width=\"24px\">\n",
       "    <path d=\"M0 0h24v24H0V0z\" fill=\"none\"/>\n",
       "    <path d=\"M18.56 5.44l.94 2.06.94-2.06 2.06-.94-2.06-.94-.94-2.06-.94 2.06-2.06.94zm-11 1L8.5 8.5l.94-2.06 2.06-.94-2.06-.94L8.5 2.5l-.94 2.06-2.06.94zm10 10l.94 2.06.94-2.06 2.06-.94-2.06-.94-.94-2.06-.94 2.06-2.06.94z\"/><path d=\"M17.41 7.96l-1.37-1.37c-.4-.4-.92-.59-1.43-.59-.52 0-1.04.2-1.43.59L10.3 9.45l-7.72 7.72c-.78.78-.78 2.05 0 2.83L4 21.41c.39.39.9.59 1.41.59.51 0 1.02-.2 1.41-.59l7.78-7.78 2.81-2.81c.8-.78.8-2.07 0-2.86zM5.41 20L4 18.59l7.72-7.72 1.47 1.35L5.41 20z\"/>\n",
       "  </svg>\n",
       "      </button>\n",
       "      \n",
       "  <style>\n",
       "    .colab-df-container {\n",
       "      display:flex;\n",
       "      flex-wrap:wrap;\n",
       "      gap: 12px;\n",
       "    }\n",
       "\n",
       "    .colab-df-convert {\n",
       "      background-color: #E8F0FE;\n",
       "      border: none;\n",
       "      border-radius: 50%;\n",
       "      cursor: pointer;\n",
       "      display: none;\n",
       "      fill: #1967D2;\n",
       "      height: 32px;\n",
       "      padding: 0 0 0 0;\n",
       "      width: 32px;\n",
       "    }\n",
       "\n",
       "    .colab-df-convert:hover {\n",
       "      background-color: #E2EBFA;\n",
       "      box-shadow: 0px 1px 2px rgba(60, 64, 67, 0.3), 0px 1px 3px 1px rgba(60, 64, 67, 0.15);\n",
       "      fill: #174EA6;\n",
       "    }\n",
       "\n",
       "    [theme=dark] .colab-df-convert {\n",
       "      background-color: #3B4455;\n",
       "      fill: #D2E3FC;\n",
       "    }\n",
       "\n",
       "    [theme=dark] .colab-df-convert:hover {\n",
       "      background-color: #434B5C;\n",
       "      box-shadow: 0px 1px 3px 1px rgba(0, 0, 0, 0.15);\n",
       "      filter: drop-shadow(0px 1px 2px rgba(0, 0, 0, 0.3));\n",
       "      fill: #FFFFFF;\n",
       "    }\n",
       "  </style>\n",
       "\n",
       "      <script>\n",
       "        const buttonEl =\n",
       "          document.querySelector('#df-33261c27-98f8-4a29-981b-2c7049b543f4 button.colab-df-convert');\n",
       "        buttonEl.style.display =\n",
       "          google.colab.kernel.accessAllowed ? 'block' : 'none';\n",
       "\n",
       "        async function convertToInteractive(key) {\n",
       "          const element = document.querySelector('#df-33261c27-98f8-4a29-981b-2c7049b543f4');\n",
       "          const dataTable =\n",
       "            await google.colab.kernel.invokeFunction('convertToInteractive',\n",
       "                                                     [key], {});\n",
       "          if (!dataTable) return;\n",
       "\n",
       "          const docLinkHtml = 'Like what you see? Visit the ' +\n",
       "            '<a target=\"_blank\" href=https://colab.research.google.com/notebooks/data_table.ipynb>data table notebook</a>'\n",
       "            + ' to learn more about interactive tables.';\n",
       "          element.innerHTML = '';\n",
       "          dataTable['output_type'] = 'display_data';\n",
       "          await google.colab.output.renderOutput(dataTable, element);\n",
       "          const docLink = document.createElement('div');\n",
       "          docLink.innerHTML = docLinkHtml;\n",
       "          element.appendChild(docLink);\n",
       "        }\n",
       "      </script>\n",
       "    </div>\n",
       "  </div>\n",
       "  "
      ],
      "text/plain": [
       "                                                                           headline  \\\n",
       "78d8b9491b72c4e0d0add8f77fa5cc90  Reuters назвал нового главного перестраховщика...   \n",
       "16449d4a36b1db5e87183cb407a54552  Власти предложили строить дома и школы по техн...   \n",
       "695434577d5c1ff776910676cef4b6f7  Рогозин заявил о необходимости противоспутнико...   \n",
       "703096d803b367ec3bebc96f271273a1  Число уроков истории в школах не увеличат из-з...   \n",
       "21295f8f3febaebc9ea5e3c4077f9de8  Суд признал Хёрд виновной в клевете и обязал в...   \n",
       "...                                                                             ...   \n",
       "ec312179c358e03f9c8ac193a8c95367     Маск предложил разблокировать Трампа в Twitter   \n",
       "a69ecfe9c2a889291bf00c7d8b3b78a5  Новак сообщил, что половина из 54 покупателей ...   \n",
       "4bdd54e239712b87b8f5c1eb694ca109  Азербайджан и Казахстан допустили сотрудничест...   \n",
       "dc7e8f603555f6de0ff564944d1a6dfe  Попавший под санкции Нисанов вышел из совета д...   \n",
       "e5975725a1f1d997c927fe72b40329f5  Минобороны заявило о риске вооруженного конфли...   \n",
       "\n",
       "                                                                               body  \\\n",
       "78d8b9491b72c4e0d0add8f77fa5cc90   Reuters назвал нового главного перестраховщик...   \n",
       "16449d4a36b1db5e87183cb407a54552   Власти предложили строить дома и школы по тех...   \n",
       "695434577d5c1ff776910676cef4b6f7   Рогозин заявил о необходимости противоспутник...   \n",
       "703096d803b367ec3bebc96f271273a1   Число уроков истории в школах не увеличат из-...   \n",
       "21295f8f3febaebc9ea5e3c4077f9de8   Суд признал Хёрд виновной в клевете и обязал ...   \n",
       "...                                                                             ...   \n",
       "ec312179c358e03f9c8ac193a8c95367   Маск предложил разблокировать Трампа в Twitte...   \n",
       "a69ecfe9c2a889291bf00c7d8b3b78a5   Новак сообщил, что половина из 54 покупателей...   \n",
       "4bdd54e239712b87b8f5c1eb694ca109   Азербайджан и Казахстан допустили сотрудничес...   \n",
       "dc7e8f603555f6de0ff564944d1a6dfe   Попавший под санкции Нисанов вышел из совета ...   \n",
       "e5975725a1f1d997c927fe72b40329f5   Минобороны заявило о риске вооруженного конфл...   \n",
       "\n",
       "                                                                     TF_IDF_Summary  \n",
       "78d8b9491b72c4e0d0add8f77fa5cc90  Также в Лондоне находится Lloyd's of London — ...  \n",
       "16449d4a36b1db5e87183cb407a54552  м жилья. РБК направил запрос в МЧС. м, ежегодн...  \n",
       "695434577d5c1ff776910676cef4b6f7  Роскосмос Дмитрий Рогозин спутник «Роскосмос» ...  \n",
       "703096d803b367ec3bebc96f271273a1  «Сегодня основные этапы, основные события нове...  \n",
       "21295f8f3febaebc9ea5e3c4077f9de8  Тот, в свою очередь, назвал эти заявления клев...  \n",
       "...                                                                             ...  \n",
       "ec312179c358e03f9c8ac193a8c95367  После этого Twitter станет частной компанией. ...  \n",
       "a69ecfe9c2a889291bf00c7d8b3b78a5  «Это механизм во времени растянутый. Новое тре...  \n",
       "4bdd54e239712b87b8f5c1eb694ca109  В 2018 году был запущен третий азербайджанский...  \n",
       "dc7e8f603555f6de0ff564944d1a6dfe  64% акций спорткомплекса, принадлежавших столи...  \n",
       "e5975725a1f1d997c927fe72b40329f5  Позднее «Донбасс» сменил курс. В Кремле сочли ...  \n",
       "\n",
       "[1534 rows x 3 columns]"
      ]
     },
     "execution_count": 31,
     "metadata": {},
     "output_type": "execute_result"
    }
   ],
   "source": [
    "df[['headline', 'article_text', 'TF_IDF_Summary']]"
   ]
  },
  {
   "cell_type": "markdown",
   "metadata": {
    "id": "9Mm7Jq_yv6wl"
   },
   "source": [
    "## **2. Luhn Algorithm**\n",
    "\n",
    "This is one of the earliest approaches of text summarization. Luhn proposed that the significance of each word in a document signifies how important it is. The idea is that any sentence with maximum occurances of the highest frequency words(Stopwords) and least occurances are not important to the meaning of document than others. Although it is not considered very accurate approach.\n",
    "\n",
    "The Detailes of the algorithim can be found in the source link below.\n",
    "\n",
    "source:\n",
    "https://iq.opengenus.org/luhns-heuristic-method-for-text-summarization/\n",
    "\n",
    "\n",
    "Resources:\n",
    "- https://courses.ischool.berkeley.edu/i256/f06/papers/luhn58.pdf\n",
    "- https://www.cs.cmu.edu/~nasmith/LS2/das-martins.07.pdf\n"
   ]
  },
  {
   "cell_type": "markdown",
   "metadata": {
    "id": "nzO2U0d0zM9m"
   },
   "source": [
    "#### **A. Perform Summarization on One Data Sample:**"
   ]
  },
  {
   "cell_type": "code",
   "execution_count": 32,
   "metadata": {
    "colab": {
     "base_uri": "https://localhost:8080/",
     "height": 127
    },
    "execution": {
     "iopub.execute_input": "2022-05-16T20:47:11.624646Z",
     "iopub.status.busy": "2022-05-16T20:47:11.624091Z",
     "iopub.status.idle": "2022-05-16T20:47:11.630618Z",
     "shell.execute_reply": "2022-05-16T20:47:11.629793Z",
     "shell.execute_reply.started": "2022-05-16T20:47:11.624610Z"
    },
    "id": "fh-2IhmbjwHE",
    "outputId": "e4dafd94-4a33-4178-ecba-cf96dbbf336c"
   },
   "outputs": [
    {
     "data": {
      "application/vnd.google.colaboratory.intrinsic+json": {
       "type": "string"
      },
      "text/plain": [
       "' Минобороны заявило о риске вооруженного конфликта с НАТО из-за провокаций Замглавы Минобороны Фомин допустил вооруженный конфликт из-за провокаций НАТО у границ В 2021 году присутствие в черноморской зоне кораблей НАТО «фактически приобрело постоянный характер», а интенсивность действий разведывательной авиации альянса выросла более чем на 60%, сообщили в Минобороны России Провокации НАТО у российских границ могут перерасти в вооруженный конфликт. Об этом заявил заместитель министра обороны России Александр Фомин на брифинге, передает «РИА Новости». «В последнее время альянс перешел к практике прямых провокаций, сопряженных с высоким риском перерастания в вооруженное противостояние», — сказал он. В качестве примера он привел инцидент в Черном море 23 июня, когда британский эсминец УРО «Дефендер» попытался проникнуть в территориальные воды России в районе мыса Фиолент в Крыму. Он указал на то, что действия британского корабля обеспечивал стратегический разведывательный самолет RC-135 США. В целом в 2021 году интенсивность задействования разведывательной авиации в районе Черного моря выросла более чем на 60% по сравнению с прошлым годом, добавил Фомин. Минимальное приближение к российской границе в западной части Крыма составило 15 км. www.adv.rbc.ru Всего НАТО провело в Черном море 15 учений за этот год, тогда как в прошлом — восемь, а присутствие кораблей альянса в акватории приобрело почти постоянный характер, подчеркнул замминистра. По данным Минобороны, в Балтийской морской зоне в этом году странами НАТО совершено более 1,2 тыс. вылетов самолетов и более 50 выходов боевых кораблей на морскую разведку. В начале декабря ФСБ сообщила, что украинский корабль «Донбасс» следовал из Мариуполя к Керченскому проливу и не отвечал на требования изменить курс, создавая угрозу мореплаванию. Корабль был взят на сопровождение российским кораблем береговой охраны. Позднее «Донбасс» сменил курс. В Кремле сочли инцидент в Азовском море провокацией. Официальный представитель МИДа Мария Захарова также выразила уверенность, что это стало частью «комплекса» провокаций против Москвы. Киев расценил инцидент как информационную атаку со стороны России. Министр обороны Украины Алексей Резников выразил недоумение, что ФСБ увидела угрозу в поисково-спасательном судне без оружия. После этого сенатор от Крыма Ольга Ковитиди потребовала рассмотреть инцидент в Совбезе Организации Объединенных Наций (ООН) в экстренном порядке. Она указала на то, что такие инциденты «стремительно приближают к разворачиванию горячего конфликта в самом центре Европы». Министр иностранных дел России Сергей Лавров заявил, что НАТО «замахнулась на порог нашего дома», с чем Россия не будет мириться. Президент России также говорил, что США пришли с ракетами к «порогу нашего дома». В ноябре Минобороны России уже говорило о повышении военной активности США и их союзников по НАТО в Черноморском регионе. В частности, возросла интенсивность действий военно-морских сил, средств воздушной и морской разведки, а также стратегической авиации. Пресс-секретарь Пентагона Джон Кирби в свою очередь заявил, что военные США продолжат проводить операции в Черном море во всех случаях, когда это необходимо. Он также обвинил Россию в стягивании войск к границам Украины. В Кремле, комментируя подобные обвинения, подчеркнули, что у России нет никаких планов по вторжению, а передвижения войск по территории страны назвали внутренним делом. Путин выразил «определенную озабоченность» в связи с крупномасштабными учениями НАТО в Черном море на границе с Россией. НАТО Россия вооруженный конфликт провокации Минобороны '"
      ]
     },
     "execution_count": 32,
     "metadata": {},
     "output_type": "execute_result"
    }
   ],
   "source": [
    "original_text = doc['article_text'].iloc[0]\n",
    "original_text"
   ]
  },
  {
   "cell_type": "markdown",
   "metadata": {
    "id": "ZYxFNH_Lj5C0"
   },
   "source": [
    "Unlike some algorithims, this algorithim needs stop words treatment"
   ]
  },
  {
   "cell_type": "code",
   "execution_count": 33,
   "metadata": {
    "colab": {
     "base_uri": "https://localhost:8080/"
    },
    "execution": {
     "iopub.execute_input": "2022-05-16T20:47:11.633029Z",
     "iopub.status.busy": "2022-05-16T20:47:11.632350Z",
     "iopub.status.idle": "2022-05-16T20:47:11.640601Z",
     "shell.execute_reply": "2022-05-16T20:47:11.639620Z",
     "shell.execute_reply.started": "2022-05-16T20:47:11.632992Z"
    },
    "id": "GzzltMCNXmxi",
    "outputId": "b06e0092-6ed2-4603-f4e5-5707f7ab5e26"
   },
   "outputs": [
    {
     "name": "stdout",
     "output_type": "stream",
     "text": [
      "['и', 'в', 'во', 'не', 'что', 'он', 'на', 'я', 'с', 'со', 'как', 'а', 'то', 'все', 'она', 'так', 'его', 'но', 'да', 'ты', 'к', 'у', 'же', 'вы', 'за', 'бы', 'по', 'только', 'ее', 'мне', 'было', 'вот', 'от', 'меня', 'еще', 'нет', 'о', 'из', 'ему', 'теперь', 'когда', 'даже', 'ну', 'вдруг', 'ли', 'если', 'уже', 'или', 'ни', 'быть', 'был', 'него', 'до', 'вас', 'нибудь', 'опять', 'уж', 'вам', 'ведь', 'там', 'потом', 'себя', 'ничего', 'ей', 'может', 'они', 'тут', 'где', 'есть', 'надо', 'ней', 'для', 'мы', 'тебя', 'их', 'чем', 'была', 'сам', 'чтоб', 'без', 'будто', 'чего', 'раз', 'тоже', 'себе', 'под', 'будет', 'ж', 'тогда', 'кто', 'этот', 'того', 'потому', 'этого', 'какой', 'совсем', 'ним', 'здесь', 'этом', 'один', 'почти', 'мой', 'тем', 'чтобы', 'нее', 'сейчас', 'были', 'куда', 'зачем', 'всех', 'никогда', 'можно', 'при', 'наконец', 'два', 'об', 'другой', 'хоть', 'после', 'над', 'больше', 'тот', 'через', 'эти', 'нас', 'про', 'всего', 'них', 'какая', 'много', 'разве', 'три', 'эту', 'моя', 'впрочем', 'хорошо', 'свою', 'этой', 'перед', 'иногда', 'лучше', 'чуть', 'том', 'нельзя', 'такой', 'им', 'более', 'всегда', 'конечно', 'всю', 'между']\n"
     ]
    }
   ],
   "source": [
    "stopwords = nltk.corpus.stopwords.words('russian')\n",
    "print(stopwords)"
   ]
  },
  {
   "cell_type": "markdown",
   "metadata": {
    "id": "r-zaGp2ikFww"
   },
   "source": [
    "Now, we will define a function that does the required preprocessing for Luhn algorithim"
   ]
  },
  {
   "cell_type": "code",
   "execution_count": 34,
   "metadata": {
    "execution": {
     "iopub.execute_input": "2022-05-16T20:47:11.642884Z",
     "iopub.status.busy": "2022-05-16T20:47:11.642151Z",
     "iopub.status.idle": "2022-05-16T20:47:11.650083Z",
     "shell.execute_reply": "2022-05-16T20:47:11.649222Z",
     "shell.execute_reply.started": "2022-05-16T20:47:11.642847Z"
    },
    "id": "sSqDTmYuYPh6"
   },
   "outputs": [],
   "source": [
    "def preprocess(text):\n",
    "  formatted_text = text.lower()\n",
    "  tokens = []\n",
    "  for token in nltk.word_tokenize(formatted_text):\n",
    "    tokens.append(token)\n",
    "  tokens = [word for word in tokens if word not in stopwords and word not in string.punctuation]\n",
    "  formatted_text = ' '.join(element for element in tokens)\n",
    "\n",
    "  return formatted_text"
   ]
  },
  {
   "cell_type": "code",
   "execution_count": 35,
   "metadata": {
    "colab": {
     "base_uri": "https://localhost:8080/",
     "height": 127
    },
    "execution": {
     "iopub.execute_input": "2022-05-16T20:47:11.653911Z",
     "iopub.status.busy": "2022-05-16T20:47:11.652934Z",
     "iopub.status.idle": "2022-05-16T20:47:11.664374Z",
     "shell.execute_reply": "2022-05-16T20:47:11.663476Z",
     "shell.execute_reply.started": "2022-05-16T20:47:11.653865Z"
    },
    "id": "bLymuwrnYPY4",
    "outputId": "244513ee-32b9-4ba1-9357-1c76458c7b4b"
   },
   "outputs": [
    {
     "data": {
      "application/vnd.google.colaboratory.intrinsic+json": {
       "type": "string"
      },
      "text/plain": [
       "'минобороны заявило риске вооруженного конфликта нато из-за провокаций замглавы минобороны фомин допустил вооруженный конфликт из-за провокаций нато границ 2021 году присутствие черноморской зоне кораблей нато « фактически приобрело постоянный характер » интенсивность действий разведывательной авиации альянса выросла 60 сообщили минобороны россии провокации нато российских границ могут перерасти вооруженный конфликт заявил заместитель министра обороны россии александр фомин брифинге передает « риа новости » « последнее время альянс перешел практике прямых провокаций сопряженных высоким риском перерастания вооруженное противостояние » — сказал качестве примера привел инцидент черном море 23 июня британский эсминец уро « дефендер » попытался проникнуть территориальные воды россии районе мыса фиолент крыму указал действия британского корабля обеспечивал стратегический разведывательный самолет rc-135 сша целом 2021 году интенсивность задействования разведывательной авиации районе черного моря выросла 60 сравнению прошлым годом добавил фомин минимальное приближение российской границе западной части крыма составило 15 км www.adv.rbc.ru нато провело черном море 15 учений год прошлом — восемь присутствие кораблей альянса акватории приобрело постоянный характер подчеркнул замминистра данным минобороны балтийской морской зоне году странами нато совершено 1,2 тыс вылетов самолетов 50 выходов боевых кораблей морскую разведку начале декабря фсб сообщила украинский корабль « донбасс » следовал мариуполя керченскому проливу отвечал требования изменить курс создавая угрозу мореплаванию корабль взят сопровождение российским кораблем береговой охраны позднее « донбасс » сменил курс кремле сочли инцидент азовском море провокацией официальный представитель мида мария захарова также выразила уверенность это стало частью « комплекса » провокаций против москвы киев расценил инцидент информационную атаку стороны россии министр обороны украины алексей резников выразил недоумение фсб увидела угрозу поисково-спасательном судне оружия сенатор крыма ольга ковитиди потребовала рассмотреть инцидент совбезе организации объединенных наций оон экстренном порядке указала такие инциденты « стремительно приближают разворачиванию горячего конфликта самом центре европы » министр иностранных дел россии сергей лавров заявил нато « замахнулась порог нашего дома » россия мириться президент россии также говорил сша пришли ракетами « порогу нашего дома » ноябре минобороны россии говорило повышении военной активности сша союзников нато черноморском регионе частности возросла интенсивность действий военно-морских сил средств воздушной морской разведки также стратегической авиации пресс-секретарь пентагона джон кирби очередь заявил военные сша продолжат проводить операции черном море случаях это необходимо также обвинил россию стягивании войск границам украины кремле комментируя подобные обвинения подчеркнули россии никаких планов вторжению передвижения войск территории страны назвали внутренним делом путин выразил « определенную озабоченность » связи крупномасштабными учениями нато черном море границе россией нато россия вооруженный конфликт провокации минобороны'"
      ]
     },
     "execution_count": 35,
     "metadata": {},
     "output_type": "execute_result"
    }
   ],
   "source": [
    "formatted_text = preprocess(original_text)\n",
    "formatted_text"
   ]
  },
  {
   "cell_type": "markdown",
   "metadata": {
    "id": "bYG_01dCacj6"
   },
   "source": [
    "Below function will be used to calculate sentences score"
   ]
  },
  {
   "cell_type": "code",
   "execution_count": 36,
   "metadata": {
    "execution": {
     "iopub.execute_input": "2022-05-16T20:47:11.666286Z",
     "iopub.status.busy": "2022-05-16T20:47:11.666072Z",
     "iopub.status.idle": "2022-05-16T20:47:11.676377Z",
     "shell.execute_reply": "2022-05-16T20:47:11.675579Z",
     "shell.execute_reply.started": "2022-05-16T20:47:11.666254Z"
    },
    "id": "hUSirUJdYPQK"
   },
   "outputs": [],
   "source": [
    "def calculate_sentences_score(sentences, important_words, distance):\n",
    "  scores = []\n",
    "  sentence_index = 0\n",
    "\n",
    "  for sentence in [nltk.word_tokenize(sentence) for sentence in sentences]:\n",
    "    #print('------------')\n",
    "    #print(sentence)\n",
    "\n",
    "    word_index = []\n",
    "    for word in important_words:\n",
    "      #print(word)\n",
    "      try:\n",
    "        word_index.append(sentence.index(word))\n",
    "      except ValueError:\n",
    "        pass\n",
    "\n",
    "    word_index.sort()\n",
    "    #print(word_index)\n",
    "\n",
    "    if len(word_index) == 0:\n",
    "      continue\n",
    "\n",
    "    # [0, 1, 5]\n",
    "    groups_list = []\n",
    "    group = [word_index[0]]\n",
    "    i = 1 # 3\n",
    "    while i < len(word_index): # 3\n",
    "      # first execution: 1 - 0 = 1\n",
    "      # second execution: 2 - 1 = 1\n",
    "      if word_index[i] - word_index[i - 1] < distance:\n",
    "        group.append(word_index[i])\n",
    "        #print('group', group)\n",
    "      else:\n",
    "        groups_list.append(group[:])\n",
    "        group = [word_index[i]]\n",
    "        #print('group', group)\n",
    "      i += 1\n",
    "    groups_list.append(group)\n",
    "    #print('all groups', groups_list)\n",
    "\n",
    "    max_group_score = 0\n",
    "    for g in groups_list:\n",
    "      #print(g)\n",
    "      important_words_in_group = len(g)\n",
    "      total_words_in_group = g[-1] - g[0] + 1\n",
    "      score = 1.0 * important_words_in_group**2 / total_words_in_group\n",
    "      #print('group score', score)\n",
    "\n",
    "      if score > max_group_score:\n",
    "        max_group_score = score\n",
    "\n",
    "    scores.append((max_group_score, sentence_index))\n",
    "    sentence_index += 1\n",
    "\n",
    "  #print('final scores', scores)\n",
    "  return scores"
   ]
  },
  {
   "cell_type": "markdown",
   "metadata": {
    "id": "UyzcugCmbGh7"
   },
   "source": [
    "In addition, we have developped a function that summarizes the text based on the scores"
   ]
  },
  {
   "cell_type": "code",
   "execution_count": 37,
   "metadata": {
    "execution": {
     "iopub.execute_input": "2022-05-16T20:47:11.678663Z",
     "iopub.status.busy": "2022-05-16T20:47:11.677916Z",
     "iopub.status.idle": "2022-05-16T20:47:11.688287Z",
     "shell.execute_reply": "2022-05-16T20:47:11.687444Z",
     "shell.execute_reply.started": "2022-05-16T20:47:11.678607Z"
    },
    "id": "6jLRGM5yap1U"
   },
   "outputs": [],
   "source": [
    "def summarize_Luhn(text, top_n_words, distance, number_of_sentences, percentage = 0):\n",
    "    original_sentences = [sentence for sentence in nltk.sent_tokenize(text)]\n",
    "    #print(original_sentences)\n",
    "    formatted_sentences = [preprocess(original_sentence) for original_sentence in original_sentences]\n",
    "    #print(formatted_sentences)\n",
    "    words = [word for sentence in formatted_sentences for word in nltk.word_tokenize(sentence)]\n",
    "    #print(words)\n",
    "    frequency = nltk.FreqDist(words)\n",
    "    #print(frequency)\n",
    "    #return frequency\n",
    "    top_n_words = [word[0] for word in frequency.most_common(top_n_words)]\n",
    "    #print(top_n_words)\n",
    "    sentences_score = calculate_sentences_score(formatted_sentences, top_n_words, distance)\n",
    "    #print(sentences_score)\n",
    "    if percentage > 0:\n",
    "    best_sentences = heapq.nlargest(int(len(formatted_sentences) * percentage), sentences_score)\n",
    "    else:  \n",
    "    best_sentences = heapq.nlargest(number_of_sentences, sentences_score)\n",
    "    #print(best_sentences)\n",
    "    best_sentences = [original_sentences[i] for (score, i) in best_sentences]\n",
    "    #print(best_sentences)\n",
    "    return original_sentences, best_sentences, sentences_score"
   ]
  },
  {
   "cell_type": "markdown",
   "metadata": {
    "id": "It0HYeEonhec"
   },
   "source": [
    "After defining the needed functions, it is the time for applying the summerization. "
   ]
  },
  {
   "cell_type": "code",
   "execution_count": 38,
   "metadata": {
    "execution": {
     "iopub.execute_input": "2022-05-16T20:47:11.691907Z",
     "iopub.status.busy": "2022-05-16T20:47:11.691332Z",
     "iopub.status.idle": "2022-05-16T20:47:11.707984Z",
     "shell.execute_reply": "2022-05-16T20:47:11.707256Z",
     "shell.execute_reply.started": "2022-05-16T20:47:11.691869Z"
    },
    "id": "O0zOAkGDapr4"
   },
   "outputs": [],
   "source": [
    "original_sentences, best_sentences, sentences_score = summarize_Luhn(original_text, 5, 2, 4)"
   ]
  },
  {
   "cell_type": "code",
   "execution_count": 39,
   "metadata": {
    "colab": {
     "base_uri": "https://localhost:8080/"
    },
    "execution": {
     "iopub.execute_input": "2022-05-16T20:47:11.709442Z",
     "iopub.status.busy": "2022-05-16T20:47:11.709095Z",
     "iopub.status.idle": "2022-05-16T20:47:11.718341Z",
     "shell.execute_reply": "2022-05-16T20:47:11.717479Z",
     "shell.execute_reply.started": "2022-05-16T20:47:11.709403Z"
    },
    "id": "79ueo-yFapi3",
    "outputId": "d777f151-31eb-4f1e-9661-b8223fd0fab8"
   },
   "outputs": [
    {
     "data": {
      "text/plain": [
       "[' Минобороны заявило о риске вооруженного конфликта с НАТО из-за провокаций Замглавы Минобороны Фомин допустил вооруженный конфликт из-за провокаций НАТО у границ В 2021 году присутствие в черноморской зоне кораблей НАТО «фактически приобрело постоянный характер», а интенсивность действий разведывательной авиации альянса выросла более чем на 60%, сообщили в Минобороны России Провокации НАТО у российских границ могут перерасти в вооруженный конфликт.',\n",
       " 'Об этом заявил заместитель министра обороны России Александр Фомин на брифинге, передает «РИА Новости».',\n",
       " '«В последнее время альянс перешел к практике прямых провокаций, сопряженных с высоким риском перерастания в вооруженное противостояние», — сказал он.',\n",
       " 'В качестве примера он привел инцидент в Черном море 23 июня, когда британский эсминец УРО «Дефендер» попытался проникнуть в территориальные воды России в районе мыса Фиолент в Крыму.',\n",
       " 'Он указал на то, что действия британского корабля обеспечивал стратегический разведывательный самолет RC-135 США.',\n",
       " 'В целом в 2021 году интенсивность задействования разведывательной авиации в районе Черного моря выросла более чем на 60% по сравнению с прошлым годом, добавил Фомин.',\n",
       " 'Минимальное приближение к российской границе в западной части Крыма составило 15 км.',\n",
       " 'www.adv.rbc.ru Всего НАТО провело в Черном море 15 учений за этот год, тогда как в прошлом — восемь, а присутствие кораблей альянса в акватории приобрело почти постоянный характер, подчеркнул замминистра.',\n",
       " 'По данным Минобороны, в Балтийской морской зоне в этом году странами НАТО совершено более 1,2 тыс.',\n",
       " 'вылетов самолетов и более 50 выходов боевых кораблей на морскую разведку.',\n",
       " 'В начале декабря ФСБ сообщила, что украинский корабль «Донбасс» следовал из Мариуполя к Керченскому проливу и не отвечал на требования изменить курс, создавая угрозу мореплаванию.',\n",
       " 'Корабль был взят на сопровождение российским кораблем береговой охраны.',\n",
       " 'Позднее «Донбасс» сменил курс.',\n",
       " 'В Кремле сочли инцидент в Азовском море провокацией.',\n",
       " 'Официальный представитель МИДа Мария Захарова также выразила уверенность, что это стало частью «комплекса» провокаций против Москвы.',\n",
       " 'Киев расценил инцидент как информационную атаку со стороны России.',\n",
       " 'Министр обороны Украины Алексей Резников выразил недоумение, что ФСБ увидела угрозу в поисково-спасательном судне без оружия.',\n",
       " 'После этого сенатор от Крыма Ольга Ковитиди потребовала рассмотреть инцидент в Совбезе Организации Объединенных Наций (ООН) в экстренном порядке.',\n",
       " 'Она указала на то, что такие инциденты «стремительно приближают к разворачиванию горячего конфликта в самом центре Европы».',\n",
       " 'Министр иностранных дел России Сергей Лавров заявил, что НАТО «замахнулась на порог нашего дома», с чем Россия не будет мириться.',\n",
       " 'Президент России также говорил, что США пришли с ракетами к «порогу нашего дома».',\n",
       " 'В ноябре Минобороны России уже говорило о повышении военной активности США и их союзников по НАТО в Черноморском регионе.',\n",
       " 'В частности, возросла интенсивность действий военно-морских сил, средств воздушной и морской разведки, а также стратегической авиации.',\n",
       " 'Пресс-секретарь Пентагона Джон Кирби в свою очередь заявил, что военные США продолжат проводить операции в Черном море во всех случаях, когда это необходимо.',\n",
       " 'Он также обвинил Россию в стягивании войск к границам Украины.',\n",
       " 'В Кремле, комментируя подобные обвинения, подчеркнули, что у России нет никаких планов по вторжению, а передвижения войск по территории страны назвали внутренним делом.',\n",
       " 'Путин выразил «определенную озабоченность» в связи с крупномасштабными учениями НАТО в Черном море на границе с Россией.',\n",
       " 'НАТО Россия вооруженный конфликт провокации Минобороны']"
      ]
     },
     "execution_count": 39,
     "metadata": {},
     "output_type": "execute_result"
    }
   ],
   "source": [
    "original_doc_sentences = original_sentences\n",
    "original_sentences"
   ]
  },
  {
   "cell_type": "code",
   "execution_count": 40,
   "metadata": {
    "colab": {
     "base_uri": "https://localhost:8080/"
    },
    "execution": {
     "iopub.execute_input": "2022-05-16T20:47:11.720134Z",
     "iopub.status.busy": "2022-05-16T20:47:11.719713Z",
     "iopub.status.idle": "2022-05-16T20:47:11.727437Z",
     "shell.execute_reply": "2022-05-16T20:47:11.726692Z",
     "shell.execute_reply.started": "2022-05-16T20:47:11.720094Z"
    },
    "id": "dy-T2RksapZZ",
    "outputId": "61edb37e-9593-4c52-864a-5a83ae308cca"
   },
   "outputs": [
    {
     "data": {
      "text/plain": [
       "['В Кремле сочли инцидент в Азовском море провокацией.',\n",
       " 'Корабль был взят на сопровождение российским кораблем береговой охраны.',\n",
       " 'Министр обороны Украины Алексей Резников выразил недоумение, что ФСБ увидела угрозу в поисково-спасательном судне без оружия.',\n",
       " 'Киев расценил инцидент как информационную атаку со стороны России.']"
      ]
     },
     "execution_count": 40,
     "metadata": {},
     "output_type": "execute_result"
    }
   ],
   "source": [
    "best_sentences"
   ]
  },
  {
   "cell_type": "code",
   "execution_count": 41,
   "metadata": {
    "colab": {
     "base_uri": "https://localhost:8080/"
    },
    "execution": {
     "iopub.execute_input": "2022-05-16T20:47:11.734215Z",
     "iopub.status.busy": "2022-05-16T20:47:11.733647Z",
     "iopub.status.idle": "2022-05-16T20:47:11.740265Z",
     "shell.execute_reply": "2022-05-16T20:47:11.739371Z",
     "shell.execute_reply.started": "2022-05-16T20:47:11.734178Z"
    },
    "id": "tEkzjji9bK8c",
    "outputId": "9d63ce78-06a5-4c99-a783-28f7d88c7e6e"
   },
   "outputs": [
    {
     "data": {
      "text/plain": [
       "[(1.0, 0),\n",
       " (1.0, 1),\n",
       " (1.0, 2),\n",
       " (1.0, 3),\n",
       " (1.0, 4),\n",
       " (1.0, 5),\n",
       " (1.0, 6),\n",
       " (1.0, 7),\n",
       " (1.0, 8),\n",
       " (1.0, 9),\n",
       " (1.0, 10),\n",
       " (2.0, 11),\n",
       " (1.0, 12),\n",
       " (2.0, 13),\n",
       " (1.0, 14),\n",
       " (1.0, 15),\n",
       " (1.0, 16)]"
      ]
     },
     "execution_count": 41,
     "metadata": {},
     "output_type": "execute_result"
    }
   ],
   "source": [
    "sentences_score"
   ]
  },
  {
   "cell_type": "code",
   "execution_count": 42,
   "metadata": {
    "colab": {
     "base_uri": "https://localhost:8080/",
     "height": 377
    },
    "execution": {
     "iopub.execute_input": "2022-05-16T20:47:11.742119Z",
     "iopub.status.busy": "2022-05-16T20:47:11.741698Z",
     "iopub.status.idle": "2022-05-16T20:47:11.751344Z",
     "shell.execute_reply": "2022-05-16T20:47:11.750587Z",
     "shell.execute_reply.started": "2022-05-16T20:47:11.742081Z"
    },
    "id": "E0ks9qYsn8CW",
    "outputId": "cab910e0-06b0-49cb-9144-71efe62be315"
   },
   "outputs": [
    {
     "data": {
      "text/html": [
       "<h2>Summary</h2>"
      ],
      "text/plain": [
       "<IPython.core.display.HTML object>"
      ]
     },
     "metadata": {},
     "output_type": "display_data"
    },
    {
     "data": {
      "text/html": [
       "   Минобороны заявило о риске вооруженного конфликта с НАТО из-за провокаций Замглавы Минобороны Фомин допустил вооруженный конфликт из-за провокаций НАТО у границ В 2021 году присутствие в черноморской зоне кораблей НАТО «фактически приобрело постоянный характер», а интенсивность действий разведывательной авиации альянса выросла более чем на 60%, сообщили в Минобороны России Провокации НАТО у российских границ могут перерасти в вооруженный конфликт. Об этом заявил заместитель министра обороны России Александр Фомин на брифинге, передает «РИА Новости». «В последнее время альянс перешел к практике прямых провокаций, сопряженных с высоким риском перерастания в вооруженное противостояние», — сказал он. В качестве примера он привел инцидент в Черном море 23 июня, когда британский эсминец УРО «Дефендер» попытался проникнуть в территориальные воды России в районе мыса Фиолент в Крыму. Он указал на то, что действия британского корабля обеспечивал стратегический разведывательный самолет RC-135 США. В целом в 2021 году интенсивность задействования разведывательной авиации в районе Черного моря выросла более чем на 60% по сравнению с прошлым годом, добавил Фомин. Минимальное приближение к российской границе в западной части Крыма составило 15 км. www.adv.rbc.ru Всего НАТО провело в Черном море 15 учений за этот год, тогда как в прошлом — восемь, а присутствие кораблей альянса в акватории приобрело почти постоянный характер, подчеркнул замминистра. По данным Минобороны, в Балтийской морской зоне в этом году странами НАТО совершено более 1,2 тыс. вылетов самолетов и более 50 выходов боевых кораблей на морскую разведку. В начале декабря ФСБ сообщила, что украинский корабль «Донбасс» следовал из Мариуполя к Керченскому проливу и не отвечал на требования изменить курс, создавая угрозу мореплаванию. <mark>Корабль был взят на сопровождение российским кораблем береговой охраны.</mark> Позднее «Донбасс» сменил курс. <mark>В Кремле сочли инцидент в Азовском море провокацией.</mark> Официальный представитель МИДа Мария Захарова также выразила уверенность, что это стало частью «комплекса» провокаций против Москвы. <mark>Киев расценил инцидент как информационную атаку со стороны России.</mark> <mark>Министр обороны Украины Алексей Резников выразил недоумение, что ФСБ увидела угрозу в поисково-спасательном судне без оружия.</mark> После этого сенатор от Крыма Ольга Ковитиди потребовала рассмотреть инцидент в Совбезе Организации Объединенных Наций (ООН) в экстренном порядке. Она указала на то, что такие инциденты «стремительно приближают к разворачиванию горячего конфликта в самом центре Европы». Министр иностранных дел России Сергей Лавров заявил, что НАТО «замахнулась на порог нашего дома», с чем Россия не будет мириться. Президент России также говорил, что США пришли с ракетами к «порогу нашего дома». В ноябре Минобороны России уже говорило о повышении военной активности США и их союзников по НАТО в Черноморском регионе. В частности, возросла интенсивность действий военно-морских сил, средств воздушной и морской разведки, а также стратегической авиации. Пресс-секретарь Пентагона Джон Кирби в свою очередь заявил, что военные США продолжат проводить операции в Черном море во всех случаях, когда это необходимо. Он также обвинил Россию в стягивании войск к границам Украины. В Кремле, комментируя подобные обвинения, подчеркнули, что у России нет никаких планов по вторжению, а передвижения войск по территории страны назвали внутренним делом. Путин выразил «определенную озабоченность» в связи с крупномасштабными учениями НАТО в Черном море на границе с Россией. НАТО Россия вооруженный конфликт провокации Минобороны "
      ],
      "text/plain": [
       "<IPython.core.display.HTML object>"
      ]
     },
     "metadata": {},
     "output_type": "display_data"
    }
   ],
   "source": [
    "hilight_summary(original_sentences,best_sentences,sentences_format=1)"
   ]
  },
  {
   "cell_type": "markdown",
   "metadata": {
    "id": "U7OE4liwpA-n"
   },
   "source": [
    "Now, we will apply the summarization to all the articles and store the summary in seperate column"
   ]
  },
  {
   "cell_type": "code",
   "execution_count": 43,
   "metadata": {
    "execution": {
     "iopub.execute_input": "2022-05-16T20:47:11.753254Z",
     "iopub.status.busy": "2022-05-16T20:47:11.752831Z",
     "iopub.status.idle": "2022-05-16T20:47:13.961494Z",
     "shell.execute_reply": "2022-05-16T20:47:13.960781Z",
     "shell.execute_reply.started": "2022-05-16T20:47:11.753217Z"
    },
    "id": "CvbdtiAuqP9p"
   },
   "outputs": [],
   "source": [
    "Luhn_Summaries = []\n",
    "for article in df['article_text']:\n",
    "    original_sentences, best_sentences, sentences_score = summarize_Luhn(article, 5, 2, 4)\n",
    "    summary_text = str('')\n",
    "    for i in best_sentences:\n",
    "        summary_text = summary_text + (\"%s \" % (i))\n",
    "    Luhn_Summaries.append(summary_text)\n",
    "\n",
    "df['Luhn_Summary'] = Luhn_Summaries"
   ]
  },
  {
   "cell_type": "markdown",
   "metadata": {
    "id": "vCF73Rm-syux"
   },
   "source": [
    "Drawing a randome article to see the summary"
   ]
  },
  {
   "cell_type": "code",
   "execution_count": 44,
   "metadata": {
    "colab": {
     "base_uri": "https://localhost:8080/",
     "height": 551
    },
    "execution": {
     "iopub.execute_input": "2022-05-16T20:47:13.963042Z",
     "iopub.status.busy": "2022-05-16T20:47:13.962770Z",
     "iopub.status.idle": "2022-05-16T20:47:13.974387Z",
     "shell.execute_reply": "2022-05-16T20:47:13.973600Z",
     "shell.execute_reply.started": "2022-05-16T20:47:13.963005Z"
    },
    "id": "bBTZb8fCsIkS",
    "outputId": "53da2ff8-eb33-4af2-897d-77a478da8817"
   },
   "outputs": [
    {
     "data": {
      "text/html": [
       "<h2>Summary</h2>"
      ],
      "text/plain": [
       "<IPython.core.display.HTML object>"
      ]
     },
     "metadata": {},
     "output_type": "display_data"
    },
    {
     "data": {
      "text/html": [
       "   Российский экспорт вакцин превысил $1 млрд Поставки препаратов стали рекордными с 1990-х Продажи вакцин для людей, включая «Спутник V», за границу в октябре установили рекорд В октябре Россия поставила за границу рекордный объем «прочих вакцин для людей» — почти как за все лето. С начала года экспорт основного «вакцинного кода», который резко вырос после начала отгрузок «Спутника V», превысил $1,2 млрд За десять месяцев текущего года российский экспорт «прочих вакцин для людей» (по классификационному коду товарной номенклатуры внешнеэкономической деятельности 3002200009) в стоимостном выражении составил более $1,2 млрд (608,6 т в натуральном выражении), следует из данных Федеральной таможенной службы (ФТС), проанализированных РБК. Поставки этих вакцин подскочили в октябре до $356 млн, и это больше чем вдвое превышает сентябрьский объем. Результат октября — это рекорд за всю историю России с начала 1990-х годов. Ранее экспорт вакцин для людей даже в годовом выражении ни разу не превышал $71 млн (экспорт за 12 месяцев 2020 года). По данному коду за сопоставимый период 2020 года Россия экспортировала вакцин лишь на $46,5 млн, за тот же период 2019 года — $49,8 млн. Октябрьские поставки «прочих вакцин» стали рекордными за месяц. В натуральном выражении они составили 168,3 т. Для сравнения, за все лето 2021 года были отправлены на экспорт 203,6 т «прочих вакцин» стоимостью около $410 млн. ФТС не уточняет, как распределяются объемы экспорта по типам под основным «вакцинным кодом». <mark>До 2021 года, как объясняли ранее эксперты, под кодом 3002200009 на экспорт отправлялись вакцины от клещевого энцефалита, комбинированные вакцины против дифтерии, столбняка и коклюша, против гепатита А. Всего за три года — с 2018-го по 2020-й — Россия экспортировала 468,3 т подобных медицинских препаратов на $182,1 млн.</mark> Но резкий рост этой экспортной категории начался в 2021 году, после начала масштабного производства «Спутника V», вакцины от COVID. Уже за первое полугодие 2021-го Россия продала за рубеж почти вдвое больше вакцин в стоимостном выражении, чем за три предыдущих года суммарно. Ранее в Минпромторге РБК подтверждали, что рост экспорта вакцин под этим кодом действительно связан преимущественно с поставками противоковидных вакцин на международные рынки. <mark>Однако в ФТС не смогли уточнить объемы экспорта именно вакцин от COVID.</mark> www.adv.rbc.ru Поставки крупной партии в Мексику Больше всего в стоимостном и натуральном выражении «прочих вакцин» в октябре закупила Мексика — 39 т на $121 млн. <mark>Ранее эта страна не фигурировала в числе самых крупных покупателей российской вакцины.</mark> О том, что 585 тыс. доз вакцины «Спутник V» доставлены в страну, в середине октября заявлял Минздрав. <mark>Первые поставки в эту страну начались в феврале 2021 года.</mark> В итоге Мексика вышла на второе место по закупкам российских вакцин в январе—октябре, как следует из данных ФТС России. Одна из крупнейших поставок «прочих вакцин для людей» в октябре в натуральном выражении пошла в Узбекистан — 34 т. Однако в денежном выражении этому соответствует лишь $3,5 млн. В целом в пятерке стран, которые покупали российские «прочие вакцины» в 2021 году, Аргентина (почти $220 млн), Мексика ($190 млн), Объединенные Арабские Эмираты (почти $126 млн), Казахстан ($114 млн), Индия (около $112 млн). На эти страны приходится более 60% экспорта вакцин под данным кодом в стоимостном выражении. В 2020 году продажи таких вакцин в эти страны составляли всего несколько миллионов долларов. Все страны, нарастившие в 2021 году закупки российских вакцин, ранее заключили контракты на поставку «Спутника V», который одобрен уже в 71 стране. В Российском фонде прямых инвестиций (РФПИ), владельце компании Human Vaccine, занимающейся в том числе и экспортными контрактами, отказались от комментариев. В Научно-исследовательском центре эпидемиологии и микробиологии им. Н.Ф. Гамалеи (разработчик «Спутника V» — единственной на текущий момент экспортной вакцины от COVID-19) поясняли, что экспорт вакцины за рубеж находится в компетенции РФПИ. Один из первых глобальных экспортных продуктов России Представитель базирующейся в Лондоне компании Airfinity, занимающейся аналитикой и данными в области глобального здравоохранения, рассказал РБК, что, согласно подсчетам фирмы по открытым источникам, Россия к настоящему времени экспортировала 105 млн доз вакцины от COVID-19 в 55 стран. Соглашения о поставках вакцины заключены у России с 63 странами. По этим контрактам Россия должна поставить в общей сложности около 1 млрд доз, отмечает Airfinity, то есть исполнено около 10% обязательств. Директор по развитию в аналитической компании RNC Pharma Николай Беспалов считает, что уже к концу 2020 года было понятно, что «Спутник V» претендует на то, чтобы стать серьезным по объемам экспортным продуктом, на это была направлена деятельность со стороны РФПИ. Миллиардные поставки вакцины не будут для рынка неожиданностью, но они могли бы быть и больше, считает эксперт. «Ранее у России почти не было глобальных экспортных продуктов [в несырьевом сегменте]. Был интересный кейс с поставками вакцины от желтой лихорадки Центра им. М.П. Чумакова, но они были предназначены ограниченному количеству получателей. Здесь же мы имеем дело с мировыми поставками, к таким объемам производства не был готов никто в мире. Они сопоставимы только с вакциной для профилактики гриппа, но, во-первых, у последней есть выраженная сезонность, а во-вторых, для антиковидной вакцины пришлось с нуля создать огромный рыночный сегмент», — сказал Беспалов. В России есть системная проблема с тем, что «на стадии разработки все хорошо, но проблемы возникают на этапе производства», добавил эксперт. Спутник V Центр имени Гамалеи РФПИ экспорт вакцинация от COVID-19 "
      ],
      "text/plain": [
       "<IPython.core.display.HTML object>"
      ]
     },
     "metadata": {},
     "output_type": "display_data"
    }
   ],
   "source": [
    "sample_article2 = df.sample()\n",
    "hilight_summary(sample_article2['article_text'].iloc[0],sample_article2['Luhn_Summary'].iloc[0])"
   ]
  },
  {
   "cell_type": "markdown",
   "metadata": {
    "id": "Z3YPdJJr5tR8"
   },
   "source": [
    "## **3. Cosine similarity**\n",
    "Cosine similarity is one of the metric to measure the text-similarity between two documents irrespective of their size in Natural language Processing. A word is represented into a vector form. The text documents are represented in n-dimensional vector space.\n",
    "\n",
    "Mathematically, Cosine similarity metric measures the cosine of the angle between two n-dimensional vectors projected in a multi-dimensional space. The Cosine similarity of two documents will range from 0 to 1. If the Cosine similarity score is 1, it means two vectors have the same orientation. The value closer to 0 indicates that the two documents have less similarity.\n",
    "\n",
    "Resources:\n",
    "- https://en.wikipedia.org/wiki/Cosine_similarity \n",
    "- https://studymachinelearning.com/cosine-similarity-text-similarity-metric/\n"
   ]
  },
  {
   "cell_type": "code",
   "execution_count": 45,
   "metadata": {
    "execution": {
     "iopub.execute_input": "2022-05-16T20:47:13.976469Z",
     "iopub.status.busy": "2022-05-16T20:47:13.975856Z",
     "iopub.status.idle": "2022-05-16T20:47:13.980932Z",
     "shell.execute_reply": "2022-05-16T20:47:13.980119Z",
     "shell.execute_reply.started": "2022-05-16T20:47:13.976429Z"
    },
    "id": "93EmQAGy67ru"
   },
   "outputs": [],
   "source": [
    "original_sentences = original_doc_sentences"
   ]
  },
  {
   "cell_type": "markdown",
   "metadata": {
    "id": "noBC93uXtPKF"
   },
   "source": [
    "We will continue using the same stopwords and preprocessing function we define earlier for Lhun. Also, we will keep using the same original text used previously.\n",
    "\n",
    "Now, we will define a function to calculate sentence similarity using cosine similarity."
   ]
  },
  {
   "cell_type": "code",
   "execution_count": 46,
   "metadata": {
    "execution": {
     "iopub.execute_input": "2022-05-16T20:47:13.983036Z",
     "iopub.status.busy": "2022-05-16T20:47:13.982489Z",
     "iopub.status.idle": "2022-05-16T20:47:13.991344Z",
     "shell.execute_reply": "2022-05-16T20:47:13.990626Z",
     "shell.execute_reply.started": "2022-05-16T20:47:13.983001Z"
    },
    "id": "OaWy_N-LWwrO"
   },
   "outputs": [],
   "source": [
    "def calculate_sentence_similarity(sentence1, sentence2):\n",
    "    words1 = [word for word in nltk.word_tokenize(sentence1)]\n",
    "    words2 = [word for word in nltk.word_tokenize(sentence2)]\n",
    "    #print(words1)\n",
    "    #print(words2)\n",
    "\n",
    "    all_words = list(set(words1 + words2))\n",
    "    #print(all_words)\n",
    "\n",
    "    vector1 = [0] * len(all_words)\n",
    "    vector2 = [0] * len(all_words)\n",
    "    #print(vector1)\n",
    "    #print(vector2)\n",
    "\n",
    "    for word in words1: # Bag of words\n",
    "    #print(word)\n",
    "    vector1[all_words.index(word)] += 1\n",
    "    for word in words2:\n",
    "    vector2[all_words.index(word)] += 1\n",
    "\n",
    "    #print(vector1)\n",
    "    #print(vector2)\n",
    "\n",
    "    return 1 - cosine_distance(vector1, vector2)"
   ]
  },
  {
   "cell_type": "markdown",
   "metadata": {
    "id": "BFnm7NeluvFc"
   },
   "source": [
    "We are using the same original sentences and showing the similarity score for first and fourth setences"
   ]
  },
  {
   "cell_type": "code",
   "execution_count": 47,
   "metadata": {
    "colab": {
     "base_uri": "https://localhost:8080/"
    },
    "execution": {
     "iopub.execute_input": "2022-05-16T20:47:13.993250Z",
     "iopub.status.busy": "2022-05-16T20:47:13.992719Z",
     "iopub.status.idle": "2022-05-16T20:47:14.004812Z",
     "shell.execute_reply": "2022-05-16T20:47:14.004053Z",
     "shell.execute_reply.started": "2022-05-16T20:47:13.993212Z"
    },
    "id": "5tuAyHahWwiq",
    "outputId": "11bf9671-9d0f-4caf-a45f-6756ad3db3c5"
   },
   "outputs": [
    {
     "data": {
      "text/plain": [
       "0.28223355773559566"
      ]
     },
     "execution_count": 47,
     "metadata": {},
     "output_type": "execute_result"
    }
   ],
   "source": [
    "calculate_sentence_similarity(original_sentences[0], original_sentences[3])"
   ]
  },
  {
   "cell_type": "markdown",
   "metadata": {
    "id": "e4GBcIsJZc6G"
   },
   "source": [
    "Below is a function that creates the similarity matrix:\n",
    "- The higher the value, the greater the similarity between the sentences\n",
    "- The more words in common, the greater the similarity"
   ]
  },
  {
   "cell_type": "code",
   "execution_count": 48,
   "metadata": {
    "execution": {
     "iopub.execute_input": "2022-05-16T20:47:14.006591Z",
     "iopub.status.busy": "2022-05-16T20:47:14.006135Z",
     "iopub.status.idle": "2022-05-16T20:47:14.013748Z",
     "shell.execute_reply": "2022-05-16T20:47:14.012977Z",
     "shell.execute_reply.started": "2022-05-16T20:47:14.006556Z"
    },
    "id": "OWICGkmmWwZy"
   },
   "outputs": [],
   "source": [
    "def calculate_similarity_matrix(sentences):\n",
    "    similarity_matrix = np.zeros((len(sentences), len(sentences)))\n",
    "    #print(similarity_matrix)\n",
    "    for i in range(len(sentences)):\n",
    "        for j in range(len(sentences)):\n",
    "            if i == j:\n",
    "                continue\n",
    "            similarity_matrix[i][j] = calculate_sentence_similarity(sentences[i], sentences[j])\n",
    "    return similarity_matrix"
   ]
  },
  {
   "cell_type": "code",
   "execution_count": 49,
   "metadata": {
    "colab": {
     "base_uri": "https://localhost:8080/"
    },
    "execution": {
     "iopub.execute_input": "2022-05-16T20:47:14.017097Z",
     "iopub.status.busy": "2022-05-16T20:47:14.016152Z",
     "iopub.status.idle": "2022-05-16T20:47:14.099390Z",
     "shell.execute_reply": "2022-05-16T20:47:14.098588Z",
     "shell.execute_reply.started": "2022-05-16T20:47:14.017067Z"
    },
    "id": "KMhNfz5IWwQI",
    "outputId": "29b1c148-660d-464d-9ed1-5e3361f50e6b"
   },
   "outputs": [
    {
     "data": {
      "text/plain": [
       "array([[0.        , 0.18579547, 0.26547739, 0.28223356, 0.09853293,\n",
       "        0.41376009, 0.10931247, 0.39225297, 0.41862002, 0.11377602,\n",
       "        0.15676493, 0.0623177 , 0.11172584, 0.16422155, 0.15422843,\n",
       "        0.0623177 , 0.1393466 , 0.14079065, 0.21501648, 0.28444006,\n",
       "        0.16728422, 0.30845685, 0.23188676, 0.19788526, 0.11883518,\n",
       "        0.21285545, 0.32180719, 0.44248489],\n",
       "       [0.18579547, 0.        , 0.22680461, 0.17766726, 0.1767767 ,\n",
       "        0.17213259, 0.06537205, 0.13900961, 0.15811388, 0.13608276,\n",
       "        0.25      , 0.1490712 , 0.26726124, 0.07856742, 0.21081851,\n",
       "        0.1490712 , 0.16666667, 0.04811252, 0.25717225, 0.36288737,\n",
       "        0.28583098, 0.10540926, 0.18490007, 0.17213259, 0.07106691,\n",
       "        0.21821789, 0.19245009, 0.        ],\n",
       "       [0.26547739, 0.22680461, 0.        , 0.31914237, 0.14433757,\n",
       "        0.24595493, 0.16012815, 0.31212739, 0.21516574, 0.05555556,\n",
       "        0.30618622, 0.06085806, 0.21821789, 0.19245009, 0.25819889,\n",
       "        0.06085806, 0.18144368, 0.11785113, 0.29397237, 0.2962963 ,\n",
       "        0.32673202, 0.12909944, 0.30194054, 0.24595493, 0.17407766,\n",
       "        0.29695694, 0.27498597, 0.        ],\n",
       "       [0.28223356, 0.17766726, 0.31914237, 0.        , 0.07537784,\n",
       "        0.33028913, 0.2090605 , 0.4000988 , 0.33709993, 0.04351941,\n",
       "        0.15990054, 0.04767313, 0.17094086, 0.40201513, 0.13483997,\n",
       "        0.14301939, 0.21320072, 0.30772873, 0.26318068, 0.17407766,\n",
       "        0.18281811, 0.23596995, 0.1478281 , 0.38533732, 0.22727273,\n",
       "        0.16283474, 0.40004735, 0.        ],\n",
       "       [0.09853293, 0.1767767 , 0.14433757, 0.07537784, 0.        ,\n",
       "        0.13693064, 0.06933752, 0.14744196, 0.1118034 , 0.14433757,\n",
       "        0.22097087, 0.15811388, 0.09449112, 0.08333333, 0.1677051 ,\n",
       "        0.07905694, 0.1767767 , 0.05103104, 0.27277236, 0.24056261,\n",
       "        0.24253563, 0.1118034 , 0.19611614, 0.22821773, 0.15075567,\n",
       "        0.23145502, 0.10206207, 0.        ],\n",
       "       [0.41376009, 0.17213259, 0.24595493, 0.33028913, 0.13693064,\n",
       "        0.        , 0.15191091, 0.26919095, 0.32659863, 0.15811388,\n",
       "        0.16137431, 0.11547005, 0.06900656, 0.24343225, 0.08164966,\n",
       "        0.05773503, 0.17213259, 0.186339  , 0.19920477, 0.21081851,\n",
       "        0.13284223, 0.20412415, 0.25064021, 0.23333333, 0.16514456,\n",
       "        0.22537447, 0.2981424 , 0.        ],\n",
       "       [0.10931247, 0.06537205, 0.16012815, 0.2090605 , 0.06933752,\n",
       "        0.15191091, 0.        , 0.20446521, 0.1860521 , 0.08006408,\n",
       "        0.09805807, 0.0877058 , 0.10482848, 0.18490007, 0.06201737,\n",
       "        0.0877058 , 0.13074409, 0.22645541, 0.18156826, 0.05337605,\n",
       "        0.13453456, 0.12403473, 0.05439283, 0.15191091, 0.2508726 ,\n",
       "        0.04279605, 0.22645541, 0.        ],\n",
       "       [0.39225297, 0.13900961, 0.31212739, 0.4000988 , 0.14744196,\n",
       "        0.26919095, 0.20446521, 0.        , 0.36265926, 0.08512565,\n",
       "        0.18245011, 0.04662524, 0.05572782, 0.24573659, 0.13187609,\n",
       "        0.09325048, 0.24326682, 0.21067524, 0.22522131, 0.22700174,\n",
       "        0.14303971, 0.16484512, 0.31807321, 0.40378643, 0.17782169,\n",
       "        0.31851103, 0.30096463, 0.06019293],\n",
       "       [0.41862002, 0.15811388, 0.21516574, 0.33709993, 0.1118034 ,\n",
       "        0.32659863, 0.1860521 , 0.36265926, 0.        , 0.12909944,\n",
       "        0.11858541, 0.07071068, 0.08451543, 0.2236068 , 0.1       ,\n",
       "        0.07071068, 0.21081851, 0.22821773, 0.19518001, 0.17213259,\n",
       "        0.10846523, 0.25      , 0.2192645 , 0.2857738 , 0.20225996,\n",
       "        0.17251639, 0.27386128, 0.18257419],\n",
       "       [0.11377602, 0.13608276, 0.05555556, 0.04351941, 0.14433757,\n",
       "        0.15811388, 0.08006408, 0.08512565, 0.12909944, 0.        ,\n",
       "        0.15309311, 0.18257419, 0.10910895, 0.09622504, 0.06454972,\n",
       "        0.09128709, 0.06804138, 0.05892557, 0.12598816, 0.11111111,\n",
       "        0.070014  , 0.12909944, 0.1132277 , 0.05270463, 0.08703883,\n",
       "        0.04454354, 0.11785113, 0.        ],\n",
       "       [0.15676493, 0.25      , 0.30618622, 0.15990054, 0.22097087,\n",
       "        0.16137431, 0.09805807, 0.18245011, 0.11858541, 0.15309311,\n",
       "        0.        , 0.1118034 , 0.33407655, 0.11785113, 0.23717082,\n",
       "        0.0559017 , 0.25      , 0.03608439, 0.3086067 , 0.34020691,\n",
       "        0.30012252, 0.11858541, 0.31201886, 0.19364917, 0.10660036,\n",
       "        0.3000496 , 0.14433757, 0.        ],\n",
       "       [0.0623177 , 0.1490712 , 0.06085806, 0.04767313, 0.15811388,\n",
       "        0.11547005, 0.0877058 , 0.04662524, 0.07071068, 0.18257419,\n",
       "        0.1118034 , 0.        , 0.11952286, 0.10540926, 0.07071068,\n",
       "        0.1       , 0.0745356 , 0.06454972, 0.13801311, 0.12171612,\n",
       "        0.0766965 , 0.07071068, 0.06201737, 0.05773503, 0.09534626,\n",
       "        0.048795  , 0.12909944, 0.        ],\n",
       "       [0.11172584, 0.26726124, 0.21821789, 0.17094086, 0.09449112,\n",
       "        0.06900656, 0.10482848, 0.05572782, 0.08451543, 0.10910895,\n",
       "        0.33407655, 0.11952286, 0.        , 0.12598816, 0.25354628,\n",
       "        0.11952286, 0.08908708, 0.07715167, 0.24743583, 0.21821789,\n",
       "        0.27500955, 0.08451543, 0.07412493, 0.06900656, 0.11396058,\n",
       "        0.05832118, 0.23145502, 0.        ],\n",
       "       [0.16422155, 0.07856742, 0.19245009, 0.40201513, 0.08333333,\n",
       "        0.24343225, 0.18490007, 0.24573659, 0.2236068 , 0.09622504,\n",
       "        0.11785113, 0.10540926, 0.12598816, 0.        , 0.0745356 ,\n",
       "        0.21081851, 0.15713484, 0.27216553, 0.14547859, 0.06415003,\n",
       "        0.08084521, 0.2236068 , 0.13074409, 0.24343225, 0.20100756,\n",
       "        0.15430335, 0.27216553, 0.        ],\n",
       "       [0.15422843, 0.21081851, 0.25819889, 0.13483997, 0.1677051 ,\n",
       "        0.08164966, 0.06201737, 0.13187609, 0.1       , 0.06454972,\n",
       "        0.23717082, 0.07071068, 0.25354628, 0.0745356 , 0.        ,\n",
       "        0.07071068, 0.15811388, 0.04564355, 0.24397502, 0.25819889,\n",
       "        0.32539569, 0.05      , 0.2192645 , 0.20412415, 0.13483997,\n",
       "        0.20701967, 0.13693064, 0.        ],\n",
       "       [0.0623177 , 0.1490712 , 0.06085806, 0.14301939, 0.07905694,\n",
       "        0.05773503, 0.0877058 , 0.09325048, 0.07071068, 0.09128709,\n",
       "        0.0559017 , 0.1       , 0.11952286, 0.21081851, 0.07071068,\n",
       "        0.        , 0.0745356 , 0.12909944, 0.06900656, 0.12171612,\n",
       "        0.153393  , 0.14142136, 0.06201737, 0.05773503, 0.09534626,\n",
       "        0.09759001, 0.06454972, 0.        ],\n",
       "       [0.1393466 , 0.16666667, 0.18144368, 0.21320072, 0.1767767 ,\n",
       "        0.17213259, 0.13074409, 0.24326682, 0.21081851, 0.06804138,\n",
       "        0.25      , 0.0745356 , 0.08908708, 0.15713484, 0.15811388,\n",
       "        0.0745356 , 0.        , 0.14433757, 0.2057378 , 0.22680461,\n",
       "        0.17149859, 0.10540926, 0.18490007, 0.25819889, 0.21320072,\n",
       "        0.21821789, 0.19245009, 0.        ],\n",
       "       [0.14079065, 0.04811252, 0.11785113, 0.30772873, 0.05103104,\n",
       "        0.186339  , 0.22645541, 0.21067524, 0.22821773, 0.05892557,\n",
       "        0.03608439, 0.06454972, 0.07715167, 0.27216553, 0.04564355,\n",
       "        0.12909944, 0.14433757, 0.        , 0.13363062, 0.03928371,\n",
       "        0.04950738, 0.13693064, 0.04003204, 0.186339  , 0.18463724,\n",
       "        0.03149704, 0.20833333, 0.        ],\n",
       "       [0.21501648, 0.25717225, 0.29397237, 0.26318068, 0.27277236,\n",
       "        0.19920477, 0.18156826, 0.22522131, 0.19518001, 0.12598816,\n",
       "        0.3086067 , 0.13801311, 0.24743583, 0.14547859, 0.24397502,\n",
       "        0.06900656, 0.2057378 , 0.13363062, 0.        , 0.29397237,\n",
       "        0.31755367, 0.09759001, 0.1711842 , 0.23904572, 0.19738551,\n",
       "        0.20203051, 0.26726124, 0.        ],\n",
       "       [0.28444006, 0.36288737, 0.2962963 , 0.17407766, 0.24056261,\n",
       "        0.21081851, 0.05337605, 0.22700174, 0.17213259, 0.11111111,\n",
       "        0.34020691, 0.12171612, 0.21821789, 0.06415003, 0.25819889,\n",
       "        0.12171612, 0.22680461, 0.03928371, 0.29397237, 0.        ,\n",
       "        0.46676003, 0.12909944, 0.26419797, 0.24595493, 0.05802589,\n",
       "        0.32665263, 0.27498597, 0.15713484],\n",
       "       [0.16728422, 0.28583098, 0.32673202, 0.18281811, 0.24253563,\n",
       "        0.13284223, 0.13453456, 0.14303971, 0.10846523, 0.070014  ,\n",
       "        0.30012252, 0.0766965 , 0.27500955, 0.08084521, 0.32539569,\n",
       "        0.153393  , 0.17149859, 0.04950738, 0.31755367, 0.46676003,\n",
       "        0.        , 0.16269784, 0.23782575, 0.22140372, 0.21938173,\n",
       "        0.26196842, 0.24753689, 0.        ],\n",
       "       [0.30845685, 0.10540926, 0.12909944, 0.23596995, 0.1118034 ,\n",
       "        0.20412415, 0.12403473, 0.16484512, 0.25      , 0.12909944,\n",
       "        0.11858541, 0.07071068, 0.08451543, 0.2236068 , 0.05      ,\n",
       "        0.14142136, 0.10540926, 0.13693064, 0.09759001, 0.12909944,\n",
       "        0.16269784, 0.        , 0.1315587 , 0.16329932, 0.13483997,\n",
       "        0.17251639, 0.18257419, 0.18257419],\n",
       "       [0.23188676, 0.18490007, 0.30194054, 0.1478281 , 0.19611614,\n",
       "        0.25064021, 0.05439283, 0.31807321, 0.2192645 , 0.1132277 ,\n",
       "        0.31201886, 0.06201737, 0.07412493, 0.13074409, 0.2192645 ,\n",
       "        0.06201737, 0.18490007, 0.04003204, 0.1711842 , 0.26419797,\n",
       "        0.23782575, 0.1315587 , 0.        , 0.25064021, 0.11826248,\n",
       "        0.45392065, 0.04003204, 0.        ],\n",
       "       [0.19788526, 0.17213259, 0.24595493, 0.38533732, 0.22821773,\n",
       "        0.23333333, 0.15191091, 0.40378643, 0.2857738 , 0.05270463,\n",
       "        0.19364917, 0.05773503, 0.06900656, 0.24343225, 0.20412415,\n",
       "        0.05773503, 0.25819889, 0.186339  , 0.23904572, 0.24595493,\n",
       "        0.22140372, 0.16329932, 0.25064021, 0.        , 0.16514456,\n",
       "        0.28171808, 0.2608746 , 0.        ],\n",
       "       [0.11883518, 0.07106691, 0.17407766, 0.22727273, 0.15075567,\n",
       "        0.16514456, 0.2508726 , 0.17782169, 0.20225996, 0.08703883,\n",
       "        0.10660036, 0.09534626, 0.11396058, 0.20100756, 0.13483997,\n",
       "        0.09534626, 0.21320072, 0.18463724, 0.19738551, 0.05802589,\n",
       "        0.21938173, 0.13483997, 0.11826248, 0.16514456, 0.        ,\n",
       "        0.09304842, 0.18463724, 0.        ],\n",
       "       [0.21285545, 0.21821789, 0.29695694, 0.16283474, 0.23145502,\n",
       "        0.22537447, 0.04279605, 0.31851103, 0.17251639, 0.04454354,\n",
       "        0.3000496 , 0.048795  , 0.05832118, 0.15430335, 0.20701967,\n",
       "        0.09759001, 0.21821789, 0.03149704, 0.20203051, 0.32665263,\n",
       "        0.26196842, 0.17251639, 0.45392065, 0.28171808, 0.09304842,\n",
       "        0.        , 0.03149704, 0.        ],\n",
       "       [0.32180719, 0.19245009, 0.27498597, 0.40004735, 0.10206207,\n",
       "        0.2981424 , 0.22645541, 0.30096463, 0.27386128, 0.11785113,\n",
       "        0.14433757, 0.12909944, 0.23145502, 0.27216553, 0.13693064,\n",
       "        0.06454972, 0.19245009, 0.20833333, 0.26726124, 0.27498597,\n",
       "        0.24753689, 0.18257419, 0.04003204, 0.2608746 , 0.18463724,\n",
       "        0.03149704, 0.        , 0.08333333],\n",
       "       [0.44248489, 0.        , 0.        , 0.        , 0.        ,\n",
       "        0.        , 0.        , 0.06019293, 0.18257419, 0.        ,\n",
       "        0.        , 0.        , 0.        , 0.        , 0.        ,\n",
       "        0.        , 0.        , 0.        , 0.        , 0.15713484,\n",
       "        0.        , 0.18257419, 0.        , 0.        , 0.        ,\n",
       "        0.        , 0.08333333, 0.        ]])"
      ]
     },
     "execution_count": 49,
     "metadata": {},
     "output_type": "execute_result"
    }
   ],
   "source": [
    "calculate_similarity_matrix(original_sentences)"
   ]
  },
  {
   "cell_type": "markdown",
   "metadata": {
    "id": "8mh_VT5d8KP9"
   },
   "source": [
    "Since we sow what is the similarity matrix, we can use the same function to evaluate and get the best summary."
   ]
  },
  {
   "cell_type": "code",
   "execution_count": 57,
   "metadata": {
    "execution": {
     "iopub.execute_input": "2022-05-16T20:47:14.101499Z",
     "iopub.status.busy": "2022-05-16T20:47:14.100960Z",
     "iopub.status.idle": "2022-05-16T20:47:14.109978Z",
     "shell.execute_reply": "2022-05-16T20:47:14.109192Z",
     "shell.execute_reply.started": "2022-05-16T20:47:14.101454Z"
    },
    "id": "2Sg0okou8j5v"
   },
   "outputs": [],
   "source": [
    "def summarize_cosine(text, number_of_sentences, percentage = 0):\n",
    "    original_sentences = [sentence for sentence in nltk.sent_tokenize(text)]\n",
    "    formatted_sentences = [preprocess(original_sentence) for original_sentence in original_sentences]\n",
    "    similarity_matrix = calculate_similarity_matrix(formatted_sentences)\n",
    "\n",
    "    similarity_graph = nx.from_numpy_array(similarity_matrix)\n",
    "\n",
    "\n",
    "    scores = nx.pagerank_numpy(similarity_graph)\n",
    "    ordered_scores = sorted(((scores[i], score) for i, score in enumerate(original_sentences)), reverse=True)\n",
    "\n",
    "    if percentage > 0:\n",
    "        number_of_sentences = int(len(formatted_sentences) * percentage)\n",
    "        number_of_sentences = min(number_of_sentences, len(ordered_scores))\n",
    "    best_sentences = []\n",
    "\n",
    "    for sentence in range(number_of_sentences):\n",
    "        best_sentences.append(ordered_scores[sentence][1])\n",
    "  \n",
    "    return original_sentences, best_sentences, ordered_scores"
   ]
  },
  {
   "cell_type": "markdown",
   "metadata": {
    "id": "WWSmN9rfA2Um"
   },
   "source": [
    "After developing all needed functions for evaluation and summarization, we need to perform the summary on the selected article. We selected the top four highly ranked sentences to for the summary."
   ]
  },
  {
   "cell_type": "code",
   "execution_count": 58,
   "metadata": {
    "colab": {
     "base_uri": "https://localhost:8080/"
    },
    "execution": {
     "iopub.execute_input": "2022-05-16T20:47:14.111639Z",
     "iopub.status.busy": "2022-05-16T20:47:14.111332Z",
     "iopub.status.idle": "2022-05-16T20:47:14.178216Z",
     "shell.execute_reply": "2022-05-16T20:47:14.177482Z",
     "shell.execute_reply.started": "2022-05-16T20:47:14.111588Z"
    },
    "id": "M8YrMKdkaERj",
    "outputId": "0154c833-208d-437f-e5a6-6f5df07e86a8"
   },
   "outputs": [
    {
     "name": "stderr",
     "output_type": "stream",
     "text": [
      "/usr/local/lib/python3.7/dist-packages/ipykernel_launcher.py:11: DeprecationWarning: networkx.pagerank_numpy is deprecated and will be removed in NetworkX 3.0, use networkx.pagerank instead.\n",
      "  # This is added back by InteractiveShellApp.init_path()\n"
     ]
    }
   ],
   "source": [
    "original_sentences, best_sentences_cosine, scores = summarize_cosine(original_text, 4)"
   ]
  },
  {
   "cell_type": "markdown",
   "metadata": {
    "id": "444PRWPpBVKT"
   },
   "source": [
    "Now, let us take a look into the highly ranked sentences."
   ]
  },
  {
   "cell_type": "code",
   "execution_count": 59,
   "metadata": {
    "colab": {
     "base_uri": "https://localhost:8080/"
    },
    "execution": {
     "iopub.execute_input": "2022-05-16T20:47:14.180093Z",
     "iopub.status.busy": "2022-05-16T20:47:14.179597Z",
     "iopub.status.idle": "2022-05-16T20:47:14.185218Z",
     "shell.execute_reply": "2022-05-16T20:47:14.184544Z",
     "shell.execute_reply.started": "2022-05-16T20:47:14.180053Z"
    },
    "id": "OHy1zYqNZ7Fu",
    "outputId": "218a858b-31bb-4a43-d056-ac05f371921c"
   },
   "outputs": [
    {
     "data": {
      "text/plain": [
       "[' Минобороны заявило о риске вооруженного конфликта с НАТО из-за провокаций Замглавы Минобороны Фомин допустил вооруженный конфликт из-за провокаций НАТО у границ В 2021 году присутствие в черноморской зоне кораблей НАТО «фактически приобрело постоянный характер», а интенсивность действий разведывательной авиации альянса выросла более чем на 60%, сообщили в Минобороны России Провокации НАТО у российских границ могут перерасти в вооруженный конфликт.',\n",
       " 'Президент России также говорил, что США пришли с ракетами к «порогу нашего дома».',\n",
       " 'Министр иностранных дел России Сергей Лавров заявил, что НАТО «замахнулась на порог нашего дома», с чем Россия не будет мириться.',\n",
       " 'Путин выразил «определенную озабоченность» в связи с крупномасштабными учениями НАТО в Черном море на границе с Россией.']"
      ]
     },
     "execution_count": 59,
     "metadata": {},
     "output_type": "execute_result"
    }
   ],
   "source": [
    "best_sentences_cosine"
   ]
  },
  {
   "cell_type": "markdown",
   "metadata": {
    "id": "30CV0s79BhhO"
   },
   "source": [
    "Below are all the sentences along with their scours"
   ]
  },
  {
   "cell_type": "markdown",
   "metadata": {
    "id": "tTWhdPtxBv38"
   },
   "source": [
    "It is the time to visualize the summary highlighted on the original context"
   ]
  },
  {
   "cell_type": "code",
   "execution_count": 61,
   "metadata": {
    "colab": {
     "base_uri": "https://localhost:8080/",
     "height": 377
    },
    "execution": {
     "iopub.execute_input": "2022-05-16T20:47:14.197122Z",
     "iopub.status.busy": "2022-05-16T20:47:14.196682Z",
     "iopub.status.idle": "2022-05-16T20:47:14.206872Z",
     "shell.execute_reply": "2022-05-16T20:47:14.206153Z",
     "shell.execute_reply.started": "2022-05-16T20:47:14.197083Z"
    },
    "id": "r4RO4cObP4fH",
    "outputId": "c3825b39-c687-4380-fdc5-9ed8d8161dbb"
   },
   "outputs": [
    {
     "data": {
      "text/html": [
       "<h2>Summary</h2>"
      ],
      "text/plain": [
       "<IPython.core.display.HTML object>"
      ]
     },
     "metadata": {},
     "output_type": "display_data"
    },
    {
     "data": {
      "text/html": [
       "  <mark> Минобороны заявило о риске вооруженного конфликта с НАТО из-за провокаций Замглавы Минобороны Фомин допустил вооруженный конфликт из-за провокаций НАТО у границ В 2021 году присутствие в черноморской зоне кораблей НАТО «фактически приобрело постоянный характер», а интенсивность действий разведывательной авиации альянса выросла более чем на 60%, сообщили в Минобороны России Провокации НАТО у российских границ могут перерасти в вооруженный конфликт.</mark> Об этом заявил заместитель министра обороны России Александр Фомин на брифинге, передает «РИА Новости». «В последнее время альянс перешел к практике прямых провокаций, сопряженных с высоким риском перерастания в вооруженное противостояние», — сказал он. В качестве примера он привел инцидент в Черном море 23 июня, когда британский эсминец УРО «Дефендер» попытался проникнуть в территориальные воды России в районе мыса Фиолент в Крыму. Он указал на то, что действия британского корабля обеспечивал стратегический разведывательный самолет RC-135 США. В целом в 2021 году интенсивность задействования разведывательной авиации в районе Черного моря выросла более чем на 60% по сравнению с прошлым годом, добавил Фомин. Минимальное приближение к российской границе в западной части Крыма составило 15 км. www.adv.rbc.ru Всего НАТО провело в Черном море 15 учений за этот год, тогда как в прошлом — восемь, а присутствие кораблей альянса в акватории приобрело почти постоянный характер, подчеркнул замминистра. По данным Минобороны, в Балтийской морской зоне в этом году странами НАТО совершено более 1,2 тыс. вылетов самолетов и более 50 выходов боевых кораблей на морскую разведку. В начале декабря ФСБ сообщила, что украинский корабль «Донбасс» следовал из Мариуполя к Керченскому проливу и не отвечал на требования изменить курс, создавая угрозу мореплаванию. Корабль был взят на сопровождение российским кораблем береговой охраны. Позднее «Донбасс» сменил курс. В Кремле сочли инцидент в Азовском море провокацией. Официальный представитель МИДа Мария Захарова также выразила уверенность, что это стало частью «комплекса» провокаций против Москвы. Киев расценил инцидент как информационную атаку со стороны России. Министр обороны Украины Алексей Резников выразил недоумение, что ФСБ увидела угрозу в поисково-спасательном судне без оружия. После этого сенатор от Крыма Ольга Ковитиди потребовала рассмотреть инцидент в Совбезе Организации Объединенных Наций (ООН) в экстренном порядке. Она указала на то, что такие инциденты «стремительно приближают к разворачиванию горячего конфликта в самом центре Европы». <mark>Министр иностранных дел России Сергей Лавров заявил, что НАТО «замахнулась на порог нашего дома», с чем Россия не будет мириться.</mark> <mark>Президент России также говорил, что США пришли с ракетами к «порогу нашего дома».</mark> В ноябре Минобороны России уже говорило о повышении военной активности США и их союзников по НАТО в Черноморском регионе. В частности, возросла интенсивность действий военно-морских сил, средств воздушной и морской разведки, а также стратегической авиации. Пресс-секретарь Пентагона Джон Кирби в свою очередь заявил, что военные США продолжат проводить операции в Черном море во всех случаях, когда это необходимо. Он также обвинил Россию в стягивании войск к границам Украины. В Кремле, комментируя подобные обвинения, подчеркнули, что у России нет никаких планов по вторжению, а передвижения войск по территории страны назвали внутренним делом. <mark>Путин выразил «определенную озабоченность» в связи с крупномасштабными учениями НАТО в Черном море на границе с Россией.</mark> НАТО Россия вооруженный конфликт провокации Минобороны "
      ],
      "text/plain": [
       "<IPython.core.display.HTML object>"
      ]
     },
     "metadata": {},
     "output_type": "display_data"
    }
   ],
   "source": [
    "hilight_summary(original_sentences,best_sentences_cosine,sentences_format=1)"
   ]
  },
  {
   "cell_type": "markdown",
   "metadata": {
    "id": "lduUlMrK-YpZ"
   },
   "source": [
    "## **4. Sumy**\n",
    "\n",
    "__Sumy__ is a library to extract summaries from HTML pages or plain texts. By utilizing __Sumy__, we will be performing two summarization techniques:\n",
    "* TextRankSummarizer\n",
    "* LSA Summarizer\n",
    "\n",
    "\n",
    "For more information about Sumy, you could visit the official library's documentation page.\n",
    "- library's pypi page: https://pypi.org/project/sumy/\n",
    "\n"
   ]
  },
  {
   "cell_type": "markdown",
   "metadata": {
    "id": "MiURj-Y2qGw5"
   },
   "source": [
    "### **A. Sumy Installation** "
   ]
  },
  {
   "cell_type": "code",
   "execution_count": 79,
   "metadata": {
    "colab": {
     "base_uri": "https://localhost:8080/"
    },
    "execution": {
     "iopub.execute_input": "2022-05-16T20:47:36.986151Z",
     "iopub.status.busy": "2022-05-16T20:47:36.985829Z",
     "iopub.status.idle": "2022-05-16T20:47:51.030761Z",
     "shell.execute_reply": "2022-05-16T20:47:51.029819Z",
     "shell.execute_reply.started": "2022-05-16T20:47:36.986114Z"
    },
    "id": "h9q5RzkB-NQh",
    "outputId": "cb943194-d54d-4a55-9de8-612584960600"
   },
   "outputs": [
    {
     "name": "stdout",
     "output_type": "stream",
     "text": [
      "Looking in indexes: https://pypi.org/simple, https://us-python.pkg.dev/colab-wheels/public/simple/\n",
      "Collecting sumy\n",
      "  Downloading sumy-0.10.0-py2.py3-none-any.whl (94 kB)\n",
      "\u001b[K     |████████████████████████████████| 94 kB 1.7 MB/s \n",
      "\u001b[?25hCollecting breadability>=0.1.20\n",
      "  Downloading breadability-0.1.20.tar.gz (32 kB)\n",
      "Collecting pycountry>=18.2.23\n",
      "  Downloading pycountry-22.3.5.tar.gz (10.1 MB)\n",
      "\u001b[K     |████████████████████████████████| 10.1 MB 26.9 MB/s \n",
      "\u001b[?25h  Installing build dependencies ... \u001b[?25l\u001b[?25hdone\n",
      "  Getting requirements to build wheel ... \u001b[?25l\u001b[?25hdone\n",
      "    Preparing wheel metadata ... \u001b[?25l\u001b[?25hdone\n",
      "Requirement already satisfied: requests>=2.7.0 in /usr/local/lib/python3.7/dist-packages (from sumy) (2.23.0)\n",
      "Requirement already satisfied: nltk>=3.0.2 in /usr/local/lib/python3.7/dist-packages (from sumy) (3.2.5)\n",
      "Requirement already satisfied: docopt<0.7,>=0.6.1 in /usr/local/lib/python3.7/dist-packages (from sumy) (0.6.2)\n",
      "Requirement already satisfied: chardet in /usr/local/lib/python3.7/dist-packages (from breadability>=0.1.20->sumy) (3.0.4)\n",
      "Requirement already satisfied: lxml>=2.0 in /usr/local/lib/python3.7/dist-packages (from breadability>=0.1.20->sumy) (4.2.6)\n",
      "Requirement already satisfied: six in /usr/local/lib/python3.7/dist-packages (from nltk>=3.0.2->sumy) (1.15.0)\n",
      "Requirement already satisfied: setuptools in /usr/local/lib/python3.7/dist-packages (from pycountry>=18.2.23->sumy) (57.4.0)\n",
      "Requirement already satisfied: idna<3,>=2.5 in /usr/local/lib/python3.7/dist-packages (from requests>=2.7.0->sumy) (2.10)\n",
      "Requirement already satisfied: certifi>=2017.4.17 in /usr/local/lib/python3.7/dist-packages (from requests>=2.7.0->sumy) (2022.5.18.1)\n",
      "Requirement already satisfied: urllib3!=1.25.0,!=1.25.1,<1.26,>=1.21.1 in /usr/local/lib/python3.7/dist-packages (from requests>=2.7.0->sumy) (1.24.3)\n",
      "Building wheels for collected packages: breadability, pycountry\n",
      "  Building wheel for breadability (setup.py) ... \u001b[?25l\u001b[?25hdone\n",
      "  Created wheel for breadability: filename=breadability-0.1.20-py2.py3-none-any.whl size=21712 sha256=e4b3e0d06e543618a6c82050c1d5efcb41869011911797a5df7d175da27542e0\n",
      "  Stored in directory: /root/.cache/pip/wheels/d4/bf/51/81d27ad638e1a6dca4f362ecc33d1e2c764b8ea7ec751b8fc1\n",
      "  Building wheel for pycountry (PEP 517) ... \u001b[?25l\u001b[?25hdone\n",
      "  Created wheel for pycountry: filename=pycountry-22.3.5-py2.py3-none-any.whl size=10681845 sha256=880ae0c325c47c748aea5d53dc0e2b2286efd1f051cadd3d24bc57a35fe064fd\n",
      "  Stored in directory: /root/.cache/pip/wheels/0e/06/e8/7ee176e95ea9a8a8c3b3afcb1869f20adbd42413d4611c6eb4\n",
      "Successfully built breadability pycountry\n",
      "Installing collected packages: pycountry, breadability, sumy\n",
      "Successfully installed breadability-0.1.20 pycountry-22.3.5 sumy-0.10.0\n"
     ]
    }
   ],
   "source": [
    "!pip install sumy"
   ]
  },
  {
   "cell_type": "code",
   "execution_count": 80,
   "metadata": {
    "execution": {
     "iopub.execute_input": "2022-05-16T20:47:51.033278Z",
     "iopub.status.busy": "2022-05-16T20:47:51.032671Z",
     "iopub.status.idle": "2022-05-16T20:47:51.058021Z",
     "shell.execute_reply": "2022-05-16T20:47:51.057058Z",
     "shell.execute_reply.started": "2022-05-16T20:47:51.033223Z"
    },
    "id": "Hgv0nhrtYrwj"
   },
   "outputs": [],
   "source": [
    "from sumy.summarizers.text_rank import TextRankSummarizer\n",
    "from sumy.summarizers.lsa import LsaSummarizer\n",
    "from sumy.parsers.plaintext import PlaintextParser\n",
    "from sumy.nlp.tokenizers import Tokenizer"
   ]
  },
  {
   "cell_type": "markdown",
   "metadata": {
    "id": "G1abJKnC-eCL"
   },
   "source": [
    "### **B. TextRankSummarizer**\n",
    "Text Rank is a kind of graph-based ranking algorithm used for recommendation purposes. TextRank is used in various applications where text sentences are involved. It worked on the ranking of text sentences and recursively computed based on information available in the entire text.\n",
    "\n",
    "TextRank builds the graph related to the text. In a graph, each sentence is considered as vertex and each vertex is linked to the other vertex. These vertices cast a vote for another vertex. The importance of each vertex is defined by the higher number of votes. This importance is Here goal is to rank the sentences and this rank.\n",
    "\n",
    "<br/>\n",
    "\n",
    "Resources:\n",
    "- https://medium.com/@ondenyi.eric/extractive-text-summarization-techniques-with-sumy-3d3b127a0a32\n",
    "- https://machinelearninggeek.com/text-summarization-using-python/\n",
    "\n",
    "##### **B.1 Perform Summarization on One Data Sample:**\n",
    "Apply textranksummarizer to our test paragraph"
   ]
  },
  {
   "cell_type": "code",
   "execution_count": 81,
   "metadata": {
    "execution": {
     "iopub.execute_input": "2022-05-16T20:47:51.059857Z",
     "iopub.status.busy": "2022-05-16T20:47:51.059548Z",
     "iopub.status.idle": "2022-05-16T20:47:51.066280Z",
     "shell.execute_reply": "2022-05-16T20:47:51.065267Z",
     "shell.execute_reply.started": "2022-05-16T20:47:51.059815Z"
    },
    "id": "ktjzal-mYrnn"
   },
   "outputs": [],
   "source": [
    "def text_rank_summarizer(text, number_of_sentences):\n",
    "    summarizer = TextRankSummarizer()\n",
    "    parser = PlaintextParser.from_string(\n",
    "      text,\n",
    "      Tokenizer(\"russian\"))\n",
    "    summary = summarizer(parser.document, sentences_count= number_of_sentences)\n",
    "\n",
    "    summary_text = ''\n",
    "    for s in summary:\n",
    "        summary_text = summary_text +' '+ str(s)\n",
    "  \n",
    "    return summary_text.strip()"
   ]
  },
  {
   "cell_type": "code",
   "execution_count": 82,
   "metadata": {
    "colab": {
     "base_uri": "https://localhost:8080/",
     "height": 377
    },
    "execution": {
     "iopub.execute_input": "2022-05-16T20:47:51.068731Z",
     "iopub.status.busy": "2022-05-16T20:47:51.068267Z",
     "iopub.status.idle": "2022-05-16T20:47:51.280354Z",
     "shell.execute_reply": "2022-05-16T20:47:51.279631Z",
     "shell.execute_reply.started": "2022-05-16T20:47:51.068689Z"
    },
    "id": "QOOOBA6bAdSX",
    "outputId": "978f6cd1-b2ac-4ee0-f4b8-8fc17770b40e"
   },
   "outputs": [
    {
     "data": {
      "text/html": [
       "<h2>Summary</h2>"
      ],
      "text/plain": [
       "<IPython.core.display.HTML object>"
      ]
     },
     "metadata": {},
     "output_type": "display_data"
    },
    {
     "data": {
      "text/html": [
       "   Минобороны заявило о риске вооруженного конфликта с НАТО из-за провокаций Замглавы Минобороны Фомин допустил вооруженный конфликт из-за провокаций НАТО у границ В 2021 году присутствие в черноморской зоне кораблей НАТО «фактически приобрело постоянный характер», а интенсивность действий разведывательной авиации альянса выросла более чем на 60%, сообщили в Минобороны России Провокации НАТО у российских границ могут перерасти в вооруженный конфликт. Об этом заявил заместитель министра обороны России Александр Фомин на брифинге, передает «РИА Новости». «В последнее время альянс перешел к практике прямых провокаций, сопряженных с высоким риском перерастания в вооруженное противостояние», — сказал он. <mark>В качестве примера он привел инцидент в Черном море 23 июня, когда британский эсминец УРО «Дефендер» попытался проникнуть в территориальные воды России в районе мыса Фиолент в Крыму.</mark> Он указал на то, что действия британского корабля обеспечивал стратегический разведывательный самолет RC-135 США. <mark>В целом в 2021 году интенсивность задействования разведывательной авиации в районе Черного моря выросла более чем на 60% по сравнению с прошлым годом, добавил Фомин.</mark> Минимальное приближение к российской границе в западной части Крыма составило 15 км. <mark>www.adv.rbc.ru Всего НАТО провело в Черном море 15 учений за этот год, тогда как в прошлом — восемь, а присутствие кораблей альянса в акватории приобрело почти постоянный характер, подчеркнул замминистра.</mark> По данным Минобороны, в Балтийской морской зоне в этом году странами НАТО совершено более 1,2 тыс. вылетов самолетов и более 50 выходов боевых кораблей на морскую разведку. В начале декабря ФСБ сообщила, что украинский корабль «Донбасс» следовал из Мариуполя к Керченскому проливу и не отвечал на требования изменить курс, создавая угрозу мореплаванию. Корабль был взят на сопровождение российским кораблем береговой охраны. Позднее «Донбасс» сменил курс. В Кремле сочли инцидент в Азовском море провокацией. Официальный представитель МИДа Мария Захарова также выразила уверенность, что это стало частью «комплекса» провокаций против Москвы. Киев расценил инцидент как информационную атаку со стороны России. Министр обороны Украины Алексей Резников выразил недоумение, что ФСБ увидела угрозу в поисково-спасательном судне без оружия. После этого сенатор от Крыма Ольга Ковитиди потребовала рассмотреть инцидент в Совбезе Организации Объединенных Наций (ООН) в экстренном порядке. Она указала на то, что такие инциденты «стремительно приближают к разворачиванию горячего конфликта в самом центре Европы». Министр иностранных дел России Сергей Лавров заявил, что НАТО «замахнулась на порог нашего дома», с чем Россия не будет мириться. Президент России также говорил, что США пришли с ракетами к «порогу нашего дома». В ноябре Минобороны России уже говорило о повышении военной активности США и их союзников по НАТО в Черноморском регионе. В частности, возросла интенсивность действий военно-морских сил, средств воздушной и морской разведки, а также стратегической авиации. Пресс-секретарь Пентагона Джон Кирби в свою очередь заявил, что военные США продолжат проводить операции в Черном море во всех случаях, когда это необходимо. Он также обвинил Россию в стягивании войск к границам Украины. В Кремле, комментируя подобные обвинения, подчеркнули, что у России нет никаких планов по вторжению, а передвижения войск по территории страны назвали внутренним делом. <mark>Путин выразил «определенную озабоченность» в связи с крупномасштабными учениями НАТО в Черном море на границе с Россией.</mark> НАТО Россия вооруженный конфликт провокации Минобороны "
      ],
      "text/plain": [
       "<IPython.core.display.HTML object>"
      ]
     },
     "metadata": {},
     "output_type": "display_data"
    }
   ],
   "source": [
    "hilight_summary(doc['article_text'].iloc[0],text_rank_summarizer(doc['article_text'].iloc[0],5))"
   ]
  },
  {
   "cell_type": "markdown",
   "metadata": {
    "id": "xy7hV5hmB3Gu"
   },
   "source": [
    "Apply the textranksummarizer to all article"
   ]
  },
  {
   "cell_type": "code",
   "execution_count": 83,
   "metadata": {
    "execution": {
     "iopub.execute_input": "2022-05-16T20:47:51.282217Z",
     "iopub.status.busy": "2022-05-16T20:47:51.281777Z",
     "iopub.status.idle": "2022-05-16T20:47:53.588734Z",
     "shell.execute_reply": "2022-05-16T20:47:53.587952Z",
     "shell.execute_reply.started": "2022-05-16T20:47:51.282171Z"
    },
    "id": "80tDeMIZAF4P"
   },
   "outputs": [],
   "source": [
    "text_rank_summaries = []\n",
    "for article in df['article_text']:\n",
    "    summary_text = text_rank_summarizer(article,5)\n",
    "    text_rank_summaries.append(summary_text)\n",
    "\n",
    "df['Sumy_Text_Rank_Summarizer_Summary'] = text_rank_summaries"
   ]
  },
  {
   "cell_type": "code",
   "execution_count": 84,
   "metadata": {
    "colab": {
     "base_uri": "https://localhost:8080/",
     "height": 307
    },
    "execution": {
     "iopub.execute_input": "2022-05-16T20:47:53.590223Z",
     "iopub.status.busy": "2022-05-16T20:47:53.589993Z",
     "iopub.status.idle": "2022-05-16T20:47:53.599710Z",
     "shell.execute_reply": "2022-05-16T20:47:53.598956Z",
     "shell.execute_reply.started": "2022-05-16T20:47:53.590191Z"
    },
    "id": "4GoyO7c4Dr41",
    "outputId": "06f4a6bc-5687-4aee-b142-687fdadaba06"
   },
   "outputs": [
    {
     "data": {
      "text/html": [
       "<h2>Summary</h2>"
      ],
      "text/plain": [
       "<IPython.core.display.HTML object>"
      ]
     },
     "metadata": {},
     "output_type": "display_data"
    },
    {
     "data": {
      "text/html": [
       "   В Думе предложили ввести кешбэк для автотуристов Депутаты предложили ввести летний кешбэк в 20% для автомобильных туристов, направляющихся на юг по платным дорогам при условии оплаты картой «Мир». <mark>Работа аэропортов в Анапе, Краснодаре, Геленджике и других городах приостановлена Вице-спикеры Госдумы Сергей Неверов, Шолбан Кара-оол и Владислав Даванков предложили ввести кешбэк в летний сезон для экономии тех, кто путешествует на собственных автомобилях по платным дорогам.</mark> Об этом говорится на сайте партии «Новые люди». Кешбэк составит 20%, для его получения будет необходимо воспользоваться картами «Мир» за проезд или пополнить баланс транспондера T-Pass. При этом объем кешбэка вырастет до 100% для некоторых категорий россиян — пенсионеров, многодетных семей и остальных «социально незащищенных» жителей страны. Даванков указал, что сейчас многие международные перелеты отменились, аэропорты южных городов России закрыты, из-за чего билеты на поезд выросли в цене. К примеру, добавил он, за билет на поезд Москва — Сочи и в обратную сторону придется заплатить больше 3 тыс. руб. <mark>www.adv.rbc.ru www.adv.rbc.ru «Кешбэк позволит путешественникам больше потратить на отдых, а южным регионам — сохранить поток туристов и достойно пройти летний сезон», — считает депутат, отметив, что в 2020 году подобная практика уже применялась на федеральных трассах «Дон», «Украина» и «Нева».</mark> Спикер Госдумы Вячеслав Володин поручил проработать инициативу депутатов, ее поддержал Минтранс, комитеты нижней палаты парламента по транспорту, туризму и развитию туристической инфраструктуры. <mark>Полеты в аэропорты ряда городов на юге России запретила Росавиация по требованиям безопасности после начала военной операции на Украине в конце февраля.</mark> Запрет коснулся 11 городов: Ростова-на-Дону, Краснодара, Анапы, Белгорода, Геленджика, Симферополя, Элисты, Курска, Липецка, Воронежа и Брянска. Ограничительная мера с тех пор не раз продлевалась, сейчас она продлена до 23 июня. Рост спроса на поездки на юг ожидают в РЖД, компания сообщила о планах пополнить составы 1,7 тыс. вагонов, что даст 50–70 тыс. дополнительных мест для туристов, которые направляются на курорты Черного моря и Минеральных Вод. Ежедневно в Анапу, Адлер, Новороссийск, Краснодар и Кисловодск будут курсировать до 90 составов. В РЖД пообещали предотвратить рост цен на билеты в этом году. Программа кешбэка при оплате туристических поездок картой «Мир» по России действует с августа 2020 года, в ней принимают участие все российские регионы. <mark>Согласно условиям программы, для получения части средств обратно следует приобрести и оплатить картой «Мир» готовый тур или отдельно проживание в отеле в этот период.</mark> Получить возврат за счет бюджета можно только при отдыхе внутри России, размер кешбэка — 20% от стоимости поездки, но не более 20 тыс. руб. "
      ],
      "text/plain": [
       "<IPython.core.display.HTML object>"
      ]
     },
     "metadata": {},
     "output_type": "display_data"
    }
   ],
   "source": [
    "sumdem = df.sample()\n",
    "# sumdem['Sumy_Text_Rank_Summarizer_Summary'].iloc[0]\n",
    "hilight_summary(sumdem['article_text'].iloc[0],sumdem['Sumy_Text_Rank_Summarizer_Summary'].iloc[0])"
   ]
  },
  {
   "cell_type": "markdown",
   "metadata": {
    "id": "mMR3pQU3GwKM"
   },
   "source": [
    "### **C. LSA Summarizer**\n",
    "Latent Semantic Analysis is based on Singular value decomposition(SVD). It reduces the data into lower-dimensional space. It performs spatial decomposition and captures information in a singular vector and the magnitude of so singular vector will represent the importance.\n"
   ]
  },
  {
   "cell_type": "markdown",
   "metadata": {
    "id": "UxOo7QW6Fwyk"
   },
   "source": [
    "##### **C.1 Perform Summarization on One Data Sample:**\n",
    "Apply textranksummarizer to our test paragraph"
   ]
  },
  {
   "cell_type": "code",
   "execution_count": 85,
   "metadata": {
    "execution": {
     "iopub.execute_input": "2022-05-16T20:47:53.601632Z",
     "iopub.status.busy": "2022-05-16T20:47:53.601137Z",
     "iopub.status.idle": "2022-05-16T20:47:53.609370Z",
     "shell.execute_reply": "2022-05-16T20:47:53.608667Z",
     "shell.execute_reply.started": "2022-05-16T20:47:53.601597Z"
    },
    "id": "hBG6OIHyHVb8"
   },
   "outputs": [],
   "source": [
    "def LSA_summarizer(text, number_of_sentences):\n",
    "    summarizer = LsaSummarizer()\n",
    "    parser = PlaintextParser.from_string(\n",
    "      text,\n",
    "      Tokenizer(\"russian\"))\n",
    "    summary = summarizer(parser.document, sentences_count= number_of_sentences)\n",
    "\n",
    "    summary_text = ''\n",
    "    for s in summary:\n",
    "        summary_text = summary_text + ' '+ str(s)\n",
    "\n",
    "    return summary_text.strip()"
   ]
  },
  {
   "cell_type": "code",
   "execution_count": 86,
   "metadata": {
    "colab": {
     "base_uri": "https://localhost:8080/",
     "height": 377
    },
    "execution": {
     "iopub.execute_input": "2022-05-16T20:47:53.610942Z",
     "iopub.status.busy": "2022-05-16T20:47:53.610661Z",
     "iopub.status.idle": "2022-05-16T20:47:53.640113Z",
     "shell.execute_reply": "2022-05-16T20:47:53.639423Z",
     "shell.execute_reply.started": "2022-05-16T20:47:53.610908Z"
    },
    "id": "As3D4m6tHhpW",
    "outputId": "80d7c927-8a64-4166-f303-df0aa24f52dc"
   },
   "outputs": [
    {
     "data": {
      "text/html": [
       "<h2>Summary</h2>"
      ],
      "text/plain": [
       "<IPython.core.display.HTML object>"
      ]
     },
     "metadata": {},
     "output_type": "display_data"
    },
    {
     "data": {
      "text/html": [
       "   Минобороны заявило о риске вооруженного конфликта с НАТО из-за провокаций Замглавы Минобороны Фомин допустил вооруженный конфликт из-за провокаций НАТО у границ В 2021 году присутствие в черноморской зоне кораблей НАТО «фактически приобрело постоянный характер», а интенсивность действий разведывательной авиации альянса выросла более чем на 60%, сообщили в Минобороны России Провокации НАТО у российских границ могут перерасти в вооруженный конфликт. Об этом заявил заместитель министра обороны России Александр Фомин на брифинге, передает «РИА Новости». «В последнее время альянс перешел к практике прямых провокаций, сопряженных с высоким риском перерастания в вооруженное противостояние», — сказал он. В качестве примера он привел инцидент в Черном море 23 июня, когда британский эсминец УРО «Дефендер» попытался проникнуть в территориальные воды России в районе мыса Фиолент в Крыму. Он указал на то, что действия британского корабля обеспечивал стратегический разведывательный самолет RC-135 США. В целом в 2021 году интенсивность задействования разведывательной авиации в районе Черного моря выросла более чем на 60% по сравнению с прошлым годом, добавил Фомин. Минимальное приближение к российской границе в западной части Крыма составило 15 км. www.adv.rbc.ru Всего НАТО провело в Черном море 15 учений за этот год, тогда как в прошлом — восемь, а присутствие кораблей альянса в акватории приобрело почти постоянный характер, подчеркнул замминистра. По данным Минобороны, в Балтийской морской зоне в этом году странами НАТО совершено более 1,2 тыс. вылетов самолетов и более 50 выходов боевых кораблей на морскую разведку. <mark>В начале декабря ФСБ сообщила, что украинский корабль «Донбасс» следовал из Мариуполя к Керченскому проливу и не отвечал на требования изменить курс, создавая угрозу мореплаванию.</mark> Корабль был взят на сопровождение российским кораблем береговой охраны. Позднее «Донбасс» сменил курс. В Кремле сочли инцидент в Азовском море провокацией. <mark>Официальный представитель МИДа Мария Захарова также выразила уверенность, что это стало частью «комплекса» провокаций против Москвы.</mark> Киев расценил инцидент как информационную атаку со стороны России. Министр обороны Украины Алексей Резников выразил недоумение, что ФСБ увидела угрозу в поисково-спасательном судне без оружия. После этого сенатор от Крыма Ольга Ковитиди потребовала рассмотреть инцидент в Совбезе Организации Объединенных Наций (ООН) в экстренном порядке. <mark>Она указала на то, что такие инциденты «стремительно приближают к разворачиванию горячего конфликта в самом центре Европы».</mark> <mark>Министр иностранных дел России Сергей Лавров заявил, что НАТО «замахнулась на порог нашего дома», с чем Россия не будет мириться.</mark> Президент России также говорил, что США пришли с ракетами к «порогу нашего дома». В ноябре Минобороны России уже говорило о повышении военной активности США и их союзников по НАТО в Черноморском регионе. <mark>В частности, возросла интенсивность действий военно-морских сил, средств воздушной и морской разведки, а также стратегической авиации.</mark> Пресс-секретарь Пентагона Джон Кирби в свою очередь заявил, что военные США продолжат проводить операции в Черном море во всех случаях, когда это необходимо. Он также обвинил Россию в стягивании войск к границам Украины. В Кремле, комментируя подобные обвинения, подчеркнули, что у России нет никаких планов по вторжению, а передвижения войск по территории страны назвали внутренним делом. Путин выразил «определенную озабоченность» в связи с крупномасштабными учениями НАТО в Черном море на границе с Россией. НАТО Россия вооруженный конфликт провокации Минобороны "
      ],
      "text/plain": [
       "<IPython.core.display.HTML object>"
      ]
     },
     "metadata": {},
     "output_type": "display_data"
    }
   ],
   "source": [
    "hilight_summary(doc['article_text'].iloc[0],LSA_summarizer(doc['article_text'].iloc[0],5))"
   ]
  },
  {
   "cell_type": "markdown",
   "metadata": {
    "id": "IqxyI4PsF289"
   },
   "source": [
    "##### **B.2 Building a function to Perform Summarization on all data samples:**"
   ]
  },
  {
   "cell_type": "markdown",
   "metadata": {
    "id": "dTS1fPZOHv1V"
   },
   "source": [
    "Apply the LSA Summarizer to all article"
   ]
  },
  {
   "cell_type": "code",
   "execution_count": 87,
   "metadata": {
    "execution": {
     "iopub.execute_input": "2022-05-16T20:47:53.641643Z",
     "iopub.status.busy": "2022-05-16T20:47:53.641188Z",
     "iopub.status.idle": "2022-05-16T20:47:56.069283Z",
     "shell.execute_reply": "2022-05-16T20:47:56.068467Z",
     "shell.execute_reply.started": "2022-05-16T20:47:53.641600Z"
    },
    "id": "WYweugu2Hv1W"
   },
   "outputs": [],
   "source": [
    "lsa_summaries = []\n",
    "for article in df['article_text']:\n",
    "    summary_text = LSA_summarizer(article,5)\n",
    "    lsa_summaries.append(summary_text)\n",
    "\n",
    "df['LSA_Summarizer_Summary'] = lsa_summaries"
   ]
  },
  {
   "cell_type": "code",
   "execution_count": 88,
   "metadata": {
    "colab": {
     "base_uri": "https://localhost:8080/",
     "height": 307
    },
    "execution": {
     "iopub.execute_input": "2022-05-16T20:47:56.070794Z",
     "iopub.status.busy": "2022-05-16T20:47:56.070387Z",
     "iopub.status.idle": "2022-05-16T20:47:56.083281Z",
     "shell.execute_reply": "2022-05-16T20:47:56.082407Z",
     "shell.execute_reply.started": "2022-05-16T20:47:56.070758Z"
    },
    "id": "VoycuHfnHv1X",
    "outputId": "fe915c8a-ee4c-49b3-a520-d137b5f80986"
   },
   "outputs": [
    {
     "data": {
      "text/html": [
       "<h2>Summary</h2>"
      ],
      "text/plain": [
       "<IPython.core.display.HTML object>"
      ]
     },
     "metadata": {},
     "output_type": "display_data"
    },
    {
     "data": {
      "text/html": [
       "   В ЦБ разработали поправки о постоянном механизме кредитных каникул Рабочая группа ЦБ разработала поправки о введении постоянного механизма кредитных каникул Возможность получить отсрочку при выплате потребительских кредитов, которая появилась во время пандемии, планируют сделать постоянной. В документе расширен список ситуаций, попав в которые заемщики смогут претендовать на льготу Рабочая группа экспертного совета по защите прав потребителей финансовых услуг при Банке России разработала поправки к закону «О потребительском кредите», которые сделают постоянной для заемщиков возможность претендовать на кредитные каникулы, пишут «Известия» со ссылкой на проект. <mark>Источники газеты сообщили, что ЦБ сейчас рассматривает документ и планирует принять решение до конца этого года.</mark> Механизм кредитных каникул для россиян начал работать в апреле 2020 года. <mark>Заемщики, которые потеряли доход из-за антиковидных ограничений или болели коронавирусом, могли претендовать на полугодовую отсрочку выплат.</mark> Заявки принимались только до 30 сентября 2020 года — действие последних из них закончилось в марте этого года. Механизм распространяется на граждан, индивидуальных предпринимателей, а также представителей малого и среднего бизнеса при снижении доходов на 30% по сравнению со средним показателем за прошлый год. По данным издания, изменения предполагают перевод механизма каникул по потребительским кредитам на постоянную основу. Согласно поправкам, заемщик с потребительским кредитом на срок не менее двух лет и попавший в тяжелую жизненную ситуацию сможет получить отсрочку платежей на три месяца. Это касается клиентов, которые не находятся в процедуре банкротства и не обращались за льготой ранее. В документе отмечается, что правительство может увеличить льготный период до шести месяцев. Проект предусматривает, что подать заявку и предоставить необходимые документы можно будет через «Госуслуги». Сейчас для этого необходимо лично посетить кредитную организацию или отправить заявление заказным письмом. <mark>Кроме того, планируется изменить список трудных ситуаций, попав в которые заемщик сможет претендовать на льготу.</mark> Так, сейчас одна из причин подать заявку — продолжительная болезнь. В текущей редакции срок болезни — два месяца, в новой он сокращается до месяца. Это расширит круг претендентов на кредитные каникулы. www.adv.rbc.ru С июля 2019 года в России действует механизм ипотечных каникул. Право на отсрочку платежей или сокращение их размера имеет право каждый потерявший работу заемщик. <mark>Каникулами могут воспользоваться те, чей доход снизился на 30%, в результате чего размер выплат по ипотеке превысил 50% среднемесячного дохода.</mark> Банк России кредит "
      ],
      "text/plain": [
       "<IPython.core.display.HTML object>"
      ]
     },
     "metadata": {},
     "output_type": "display_data"
    }
   ],
   "source": [
    "sumdem = df.sample()\n",
    "# sumdem['Sumy_Text_Rank_Summarizer_Summary'].iloc[0]\n",
    "hilight_summary(sumdem['article_text'].iloc[0],sumdem['LSA_Summarizer_Summary'].iloc[0])"
   ]
  },
  {
   "cell_type": "markdown",
   "metadata": {
    "id": "-hUqz_uGf97N"
   },
   "source": [
    "## **5. Pysummarization**\n",
    "\n",
    "__pysummarization__ is Python library for the automatic summarization, document abstraction, and text filtering.\n",
    "\n",
    "- https://pypi.org/project/pysummarization/"
   ]
  },
  {
   "cell_type": "markdown",
   "metadata": {
    "id": "gVPxUYuyGibe"
   },
   "source": [
    "### **A. Pysummarization Installation**\n"
   ]
  },
  {
   "cell_type": "code",
   "execution_count": 89,
   "metadata": {
    "colab": {
     "base_uri": "https://localhost:8080/"
    },
    "execution": {
     "iopub.execute_input": "2022-05-16T20:47:56.084902Z",
     "iopub.status.busy": "2022-05-16T20:47:56.084535Z",
     "iopub.status.idle": "2022-05-16T20:48:09.081607Z",
     "shell.execute_reply": "2022-05-16T20:48:09.080705Z",
     "shell.execute_reply.started": "2022-05-16T20:47:56.084867Z"
    },
    "id": "5qDz0BPFf-jl",
    "outputId": "07725eb2-d550-434e-a55b-5f1243ac8a8c"
   },
   "outputs": [
    {
     "name": "stdout",
     "output_type": "stream",
     "text": [
      "Looking in indexes: https://pypi.org/simple, https://us-python.pkg.dev/colab-wheels/public/simple/\n",
      "Collecting pysummarization\n",
      "  Downloading pysummarization-1.1.8.tar.gz (51 kB)\n",
      "\u001b[K     |████████████████████████████████| 51 kB 147 kB/s \n",
      "\u001b[?25hRequirement already satisfied: numpy in /usr/local/lib/python3.7/dist-packages (from pysummarization) (1.21.6)\n",
      "Requirement already satisfied: nltk in /usr/local/lib/python3.7/dist-packages (from pysummarization) (3.2.5)\n",
      "Requirement already satisfied: six in /usr/local/lib/python3.7/dist-packages (from nltk->pysummarization) (1.15.0)\n",
      "Building wheels for collected packages: pysummarization\n",
      "  Building wheel for pysummarization (setup.py) ... \u001b[?25l\u001b[?25hdone\n",
      "  Created wheel for pysummarization: filename=pysummarization-1.1.8-py3-none-any.whl size=59453 sha256=d2f9f84f3be8f5deb29d7b637ff5f98f849e145bae273d0c06d871601964b885\n",
      "  Stored in directory: /root/.cache/pip/wheels/da/14/3e/02d15001af23ca877c5149b66280a605e5cdbbe76972598afa\n",
      "Successfully built pysummarization\n",
      "Installing collected packages: pysummarization\n",
      "Successfully installed pysummarization-1.1.8\n"
     ]
    }
   ],
   "source": [
    "!pip install pysummarization"
   ]
  },
  {
   "cell_type": "code",
   "execution_count": 90,
   "metadata": {
    "execution": {
     "iopub.execute_input": "2022-05-16T20:48:09.084383Z",
     "iopub.status.busy": "2022-05-16T20:48:09.084074Z",
     "iopub.status.idle": "2022-05-16T20:48:09.096682Z",
     "shell.execute_reply": "2022-05-16T20:48:09.095920Z",
     "shell.execute_reply.started": "2022-05-16T20:48:09.084343Z"
    },
    "id": "TAw0hjsof_et"
   },
   "outputs": [],
   "source": [
    "from pysummarization.nlpbase.auto_abstractor import AutoAbstractor\n",
    "from pysummarization.tokenizabledoc.simple_tokenizer import SimpleTokenizer\n",
    "from pysummarization.abstractabledoc.top_n_rank_abstractor import TopNRankAbstractor"
   ]
  },
  {
   "cell_type": "markdown",
   "metadata": {
    "id": "y9UPIA2AGtfp"
   },
   "source": [
    "### **B. Perform Summarization on One Data Sample:**\n",
    "Apply textranksummarizer to our test paragraph"
   ]
  },
  {
   "cell_type": "code",
   "execution_count": 91,
   "metadata": {
    "execution": {
     "iopub.execute_input": "2022-05-16T20:48:09.099008Z",
     "iopub.status.busy": "2022-05-16T20:48:09.098354Z",
     "iopub.status.idle": "2022-05-16T20:48:09.106037Z",
     "shell.execute_reply": "2022-05-16T20:48:09.105227Z",
     "shell.execute_reply.started": "2022-05-16T20:48:09.098968Z"
    },
    "id": "7smivL7wf_Zl"
   },
   "outputs": [],
   "source": [
    "auto_abstractor = AutoAbstractor()\n",
    "auto_abstractor.tokenizable_doc = SimpleTokenizer()\n",
    "auto_abstractor.delimiter_list = [\".\", \"\\n\"]\n",
    "abstractable_doc = TopNRankAbstractor()"
   ]
  },
  {
   "cell_type": "code",
   "execution_count": 92,
   "metadata": {
    "execution": {
     "iopub.execute_input": "2022-05-16T20:48:09.107870Z",
     "iopub.status.busy": "2022-05-16T20:48:09.107399Z",
     "iopub.status.idle": "2022-05-16T20:48:09.116666Z",
     "shell.execute_reply": "2022-05-16T20:48:09.115907Z",
     "shell.execute_reply.started": "2022-05-16T20:48:09.107830Z"
    },
    "id": "EMflK7tmf_T0"
   },
   "outputs": [],
   "source": [
    "summary = auto_abstractor.summarize(doc['article_text'].iloc[0], abstractable_doc)"
   ]
  },
  {
   "cell_type": "code",
   "execution_count": 93,
   "metadata": {
    "colab": {
     "base_uri": "https://localhost:8080/"
    },
    "execution": {
     "iopub.execute_input": "2022-05-16T20:48:09.119871Z",
     "iopub.status.busy": "2022-05-16T20:48:09.119361Z",
     "iopub.status.idle": "2022-05-16T20:48:09.129325Z",
     "shell.execute_reply": "2022-05-16T20:48:09.128587Z",
     "shell.execute_reply.started": "2022-05-16T20:48:09.119839Z"
    },
    "id": "iw0WfjWkf_Nt",
    "outputId": "a4e52f6d-95ca-4dae-ab12-b74fdfab2bd5"
   },
   "outputs": [
    {
     "data": {
      "text/plain": [
       "{'scoring_data': [(0, 38.75438596491228),\n",
       "  (1, 14.0),\n",
       "  (2, 20.0),\n",
       "  (3, 23.14814814814815),\n",
       "  (5, 8.909090909090908),\n",
       "  (10, 4.454545454545454),\n",
       "  (11, 3.2666666666666666),\n",
       "  (24, 3.125),\n",
       "  (29, 3.6),\n",
       "  (30, 3.5714285714285716)],\n",
       " 'summarize_result': [' Минобороны заявило о риске вооруженного конфликта с НАТО из-за провокаций Замглавы Минобороны Фомин допустил вооруженный конфликт из-за провокаций НАТО у границ В 2021 году присутствие в черноморской зоне кораблей НАТО «фактически приобрело постоянный характер», а интенсивность действий разведывательной авиации альянса выросла более чем на 60%, сообщили в Минобороны России Провокации НАТО у российских границ могут перерасти в вооруженный конфликт.\\n',\n",
       "  ' Об этом заявил заместитель министра обороны России Александр Фомин на брифинге, передает «РИА Новости».\\n',\n",
       "  ' «В последнее время альянс перешел к практике прямых провокаций, сопряженных с высоким риском перерастания в вооруженное противостояние», — сказал он.\\n',\n",
       "  ' В качестве примера он привел инцидент в Черном море 23 июня, когда британский эсминец УРО «Дефендер» попытался проникнуть в территориальные воды России в районе мыса Фиолент в Крыму.\\n',\n",
       "  ' В целом в 2021 году интенсивность задействования разведывательной авиации в районе Черного моря выросла более чем на 60% по сравнению с прошлым годом, добавил Фомин.\\n',\n",
       "  'ru Всего НАТО провело в Черном море 15 учений за этот год, тогда как в прошлом — восемь, а присутствие кораблей альянса в акватории приобрело почти постоянный характер, подчеркнул замминистра.\\n',\n",
       "  ' По данным Минобороны, в Балтийской морской зоне в этом году странами НАТО совершено более 1,2 тыс.\\n',\n",
       "  ' В ноябре Минобороны России уже говорило о повышении военной активности США и их союзников по НАТО в Черноморском регионе.\\n',\n",
       "  ' Путин выразил «определенную озабоченность» в связи с крупномасштабными учениями НАТО в Черном море на границе с Россией.\\n',\n",
       "  ' НАТО Россия вооруженный конфликт провокации Минобороны .\\n']}"
      ]
     },
     "execution_count": 93,
     "metadata": {},
     "output_type": "execute_result"
    }
   ],
   "source": [
    "summary"
   ]
  },
  {
   "cell_type": "markdown",
   "metadata": {
    "id": "5kikK-1iK5zO"
   },
   "source": [
    "applying it to our document "
   ]
  },
  {
   "cell_type": "code",
   "execution_count": 94,
   "metadata": {
    "execution": {
     "iopub.execute_input": "2022-05-16T20:48:09.131207Z",
     "iopub.status.busy": "2022-05-16T20:48:09.130598Z",
     "iopub.status.idle": "2022-05-16T20:48:09.136048Z",
     "shell.execute_reply": "2022-05-16T20:48:09.135112Z",
     "shell.execute_reply.started": "2022-05-16T20:48:09.131169Z"
    },
    "id": "JlOcoaMSf_Ht"
   },
   "outputs": [],
   "source": [
    "best_sentences = ''\n",
    "for sentence in summary['summarize_result']:\n",
    "    best_sentences = best_sentences  + sentence"
   ]
  },
  {
   "cell_type": "code",
   "execution_count": 95,
   "metadata": {
    "colab": {
     "base_uri": "https://localhost:8080/",
     "height": 377
    },
    "execution": {
     "iopub.execute_input": "2022-05-16T20:48:09.138382Z",
     "iopub.status.busy": "2022-05-16T20:48:09.137519Z",
     "iopub.status.idle": "2022-05-16T20:48:09.149308Z",
     "shell.execute_reply": "2022-05-16T20:48:09.148347Z",
     "shell.execute_reply.started": "2022-05-16T20:48:09.138346Z"
    },
    "id": "euxRiw9bJika",
    "outputId": "05f830a2-ee26-45f6-a17f-f6d3b2bfd2d5"
   },
   "outputs": [
    {
     "data": {
      "text/html": [
       "<h2>Summary</h2>"
      ],
      "text/plain": [
       "<IPython.core.display.HTML object>"
      ]
     },
     "metadata": {},
     "output_type": "display_data"
    },
    {
     "data": {
      "text/html": [
       "  <mark> Минобороны заявило о риске вооруженного конфликта с НАТО из-за провокаций Замглавы Минобороны Фомин допустил вооруженный конфликт из-за провокаций НАТО у границ В 2021 году присутствие в черноморской зоне кораблей НАТО «фактически приобрело постоянный характер», а интенсивность действий разведывательной авиации альянса выросла более чем на 60%, сообщили в Минобороны России Провокации НАТО у российских границ могут перерасти в вооруженный конфликт.</mark> <mark>Об этом заявил заместитель министра обороны России Александр Фомин на брифинге, передает «РИА Новости».</mark> <mark>«В последнее время альянс перешел к практике прямых провокаций, сопряженных с высоким риском перерастания в вооруженное противостояние», — сказал он.</mark> <mark>В качестве примера он привел инцидент в Черном море 23 июня, когда британский эсминец УРО «Дефендер» попытался проникнуть в территориальные воды России в районе мыса Фиолент в Крыму.</mark> Он указал на то, что действия британского корабля обеспечивал стратегический разведывательный самолет RC-135 США. <mark>В целом в 2021 году интенсивность задействования разведывательной авиации в районе Черного моря выросла более чем на 60% по сравнению с прошлым годом, добавил Фомин.</mark> Минимальное приближение к российской границе в западной части Крыма составило 15 км. www.adv.rbc.ru Всего НАТО провело в Черном море 15 учений за этот год, тогда как в прошлом — восемь, а присутствие кораблей альянса в акватории приобрело почти постоянный характер, подчеркнул замминистра. <mark>По данным Минобороны, в Балтийской морской зоне в этом году странами НАТО совершено более 1,2 тыс.</mark> вылетов самолетов и более 50 выходов боевых кораблей на морскую разведку. В начале декабря ФСБ сообщила, что украинский корабль «Донбасс» следовал из Мариуполя к Керченскому проливу и не отвечал на требования изменить курс, создавая угрозу мореплаванию. Корабль был взят на сопровождение российским кораблем береговой охраны. Позднее «Донбасс» сменил курс. В Кремле сочли инцидент в Азовском море провокацией. Официальный представитель МИДа Мария Захарова также выразила уверенность, что это стало частью «комплекса» провокаций против Москвы. Киев расценил инцидент как информационную атаку со стороны России. Министр обороны Украины Алексей Резников выразил недоумение, что ФСБ увидела угрозу в поисково-спасательном судне без оружия. После этого сенатор от Крыма Ольга Ковитиди потребовала рассмотреть инцидент в Совбезе Организации Объединенных Наций (ООН) в экстренном порядке. Она указала на то, что такие инциденты «стремительно приближают к разворачиванию горячего конфликта в самом центре Европы». Министр иностранных дел России Сергей Лавров заявил, что НАТО «замахнулась на порог нашего дома», с чем Россия не будет мириться. Президент России также говорил, что США пришли с ракетами к «порогу нашего дома». <mark>В ноябре Минобороны России уже говорило о повышении военной активности США и их союзников по НАТО в Черноморском регионе.</mark> В частности, возросла интенсивность действий военно-морских сил, средств воздушной и морской разведки, а также стратегической авиации. Пресс-секретарь Пентагона Джон Кирби в свою очередь заявил, что военные США продолжат проводить операции в Черном море во всех случаях, когда это необходимо. Он также обвинил Россию в стягивании войск к границам Украины. В Кремле, комментируя подобные обвинения, подчеркнули, что у России нет никаких планов по вторжению, а передвижения войск по территории страны назвали внутренним делом. <mark>Путин выразил «определенную озабоченность» в связи с крупномасштабными учениями НАТО в Черном море на границе с Россией.</mark> НАТО Россия вооруженный конфликт провокации Минобороны "
      ],
      "text/plain": [
       "<IPython.core.display.HTML object>"
      ]
     },
     "metadata": {},
     "output_type": "display_data"
    }
   ],
   "source": [
    "hilight_summary(doc['article_text'].iloc[0],best_sentences)"
   ]
  },
  {
   "cell_type": "markdown",
   "metadata": {
    "id": "5PTC_KJcHJqK"
   },
   "source": [
    "### **C. Building a function to Perform Summarization on all data samples:**"
   ]
  },
  {
   "cell_type": "code",
   "execution_count": 96,
   "metadata": {
    "execution": {
     "iopub.execute_input": "2022-05-16T20:48:09.151651Z",
     "iopub.status.busy": "2022-05-16T20:48:09.150787Z",
     "iopub.status.idle": "2022-05-16T20:48:09.494661Z",
     "shell.execute_reply": "2022-05-16T20:48:09.493997Z",
     "shell.execute_reply.started": "2022-05-16T20:48:09.151612Z"
    },
    "id": "hcgQn9C8LG16"
   },
   "outputs": [],
   "source": [
    "pysummarization_list = []\n",
    "for article in df['article_text']:\n",
    "    summary = auto_abstractor.summarize(article, abstractable_doc)\n",
    "    best_sentences = ''\n",
    "    for sentence in summary['summarize_result']:\n",
    "        best_sentences = best_sentences  + sentence\n",
    "\n",
    "    pysummarization_list.append(best_sentences.strip())\n",
    "\n",
    "df['pysummarization_summary'] = pysummarization_list"
   ]
  },
  {
   "cell_type": "code",
   "execution_count": 97,
   "metadata": {
    "colab": {
     "base_uri": "https://localhost:8080/",
     "height": 620
    },
    "execution": {
     "iopub.execute_input": "2022-05-16T20:48:09.496672Z",
     "iopub.status.busy": "2022-05-16T20:48:09.496280Z",
     "iopub.status.idle": "2022-05-16T20:48:09.510517Z",
     "shell.execute_reply": "2022-05-16T20:48:09.509879Z",
     "shell.execute_reply.started": "2022-05-16T20:48:09.496637Z"
    },
    "id": "RU8B2Nr5LyZl",
    "outputId": "3077752d-28b7-45c9-afc0-e5d7cada87fa"
   },
   "outputs": [
    {
     "data": {
      "text/html": [
       "<h2>Summary</h2>"
      ],
      "text/plain": [
       "<IPython.core.display.HTML object>"
      ]
     },
     "metadata": {},
     "output_type": "display_data"
    },
    {
     "data": {
      "text/html": [
       "   В ЦБ назвали оптимальный способ борьбы с инфляцией В ЦБ выступили за адресную помощь малоимущим вместо регулирования цен в магазинах Денежные выплаты малоимущим эффективнее справляются с ростом цен, чем прямое регулирование стоимости товаров, считают эксперты Центробанка. <mark>Искусственное ограничение роста цен работает временно, а затем возникает опасный дисбаланс Прямое регулирование цен позволяет приостановить их рост, но только на краткосрочном горизонте.</mark> <mark>В дальнейшем оно создает дисбалансы на товарных рынках и может повлечь за собой негативные последствия для регулируемых отраслей и экономики в целом, а кроме того, не может защитить от роста мировых цен в долгосрочной перспективе.</mark> <mark>Об этом говорится в аналитической записке «Регулирование цен: когда нужно остановиться?», составленной аналитиками Центробанка.</mark> <mark>По их мнению, с социальной и экономической точки зрения более предпочтительной альтернативой регулированию цен может быть оказание адресной материальной помощи наименее обеспеченным слоям населения.</mark> Содержание аналитической записки может не совпадать с официальной позицией Банка России, отмечают ее авторы. Одной из причин повышения инфляции в России стал рост мировых цен на продовольственные и сырьевые товары (в ноябре инфляция составила 8,4% в годовом выражении). Принятые правительством меры по регулированию внутренних цен (соглашения о заморозке цен, экспортные пошлины) позволили снизить их чувствительность к мировой динамике. Но в средне- и долгосрочной перспективе «прямое вмешательство государства в процесс ценообразования создает дисбалансы» на товарных рынках, отмечают аналитики ЦБ. Среди негативных последствий они выделяют: сокращение инвестиций в производство и выпуск товаров, цены на которые регулируются, и как следствие — торможение роста регулируемых секторов экономики; усиливаются риски возникновения дефицита и роста объемов теневой торговли и увеличиваются издержки государства по борьбе с ней; www.adv.rbc.ru искажение ценовых сигналов, усиливающее влияние проинфляционных факторов и создающее предпосылки для устойчивого роста инфляционных ожиданий. С проблемой усложнения анализа ценовой ситуации столкнулись и другие страны, регулирующие цены на отдельных рынках. <mark>Сложности для ЦБ из-за регулирования цен Регулирование цен призвано закрывать «провалы рынка» из-за неспособности рыночных механизмов привести к равновесию цен, поясняют аналитики Банка России.</mark> Оснований для ценового госрегулирования «провалов рынка» больше в экономиках, в которых недостаточно развита конкурентная среда и в которых преобладают компании-монополисты. Однако из-за невозможности избежать дисбалансов при вмешательстве в ценообразование негативные долгосрочные эффекты перевешивают позитивные краткосрочные, делают вывод в ЦБ. Кроме прямого регулирования цен, когда вводится предельная стоимость на подорожавший товар (в России так ограничивали цены на сахар и подсолнечное масло), существуют косвенные механизмы, например экспортные пошлины (они вводились для зерна, нефтепродуктов, металлов, удобрений и ряда других товаров). Но такие механизмы требуют постоянной тонкой настройки для баланса между краткосрочными проинфляционными рисками и средне- и долгосрочными рисками для инвестиций и производства, указывают аналитики Центробанка. <mark>«Пример регулирования цен на рынке нефтепродуктов показывает, что косвенные меры помогают сглаживать колебания внутренних цен, но не могут защитить от роста мировых цен на длинных временных промежутках», — конкретизируют они.</mark> Несмотря на действующий демпферный механизм, в России продолжает дорожать топливо. <mark>Государственное сдерживание цен работает в борьбе с краткосрочными шоками, соглашается главный экономист Альфа-банка Наталия Орлова, но инфляция продолжает преподносить негативные сюрпризы.</mark> «Меры регулирования цен вводились в 2020 году, когда инфляция была ниже, а угрозы казались временными. Но сейчас уже понятно, что мы имеем дело с продолжительной тенденцией к росту инфляции, и тут нельзя решать монетарные задачи немонетарными способами, — подчеркивает она. — Банку России госрегулирование цен осложняет работу: он теряет информацию о реальной инфляции и не может адекватно выстроить уровень процентной ставки». О том, что экономика не должна «работать на пошлинах и демпферах», на Петербургском международном экономическом форуме говорила глава ЦБ Эльвира Набиуллина. В ответ на ее замечание министр финансов Антон Силуанов возразил, что в регулировании цен используются рыночные механизмы. <mark>Адресные выплаты вместо управления ценами Искусственное регулирование цен создает перекос на рынке в сторону потребителей и может защитить от резких скачков цен, указывают в ЦБ.</mark> Но производители в этом случае теряют стимулы для развития, может возникнуть дефицит или черный рынок товаров. Если же рост цен на регулируемую продукцию носит стабильный характер, вмешательство в ценообразование затрудняет подстройку предложения и спроса под возросший уровень цен. <mark>В такой ситуации более эффективной реакцией на рост цен может стать целевая поддержка уязвимых групп потребителей: она компенсирует «провалы рынка», но не отменяет действие рыночных механизмов.</mark> «Такая форма поддержки вносит значительно меньше искажений в динамику экономической активности, инфляции и инфляционных ожиданий. Это имеет важное значение для поддержания устойчивого роста экономики темпами, отвечающими ее потенциалу», — убеждены авторы аналитической записки. За целевую поддержку населения вместо сдерживания цен выступал глава Счетной палаты Алексей Кудрин. В интервью РБК в августе он говорил, что относится к государственным мерам по регулированию цен настороженно. «Когда возникает шок или пик негативного явления, это возможно и разумно. Но действие таких мер в течение трех, четырех месяцев уже чревато другими дисбалансами», — предупредил он. По его словам, заменой этому методу могут быть адресные субсидии или скидки на покупку определенных товаров для особо нуждающихся категорий граждан. Возобновление дискуссии об альтернативе госрегулированию цен с подачи Центробанка именно сейчас может быть связано с запуском цифрового рубля, предполагает Орлова. «В следующем году запускается пилотный проект цифрового рубля, который потенциально позволит упростить выплату адресных социальных пособий. Так регулятор ускоряет реализацию проекта», — предположила она. цены Инфляция Центробанк сахар зерно "
      ],
      "text/plain": [
       "<IPython.core.display.HTML object>"
      ]
     },
     "metadata": {},
     "output_type": "display_data"
    }
   ],
   "source": [
    "sumdem = df.sample()\n",
    "# sumdem['Sumy_Text_Rank_Summarizer_Summary'].iloc[0]\n",
    "hilight_summary(sumdem['article_text'].iloc[0],sumdem['pysummarization_summary'].iloc[0])"
   ]
  },
  {
   "cell_type": "code",
   "execution_count": null,
   "metadata": {
    "id": "hFxthA7f7XFx"
   },
   "outputs": [],
   "source": [
    "sample_article3 = df.sample()\n",
    "print(\"TFIDF\")\n",
    "hilight_summary(sample_article3['article_text'].iloc[0],sample_article3['TF_IDF_Summary'].iloc[0])\n",
    "print(\"=========================\")\n",
    "print(\"Luhn\")\n",
    "hilight_summary(sample_article3['article_text'].iloc[0],sample_article3['Luhn_Summary'].iloc[0])\n",
    "print(\"pysummarization_summary\")\n",
    "hilight_summary(sample_article3['article_text'].iloc[0],sample_article3['pysummarization_summary'].iloc[0])\n",
    "print(\"=========================\")\n"
   ]
  },
  {
   "cell_type": "markdown",
   "metadata": {
    "id": "A-jEX6gwa5o8"
   },
   "source": [
    "## **6- Bidirectional Encoder Representations from Transformers (BERT)**\n",
    "As defined in the Wikipedia, __BERT__ is a transformer-based machine learning technique for natural language processing (NLP) pre-training developed by Google.\n",
    "Although, __BERT__ is not considered as part of the classical language models for text summarization. However, we will include a lighter implementation of it as a transition between this notebook and the advanced ones.\n",
    "\n",
    "- https://pypi.org/project/bert-extractive-summarizer/"
   ]
  },
  {
   "cell_type": "markdown",
   "metadata": {
    "id": "gGLKnSE5K5Xe"
   },
   "source": [
    "### **A. BERT Installation**"
   ]
  },
  {
   "cell_type": "code",
   "execution_count": 100,
   "metadata": {
    "colab": {
     "base_uri": "https://localhost:8080/"
    },
    "execution": {
     "iopub.execute_input": "2022-05-16T20:48:09.511675Z",
     "iopub.status.busy": "2022-05-16T20:48:09.511451Z",
     "iopub.status.idle": "2022-05-16T20:48:25.453893Z",
     "shell.execute_reply": "2022-05-16T20:48:25.453023Z",
     "shell.execute_reply.started": "2022-05-16T20:48:09.511650Z"
    },
    "id": "CO27HZPA4E7k",
    "outputId": "3b6d4f50-3b11-411c-da96-a1160f6fe7f9"
   },
   "outputs": [
    {
     "name": "stdout",
     "output_type": "stream",
     "text": [
      "Looking in indexes: https://pypi.org/simple, https://us-python.pkg.dev/colab-wheels/public/simple/\n",
      "Collecting bert-extractive-summarizer\n",
      "  Downloading bert_extractive_summarizer-0.10.1-py3-none-any.whl (25 kB)\n",
      "Requirement already satisfied: scikit-learn in /usr/local/lib/python3.7/dist-packages (from bert-extractive-summarizer) (1.0.2)\n",
      "Collecting transformers\n",
      "  Downloading transformers-4.19.4-py3-none-any.whl (4.2 MB)\n",
      "\u001b[K     |████████████████████████████████| 4.2 MB 7.3 MB/s \n",
      "\u001b[?25hRequirement already satisfied: spacy in /usr/local/lib/python3.7/dist-packages (from bert-extractive-summarizer) (2.2.4)\n",
      "Requirement already satisfied: scipy>=1.1.0 in /usr/local/lib/python3.7/dist-packages (from scikit-learn->bert-extractive-summarizer) (1.4.1)\n",
      "Requirement already satisfied: numpy>=1.14.6 in /usr/local/lib/python3.7/dist-packages (from scikit-learn->bert-extractive-summarizer) (1.21.6)\n",
      "Requirement already satisfied: joblib>=0.11 in /usr/local/lib/python3.7/dist-packages (from scikit-learn->bert-extractive-summarizer) (1.1.0)\n",
      "Requirement already satisfied: threadpoolctl>=2.0.0 in /usr/local/lib/python3.7/dist-packages (from scikit-learn->bert-extractive-summarizer) (3.1.0)\n",
      "Requirement already satisfied: srsly<1.1.0,>=1.0.2 in /usr/local/lib/python3.7/dist-packages (from spacy->bert-extractive-summarizer) (1.0.5)\n",
      "Requirement already satisfied: murmurhash<1.1.0,>=0.28.0 in /usr/local/lib/python3.7/dist-packages (from spacy->bert-extractive-summarizer) (1.0.7)\n",
      "Requirement already satisfied: tqdm<5.0.0,>=4.38.0 in /usr/local/lib/python3.7/dist-packages (from spacy->bert-extractive-summarizer) (4.64.0)\n",
      "Requirement already satisfied: thinc==7.4.0 in /usr/local/lib/python3.7/dist-packages (from spacy->bert-extractive-summarizer) (7.4.0)\n",
      "Requirement already satisfied: cymem<2.1.0,>=2.0.2 in /usr/local/lib/python3.7/dist-packages (from spacy->bert-extractive-summarizer) (2.0.6)\n",
      "Requirement already satisfied: preshed<3.1.0,>=3.0.2 in /usr/local/lib/python3.7/dist-packages (from spacy->bert-extractive-summarizer) (3.0.6)\n",
      "Requirement already satisfied: catalogue<1.1.0,>=0.0.7 in /usr/local/lib/python3.7/dist-packages (from spacy->bert-extractive-summarizer) (1.0.0)\n",
      "Requirement already satisfied: setuptools in /usr/local/lib/python3.7/dist-packages (from spacy->bert-extractive-summarizer) (57.4.0)\n",
      "Requirement already satisfied: blis<0.5.0,>=0.4.0 in /usr/local/lib/python3.7/dist-packages (from spacy->bert-extractive-summarizer) (0.4.1)\n",
      "Requirement already satisfied: plac<1.2.0,>=0.9.6 in /usr/local/lib/python3.7/dist-packages (from spacy->bert-extractive-summarizer) (1.1.3)\n",
      "Requirement already satisfied: wasabi<1.1.0,>=0.4.0 in /usr/local/lib/python3.7/dist-packages (from spacy->bert-extractive-summarizer) (0.9.1)\n",
      "Requirement already satisfied: requests<3.0.0,>=2.13.0 in /usr/local/lib/python3.7/dist-packages (from spacy->bert-extractive-summarizer) (2.23.0)\n",
      "Requirement already satisfied: importlib-metadata>=0.20 in /usr/local/lib/python3.7/dist-packages (from catalogue<1.1.0,>=0.0.7->spacy->bert-extractive-summarizer) (4.11.4)\n",
      "Requirement already satisfied: zipp>=0.5 in /usr/local/lib/python3.7/dist-packages (from importlib-metadata>=0.20->catalogue<1.1.0,>=0.0.7->spacy->bert-extractive-summarizer) (3.8.0)\n",
      "Requirement already satisfied: typing-extensions>=3.6.4 in /usr/local/lib/python3.7/dist-packages (from importlib-metadata>=0.20->catalogue<1.1.0,>=0.0.7->spacy->bert-extractive-summarizer) (4.2.0)\n",
      "Requirement already satisfied: chardet<4,>=3.0.2 in /usr/local/lib/python3.7/dist-packages (from requests<3.0.0,>=2.13.0->spacy->bert-extractive-summarizer) (3.0.4)\n",
      "Requirement already satisfied: certifi>=2017.4.17 in /usr/local/lib/python3.7/dist-packages (from requests<3.0.0,>=2.13.0->spacy->bert-extractive-summarizer) (2022.5.18.1)\n",
      "Requirement already satisfied: idna<3,>=2.5 in /usr/local/lib/python3.7/dist-packages (from requests<3.0.0,>=2.13.0->spacy->bert-extractive-summarizer) (2.10)\n",
      "Requirement already satisfied: urllib3!=1.25.0,!=1.25.1,<1.26,>=1.21.1 in /usr/local/lib/python3.7/dist-packages (from requests<3.0.0,>=2.13.0->spacy->bert-extractive-summarizer) (1.24.3)\n",
      "Collecting huggingface-hub<1.0,>=0.1.0\n",
      "  Downloading huggingface_hub-0.7.0-py3-none-any.whl (86 kB)\n",
      "\u001b[K     |████████████████████████████████| 86 kB 4.3 MB/s \n",
      "\u001b[?25hRequirement already satisfied: regex!=2019.12.17 in /usr/local/lib/python3.7/dist-packages (from transformers->bert-extractive-summarizer) (2019.12.20)\n",
      "Requirement already satisfied: packaging>=20.0 in /usr/local/lib/python3.7/dist-packages (from transformers->bert-extractive-summarizer) (21.3)\n",
      "Collecting tokenizers!=0.11.3,<0.13,>=0.11.1\n",
      "  Downloading tokenizers-0.12.1-cp37-cp37m-manylinux_2_12_x86_64.manylinux2010_x86_64.whl (6.6 MB)\n",
      "\u001b[K     |████████████████████████████████| 6.6 MB 38.3 MB/s \n",
      "\u001b[?25hCollecting pyyaml>=5.1\n",
      "  Downloading PyYAML-6.0-cp37-cp37m-manylinux_2_5_x86_64.manylinux1_x86_64.manylinux_2_12_x86_64.manylinux2010_x86_64.whl (596 kB)\n",
      "\u001b[K     |████████████████████████████████| 596 kB 57.5 MB/s \n",
      "\u001b[?25hRequirement already satisfied: filelock in /usr/local/lib/python3.7/dist-packages (from transformers->bert-extractive-summarizer) (3.7.0)\n",
      "Requirement already satisfied: pyparsing!=3.0.5,>=2.0.2 in /usr/local/lib/python3.7/dist-packages (from packaging>=20.0->transformers->bert-extractive-summarizer) (3.0.9)\n",
      "Installing collected packages: pyyaml, tokenizers, huggingface-hub, transformers, bert-extractive-summarizer\n",
      "  Attempting uninstall: pyyaml\n",
      "    Found existing installation: PyYAML 3.13\n",
      "    Uninstalling PyYAML-3.13:\n",
      "      Successfully uninstalled PyYAML-3.13\n",
      "Successfully installed bert-extractive-summarizer-0.10.1 huggingface-hub-0.7.0 pyyaml-6.0 tokenizers-0.12.1 transformers-4.19.4\n"
     ]
    }
   ],
   "source": [
    "!pip install bert-extractive-summarizer"
   ]
  },
  {
   "cell_type": "code",
   "execution_count": 101,
   "metadata": {
    "colab": {
     "base_uri": "https://localhost:8080/"
    },
    "execution": {
     "iopub.execute_input": "2022-05-16T20:48:25.458019Z",
     "iopub.status.busy": "2022-05-16T20:48:25.457739Z",
     "iopub.status.idle": "2022-05-16T20:49:12.844310Z",
     "shell.execute_reply": "2022-05-16T20:49:12.843390Z",
     "shell.execute_reply.started": "2022-05-16T20:48:25.457985Z"
    },
    "id": "ddbWSH3K4Q5B",
    "outputId": "f0ad6f4d-e1ea-4f21-c202-76663dac9cdb"
   },
   "outputs": [
    {
     "name": "stdout",
     "output_type": "stream",
     "text": [
      "Looking in indexes: https://pypi.org/simple, https://us-python.pkg.dev/colab-wheels/public/simple/\n",
      "Collecting git+https://github.com/huggingface/transformers\n",
      "  Cloning https://github.com/huggingface/transformers to /tmp/pip-req-build-w15gierb\n",
      "  Running command git clone -q https://github.com/huggingface/transformers /tmp/pip-req-build-w15gierb\n",
      "  Installing build dependencies ... \u001b[?25l\u001b[?25hdone\n",
      "  Getting requirements to build wheel ... \u001b[?25l\u001b[?25hdone\n",
      "    Preparing wheel metadata ... \u001b[?25l\u001b[?25hdone\n",
      "Requirement already satisfied: tokenizers!=0.11.3,<0.13,>=0.11.1 in /usr/local/lib/python3.7/dist-packages (from transformers==4.20.0.dev0) (0.12.1)\n",
      "Requirement already satisfied: tqdm>=4.27 in /usr/local/lib/python3.7/dist-packages (from transformers==4.20.0.dev0) (4.64.0)\n",
      "Requirement already satisfied: huggingface-hub<1.0,>=0.1.0 in /usr/local/lib/python3.7/dist-packages (from transformers==4.20.0.dev0) (0.7.0)\n",
      "Requirement already satisfied: regex!=2019.12.17 in /usr/local/lib/python3.7/dist-packages (from transformers==4.20.0.dev0) (2019.12.20)\n",
      "Requirement already satisfied: pyyaml>=5.1 in /usr/local/lib/python3.7/dist-packages (from transformers==4.20.0.dev0) (6.0)\n",
      "Requirement already satisfied: packaging>=20.0 in /usr/local/lib/python3.7/dist-packages (from transformers==4.20.0.dev0) (21.3)\n",
      "Requirement already satisfied: requests in /usr/local/lib/python3.7/dist-packages (from transformers==4.20.0.dev0) (2.23.0)\n",
      "Requirement already satisfied: numpy>=1.17 in /usr/local/lib/python3.7/dist-packages (from transformers==4.20.0.dev0) (1.21.6)\n",
      "Requirement already satisfied: filelock in /usr/local/lib/python3.7/dist-packages (from transformers==4.20.0.dev0) (3.7.0)\n",
      "Requirement already satisfied: importlib-metadata in /usr/local/lib/python3.7/dist-packages (from transformers==4.20.0.dev0) (4.11.4)\n",
      "Requirement already satisfied: typing-extensions>=3.7.4.3 in /usr/local/lib/python3.7/dist-packages (from huggingface-hub<1.0,>=0.1.0->transformers==4.20.0.dev0) (4.2.0)\n",
      "Requirement already satisfied: pyparsing!=3.0.5,>=2.0.2 in /usr/local/lib/python3.7/dist-packages (from packaging>=20.0->transformers==4.20.0.dev0) (3.0.9)\n",
      "Requirement already satisfied: zipp>=0.5 in /usr/local/lib/python3.7/dist-packages (from importlib-metadata->transformers==4.20.0.dev0) (3.8.0)\n",
      "Requirement already satisfied: urllib3!=1.25.0,!=1.25.1,<1.26,>=1.21.1 in /usr/local/lib/python3.7/dist-packages (from requests->transformers==4.20.0.dev0) (1.24.3)\n",
      "Requirement already satisfied: certifi>=2017.4.17 in /usr/local/lib/python3.7/dist-packages (from requests->transformers==4.20.0.dev0) (2022.5.18.1)\n",
      "Requirement already satisfied: idna<3,>=2.5 in /usr/local/lib/python3.7/dist-packages (from requests->transformers==4.20.0.dev0) (2.10)\n",
      "Requirement already satisfied: chardet<4,>=3.0.2 in /usr/local/lib/python3.7/dist-packages (from requests->transformers==4.20.0.dev0) (3.0.4)\n",
      "Building wheels for collected packages: transformers\n",
      "  Building wheel for transformers (PEP 517) ... \u001b[?25l\u001b[?25hdone\n",
      "  Created wheel for transformers: filename=transformers-4.20.0.dev0-py3-none-any.whl size=4394469 sha256=88783c76ee0ef5923a25a72e5f69de4e71a9a2d732b1d86e2b673e14aae88805\n",
      "  Stored in directory: /tmp/pip-ephem-wheel-cache-ou2o_gsj/wheels/35/2e/a7/d819e3310040329f0f47e57c9e3e7a7338aa5e74c49acfe522\n",
      "Successfully built transformers\n",
      "Installing collected packages: transformers\n",
      "  Attempting uninstall: transformers\n",
      "    Found existing installation: transformers 4.19.4\n",
      "    Uninstalling transformers-4.19.4:\n",
      "      Successfully uninstalled transformers-4.19.4\n",
      "Successfully installed transformers-4.20.0.dev0\n"
     ]
    }
   ],
   "source": [
    "!pip install git+https://github.com/huggingface/transformers"
   ]
  },
  {
   "cell_type": "code",
   "execution_count": 102,
   "metadata": {
    "colab": {
     "base_uri": "https://localhost:8080/"
    },
    "execution": {
     "iopub.execute_input": "2022-05-16T20:49:12.849100Z",
     "iopub.status.busy": "2022-05-16T20:49:12.848808Z",
     "iopub.status.idle": "2022-05-16T20:49:22.149480Z",
     "shell.execute_reply": "2022-05-16T20:49:22.148593Z",
     "shell.execute_reply.started": "2022-05-16T20:49:12.849060Z"
    },
    "id": "5y934kfzOXuB",
    "outputId": "c017e6c7-1faa-4e1c-e135-16a7370626d5"
   },
   "outputs": [
    {
     "name": "stdout",
     "output_type": "stream",
     "text": [
      "Looking in indexes: https://pypi.org/simple, https://us-python.pkg.dev/colab-wheels/public/simple/\n",
      "Collecting sacremoses\n",
      "  Downloading sacremoses-0.0.53.tar.gz (880 kB)\n",
      "\u001b[K     |████████████████████████████████| 880 kB 5.1 MB/s \n",
      "\u001b[?25hRequirement already satisfied: regex in /usr/local/lib/python3.7/dist-packages (from sacremoses) (2019.12.20)\n",
      "Requirement already satisfied: six in /usr/local/lib/python3.7/dist-packages (from sacremoses) (1.15.0)\n",
      "Requirement already satisfied: click in /usr/local/lib/python3.7/dist-packages (from sacremoses) (7.1.2)\n",
      "Requirement already satisfied: joblib in /usr/local/lib/python3.7/dist-packages (from sacremoses) (1.1.0)\n",
      "Requirement already satisfied: tqdm in /usr/local/lib/python3.7/dist-packages (from sacremoses) (4.64.0)\n",
      "Building wheels for collected packages: sacremoses\n",
      "  Building wheel for sacremoses (setup.py) ... \u001b[?25l\u001b[?25hdone\n",
      "  Created wheel for sacremoses: filename=sacremoses-0.0.53-py3-none-any.whl size=895260 sha256=56d2ab615a667507a6edfc03fc004014f163fb2c1b7d1155668841ba83be94fd\n",
      "  Stored in directory: /root/.cache/pip/wheels/87/39/dd/a83eeef36d0bf98e7a4d1933a4ad2d660295a40613079bafc9\n",
      "Successfully built sacremoses\n",
      "Installing collected packages: sacremoses\n",
      "Successfully installed sacremoses-0.0.53\n"
     ]
    }
   ],
   "source": [
    "!pip install sacremoses"
   ]
  },
  {
   "cell_type": "markdown",
   "metadata": {
    "id": "E2Vzq5BWNo7a"
   },
   "source": [
    "### **B. Summarization on One Data Sample:**"
   ]
  },
  {
   "cell_type": "code",
   "execution_count": 103,
   "metadata": {
    "execution": {
     "iopub.execute_input": "2022-05-16T20:49:22.152337Z",
     "iopub.status.busy": "2022-05-16T20:49:22.152059Z",
     "iopub.status.idle": "2022-05-16T20:49:32.174651Z",
     "shell.execute_reply": "2022-05-16T20:49:32.173904Z",
     "shell.execute_reply.started": "2022-05-16T20:49:22.152299Z"
    },
    "id": "DfX7Qai54c1H"
   },
   "outputs": [],
   "source": [
    "from transformers import BigBirdTokenizer\n",
    "from summarizer import Summarizer"
   ]
  },
  {
   "cell_type": "code",
   "execution_count": 104,
   "metadata": {
    "colab": {
     "base_uri": "https://localhost:8080/",
     "height": 217,
     "referenced_widgets": [
      "8985f3215a0148db9cc5084902841faa",
      "516f8c5e220d4f0a8ccc3ced627dea00",
      "c6d4aa0112a64afcb25bab490d4f677a",
      "48964826e53a44b89a8d0e778a4c383e",
      "786524cf437f47828d0a7409605958fa",
      "7dbf84056b194d8bbd993f860fce5b4f",
      "4a52fbf772c84c3da9b3d7aa169dfc52",
      "22bcf44f03cb43f5a824b3a852654718",
      "e59a29349a1b46859e3957e7e3ae72e4",
      "f8987670e07048e5a0f150e5e92bc071",
      "9d02fca8dbe440f488e263e7d6078fa6",
      "35f32d11d2f74d9bbfcc88d61351ed9a",
      "fc078c706d8042e6b75ef49405cd4567",
      "65728834f0054fa5b8b4f668b434d85f",
      "11de655b15d342feb63b76d299493646",
      "47129b7a564a494aacc949a8b78f5506",
      "949962e4ff3a409282db739a12e03104",
      "dcfba8ca0bcc4f739288ef97374f7771",
      "6310d8ae21b9416c8cbcdb2d347a6fe7",
      "dbc2f351a7ee484d82612cea0c6ad05a",
      "feb7184b5f064a02b2b9f24fbb0f5efe",
      "6dd822acc9254874a9f20578981a91fa",
      "af92da9afcf048959743774ec0839a08",
      "e6d284f813354550b37a6ed3c7076e55",
      "21325826359c43d99a8d51d0ec934d9d",
      "7fb8bba049c24f2f9f51492de95bba51",
      "66074efa447a466995433fab8f2c77ce",
      "970de506f55a43ce9f5983ddd927f394",
      "e5c3d3c3e1624229bb700edbf18f1cd8",
      "1995343ffa1147cfa040673cf19f5d3a",
      "5c908ee22deb4a3680433da581a49251",
      "9e3b9bc00aa2418db9f2e976fd2e4b79",
      "a308016015d44ecd99416753c02991ae",
      "4f68b7aecbb94fec91a79f8b644a1104",
      "8c001079a072409cac00329b7fb71ed4",
      "f0bfcbd13de84390a0a986b1d403ad1e",
      "a336315966c244a391c7a9a1b6b77d2d",
      "49e80e26c60046b3a8dc7432bd79f9f5",
      "e33d5abd4cc141af99d5add6e88d3e15",
      "44db30552c7343c3b4c1e601961a3c9f",
      "5c456b8f5aac413f9442e250c9a63851",
      "e2f57f6b5e6240679757563b8804bf3d",
      "fe53376933654a6190f535e63ce898ed",
      "cdc3d6d8e1434e93ad98ed9dbaaf70ff"
     ]
    },
    "execution": {
     "iopub.execute_input": "2022-05-16T20:49:32.176616Z",
     "iopub.status.busy": "2022-05-16T20:49:32.176328Z",
     "iopub.status.idle": "2022-05-16T20:51:56.198164Z",
     "shell.execute_reply": "2022-05-16T20:51:56.197310Z",
     "shell.execute_reply.started": "2022-05-16T20:49:32.176577Z"
    },
    "id": "D8edaH2w46fW",
    "outputId": "d9271eb6-6396-4523-df4d-1f54c8a2d9e0"
   },
   "outputs": [
    {
     "data": {
      "application/vnd.jupyter.widget-view+json": {
       "model_id": "8985f3215a0148db9cc5084902841faa",
       "version_major": 2,
       "version_minor": 0
      },
      "text/plain": [
       "Downloading:   0%|          | 0.00/571 [00:00<?, ?B/s]"
      ]
     },
     "metadata": {},
     "output_type": "display_data"
    },
    {
     "data": {
      "application/vnd.jupyter.widget-view+json": {
       "model_id": "35f32d11d2f74d9bbfcc88d61351ed9a",
       "version_major": 2,
       "version_minor": 0
      },
      "text/plain": [
       "Downloading:   0%|          | 0.00/1.25G [00:00<?, ?B/s]"
      ]
     },
     "metadata": {},
     "output_type": "display_data"
    },
    {
     "name": "stderr",
     "output_type": "stream",
     "text": [
      "Some weights of the model checkpoint at bert-large-uncased were not used when initializing BertModel: ['cls.predictions.decoder.weight', 'cls.predictions.transform.dense.weight', 'cls.seq_relationship.bias', 'cls.predictions.transform.LayerNorm.bias', 'cls.predictions.transform.LayerNorm.weight', 'cls.predictions.bias', 'cls.predictions.transform.dense.bias', 'cls.seq_relationship.weight']\n",
      "- This IS expected if you are initializing BertModel from the checkpoint of a model trained on another task or with another architecture (e.g. initializing a BertForSequenceClassification model from a BertForPreTraining model).\n",
      "- This IS NOT expected if you are initializing BertModel from the checkpoint of a model that you expect to be exactly identical (initializing a BertForSequenceClassification model from a BertForSequenceClassification model).\n"
     ]
    },
    {
     "data": {
      "application/vnd.jupyter.widget-view+json": {
       "model_id": "af92da9afcf048959743774ec0839a08",
       "version_major": 2,
       "version_minor": 0
      },
      "text/plain": [
       "Downloading:   0%|          | 0.00/226k [00:00<?, ?B/s]"
      ]
     },
     "metadata": {},
     "output_type": "display_data"
    },
    {
     "data": {
      "application/vnd.jupyter.widget-view+json": {
       "model_id": "4f68b7aecbb94fec91a79f8b644a1104",
       "version_major": 2,
       "version_minor": 0
      },
      "text/plain": [
       "Downloading:   0%|          | 0.00/28.0 [00:00<?, ?B/s]"
      ]
     },
     "metadata": {},
     "output_type": "display_data"
    }
   ],
   "source": [
    "summarizer = Summarizer()"
   ]
  },
  {
   "cell_type": "code",
   "execution_count": 105,
   "metadata": {
    "execution": {
     "iopub.execute_input": "2022-05-16T20:51:56.201416Z",
     "iopub.status.busy": "2022-05-16T20:51:56.200865Z",
     "iopub.status.idle": "2022-05-16T20:51:57.326415Z",
     "shell.execute_reply": "2022-05-16T20:51:57.324982Z",
     "shell.execute_reply.started": "2022-05-16T20:51:56.201359Z"
    },
    "id": "MFv2B71sOuGn"
   },
   "outputs": [],
   "source": [
    "summary = summarizer(doc['article_text'].iloc[0])"
   ]
  },
  {
   "cell_type": "code",
   "execution_count": 106,
   "metadata": {
    "colab": {
     "base_uri": "https://localhost:8080/",
     "height": 377
    },
    "execution": {
     "iopub.execute_input": "2022-05-16T20:51:57.328629Z",
     "iopub.status.busy": "2022-05-16T20:51:57.328305Z",
     "iopub.status.idle": "2022-05-16T20:51:57.348174Z",
     "shell.execute_reply": "2022-05-16T20:51:57.347422Z",
     "shell.execute_reply.started": "2022-05-16T20:51:57.328586Z"
    },
    "id": "5Bos0vBfeTRf",
    "outputId": "657b21ef-a81d-4376-c35d-62ce8a85166d"
   },
   "outputs": [
    {
     "data": {
      "text/html": [
       "<h2>Summary</h2>"
      ],
      "text/plain": [
       "<IPython.core.display.HTML object>"
      ]
     },
     "metadata": {},
     "output_type": "display_data"
    },
    {
     "data": {
      "text/html": [
       "   Минобороны заявило о риске вооруженного конфликта с НАТО из-за провокаций Замглавы Минобороны Фомин допустил вооруженный конфликт из-за провокаций НАТО у границ В 2021 году присутствие в черноморской зоне кораблей НАТО «фактически приобрело постоянный характер», а интенсивность действий разведывательной авиации альянса выросла более чем на 60%, сообщили в Минобороны России Провокации НАТО у российских границ могут перерасти в вооруженный конфликт. Об этом заявил заместитель министра обороны России Александр Фомин на брифинге, передает «РИА Новости». «В последнее время альянс перешел к практике прямых провокаций, сопряженных с высоким риском перерастания в вооруженное противостояние», — сказал он. В качестве примера он привел инцидент в Черном море 23 июня, когда британский эсминец УРО «Дефендер» попытался проникнуть в территориальные воды России в районе мыса Фиолент в Крыму. Он указал на то, что действия британского корабля обеспечивал стратегический разведывательный самолет RC-135 США. В целом в 2021 году интенсивность задействования разведывательной авиации в районе Черного моря выросла более чем на 60% по сравнению с прошлым годом, добавил Фомин. Минимальное приближение к российской границе в западной части Крыма составило 15 км. www.adv.rbc.ru Всего НАТО провело в Черном море 15 учений за этот год, тогда как в прошлом — восемь, а присутствие кораблей альянса в акватории приобрело почти постоянный характер, подчеркнул замминистра. По данным Минобороны, в Балтийской морской зоне в этом году странами НАТО совершено более 1,2 тыс. вылетов самолетов и более 50 выходов боевых кораблей на морскую разведку. <mark>В начале декабря ФСБ сообщила, что украинский корабль «Донбасс» следовал из Мариуполя к Керченскому проливу и не отвечал на требования изменить курс, создавая угрозу мореплаванию.</mark> <mark>Корабль был взят на сопровождение российским кораблем береговой охраны.</mark> Позднее «Донбасс» сменил курс. В Кремле сочли инцидент в Азовском море провокацией. Официальный представитель МИДа Мария Захарова также выразила уверенность, что это стало частью «комплекса» провокаций против Москвы. Киев расценил инцидент как информационную атаку со стороны России. Министр обороны Украины Алексей Резников выразил недоумение, что ФСБ увидела угрозу в поисково-спасательном судне без оружия. После этого сенатор от Крыма Ольга Ковитиди потребовала рассмотреть инцидент в Совбезе Организации Объединенных Наций (ООН) в экстренном порядке. Она указала на то, что такие инциденты «стремительно приближают к разворачиванию горячего конфликта в самом центре Европы». <mark>Министр иностранных дел России Сергей Лавров заявил, что НАТО «замахнулась на порог нашего дома», с чем Россия не будет мириться.</mark> Президент России также говорил, что США пришли с ракетами к «порогу нашего дома». В ноябре Минобороны России уже говорило о повышении военной активности США и их союзников по НАТО в Черноморском регионе. В частности, возросла интенсивность действий военно-морских сил, средств воздушной и морской разведки, а также стратегической авиации. Пресс-секретарь Пентагона Джон Кирби в свою очередь заявил, что военные США продолжат проводить операции в Черном море во всех случаях, когда это необходимо. Он также обвинил Россию в стягивании войск к границам Украины. В Кремле, комментируя подобные обвинения, подчеркнули, что у России нет никаких планов по вторжению, а передвижения войск по территории страны назвали внутренним делом. Путин выразил «определенную озабоченность» в связи с крупномасштабными учениями НАТО в Черном море на границе с Россией. <mark>НАТО Россия вооруженный конфликт провокации Минобороны</mark> "
      ],
      "text/plain": [
       "<IPython.core.display.HTML object>"
      ]
     },
     "metadata": {},
     "output_type": "display_data"
    }
   ],
   "source": [
    "hilight_summary(doc['article_text'].iloc[0],summary)"
   ]
  },
  {
   "cell_type": "code",
   "execution_count": 108,
   "metadata": {
    "id": "PSNgLgtWVlZx"
   },
   "outputs": [],
   "source": [
    "df.to_pickle('extractive_summarization_one.pkl')"
   ]
  }
 ],
 "metadata": {
  "colab": {
   "name": "nlp-sum-teamc-02.ipynb",
   "provenance": [],
   "toc_visible": true
  },
  "kernelspec": {
   "display_name": "Python 3 (ipykernel)",
   "language": "python",
   "name": "python3"
  },
  "language_info": {
   "codemirror_mode": {
    "name": "ipython",
    "version": 3
   },
   "file_extension": ".py",
   "mimetype": "text/x-python",
   "name": "python",
   "nbconvert_exporter": "python",
   "pygments_lexer": "ipython3",
   "version": "3.7.6"
  },
  "widgets": {
   "application/vnd.jupyter.widget-state+json": {
    "11de655b15d342feb63b76d299493646": {
     "model_module": "@jupyter-widgets/controls",
     "model_module_version": "1.5.0",
     "model_name": "HTMLModel",
     "state": {
      "_dom_classes": [],
      "_model_module": "@jupyter-widgets/controls",
      "_model_module_version": "1.5.0",
      "_model_name": "HTMLModel",
      "_view_count": null,
      "_view_module": "@jupyter-widgets/controls",
      "_view_module_version": "1.5.0",
      "_view_name": "HTMLView",
      "description": "",
      "description_tooltip": null,
      "layout": "IPY_MODEL_feb7184b5f064a02b2b9f24fbb0f5efe",
      "placeholder": "​",
      "style": "IPY_MODEL_6dd822acc9254874a9f20578981a91fa",
      "value": " 1.25G/1.25G [00:59&lt;00:00, 45.8MB/s]"
     }
    },
    "1995343ffa1147cfa040673cf19f5d3a": {
     "model_module": "@jupyter-widgets/base",
     "model_module_version": "1.2.0",
     "model_name": "LayoutModel",
     "state": {
      "_model_module": "@jupyter-widgets/base",
      "_model_module_version": "1.2.0",
      "_model_name": "LayoutModel",
      "_view_count": null,
      "_view_module": "@jupyter-widgets/base",
      "_view_module_version": "1.2.0",
      "_view_name": "LayoutView",
      "align_content": null,
      "align_items": null,
      "align_self": null,
      "border": null,
      "bottom": null,
      "display": null,
      "flex": null,
      "flex_flow": null,
      "grid_area": null,
      "grid_auto_columns": null,
      "grid_auto_flow": null,
      "grid_auto_rows": null,
      "grid_column": null,
      "grid_gap": null,
      "grid_row": null,
      "grid_template_areas": null,
      "grid_template_columns": null,
      "grid_template_rows": null,
      "height": null,
      "justify_content": null,
      "justify_items": null,
      "left": null,
      "margin": null,
      "max_height": null,
      "max_width": null,
      "min_height": null,
      "min_width": null,
      "object_fit": null,
      "object_position": null,
      "order": null,
      "overflow": null,
      "overflow_x": null,
      "overflow_y": null,
      "padding": null,
      "right": null,
      "top": null,
      "visibility": null,
      "width": null
     }
    },
    "21325826359c43d99a8d51d0ec934d9d": {
     "model_module": "@jupyter-widgets/controls",
     "model_module_version": "1.5.0",
     "model_name": "FloatProgressModel",
     "state": {
      "_dom_classes": [],
      "_model_module": "@jupyter-widgets/controls",
      "_model_module_version": "1.5.0",
      "_model_name": "FloatProgressModel",
      "_view_count": null,
      "_view_module": "@jupyter-widgets/controls",
      "_view_module_version": "1.5.0",
      "_view_name": "ProgressView",
      "bar_style": "success",
      "description": "",
      "description_tooltip": null,
      "layout": "IPY_MODEL_1995343ffa1147cfa040673cf19f5d3a",
      "max": 231508,
      "min": 0,
      "orientation": "horizontal",
      "style": "IPY_MODEL_5c908ee22deb4a3680433da581a49251",
      "value": 231508
     }
    },
    "22bcf44f03cb43f5a824b3a852654718": {
     "model_module": "@jupyter-widgets/base",
     "model_module_version": "1.2.0",
     "model_name": "LayoutModel",
     "state": {
      "_model_module": "@jupyter-widgets/base",
      "_model_module_version": "1.2.0",
      "_model_name": "LayoutModel",
      "_view_count": null,
      "_view_module": "@jupyter-widgets/base",
      "_view_module_version": "1.2.0",
      "_view_name": "LayoutView",
      "align_content": null,
      "align_items": null,
      "align_self": null,
      "border": null,
      "bottom": null,
      "display": null,
      "flex": null,
      "flex_flow": null,
      "grid_area": null,
      "grid_auto_columns": null,
      "grid_auto_flow": null,
      "grid_auto_rows": null,
      "grid_column": null,
      "grid_gap": null,
      "grid_row": null,
      "grid_template_areas": null,
      "grid_template_columns": null,
      "grid_template_rows": null,
      "height": null,
      "justify_content": null,
      "justify_items": null,
      "left": null,
      "margin": null,
      "max_height": null,
      "max_width": null,
      "min_height": null,
      "min_width": null,
      "object_fit": null,
      "object_position": null,
      "order": null,
      "overflow": null,
      "overflow_x": null,
      "overflow_y": null,
      "padding": null,
      "right": null,
      "top": null,
      "visibility": null,
      "width": null
     }
    },
    "35f32d11d2f74d9bbfcc88d61351ed9a": {
     "model_module": "@jupyter-widgets/controls",
     "model_module_version": "1.5.0",
     "model_name": "HBoxModel",
     "state": {
      "_dom_classes": [],
      "_model_module": "@jupyter-widgets/controls",
      "_model_module_version": "1.5.0",
      "_model_name": "HBoxModel",
      "_view_count": null,
      "_view_module": "@jupyter-widgets/controls",
      "_view_module_version": "1.5.0",
      "_view_name": "HBoxView",
      "box_style": "",
      "children": [
       "IPY_MODEL_fc078c706d8042e6b75ef49405cd4567",
       "IPY_MODEL_65728834f0054fa5b8b4f668b434d85f",
       "IPY_MODEL_11de655b15d342feb63b76d299493646"
      ],
      "layout": "IPY_MODEL_47129b7a564a494aacc949a8b78f5506"
     }
    },
    "44db30552c7343c3b4c1e601961a3c9f": {
     "model_module": "@jupyter-widgets/controls",
     "model_module_version": "1.5.0",
     "model_name": "DescriptionStyleModel",
     "state": {
      "_model_module": "@jupyter-widgets/controls",
      "_model_module_version": "1.5.0",
      "_model_name": "DescriptionStyleModel",
      "_view_count": null,
      "_view_module": "@jupyter-widgets/base",
      "_view_module_version": "1.2.0",
      "_view_name": "StyleView",
      "description_width": ""
     }
    },
    "47129b7a564a494aacc949a8b78f5506": {
     "model_module": "@jupyter-widgets/base",
     "model_module_version": "1.2.0",
     "model_name": "LayoutModel",
     "state": {
      "_model_module": "@jupyter-widgets/base",
      "_model_module_version": "1.2.0",
      "_model_name": "LayoutModel",
      "_view_count": null,
      "_view_module": "@jupyter-widgets/base",
      "_view_module_version": "1.2.0",
      "_view_name": "LayoutView",
      "align_content": null,
      "align_items": null,
      "align_self": null,
      "border": null,
      "bottom": null,
      "display": null,
      "flex": null,
      "flex_flow": null,
      "grid_area": null,
      "grid_auto_columns": null,
      "grid_auto_flow": null,
      "grid_auto_rows": null,
      "grid_column": null,
      "grid_gap": null,
      "grid_row": null,
      "grid_template_areas": null,
      "grid_template_columns": null,
      "grid_template_rows": null,
      "height": null,
      "justify_content": null,
      "justify_items": null,
      "left": null,
      "margin": null,
      "max_height": null,
      "max_width": null,
      "min_height": null,
      "min_width": null,
      "object_fit": null,
      "object_position": null,
      "order": null,
      "overflow": null,
      "overflow_x": null,
      "overflow_y": null,
      "padding": null,
      "right": null,
      "top": null,
      "visibility": null,
      "width": null
     }
    },
    "48964826e53a44b89a8d0e778a4c383e": {
     "model_module": "@jupyter-widgets/controls",
     "model_module_version": "1.5.0",
     "model_name": "HTMLModel",
     "state": {
      "_dom_classes": [],
      "_model_module": "@jupyter-widgets/controls",
      "_model_module_version": "1.5.0",
      "_model_name": "HTMLModel",
      "_view_count": null,
      "_view_module": "@jupyter-widgets/controls",
      "_view_module_version": "1.5.0",
      "_view_name": "HTMLView",
      "description": "",
      "description_tooltip": null,
      "layout": "IPY_MODEL_f8987670e07048e5a0f150e5e92bc071",
      "placeholder": "​",
      "style": "IPY_MODEL_9d02fca8dbe440f488e263e7d6078fa6",
      "value": " 571/571 [00:00&lt;00:00, 9.23kB/s]"
     }
    },
    "49e80e26c60046b3a8dc7432bd79f9f5": {
     "model_module": "@jupyter-widgets/base",
     "model_module_version": "1.2.0",
     "model_name": "LayoutModel",
     "state": {
      "_model_module": "@jupyter-widgets/base",
      "_model_module_version": "1.2.0",
      "_model_name": "LayoutModel",
      "_view_count": null,
      "_view_module": "@jupyter-widgets/base",
      "_view_module_version": "1.2.0",
      "_view_name": "LayoutView",
      "align_content": null,
      "align_items": null,
      "align_self": null,
      "border": null,
      "bottom": null,
      "display": null,
      "flex": null,
      "flex_flow": null,
      "grid_area": null,
      "grid_auto_columns": null,
      "grid_auto_flow": null,
      "grid_auto_rows": null,
      "grid_column": null,
      "grid_gap": null,
      "grid_row": null,
      "grid_template_areas": null,
      "grid_template_columns": null,
      "grid_template_rows": null,
      "height": null,
      "justify_content": null,
      "justify_items": null,
      "left": null,
      "margin": null,
      "max_height": null,
      "max_width": null,
      "min_height": null,
      "min_width": null,
      "object_fit": null,
      "object_position": null,
      "order": null,
      "overflow": null,
      "overflow_x": null,
      "overflow_y": null,
      "padding": null,
      "right": null,
      "top": null,
      "visibility": null,
      "width": null
     }
    },
    "4a52fbf772c84c3da9b3d7aa169dfc52": {
     "model_module": "@jupyter-widgets/controls",
     "model_module_version": "1.5.0",
     "model_name": "DescriptionStyleModel",
     "state": {
      "_model_module": "@jupyter-widgets/controls",
      "_model_module_version": "1.5.0",
      "_model_name": "DescriptionStyleModel",
      "_view_count": null,
      "_view_module": "@jupyter-widgets/base",
      "_view_module_version": "1.2.0",
      "_view_name": "StyleView",
      "description_width": ""
     }
    },
    "4f68b7aecbb94fec91a79f8b644a1104": {
     "model_module": "@jupyter-widgets/controls",
     "model_module_version": "1.5.0",
     "model_name": "HBoxModel",
     "state": {
      "_dom_classes": [],
      "_model_module": "@jupyter-widgets/controls",
      "_model_module_version": "1.5.0",
      "_model_name": "HBoxModel",
      "_view_count": null,
      "_view_module": "@jupyter-widgets/controls",
      "_view_module_version": "1.5.0",
      "_view_name": "HBoxView",
      "box_style": "",
      "children": [
       "IPY_MODEL_8c001079a072409cac00329b7fb71ed4",
       "IPY_MODEL_f0bfcbd13de84390a0a986b1d403ad1e",
       "IPY_MODEL_a336315966c244a391c7a9a1b6b77d2d"
      ],
      "layout": "IPY_MODEL_49e80e26c60046b3a8dc7432bd79f9f5"
     }
    },
    "516f8c5e220d4f0a8ccc3ced627dea00": {
     "model_module": "@jupyter-widgets/controls",
     "model_module_version": "1.5.0",
     "model_name": "HTMLModel",
     "state": {
      "_dom_classes": [],
      "_model_module": "@jupyter-widgets/controls",
      "_model_module_version": "1.5.0",
      "_model_name": "HTMLModel",
      "_view_count": null,
      "_view_module": "@jupyter-widgets/controls",
      "_view_module_version": "1.5.0",
      "_view_name": "HTMLView",
      "description": "",
      "description_tooltip": null,
      "layout": "IPY_MODEL_7dbf84056b194d8bbd993f860fce5b4f",
      "placeholder": "​",
      "style": "IPY_MODEL_4a52fbf772c84c3da9b3d7aa169dfc52",
      "value": "Downloading: 100%"
     }
    },
    "5c456b8f5aac413f9442e250c9a63851": {
     "model_module": "@jupyter-widgets/base",
     "model_module_version": "1.2.0",
     "model_name": "LayoutModel",
     "state": {
      "_model_module": "@jupyter-widgets/base",
      "_model_module_version": "1.2.0",
      "_model_name": "LayoutModel",
      "_view_count": null,
      "_view_module": "@jupyter-widgets/base",
      "_view_module_version": "1.2.0",
      "_view_name": "LayoutView",
      "align_content": null,
      "align_items": null,
      "align_self": null,
      "border": null,
      "bottom": null,
      "display": null,
      "flex": null,
      "flex_flow": null,
      "grid_area": null,
      "grid_auto_columns": null,
      "grid_auto_flow": null,
      "grid_auto_rows": null,
      "grid_column": null,
      "grid_gap": null,
      "grid_row": null,
      "grid_template_areas": null,
      "grid_template_columns": null,
      "grid_template_rows": null,
      "height": null,
      "justify_content": null,
      "justify_items": null,
      "left": null,
      "margin": null,
      "max_height": null,
      "max_width": null,
      "min_height": null,
      "min_width": null,
      "object_fit": null,
      "object_position": null,
      "order": null,
      "overflow": null,
      "overflow_x": null,
      "overflow_y": null,
      "padding": null,
      "right": null,
      "top": null,
      "visibility": null,
      "width": null
     }
    },
    "5c908ee22deb4a3680433da581a49251": {
     "model_module": "@jupyter-widgets/controls",
     "model_module_version": "1.5.0",
     "model_name": "ProgressStyleModel",
     "state": {
      "_model_module": "@jupyter-widgets/controls",
      "_model_module_version": "1.5.0",
      "_model_name": "ProgressStyleModel",
      "_view_count": null,
      "_view_module": "@jupyter-widgets/base",
      "_view_module_version": "1.2.0",
      "_view_name": "StyleView",
      "bar_color": null,
      "description_width": ""
     }
    },
    "6310d8ae21b9416c8cbcdb2d347a6fe7": {
     "model_module": "@jupyter-widgets/base",
     "model_module_version": "1.2.0",
     "model_name": "LayoutModel",
     "state": {
      "_model_module": "@jupyter-widgets/base",
      "_model_module_version": "1.2.0",
      "_model_name": "LayoutModel",
      "_view_count": null,
      "_view_module": "@jupyter-widgets/base",
      "_view_module_version": "1.2.0",
      "_view_name": "LayoutView",
      "align_content": null,
      "align_items": null,
      "align_self": null,
      "border": null,
      "bottom": null,
      "display": null,
      "flex": null,
      "flex_flow": null,
      "grid_area": null,
      "grid_auto_columns": null,
      "grid_auto_flow": null,
      "grid_auto_rows": null,
      "grid_column": null,
      "grid_gap": null,
      "grid_row": null,
      "grid_template_areas": null,
      "grid_template_columns": null,
      "grid_template_rows": null,
      "height": null,
      "justify_content": null,
      "justify_items": null,
      "left": null,
      "margin": null,
      "max_height": null,
      "max_width": null,
      "min_height": null,
      "min_width": null,
      "object_fit": null,
      "object_position": null,
      "order": null,
      "overflow": null,
      "overflow_x": null,
      "overflow_y": null,
      "padding": null,
      "right": null,
      "top": null,
      "visibility": null,
      "width": null
     }
    },
    "65728834f0054fa5b8b4f668b434d85f": {
     "model_module": "@jupyter-widgets/controls",
     "model_module_version": "1.5.0",
     "model_name": "FloatProgressModel",
     "state": {
      "_dom_classes": [],
      "_model_module": "@jupyter-widgets/controls",
      "_model_module_version": "1.5.0",
      "_model_name": "FloatProgressModel",
      "_view_count": null,
      "_view_module": "@jupyter-widgets/controls",
      "_view_module_version": "1.5.0",
      "_view_name": "ProgressView",
      "bar_style": "success",
      "description": "",
      "description_tooltip": null,
      "layout": "IPY_MODEL_6310d8ae21b9416c8cbcdb2d347a6fe7",
      "max": 1344997306,
      "min": 0,
      "orientation": "horizontal",
      "style": "IPY_MODEL_dbc2f351a7ee484d82612cea0c6ad05a",
      "value": 1344997306
     }
    },
    "66074efa447a466995433fab8f2c77ce": {
     "model_module": "@jupyter-widgets/base",
     "model_module_version": "1.2.0",
     "model_name": "LayoutModel",
     "state": {
      "_model_module": "@jupyter-widgets/base",
      "_model_module_version": "1.2.0",
      "_model_name": "LayoutModel",
      "_view_count": null,
      "_view_module": "@jupyter-widgets/base",
      "_view_module_version": "1.2.0",
      "_view_name": "LayoutView",
      "align_content": null,
      "align_items": null,
      "align_self": null,
      "border": null,
      "bottom": null,
      "display": null,
      "flex": null,
      "flex_flow": null,
      "grid_area": null,
      "grid_auto_columns": null,
      "grid_auto_flow": null,
      "grid_auto_rows": null,
      "grid_column": null,
      "grid_gap": null,
      "grid_row": null,
      "grid_template_areas": null,
      "grid_template_columns": null,
      "grid_template_rows": null,
      "height": null,
      "justify_content": null,
      "justify_items": null,
      "left": null,
      "margin": null,
      "max_height": null,
      "max_width": null,
      "min_height": null,
      "min_width": null,
      "object_fit": null,
      "object_position": null,
      "order": null,
      "overflow": null,
      "overflow_x": null,
      "overflow_y": null,
      "padding": null,
      "right": null,
      "top": null,
      "visibility": null,
      "width": null
     }
    },
    "6dd822acc9254874a9f20578981a91fa": {
     "model_module": "@jupyter-widgets/controls",
     "model_module_version": "1.5.0",
     "model_name": "DescriptionStyleModel",
     "state": {
      "_model_module": "@jupyter-widgets/controls",
      "_model_module_version": "1.5.0",
      "_model_name": "DescriptionStyleModel",
      "_view_count": null,
      "_view_module": "@jupyter-widgets/base",
      "_view_module_version": "1.2.0",
      "_view_name": "StyleView",
      "description_width": ""
     }
    },
    "786524cf437f47828d0a7409605958fa": {
     "model_module": "@jupyter-widgets/base",
     "model_module_version": "1.2.0",
     "model_name": "LayoutModel",
     "state": {
      "_model_module": "@jupyter-widgets/base",
      "_model_module_version": "1.2.0",
      "_model_name": "LayoutModel",
      "_view_count": null,
      "_view_module": "@jupyter-widgets/base",
      "_view_module_version": "1.2.0",
      "_view_name": "LayoutView",
      "align_content": null,
      "align_items": null,
      "align_self": null,
      "border": null,
      "bottom": null,
      "display": null,
      "flex": null,
      "flex_flow": null,
      "grid_area": null,
      "grid_auto_columns": null,
      "grid_auto_flow": null,
      "grid_auto_rows": null,
      "grid_column": null,
      "grid_gap": null,
      "grid_row": null,
      "grid_template_areas": null,
      "grid_template_columns": null,
      "grid_template_rows": null,
      "height": null,
      "justify_content": null,
      "justify_items": null,
      "left": null,
      "margin": null,
      "max_height": null,
      "max_width": null,
      "min_height": null,
      "min_width": null,
      "object_fit": null,
      "object_position": null,
      "order": null,
      "overflow": null,
      "overflow_x": null,
      "overflow_y": null,
      "padding": null,
      "right": null,
      "top": null,
      "visibility": null,
      "width": null
     }
    },
    "7dbf84056b194d8bbd993f860fce5b4f": {
     "model_module": "@jupyter-widgets/base",
     "model_module_version": "1.2.0",
     "model_name": "LayoutModel",
     "state": {
      "_model_module": "@jupyter-widgets/base",
      "_model_module_version": "1.2.0",
      "_model_name": "LayoutModel",
      "_view_count": null,
      "_view_module": "@jupyter-widgets/base",
      "_view_module_version": "1.2.0",
      "_view_name": "LayoutView",
      "align_content": null,
      "align_items": null,
      "align_self": null,
      "border": null,
      "bottom": null,
      "display": null,
      "flex": null,
      "flex_flow": null,
      "grid_area": null,
      "grid_auto_columns": null,
      "grid_auto_flow": null,
      "grid_auto_rows": null,
      "grid_column": null,
      "grid_gap": null,
      "grid_row": null,
      "grid_template_areas": null,
      "grid_template_columns": null,
      "grid_template_rows": null,
      "height": null,
      "justify_content": null,
      "justify_items": null,
      "left": null,
      "margin": null,
      "max_height": null,
      "max_width": null,
      "min_height": null,
      "min_width": null,
      "object_fit": null,
      "object_position": null,
      "order": null,
      "overflow": null,
      "overflow_x": null,
      "overflow_y": null,
      "padding": null,
      "right": null,
      "top": null,
      "visibility": null,
      "width": null
     }
    },
    "7fb8bba049c24f2f9f51492de95bba51": {
     "model_module": "@jupyter-widgets/controls",
     "model_module_version": "1.5.0",
     "model_name": "HTMLModel",
     "state": {
      "_dom_classes": [],
      "_model_module": "@jupyter-widgets/controls",
      "_model_module_version": "1.5.0",
      "_model_name": "HTMLModel",
      "_view_count": null,
      "_view_module": "@jupyter-widgets/controls",
      "_view_module_version": "1.5.0",
      "_view_name": "HTMLView",
      "description": "",
      "description_tooltip": null,
      "layout": "IPY_MODEL_9e3b9bc00aa2418db9f2e976fd2e4b79",
      "placeholder": "​",
      "style": "IPY_MODEL_a308016015d44ecd99416753c02991ae",
      "value": " 226k/226k [00:00&lt;00:00, 942kB/s]"
     }
    },
    "8985f3215a0148db9cc5084902841faa": {
     "model_module": "@jupyter-widgets/controls",
     "model_module_version": "1.5.0",
     "model_name": "HBoxModel",
     "state": {
      "_dom_classes": [],
      "_model_module": "@jupyter-widgets/controls",
      "_model_module_version": "1.5.0",
      "_model_name": "HBoxModel",
      "_view_count": null,
      "_view_module": "@jupyter-widgets/controls",
      "_view_module_version": "1.5.0",
      "_view_name": "HBoxView",
      "box_style": "",
      "children": [
       "IPY_MODEL_516f8c5e220d4f0a8ccc3ced627dea00",
       "IPY_MODEL_c6d4aa0112a64afcb25bab490d4f677a",
       "IPY_MODEL_48964826e53a44b89a8d0e778a4c383e"
      ],
      "layout": "IPY_MODEL_786524cf437f47828d0a7409605958fa"
     }
    },
    "8c001079a072409cac00329b7fb71ed4": {
     "model_module": "@jupyter-widgets/controls",
     "model_module_version": "1.5.0",
     "model_name": "HTMLModel",
     "state": {
      "_dom_classes": [],
      "_model_module": "@jupyter-widgets/controls",
      "_model_module_version": "1.5.0",
      "_model_name": "HTMLModel",
      "_view_count": null,
      "_view_module": "@jupyter-widgets/controls",
      "_view_module_version": "1.5.0",
      "_view_name": "HTMLView",
      "description": "",
      "description_tooltip": null,
      "layout": "IPY_MODEL_e33d5abd4cc141af99d5add6e88d3e15",
      "placeholder": "​",
      "style": "IPY_MODEL_44db30552c7343c3b4c1e601961a3c9f",
      "value": "Downloading: 100%"
     }
    },
    "949962e4ff3a409282db739a12e03104": {
     "model_module": "@jupyter-widgets/base",
     "model_module_version": "1.2.0",
     "model_name": "LayoutModel",
     "state": {
      "_model_module": "@jupyter-widgets/base",
      "_model_module_version": "1.2.0",
      "_model_name": "LayoutModel",
      "_view_count": null,
      "_view_module": "@jupyter-widgets/base",
      "_view_module_version": "1.2.0",
      "_view_name": "LayoutView",
      "align_content": null,
      "align_items": null,
      "align_self": null,
      "border": null,
      "bottom": null,
      "display": null,
      "flex": null,
      "flex_flow": null,
      "grid_area": null,
      "grid_auto_columns": null,
      "grid_auto_flow": null,
      "grid_auto_rows": null,
      "grid_column": null,
      "grid_gap": null,
      "grid_row": null,
      "grid_template_areas": null,
      "grid_template_columns": null,
      "grid_template_rows": null,
      "height": null,
      "justify_content": null,
      "justify_items": null,
      "left": null,
      "margin": null,
      "max_height": null,
      "max_width": null,
      "min_height": null,
      "min_width": null,
      "object_fit": null,
      "object_position": null,
      "order": null,
      "overflow": null,
      "overflow_x": null,
      "overflow_y": null,
      "padding": null,
      "right": null,
      "top": null,
      "visibility": null,
      "width": null
     }
    },
    "970de506f55a43ce9f5983ddd927f394": {
     "model_module": "@jupyter-widgets/base",
     "model_module_version": "1.2.0",
     "model_name": "LayoutModel",
     "state": {
      "_model_module": "@jupyter-widgets/base",
      "_model_module_version": "1.2.0",
      "_model_name": "LayoutModel",
      "_view_count": null,
      "_view_module": "@jupyter-widgets/base",
      "_view_module_version": "1.2.0",
      "_view_name": "LayoutView",
      "align_content": null,
      "align_items": null,
      "align_self": null,
      "border": null,
      "bottom": null,
      "display": null,
      "flex": null,
      "flex_flow": null,
      "grid_area": null,
      "grid_auto_columns": null,
      "grid_auto_flow": null,
      "grid_auto_rows": null,
      "grid_column": null,
      "grid_gap": null,
      "grid_row": null,
      "grid_template_areas": null,
      "grid_template_columns": null,
      "grid_template_rows": null,
      "height": null,
      "justify_content": null,
      "justify_items": null,
      "left": null,
      "margin": null,
      "max_height": null,
      "max_width": null,
      "min_height": null,
      "min_width": null,
      "object_fit": null,
      "object_position": null,
      "order": null,
      "overflow": null,
      "overflow_x": null,
      "overflow_y": null,
      "padding": null,
      "right": null,
      "top": null,
      "visibility": null,
      "width": null
     }
    },
    "9d02fca8dbe440f488e263e7d6078fa6": {
     "model_module": "@jupyter-widgets/controls",
     "model_module_version": "1.5.0",
     "model_name": "DescriptionStyleModel",
     "state": {
      "_model_module": "@jupyter-widgets/controls",
      "_model_module_version": "1.5.0",
      "_model_name": "DescriptionStyleModel",
      "_view_count": null,
      "_view_module": "@jupyter-widgets/base",
      "_view_module_version": "1.2.0",
      "_view_name": "StyleView",
      "description_width": ""
     }
    },
    "9e3b9bc00aa2418db9f2e976fd2e4b79": {
     "model_module": "@jupyter-widgets/base",
     "model_module_version": "1.2.0",
     "model_name": "LayoutModel",
     "state": {
      "_model_module": "@jupyter-widgets/base",
      "_model_module_version": "1.2.0",
      "_model_name": "LayoutModel",
      "_view_count": null,
      "_view_module": "@jupyter-widgets/base",
      "_view_module_version": "1.2.0",
      "_view_name": "LayoutView",
      "align_content": null,
      "align_items": null,
      "align_self": null,
      "border": null,
      "bottom": null,
      "display": null,
      "flex": null,
      "flex_flow": null,
      "grid_area": null,
      "grid_auto_columns": null,
      "grid_auto_flow": null,
      "grid_auto_rows": null,
      "grid_column": null,
      "grid_gap": null,
      "grid_row": null,
      "grid_template_areas": null,
      "grid_template_columns": null,
      "grid_template_rows": null,
      "height": null,
      "justify_content": null,
      "justify_items": null,
      "left": null,
      "margin": null,
      "max_height": null,
      "max_width": null,
      "min_height": null,
      "min_width": null,
      "object_fit": null,
      "object_position": null,
      "order": null,
      "overflow": null,
      "overflow_x": null,
      "overflow_y": null,
      "padding": null,
      "right": null,
      "top": null,
      "visibility": null,
      "width": null
     }
    },
    "a308016015d44ecd99416753c02991ae": {
     "model_module": "@jupyter-widgets/controls",
     "model_module_version": "1.5.0",
     "model_name": "DescriptionStyleModel",
     "state": {
      "_model_module": "@jupyter-widgets/controls",
      "_model_module_version": "1.5.0",
      "_model_name": "DescriptionStyleModel",
      "_view_count": null,
      "_view_module": "@jupyter-widgets/base",
      "_view_module_version": "1.2.0",
      "_view_name": "StyleView",
      "description_width": ""
     }
    },
    "a336315966c244a391c7a9a1b6b77d2d": {
     "model_module": "@jupyter-widgets/controls",
     "model_module_version": "1.5.0",
     "model_name": "HTMLModel",
     "state": {
      "_dom_classes": [],
      "_model_module": "@jupyter-widgets/controls",
      "_model_module_version": "1.5.0",
      "_model_name": "HTMLModel",
      "_view_count": null,
      "_view_module": "@jupyter-widgets/controls",
      "_view_module_version": "1.5.0",
      "_view_name": "HTMLView",
      "description": "",
      "description_tooltip": null,
      "layout": "IPY_MODEL_fe53376933654a6190f535e63ce898ed",
      "placeholder": "​",
      "style": "IPY_MODEL_cdc3d6d8e1434e93ad98ed9dbaaf70ff",
      "value": " 28.0/28.0 [00:00&lt;00:00, 58.7B/s]"
     }
    },
    "af92da9afcf048959743774ec0839a08": {
     "model_module": "@jupyter-widgets/controls",
     "model_module_version": "1.5.0",
     "model_name": "HBoxModel",
     "state": {
      "_dom_classes": [],
      "_model_module": "@jupyter-widgets/controls",
      "_model_module_version": "1.5.0",
      "_model_name": "HBoxModel",
      "_view_count": null,
      "_view_module": "@jupyter-widgets/controls",
      "_view_module_version": "1.5.0",
      "_view_name": "HBoxView",
      "box_style": "",
      "children": [
       "IPY_MODEL_e6d284f813354550b37a6ed3c7076e55",
       "IPY_MODEL_21325826359c43d99a8d51d0ec934d9d",
       "IPY_MODEL_7fb8bba049c24f2f9f51492de95bba51"
      ],
      "layout": "IPY_MODEL_66074efa447a466995433fab8f2c77ce"
     }
    },
    "c6d4aa0112a64afcb25bab490d4f677a": {
     "model_module": "@jupyter-widgets/controls",
     "model_module_version": "1.5.0",
     "model_name": "FloatProgressModel",
     "state": {
      "_dom_classes": [],
      "_model_module": "@jupyter-widgets/controls",
      "_model_module_version": "1.5.0",
      "_model_name": "FloatProgressModel",
      "_view_count": null,
      "_view_module": "@jupyter-widgets/controls",
      "_view_module_version": "1.5.0",
      "_view_name": "ProgressView",
      "bar_style": "success",
      "description": "",
      "description_tooltip": null,
      "layout": "IPY_MODEL_22bcf44f03cb43f5a824b3a852654718",
      "max": 571,
      "min": 0,
      "orientation": "horizontal",
      "style": "IPY_MODEL_e59a29349a1b46859e3957e7e3ae72e4",
      "value": 571
     }
    },
    "cdc3d6d8e1434e93ad98ed9dbaaf70ff": {
     "model_module": "@jupyter-widgets/controls",
     "model_module_version": "1.5.0",
     "model_name": "DescriptionStyleModel",
     "state": {
      "_model_module": "@jupyter-widgets/controls",
      "_model_module_version": "1.5.0",
      "_model_name": "DescriptionStyleModel",
      "_view_count": null,
      "_view_module": "@jupyter-widgets/base",
      "_view_module_version": "1.2.0",
      "_view_name": "StyleView",
      "description_width": ""
     }
    },
    "dbc2f351a7ee484d82612cea0c6ad05a": {
     "model_module": "@jupyter-widgets/controls",
     "model_module_version": "1.5.0",
     "model_name": "ProgressStyleModel",
     "state": {
      "_model_module": "@jupyter-widgets/controls",
      "_model_module_version": "1.5.0",
      "_model_name": "ProgressStyleModel",
      "_view_count": null,
      "_view_module": "@jupyter-widgets/base",
      "_view_module_version": "1.2.0",
      "_view_name": "StyleView",
      "bar_color": null,
      "description_width": ""
     }
    },
    "dcfba8ca0bcc4f739288ef97374f7771": {
     "model_module": "@jupyter-widgets/controls",
     "model_module_version": "1.5.0",
     "model_name": "DescriptionStyleModel",
     "state": {
      "_model_module": "@jupyter-widgets/controls",
      "_model_module_version": "1.5.0",
      "_model_name": "DescriptionStyleModel",
      "_view_count": null,
      "_view_module": "@jupyter-widgets/base",
      "_view_module_version": "1.2.0",
      "_view_name": "StyleView",
      "description_width": ""
     }
    },
    "e2f57f6b5e6240679757563b8804bf3d": {
     "model_module": "@jupyter-widgets/controls",
     "model_module_version": "1.5.0",
     "model_name": "ProgressStyleModel",
     "state": {
      "_model_module": "@jupyter-widgets/controls",
      "_model_module_version": "1.5.0",
      "_model_name": "ProgressStyleModel",
      "_view_count": null,
      "_view_module": "@jupyter-widgets/base",
      "_view_module_version": "1.2.0",
      "_view_name": "StyleView",
      "bar_color": null,
      "description_width": ""
     }
    },
    "e33d5abd4cc141af99d5add6e88d3e15": {
     "model_module": "@jupyter-widgets/base",
     "model_module_version": "1.2.0",
     "model_name": "LayoutModel",
     "state": {
      "_model_module": "@jupyter-widgets/base",
      "_model_module_version": "1.2.0",
      "_model_name": "LayoutModel",
      "_view_count": null,
      "_view_module": "@jupyter-widgets/base",
      "_view_module_version": "1.2.0",
      "_view_name": "LayoutView",
      "align_content": null,
      "align_items": null,
      "align_self": null,
      "border": null,
      "bottom": null,
      "display": null,
      "flex": null,
      "flex_flow": null,
      "grid_area": null,
      "grid_auto_columns": null,
      "grid_auto_flow": null,
      "grid_auto_rows": null,
      "grid_column": null,
      "grid_gap": null,
      "grid_row": null,
      "grid_template_areas": null,
      "grid_template_columns": null,
      "grid_template_rows": null,
      "height": null,
      "justify_content": null,
      "justify_items": null,
      "left": null,
      "margin": null,
      "max_height": null,
      "max_width": null,
      "min_height": null,
      "min_width": null,
      "object_fit": null,
      "object_position": null,
      "order": null,
      "overflow": null,
      "overflow_x": null,
      "overflow_y": null,
      "padding": null,
      "right": null,
      "top": null,
      "visibility": null,
      "width": null
     }
    },
    "e59a29349a1b46859e3957e7e3ae72e4": {
     "model_module": "@jupyter-widgets/controls",
     "model_module_version": "1.5.0",
     "model_name": "ProgressStyleModel",
     "state": {
      "_model_module": "@jupyter-widgets/controls",
      "_model_module_version": "1.5.0",
      "_model_name": "ProgressStyleModel",
      "_view_count": null,
      "_view_module": "@jupyter-widgets/base",
      "_view_module_version": "1.2.0",
      "_view_name": "StyleView",
      "bar_color": null,
      "description_width": ""
     }
    },
    "e5c3d3c3e1624229bb700edbf18f1cd8": {
     "model_module": "@jupyter-widgets/controls",
     "model_module_version": "1.5.0",
     "model_name": "DescriptionStyleModel",
     "state": {
      "_model_module": "@jupyter-widgets/controls",
      "_model_module_version": "1.5.0",
      "_model_name": "DescriptionStyleModel",
      "_view_count": null,
      "_view_module": "@jupyter-widgets/base",
      "_view_module_version": "1.2.0",
      "_view_name": "StyleView",
      "description_width": ""
     }
    },
    "e6d284f813354550b37a6ed3c7076e55": {
     "model_module": "@jupyter-widgets/controls",
     "model_module_version": "1.5.0",
     "model_name": "HTMLModel",
     "state": {
      "_dom_classes": [],
      "_model_module": "@jupyter-widgets/controls",
      "_model_module_version": "1.5.0",
      "_model_name": "HTMLModel",
      "_view_count": null,
      "_view_module": "@jupyter-widgets/controls",
      "_view_module_version": "1.5.0",
      "_view_name": "HTMLView",
      "description": "",
      "description_tooltip": null,
      "layout": "IPY_MODEL_970de506f55a43ce9f5983ddd927f394",
      "placeholder": "​",
      "style": "IPY_MODEL_e5c3d3c3e1624229bb700edbf18f1cd8",
      "value": "Downloading: 100%"
     }
    },
    "f0bfcbd13de84390a0a986b1d403ad1e": {
     "model_module": "@jupyter-widgets/controls",
     "model_module_version": "1.5.0",
     "model_name": "FloatProgressModel",
     "state": {
      "_dom_classes": [],
      "_model_module": "@jupyter-widgets/controls",
      "_model_module_version": "1.5.0",
      "_model_name": "FloatProgressModel",
      "_view_count": null,
      "_view_module": "@jupyter-widgets/controls",
      "_view_module_version": "1.5.0",
      "_view_name": "ProgressView",
      "bar_style": "success",
      "description": "",
      "description_tooltip": null,
      "layout": "IPY_MODEL_5c456b8f5aac413f9442e250c9a63851",
      "max": 28,
      "min": 0,
      "orientation": "horizontal",
      "style": "IPY_MODEL_e2f57f6b5e6240679757563b8804bf3d",
      "value": 28
     }
    },
    "f8987670e07048e5a0f150e5e92bc071": {
     "model_module": "@jupyter-widgets/base",
     "model_module_version": "1.2.0",
     "model_name": "LayoutModel",
     "state": {
      "_model_module": "@jupyter-widgets/base",
      "_model_module_version": "1.2.0",
      "_model_name": "LayoutModel",
      "_view_count": null,
      "_view_module": "@jupyter-widgets/base",
      "_view_module_version": "1.2.0",
      "_view_name": "LayoutView",
      "align_content": null,
      "align_items": null,
      "align_self": null,
      "border": null,
      "bottom": null,
      "display": null,
      "flex": null,
      "flex_flow": null,
      "grid_area": null,
      "grid_auto_columns": null,
      "grid_auto_flow": null,
      "grid_auto_rows": null,
      "grid_column": null,
      "grid_gap": null,
      "grid_row": null,
      "grid_template_areas": null,
      "grid_template_columns": null,
      "grid_template_rows": null,
      "height": null,
      "justify_content": null,
      "justify_items": null,
      "left": null,
      "margin": null,
      "max_height": null,
      "max_width": null,
      "min_height": null,
      "min_width": null,
      "object_fit": null,
      "object_position": null,
      "order": null,
      "overflow": null,
      "overflow_x": null,
      "overflow_y": null,
      "padding": null,
      "right": null,
      "top": null,
      "visibility": null,
      "width": null
     }
    },
    "fc078c706d8042e6b75ef49405cd4567": {
     "model_module": "@jupyter-widgets/controls",
     "model_module_version": "1.5.0",
     "model_name": "HTMLModel",
     "state": {
      "_dom_classes": [],
      "_model_module": "@jupyter-widgets/controls",
      "_model_module_version": "1.5.0",
      "_model_name": "HTMLModel",
      "_view_count": null,
      "_view_module": "@jupyter-widgets/controls",
      "_view_module_version": "1.5.0",
      "_view_name": "HTMLView",
      "description": "",
      "description_tooltip": null,
      "layout": "IPY_MODEL_949962e4ff3a409282db739a12e03104",
      "placeholder": "​",
      "style": "IPY_MODEL_dcfba8ca0bcc4f739288ef97374f7771",
      "value": "Downloading: 100%"
     }
    },
    "fe53376933654a6190f535e63ce898ed": {
     "model_module": "@jupyter-widgets/base",
     "model_module_version": "1.2.0",
     "model_name": "LayoutModel",
     "state": {
      "_model_module": "@jupyter-widgets/base",
      "_model_module_version": "1.2.0",
      "_model_name": "LayoutModel",
      "_view_count": null,
      "_view_module": "@jupyter-widgets/base",
      "_view_module_version": "1.2.0",
      "_view_name": "LayoutView",
      "align_content": null,
      "align_items": null,
      "align_self": null,
      "border": null,
      "bottom": null,
      "display": null,
      "flex": null,
      "flex_flow": null,
      "grid_area": null,
      "grid_auto_columns": null,
      "grid_auto_flow": null,
      "grid_auto_rows": null,
      "grid_column": null,
      "grid_gap": null,
      "grid_row": null,
      "grid_template_areas": null,
      "grid_template_columns": null,
      "grid_template_rows": null,
      "height": null,
      "justify_content": null,
      "justify_items": null,
      "left": null,
      "margin": null,
      "max_height": null,
      "max_width": null,
      "min_height": null,
      "min_width": null,
      "object_fit": null,
      "object_position": null,
      "order": null,
      "overflow": null,
      "overflow_x": null,
      "overflow_y": null,
      "padding": null,
      "right": null,
      "top": null,
      "visibility": null,
      "width": null
     }
    },
    "feb7184b5f064a02b2b9f24fbb0f5efe": {
     "model_module": "@jupyter-widgets/base",
     "model_module_version": "1.2.0",
     "model_name": "LayoutModel",
     "state": {
      "_model_module": "@jupyter-widgets/base",
      "_model_module_version": "1.2.0",
      "_model_name": "LayoutModel",
      "_view_count": null,
      "_view_module": "@jupyter-widgets/base",
      "_view_module_version": "1.2.0",
      "_view_name": "LayoutView",
      "align_content": null,
      "align_items": null,
      "align_self": null,
      "border": null,
      "bottom": null,
      "display": null,
      "flex": null,
      "flex_flow": null,
      "grid_area": null,
      "grid_auto_columns": null,
      "grid_auto_flow": null,
      "grid_auto_rows": null,
      "grid_column": null,
      "grid_gap": null,
      "grid_row": null,
      "grid_template_areas": null,
      "grid_template_columns": null,
      "grid_template_rows": null,
      "height": null,
      "justify_content": null,
      "justify_items": null,
      "left": null,
      "margin": null,
      "max_height": null,
      "max_width": null,
      "min_height": null,
      "min_width": null,
      "object_fit": null,
      "object_position": null,
      "order": null,
      "overflow": null,
      "overflow_x": null,
      "overflow_y": null,
      "padding": null,
      "right": null,
      "top": null,
      "visibility": null,
      "width": null
     }
    }
   }
  }
 },
 "nbformat": 4,
 "nbformat_minor": 4
}
