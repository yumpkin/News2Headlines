{
 "cells": [
  {
   "cell_type": "markdown",
   "metadata": {
    "id": "FC8097TYCP4q"
   },
   "source": [
    "### **Articles Summarization and Evaluation**\n",
    "\n",
    "* In this notebook we will cover the evaluation of summaries generated both extractively(TF-IDF) and abstractivly(MBart Pre-Trained).\n",
    "* The summaries will be then constructed in a combination of both of the techniques, as some sort of hybrid summarization.\n",
    "* Various metrics then are applied to evalute the sentences of the generted texts in the perspective of the original ones.\n",
    "* The metrics are  `ROUGE1`, `ROUGE2`, `ROUGE-L`, `ROUGE-Lsum` and `BLEU1`, `BLEU2`, `BLEU3`, `BLEU4` (Their averge sum over the count of all articles).  \n",
    "\n",
    "#### *Extractive Summary*"
   ]
  },
  {
   "cell_type": "code",
   "execution_count": null,
   "metadata": {
    "colab": {
     "base_uri": "https://localhost:8080/"
    },
    "execution": {
     "iopub.execute_input": "2022-03-19T09:17:03.887154Z",
     "iopub.status.busy": "2022-03-19T09:17:03.886264Z",
     "iopub.status.idle": "2022-03-19T09:17:05.427602Z",
     "shell.execute_reply": "2022-03-19T09:17:05.426897Z",
     "shell.execute_reply.started": "2022-03-19T09:17:03.887101Z"
    },
    "id": "onUfUO3TCP4x",
    "outputId": "947388b1-bfd1-4666-e889-07c8f9941c83"
   },
   "outputs": [
    {
     "name": "stdout",
     "output_type": "stream",
     "text": [
      "[nltk_data] Downloading package stopwords to /root/nltk_data...\n",
      "[nltk_data]   Package stopwords is already up-to-date!\n",
      "[nltk_data] Downloading package punkt to /root/nltk_data...\n",
      "[nltk_data]   Package punkt is already up-to-date!\n",
      "[nltk_data] Downloading package wordnet to /root/nltk_data...\n",
      "[nltk_data]   Package wordnet is already up-to-date!\n",
      "[nltk_data] Downloading package averaged_perceptron_tagger to\n",
      "[nltk_data]     /root/nltk_data...\n",
      "[nltk_data]   Package averaged_perceptron_tagger is already up-to-\n",
      "[nltk_data]       date!\n"
     ]
    }
   ],
   "source": [
    "import os, json\n",
    "import re\n",
    "import math\n",
    "import numpy as np\n",
    "import networkx as nx\n",
    "import operator\n",
    "import nltk\n",
    "nltk.download('stopwords')\n",
    "nltk.download('punkt')\n",
    "nltk.download('wordnet')\n",
    "nltk.download('averaged_perceptron_tagger')\n",
    "from nltk.stem import WordNetLemmatizer\n",
    "from nltk.tokenize import sent_tokenize,word_tokenize\n",
    "from nltk.corpus import stopwords\n",
    "from nltk.cluster.util import cosine_distance"
   ]
  },
  {
   "cell_type": "code",
   "execution_count": null,
   "metadata": {
    "execution": {
     "iopub.execute_input": "2022-03-19T09:17:05.429700Z",
     "iopub.status.busy": "2022-03-19T09:17:05.429479Z",
     "iopub.status.idle": "2022-03-19T09:17:05.436771Z",
     "shell.execute_reply": "2022-03-19T09:17:05.435971Z",
     "shell.execute_reply.started": "2022-03-19T09:17:05.429668Z"
    },
    "id": "KcIMBUQ9CP41"
   },
   "outputs": [],
   "source": [
    "Stopwords = set(stopwords.words('russian'))\n",
    "wordlemmatizer = WordNetLemmatizer()"
   ]
  },
  {
   "cell_type": "code",
   "execution_count": null,
   "metadata": {
    "id": "u5d88CnCCP42"
   },
   "outputs": [],
   "source": [
    "def load_dataset(file_name):\n",
    "    with open(file_name, 'rb') as articles_set:\n",
    "        dataset = json.load(articles_set)\n",
    "    return dataset"
   ]
  },
  {
   "cell_type": "code",
   "execution_count": null,
   "metadata": {
    "execution": {
     "iopub.execute_input": "2022-03-19T09:17:05.438798Z",
     "iopub.status.busy": "2022-03-19T09:17:05.438466Z",
     "iopub.status.idle": "2022-03-19T09:17:05.444281Z",
     "shell.execute_reply": "2022-03-19T09:17:05.442618Z",
     "shell.execute_reply.started": "2022-03-19T09:17:05.438760Z"
    },
    "id": "5WHqgTkVCP43"
   },
   "outputs": [],
   "source": [
    "def removeSpecialCharacters(text):\n",
    "    regex = r'[^a-zA-Z0-9\\s]'\n",
    "    text = re.sub(regex,'',text)\n",
    "    return text"
   ]
  },
  {
   "cell_type": "code",
   "execution_count": null,
   "metadata": {
    "execution": {
     "iopub.execute_input": "2022-03-19T09:17:05.445507Z",
     "iopub.status.busy": "2022-03-19T09:17:05.445291Z",
     "iopub.status.idle": "2022-03-19T09:17:05.455919Z",
     "shell.execute_reply": "2022-03-19T09:17:05.455171Z",
     "shell.execute_reply.started": "2022-03-19T09:17:05.445485Z"
    },
    "id": "9bTSg1ejCP43"
   },
   "outputs": [],
   "source": [
    "def tokenizeSentences(text):\n",
    "    #Tokenize Sentences\n",
    "    tokenized_sentence = sent_tokenize(text)\n",
    "    #Removing Special Characters\n",
    "    text = removeSpecialCharacters(str(text))\n",
    "    text = re.sub(r'\\d+', '', text)\n",
    "    #Tokenize Words\n",
    "    tokenized_words = word_tokenize(text)\n",
    "    word_count = len(tokenized_words)\n",
    "    #Remove Stop Words\n",
    "    tokenized_words_without_stopwords = [word for word in tokenized_words if word not in Stopwords]\n",
    "    #Remove Single Letter words\n",
    "    tokenized_words_without_stopwords = [word for word in tokenized_words_without_stopwords if len(word) > 1]\n",
    "    #Convert all tokenized words into lower case to remove ambiguity\n",
    "    tokenized_words_without_stopwords = [word.lower() for word in tokenized_words_without_stopwords]\n",
    "    return tokenized_words_without_stopwords, tokenized_sentence, word_count"
   ]
  },
  {
   "cell_type": "code",
   "execution_count": null,
   "metadata": {
    "execution": {
     "iopub.execute_input": "2022-03-19T09:17:05.460179Z",
     "iopub.status.busy": "2022-03-19T09:17:05.459440Z",
     "iopub.status.idle": "2022-03-19T09:17:05.466183Z",
     "shell.execute_reply": "2022-03-19T09:17:05.465331Z",
     "shell.execute_reply.started": "2022-03-19T09:17:05.460128Z"
    },
    "id": "qfp0rTZiCP46"
   },
   "outputs": [],
   "source": [
    "def calculateWordFrequency(words_list):\n",
    "    words_list = [word.lower() for word in words_list]\n",
    "    frequency = {}\n",
    "    unique_words = []\n",
    "    #Find all unique words\n",
    "    for word in words_list:\n",
    "        if word not in unique_words:\n",
    "            unique_words.append(word)\n",
    "    for word in unique_words:\n",
    "          frequency[word] = words_list.count(word)\n",
    "    return frequency"
   ]
  },
  {
   "cell_type": "code",
   "execution_count": null,
   "metadata": {
    "execution": {
     "iopub.execute_input": "2022-03-19T09:17:05.467811Z",
     "iopub.status.busy": "2022-03-19T09:17:05.467536Z",
     "iopub.status.idle": "2022-03-19T09:17:05.478296Z",
     "shell.execute_reply": "2022-03-19T09:17:05.477583Z",
     "shell.execute_reply.started": "2022-03-19T09:17:05.467763Z"
    },
    "id": "edP3ClDYCP48"
   },
   "outputs": [],
   "source": [
    "def posTagging(text):\n",
    "    pos_tag = nltk.pos_tag(text.split())\n",
    "    pos_tagged_noun_verb = []\n",
    "    for word,tag in pos_tag:\n",
    "        if tag == \"NN\" or tag == \"NNP\" or tag == \"NNS\" or tag == \"VB\" or tag == \"VBD\" or tag == \"VBG\" or tag == \"VBN\" or tag == \"VBP\" or tag == \"VBZ\":\n",
    "            pos_tagged_noun_verb.append(word)\n",
    "    return pos_tagged_noun_verb"
   ]
  },
  {
   "cell_type": "code",
   "execution_count": null,
   "metadata": {
    "execution": {
     "iopub.execute_input": "2022-03-19T09:17:05.481355Z",
     "iopub.status.busy": "2022-03-19T09:17:05.480502Z",
     "iopub.status.idle": "2022-03-19T09:17:05.486800Z",
     "shell.execute_reply": "2022-03-19T09:17:05.485902Z",
     "shell.execute_reply.started": "2022-03-19T09:17:05.481195Z"
    },
    "id": "ZQ_u99H-CP49"
   },
   "outputs": [],
   "source": [
    "def stemWords(words):\n",
    "    stemmed_words = []\n",
    "    for word in words:\n",
    "        stemmed_words.append(stemmer.stem(word))\n",
    "    return stemmed_words"
   ]
  },
  {
   "cell_type": "code",
   "execution_count": null,
   "metadata": {
    "execution": {
     "iopub.execute_input": "2022-03-19T09:17:05.488660Z",
     "iopub.status.busy": "2022-03-19T09:17:05.488168Z",
     "iopub.status.idle": "2022-03-19T09:17:05.495109Z",
     "shell.execute_reply": "2022-03-19T09:17:05.494222Z",
     "shell.execute_reply.started": "2022-03-19T09:17:05.488619Z"
    },
    "id": "CCLDUXu6CP4-"
   },
   "outputs": [],
   "source": [
    "def lemmatizeWords(words):\n",
    "    lemmatized_words = []\n",
    "    for word in words:\n",
    "        lemmatized_words.append(wordlemmatizer.lemmatize(word))\n",
    "    return lemmatized_words\n"
   ]
  },
  {
   "cell_type": "code",
   "execution_count": null,
   "metadata": {
    "execution": {
     "iopub.execute_input": "2022-03-19T09:17:05.497289Z",
     "iopub.status.busy": "2022-03-19T09:17:05.496971Z",
     "iopub.status.idle": "2022-03-19T09:17:05.503533Z",
     "shell.execute_reply": "2022-03-19T09:17:05.502566Z",
     "shell.execute_reply.started": "2022-03-19T09:17:05.497255Z"
    },
    "id": "q2zb6rFWCP4-"
   },
   "outputs": [],
   "source": [
    "def tfScore(word,sentence):\n",
    "    freq_sum = 0\n",
    "    word_frequency_in_sentence = 0\n",
    "    len_sentence = len(sentence)\n",
    "    for word_in_sentence in sentence.split():\n",
    "        if word == word_in_sentence:\n",
    "            word_frequency_in_sentence = word_frequency_in_sentence + 1\n",
    "    tf =  word_frequency_in_sentence/ len_sentence\n",
    "    return tf"
   ]
  },
  {
   "cell_type": "code",
   "execution_count": null,
   "metadata": {
    "execution": {
     "iopub.execute_input": "2022-03-19T09:17:05.505516Z",
     "iopub.status.busy": "2022-03-19T09:17:05.504905Z",
     "iopub.status.idle": "2022-03-19T09:17:05.513836Z",
     "shell.execute_reply": "2022-03-19T09:17:05.513019Z",
     "shell.execute_reply.started": "2022-03-19T09:17:05.505478Z"
    },
    "id": "CJ2TWkjLCP4_"
   },
   "outputs": [],
   "source": [
    "def idfScore(no_of_sentences,word,sentences):\n",
    "    no_of_sentence_containing_word = 0\n",
    "    for sentence in sentences:\n",
    "        sentence = removeSpecialCharacters(str(sentence))\n",
    "        sentence = re.sub(r'\\d+', '', sentence)\n",
    "        sentence = sentence.split()\n",
    "        sentence = [word for word in sentence if word.lower() not in Stopwords and len(word)>1]\n",
    "        sentence = [word.lower() for word in sentence]\n",
    "        sentence = [wordlemmatizer.lemmatize(word) for word in sentence]\n",
    "        if word in sentence:\n",
    "            no_of_sentence_containing_word = no_of_sentence_containing_word + 1\n",
    "    idf = math.log10(no_of_sentences/no_of_sentence_containing_word)\n",
    "    return idf"
   ]
  },
  {
   "cell_type": "code",
   "execution_count": null,
   "metadata": {
    "execution": {
     "iopub.execute_input": "2022-03-19T09:17:05.515490Z",
     "iopub.status.busy": "2022-03-19T09:17:05.515206Z",
     "iopub.status.idle": "2022-03-19T09:17:05.524995Z",
     "shell.execute_reply": "2022-03-19T09:17:05.524276Z",
     "shell.execute_reply.started": "2022-03-19T09:17:05.515453Z"
    },
    "id": "7ivN8NMUCP5B"
   },
   "outputs": [],
   "source": [
    "def calculateTfIdfScore(tf,idf):\n",
    "    return tf*idf"
   ]
  },
  {
   "cell_type": "code",
   "execution_count": null,
   "metadata": {
    "execution": {
     "iopub.execute_input": "2022-03-19T09:17:05.526692Z",
     "iopub.status.busy": "2022-03-19T09:17:05.526045Z",
     "iopub.status.idle": "2022-03-19T09:17:05.533269Z",
     "shell.execute_reply": "2022-03-19T09:17:05.532588Z",
     "shell.execute_reply.started": "2022-03-19T09:17:05.526659Z"
    },
    "id": "YRsCkZHLCP5B"
   },
   "outputs": [],
   "source": [
    "def tfidfAllWords(dict_freq,word,sentences,sentence):\n",
    "    word_tfidf = []\n",
    "    tf = tfScore(word,sentence)\n",
    "    idf = idfScore(len(sentences),word,sentences)\n",
    "    tf_idf = calculateTfIdfScore(tf,idf)\n",
    "    return tf_idf"
   ]
  },
  {
   "cell_type": "code",
   "execution_count": null,
   "metadata": {
    "execution": {
     "iopub.execute_input": "2022-03-19T09:17:05.534899Z",
     "iopub.status.busy": "2022-03-19T09:17:05.534648Z",
     "iopub.status.idle": "2022-03-19T09:17:05.543447Z",
     "shell.execute_reply": "2022-03-19T09:17:05.542658Z",
     "shell.execute_reply.started": "2022-03-19T09:17:05.534867Z"
    },
    "id": "qxg56YC5CP5C"
   },
   "outputs": [],
   "source": [
    "def calculateSentenceScore(sentence,frequency,sentences):\n",
    "    sentence_score = 0\n",
    "    sentence = removeSpecialCharacters(str(sentence))\n",
    "    sentence = re.sub(r'\\d+', '', sentence)\n",
    "    pos_tagged_sentence = []\n",
    "    no_of_sentences = len(sentences)\n",
    "    pos_tagged_sentence = posTagging(sentence)\n",
    "    for word in pos_tagged_sentence:\n",
    "        if word.lower() not in Stopwords and word not in Stopwords and len(word)>1:\n",
    "            word = word.lower() \n",
    "            word = wordlemmatizer.lemmatize(word)\n",
    "            sentence_score = sentence_score + tfidfAllWords(frequency,word,sentences,sentence)\n",
    "    return sentence_score"
   ]
  },
  {
   "cell_type": "code",
   "execution_count": null,
   "metadata": {
    "execution": {
     "iopub.execute_input": "2022-03-19T09:17:05.548324Z",
     "iopub.status.busy": "2022-03-19T09:17:05.547820Z",
     "iopub.status.idle": "2022-03-19T09:17:05.560475Z",
     "shell.execute_reply": "2022-03-19T09:17:05.559810Z",
     "shell.execute_reply.started": "2022-03-19T09:17:05.548275Z"
    },
    "id": "L8-DzXFWCP5D"
   },
   "outputs": [],
   "source": [
    "def get_extractive_summary(retention_percentage, text):\n",
    "    tokenized_words, tokenized_sentences, word_count = tokenizeSentences(text)\n",
    "    tokenized_words = lemmatizeWords(tokenized_words)\n",
    "    word_frequency = calculateWordFrequency(tokenized_words)\n",
    "\n",
    "    \"\"\"Taking input from the user: Percentage of retained context from the original text in the summary\"\"\"\n",
    "    default_retention_percentage = 15\n",
    "    default_overflow_percentage = 90\n",
    "\n",
    "    if retention_percentage<=30:\n",
    "        default_retention_percentage = default_retention_percentage*2\n",
    "    elif retention_percentage >=75:\n",
    "        default_retention_percentage = 0\n",
    "\n",
    "    if retention_percentage + default_retention_percentage >= 100:\n",
    "        int(((default_overflow_percentage) * len(tokenized_sentences))/100)\n",
    "    else:\n",
    "        no_of_sentences = int(((retention_percentage + default_retention_percentage) * len(tokenized_sentences))/100)\n",
    "    #print(\"Number of sentences in the summary: \", no_of_sentences, \"\\nTotal number of sentences: \", len(tokenized_sentences))\n",
    "\n",
    "\n",
    "    \"\"\"Generate summary by sorting the sentences based on the sum of tf-idf scores of all the words in the sentence.\"\"\"\n",
    "    c = 1\n",
    "    sentence_scores = {}\n",
    "    for sent in tokenized_sentences:\n",
    "        sentence_importance = calculateSentenceScore(sent,word_frequency,tokenized_sentences)\n",
    "        sentence_scores[c] = sentence_importance\n",
    "        c = c+1\n",
    "    sentence_scores = sorted(sentence_scores.items(), key=operator.itemgetter(1),reverse=True)\n",
    "    count = 0\n",
    "    summary = []\n",
    "    sentence_no = []\n",
    "    for word in sentence_scores:\n",
    "        if count < no_of_sentences:\n",
    "            sentence_no.append(word[0])\n",
    "            count = count+1\n",
    "        else:\n",
    "            break\n",
    "    sentence_no.sort()\n",
    "    count = 1\n",
    "    for sentence in tokenized_sentences:\n",
    "        if count in sentence_no:\n",
    "            summary.append(sentence)\n",
    "        count = count+1\n",
    "    summary = \" \".join(summary)\n",
    "    return summary, retention_percentage, no_of_sentences, word_count, default_retention_percentage, tokenized_sentences, tokenized_words"
   ]
  },
  {
   "cell_type": "markdown",
   "metadata": {
    "id": "2K39b0NqCP5E"
   },
   "source": [
    "#### Abstractive Summarization"
   ]
  },
  {
   "cell_type": "code",
   "execution_count": null,
   "metadata": {
    "id": "H6QUngFTEqu3"
   },
   "outputs": [],
   "source": [
    "# !pip install datasets transformers[sentencepiece]\n",
    "# !pip install sentencepiece"
   ]
  },
  {
   "cell_type": "code",
   "execution_count": null,
   "metadata": {
    "colab": {
     "base_uri": "https://localhost:8080/",
     "height": 177,
     "referenced_widgets": [
      "2963b194f14a4b348d0a026b6e839555",
      "901ade5b532b46dfa35fb4dcb35171ac",
      "82373c9238f84e378329c557780d2a24",
      "c6fe08e7a3f74c759f805a1354c3e356",
      "a7152e5f4c8249a59164023784cd4bbd",
      "43228a8080104d09bc0d2276f69b4f4e",
      "5fa8b2bf25214297b4c506ebd6861997",
      "556bf52f875e4a2f8d27802f04091058",
      "6ec4116f5d6d4d8698f9d2888a9116f2",
      "bd6343ba67334f3da8f4099ff313752e",
      "b3a385be663f42aa90e26000c70bc354",
      "d611c4a3aa08450189f8bb28ae10551c",
      "7d2b8d5c46c54e65baed08c7119d28cf",
      "db6fb2ba2a184cf4934a76009b807bfd",
      "bb94ea3ae02b44678df5d9d28aa197e0",
      "fe04f167e44143e09a71f402f73f68b8",
      "f005c55db2bc4dfba47f0c7691336716",
      "af1b0350e60b4654bcfb6cdeda3446f1",
      "bd31d67f8601470eb4854ca21f964b14",
      "42baad1760fb4dd0bdb417b6af229cbf",
      "69c19399345e470bbef959968eee9205",
      "ad29b2ca64094a8482fb8fbe4211865e",
      "e9dd323fdfad4a08a35bf7b712dd1851",
      "8041a07dacd348549173be034a74bdb9",
      "a35a1d52c141476a942ca333cdd4f394",
      "29239f1b0cfb417fb3f8dc9e75e32934",
      "2c9bb5fddd0642af9c29291578aa3e20",
      "adf31d1e574f48f7b081babc665ef767",
      "0cc61fde9b8742cca5f9fc551147b540",
      "c7ca617b60a64947ac7629152606a068",
      "ec89cca7d3cb4b9a8ec1c3d93a08bec7",
      "6185eed03a644e9ca3be687b057aff6d",
      "59d6d6cbbc2343f1b2d1bd92429ffe3a",
      "061404fee7804ff5ae0deb82d611b0d1",
      "557582503c524584b37f78b44326f80c",
      "0cd3bc6ecb5b454195bcfb88db6d2490",
      "db445c391ac34a1a8c7aea3ee46ddc4e",
      "dd431a8caf864384a274f13e007d2791",
      "0f05375df92947289ec08dd743a822a3",
      "725db9782def4fd58ef7754da3864728",
      "64fbe859b12742bcae3f2a28bcfad0af",
      "7f2303579c2045139bae329e21ae6c36",
      "be7bc4495c2649df977c0ecc46616eed",
      "1970e9e8c8f2485887a1c1730ecf59df",
      "791bcfa329294ddb83909edba6602892",
      "33e17850dbfb4dc9a3ab5f73ce027dec",
      "4831347bcd3c4a228e5f4df844305b1e",
      "af618fe7dac24aac82c509199a95d19f",
      "abfd6cdeb4fc4a6086d74c3a6e4848ba",
      "4d154548553d45eab4feed3eac636872",
      "0ecfe6ad5f084bf8b40511b7c6b90046",
      "d8702cc18b0a46ad822529835f7585df",
      "41c219d05f9e4709889d81a1cfe3fd4a",
      "df6ed46a750546a2956f115745cb1737",
      "6832dd3016b14a2ebff86bfe58c361c3"
     ]
    },
    "id": "ooTdGjXeCP5G",
    "outputId": "52234d09-7890-47a1-9f74-5200ec3bdf07"
   },
   "outputs": [
    {
     "data": {
      "application/vnd.jupyter.widget-view+json": {
       "model_id": "2963b194f14a4b348d0a026b6e839555",
       "version_major": 2,
       "version_minor": 0
      },
      "text/plain": [
       "Downloading:   0%|          | 0.00/4.83M [00:00<?, ?B/s]"
      ]
     },
     "metadata": {},
     "output_type": "display_data"
    },
    {
     "data": {
      "application/vnd.jupyter.widget-view+json": {
       "model_id": "d611c4a3aa08450189f8bb28ae10551c",
       "version_major": 2,
       "version_minor": 0
      },
      "text/plain": [
       "Downloading:   0%|          | 0.00/406 [00:00<?, ?B/s]"
      ]
     },
     "metadata": {},
     "output_type": "display_data"
    },
    {
     "data": {
      "application/vnd.jupyter.widget-view+json": {
       "model_id": "e9dd323fdfad4a08a35bf7b712dd1851",
       "version_major": 2,
       "version_minor": 0
      },
      "text/plain": [
       "Downloading:   0%|          | 0.00/287 [00:00<?, ?B/s]"
      ]
     },
     "metadata": {},
     "output_type": "display_data"
    },
    {
     "data": {
      "application/vnd.jupyter.widget-view+json": {
       "model_id": "061404fee7804ff5ae0deb82d611b0d1",
       "version_major": 2,
       "version_minor": 0
      },
      "text/plain": [
       "Downloading:   0%|          | 0.00/1.05k [00:00<?, ?B/s]"
      ]
     },
     "metadata": {},
     "output_type": "display_data"
    },
    {
     "data": {
      "application/vnd.jupyter.widget-view+json": {
       "model_id": "791bcfa329294ddb83909edba6602892",
       "version_major": 2,
       "version_minor": 0
      },
      "text/plain": [
       "Downloading:   0%|          | 0.00/3.23G [00:00<?, ?B/s]"
      ]
     },
     "metadata": {},
     "output_type": "display_data"
    }
   ],
   "source": [
    "from transformers import MBartTokenizer, MBartForConditionalGeneration, BartConfig\n",
    "from transformers import pipeline\n",
    "\n",
    "model_name = \"IlyaGusev/mbart_ru_sum_gazeta\"\n",
    "bart_tokenizer = MBartTokenizer.from_pretrained(model_name)\n",
    "bart_model = MBartForConditionalGeneration.from_pretrained(model_name)"
   ]
  },
  {
   "cell_type": "code",
   "execution_count": null,
   "metadata": {
    "execution": {
     "iopub.execute_input": "2022-03-19T09:18:14.705239Z",
     "iopub.status.busy": "2022-03-19T09:18:14.704976Z",
     "iopub.status.idle": "2022-03-19T09:18:14.713409Z",
     "shell.execute_reply": "2022-03-19T09:18:14.712491Z",
     "shell.execute_reply.started": "2022-03-19T09:18:14.705207Z"
    },
    "id": "J97z-KBhCP5H"
   },
   "outputs": [],
   "source": [
    "def nest_sentences(document):\n",
    "    nested = []\n",
    "    sent = []\n",
    "    length = 0\n",
    "    token =  nltk.sent_tokenize(document)\n",
    "    for sentence in token:\n",
    "        length += len(sentence.split(' '))\n",
    "        if length < 256:\n",
    "            sent.append(sentence)\n",
    "        else:\n",
    "            nested.append(sent)\n",
    "            sent = []\n",
    "            length = 0\n",
    "\n",
    "    if sent:\n",
    "        nested.append(sent)\n",
    "\n",
    "    #print(\"Nested: \", nested)\n",
    "#     print(\"Nested Count: \", len(nested))\n",
    "#     for i in nested:\n",
    "#         print(\"Sentence count in each nested list: \", len(i))\n",
    "    return nested"
   ]
  },
  {
   "cell_type": "code",
   "execution_count": null,
   "metadata": {
    "execution": {
     "iopub.execute_input": "2022-03-19T09:18:14.715590Z",
     "iopub.status.busy": "2022-03-19T09:18:14.715016Z",
     "iopub.status.idle": "2022-03-19T09:18:14.723937Z",
     "shell.execute_reply": "2022-03-19T09:18:14.723127Z",
     "shell.execute_reply.started": "2022-03-19T09:18:14.715362Z"
    },
    "id": "bO3MLBgZCP5I"
   },
   "outputs": [],
   "source": [
    "def generate_summary(nested_sentences, min_summary_length, max_summary_length):\n",
    "    device = 'cuda'\n",
    "    summaries = []\n",
    "    for nested in nested_sentences:\n",
    "        input_tokenized = bart_tokenizer.encode(' '.join(nested), truncation=False, return_tensors='pt', add_special_tokens = False, verbose = True)\n",
    "        #input_tokenized = input_tokenized.to(device)\n",
    "        summary_ids = bart_model.generate(input_tokenized,                          \n",
    "                                          num_beams=5,\n",
    "                                          no_repeat_ngram_size=2,\n",
    "                                          min_length = min_summary_length,\n",
    "                                          max_length = max_summary_length)\n",
    "        output = [bart_tokenizer.decode(g, skip_special_tokens=True, clean_up_tokenization_spaces=True) for g in summary_ids]\n",
    "        summaries.append(output)\n",
    "        #summaries = [sentence for sublist in summaries for sentence in sublist]\n",
    "    return summaries"
   ]
  },
  {
   "cell_type": "code",
   "execution_count": null,
   "metadata": {
    "colab": {
     "base_uri": "https://localhost:8080/",
     "height": 248
    },
    "id": "Vf1NFJXHO-0u",
    "outputId": "694e00f0-cf9e-4579-a520-abeb766e1c60"
   },
   "outputs": [
    {
     "data": {
      "application/vnd.google.colaboratory.intrinsic+json": {
       "type": "string"
      },
      "text/plain": [
       "' Суд признал Хёрд виновной в клевете и обязал выплатить Деппу $15 млн Суд признал Эмбер Хёрд виновной в клевете и обязал выплатить Джонни Деппу $15 млн Суд присяжных присудил Деппу $10 млн в качестве компенсации за ущерб и $5 млн в качестве штрафных санкций. В свою очередь, Хёрд также получит $2 млн компенсации за моральный ущерб Суд присяжных в Вирджинии (США) присудил $15 млн компенсации актеру Джонни Деппу по иску о клевете против его бывшей жены Эмбер Хёрд. По мнению присяжных, актриса опорочила своего бывшего супруга, передает Reuters. Присяжные приняли решение в процессе о диффамации между бывшими супругами после 14 часов обсуждения. Деппу присудили $10 млн в качестве компенсации за ущерб и $5 млн в качестве штрафных санкций. В то же время Хёрд также получит $2 млн компенсации за моральный ущерб. www.adv.rbc.ru Судебный процесс между Хёрд и Деппом продолжается с апреля, присяжные заседатели заслушали в общей сложности более 100 часов показаний. Он должен был начаться еще в 2019 году, но был отложен из-за пандемии коронавируса. www.adv.rbc.ru Юристы Деппа в 2019 году подали в суд на Хёрд на сумму $50 млн за клевету, причиной стала ее статья для Washington Post 2018 года, в которой она назвала себя «публичной персоной, представляющей проблему домашнего насилия». Хотя Депп не был назван в статье, он утверждает, что это стоило ему прибыльных ролей. В частности, он потерял контракт с Warner Bros. на серию фильмов о мире Гарри Поттера «Фантастические твари», по которому должен был сыграть в пяти картинах (Деппа заменил датский актер Мадс Миккельсен). Хёрд подала встречный иск на $100 млн, она обвиняет Деппа в жестоком обращении. Депп уже на суде отверг эти обвинения Хёрд. До этого, в ноябре 2020 года, Депп судился с газетой The Sun, которая опубликовала статью, где утверждалось, что он избивал Хёрд. Депп обвинил газету в клевете, однако Высокий суд Лондона не стал удовлетворять иск актера. Джонни Депп и Эмбер Хёрд поженились в феврале 2015 года, однако уже через год их брак распался. Актриса опубликовала фотографию с синяками и обвинила Деппа в домашнем насилии. Тот, в свою очередь, назвал эти заявления клеветой. Авторы Теги '"
      ]
     },
     "execution_count": 133,
     "metadata": {},
     "output_type": "execute_result"
    }
   ],
   "source": [
    "data[4][1]"
   ]
  },
  {
   "cell_type": "code",
   "execution_count": null,
   "metadata": {
    "execution": {
     "iopub.execute_input": "2022-03-19T09:18:14.726570Z",
     "iopub.status.busy": "2022-03-19T09:18:14.726127Z",
     "iopub.status.idle": "2022-03-19T09:18:14.736459Z",
     "shell.execute_reply": "2022-03-19T09:18:14.735737Z",
     "shell.execute_reply.started": "2022-03-19T09:18:14.726533Z"
    },
    "id": "LRLmdkPbCP5J"
   },
   "outputs": [],
   "source": [
    "def get_abstractive_summary(extractive_summary, extractive_retention_percentage, extractive_word_count, extractive_num_sentences, default_retention_percentage_extractive):\n",
    "    DOCUMENT = extractive_summary\n",
    "    start = '<START>'\n",
    "    end = '<END>'\n",
    "    DOCUMENT = start + DOCUMENT +end\n",
    "    DOCUMENT = re.sub(r'\\n|\\r', ' ', DOCUMENT)\n",
    "    DOCUMENT = re.sub(r' +', ' ', DOCUMENT)\n",
    "    DOCUMENT = DOCUMENT.strip()\n",
    "    nested = nest_sentences(DOCUMENT)\n",
    "    default_error_percentage = 15\n",
    "    min_summary_length = int((((extractive_retention_percentage - default_error_percentage)/100)*extractive_word_count)/len(nested))\n",
    "    max_summary_length = int(((extractive_retention_percentage + default_error_percentage)/100)*extractive_word_count/len(nested)) + 100\n",
    "    #print(\"Min summary length\", min_summary_length)\n",
    "    #print(\"Max summary length\", max_summary_length)\n",
    "    #print(\"Extractive Number of Sentences\", extractive_num_sentences)\n",
    "    if extractive_retention_percentage>75:\n",
    "        hybrid_summary = extractive_summary\n",
    "        hybrid_retention_percentage = extractive_retention_percentage\n",
    "    else:\n",
    "        hybrid_summary = generate_summary(nested, min_summary_length, max_summary_length)\n",
    "        hybrid_retention_percentage = extractive_retention_percentage\n",
    "    return hybrid_summary, hybrid_retention_percentage"
   ]
  },
  {
   "cell_type": "code",
   "execution_count": null,
   "metadata": {
    "execution": {
     "iopub.execute_input": "2022-03-19T09:18:14.738435Z",
     "iopub.status.busy": "2022-03-19T09:18:14.737880Z",
     "iopub.status.idle": "2022-03-19T09:18:14.746815Z",
     "shell.execute_reply": "2022-03-19T09:18:14.746081Z",
     "shell.execute_reply.started": "2022-03-19T09:18:14.738399Z"
    },
    "id": "96LJH8fNCP5K"
   },
   "outputs": [],
   "source": [
    "def get_hybrid_summary(retention_percentage, text):\n",
    "    extractive_summary = get_extractive_summary(retention_percentage, text)\n",
    "    hybrid_summary = get_abstractive_summary(extractive_summary[0], extractive_summary[1], extractive_summary[3], extractive_summary[2], extractive_summary[4])\n",
    "    return hybrid_summary[0][0][0]\n"
   ]
  },
  {
   "cell_type": "markdown",
   "metadata": {
    "id": "T_lA_xMYCP5L"
   },
   "source": [
    "Summary Evaluation"
   ]
  },
  {
   "cell_type": "code",
   "execution_count": null,
   "metadata": {
    "colab": {
     "base_uri": "https://localhost:8080/"
    },
    "execution": {
     "iopub.execute_input": "2022-03-19T09:18:14.748725Z",
     "iopub.status.busy": "2022-03-19T09:18:14.748231Z",
     "iopub.status.idle": "2022-03-19T09:18:24.176038Z",
     "shell.execute_reply": "2022-03-19T09:18:24.175203Z",
     "shell.execute_reply.started": "2022-03-19T09:18:14.748689Z"
    },
    "id": "23icwBHkCP5L",
    "outputId": "7378b792-559d-4bd6-80a6-7b9d705d0d05"
   },
   "outputs": [
    {
     "name": "stdout",
     "output_type": "stream",
     "text": [
      "Looking in indexes: https://pypi.org/simple, https://us-python.pkg.dev/colab-wheels/public/simple/\n",
      "Requirement already satisfied: rouge_score in /usr/local/lib/python3.7/dist-packages (0.0.4)\n",
      "Requirement already satisfied: numpy in /usr/local/lib/python3.7/dist-packages (from rouge_score) (1.21.6)\n",
      "Requirement already satisfied: six>=1.14.0 in /usr/local/lib/python3.7/dist-packages (from rouge_score) (1.15.0)\n",
      "Requirement already satisfied: absl-py in /usr/local/lib/python3.7/dist-packages (from rouge_score) (1.0.0)\n",
      "Requirement already satisfied: nltk in /usr/local/lib/python3.7/dist-packages (from rouge_score) (3.2.5)\n"
     ]
    }
   ],
   "source": [
    "!pip install rouge_score"
   ]
  },
  {
   "cell_type": "code",
   "execution_count": null,
   "metadata": {
    "execution": {
     "iopub.execute_input": "2022-03-19T09:18:24.178157Z",
     "iopub.status.busy": "2022-03-19T09:18:24.177885Z",
     "iopub.status.idle": "2022-03-19T09:18:24.190107Z",
     "shell.execute_reply": "2022-03-19T09:18:24.189416Z",
     "shell.execute_reply.started": "2022-03-19T09:18:24.178105Z"
    },
    "id": "HiPG7wGOCP5L"
   },
   "outputs": [],
   "source": [
    "from rouge_score import rouge_scorer\n",
    "import string\n",
    "from nltk.translate.bleu_score import sentence_bleu, corpus_bleu\n",
    "from nltk.translate.bleu_score import SmoothingFunction\n",
    "from nltk.tokenize import sent_tokenize, word_tokenize\n",
    "from nltk.translate import bleu"
   ]
  },
  {
   "cell_type": "code",
   "execution_count": null,
   "metadata": {
    "execution": {
     "iopub.execute_input": "2022-03-19T09:18:24.191983Z",
     "iopub.status.busy": "2022-03-19T09:18:24.191731Z",
     "iopub.status.idle": "2022-03-19T09:18:24.198371Z",
     "shell.execute_reply": "2022-03-19T09:18:24.197590Z",
     "shell.execute_reply.started": "2022-03-19T09:18:24.191950Z"
    },
    "id": "QaX_gu2pCP5M"
   },
   "outputs": [],
   "source": [
    "def calculateRougeScore(summary, reference):\n",
    "    #Rouge N: N-gram scoring\n",
    "    #Rouge L: sentence-level: Compute longest common subsequence (LCS) between two pieces of text. Newlines are ignored.\n",
    "    #RougeLsum: summary-level: Newlines in the text are interpreted as sentence boundaries, and the LCS is computed between each pair of reference and candidate sentences, and something called union-LCS is computed.\n",
    "    scorer = rouge_scorer.RougeScorer(['rouge1', 'rouge2', 'rougeLsum', 'rougeL'], use_stemmer=True)\n",
    "    scores = scorer.score(summary,reference)\n",
    "    return scores"
   ]
  },
  {
   "cell_type": "code",
   "execution_count": null,
   "metadata": {
    "execution": {
     "iopub.execute_input": "2022-03-19T09:18:24.199852Z",
     "iopub.status.busy": "2022-03-19T09:18:24.199562Z",
     "iopub.status.idle": "2022-03-19T09:18:24.208597Z",
     "shell.execute_reply": "2022-03-19T09:18:24.207926Z",
     "shell.execute_reply.started": "2022-03-19T09:18:24.199805Z"
    },
    "id": "Fpb4P1j2CP5M"
   },
   "outputs": [],
   "source": [
    "def getTokens(test):\n",
    "    test = test.translate(str.maketrans('','',string.punctuation))\n",
    "    test_list = word_tokenize(test)\n",
    "    return test_list\n"
   ]
  },
  {
   "cell_type": "code",
   "execution_count": null,
   "metadata": {
    "execution": {
     "iopub.execute_input": "2022-03-19T09:18:24.212059Z",
     "iopub.status.busy": "2022-03-19T09:18:24.211637Z",
     "iopub.status.idle": "2022-03-19T09:18:24.221181Z",
     "shell.execute_reply": "2022-03-19T09:18:24.220340Z",
     "shell.execute_reply.started": "2022-03-19T09:18:24.212027Z"
    },
    "id": "hDIOsJRFCP5N"
   },
   "outputs": [],
   "source": [
    "def calculateBleuScore(summary, reference):\n",
    "    summary_tokens = getTokens(summary)\n",
    "    reference_tokens = getTokens(reference)\n",
    "    reference_tokens = [reference_tokens]\n",
    "    smoothie = SmoothingFunction().method1\n",
    "    weights_unigram = (1, 0, 0, 0)\n",
    "    weights_bigram = (0, 1, 0, 0)\n",
    "    weights_trigram = (0, 0, 1, 0)\n",
    "    weights_fourgram = (0, 0, 0, 1)\n",
    "    bleu_score_unigram = sentence_bleu(reference_tokens,summary_tokens,smoothing_function=smoothie, weights = weights_unigram) #BLEU-1,2,3,4\n",
    "    bleu_score_bigram = sentence_bleu(reference_tokens,summary_tokens,smoothing_function=smoothie, weights = weights_bigram)\n",
    "    bleu_score_trigram = sentence_bleu(reference_tokens,summary_tokens,smoothing_function=smoothie, weights = weights_trigram)\n",
    "    bleu_score_fourgram = sentence_bleu(reference_tokens,summary_tokens,smoothing_function=smoothie, weights = weights_fourgram)\n",
    "    return bleu_score_unigram, bleu_score_bigram, bleu_score_trigram, bleu_score_fourgram"
   ]
  },
  {
   "cell_type": "code",
   "execution_count": null,
   "metadata": {
    "execution": {
     "iopub.execute_input": "2022-03-19T09:18:24.222837Z",
     "iopub.status.busy": "2022-03-19T09:18:24.222585Z",
     "iopub.status.idle": "2022-03-19T09:18:48.969452Z",
     "shell.execute_reply": "2022-03-19T09:18:48.968717Z",
     "shell.execute_reply.started": "2022-03-19T09:18:24.222796Z"
    },
    "id": "Lfqjx2jrCP5N"
   },
   "outputs": [],
   "source": [
    "text = \"Reuters назвал нового главного перестраховщика танкеров из России Reuters узнал, что РНПК стала главным перестраховщиком танкеров из России РНПК стала ключевым перестраховщиком российских танкеров, сообщил Reuters. Ранее ЕС запретил страхование и перестрахование морских перевозок российской нефти в третьи страны и, как пишет FT, согласовал этот запрет с Британией Российская национальная перестраховочная компания (РНПК) стала основным перестраховщиком для российских судов, в том числе для танкеров «Совкомфлота», после введения западных санкций, сообщили источники Reuters. Они предположили, что гарантий, предоставляемых РНПК российским страховщикам, будет достаточно, чтобы обеспечивать работу российских танкеров без привлечения западных компаний, которые не готовы работать с Россией. «Увеличение гарантированного капитала РНПК (до 750 млрд руб., о чем в марте объявил ЦБ. — РБК) расширит возможности российских страховщиков в сфере перестрахования рисков внутри России и управления новыми санкционными рисками», — сказал источник агентства. www.adv.rbc.ru При этом другой собеседник Reuters предположил, что средства РНПК могут быть быстро исчерпаны, поскольку сфера деятельности компании не ограничивается сектором морских перевозок. www.adv.rbc.ru 3 июня Евросоюз утвердил шестой пакет санкций против России. Помимо частичного нефтяного эмбарго в него вошел запрет на страхование и перестрахование морских перевозок российской нефти и нефтепродуктов в третьи страны. Как сообщила Financial Times, Евросоюз договорился об этом запрете и с Великобританией. Возможность его введения также рассматривают страны «Большой семерки», однако подобные меры не вступят в силу в ближайшие полгода, пишет издание. При этом Великобритания является ведущим игроком как в области взаимного страхования (P&I), так и в сфере страхования самих судов (H&M). В Лондоне базируется Международная группа клубов взаимного страхования судовладельцев (International Group of P&I Clubs, или IG P&I), и семь из 13 связанных с ней клубов также расположены в британской столице. По данным IG P&I, ее участники обеспечивают покрытие 90% мирового тоннажа морских судов. Также в Лондоне находится Lloyd's of London — рынок страхования и перестрахования. Авторы Теги\"\n",
    "gold_summary = \"РНПК стала ключевым перестраховщиком российских танкеров, сообщил Reuters. Ранее ЕС запретил страхование и перестрахование морских перевозок российской нефти в третьи страны и, как пишет FT, согласовал этот запрет с Британией\"\n",
    "generated_summary = get_hybrid_summary(60, text)"
   ]
  },
  {
   "cell_type": "code",
   "execution_count": null,
   "metadata": {
    "colab": {
     "base_uri": "https://localhost:8080/"
    },
    "execution": {
     "iopub.execute_input": "2022-03-19T09:18:48.970802Z",
     "iopub.status.busy": "2022-03-19T09:18:48.970574Z",
     "iopub.status.idle": "2022-03-19T09:18:48.976080Z",
     "shell.execute_reply": "2022-03-19T09:18:48.974919Z",
     "shell.execute_reply.started": "2022-03-19T09:18:48.970770Z"
    },
    "id": "9UAjW_tpCP5O",
    "outputId": "468b836e-5381-43f1-9e55-d46f362a5214"
   },
   "outputs": [
    {
     "name": "stdout",
     "output_type": "stream",
     "text": [
      "Text:  Reuters назвал нового главного перестраховщика танкеров из России Reuters узнал, что РНПК стала главным перестраховщиком танкеров из России РНПК стала ключевым перестраховщиком российских танкеров, сообщил Reuters. Ранее ЕС запретил страхование и перестрахование морских перевозок российской нефти в третьи страны и, как пишет FT, согласовал этот запрет с Британией Российская национальная перестраховочная компания (РНПК) стала основным перестраховщиком для российских судов, в том числе для танкеров «Совкомфлота», после введения западных санкций, сообщили источники Reuters. Они предположили, что гарантий, предоставляемых РНПК российским страховщикам, будет достаточно, чтобы обеспечивать работу российских танкеров без привлечения западных компаний, которые не готовы работать с Россией. «Увеличение гарантированного капитала РНПК (до 750 млрд руб., о чем в марте объявил ЦБ. — РБК) расширит возможности российских страховщиков в сфере перестрахования рисков внутри России и управления новыми санкционными рисками», — сказал источник агентства. www.adv.rbc.ru При этом другой собеседник Reuters предположил, что средства РНПК могут быть быстро исчерпаны, поскольку сфера деятельности компании не ограничивается сектором морских перевозок. www.adv.rbc.ru 3 июня Евросоюз утвердил шестой пакет санкций против России. Помимо частичного нефтяного эмбарго в него вошел запрет на страхование и перестрахование морских перевозок российской нефти и нефтепродуктов в третьи страны. Как сообщила Financial Times, Евросоюз договорился об этом запрете и с Великобританией. Возможность его введения также рассматривают страны «Большой семерки», однако подобные меры не вступят в силу в ближайшие полгода, пишет издание. При этом Великобритания является ведущим игроком как в области взаимного страхования (P&I), так и в сфере страхования самих судов (H&M). В Лондоне базируется Международная группа клубов взаимного страхования судовладельцев (International Group of P&I Clubs, или IG P&I), и семь из 13 связанных с ней клубов также расположены в британской столице. По данным IG P&I, ее участники обеспечивают покрытие 90% мирового тоннажа морских судов. Также в Лондоне находится Lloyd's of London — рынок страхования и перестрахования. Авторы Теги\n"
     ]
    }
   ],
   "source": [
    "print(\"Text: \", text)"
   ]
  },
  {
   "cell_type": "code",
   "execution_count": null,
   "metadata": {
    "colab": {
     "base_uri": "https://localhost:8080/"
    },
    "id": "A6cmh-_uMhZJ",
    "outputId": "4b22bf93-51ec-4743-f82e-093e46faee1b"
   },
   "outputs": [
    {
     "name": "stdout",
     "output_type": "stream",
     "text": [
      "Gold summary:  РНПК стала ключевым перестраховщиком российских танкеров, сообщил Reuters. Ранее ЕС запретил страхование и перестрахование морских перевозок российской нефти в третьи страны и, как пишет FT, согласовал этот запрет с Британией\n"
     ]
    }
   ],
   "source": [
    "print(\"Gold summary: \", gold_summary)"
   ]
  },
  {
   "cell_type": "code",
   "execution_count": null,
   "metadata": {
    "colab": {
     "base_uri": "https://localhost:8080/"
    },
    "id": "X1f4aU5CMjO2",
    "outputId": "402f7a5c-9292-4fe6-af46-2860edb857c8"
   },
   "outputs": [
    {
     "name": "stdout",
     "output_type": "stream",
     "text": [
      "Generated Summary:  РоссийскаяРоссийская национальная РНПК стала главным перестраховщиком танк\n"
     ]
    }
   ],
   "source": [
    "print(\"Generated Summary: \", generated_summary)"
   ]
  },
  {
   "cell_type": "code",
   "execution_count": null,
   "metadata": {
    "colab": {
     "base_uri": "https://localhost:8080/"
    },
    "execution": {
     "iopub.execute_input": "2022-03-19T09:18:48.996931Z",
     "iopub.status.busy": "2022-03-19T09:18:48.996533Z",
     "iopub.status.idle": "2022-03-19T09:18:49.018709Z",
     "shell.execute_reply": "2022-03-19T09:18:49.017939Z",
     "shell.execute_reply.started": "2022-03-19T09:18:48.996897Z"
    },
    "id": "H6q5fQNACP5Q",
    "outputId": "90c142f9-1450-4f5f-f899-5e750a0c6be2"
   },
   "outputs": [
    {
     "name": "stdout",
     "output_type": "stream",
     "text": [
      "{'rouge1': Score(precision=0.0, recall=0.0, fmeasure=0.0), 'rouge2': Score(precision=0.0, recall=0.0, fmeasure=0.0), 'rougeLsum': Score(precision=0, recall=0, fmeasure=0), 'rougeL': Score(precision=0, recall=0, fmeasure=0)}\n"
     ]
    }
   ],
   "source": [
    "rouge_score = calculateRougeScore(generated_summary, gold_summary)\n",
    "print(rouge_score)"
   ]
  },
  {
   "cell_type": "code",
   "execution_count": null,
   "metadata": {
    "colab": {
     "base_uri": "https://localhost:8080/"
    },
    "execution": {
     "iopub.execute_input": "2022-03-19T09:18:49.020670Z",
     "iopub.status.busy": "2022-03-19T09:18:49.020093Z",
     "iopub.status.idle": "2022-03-19T09:18:49.034575Z",
     "shell.execute_reply": "2022-03-19T09:18:49.033605Z",
     "shell.execute_reply.started": "2022-03-19T09:18:49.020635Z"
    },
    "id": "JqhsKi9-CP5R",
    "outputId": "30e399c3-06b2-4a7f-a0e1-6d118a187724"
   },
   "outputs": [
    {
     "name": "stdout",
     "output_type": "stream",
     "text": [
      "(0.01603450772881568, 0.006235641894539433, 0.0007482770273447318, 0.0009353462841809149)\n"
     ]
    }
   ],
   "source": [
    "bleu_score = calculateBleuScore(generated_summary, gold_summary)\n",
    "print(bleu_score)"
   ]
  },
  {
   "cell_type": "markdown",
   "metadata": {
    "id": "l61rnwUFCP5S"
   },
   "source": [
    "Evaluating on the entire dataset\n",
    "\n",
    "\n",
    "Dataset Used: RBC articles"
   ]
  },
  {
   "cell_type": "code",
   "execution_count": null,
   "metadata": {
    "execution": {
     "iopub.execute_input": "2022-03-19T09:18:49.036495Z",
     "iopub.status.busy": "2022-03-19T09:18:49.035907Z",
     "iopub.status.idle": "2022-03-19T09:18:49.043181Z",
     "shell.execute_reply": "2022-03-19T09:18:49.042199Z",
     "shell.execute_reply.started": "2022-03-19T09:18:49.036463Z"
    },
    "id": "0FLQfphuCP5S"
   },
   "outputs": [],
   "source": [
    "import numpy as np\n",
    "import pandas as pd"
   ]
  },
  {
   "cell_type": "code",
   "execution_count": null,
   "metadata": {
    "colab": {
     "base_uri": "https://localhost:8080/",
     "height": 206
    },
    "execution": {
     "iopub.execute_input": "2022-03-19T09:18:49.044873Z",
     "iopub.status.busy": "2022-03-19T09:18:49.044151Z",
     "iopub.status.idle": "2022-03-19T09:18:49.189220Z",
     "shell.execute_reply": "2022-03-19T09:18:49.188484Z",
     "shell.execute_reply.started": "2022-03-19T09:18:49.044838Z"
    },
    "id": "KePZe9P5CP5T",
    "outputId": "1e417dcb-7d27-409b-86e6-5fb70842dffe"
   },
   "outputs": [
    {
     "data": {
      "text/html": [
       "\n",
       "  <div id=\"df-f1df0d46-fe6c-4cad-86c7-0459547ca3e5\">\n",
       "    <div class=\"colab-df-container\">\n",
       "      <div>\n",
       "<style scoped>\n",
       "    .dataframe tbody tr th:only-of-type {\n",
       "        vertical-align: middle;\n",
       "    }\n",
       "\n",
       "    .dataframe tbody tr th {\n",
       "        vertical-align: top;\n",
       "    }\n",
       "\n",
       "    .dataframe thead th {\n",
       "        text-align: right;\n",
       "    }\n",
       "</style>\n",
       "<table border=\"1\" class=\"dataframe\">\n",
       "  <thead>\n",
       "    <tr style=\"text-align: right;\">\n",
       "      <th></th>\n",
       "      <th>overview</th>\n",
       "      <th>body</th>\n",
       "    </tr>\n",
       "  </thead>\n",
       "  <tbody>\n",
       "    <tr>\n",
       "      <th>78d8b9491b72c4e0d0add8f77fa5cc90</th>\n",
       "      <td>РНПК стала ключевым перестраховщиком российски...</td>\n",
       "      <td>Reuters назвал нового главного перестраховщик...</td>\n",
       "    </tr>\n",
       "    <tr>\n",
       "      <th>16449d4a36b1db5e87183cb407a54552</th>\n",
       "      <td>Минстрой разработал план по увеличению использ...</td>\n",
       "      <td>Власти предложили строить дома и школы по тех...</td>\n",
       "    </tr>\n",
       "    <tr>\n",
       "      <th>695434577d5c1ff776910676cef4b6f7</th>\n",
       "      <td>По его мнению, необходимость наличия такого ор...</td>\n",
       "      <td>Рогозин заявил о необходимости противоспутник...</td>\n",
       "    </tr>\n",
       "    <tr>\n",
       "      <th>703096d803b367ec3bebc96f271273a1</th>\n",
       "      <td>Речь идет о перестроении исторического блока, ...</td>\n",
       "      <td>Число уроков истории в школах не увеличат из-...</td>\n",
       "    </tr>\n",
       "    <tr>\n",
       "      <th>21295f8f3febaebc9ea5e3c4077f9de8</th>\n",
       "      <td>Суд присяжных присудил Деппу $10 млн в качеств...</td>\n",
       "      <td>Суд признал Хёрд виновной в клевете и обязал ...</td>\n",
       "    </tr>\n",
       "  </tbody>\n",
       "</table>\n",
       "</div>\n",
       "      <button class=\"colab-df-convert\" onclick=\"convertToInteractive('df-f1df0d46-fe6c-4cad-86c7-0459547ca3e5')\"\n",
       "              title=\"Convert this dataframe to an interactive table.\"\n",
       "              style=\"display:none;\">\n",
       "        \n",
       "  <svg xmlns=\"http://www.w3.org/2000/svg\" height=\"24px\"viewBox=\"0 0 24 24\"\n",
       "       width=\"24px\">\n",
       "    <path d=\"M0 0h24v24H0V0z\" fill=\"none\"/>\n",
       "    <path d=\"M18.56 5.44l.94 2.06.94-2.06 2.06-.94-2.06-.94-.94-2.06-.94 2.06-2.06.94zm-11 1L8.5 8.5l.94-2.06 2.06-.94-2.06-.94L8.5 2.5l-.94 2.06-2.06.94zm10 10l.94 2.06.94-2.06 2.06-.94-2.06-.94-.94-2.06-.94 2.06-2.06.94z\"/><path d=\"M17.41 7.96l-1.37-1.37c-.4-.4-.92-.59-1.43-.59-.52 0-1.04.2-1.43.59L10.3 9.45l-7.72 7.72c-.78.78-.78 2.05 0 2.83L4 21.41c.39.39.9.59 1.41.59.51 0 1.02-.2 1.41-.59l7.78-7.78 2.81-2.81c.8-.78.8-2.07 0-2.86zM5.41 20L4 18.59l7.72-7.72 1.47 1.35L5.41 20z\"/>\n",
       "  </svg>\n",
       "      </button>\n",
       "      \n",
       "  <style>\n",
       "    .colab-df-container {\n",
       "      display:flex;\n",
       "      flex-wrap:wrap;\n",
       "      gap: 12px;\n",
       "    }\n",
       "\n",
       "    .colab-df-convert {\n",
       "      background-color: #E8F0FE;\n",
       "      border: none;\n",
       "      border-radius: 50%;\n",
       "      cursor: pointer;\n",
       "      display: none;\n",
       "      fill: #1967D2;\n",
       "      height: 32px;\n",
       "      padding: 0 0 0 0;\n",
       "      width: 32px;\n",
       "    }\n",
       "\n",
       "    .colab-df-convert:hover {\n",
       "      background-color: #E2EBFA;\n",
       "      box-shadow: 0px 1px 2px rgba(60, 64, 67, 0.3), 0px 1px 3px 1px rgba(60, 64, 67, 0.15);\n",
       "      fill: #174EA6;\n",
       "    }\n",
       "\n",
       "    [theme=dark] .colab-df-convert {\n",
       "      background-color: #3B4455;\n",
       "      fill: #D2E3FC;\n",
       "    }\n",
       "\n",
       "    [theme=dark] .colab-df-convert:hover {\n",
       "      background-color: #434B5C;\n",
       "      box-shadow: 0px 1px 3px 1px rgba(0, 0, 0, 0.15);\n",
       "      filter: drop-shadow(0px 1px 2px rgba(0, 0, 0, 0.3));\n",
       "      fill: #FFFFFF;\n",
       "    }\n",
       "  </style>\n",
       "\n",
       "      <script>\n",
       "        const buttonEl =\n",
       "          document.querySelector('#df-f1df0d46-fe6c-4cad-86c7-0459547ca3e5 button.colab-df-convert');\n",
       "        buttonEl.style.display =\n",
       "          google.colab.kernel.accessAllowed ? 'block' : 'none';\n",
       "\n",
       "        async function convertToInteractive(key) {\n",
       "          const element = document.querySelector('#df-f1df0d46-fe6c-4cad-86c7-0459547ca3e5');\n",
       "          const dataTable =\n",
       "            await google.colab.kernel.invokeFunction('convertToInteractive',\n",
       "                                                     [key], {});\n",
       "          if (!dataTable) return;\n",
       "\n",
       "          const docLinkHtml = 'Like what you see? Visit the ' +\n",
       "            '<a target=\"_blank\" href=https://colab.research.google.com/notebooks/data_table.ipynb>data table notebook</a>'\n",
       "            + ' to learn more about interactive tables.';\n",
       "          element.innerHTML = '';\n",
       "          dataTable['output_type'] = 'display_data';\n",
       "          await google.colab.output.renderOutput(dataTable, element);\n",
       "          const docLink = document.createElement('div');\n",
       "          docLink.innerHTML = docLinkHtml;\n",
       "          element.appendChild(docLink);\n",
       "        }\n",
       "      </script>\n",
       "    </div>\n",
       "  </div>\n",
       "  "
      ],
      "text/plain": [
       "                                                                           overview  \\\n",
       "78d8b9491b72c4e0d0add8f77fa5cc90  РНПК стала ключевым перестраховщиком российски...   \n",
       "16449d4a36b1db5e87183cb407a54552  Минстрой разработал план по увеличению использ...   \n",
       "695434577d5c1ff776910676cef4b6f7  По его мнению, необходимость наличия такого ор...   \n",
       "703096d803b367ec3bebc96f271273a1  Речь идет о перестроении исторического блока, ...   \n",
       "21295f8f3febaebc9ea5e3c4077f9de8  Суд присяжных присудил Деппу $10 млн в качеств...   \n",
       "\n",
       "                                                                               body  \n",
       "78d8b9491b72c4e0d0add8f77fa5cc90   Reuters назвал нового главного перестраховщик...  \n",
       "16449d4a36b1db5e87183cb407a54552   Власти предложили строить дома и школы по тех...  \n",
       "695434577d5c1ff776910676cef4b6f7   Рогозин заявил о необходимости противоспутник...  \n",
       "703096d803b367ec3bebc96f271273a1   Число уроков истории в школах не увеличат из-...  \n",
       "21295f8f3febaebc9ea5e3c4077f9de8   Суд признал Хёрд виновной в клевете и обязал ...  "
      ]
     },
     "execution_count": 121,
     "metadata": {},
     "output_type": "execute_result"
    }
   ],
   "source": [
    "news_data = pd.read_json(\"shuffled_hashed_rbc_dataset.json\")\n",
    "news_data = news_data.transpose()\n",
    "news_data.head()\n",
    "news_data = news_data[['article_overview','article_text']]\n",
    "news_data.head()"
   ]
  },
  {
   "cell_type": "code",
   "execution_count": null,
   "metadata": {
    "execution": {
     "iopub.execute_input": "2022-03-19T09:18:49.191332Z",
     "iopub.status.busy": "2022-03-19T09:18:49.190815Z",
     "iopub.status.idle": "2022-03-19T09:18:49.195497Z",
     "shell.execute_reply": "2022-03-19T09:18:49.194480Z",
     "shell.execute_reply.started": "2022-03-19T09:18:49.191294Z"
    },
    "id": "7Pl77dRQCP5U"
   },
   "outputs": [],
   "source": [
    "dataset_size = news_data.size"
   ]
  },
  {
   "cell_type": "code",
   "execution_count": null,
   "metadata": {
    "execution": {
     "iopub.execute_input": "2022-03-19T09:18:49.197219Z",
     "iopub.status.busy": "2022-03-19T09:18:49.196936Z",
     "iopub.status.idle": "2022-03-19T09:18:49.204462Z",
     "shell.execute_reply": "2022-03-19T09:18:49.203776Z",
     "shell.execute_reply.started": "2022-03-19T09:18:49.197185Z"
    },
    "id": "wpzDbBlqCP5U"
   },
   "outputs": [],
   "source": [
    "data = news_data.values.tolist()"
   ]
  },
  {
   "cell_type": "code",
   "execution_count": null,
   "metadata": {
    "execution": {
     "iopub.execute_input": "2022-03-19T09:18:49.206196Z",
     "iopub.status.busy": "2022-03-19T09:18:49.205544Z",
     "iopub.status.idle": "2022-03-19T09:18:49.213282Z",
     "shell.execute_reply": "2022-03-19T09:18:49.212616Z",
     "shell.execute_reply.started": "2022-03-19T09:18:49.206161Z"
    },
    "id": "R6-V6GyzCP5U"
   },
   "outputs": [],
   "source": [
    "num_examples = 100\n",
    "count = 0\n",
    "retention_percentage = 60"
   ]
  },
  {
   "cell_type": "code",
   "execution_count": null,
   "metadata": {
    "execution": {
     "iopub.execute_input": "2022-03-19T09:19:00.306722Z",
     "iopub.status.busy": "2022-03-19T09:19:00.305984Z",
     "iopub.status.idle": "2022-03-19T09:19:00.312367Z",
     "shell.execute_reply": "2022-03-19T09:19:00.311284Z",
     "shell.execute_reply.started": "2022-03-19T09:19:00.306677Z"
    },
    "id": "lMxoT0PVCP5V"
   },
   "outputs": [],
   "source": [
    "bleu_scores = np.zeros((1,4), dtype=float) #Blue -1,2,3,4\n",
    "rouge1_scores = np.zeros((1,3), dtype=float) #Rouge F-measures for rouge 1, rouge 2, rouge L, rouge Lsum\n",
    "rouge2_scores = np.zeros((1,3), dtype=float)\n",
    "rougeL_scores = np.zeros((1,3), dtype=float)\n",
    "rougeLsum_scores = np.zeros((1,3), dtype=float)"
   ]
  },
  {
   "cell_type": "code",
   "execution_count": null,
   "metadata": {
    "colab": {
     "base_uri": "https://localhost:8080/"
    },
    "execution": {
     "iopub.execute_input": "2022-03-19T09:19:16.528844Z",
     "iopub.status.busy": "2022-03-19T09:19:16.528301Z",
     "iopub.status.idle": "2022-03-19T10:11:26.584471Z",
     "shell.execute_reply": "2022-03-19T10:11:26.583029Z",
     "shell.execute_reply.started": "2022-03-19T09:19:16.528804Z"
    },
    "id": "hLqobz69CP5V",
    "outputId": "511ab751-5bf0-441f-edc1-a806f2af0ef0"
   },
   "outputs": [],
   "source": [
    "for example in data:\n",
    "    #Generating Summary\n",
    "    if count == num_examples:\n",
    "        break\n",
    "    reference = example[0]\n",
    "    text = example[1]\n",
    "    summary = get_hybrid_summary(retention_percentage, text)\n",
    "    #Calculating Bleu Scores\n",
    "    bleu = np.asarray(calculateBleuScore(summary, reference), dtype=np.float32)\n",
    "    bleu_scores = np.sum((bleu_scores, bleu), axis = 0) \n",
    "    #Calculating Rouge Scores\n",
    "    rouge_scores_list = calculateRougeScore(summary, reference)\n",
    "    rouge1 = np.asarray(rouge_scores_list['rouge1'], dtype = np.float32)\n",
    "    rouge1_scores = np.sum((rouge1_scores, rouge1), axis=0)\n",
    "    rouge2 = np.asarray(rouge_scores_list['rouge2'], dtype = np.float32)\n",
    "    rouge2_scores = np.sum((rouge2_scores, rouge2), axis=0)\n",
    "    rougeL = np.asarray(rouge_scores_list['rougeL'], dtype = np.float32)\n",
    "    rougeL_scores = np.sum((rougeL_scores, rougeL), axis=0)\n",
    "    rougeLsum = np.asarray(rouge_scores_list['rougeLsum'], dtype = np.float32)\n",
    "    rougeLsum_scores = np.sum((rougeLsum_scores, rougeLsum), axis=0)\n",
    "    count+=1\n",
    "    print(\"Example Number {} done\".format(count))\n",
    "    \n",
    "bleu_scores /= num_examples\n",
    "rouge1_scores/=num_examples\n",
    "rouge2_scores/=num_examples\n",
    "rougeL_scores/=num_examples\n",
    "rougeLsum_scores/=num_examples\n",
    "    "
   ]
  },
  {
   "cell_type": "code",
   "execution_count": null,
   "metadata": {
    "colab": {
     "base_uri": "https://localhost:8080/"
    },
    "execution": {
     "iopub.execute_input": "2022-03-19T10:15:16.950069Z",
     "iopub.status.busy": "2022-03-19T10:15:16.949592Z",
     "iopub.status.idle": "2022-03-19T10:15:16.957156Z",
     "shell.execute_reply": "2022-03-19T10:15:16.956466Z",
     "shell.execute_reply.started": "2022-03-19T10:15:16.950030Z"
    },
    "id": "dD81O5RaCP5X",
    "outputId": "c619a143-1376-4ff8-b0cd-eb121f96f599"
   },
   "outputs": [
    {
     "name": "stdout",
     "output_type": "stream",
     "text": [
      "Final [[0.22874023 0.15038522 0.10540467 0.07826856]]\n",
      "Final [[0.30645238 0.21645455 0.23143612]]\n",
      "Final [[0.10533333 0.05111544 0.06231089]]\n",
      "Final [[0.30145238 0.21195455 0.22693612]]\n",
      "Final [[0.30145238 0.21195455 0.22693612]]\n"
     ]
    }
   ],
   "source": [
    "print(\"Final\", bleu_scores)\n",
    "print(\"Final\", rouge1_scores)\n",
    "print(\"Final\", rouge2_scores)\n",
    "print(\"Final\", rougeL_scores)\n",
    "print(\"Final\", rougeLsum_scores)"
   ]
  },
  {
   "cell_type": "code",
   "execution_count": null,
   "metadata": {
    "execution": {
     "iopub.execute_input": "2022-03-19T10:15:40.352351Z",
     "iopub.status.busy": "2022-03-19T10:15:40.351790Z",
     "iopub.status.idle": "2022-03-19T10:15:40.355733Z",
     "shell.execute_reply": "2022-03-19T10:15:40.355030Z",
     "shell.execute_reply.started": "2022-03-19T10:15:40.352305Z"
    },
    "id": "APXatJXyCP5Y"
   },
   "outputs": [],
   "source": [
    "import matplotlib.pyplot as plt"
   ]
  },
  {
   "cell_type": "code",
   "execution_count": null,
   "metadata": {
    "execution": {
     "iopub.execute_input": "2022-03-19T10:15:46.317828Z",
     "iopub.status.busy": "2022-03-19T10:15:46.317573Z",
     "iopub.status.idle": "2022-03-19T10:15:46.323826Z",
     "shell.execute_reply": "2022-03-19T10:15:46.323089Z",
     "shell.execute_reply.started": "2022-03-19T10:15:46.317799Z"
    },
    "id": "uJ_EMAt8CP5Y"
   },
   "outputs": [],
   "source": [
    "rouge_eval = []\n",
    "rouge_eval.append(rouge1_scores[0].tolist())\n",
    "rouge_eval.append(rouge2_scores[0].tolist())\n",
    "rouge_eval.append(rougeL_scores[0].tolist())\n",
    "rouge_eval.append(rougeLsum_scores[0].tolist())\n",
    "\n",
    "rouge_eval = (np.array(rouge_eval))"
   ]
  },
  {
   "cell_type": "code",
   "execution_count": null,
   "metadata": {
    "execution": {
     "iopub.execute_input": "2022-03-19T10:15:47.732706Z",
     "iopub.status.busy": "2022-03-19T10:15:47.732163Z",
     "iopub.status.idle": "2022-03-19T10:15:47.737214Z",
     "shell.execute_reply": "2022-03-19T10:15:47.736421Z",
     "shell.execute_reply.started": "2022-03-19T10:15:47.732668Z"
    },
    "id": "fRbqSwMUCP5Y"
   },
   "outputs": [],
   "source": [
    "column_headers = [[\"Bleu Scores\"],[\"Precision\", \"Recall\", \"F-Measure\"]]\n",
    "row_headers = [[\"BLEU-1\", \"BLEU-2\", \"BLEU-3\", \"BLEU-4\"],[\"ROUGE-1\", \"ROUGE-2\", \"ROUGE-L\", \"ROUGE-Lsum\"]]\n",
    "cell_text_bleu = bleu_scores.T\n",
    "cell_text_rouge = rouge_eval"
   ]
  },
  {
   "cell_type": "code",
   "execution_count": null,
   "metadata": {
    "colab": {
     "base_uri": "https://localhost:8080/",
     "height": 369
    },
    "execution": {
     "iopub.execute_input": "2022-03-19T10:16:21.890957Z",
     "iopub.status.busy": "2022-03-19T10:16:21.890552Z",
     "iopub.status.idle": "2022-03-19T10:16:22.066809Z",
     "shell.execute_reply": "2022-03-19T10:16:22.066002Z",
     "shell.execute_reply.started": "2022-03-19T10:16:21.890920Z"
    },
    "id": "VVD_hSjcCP5Z",
    "outputId": "79856271-7162-4a6f-b3da-9f565d9a23b2"
   },
   "outputs": [
    {
     "data": {
      "image/png": "[encoded data removed]",
      "text/plain": [
       "<Figure size 288x360 with 1 Axes>"
      ]
     },
     "metadata": {
      "needs_background": "light"
     },
     "output_type": "display_data"
    }
   ],
   "source": [
    "rcolors = plt.cm.BuPu(np.full(len(row_headers[0]), 0.1))\n",
    "ccolors = plt.cm.BuPu(np.full(len(column_headers[0]), 0.1))\n",
    "plt.rcParams[\"figure.figsize\"] = [4.00, 5.00]\n",
    "plt.rcParams[\"figure.autolayout\"] = True\n",
    "fig, axs = plt.subplots(1, 1)\n",
    "axs.axis('tight')\n",
    "axs.axis('off')\n",
    "table = plt.table(cellText=cell_text_bleu,\n",
    "                    rowLabels=row_headers[0],\n",
    "                    rowColours=rcolors,\n",
    "                    colColours = ccolors,\n",
    "                    colLabels=column_headers[0],\n",
    "                    loc='center')\n",
    "plt.title('BLEU SCORE EVALUATION')\n",
    "plt.show()"
   ]
  },
  {
   "cell_type": "code",
   "execution_count": null,
   "metadata": {
    "colab": {
     "base_uri": "https://localhost:8080/",
     "height": 261
    },
    "execution": {
     "iopub.execute_input": "2022-03-19T10:17:14.533747Z",
     "iopub.status.busy": "2022-03-19T10:17:14.533014Z",
     "iopub.status.idle": "2022-03-19T10:17:14.874004Z",
     "shell.execute_reply": "2022-03-19T10:17:14.873196Z",
     "shell.execute_reply.started": "2022-03-19T10:17:14.533706Z"
    },
    "id": "esEb64n2CP5a",
    "outputId": "20db0003-5403-49e8-ceb2-ec6057e634d4"
   },
   "outputs": [
    {
     "data": {
      "image/png": "[encoded data removed]",
      "text/plain": [
       "<Figure size 504x252 with 1 Axes>"
      ]
     },
     "metadata": {
      "needs_background": "light"
     },
     "output_type": "display_data"
    }
   ],
   "source": [
    "import numpy as np\n",
    "from matplotlib import pyplot as plt\n",
    "rcolors = plt.cm.BuPu(np.full(len(row_headers[1]), 0.1))\n",
    "ccolors = plt.cm.BuPu(np.full(len(column_headers[1]), 0.1))\n",
    "plt.rcParams[\"figure.figsize\"] = [7.00, 3.50]\n",
    "plt.rcParams[\"figure.autolayout\"] = True\n",
    "fig, axs = plt.subplots(1, 1)\n",
    "data = cell_text_rouge\n",
    "columns = column_headers[1]\n",
    "rows = row_headers[1]\n",
    "axs.axis('tight')\n",
    "axs.axis('off')\n",
    "the_table = axs.table(cellText=data, \n",
    "                      colLabels=columns,\n",
    "                      rowLabels=rows,\n",
    "                      rowColours = rcolors,\n",
    "                      colColours = ccolors,\n",
    "                      loc='center')\n",
    "plt.title('ROUGE SCORE EVALUATION')\n",
    "plt.show()"
   ]
  }
 ],
 "metadata": {
  "colab": {
   "name": "Copy of summaryevaluation.ipynb",
   "provenance": []
  },
  "kernelspec": {
   "display_name": "Python 3 (ipykernel)",
   "language": "python",
   "name": "python3"
  },
  "language_info": {
   "codemirror_mode": {
    "name": "ipython",
    "version": 3
   },
   "file_extension": ".py",
   "mimetype": "text/x-python",
   "name": "python",
   "nbconvert_exporter": "python",
   "pygments_lexer": "ipython3",
   "version": "3.7.6"
  },
  "widgets": {
   "application/vnd.jupyter.widget-state+json": {
    "061404fee7804ff5ae0deb82d611b0d1": {
     "model_module": "@jupyter-widgets/controls",
     "model_module_version": "1.5.0",
     "model_name": "HBoxModel",
     "state": {
      "_dom_classes": [],
      "_model_module": "@jupyter-widgets/controls",
      "_model_module_version": "1.5.0",
      "_model_name": "HBoxModel",
      "_view_count": null,
      "_view_module": "@jupyter-widgets/controls",
      "_view_module_version": "1.5.0",
      "_view_name": "HBoxView",
      "box_style": "",
      "children": [
       "IPY_MODEL_557582503c524584b37f78b44326f80c",
       "IPY_MODEL_0cd3bc6ecb5b454195bcfb88db6d2490",
       "IPY_MODEL_db445c391ac34a1a8c7aea3ee46ddc4e"
      ],
      "layout": "IPY_MODEL_dd431a8caf864384a274f13e007d2791"
     }
    },
    "0cc61fde9b8742cca5f9fc551147b540": {
     "model_module": "@jupyter-widgets/controls",
     "model_module_version": "1.5.0",
     "model_name": "DescriptionStyleModel",
     "state": {
      "_model_module": "@jupyter-widgets/controls",
      "_model_module_version": "1.5.0",
      "_model_name": "DescriptionStyleModel",
      "_view_count": null,
      "_view_module": "@jupyter-widgets/base",
      "_view_module_version": "1.2.0",
      "_view_name": "StyleView",
      "description_width": ""
     }
    },
    "0cd3bc6ecb5b454195bcfb88db6d2490": {
     "model_module": "@jupyter-widgets/controls",
     "model_module_version": "1.5.0",
     "model_name": "FloatProgressModel",
     "state": {
      "_dom_classes": [],
      "_model_module": "@jupyter-widgets/controls",
      "_model_module_version": "1.5.0",
      "_model_name": "FloatProgressModel",
      "_view_count": null,
      "_view_module": "@jupyter-widgets/controls",
      "_view_module_version": "1.5.0",
      "_view_name": "ProgressView",
      "bar_style": "success",
      "description": "",
      "description_tooltip": null,
      "layout": "IPY_MODEL_64fbe859b12742bcae3f2a28bcfad0af",
      "max": 1080,
      "min": 0,
      "orientation": "horizontal",
      "style": "IPY_MODEL_7f2303579c2045139bae329e21ae6c36",
      "value": 1080
     }
    },
    "0ecfe6ad5f084bf8b40511b7c6b90046": {
     "model_module": "@jupyter-widgets/controls",
     "model_module_version": "1.5.0",
     "model_name": "DescriptionStyleModel",
     "state": {
      "_model_module": "@jupyter-widgets/controls",
      "_model_module_version": "1.5.0",
      "_model_name": "DescriptionStyleModel",
      "_view_count": null,
      "_view_module": "@jupyter-widgets/base",
      "_view_module_version": "1.2.0",
      "_view_name": "StyleView",
      "description_width": ""
     }
    },
    "0f05375df92947289ec08dd743a822a3": {
     "model_module": "@jupyter-widgets/base",
     "model_module_version": "1.2.0",
     "model_name": "LayoutModel",
     "state": {
      "_model_module": "@jupyter-widgets/base",
      "_model_module_version": "1.2.0",
      "_model_name": "LayoutModel",
      "_view_count": null,
      "_view_module": "@jupyter-widgets/base",
      "_view_module_version": "1.2.0",
      "_view_name": "LayoutView",
      "align_content": null,
      "align_items": null,
      "align_self": null,
      "border": null,
      "bottom": null,
      "display": null,
      "flex": null,
      "flex_flow": null,
      "grid_area": null,
      "grid_auto_columns": null,
      "grid_auto_flow": null,
      "grid_auto_rows": null,
      "grid_column": null,
      "grid_gap": null,
      "grid_row": null,
      "grid_template_areas": null,
      "grid_template_columns": null,
      "grid_template_rows": null,
      "height": null,
      "justify_content": null,
      "justify_items": null,
      "left": null,
      "margin": null,
      "max_height": null,
      "max_width": null,
      "min_height": null,
      "min_width": null,
      "object_fit": null,
      "object_position": null,
      "order": null,
      "overflow": null,
      "overflow_x": null,
      "overflow_y": null,
      "padding": null,
      "right": null,
      "top": null,
      "visibility": null,
      "width": null
     }
    },
    "1970e9e8c8f2485887a1c1730ecf59df": {
     "model_module": "@jupyter-widgets/controls",
     "model_module_version": "1.5.0",
     "model_name": "DescriptionStyleModel",
     "state": {
      "_model_module": "@jupyter-widgets/controls",
      "_model_module_version": "1.5.0",
      "_model_name": "DescriptionStyleModel",
      "_view_count": null,
      "_view_module": "@jupyter-widgets/base",
      "_view_module_version": "1.2.0",
      "_view_name": "StyleView",
      "description_width": ""
     }
    },
    "29239f1b0cfb417fb3f8dc9e75e32934": {
     "model_module": "@jupyter-widgets/controls",
     "model_module_version": "1.5.0",
     "model_name": "HTMLModel",
     "state": {
      "_dom_classes": [],
      "_model_module": "@jupyter-widgets/controls",
      "_model_module_version": "1.5.0",
      "_model_name": "HTMLModel",
      "_view_count": null,
      "_view_module": "@jupyter-widgets/controls",
      "_view_module_version": "1.5.0",
      "_view_name": "HTMLView",
      "description": "",
      "description_tooltip": null,
      "layout": "IPY_MODEL_6185eed03a644e9ca3be687b057aff6d",
      "placeholder": "​",
      "style": "IPY_MODEL_59d6d6cbbc2343f1b2d1bd92429ffe3a",
      "value": " 287/287 [00:00&lt;00:00, 3.82kB/s]"
     }
    },
    "2963b194f14a4b348d0a026b6e839555": {
     "model_module": "@jupyter-widgets/controls",
     "model_module_version": "1.5.0",
     "model_name": "HBoxModel",
     "state": {
      "_dom_classes": [],
      "_model_module": "@jupyter-widgets/controls",
      "_model_module_version": "1.5.0",
      "_model_name": "HBoxModel",
      "_view_count": null,
      "_view_module": "@jupyter-widgets/controls",
      "_view_module_version": "1.5.0",
      "_view_name": "HBoxView",
      "box_style": "",
      "children": [
       "IPY_MODEL_901ade5b532b46dfa35fb4dcb35171ac",
       "IPY_MODEL_82373c9238f84e378329c557780d2a24",
       "IPY_MODEL_c6fe08e7a3f74c759f805a1354c3e356"
      ],
      "layout": "IPY_MODEL_a7152e5f4c8249a59164023784cd4bbd"
     }
    },
    "2c9bb5fddd0642af9c29291578aa3e20": {
     "model_module": "@jupyter-widgets/base",
     "model_module_version": "1.2.0",
     "model_name": "LayoutModel",
     "state": {
      "_model_module": "@jupyter-widgets/base",
      "_model_module_version": "1.2.0",
      "_model_name": "LayoutModel",
      "_view_count": null,
      "_view_module": "@jupyter-widgets/base",
      "_view_module_version": "1.2.0",
      "_view_name": "LayoutView",
      "align_content": null,
      "align_items": null,
      "align_self": null,
      "border": null,
      "bottom": null,
      "display": null,
      "flex": null,
      "flex_flow": null,
      "grid_area": null,
      "grid_auto_columns": null,
      "grid_auto_flow": null,
      "grid_auto_rows": null,
      "grid_column": null,
      "grid_gap": null,
      "grid_row": null,
      "grid_template_areas": null,
      "grid_template_columns": null,
      "grid_template_rows": null,
      "height": null,
      "justify_content": null,
      "justify_items": null,
      "left": null,
      "margin": null,
      "max_height": null,
      "max_width": null,
      "min_height": null,
      "min_width": null,
      "object_fit": null,
      "object_position": null,
      "order": null,
      "overflow": null,
      "overflow_x": null,
      "overflow_y": null,
      "padding": null,
      "right": null,
      "top": null,
      "visibility": null,
      "width": null
     }
    },
    "33e17850dbfb4dc9a3ab5f73ce027dec": {
     "model_module": "@jupyter-widgets/controls",
     "model_module_version": "1.5.0",
     "model_name": "HTMLModel",
     "state": {
      "_dom_classes": [],
      "_model_module": "@jupyter-widgets/controls",
      "_model_module_version": "1.5.0",
      "_model_name": "HTMLModel",
      "_view_count": null,
      "_view_module": "@jupyter-widgets/controls",
      "_view_module_version": "1.5.0",
      "_view_name": "HTMLView",
      "description": "",
      "description_tooltip": null,
      "layout": "IPY_MODEL_4d154548553d45eab4feed3eac636872",
      "placeholder": "​",
      "style": "IPY_MODEL_0ecfe6ad5f084bf8b40511b7c6b90046",
      "value": "Downloading: 100%"
     }
    },
    "41c219d05f9e4709889d81a1cfe3fd4a": {
     "model_module": "@jupyter-widgets/controls",
     "model_module_version": "1.5.0",
     "model_name": "ProgressStyleModel",
     "state": {
      "_model_module": "@jupyter-widgets/controls",
      "_model_module_version": "1.5.0",
      "_model_name": "ProgressStyleModel",
      "_view_count": null,
      "_view_module": "@jupyter-widgets/base",
      "_view_module_version": "1.2.0",
      "_view_name": "StyleView",
      "bar_color": null,
      "description_width": ""
     }
    },
    "42baad1760fb4dd0bdb417b6af229cbf": {
     "model_module": "@jupyter-widgets/controls",
     "model_module_version": "1.5.0",
     "model_name": "ProgressStyleModel",
     "state": {
      "_model_module": "@jupyter-widgets/controls",
      "_model_module_version": "1.5.0",
      "_model_name": "ProgressStyleModel",
      "_view_count": null,
      "_view_module": "@jupyter-widgets/base",
      "_view_module_version": "1.2.0",
      "_view_name": "StyleView",
      "bar_color": null,
      "description_width": ""
     }
    },
    "43228a8080104d09bc0d2276f69b4f4e": {
     "model_module": "@jupyter-widgets/base",
     "model_module_version": "1.2.0",
     "model_name": "LayoutModel",
     "state": {
      "_model_module": "@jupyter-widgets/base",
      "_model_module_version": "1.2.0",
      "_model_name": "LayoutModel",
      "_view_count": null,
      "_view_module": "@jupyter-widgets/base",
      "_view_module_version": "1.2.0",
      "_view_name": "LayoutView",
      "align_content": null,
      "align_items": null,
      "align_self": null,
      "border": null,
      "bottom": null,
      "display": null,
      "flex": null,
      "flex_flow": null,
      "grid_area": null,
      "grid_auto_columns": null,
      "grid_auto_flow": null,
      "grid_auto_rows": null,
      "grid_column": null,
      "grid_gap": null,
      "grid_row": null,
      "grid_template_areas": null,
      "grid_template_columns": null,
      "grid_template_rows": null,
      "height": null,
      "justify_content": null,
      "justify_items": null,
      "left": null,
      "margin": null,
      "max_height": null,
      "max_width": null,
      "min_height": null,
      "min_width": null,
      "object_fit": null,
      "object_position": null,
      "order": null,
      "overflow": null,
      "overflow_x": null,
      "overflow_y": null,
      "padding": null,
      "right": null,
      "top": null,
      "visibility": null,
      "width": null
     }
    },
    "4831347bcd3c4a228e5f4df844305b1e": {
     "model_module": "@jupyter-widgets/controls",
     "model_module_version": "1.5.0",
     "model_name": "FloatProgressModel",
     "state": {
      "_dom_classes": [],
      "_model_module": "@jupyter-widgets/controls",
      "_model_module_version": "1.5.0",
      "_model_name": "FloatProgressModel",
      "_view_count": null,
      "_view_module": "@jupyter-widgets/controls",
      "_view_module_version": "1.5.0",
      "_view_name": "ProgressView",
      "bar_style": "success",
      "description": "",
      "description_tooltip": null,
      "layout": "IPY_MODEL_d8702cc18b0a46ad822529835f7585df",
      "max": 3468710848,
      "min": 0,
      "orientation": "horizontal",
      "style": "IPY_MODEL_41c219d05f9e4709889d81a1cfe3fd4a",
      "value": 3468710848
     }
    },
    "4d154548553d45eab4feed3eac636872": {
     "model_module": "@jupyter-widgets/base",
     "model_module_version": "1.2.0",
     "model_name": "LayoutModel",
     "state": {
      "_model_module": "@jupyter-widgets/base",
      "_model_module_version": "1.2.0",
      "_model_name": "LayoutModel",
      "_view_count": null,
      "_view_module": "@jupyter-widgets/base",
      "_view_module_version": "1.2.0",
      "_view_name": "LayoutView",
      "align_content": null,
      "align_items": null,
      "align_self": null,
      "border": null,
      "bottom": null,
      "display": null,
      "flex": null,
      "flex_flow": null,
      "grid_area": null,
      "grid_auto_columns": null,
      "grid_auto_flow": null,
      "grid_auto_rows": null,
      "grid_column": null,
      "grid_gap": null,
      "grid_row": null,
      "grid_template_areas": null,
      "grid_template_columns": null,
      "grid_template_rows": null,
      "height": null,
      "justify_content": null,
      "justify_items": null,
      "left": null,
      "margin": null,
      "max_height": null,
      "max_width": null,
      "min_height": null,
      "min_width": null,
      "object_fit": null,
      "object_position": null,
      "order": null,
      "overflow": null,
      "overflow_x": null,
      "overflow_y": null,
      "padding": null,
      "right": null,
      "top": null,
      "visibility": null,
      "width": null
     }
    },
    "556bf52f875e4a2f8d27802f04091058": {
     "model_module": "@jupyter-widgets/base",
     "model_module_version": "1.2.0",
     "model_name": "LayoutModel",
     "state": {
      "_model_module": "@jupyter-widgets/base",
      "_model_module_version": "1.2.0",
      "_model_name": "LayoutModel",
      "_view_count": null,
      "_view_module": "@jupyter-widgets/base",
      "_view_module_version": "1.2.0",
      "_view_name": "LayoutView",
      "align_content": null,
      "align_items": null,
      "align_self": null,
      "border": null,
      "bottom": null,
      "display": null,
      "flex": null,
      "flex_flow": null,
      "grid_area": null,
      "grid_auto_columns": null,
      "grid_auto_flow": null,
      "grid_auto_rows": null,
      "grid_column": null,
      "grid_gap": null,
      "grid_row": null,
      "grid_template_areas": null,
      "grid_template_columns": null,
      "grid_template_rows": null,
      "height": null,
      "justify_content": null,
      "justify_items": null,
      "left": null,
      "margin": null,
      "max_height": null,
      "max_width": null,
      "min_height": null,
      "min_width": null,
      "object_fit": null,
      "object_position": null,
      "order": null,
      "overflow": null,
      "overflow_x": null,
      "overflow_y": null,
      "padding": null,
      "right": null,
      "top": null,
      "visibility": null,
      "width": null
     }
    },
    "557582503c524584b37f78b44326f80c": {
     "model_module": "@jupyter-widgets/controls",
     "model_module_version": "1.5.0",
     "model_name": "HTMLModel",
     "state": {
      "_dom_classes": [],
      "_model_module": "@jupyter-widgets/controls",
      "_model_module_version": "1.5.0",
      "_model_name": "HTMLModel",
      "_view_count": null,
      "_view_module": "@jupyter-widgets/controls",
      "_view_module_version": "1.5.0",
      "_view_name": "HTMLView",
      "description": "",
      "description_tooltip": null,
      "layout": "IPY_MODEL_0f05375df92947289ec08dd743a822a3",
      "placeholder": "​",
      "style": "IPY_MODEL_725db9782def4fd58ef7754da3864728",
      "value": "Downloading: 100%"
     }
    },
    "59d6d6cbbc2343f1b2d1bd92429ffe3a": {
     "model_module": "@jupyter-widgets/controls",
     "model_module_version": "1.5.0",
     "model_name": "DescriptionStyleModel",
     "state": {
      "_model_module": "@jupyter-widgets/controls",
      "_model_module_version": "1.5.0",
      "_model_name": "DescriptionStyleModel",
      "_view_count": null,
      "_view_module": "@jupyter-widgets/base",
      "_view_module_version": "1.2.0",
      "_view_name": "StyleView",
      "description_width": ""
     }
    },
    "5fa8b2bf25214297b4c506ebd6861997": {
     "model_module": "@jupyter-widgets/controls",
     "model_module_version": "1.5.0",
     "model_name": "DescriptionStyleModel",
     "state": {
      "_model_module": "@jupyter-widgets/controls",
      "_model_module_version": "1.5.0",
      "_model_name": "DescriptionStyleModel",
      "_view_count": null,
      "_view_module": "@jupyter-widgets/base",
      "_view_module_version": "1.2.0",
      "_view_name": "StyleView",
      "description_width": ""
     }
    },
    "6185eed03a644e9ca3be687b057aff6d": {
     "model_module": "@jupyter-widgets/base",
     "model_module_version": "1.2.0",
     "model_name": "LayoutModel",
     "state": {
      "_model_module": "@jupyter-widgets/base",
      "_model_module_version": "1.2.0",
      "_model_name": "LayoutModel",
      "_view_count": null,
      "_view_module": "@jupyter-widgets/base",
      "_view_module_version": "1.2.0",
      "_view_name": "LayoutView",
      "align_content": null,
      "align_items": null,
      "align_self": null,
      "border": null,
      "bottom": null,
      "display": null,
      "flex": null,
      "flex_flow": null,
      "grid_area": null,
      "grid_auto_columns": null,
      "grid_auto_flow": null,
      "grid_auto_rows": null,
      "grid_column": null,
      "grid_gap": null,
      "grid_row": null,
      "grid_template_areas": null,
      "grid_template_columns": null,
      "grid_template_rows": null,
      "height": null,
      "justify_content": null,
      "justify_items": null,
      "left": null,
      "margin": null,
      "max_height": null,
      "max_width": null,
      "min_height": null,
      "min_width": null,
      "object_fit": null,
      "object_position": null,
      "order": null,
      "overflow": null,
      "overflow_x": null,
      "overflow_y": null,
      "padding": null,
      "right": null,
      "top": null,
      "visibility": null,
      "width": null
     }
    },
    "64fbe859b12742bcae3f2a28bcfad0af": {
     "model_module": "@jupyter-widgets/base",
     "model_module_version": "1.2.0",
     "model_name": "LayoutModel",
     "state": {
      "_model_module": "@jupyter-widgets/base",
      "_model_module_version": "1.2.0",
      "_model_name": "LayoutModel",
      "_view_count": null,
      "_view_module": "@jupyter-widgets/base",
      "_view_module_version": "1.2.0",
      "_view_name": "LayoutView",
      "align_content": null,
      "align_items": null,
      "align_self": null,
      "border": null,
      "bottom": null,
      "display": null,
      "flex": null,
      "flex_flow": null,
      "grid_area": null,
      "grid_auto_columns": null,
      "grid_auto_flow": null,
      "grid_auto_rows": null,
      "grid_column": null,
      "grid_gap": null,
      "grid_row": null,
      "grid_template_areas": null,
      "grid_template_columns": null,
      "grid_template_rows": null,
      "height": null,
      "justify_content": null,
      "justify_items": null,
      "left": null,
      "margin": null,
      "max_height": null,
      "max_width": null,
      "min_height": null,
      "min_width": null,
      "object_fit": null,
      "object_position": null,
      "order": null,
      "overflow": null,
      "overflow_x": null,
      "overflow_y": null,
      "padding": null,
      "right": null,
      "top": null,
      "visibility": null,
      "width": null
     }
    },
    "6832dd3016b14a2ebff86bfe58c361c3": {
     "model_module": "@jupyter-widgets/controls",
     "model_module_version": "1.5.0",
     "model_name": "DescriptionStyleModel",
     "state": {
      "_model_module": "@jupyter-widgets/controls",
      "_model_module_version": "1.5.0",
      "_model_name": "DescriptionStyleModel",
      "_view_count": null,
      "_view_module": "@jupyter-widgets/base",
      "_view_module_version": "1.2.0",
      "_view_name": "StyleView",
      "description_width": ""
     }
    },
    "69c19399345e470bbef959968eee9205": {
     "model_module": "@jupyter-widgets/base",
     "model_module_version": "1.2.0",
     "model_name": "LayoutModel",
     "state": {
      "_model_module": "@jupyter-widgets/base",
      "_model_module_version": "1.2.0",
      "_model_name": "LayoutModel",
      "_view_count": null,
      "_view_module": "@jupyter-widgets/base",
      "_view_module_version": "1.2.0",
      "_view_name": "LayoutView",
      "align_content": null,
      "align_items": null,
      "align_self": null,
      "border": null,
      "bottom": null,
      "display": null,
      "flex": null,
      "flex_flow": null,
      "grid_area": null,
      "grid_auto_columns": null,
      "grid_auto_flow": null,
      "grid_auto_rows": null,
      "grid_column": null,
      "grid_gap": null,
      "grid_row": null,
      "grid_template_areas": null,
      "grid_template_columns": null,
      "grid_template_rows": null,
      "height": null,
      "justify_content": null,
      "justify_items": null,
      "left": null,
      "margin": null,
      "max_height": null,
      "max_width": null,
      "min_height": null,
      "min_width": null,
      "object_fit": null,
      "object_position": null,
      "order": null,
      "overflow": null,
      "overflow_x": null,
      "overflow_y": null,
      "padding": null,
      "right": null,
      "top": null,
      "visibility": null,
      "width": null
     }
    },
    "6ec4116f5d6d4d8698f9d2888a9116f2": {
     "model_module": "@jupyter-widgets/controls",
     "model_module_version": "1.5.0",
     "model_name": "ProgressStyleModel",
     "state": {
      "_model_module": "@jupyter-widgets/controls",
      "_model_module_version": "1.5.0",
      "_model_name": "ProgressStyleModel",
      "_view_count": null,
      "_view_module": "@jupyter-widgets/base",
      "_view_module_version": "1.2.0",
      "_view_name": "StyleView",
      "bar_color": null,
      "description_width": ""
     }
    },
    "725db9782def4fd58ef7754da3864728": {
     "model_module": "@jupyter-widgets/controls",
     "model_module_version": "1.5.0",
     "model_name": "DescriptionStyleModel",
     "state": {
      "_model_module": "@jupyter-widgets/controls",
      "_model_module_version": "1.5.0",
      "_model_name": "DescriptionStyleModel",
      "_view_count": null,
      "_view_module": "@jupyter-widgets/base",
      "_view_module_version": "1.2.0",
      "_view_name": "StyleView",
      "description_width": ""
     }
    },
    "791bcfa329294ddb83909edba6602892": {
     "model_module": "@jupyter-widgets/controls",
     "model_module_version": "1.5.0",
     "model_name": "HBoxModel",
     "state": {
      "_dom_classes": [],
      "_model_module": "@jupyter-widgets/controls",
      "_model_module_version": "1.5.0",
      "_model_name": "HBoxModel",
      "_view_count": null,
      "_view_module": "@jupyter-widgets/controls",
      "_view_module_version": "1.5.0",
      "_view_name": "HBoxView",
      "box_style": "",
      "children": [
       "IPY_MODEL_33e17850dbfb4dc9a3ab5f73ce027dec",
       "IPY_MODEL_4831347bcd3c4a228e5f4df844305b1e",
       "IPY_MODEL_af618fe7dac24aac82c509199a95d19f"
      ],
      "layout": "IPY_MODEL_abfd6cdeb4fc4a6086d74c3a6e4848ba"
     }
    },
    "7d2b8d5c46c54e65baed08c7119d28cf": {
     "model_module": "@jupyter-widgets/controls",
     "model_module_version": "1.5.0",
     "model_name": "HTMLModel",
     "state": {
      "_dom_classes": [],
      "_model_module": "@jupyter-widgets/controls",
      "_model_module_version": "1.5.0",
      "_model_name": "HTMLModel",
      "_view_count": null,
      "_view_module": "@jupyter-widgets/controls",
      "_view_module_version": "1.5.0",
      "_view_name": "HTMLView",
      "description": "",
      "description_tooltip": null,
      "layout": "IPY_MODEL_f005c55db2bc4dfba47f0c7691336716",
      "placeholder": "​",
      "style": "IPY_MODEL_af1b0350e60b4654bcfb6cdeda3446f1",
      "value": "Downloading: 100%"
     }
    },
    "7f2303579c2045139bae329e21ae6c36": {
     "model_module": "@jupyter-widgets/controls",
     "model_module_version": "1.5.0",
     "model_name": "ProgressStyleModel",
     "state": {
      "_model_module": "@jupyter-widgets/controls",
      "_model_module_version": "1.5.0",
      "_model_name": "ProgressStyleModel",
      "_view_count": null,
      "_view_module": "@jupyter-widgets/base",
      "_view_module_version": "1.2.0",
      "_view_name": "StyleView",
      "bar_color": null,
      "description_width": ""
     }
    },
    "8041a07dacd348549173be034a74bdb9": {
     "model_module": "@jupyter-widgets/controls",
     "model_module_version": "1.5.0",
     "model_name": "HTMLModel",
     "state": {
      "_dom_classes": [],
      "_model_module": "@jupyter-widgets/controls",
      "_model_module_version": "1.5.0",
      "_model_name": "HTMLModel",
      "_view_count": null,
      "_view_module": "@jupyter-widgets/controls",
      "_view_module_version": "1.5.0",
      "_view_name": "HTMLView",
      "description": "",
      "description_tooltip": null,
      "layout": "IPY_MODEL_adf31d1e574f48f7b081babc665ef767",
      "placeholder": "​",
      "style": "IPY_MODEL_0cc61fde9b8742cca5f9fc551147b540",
      "value": "Downloading: 100%"
     }
    },
    "82373c9238f84e378329c557780d2a24": {
     "model_module": "@jupyter-widgets/controls",
     "model_module_version": "1.5.0",
     "model_name": "FloatProgressModel",
     "state": {
      "_dom_classes": [],
      "_model_module": "@jupyter-widgets/controls",
      "_model_module_version": "1.5.0",
      "_model_name": "FloatProgressModel",
      "_view_count": null,
      "_view_module": "@jupyter-widgets/controls",
      "_view_module_version": "1.5.0",
      "_view_name": "ProgressView",
      "bar_style": "success",
      "description": "",
      "description_tooltip": null,
      "layout": "IPY_MODEL_556bf52f875e4a2f8d27802f04091058",
      "max": 5069051,
      "min": 0,
      "orientation": "horizontal",
      "style": "IPY_MODEL_6ec4116f5d6d4d8698f9d2888a9116f2",
      "value": 5069051
     }
    },
    "901ade5b532b46dfa35fb4dcb35171ac": {
     "model_module": "@jupyter-widgets/controls",
     "model_module_version": "1.5.0",
     "model_name": "HTMLModel",
     "state": {
      "_dom_classes": [],
      "_model_module": "@jupyter-widgets/controls",
      "_model_module_version": "1.5.0",
      "_model_name": "HTMLModel",
      "_view_count": null,
      "_view_module": "@jupyter-widgets/controls",
      "_view_module_version": "1.5.0",
      "_view_name": "HTMLView",
      "description": "",
      "description_tooltip": null,
      "layout": "IPY_MODEL_43228a8080104d09bc0d2276f69b4f4e",
      "placeholder": "​",
      "style": "IPY_MODEL_5fa8b2bf25214297b4c506ebd6861997",
      "value": "Downloading: 100%"
     }
    },
    "a35a1d52c141476a942ca333cdd4f394": {
     "model_module": "@jupyter-widgets/controls",
     "model_module_version": "1.5.0",
     "model_name": "FloatProgressModel",
     "state": {
      "_dom_classes": [],
      "_model_module": "@jupyter-widgets/controls",
      "_model_module_version": "1.5.0",
      "_model_name": "FloatProgressModel",
      "_view_count": null,
      "_view_module": "@jupyter-widgets/controls",
      "_view_module_version": "1.5.0",
      "_view_name": "ProgressView",
      "bar_style": "success",
      "description": "",
      "description_tooltip": null,
      "layout": "IPY_MODEL_c7ca617b60a64947ac7629152606a068",
      "max": 287,
      "min": 0,
      "orientation": "horizontal",
      "style": "IPY_MODEL_ec89cca7d3cb4b9a8ec1c3d93a08bec7",
      "value": 287
     }
    },
    "a7152e5f4c8249a59164023784cd4bbd": {
     "model_module": "@jupyter-widgets/base",
     "model_module_version": "1.2.0",
     "model_name": "LayoutModel",
     "state": {
      "_model_module": "@jupyter-widgets/base",
      "_model_module_version": "1.2.0",
      "_model_name": "LayoutModel",
      "_view_count": null,
      "_view_module": "@jupyter-widgets/base",
      "_view_module_version": "1.2.0",
      "_view_name": "LayoutView",
      "align_content": null,
      "align_items": null,
      "align_self": null,
      "border": null,
      "bottom": null,
      "display": null,
      "flex": null,
      "flex_flow": null,
      "grid_area": null,
      "grid_auto_columns": null,
      "grid_auto_flow": null,
      "grid_auto_rows": null,
      "grid_column": null,
      "grid_gap": null,
      "grid_row": null,
      "grid_template_areas": null,
      "grid_template_columns": null,
      "grid_template_rows": null,
      "height": null,
      "justify_content": null,
      "justify_items": null,
      "left": null,
      "margin": null,
      "max_height": null,
      "max_width": null,
      "min_height": null,
      "min_width": null,
      "object_fit": null,
      "object_position": null,
      "order": null,
      "overflow": null,
      "overflow_x": null,
      "overflow_y": null,
      "padding": null,
      "right": null,
      "top": null,
      "visibility": null,
      "width": null
     }
    },
    "abfd6cdeb4fc4a6086d74c3a6e4848ba": {
     "model_module": "@jupyter-widgets/base",
     "model_module_version": "1.2.0",
     "model_name": "LayoutModel",
     "state": {
      "_model_module": "@jupyter-widgets/base",
      "_model_module_version": "1.2.0",
      "_model_name": "LayoutModel",
      "_view_count": null,
      "_view_module": "@jupyter-widgets/base",
      "_view_module_version": "1.2.0",
      "_view_name": "LayoutView",
      "align_content": null,
      "align_items": null,
      "align_self": null,
      "border": null,
      "bottom": null,
      "display": null,
      "flex": null,
      "flex_flow": null,
      "grid_area": null,
      "grid_auto_columns": null,
      "grid_auto_flow": null,
      "grid_auto_rows": null,
      "grid_column": null,
      "grid_gap": null,
      "grid_row": null,
      "grid_template_areas": null,
      "grid_template_columns": null,
      "grid_template_rows": null,
      "height": null,
      "justify_content": null,
      "justify_items": null,
      "left": null,
      "margin": null,
      "max_height": null,
      "max_width": null,
      "min_height": null,
      "min_width": null,
      "object_fit": null,
      "object_position": null,
      "order": null,
      "overflow": null,
      "overflow_x": null,
      "overflow_y": null,
      "padding": null,
      "right": null,
      "top": null,
      "visibility": null,
      "width": null
     }
    },
    "ad29b2ca64094a8482fb8fbe4211865e": {
     "model_module": "@jupyter-widgets/controls",
     "model_module_version": "1.5.0",
     "model_name": "DescriptionStyleModel",
     "state": {
      "_model_module": "@jupyter-widgets/controls",
      "_model_module_version": "1.5.0",
      "_model_name": "DescriptionStyleModel",
      "_view_count": null,
      "_view_module": "@jupyter-widgets/base",
      "_view_module_version": "1.2.0",
      "_view_name": "StyleView",
      "description_width": ""
     }
    },
    "adf31d1e574f48f7b081babc665ef767": {
     "model_module": "@jupyter-widgets/base",
     "model_module_version": "1.2.0",
     "model_name": "LayoutModel",
     "state": {
      "_model_module": "@jupyter-widgets/base",
      "_model_module_version": "1.2.0",
      "_model_name": "LayoutModel",
      "_view_count": null,
      "_view_module": "@jupyter-widgets/base",
      "_view_module_version": "1.2.0",
      "_view_name": "LayoutView",
      "align_content": null,
      "align_items": null,
      "align_self": null,
      "border": null,
      "bottom": null,
      "display": null,
      "flex": null,
      "flex_flow": null,
      "grid_area": null,
      "grid_auto_columns": null,
      "grid_auto_flow": null,
      "grid_auto_rows": null,
      "grid_column": null,
      "grid_gap": null,
      "grid_row": null,
      "grid_template_areas": null,
      "grid_template_columns": null,
      "grid_template_rows": null,
      "height": null,
      "justify_content": null,
      "justify_items": null,
      "left": null,
      "margin": null,
      "max_height": null,
      "max_width": null,
      "min_height": null,
      "min_width": null,
      "object_fit": null,
      "object_position": null,
      "order": null,
      "overflow": null,
      "overflow_x": null,
      "overflow_y": null,
      "padding": null,
      "right": null,
      "top": null,
      "visibility": null,
      "width": null
     }
    },
    "af1b0350e60b4654bcfb6cdeda3446f1": {
     "model_module": "@jupyter-widgets/controls",
     "model_module_version": "1.5.0",
     "model_name": "DescriptionStyleModel",
     "state": {
      "_model_module": "@jupyter-widgets/controls",
      "_model_module_version": "1.5.0",
      "_model_name": "DescriptionStyleModel",
      "_view_count": null,
      "_view_module": "@jupyter-widgets/base",
      "_view_module_version": "1.2.0",
      "_view_name": "StyleView",
      "description_width": ""
     }
    },
    "af618fe7dac24aac82c509199a95d19f": {
     "model_module": "@jupyter-widgets/controls",
     "model_module_version": "1.5.0",
     "model_name": "HTMLModel",
     "state": {
      "_dom_classes": [],
      "_model_module": "@jupyter-widgets/controls",
      "_model_module_version": "1.5.0",
      "_model_name": "HTMLModel",
      "_view_count": null,
      "_view_module": "@jupyter-widgets/controls",
      "_view_module_version": "1.5.0",
      "_view_name": "HTMLView",
      "description": "",
      "description_tooltip": null,
      "layout": "IPY_MODEL_df6ed46a750546a2956f115745cb1737",
      "placeholder": "​",
      "style": "IPY_MODEL_6832dd3016b14a2ebff86bfe58c361c3",
      "value": " 3.23G/3.23G [01:37&lt;00:00, 42.3MB/s]"
     }
    },
    "b3a385be663f42aa90e26000c70bc354": {
     "model_module": "@jupyter-widgets/controls",
     "model_module_version": "1.5.0",
     "model_name": "DescriptionStyleModel",
     "state": {
      "_model_module": "@jupyter-widgets/controls",
      "_model_module_version": "1.5.0",
      "_model_name": "DescriptionStyleModel",
      "_view_count": null,
      "_view_module": "@jupyter-widgets/base",
      "_view_module_version": "1.2.0",
      "_view_name": "StyleView",
      "description_width": ""
     }
    },
    "bb94ea3ae02b44678df5d9d28aa197e0": {
     "model_module": "@jupyter-widgets/controls",
     "model_module_version": "1.5.0",
     "model_name": "HTMLModel",
     "state": {
      "_dom_classes": [],
      "_model_module": "@jupyter-widgets/controls",
      "_model_module_version": "1.5.0",
      "_model_name": "HTMLModel",
      "_view_count": null,
      "_view_module": "@jupyter-widgets/controls",
      "_view_module_version": "1.5.0",
      "_view_name": "HTMLView",
      "description": "",
      "description_tooltip": null,
      "layout": "IPY_MODEL_69c19399345e470bbef959968eee9205",
      "placeholder": "​",
      "style": "IPY_MODEL_ad29b2ca64094a8482fb8fbe4211865e",
      "value": " 406/406 [00:00&lt;00:00, 9.11kB/s]"
     }
    },
    "bd31d67f8601470eb4854ca21f964b14": {
     "model_module": "@jupyter-widgets/base",
     "model_module_version": "1.2.0",
     "model_name": "LayoutModel",
     "state": {
      "_model_module": "@jupyter-widgets/base",
      "_model_module_version": "1.2.0",
      "_model_name": "LayoutModel",
      "_view_count": null,
      "_view_module": "@jupyter-widgets/base",
      "_view_module_version": "1.2.0",
      "_view_name": "LayoutView",
      "align_content": null,
      "align_items": null,
      "align_self": null,
      "border": null,
      "bottom": null,
      "display": null,
      "flex": null,
      "flex_flow": null,
      "grid_area": null,
      "grid_auto_columns": null,
      "grid_auto_flow": null,
      "grid_auto_rows": null,
      "grid_column": null,
      "grid_gap": null,
      "grid_row": null,
      "grid_template_areas": null,
      "grid_template_columns": null,
      "grid_template_rows": null,
      "height": null,
      "justify_content": null,
      "justify_items": null,
      "left": null,
      "margin": null,
      "max_height": null,
      "max_width": null,
      "min_height": null,
      "min_width": null,
      "object_fit": null,
      "object_position": null,
      "order": null,
      "overflow": null,
      "overflow_x": null,
      "overflow_y": null,
      "padding": null,
      "right": null,
      "top": null,
      "visibility": null,
      "width": null
     }
    },
    "bd6343ba67334f3da8f4099ff313752e": {
     "model_module": "@jupyter-widgets/base",
     "model_module_version": "1.2.0",
     "model_name": "LayoutModel",
     "state": {
      "_model_module": "@jupyter-widgets/base",
      "_model_module_version": "1.2.0",
      "_model_name": "LayoutModel",
      "_view_count": null,
      "_view_module": "@jupyter-widgets/base",
      "_view_module_version": "1.2.0",
      "_view_name": "LayoutView",
      "align_content": null,
      "align_items": null,
      "align_self": null,
      "border": null,
      "bottom": null,
      "display": null,
      "flex": null,
      "flex_flow": null,
      "grid_area": null,
      "grid_auto_columns": null,
      "grid_auto_flow": null,
      "grid_auto_rows": null,
      "grid_column": null,
      "grid_gap": null,
      "grid_row": null,
      "grid_template_areas": null,
      "grid_template_columns": null,
      "grid_template_rows": null,
      "height": null,
      "justify_content": null,
      "justify_items": null,
      "left": null,
      "margin": null,
      "max_height": null,
      "max_width": null,
      "min_height": null,
      "min_width": null,
      "object_fit": null,
      "object_position": null,
      "order": null,
      "overflow": null,
      "overflow_x": null,
      "overflow_y": null,
      "padding": null,
      "right": null,
      "top": null,
      "visibility": null,
      "width": null
     }
    },
    "be7bc4495c2649df977c0ecc46616eed": {
     "model_module": "@jupyter-widgets/base",
     "model_module_version": "1.2.0",
     "model_name": "LayoutModel",
     "state": {
      "_model_module": "@jupyter-widgets/base",
      "_model_module_version": "1.2.0",
      "_model_name": "LayoutModel",
      "_view_count": null,
      "_view_module": "@jupyter-widgets/base",
      "_view_module_version": "1.2.0",
      "_view_name": "LayoutView",
      "align_content": null,
      "align_items": null,
      "align_self": null,
      "border": null,
      "bottom": null,
      "display": null,
      "flex": null,
      "flex_flow": null,
      "grid_area": null,
      "grid_auto_columns": null,
      "grid_auto_flow": null,
      "grid_auto_rows": null,
      "grid_column": null,
      "grid_gap": null,
      "grid_row": null,
      "grid_template_areas": null,
      "grid_template_columns": null,
      "grid_template_rows": null,
      "height": null,
      "justify_content": null,
      "justify_items": null,
      "left": null,
      "margin": null,
      "max_height": null,
      "max_width": null,
      "min_height": null,
      "min_width": null,
      "object_fit": null,
      "object_position": null,
      "order": null,
      "overflow": null,
      "overflow_x": null,
      "overflow_y": null,
      "padding": null,
      "right": null,
      "top": null,
      "visibility": null,
      "width": null
     }
    },
    "c6fe08e7a3f74c759f805a1354c3e356": {
     "model_module": "@jupyter-widgets/controls",
     "model_module_version": "1.5.0",
     "model_name": "HTMLModel",
     "state": {
      "_dom_classes": [],
      "_model_module": "@jupyter-widgets/controls",
      "_model_module_version": "1.5.0",
      "_model_name": "HTMLModel",
      "_view_count": null,
      "_view_module": "@jupyter-widgets/controls",
      "_view_module_version": "1.5.0",
      "_view_name": "HTMLView",
      "description": "",
      "description_tooltip": null,
      "layout": "IPY_MODEL_bd6343ba67334f3da8f4099ff313752e",
      "placeholder": "​",
      "style": "IPY_MODEL_b3a385be663f42aa90e26000c70bc354",
      "value": " 4.83M/4.83M [00:00&lt;00:00, 19.5MB/s]"
     }
    },
    "c7ca617b60a64947ac7629152606a068": {
     "model_module": "@jupyter-widgets/base",
     "model_module_version": "1.2.0",
     "model_name": "LayoutModel",
     "state": {
      "_model_module": "@jupyter-widgets/base",
      "_model_module_version": "1.2.0",
      "_model_name": "LayoutModel",
      "_view_count": null,
      "_view_module": "@jupyter-widgets/base",
      "_view_module_version": "1.2.0",
      "_view_name": "LayoutView",
      "align_content": null,
      "align_items": null,
      "align_self": null,
      "border": null,
      "bottom": null,
      "display": null,
      "flex": null,
      "flex_flow": null,
      "grid_area": null,
      "grid_auto_columns": null,
      "grid_auto_flow": null,
      "grid_auto_rows": null,
      "grid_column": null,
      "grid_gap": null,
      "grid_row": null,
      "grid_template_areas": null,
      "grid_template_columns": null,
      "grid_template_rows": null,
      "height": null,
      "justify_content": null,
      "justify_items": null,
      "left": null,
      "margin": null,
      "max_height": null,
      "max_width": null,
      "min_height": null,
      "min_width": null,
      "object_fit": null,
      "object_position": null,
      "order": null,
      "overflow": null,
      "overflow_x": null,
      "overflow_y": null,
      "padding": null,
      "right": null,
      "top": null,
      "visibility": null,
      "width": null
     }
    },
    "d611c4a3aa08450189f8bb28ae10551c": {
     "model_module": "@jupyter-widgets/controls",
     "model_module_version": "1.5.0",
     "model_name": "HBoxModel",
     "state": {
      "_dom_classes": [],
      "_model_module": "@jupyter-widgets/controls",
      "_model_module_version": "1.5.0",
      "_model_name": "HBoxModel",
      "_view_count": null,
      "_view_module": "@jupyter-widgets/controls",
      "_view_module_version": "1.5.0",
      "_view_name": "HBoxView",
      "box_style": "",
      "children": [
       "IPY_MODEL_7d2b8d5c46c54e65baed08c7119d28cf",
       "IPY_MODEL_db6fb2ba2a184cf4934a76009b807bfd",
       "IPY_MODEL_bb94ea3ae02b44678df5d9d28aa197e0"
      ],
      "layout": "IPY_MODEL_fe04f167e44143e09a71f402f73f68b8"
     }
    },
    "d8702cc18b0a46ad822529835f7585df": {
     "model_module": "@jupyter-widgets/base",
     "model_module_version": "1.2.0",
     "model_name": "LayoutModel",
     "state": {
      "_model_module": "@jupyter-widgets/base",
      "_model_module_version": "1.2.0",
      "_model_name": "LayoutModel",
      "_view_count": null,
      "_view_module": "@jupyter-widgets/base",
      "_view_module_version": "1.2.0",
      "_view_name": "LayoutView",
      "align_content": null,
      "align_items": null,
      "align_self": null,
      "border": null,
      "bottom": null,
      "display": null,
      "flex": null,
      "flex_flow": null,
      "grid_area": null,
      "grid_auto_columns": null,
      "grid_auto_flow": null,
      "grid_auto_rows": null,
      "grid_column": null,
      "grid_gap": null,
      "grid_row": null,
      "grid_template_areas": null,
      "grid_template_columns": null,
      "grid_template_rows": null,
      "height": null,
      "justify_content": null,
      "justify_items": null,
      "left": null,
      "margin": null,
      "max_height": null,
      "max_width": null,
      "min_height": null,
      "min_width": null,
      "object_fit": null,
      "object_position": null,
      "order": null,
      "overflow": null,
      "overflow_x": null,
      "overflow_y": null,
      "padding": null,
      "right": null,
      "top": null,
      "visibility": null,
      "width": null
     }
    },
    "db445c391ac34a1a8c7aea3ee46ddc4e": {
     "model_module": "@jupyter-widgets/controls",
     "model_module_version": "1.5.0",
     "model_name": "HTMLModel",
     "state": {
      "_dom_classes": [],
      "_model_module": "@jupyter-widgets/controls",
      "_model_module_version": "1.5.0",
      "_model_name": "HTMLModel",
      "_view_count": null,
      "_view_module": "@jupyter-widgets/controls",
      "_view_module_version": "1.5.0",
      "_view_name": "HTMLView",
      "description": "",
      "description_tooltip": null,
      "layout": "IPY_MODEL_be7bc4495c2649df977c0ecc46616eed",
      "placeholder": "​",
      "style": "IPY_MODEL_1970e9e8c8f2485887a1c1730ecf59df",
      "value": " 1.05k/1.05k [00:00&lt;00:00, 11.9kB/s]"
     }
    },
    "db6fb2ba2a184cf4934a76009b807bfd": {
     "model_module": "@jupyter-widgets/controls",
     "model_module_version": "1.5.0",
     "model_name": "FloatProgressModel",
     "state": {
      "_dom_classes": [],
      "_model_module": "@jupyter-widgets/controls",
      "_model_module_version": "1.5.0",
      "_model_name": "FloatProgressModel",
      "_view_count": null,
      "_view_module": "@jupyter-widgets/controls",
      "_view_module_version": "1.5.0",
      "_view_name": "ProgressView",
      "bar_style": "success",
      "description": "",
      "description_tooltip": null,
      "layout": "IPY_MODEL_bd31d67f8601470eb4854ca21f964b14",
      "max": 406,
      "min": 0,
      "orientation": "horizontal",
      "style": "IPY_MODEL_42baad1760fb4dd0bdb417b6af229cbf",
      "value": 406
     }
    },
    "dd431a8caf864384a274f13e007d2791": {
     "model_module": "@jupyter-widgets/base",
     "model_module_version": "1.2.0",
     "model_name": "LayoutModel",
     "state": {
      "_model_module": "@jupyter-widgets/base",
      "_model_module_version": "1.2.0",
      "_model_name": "LayoutModel",
      "_view_count": null,
      "_view_module": "@jupyter-widgets/base",
      "_view_module_version": "1.2.0",
      "_view_name": "LayoutView",
      "align_content": null,
      "align_items": null,
      "align_self": null,
      "border": null,
      "bottom": null,
      "display": null,
      "flex": null,
      "flex_flow": null,
      "grid_area": null,
      "grid_auto_columns": null,
      "grid_auto_flow": null,
      "grid_auto_rows": null,
      "grid_column": null,
      "grid_gap": null,
      "grid_row": null,
      "grid_template_areas": null,
      "grid_template_columns": null,
      "grid_template_rows": null,
      "height": null,
      "justify_content": null,
      "justify_items": null,
      "left": null,
      "margin": null,
      "max_height": null,
      "max_width": null,
      "min_height": null,
      "min_width": null,
      "object_fit": null,
      "object_position": null,
      "order": null,
      "overflow": null,
      "overflow_x": null,
      "overflow_y": null,
      "padding": null,
      "right": null,
      "top": null,
      "visibility": null,
      "width": null
     }
    },
    "df6ed46a750546a2956f115745cb1737": {
     "model_module": "@jupyter-widgets/base",
     "model_module_version": "1.2.0",
     "model_name": "LayoutModel",
     "state": {
      "_model_module": "@jupyter-widgets/base",
      "_model_module_version": "1.2.0",
      "_model_name": "LayoutModel",
      "_view_count": null,
      "_view_module": "@jupyter-widgets/base",
      "_view_module_version": "1.2.0",
      "_view_name": "LayoutView",
      "align_content": null,
      "align_items": null,
      "align_self": null,
      "border": null,
      "bottom": null,
      "display": null,
      "flex": null,
      "flex_flow": null,
      "grid_area": null,
      "grid_auto_columns": null,
      "grid_auto_flow": null,
      "grid_auto_rows": null,
      "grid_column": null,
      "grid_gap": null,
      "grid_row": null,
      "grid_template_areas": null,
      "grid_template_columns": null,
      "grid_template_rows": null,
      "height": null,
      "justify_content": null,
      "justify_items": null,
      "left": null,
      "margin": null,
      "max_height": null,
      "max_width": null,
      "min_height": null,
      "min_width": null,
      "object_fit": null,
      "object_position": null,
      "order": null,
      "overflow": null,
      "overflow_x": null,
      "overflow_y": null,
      "padding": null,
      "right": null,
      "top": null,
      "visibility": null,
      "width": null
     }
    },
    "e9dd323fdfad4a08a35bf7b712dd1851": {
     "model_module": "@jupyter-widgets/controls",
     "model_module_version": "1.5.0",
     "model_name": "HBoxModel",
     "state": {
      "_dom_classes": [],
      "_model_module": "@jupyter-widgets/controls",
      "_model_module_version": "1.5.0",
      "_model_name": "HBoxModel",
      "_view_count": null,
      "_view_module": "@jupyter-widgets/controls",
      "_view_module_version": "1.5.0",
      "_view_name": "HBoxView",
      "box_style": "",
      "children": [
       "IPY_MODEL_8041a07dacd348549173be034a74bdb9",
       "IPY_MODEL_a35a1d52c141476a942ca333cdd4f394",
       "IPY_MODEL_29239f1b0cfb417fb3f8dc9e75e32934"
      ],
      "layout": "IPY_MODEL_2c9bb5fddd0642af9c29291578aa3e20"
     }
    },
    "ec89cca7d3cb4b9a8ec1c3d93a08bec7": {
     "model_module": "@jupyter-widgets/controls",
     "model_module_version": "1.5.0",
     "model_name": "ProgressStyleModel",
     "state": {
      "_model_module": "@jupyter-widgets/controls",
      "_model_module_version": "1.5.0",
      "_model_name": "ProgressStyleModel",
      "_view_count": null,
      "_view_module": "@jupyter-widgets/base",
      "_view_module_version": "1.2.0",
      "_view_name": "StyleView",
      "bar_color": null,
      "description_width": ""
     }
    },
    "f005c55db2bc4dfba47f0c7691336716": {
     "model_module": "@jupyter-widgets/base",
     "model_module_version": "1.2.0",
     "model_name": "LayoutModel",
     "state": {
      "_model_module": "@jupyter-widgets/base",
      "_model_module_version": "1.2.0",
      "_model_name": "LayoutModel",
      "_view_count": null,
      "_view_module": "@jupyter-widgets/base",
      "_view_module_version": "1.2.0",
      "_view_name": "LayoutView",
      "align_content": null,
      "align_items": null,
      "align_self": null,
      "border": null,
      "bottom": null,
      "display": null,
      "flex": null,
      "flex_flow": null,
      "grid_area": null,
      "grid_auto_columns": null,
      "grid_auto_flow": null,
      "grid_auto_rows": null,
      "grid_column": null,
      "grid_gap": null,
      "grid_row": null,
      "grid_template_areas": null,
      "grid_template_columns": null,
      "grid_template_rows": null,
      "height": null,
      "justify_content": null,
      "justify_items": null,
      "left": null,
      "margin": null,
      "max_height": null,
      "max_width": null,
      "min_height": null,
      "min_width": null,
      "object_fit": null,
      "object_position": null,
      "order": null,
      "overflow": null,
      "overflow_x": null,
      "overflow_y": null,
      "padding": null,
      "right": null,
      "top": null,
      "visibility": null,
      "width": null
     }
    },
    "fe04f167e44143e09a71f402f73f68b8": {
     "model_module": "@jupyter-widgets/base",
     "model_module_version": "1.2.0",
     "model_name": "LayoutModel",
     "state": {
      "_model_module": "@jupyter-widgets/base",
      "_model_module_version": "1.2.0",
      "_model_name": "LayoutModel",
      "_view_count": null,
      "_view_module": "@jupyter-widgets/base",
      "_view_module_version": "1.2.0",
      "_view_name": "LayoutView",
      "align_content": null,
      "align_items": null,
      "align_self": null,
      "border": null,
      "bottom": null,
      "display": null,
      "flex": null,
      "flex_flow": null,
      "grid_area": null,
      "grid_auto_columns": null,
      "grid_auto_flow": null,
      "grid_auto_rows": null,
      "grid_column": null,
      "grid_gap": null,
      "grid_row": null,
      "grid_template_areas": null,
      "grid_template_columns": null,
      "grid_template_rows": null,
      "height": null,
      "justify_content": null,
      "justify_items": null,
      "left": null,
      "margin": null,
      "max_height": null,
      "max_width": null,
      "min_height": null,
      "min_width": null,
      "object_fit": null,
      "object_position": null,
      "order": null,
      "overflow": null,
      "overflow_x": null,
      "overflow_y": null,
      "padding": null,
      "right": null,
      "top": null,
      "visibility": null,
      "width": null
     }
    }
   }
  }
 },
 "nbformat": 4,
 "nbformat_minor": 4
}
